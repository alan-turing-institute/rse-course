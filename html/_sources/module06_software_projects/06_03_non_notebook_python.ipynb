{
 "cells": [
  {
   "cell_type": "markdown",
   "metadata": {},
   "source": [
    "# 6.3 Python outside the notebook"
   ]
  },
  {
   "cell_type": "markdown",
   "metadata": {},
   "source": [
    "*Estimated time for this notebook: 15 minutes*"
   ]
  },
  {
   "cell_type": "markdown",
   "metadata": {},
   "source": [
    "We will often want to save our Python functions and classes, for use in multiple Notebooks or to interact with them via a terminal."
   ]
  },
  {
   "cell_type": "markdown",
   "metadata": {},
   "source": [
    "## Writing Python in Text Files"
   ]
  },
  {
   "cell_type": "markdown",
   "metadata": {},
   "source": [
    "If you create your own Python files ending in `.py`, then you can import them with `import` just like external libraries.\n",
    "\n",
    "It's best to use an editor like [VS Code](https://code.visualstudio.com/) or [PyCharm](https://www.jetbrains.com/pycharm/) to do this. Here we use the `%%writefile` Jupyter \"magic\" to create files from the notebook.\n",
    "\n",
    "Let's create a file `greeter.py` with a function `greet` that prints a welcome message in multiple colours (using the [`colorama`](https://pypi.org/project/colorama/) package):"
   ]
  },
  {
   "cell_type": "code",
   "execution_count": 1,
   "metadata": {},
   "outputs": [
    {
     "name": "stdout",
     "output_type": "stream",
     "text": [
      "Overwriting greeter.py\n"
     ]
    }
   ],
   "source": [
    "%%writefile greeter.py\n",
    "import colorama  # used for creating coloured text\n",
    "\n",
    "\n",
    "def greet(personal, family, title=\"\", polite=False):\n",
    "    greeting = \"How do you do, \" if polite else \"Hey, \"\n",
    "    greeting = colorama.Back.BLACK + colorama.Fore.YELLOW + greeting\n",
    "    if title:\n",
    "        greeting += colorama.Back.BLUE + colorama.Fore.WHITE + title + \" \"\n",
    "\n",
    "    greeting += (\n",
    "        colorama.Back.WHITE\n",
    "        + colorama.Style.BRIGHT\n",
    "        + colorama.Fore.RED\n",
    "        + personal\n",
    "        + \" \"\n",
    "        + family\n",
    "    )\n",
    "    return greeting"
   ]
  },
  {
   "cell_type": "markdown",
   "metadata": {},
   "source": [
    "## Loading Our Function\n",
    "\n",
    "We just wrote the file, there is no `greet` function in this notebook yet:"
   ]
  },
  {
   "cell_type": "code",
   "execution_count": 2,
   "metadata": {
    "tags": [
     "raises-exception"
    ]
   },
   "outputs": [
    {
     "ename": "NameError",
     "evalue": "name 'greet' is not defined",
     "output_type": "error",
     "traceback": [
      "\u001b[0;31m---------------------------------------------------------------------------\u001b[0m",
      "\u001b[0;31mNameError\u001b[0m                                 Traceback (most recent call last)",
      "Input \u001b[0;32mIn [2]\u001b[0m, in \u001b[0;36m<cell line: 1>\u001b[0;34m()\u001b[0m\n\u001b[0;32m----> 1\u001b[0m \u001b[43mgreet\u001b[49m(\u001b[38;5;124m\"\u001b[39m\u001b[38;5;124mJames\u001b[39m\u001b[38;5;124m\"\u001b[39m, \u001b[38;5;124m\"\u001b[39m\u001b[38;5;124mHetherington\u001b[39m\u001b[38;5;124m\"\u001b[39m)\n",
      "\u001b[0;31mNameError\u001b[0m: name 'greet' is not defined"
     ]
    }
   ],
   "source": [
    "greet(\"James\", \"Hetherington\")"
   ]
  },
  {
   "cell_type": "markdown",
   "metadata": {},
   "source": [
    "But we can import the functionality from `greeter.py` file that we created:"
   ]
  },
  {
   "cell_type": "code",
   "execution_count": 3,
   "metadata": {},
   "outputs": [
    {
     "name": "stdout",
     "output_type": "stream",
     "text": [
      "\u001b[40m\u001b[33mHey, \u001b[47m\u001b[1m\u001b[31mJames Hetherington\n"
     ]
    }
   ],
   "source": [
    "import greeter  # note that you don't include the .py extension\n",
    "\n",
    "\n",
    "print(greeter.greet(\"James\", \"Hetherington\"))"
   ]
  },
  {
   "cell_type": "markdown",
   "metadata": {},
   "source": [
    "Or import the function from the file directly:"
   ]
  },
  {
   "cell_type": "code",
   "execution_count": 4,
   "metadata": {},
   "outputs": [
    {
     "name": "stdout",
     "output_type": "stream",
     "text": [
      "\u001b[40m\u001b[33mHey, \u001b[47m\u001b[1m\u001b[31mJames Hetherington\n"
     ]
    }
   ],
   "source": [
    "from greeter import greet\n",
    "\n",
    "\n",
    "print(greet(\"James\", \"Hetherington\"))"
   ]
  },
  {
   "cell_type": "markdown",
   "metadata": {},
   "source": [
    "Note the file we created is in the same directory as this notebook:"
   ]
  },
  {
   "cell_type": "code",
   "execution_count": 5,
   "metadata": {},
   "outputs": [
    {
     "data": {
      "text/plain": [
       "['command.py',\n",
       " 'greeter.py',\n",
       " '06_04_packaging.ipynb',\n",
       " '06_06_software_development.ipynb',\n",
       " '06_09_exercise.ipynb',\n",
       " '06_08_software_issues.ipynb',\n",
       " '06_01_pypi_packages.ipynb',\n",
       " '06_07_software_licensing.ipynb',\n",
       " '06_02_managing_dependencies.ipynb',\n",
       " '06_03_non_notebook_python.ipynb',\n",
       " '06_05_documentation.ipynb',\n",
       " '06_00_libraries.ipynb']"
      ]
     },
     "execution_count": 5,
     "metadata": {},
     "output_type": "execute_result"
    }
   ],
   "source": [
    "# glob is a library for finding files that match given patterns\n",
    "from glob import glob\n",
    "\n",
    "# all files with a .py or .ipynb extension in the current directory\n",
    "glob(\"*.py\") + glob(\"*.ipynb\")"
   ]
  },
  {
   "cell_type": "markdown",
   "metadata": {},
   "source": [
    "Currently we're relying on all the module source code being in our current working directory. We'll want to `import` our modules from notebooks elsewhere on our computer: it would be a bad idea to keep all our Python work in one folder.\n",
    "\n",
    "The best way to do this is to learn how to make our code into a proper module that we can install. We'll see more on that in the next notebook."
   ]
  },
  {
   "cell_type": "markdown",
   "metadata": {},
   "source": [
    "## Command-line Interfaces"
   ]
  },
  {
   "cell_type": "markdown",
   "metadata": {},
   "source": [
    "[argparse](https://docs.python.org/3/library/argparse.html) is the standard Python library for building programs with a command-line interface (another popular library is [click](https://click.palletsprojects.com/en/8.1.x/)).\n",
    "\n",
    "Here's an example that creates a command-line interface to our `greet` function (in a file named `command.py`):"
   ]
  },
  {
   "cell_type": "code",
   "execution_count": 6,
   "metadata": {},
   "outputs": [
    {
     "name": "stdout",
     "output_type": "stream",
     "text": [
      "Overwriting command.py\n"
     ]
    }
   ],
   "source": [
    "%%writefile command.py\n",
    "from argparse import ArgumentParser\n",
    "\n",
    "from greeter import greet\n",
    "\n",
    "\n",
    "def process():\n",
    "    parser = ArgumentParser(description=\"Generate appropriate greetings\")\n",
    "\n",
    "    # required (positional) arguments\n",
    "    parser.add_argument(\"personal\")\n",
    "    parser.add_argument(\"family\")\n",
    "\n",
    "    # optional (keyword) arguments\n",
    "    parser.add_argument(\"--title\", \"-t\")\n",
    "    parser.add_argument(\"--polite\", \"-p\", action=\"store_true\")\n",
    "    #   polite will be false unless \"--polite\" or \"-p\" given at command-line\n",
    "\n",
    "    args = parser.parse_args()\n",
    "\n",
    "    print(greet(args.personal, args.family, args.title, args.polite))\n",
    "\n",
    "\n",
    "if __name__ == \"__main__\":\n",
    "    process()\n"
   ]
  },
  {
   "cell_type": "markdown",
   "metadata": {},
   "source": [
    "We can now run our saved interface with `python command.py` + the arguments we want to specify.\n",
    "\n",
    "`argparse` generates some documentation to help us understand how to use it:"
   ]
  },
  {
   "cell_type": "code",
   "execution_count": 7,
   "metadata": {},
   "outputs": [
    {
     "name": "stdout",
     "output_type": "stream",
     "text": [
      "usage: command.py [-h] [--title TITLE] [--polite] personal family\n",
      "\n",
      "Generate appropriate greetings\n",
      "\n",
      "positional arguments:\n",
      "  personal\n",
      "  family\n",
      "\n",
      "optional arguments:\n",
      "  -h, --help            show this help message and exit\n",
      "  --title TITLE, -t TITLE\n",
      "  --polite, -p\n"
     ]
    }
   ],
   "source": [
    "%%bash\n",
    "python command.py --help"
   ]
  },
  {
   "cell_type": "markdown",
   "metadata": {},
   "source": [
    "A few examples:"
   ]
  },
  {
   "cell_type": "code",
   "execution_count": 8,
   "metadata": {},
   "outputs": [
    {
     "name": "stdout",
     "output_type": "stream",
     "text": [
      "\u001b[40m\u001b[33mHey, \u001b[47m\u001b[1m\u001b[31mJames Hetherington\n"
     ]
    }
   ],
   "source": [
    "%%bash\n",
    "python command.py James Hetherington"
   ]
  },
  {
   "cell_type": "code",
   "execution_count": 9,
   "metadata": {},
   "outputs": [
    {
     "name": "stdout",
     "output_type": "stream",
     "text": [
      "\u001b[40m\u001b[33mHow do you do, \u001b[47m\u001b[1m\u001b[31mJames Hetherington\n"
     ]
    }
   ],
   "source": [
    "%%bash\n",
    "python command.py --polite James Hetherington"
   ]
  },
  {
   "cell_type": "code",
   "execution_count": 10,
   "metadata": {},
   "outputs": [
    {
     "name": "stdout",
     "output_type": "stream",
     "text": [
      "\u001b[40m\u001b[33mHey, \u001b[44m\u001b[37mDr \u001b[47m\u001b[1m\u001b[31mJames Hetherington\n"
     ]
    }
   ],
   "source": [
    "%%bash\n",
    "python command.py James Hetherington --title Dr"
   ]
  },
  {
   "cell_type": "markdown",
   "metadata": {},
   "source": [
    "Having to type `python command.py ...` is not very intuitive, and we're still relying on our files being in the same directory. In the next notebook we'll see a better way to include command-line interfaces as part of a package."
   ]
  },
  {
   "cell_type": "markdown",
   "metadata": {},
   "source": [
    "## `if __name__ == \"__main__\"`\n",
    "\n",
    "In the `command.py` script above you may have noticed the strange `if __name__ == \"__main__\"` line. This is generally used when you have a file that can be used both as a script and as a module in a package.\n",
    "\n",
    "Let's create a simplified version of `greeter.py` that prints the name of the special `__name__` variable when it is called:"
   ]
  },
  {
   "cell_type": "code",
   "execution_count": 11,
   "metadata": {},
   "outputs": [
    {
     "name": "stdout",
     "output_type": "stream",
     "text": [
      "Overwriting greeter.py\n"
     ]
    }
   ],
   "source": [
    "%%writefile greeter.py\n",
    "print(\"executing greeter.py, __name__ is\", __name__)\n",
    "\n",
    "\n",
    "def greet(personal, family):\n",
    "    return \"Hey, \" + personal + \" \" + family\n",
    "\n",
    "\n",
    "if __name__ == \"__main__\":\n",
    "    print(greet(\"Laura\", \"Greeter\"))\n"
   ]
  },
  {
   "cell_type": "markdown",
   "metadata": {},
   "source": [
    "If we invoke `greeter.py` directly, Python sets the value of `__name__` to `\"__main__\"` and the code in the if block runs:"
   ]
  },
  {
   "cell_type": "code",
   "execution_count": 12,
   "metadata": {},
   "outputs": [
    {
     "name": "stdout",
     "output_type": "stream",
     "text": [
      "executing greeter.py, __name__ is __main__\n",
      "Hey, Laura Greeter\n"
     ]
    }
   ],
   "source": [
    "%%bash\n",
    "python greeter.py"
   ]
  },
  {
   "cell_type": "markdown",
   "metadata": {},
   "source": [
    "Now let's create a simplified `command.py` that also prints `__name__`, and imports the `greet` function from `greeter.py` as before:"
   ]
  },
  {
   "cell_type": "code",
   "execution_count": 13,
   "metadata": {},
   "outputs": [
    {
     "name": "stdout",
     "output_type": "stream",
     "text": [
      "Overwriting command.py\n"
     ]
    }
   ],
   "source": [
    "%%writefile command.py\n",
    "print(\"executing command.py, __name__ is\", __name__)\n",
    "\n",
    "from argparse import ArgumentParser\n",
    "from greeter import greet\n",
    "\n",
    "\n",
    "def process():\n",
    "    parser = ArgumentParser(description=\"Generate appropriate greetings\")\n",
    "    parser.add_argument(\"personal\")\n",
    "    parser.add_argument(\"family\")\n",
    "    args = parser.parse_args()\n",
    "    print(greet(args.personal, args.family))\n",
    "\n",
    "\n",
    "if __name__ == \"__main__\":\n",
    "    process()\n"
   ]
  },
  {
   "cell_type": "markdown",
   "metadata": {},
   "source": [
    "And run the command script:"
   ]
  },
  {
   "cell_type": "code",
   "execution_count": 14,
   "metadata": {},
   "outputs": [
    {
     "name": "stdout",
     "output_type": "stream",
     "text": [
      "executing command.py, __name__ is __main__\n",
      "executing greeter.py, __name__ is greeter\n",
      "Hey, Sarah Command\n"
     ]
    }
   ],
   "source": [
    "%%bash\n",
    "python command.py Sarah Command"
   ]
  },
  {
   "cell_type": "markdown",
   "metadata": {},
   "source": [
    "Note that when we import `greeter.greet` the contents of the whole `greeter.py` file are executed, so the code to print the value of `__name__` still runs. However, `__name__` is now given the value `greeter`. This means when the if statement is executed `__name__ == \"__main__\"` returns `False`, and we don't see the \"Hey, Laura Greeter\" output. \n",
    "\n",
    "Without that if statement we would get\n",
    "\n",
    "```bash\n",
    "Hey, Laura Greeter\n",
    "Hey, Sarah Command\n",
    "```\n",
    "\n",
    "which is unlikely to be what we wanted when running `python command.py Sarah Command`."
   ]
  },
  {
   "cell_type": "code",
   "execution_count": null,
   "metadata": {},
   "outputs": [],
   "source": []
  }
 ],
 "metadata": {
  "hide_input": false,
  "jekyll": {
   "display_name": "Writing Libraries"
  },
  "kernelspec": {
   "display_name": "Python 3 (ipykernel)",
   "language": "python",
   "name": "python3"
  },
  "language_info": {
   "codemirror_mode": {
    "name": "ipython",
    "version": 3
   },
   "file_extension": ".py",
   "mimetype": "text/x-python",
   "name": "python",
   "nbconvert_exporter": "python",
   "pygments_lexer": "ipython3",
   "version": "3.9.9"
  }
 },
 "nbformat": 4,
 "nbformat_minor": 1
}
