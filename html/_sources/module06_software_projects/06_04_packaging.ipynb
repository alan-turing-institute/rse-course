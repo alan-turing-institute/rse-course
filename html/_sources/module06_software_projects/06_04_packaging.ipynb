{
 "cells": [
  {
   "cell_type": "markdown",
   "metadata": {},
   "source": [
    "# Packaging"
   ]
  },
  {
   "cell_type": "markdown",
   "metadata": {},
   "source": [
    "## Packaging"
   ]
  },
  {
   "cell_type": "markdown",
   "metadata": {},
   "source": [
    "\n",
    "Once we've made a working program, we'd like to be able to share it with others.\n",
    "\n",
    "A good cross-platform build tool is the most important thing: you can always\n",
    "have collaborators build from source.\n"
   ]
  },
  {
   "cell_type": "markdown",
   "metadata": {},
   "source": [
    "## Distribution tools"
   ]
  },
  {
   "cell_type": "markdown",
   "metadata": {},
   "source": [
    "Distribution tools allow one to obtain a working copy of someone else's package.\n",
    "\n",
    "Language-specific tools: PyPI, Ruby Gems, CPAN, CRAN\n",
    "Platform specific packagers e.g. brew, apt/yum\n",
    "\n",
    "Until recently windows didn't have anything like `brew install` or `apt-get`\n",
    "You had to build an 'installer', but now there is https://chocolatey.org"
   ]
  },
  {
   "cell_type": "markdown",
   "metadata": {},
   "source": [
    "## Laying out a project"
   ]
  },
  {
   "cell_type": "markdown",
   "metadata": {},
   "source": [
    "\n",
    "When planning to package a project for distribution, defining a suitable\n",
    "project layout is essential.\n",
    "\n",
    "\n"
   ]
  },
  {
   "cell_type": "code",
   "execution_count": 1,
   "metadata": {},
   "outputs": [
    {
     "name": "stdout",
     "output_type": "stream",
     "text": [
      "greetings\n",
      "|-- CITATION.md\n",
      "|-- LICENSE.md\n",
      "|-- README.md\n",
      "|-- greetings\n",
      "|   |-- __init__.py\n",
      "|   |-- __pycache__\n",
      "|   |-- command.py\n",
      "|   |-- greeter.py\n",
      "|   `-- test\n",
      "|       |-- __init__.py\n",
      "|       |-- __pycache__\n",
      "|       |-- fixtures\n",
      "|       |   `-- samples.yaml\n",
      "|       `-- test_greeter.py\n",
      "`-- setup.py\n",
      "\n",
      "5 directories, 10 files\n"
     ]
    }
   ],
   "source": [
    "%%bash\n",
    "#%%cmd (windows)\n",
    "tree --charset ascii greetings -I \"doc|build|Greetings.egg-info|dist|*.pyc\""
   ]
  },
  {
   "cell_type": "markdown",
   "metadata": {},
   "source": [
    "We can start by making our directory structure"
   ]
  },
  {
   "cell_type": "code",
   "execution_count": 2,
   "metadata": {},
   "outputs": [],
   "source": [
    "%%bash\n",
    "mkdir -p greetings/greetings/test/fixtures"
   ]
  },
  {
   "cell_type": "markdown",
   "metadata": {},
   "source": [
    "## Using setuptools"
   ]
  },
  {
   "cell_type": "markdown",
   "metadata": {},
   "source": [
    "\n",
    "To make python code into a package, we have to write a `setupfile`:\n",
    "\n",
    "\n",
    "\n",
    "\n",
    "\n"
   ]
  },
  {
   "cell_type": "code",
   "execution_count": 3,
   "metadata": {},
   "outputs": [
    {
     "name": "stdout",
     "output_type": "stream",
     "text": [
      "Overwriting greetings/setup.py\n"
     ]
    }
   ],
   "source": [
    "%%writefile greetings/setup.py\n",
    "from setuptools import setup, find_packages\n",
    "\n",
    "setup(\n",
    "    name=\"Greetings\",\n",
    "    version=\"0.1.0\",\n",
    "    packages=find_packages(exclude=[\"*test\"]),\n",
    "    entry_points={\"console_scripts\": [\"greet = greetings.command:process\"]},\n",
    ")"
   ]
  },
  {
   "cell_type": "markdown",
   "metadata": {},
   "source": [
    "\n",
    "\n",
    "\n",
    "We can now install this code with\n"
   ]
  },
  {
   "cell_type": "markdown",
   "metadata": {},
   "source": [
    "```\n",
    "cd greetings\n",
    "pip install .\n",
    "```"
   ]
  },
  {
   "cell_type": "markdown",
   "metadata": {},
   "source": [
    "\n",
    "And the package will be then available to use everywhere on the system.\n"
   ]
  },
  {
   "cell_type": "code",
   "execution_count": 4,
   "metadata": {},
   "outputs": [
    {
     "data": {
      "text/plain": [
       "'Hey, James Hetherington.'"
      ]
     },
     "execution_count": 4,
     "metadata": {},
     "output_type": "execute_result"
    }
   ],
   "source": [
    "from greetings.greeter import greet\n",
    "\n",
    "greet(\"James\", \"Hetherington\")"
   ]
  },
  {
   "cell_type": "code",
   "execution_count": 5,
   "metadata": {},
   "outputs": [],
   "source": [
    "from greetings.greeter import *"
   ]
  },
  {
   "cell_type": "markdown",
   "metadata": {},
   "source": [
    "\n",
    "And the scripts are now available as command line commands:\n",
    "\n",
    "\n"
   ]
  },
  {
   "cell_type": "code",
   "execution_count": 6,
   "metadata": {},
   "outputs": [
    {
     "name": "stdout",
     "output_type": "stream",
     "text": [
      "usage: greet [-h] [--title TITLE] [--polite] personal family\n",
      "\n",
      "Generate appropriate greetings\n",
      "\n",
      "positional arguments:\n",
      "  personal\n",
      "  family\n",
      "\n",
      "optional arguments:\n",
      "  -h, --help            show this help message and exit\n",
      "  --title TITLE, -t TITLE\n",
      "  --polite, -p\n"
     ]
    }
   ],
   "source": [
    "%%bash\n",
    "greet --help"
   ]
  },
  {
   "cell_type": "code",
   "execution_count": 7,
   "metadata": {},
   "outputs": [
    {
     "name": "stdout",
     "output_type": "stream",
     "text": [
      "Hey, James Hetherington.\n",
      "How do you do, James Hetherington.\n",
      "Hey, Dr James Hetherington.\n"
     ]
    }
   ],
   "source": [
    "%%bash\n",
    "greet James Hetherington\n",
    "greet --polite James Hetherington\n",
    "greet James Hetherington --title Dr"
   ]
  },
  {
   "cell_type": "markdown",
   "metadata": {},
   "source": [
    "## Installing from GitHub"
   ]
  },
  {
   "cell_type": "markdown",
   "metadata": {},
   "source": [
    "\n",
    "We could now submit \"greeter\" to PyPI for approval, so everyone could `pip install` it.\n",
    "\n",
    "However, when using git, we don't even need to do that: we can install directly from any git URL:\n"
   ]
  },
  {
   "cell_type": "markdown",
   "metadata": {},
   "source": [
    "```\n",
    "pip install git+git://github.com/jamespjh/greeter\n",
    "```"
   ]
  },
  {
   "cell_type": "code",
   "execution_count": 8,
   "metadata": {},
   "outputs": [
    {
     "name": "stdout",
     "output_type": "stream",
     "text": [
      "Hey, Sir Humphry Appleby.\n"
     ]
    }
   ],
   "source": [
    "%%bash\n",
    "greet Humphry Appleby --title Sir"
   ]
  },
  {
   "cell_type": "markdown",
   "metadata": {},
   "source": [
    "## Convert the script to a module"
   ]
  },
  {
   "cell_type": "markdown",
   "metadata": {},
   "source": [
    "\n",
    "Of course, there's more to do when taking code from a quick script and turning it into a proper module:\n",
    "\n",
    "\n",
    "\n",
    "\n",
    "\n"
   ]
  },
  {
   "cell_type": "code",
   "execution_count": 9,
   "metadata": {},
   "outputs": [
    {
     "name": "stdout",
     "output_type": "stream",
     "text": [
      "Overwriting greetings/greetings/greeter.py\n"
     ]
    }
   ],
   "source": [
    "%%writefile greetings/greetings/greeter.py\n",
    "def greet(personal, family, title=\"\", polite=False):\n",
    "    \"\"\"Generate a greeting string for a person.\n",
    "\n",
    "    Parameters\n",
    "    ----------\n",
    "    personal: str\n",
    "        A given name, such as Will or Jean-Luc\n",
    "    family: str\n",
    "        A family name, such as Riker or Picard\n",
    "    title: str\n",
    "        An optional title, such as Captain or Reverend\n",
    "    polite: bool\n",
    "        True for a formal greeting, False for informal.\n",
    "\n",
    "    Returns\n",
    "    -------\n",
    "    string\n",
    "        An appropriate greeting\n",
    "    \"\"\"\n",
    "\n",
    "    greeting = \"How do you do, \" if polite else \"Hey, \"\n",
    "    if title:\n",
    "        greeting += title + \" \"\n",
    "\n",
    "    greeting += personal + \" \" + family + \".\"\n",
    "    return greeting"
   ]
  },
  {
   "cell_type": "code",
   "execution_count": 10,
   "metadata": {},
   "outputs": [
    {
     "name": "stdout",
     "output_type": "stream",
     "text": [
      "Help on function greet in module greetings.greeter:\n",
      "\n",
      "greet(personal, family, title='', polite=False)\n",
      "    Generate a greeting string for a person.\n",
      "    \n",
      "    Parameters\n",
      "    ----------\n",
      "    personal: str\n",
      "        A given name, such as Will or Jean-Luc\n",
      "    family: str\n",
      "        A family name, such as Riker or Picard\n",
      "    title: str\n",
      "        An optional title, such as Captain or Reverend\n",
      "    polite: bool\n",
      "        True for a formal greeting, False for informal.\n",
      "    \n",
      "    Returns\n",
      "    -------\n",
      "    string\n",
      "        An appropriate greeting\n",
      "\n"
     ]
    }
   ],
   "source": [
    "import greetings\n",
    "\n",
    "help(greetings.greeter.greet)"
   ]
  },
  {
   "cell_type": "markdown",
   "metadata": {},
   "source": [
    "\n",
    "\n",
    "\n",
    "The documentation string explains how to use the function; don't worry about this for now, we'll consider\n",
    "this next time.\n"
   ]
  },
  {
   "cell_type": "markdown",
   "metadata": {},
   "source": [
    "## Write an executable script"
   ]
  },
  {
   "cell_type": "code",
   "execution_count": 11,
   "metadata": {},
   "outputs": [
    {
     "name": "stdout",
     "output_type": "stream",
     "text": [
      "Overwriting greetings/greetings/command.py\n"
     ]
    }
   ],
   "source": [
    "%%writefile greetings/greetings/command.py\n",
    "from argparse import ArgumentParser\n",
    "from .greeter import greet  # Note python 3 relative import\n",
    "\n",
    "\n",
    "def process():\n",
    "    parser = ArgumentParser(description=\"Generate appropriate greetings\")\n",
    "\n",
    "    parser.add_argument(\"--title\", \"-t\")\n",
    "    parser.add_argument(\"--polite\", \"-p\", action=\"store_true\")\n",
    "    parser.add_argument(\"personal\")\n",
    "    parser.add_argument(\"family\")\n",
    "\n",
    "    arguments = parser.parse_args()\n",
    "\n",
    "    print(\n",
    "        greet(arguments.personal, arguments.family, arguments.title, arguments.polite)\n",
    "    )\n",
    "\n",
    "\n",
    "if __name__ == \"__main__\":\n",
    "    process()"
   ]
  },
  {
   "cell_type": "markdown",
   "metadata": {
    "collapsed": true
   },
   "source": [
    "## Specify dependencies"
   ]
  },
  {
   "cell_type": "markdown",
   "metadata": {},
   "source": [
    "We use the setup.py file to specify the packages we depend on:"
   ]
  },
  {
   "cell_type": "markdown",
   "metadata": {},
   "source": [
    "```python\n",
    "setup(\n",
    "    name = \"Greetings\",\n",
    "    version = \"0.1.0\",\n",
    "    packages = find_packages(exclude=['*test']),\n",
    "    install_requires = ['argparse', 'pyyaml']\n",
    ")\n",
    "```"
   ]
  },
  {
   "cell_type": "markdown",
   "metadata": {},
   "source": [
    "## Specify entry point"
   ]
  },
  {
   "cell_type": "code",
   "execution_count": 12,
   "metadata": {},
   "outputs": [
    {
     "name": "stdout",
     "output_type": "stream",
     "text": [
      "Overwriting greetings/setup.py\n"
     ]
    }
   ],
   "source": [
    "%%writefile greetings/setup.py\n",
    "\n",
    "from setuptools import setup, find_packages\n",
    "\n",
    "setup(\n",
    "    name=\"Greetings\",\n",
    "    version=\"0.1.0\",\n",
    "    packages=find_packages(exclude=[\"*test\"]),\n",
    "    install_requires=[\"argparse\", \"pyyaml\"],\n",
    "    entry_points={\"console_scripts\": [\"greet = greetings.command:process\"]},\n",
    ")"
   ]
  },
  {
   "cell_type": "markdown",
   "metadata": {},
   "source": [
    "## Write a readme file"
   ]
  },
  {
   "cell_type": "markdown",
   "metadata": {},
   "source": [
    "e.g.:"
   ]
  },
  {
   "cell_type": "code",
   "execution_count": 13,
   "metadata": {},
   "outputs": [
    {
     "name": "stdout",
     "output_type": "stream",
     "text": [
      "Overwriting greetings/README.md\n"
     ]
    }
   ],
   "source": [
    "%%writefile greetings/README.md\n",
    "\n",
    "Greetings!\n",
    "==========\n",
    "\n",
    "This is a very simple example package used as part of the Turing\n",
    "[Research Software Engineering with Python](https://alan-turing-institute.github.io/rse-course) course.\n",
    "\n",
    "Usage:\n",
    "    \n",
    "Invoke the tool with greet <FirstName> <Secondname>"
   ]
  },
  {
   "cell_type": "markdown",
   "metadata": {},
   "source": [
    "## Write a license file"
   ]
  },
  {
   "cell_type": "markdown",
   "metadata": {},
   "source": [
    "e.g.:"
   ]
  },
  {
   "cell_type": "code",
   "execution_count": 14,
   "metadata": {},
   "outputs": [
    {
     "name": "stdout",
     "output_type": "stream",
     "text": [
      "Overwriting greetings/LICENSE.md\n"
     ]
    }
   ],
   "source": [
    "%%writefile greetings/LICENSE.md\n",
    "\n",
    "(C) The Alan Turing Institute 2021\n",
    "\n",
    "This \"greetings\" example package is granted into the public domain."
   ]
  },
  {
   "cell_type": "markdown",
   "metadata": {},
   "source": [
    "## Write a citation file"
   ]
  },
  {
   "cell_type": "markdown",
   "metadata": {},
   "source": [
    "e.g.:"
   ]
  },
  {
   "cell_type": "code",
   "execution_count": 15,
   "metadata": {},
   "outputs": [
    {
     "name": "stdout",
     "output_type": "stream",
     "text": [
      "Overwriting greetings/CITATION.md\n"
     ]
    }
   ],
   "source": [
    "%%writefile greetings/CITATION.md\n",
    "\n",
    "If you wish to refer to this course, please cite the URL\n",
    "https://alan-turing-institute.github.io/rse-course\n",
    "\n",
    "Portions of the material are taken from Software Carpentry\n",
    "http://swcarpentry.org"
   ]
  },
  {
   "cell_type": "markdown",
   "metadata": {},
   "source": [
    "You may well want to formalise this using the [codemeta.json](https://codemeta.github.io/) standard - this doesn't have wide adoption yet, but we recommend it."
   ]
  },
  {
   "cell_type": "markdown",
   "metadata": {},
   "source": [
    "## Define packages and executables"
   ]
  },
  {
   "cell_type": "code",
   "execution_count": 16,
   "metadata": {},
   "outputs": [],
   "source": [
    "%%bash\n",
    "touch greetings/greetings/test/__init__.py\n",
    "touch greetings/greetings/__init__.py"
   ]
  },
  {
   "cell_type": "markdown",
   "metadata": {},
   "source": [
    "## Write some unit tests"
   ]
  },
  {
   "cell_type": "markdown",
   "metadata": {},
   "source": [
    "\n",
    "Separating the script from the logical module made this possible:\n",
    "\n",
    "\n",
    "\n",
    "\n",
    "\n"
   ]
  },
  {
   "cell_type": "code",
   "execution_count": 17,
   "metadata": {},
   "outputs": [
    {
     "name": "stdout",
     "output_type": "stream",
     "text": [
      "Overwriting greetings/greetings/test/test_greeter.py\n"
     ]
    }
   ],
   "source": [
    "%%writefile greetings/greetings/test/test_greeter.py\n",
    "import yaml\n",
    "import os\n",
    "from ..greeter import greet\n",
    "\n",
    "\n",
    "def test_greeter():\n",
    "    with open(\n",
    "        os.path.join(os.path.dirname(__file__), \"fixtures\", \"samples.yaml\")\n",
    "    ) as fixtures_file:\n",
    "        fixtures = yaml.safe_load(fixtures_file)\n",
    "        for fixture in fixtures:\n",
    "            answer = fixture.pop(\"answer\")\n",
    "            assert greet(**fixture) == answer"
   ]
  },
  {
   "cell_type": "markdown",
   "metadata": {},
   "source": [
    "\n",
    "\n",
    "\n",
    "Add a fixtures file:\n",
    "\n",
    "\n",
    "\n",
    "\n",
    "\n"
   ]
  },
  {
   "cell_type": "code",
   "execution_count": 18,
   "metadata": {},
   "outputs": [
    {
     "name": "stdout",
     "output_type": "stream",
     "text": [
      "Overwriting greetings/greetings/test/fixtures/samples.yaml\n"
     ]
    }
   ],
   "source": [
    "%%writefile greetings/greetings/test/fixtures/samples.yaml\n",
    "- personal: James\n",
    "  family: Hetherington\n",
    "  answer: \"Hey, James Hetherington.\"\n",
    "- personal: James\n",
    "  family: Hetherington\n",
    "  polite: True\n",
    "  answer: \"How do you do, James Hetherington.\"\n",
    "- personal: James\n",
    "  family: Hetherington\n",
    "  title: Dr\n",
    "  answer: \"Hey, Dr James Hetherington.\""
   ]
  },
  {
   "cell_type": "code",
   "execution_count": 19,
   "metadata": {},
   "outputs": [
    {
     "name": "stdout",
     "output_type": "stream",
     "text": [
      "============================= test session starts ==============================\n",
      "platform darwin -- Python 3.8.13, pytest-7.1.2, py-1.10.0, pluggy-1.0.0\n",
      "rootdir: /home/turingdev/projects/research-software/rse-course/ch04packaging\n",
      "plugins: cov-2.12.1, anyio-3.3.0\n",
      "collected 1 item\n",
      "\n",
      "greetings/greetings/test/test_greeter.py .                               [100%]\n",
      "\n",
      "============================== 1 passed in 0.15s ===============================\n"
     ]
    }
   ],
   "source": [
    "%%bash\n",
    "pytest"
   ]
  },
  {
   "cell_type": "markdown",
   "metadata": {},
   "source": [
    "## Developer Install"
   ]
  },
  {
   "cell_type": "markdown",
   "metadata": {},
   "source": [
    "\n",
    "If you modify your source files, you would now find it appeared as if the program doesn't change.\n",
    "\n",
    "That's because pip install **copies** the file.\n",
    "\n",
    "(On my system to /Library/Python/2.7/site-packages/: this is operating\n",
    "system dependent.)\n",
    "\n",
    "If you want to install a package, but keep working on it, you can do\n"
   ]
  },
  {
   "cell_type": "markdown",
   "metadata": {},
   "source": [
    "```\n",
    "cd greetings\n",
    "pip install -e .\n",
    "```"
   ]
  },
  {
   "cell_type": "markdown",
   "metadata": {},
   "source": [
    "## Distributing compiled code"
   ]
  },
  {
   "cell_type": "markdown",
   "metadata": {},
   "source": [
    "\n",
    "If you're working in C++ or Fortran, there is no language specific repository.\n",
    "You'll need to write platform installers for as many platforms as you want to\n",
    "support.\n",
    "\n",
    "Typically:\n",
    "\n",
    "* `dpkg` for `apt-get` on Ubuntu and Debian\n",
    "* `rpm` for `yum` on Redhat and Fedora\n",
    "* `homebrew` on OSX (Possibly `macports` as well)\n",
    "* An executable `msi` installer for Windows.\n"
   ]
  },
  {
   "cell_type": "markdown",
   "metadata": {},
   "source": [
    "## Homebrew"
   ]
  },
  {
   "cell_type": "markdown",
   "metadata": {},
   "source": [
    "\n",
    "Homebrew: A ruby DSL, you host off your own webpage\n",
    "\n",
    "See my [installer for the cppcourse example](http://github.com/jamespjh/homebrew-reactor)\n",
    "\n",
    "If you're on OSX, do:\n"
   ]
  },
  {
   "cell_type": "markdown",
   "metadata": {
    "collapsed": true
   },
   "source": [
    "```\n",
    "brew tap jamespjh/homebrew-reactor\n",
    "brew install reactor\n",
    "```"
   ]
  }
 ],
 "metadata": {
  "hide_input": false,
  "jekyll": {
   "display_name": "Packaging"
  },
  "kernelspec": {
   "display_name": "Python 3 (ipykernel)",
   "language": "python",
   "name": "python3"
  },
  "language_info": {
   "codemirror_mode": {
    "name": "ipython",
    "version": 3
   },
   "file_extension": ".py",
   "mimetype": "text/x-python",
   "name": "python",
   "nbconvert_exporter": "python",
   "pygments_lexer": "ipython3",
   "version": "3.9.9"
  }
 },
 "nbformat": 4,
 "nbformat_minor": 1
}
