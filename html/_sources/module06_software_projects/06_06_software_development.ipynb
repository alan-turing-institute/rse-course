{
 "cells": [
  {
   "cell_type": "markdown",
   "metadata": {},
   "source": [
    "# Software Project Management"
   ]
  },
  {
   "cell_type": "markdown",
   "metadata": {},
   "source": [
    "## Software Engineering Stages"
   ]
  },
  {
   "cell_type": "markdown",
   "metadata": {},
   "source": [
    "\n",
    "* Requirements\n",
    "* Functional Design\n",
    "* Architectural Design\n",
    "* Implementation\n",
    "* Integration\n"
   ]
  },
  {
   "cell_type": "markdown",
   "metadata": {},
   "source": [
    "## Requirements Engineering"
   ]
  },
  {
   "cell_type": "markdown",
   "metadata": {},
   "source": [
    "\n",
    "Requirements capture obviously means describing the things the software needs to be able to do.\n",
    "\n",
    "A common approach is to write down lots of \"user stories\", describing how the software helps the user achieve something:\n",
    "\n",
    "> As a clinician, when I finish an analysis, I want a report to be created on the test results, so that I can\n",
    "> send it to the patient.\n",
    "\n",
    "As a *role*, when *condition or circumstance applies* I want *a goal or desire* so that *benefits occur*.\n",
    "\n",
    "These are easy to map into the Gherkin behaviour driven design test language.\n"
   ]
  },
  {
   "cell_type": "markdown",
   "metadata": {},
   "source": [
    "## Functional and architectural design"
   ]
  },
  {
   "cell_type": "markdown",
   "metadata": {},
   "source": [
    "\n",
    "Engineers try to separate the functional design, how the software appears to and is used by the user, from the\n",
    "architectural design, how the software achieves that functionality.\n",
    "\n",
    "Changes to functional design require users to adapt, and are thus often more costly than changes to architectural design.\n"
   ]
  },
  {
   "cell_type": "markdown",
   "metadata": {},
   "source": [
    "## Waterfall"
   ]
  },
  {
   "cell_type": "markdown",
   "metadata": {},
   "source": [
    "\n",
    "The _Waterfall_ design philosophy argues that the elements of design should occur in order: first requirements capture, then functional design,\n",
    "then architectural design. This approach is based on the idea that if a mistake is made in the design, then programming effort is wasted,\n",
    "so significant effort is spent in trying to ensure that requirements are well understood and that the design is correct before programming starts.\n"
   ]
  },
  {
   "cell_type": "markdown",
   "metadata": {},
   "source": [
    "## Why Waterfall?"
   ]
  },
  {
   "cell_type": "markdown",
   "metadata": {},
   "source": [
    "\n",
    "Without a design approach, programmers resort to designing as we go, typing in code, trying what works, and making it up as we go along.\n",
    "When trying to collaborate to make software with others this can result in lots of wasted time, software that only the author understands,\n",
    "components built by colleagues that don't work together, or code that the programmer thinks is nice but that doesn't meet the user's requirements.\n"
   ]
  },
  {
   "cell_type": "markdown",
   "metadata": {},
   "source": [
    "## Problems with Waterfall"
   ]
  },
  {
   "cell_type": "markdown",
   "metadata": {},
   "source": [
    "\n",
    "Waterfall results in a contractual approach to development, building an us-and-them relationship between users, business types, designers, and programmers.\n",
    "\n",
    "> I built what the design said, so I did my job.\n",
    "\n",
    "Waterfall results in a paperwork culture, where people spend a long time designing standard forms to document each stage of the design,\n",
    "with less time actually spent *making things*.\n",
    "\n",
    "Waterfall results in excessive adherence to a plan, even when mistakes in the design are obvious to people doing the work.\n"
   ]
  },
  {
   "cell_type": "markdown",
   "metadata": {},
   "source": [
    "## Software is not made of bricks"
   ]
  },
  {
   "cell_type": "markdown",
   "metadata": {},
   "source": [
    "\n",
    "The waterfall approach to software engineering comes from the engineering tradition applied to building physical objects,\n",
    "where Architects and Engineers design buildings, and builders build them according to the design.\n",
    "\n",
    "Software is intrinsically different:\n"
   ]
  },
  {
   "cell_type": "markdown",
   "metadata": {},
   "source": [
    "## Software is not made of bricks"
   ]
  },
  {
   "cell_type": "markdown",
   "metadata": {},
   "source": [
    "\n",
    "> Software is not the same 'stuff' as that from which physical systems are constructed.\n",
    "Software systems differ in material respects from physical systems.\n",
    "Much of this has been rehearsed by Fred Brooks in his classic\n",
    "['No Silver Bullet'](http://ieeexplore.ieee.org/xpl/login.jsp?reload=true&tp=&arnumber=1663532&url=http%3A%2F%2Fieeexplore.ieee.org%2Fxpls%2Fabs_all.jsp%3Farnumber%3D1663532) paper.\n",
    "First, complexity and scale are different in the case of software systems: relatively functionally simple software systems comprise more independent parts, placed\n",
    "in relation to each other, than do physical systems of equivalent functional value.\n",
    "Second, and clearly linked to this, we do not have well developed components and composition mechanisms from which to build\n",
    "software systems (though clearly we are working hard on providing these) nor do we have a straightforward mathematical account that\n",
    "permits us to reason about the effects of composition.\n"
   ]
  },
  {
   "cell_type": "markdown",
   "metadata": {},
   "source": [
    "## Software is not made of bricks"
   ]
  },
  {
   "cell_type": "markdown",
   "metadata": {},
   "source": [
    "\n",
    "> Third, software systems operate in a domain determined principally by arbitrary rules about information and symbolic communication whilst the\n",
    "operation of physical systems is governed by the laws of physics.\n",
    "Finally, software is readily changeable and thus is changed, it is used in settings where our uncertainty leads us to anticipate the need to change.\n",
    "\n",
    "-- Prof. [Anthony Finkelstein](http://blog.prof.so/), UCL Dean of Engineering, and Professor of Software Systems Engineering\n"
   ]
  },
  {
   "cell_type": "markdown",
   "metadata": {},
   "source": [
    "## The Agile Manifesto"
   ]
  },
  {
   "cell_type": "markdown",
   "metadata": {},
   "source": [
    "\n",
    "In 2001, authors including Martin Folwer, Ward Cunningham and Kent Beck met in a Utah ski resort, and published the following manifesto.\n",
    "\n",
    " [Manifesto for Agile Software Development](http://agilemanifesto.org/)\n",
    "\n",
    " We are uncovering better ways of developing\n",
    " software by doing it and helping others do it.\n",
    " Through this work we have come to value:\n",
    "\n",
    " * _Individuals and interactions_ over processes and tools\n",
    " * _Working software_ over comprehensive documentation\n",
    " * _Customer collaboration_ over contract negotiation\n",
    " *  _Responding to change_ over following a plan\n",
    "\n",
    " That is, while there is value in the items on\n",
    " the right, we value the items on the left more.\n"
   ]
  },
  {
   "cell_type": "markdown",
   "metadata": {},
   "source": [
    "## Agile is not absence of process"
   ]
  },
  {
   "cell_type": "markdown",
   "metadata": {},
   "source": [
    "\n",
    "> The Agile movement is not anti-methodology, in fact, many of us want to restore credibility to the word methodology.\n",
    "> We want to restore a balance. We embrace modeling, but not in order to file some diagram in a dusty corporate repository.\n",
    "> We embrace documentation, but not hundreds of pages of never-maintained and rarely-used tomes. We plan, but recognize the\n",
    "> limits of planning in a turbulent environment. Those who would brand proponents of XP or SCRUM or any of the other\n",
    "> Agile Methodologies as \"hackers\" are ignorant of both the methodologies and the original definition of the term hacker\n",
    "\n",
    "-- Jim Highsmith.\n"
   ]
  },
  {
   "cell_type": "markdown",
   "metadata": {},
   "source": [
    "## Elements of an Agile Process"
   ]
  },
  {
   "cell_type": "markdown",
   "metadata": {},
   "source": [
    "\n",
    "* Continuous delivery\n",
    "* Self-organising teams\n",
    "* Iterative development\n",
    "* Ongoing design\n"
   ]
  },
  {
   "cell_type": "markdown",
   "metadata": {},
   "source": [
    "## Ongoing Design"
   ]
  },
  {
   "cell_type": "markdown",
   "metadata": {},
   "source": [
    "\n",
    "Agile development doesn't eschew design. Design documents should still be written, but treated as living documents,\n",
    "updated as more insight is gained into the task, as work is done, and as requirements change.\n",
    "\n",
    "Use of a Wiki or version control repository to store design documents thus works much better than using Word documents!\n",
    "\n",
    "Test-driven design and refactoring are essential techniques to ensure that lack of \"Big Design Up Front\" doesn't produce\n",
    "badly constructed spaghetti software which doesn't meet requirements. By continously scouring our code for smells, and\n",
    "stopping to refactor, we evolve towards a well-structured design with weakly interacting units. By starting with tests\n",
    "which describe how our code should behave, we create executable specifications, giving us confidence that the code does\n",
    "what it is supposed to.\n"
   ]
  },
  {
   "cell_type": "markdown",
   "metadata": {},
   "source": [
    "## Iterative Development"
   ]
  },
  {
   "cell_type": "markdown",
   "metadata": {},
   "source": [
    "\n",
    "Agile development maintains a backlog of features to be completed and bugs to be fixed. In each iteration, we start with a meeting where\n",
    "we decide which backlog tasks will be attempted during the development cycle, estimating how long each will take,\n",
    "and selecting an achievable set of goals for the \"sprint\". At the end of each cycle, we review the goals completed and missed,\n",
    "and consider what went well, what went badly, and what could be improved.\n",
    "\n",
    "We try not to add work to a cycle mid-sprint. New tasks that emerge are added to the backlog, and considered in the next planning meeting.\n",
    "This reduces stress and distraction.\n"
   ]
  },
  {
   "cell_type": "markdown",
   "metadata": {},
   "source": [
    "## Continuous Delivery"
   ]
  },
  {
   "cell_type": "markdown",
   "metadata": {},
   "source": [
    "\n",
    "In agile development, we try to get as quickly as possible to code that can be *demonstrated* to clients. A regular demo of progress\n",
    "to clients at the end of each development iteration says so much more than sharing a design document. \"Release early, release often\"\n",
    "is a common slogan. Most bugs are found by people *using* code -- so exposing code to users as early as possible will help find bugs quickly.\n"
   ]
  },
  {
   "cell_type": "markdown",
   "metadata": {},
   "source": [
    "## Self-organising teams"
   ]
  },
  {
   "cell_type": "markdown",
   "metadata": {},
   "source": [
    "\n",
    "Code is created by people. People work best when they feel ownership and pride in their work. Division of responsiblities into designers\n",
    "and programmers results in a [\"Code Monkey\"](http://open.spotify.com/track/1rIFZk9tTUtHP3vULR5wXe) role, where the craftspersonship and \n",
    "sense of responsibility for code quality is lost. Agile approaches encourage programmers, designers, clients, and businesspeople to see\n",
    "themselves as one team, working together, with fluid roles. Programmers grab issues from the backlog according to interest, aptitude,\n",
    "and community spirit.\n"
   ]
  },
  {
   "cell_type": "markdown",
   "metadata": {},
   "source": [
    "## Agile in Research"
   ]
  },
  {
   "cell_type": "markdown",
   "metadata": {},
   "source": [
    "\n",
    "Agile approaches, where we try to turn the instincts and practices which emerge naturally when smart programmers get together into\n",
    "well-formulated best practices, have emerged as antidotes to both the chaotic free-form typing in of code, and the rigid\n",
    "paperwork-driven approaches of Waterfall.\n",
    "\n",
    "If these approaches have turned out to be better even in industrial contexts, where requirements for code can be well understood,\n",
    "they are even more appropriate in a research context, where we are working in poorly understood fields with even less well captured\n",
    "requirements.\n"
   ]
  },
  {
   "cell_type": "markdown",
   "metadata": {},
   "source": [
    "## Conclusion"
   ]
  },
  {
   "cell_type": "markdown",
   "metadata": {},
   "source": [
    "\n",
    "* Don't ignore design\n",
    "* See if there's a known design pattern that will help\n",
    "* Do try to think about how your code will work before you start typing\n",
    "* Do use design tools like UML to think about your design without coding straight away\n",
    "* Do try to write down some user stories\n",
    "* Do maintain design documents.\n",
    "\n",
    "BUT\n",
    "\n",
    "* Do change your design as you work, updating the documents if you have them\n",
    "* Don't go dark -- never do more than a couple of weeks programming without showing what you've done to colleagues\n",
    "* Don't get isolated from the reasons for your code's existence, stay involved in the research, don't be a Code Monkey.\n",
    "* Do keep a list of all the things your code needs, estimate and prioritise tasks carefully.\n",
    "\n"
   ]
  }
 ],
 "metadata": {
  "jekyll": {
   "display_name": "Agile and Waterfall"
  },
  "kernelspec": {
   "display_name": "Python 3 (ipykernel)",
   "language": "python",
   "name": "python3"
  },
  "language_info": {
   "codemirror_mode": {
    "name": "ipython",
    "version": 3
   },
   "file_extension": ".py",
   "mimetype": "text/x-python",
   "name": "python",
   "nbconvert_exporter": "python",
   "pygments_lexer": "ipython3",
   "version": "3.8.13"
  }
 },
 "nbformat": 4,
 "nbformat_minor": 1
}
