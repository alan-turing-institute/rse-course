{
 "cells": [
  {
   "cell_type": "markdown",
   "metadata": {},
   "source": [
    "# Libraries"
   ]
  },
  {
   "cell_type": "markdown",
   "metadata": {},
   "source": [
    "## Libraries are awesome"
   ]
  },
  {
   "cell_type": "markdown",
   "metadata": {},
   "source": [
    "\n",
    "The strength of a language lies as much in the set of libraries available, as it does\n",
    "in the language itself.\n",
    "\n",
    "A great set of libraries allows for a very powerful programming style:\n",
    "\n",
    "* Write minimal code yourself\n",
    "* Choose the right libraries\n",
    "* Plug them together\n",
    "* Create impressive results\n",
    "\n",
    "Not only is this efficient with your programming time, it's also more efficient with computer\n",
    "time.\n",
    "\n",
    "The chances are any algorithm you might want to use has already been programmed better by someone else."
   ]
  },
  {
   "cell_type": "markdown",
   "metadata": {},
   "source": [
    "## Drawbacks of libraries."
   ]
  },
  {
   "cell_type": "markdown",
   "metadata": {},
   "source": [
    "\n",
    "* Sometimes, libraries are not looked after by their creator: code that is not maintained *rots*:\n",
    "    * It no longer works with later versions of *upstream* libraries.\n",
    "    * It doesn't work on newer platforms or systems.\n",
    "    * Features that are needed now, because the field has moved on, are not added\n",
    "\n",
    "* Sometimes, libraries are hard to get working:\n",
    "    * For libraries in pure python, this is almost never a problem\n",
    "    * But many libraries involve *compiled components*: these can be hard to install.\n"
   ]
  },
  {
   "cell_type": "markdown",
   "metadata": {},
   "source": [
    "## Contribute, don't duplicate"
   ]
  },
  {
   "cell_type": "markdown",
   "metadata": {},
   "source": [
    "\n",
    "* You have a duty to the ecosystem of scholarly software:\n",
    "    * If there's a tool or algorithm you need, find a project which provides it.\n",
    "    * If there are features missing, or problems with it, fix them, [don't create your own](http://xkcd.com/927/) library.\n"
   ]
  },
  {
   "cell_type": "markdown",
   "metadata": {},
   "source": [
    "## How to choose a library"
   ]
  },
  {
   "cell_type": "markdown",
   "metadata": {},
   "source": [
    "\n",
    "* When was the last commit?\n",
    "* How often are there commits?\n",
    "* Can you find the lead contributor on the internet?\n",
    "* Do they respond when approached:\n",
    "    * emails to developer list\n",
    "    * personal emails\n",
    "    * tweets\n",
    "    * [irc](https://freenode.net)\n",
    "    * issues raised on GitHub?\n",
    "* Are there contributors other than the lead contributor?\n",
    "* Is there discussion of the library on Stack Exchange?\n",
    "* Is the code on an open version control tool like GitHub?\n",
    "* Is it on standard package repositories. (PyPI, apt/yum/brew)\n",
    "* Are there any tests?\n",
    "* Download it. Can you build it? Do the tests pass?\n",
    "* Is there an open test dashboard? (Travis/Jenkins/CDash)\n",
    "* What dependencies does the library itself have? Do they pass this list?\n",
    "* Are different versions of the library clearly labeled with version numbers?\n",
    "* Is there a changelog?\n"
   ]
  },
  {
   "cell_type": "markdown",
   "metadata": {},
   "source": [
    "## Sensible Version Numbering"
   ]
  },
  {
   "cell_type": "markdown",
   "metadata": {},
   "source": [
    "\n",
    "The best approach to version numbers clearly distinguishes kinds of change:\n",
    "\n",
    "Given a version number MAJOR.MINOR.PATCH, e.g. 2.11.14 increment the:\n",
    "\n",
    "* MAJOR version when you make incompatible API changes,\n",
    "* MINOR version when you add functionality in a backwards-compatible manner, and\n",
    "* PATCH version when you make backwards-compatible bug fixes.\n",
    "\n",
    "This is called [Semantic Versioning](http://semver.org)\n"
   ]
  },
  {
   "cell_type": "markdown",
   "metadata": {},
   "source": [
    "## The Python Standard Library"
   ]
  },
  {
   "cell_type": "markdown",
   "metadata": {},
   "source": [
    "\n",
    "Python comes with a powerful [standard library](https://docs.python.org/2/library/).\n",
    "\n",
    "Learning python is as much about learning this library as learning the language itself.\n",
    "\n",
    "You've already seen a few packages in this library: `math`, `pdb`, `pytest`, `datetime`.\n"
   ]
  },
  {
   "cell_type": "markdown",
   "metadata": {},
   "source": [
    "## The Python Package Index"
   ]
  },
  {
   "cell_type": "markdown",
   "metadata": {},
   "source": [
    "\n",
    "Python's real power, however, comes with the Python Package Index: [PyPI](https://pypi.python.org/pypi).\n",
    "This is a huge array of libraries, with all kinds of capabilities, all easily installable from the \n",
    "command line or through your Python distribution.\n"
   ]
  }
 ],
 "metadata": {
  "jekyll": {
   "display_name": "Libraries"
  },
  "kernelspec": {
   "display_name": "Python 3 (ipykernel)",
   "language": "python",
   "name": "python3"
  },
  "language_info": {
   "codemirror_mode": {
    "name": "ipython",
    "version": 3
   },
   "file_extension": ".py",
   "mimetype": "text/x-python",
   "name": "python",
   "nbconvert_exporter": "python",
   "pygments_lexer": "ipython3",
   "version": "3.8.13"
  }
 },
 "nbformat": 4,
 "nbformat_minor": 1
}
