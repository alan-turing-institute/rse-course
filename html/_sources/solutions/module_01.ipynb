{
 "cells": [
  {
   "cell_type": "markdown",
   "metadata": {},
   "source": [
    "# Module 1"
   ]
  },
  {
   "cell_type": "markdown",
   "metadata": {},
   "source": [
    "**Exercise 1a**"
   ]
  },
  {
   "cell_type": "code",
   "execution_count": 1,
   "metadata": {},
   "outputs": [
    {
     "data": {
      "image/png": "[encoded data removed]",
      "text/plain": [
       "<Figure size 432x288 with 1 Axes>"
      ]
     },
     "metadata": {
      "needs_background": "light"
     },
     "output_type": "display_data"
    }
   ],
   "source": [
    "import draw_infinity\n",
    "image = draw_infinity.make_figure()"
   ]
  },
  {
   "cell_type": "markdown",
   "metadata": {},
   "source": [
    "**Exercise 1b**"
   ]
  },
  {
   "cell_type": "code",
   "execution_count": 2,
   "metadata": {},
   "outputs": [
    {
     "name": "stdout",
     "output_type": "stream",
     "text": [
      "32768\n",
      "32768.0\n",
      "-----------\n",
      "IT WAS THE BEST OF TIMES\n",
      "IT WAS THE BEST OF TIMES\n",
      "-----------\n",
      "[0, 2, 3, 7, 8, 9, 10, 20, 30]\n",
      "[0, 2, 3, 7, 8, 9, 10, 20, 30]\n",
      "-----------\n",
      "93326215443944152681699238856266700490715968264381621468592963895217599993229915608941463976156518286253697920827223758251185210916864000000000000000000000000\n",
      "933262154439441526816992388562667004907159682643816214685929638952175999932299156089414639761565182862536979208272237582511852109168640000000000000000000000\n"
     ]
    }
   ],
   "source": [
    "#What is 2 to the power 15?\n",
    "import math as m\n",
    "\n",
    "print(2**15)\n",
    "print(m.pow(2,15))\n",
    "print(\"-----------\")\n",
    "\n",
    "\n",
    "#Convert `\"It was the best of times\"` to uppercase.\n",
    "target = \"It was the best of times\"\n",
    "print(target.upper())\n",
    "print(\"It was the best of times\".upper())\n",
    "print(\"-----------\")\n",
    "\n",
    "\n",
    "#Sort the list `[10, 9, 0, 20, 8, 2, 30, 7, 3]`.\n",
    "target = [10, 9, 0, 20, 8, 2, 30, 7, 3]\n",
    "print(sorted(target)) # Returns a new list that is sorted\n",
    "target.sort()  # N/B .sort() modifes the original list\n",
    "print(target) \n",
    "print(\"-----------\")\n",
    "\n",
    "\n",
    "#What is 100! ? (That is, what is the factorial of 100?) Hint: the `factorial` function is in the `math` library m\n",
    "print(m.factorial(100))\n",
    "\n",
    "# Could do it my hand too but there are functions to do it in the math (and other) libraries\n",
    "answer = 1\n",
    "for i in range(1, 100):\n",
    "    answer *= i\n",
    "    \n",
    "print(answer)"
   ]
  },
  {
   "cell_type": "markdown",
   "metadata": {},
   "source": [
    "A note about `sorted` and `sort`. \n",
    "\n",
    "```python\n",
    "sorted(target)\n",
    "```\n",
    "returns a **new list** that is sorted\n",
    "\n",
    "```python\n",
    "target.sort()\n",
    "```\n",
    "\n",
    "modifies the original list.\n",
    "If we look at their positions in memory we can verify this:"
   ]
  },
  {
   "cell_type": "code",
   "execution_count": 3,
   "metadata": {},
   "outputs": [
    {
     "name": "stdout",
     "output_type": "stream",
     "text": [
      "Example list = [3, 8, 1, 0, 5, 8, 9, 1, 1, 5]\n",
      "0x7faf705f0a80\n",
      "\n",
      "New list     = [0, 1, 1, 1, 3, 5, 5, 8, 8, 9]\n",
      "0x7faf705f09c0\n",
      "Example list = [3, 8, 1, 0, 5, 8, 9, 1, 1, 5]\n",
      "0x7faf705f0a80\n",
      "\n",
      "Example list = [0, 1, 1, 1, 3, 5, 5, 8, 8, 9]\n",
      "0x7faf705f0a80\n"
     ]
    }
   ],
   "source": [
    "example_list = [3, 8, 1, 0, 5, 8, 9, 1, 1, 5]\n",
    "print(f\"Example list = {example_list}\")\n",
    "print(hex(id(example_list))) # Where the example list is stored\n",
    "print(\"\")\n",
    "new_list = sorted(example_list)\n",
    "print(f\"New list     = {new_list}\")\n",
    "print(hex(id(new_list))) # Where the new list is stored\n",
    "print(f\"Example list = {example_list}\")\n",
    "print(hex(id(example_list))) # Where the example list is stored\n",
    "print(\"\")\n",
    "example_list.sort()\n",
    "print(f\"Example list = {example_list}\")\n",
    "print(hex(id(example_list))) # Where the (sorted) example list is stored\n"
   ]
  },
  {
   "cell_type": "markdown",
   "metadata": {},
   "source": [
    "We can see that the example list is in the same place as it was before, but now it is sorted"
   ]
  },
  {
   "cell_type": "markdown",
   "metadata": {},
   "source": [
    "**Exercise 1c**"
   ]
  },
  {
   "cell_type": "code",
   "execution_count": 4,
   "metadata": {},
   "outputs": [
    {
     "name": "stdout",
     "output_type": "stream",
     "text": [
      "[1, 10, 100, 5, 4, 7]\n",
      "\n",
      "[1, 2, 3, 4, 'five', 1, 2, 3, 4, 'five']\n",
      "\n",
      "string-1string-2\n"
     ]
    }
   ],
   "source": [
    "# Which of the operators `+`, `-`, `*`, and `/` do something useful with the lists `[1, 10, 100]` and `[5, 4, 7]`?\n",
    "a = [1, 10, 100]\n",
    "b = [5, 4, 7]\n",
    "print(a+b)\n",
    "# all others not allowed\n",
    "print(\"\")\n",
    "\n",
    "# What happens if you apply the operators `+`, `-`, `*`, `/` to a list and a number?\n",
    "c = [1, 2, 3, 4, 'five']\n",
    "d = 2\n",
    "print(c*d)\n",
    "# all others not allowed\n",
    "print(\"\")\n",
    "\n",
    "\n",
    "# What about a string and a string?\n",
    "e = \"string-1\"\n",
    "f = \"string-2\"\n",
    "print(e + f)\n",
    "# all others not allowed"
   ]
  },
  {
   "cell_type": "markdown",
   "metadata": {},
   "source": [
    "**Exercise 1d**"
   ]
  },
  {
   "cell_type": "markdown",
   "metadata": {},
   "source": [
    "Something with a similar structure to this:"
   ]
  },
  {
   "cell_type": "code",
   "execution_count": 2,
   "metadata": {},
   "outputs": [],
   "source": [
    "house = {\n",
    "    \"living\": {\n",
    "        \"exits\": {\"north\": \"kitchen\", \"outside\": \"garden\", \"upstairs\": \"bedroom\"},\n",
    "        \"people\": [\"James\"],\n",
    "        \"capacity\": 2,\n",
    "    },\n",
    "    \"kitchen\": {\"exits\": {\"south\": \"living\"}, \"people\": [], \"capacity\": 1},\n",
    "    \"garden\": {\"exits\": {\"inside\": \"living\"}, \"people\": [\"Sue\"], \"capacity\": 3},\n",
    "    \"bedroom\": {\n",
    "        \"exits\": {\"downstairs\": \"living\", \"jump\": \"garden\"},\n",
    "        \"people\": [],\n",
    "        \"capacity\": 1,\n",
    "    },\n",
    "}"
   ]
  },
  {
   "cell_type": "markdown",
   "metadata": {},
   "source": [
    "**Exercise 1e**"
   ]
  },
  {
   "cell_type": "markdown",
   "metadata": {},
   "source": [
    "We can count the occupants and capacity like this:"
   ]
  },
  {
   "cell_type": "code",
   "execution_count": 3,
   "metadata": {},
   "outputs": [
    {
     "name": "stdout",
     "output_type": "stream",
     "text": [
      "House can fit 7 people, and currently has: 2.\n"
     ]
    }
   ],
   "source": [
    "capacity = 0\n",
    "occupancy = 0\n",
    "for name, room in house.items():\n",
    "    capacity += room[\"capacity\"]\n",
    "    occupancy += len(room[\"people\"])\n",
    "print(f\"House can fit {capacity} people, and currently has: {occupancy}.\")"
   ]
  },
  {
   "cell_type": "markdown",
   "metadata": {},
   "source": [
    "As a side note, note how we included the values of `capacity` and `occupancy` in the last line. This is a handy syntax for building strings that contain the values of variables. You can read more about it [here](https://realpython.com/python-string-formatting/#3-string-interpolation-f-strings-python-36) or in the official documentation for formatted string literals; [f-strings](https://docs.python.org/3/tutorial/inputoutput.html#tut-f-strings)."
   ]
  }
 ],
 "metadata": {
  "jekyll": {
   "display_name": "Maze Control Solution"
  },
  "kernelspec": {
   "display_name": "Python 3",
   "language": "python",
   "name": "python3"
  },
  "language_info": {
   "codemirror_mode": {
    "name": "ipython",
    "version": 3
   },
   "file_extension": ".py",
   "mimetype": "text/x-python",
   "name": "python",
   "nbconvert_exporter": "python",
   "pygments_lexer": "ipython3",
   "version": "3.8.8"
  }
 },
 "nbformat": 4,
 "nbformat_minor": 1
}
