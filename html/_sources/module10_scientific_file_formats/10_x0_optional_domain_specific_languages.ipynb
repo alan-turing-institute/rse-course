{
 "cells": [
  {
   "cell_type": "markdown",
   "metadata": {},
   "source": [
    "# 10.x.0 (OPTIONAL):  Domain specific languages"
   ]
  },
  {
   "cell_type": "markdown",
   "metadata": {},
   "source": [
    "*Estimated time for this notebook: 25 minutes*"
   ]
  },
  {
   "cell_type": "markdown",
   "metadata": {},
   "source": [
    "## Lex and Yacc"
   ]
  },
  {
   "cell_type": "markdown",
   "metadata": {},
   "source": [
    "Let's go back to our nice looks-like LaTeX file format:"
   ]
  },
  {
   "cell_type": "code",
   "execution_count": 1,
   "metadata": {},
   "outputs": [
    {
     "name": "stdout",
     "output_type": "stream",
     "text": [
      "Writing system.py\n"
     ]
    }
   ],
   "source": [
    "%%writefile system.py\n",
    "\n",
    "\n",
    "class Element:\n",
    "    def __init__(self, symbol):\n",
    "        self.symbol = symbol\n",
    "\n",
    "    def __str__(self):\n",
    "        return str(self.symbol)\n",
    "\n",
    "\n",
    "class Molecule:\n",
    "    def __init__(self):\n",
    "        self.elements = {}  # Map from element to number of that element in the molecule\n",
    "\n",
    "    def add_element(self, element, number):\n",
    "        if not isinstance(element, Element):\n",
    "            element = Element(element)\n",
    "        self.elements[element] = number\n",
    "\n",
    "    @staticmethod\n",
    "    def as_subscript(number):\n",
    "        if number == 1:\n",
    "            return \"\"\n",
    "        if number < 10:\n",
    "            return \"_\" + str(number)\n",
    "        return \"_{\" + str(number) + \"}\"\n",
    "\n",
    "    def __str__(self):\n",
    "        return \"\".join(\n",
    "            [\n",
    "                str(element) + Molecule.as_subscript(self.elements[element])\n",
    "                for element in self.elements\n",
    "            ]\n",
    "        )\n",
    "\n",
    "\n",
    "class Side:\n",
    "    def __init__(self):\n",
    "        self.molecules = {}\n",
    "\n",
    "    def add(self, reactant, stoichiometry):\n",
    "        self.molecules[reactant] = stoichiometry\n",
    "\n",
    "    @staticmethod\n",
    "    def print_if_not_one(number):\n",
    "        if number == 1:\n",
    "            return \"\"\n",
    "        else:\n",
    "            return str(number)\n",
    "\n",
    "    def __str__(self):\n",
    "        return \" + \".join(\n",
    "            [\n",
    "                Side.print_if_not_one(self.molecules[molecule]) + str(molecule)\n",
    "                for molecule in self.molecules\n",
    "            ]\n",
    "        )\n",
    "\n",
    "\n",
    "class Reaction:\n",
    "    def __init__(self):\n",
    "        self.reactants = Side()\n",
    "        self.products = Side()\n",
    "\n",
    "    def __str__(self):\n",
    "        return str(self.reactants) + \" \\\\rightarrow \" + str(self.products)\n",
    "\n",
    "\n",
    "class System:\n",
    "    def __init__(self):\n",
    "        self.reactions = []\n",
    "\n",
    "    def add_reaction(self, reaction):\n",
    "        self.reactions.append(reaction)\n",
    "\n",
    "    def __str__(self):\n",
    "        return \"\\\\\\\\ \\n\".join(map(str, self.reactions))"
   ]
  },
  {
   "cell_type": "code",
   "execution_count": 2,
   "metadata": {},
   "outputs": [
    {
     "name": "stdout",
     "output_type": "stream",
     "text": [
      "C_6H_{12}O_6 + 6O_2 \\rightarrow 6CO_2 + 6H_2O\\\\ \n",
      "2H_2 + O_2 \\rightarrow 2H_2O\n"
     ]
    }
   ],
   "source": [
    "from system import Element, Molecule, Reaction, System\n",
    "\n",
    "s2 = System()\n",
    "\n",
    "c = Element(\"C\")\n",
    "o = Element(\"O\")\n",
    "h = Element(\"H\")\n",
    "\n",
    "co2 = Molecule()\n",
    "co2.add_element(c, 1)\n",
    "co2.add_element(o, 2)\n",
    "\n",
    "h2o = Molecule()\n",
    "h2o.add_element(h, 2)\n",
    "h2o.add_element(o, 1)\n",
    "\n",
    "o2 = Molecule()\n",
    "o2.add_element(o, 2)\n",
    "\n",
    "h2 = Molecule()\n",
    "h2.add_element(h, 2)\n",
    "\n",
    "glucose = Molecule()\n",
    "glucose.add_element(c, 6)\n",
    "glucose.add_element(h, 12)\n",
    "glucose.add_element(o, 6)\n",
    "\n",
    "combustion_glucose = Reaction()\n",
    "combustion_glucose.reactants.add(glucose, 1)\n",
    "combustion_glucose.reactants.add(o2, 6)\n",
    "combustion_glucose.products.add(co2, 6)\n",
    "combustion_glucose.products.add(h2o, 6)\n",
    "s2.add_reaction(combustion_glucose)\n",
    "\n",
    "\n",
    "combustion_hydrogen = Reaction()\n",
    "combustion_hydrogen.reactants.add(h2, 2)\n",
    "combustion_hydrogen.reactants.add(o2, 1)\n",
    "combustion_hydrogen.products.add(h2o, 2)\n",
    "s2.add_reaction(combustion_hydrogen)\n",
    "\n",
    "print(s2)"
   ]
  },
  {
   "cell_type": "code",
   "execution_count": 3,
   "metadata": {},
   "outputs": [
    {
     "data": {
      "text/latex": [
       "$\\displaystyle C_6H_{12}O_6 + 6O_2 \\rightarrow 6CO_2 + 6H_2O\\\\ \n",
       "2H_2 + O_2 \\rightarrow 2H_2O$"
      ],
      "text/plain": [
       "<IPython.core.display.Math object>"
      ]
     },
     "metadata": {},
     "output_type": "display_data"
    }
   ],
   "source": [
    "from IPython.display import Math, display\n",
    "\n",
    "display(Math(str(s2)))"
   ]
  },
  {
   "cell_type": "markdown",
   "metadata": {},
   "source": [
    "How might we write a parser for this? Clearly we'll encounter the problems we previously solved in ensuring each molecule is the\n",
    "and atom only gets one object instance, but we solved this by using an appropriate primary key. (The above implementation is designed to make this easy, learning from the previous lecture.)\n",
    "\n",
    "But we'll also run into a bunch of problems which are basically string parsing : noting, for example, that `_2` and `_{12}` make a number of atoms in a molecule, or that `+` joins molecules.\n",
    "\n",
    "This will be very hard to do with straightforward python string processing."
   ]
  },
  {
   "cell_type": "markdown",
   "metadata": {},
   "source": [
    "Instead, we will use a tool called `ply` (Python Lex-Yacc) which contains `Lex` (for generating lexical analysers) and `Yacc` (Yet Another Compiler-Compiler). Together these allow us to define the **grammar** of our file format."
   ]
  },
  {
   "cell_type": "markdown",
   "metadata": {},
   "source": [
    "The theory of \"context free grammars\" is rich and deep, and we will just scratch the surface here."
   ]
  },
  {
   "cell_type": "markdown",
   "metadata": {},
   "source": [
    "## Tokenising with Lex"
   ]
  },
  {
   "cell_type": "markdown",
   "metadata": {},
   "source": [
    "First, we need to turn our file into a \"token stream\", using regular expressions to match the kinds of symbol in our source:"
   ]
  },
  {
   "cell_type": "code",
   "execution_count": 5,
   "metadata": {},
   "outputs": [
    {
     "name": "stdout",
     "output_type": "stream",
     "text": [
      "Writing lexreactions.py\n"
     ]
    }
   ],
   "source": [
    "%%writefile lexreactions.py\n",
    "\n",
    "from ply import lex\n",
    "\n",
    "tokens = (\n",
    "    \"ELEMENT\",\n",
    "    \"NUMBER\",\n",
    "    \"SUBSCRIPT\",\n",
    "    \"LBRACE\",\n",
    "    \"RBRACE\",\n",
    "    \"PLUS\",\n",
    "    \"ARROW\",\n",
    "    \"NEWLINE\",\n",
    "    \"TEXNEWLINE\",\n",
    ")\n",
    "\n",
    "# Tokens\n",
    "t_PLUS = r\"\\+\"\n",
    "t_SUBSCRIPT = r\"_\"\n",
    "t_LBRACE = r\"\\{\"\n",
    "t_RBRACE = r\"\\}\"\n",
    "t_TEXNEWLINE = r\"\\\\\\\\\"\n",
    "t_ARROW = r\"\\\\rightarrow\"\n",
    "t_ELEMENT = r\"[A-Z][a-z]?\"\n",
    "t_NEWLINE = r\"\\n+\"\n",
    "\n",
    "\n",
    "def t_NUMBER(t):\n",
    "    r\"\\d+\"\n",
    "    t.value = int(t.value)\n",
    "    return t\n",
    "\n",
    "\n",
    "t_ignore = \" \"\n",
    "\n",
    "\n",
    "def t_error(t):\n",
    "    print(f\"Did not recognise character '{t.value[0]:s}' as part of a valid token\")\n",
    "    t.lexer.skip(1)\n",
    "\n",
    "\n",
    "# Build the lexer\n",
    "lexer = lex.lex()"
   ]
  },
  {
   "cell_type": "code",
   "execution_count": 6,
   "metadata": {},
   "outputs": [],
   "source": [
    "from lexreactions import lexer"
   ]
  },
  {
   "cell_type": "code",
   "execution_count": 7,
   "metadata": {},
   "outputs": [],
   "source": [
    "tokens = []\n",
    "lexer.input(str(s2))\n",
    "while True:\n",
    "    tok = lexer.token()\n",
    "    if not tok:\n",
    "        break  # No more input\n",
    "    tokens.append(tok)"
   ]
  },
  {
   "cell_type": "code",
   "execution_count": 8,
   "metadata": {},
   "outputs": [
    {
     "name": "stdout",
     "output_type": "stream",
     "text": [
      "C_6H_{12}O_6 + 6O_2 \\rightarrow 6CO_2 + 6H_2O\\\\ \n",
      "2H_2 + O_2 \\rightarrow 2H_2O\n"
     ]
    }
   ],
   "source": [
    "print(str(s2))"
   ]
  },
  {
   "cell_type": "code",
   "execution_count": 9,
   "metadata": {},
   "outputs": [
    {
     "data": {
      "text/plain": [
       "[LexToken(ELEMENT,'C',1,0),\n",
       " LexToken(SUBSCRIPT,'_',1,1),\n",
       " LexToken(NUMBER,6,1,2),\n",
       " LexToken(ELEMENT,'H',1,3),\n",
       " LexToken(SUBSCRIPT,'_',1,4),\n",
       " LexToken(LBRACE,'{',1,5),\n",
       " LexToken(NUMBER,12,1,6),\n",
       " LexToken(RBRACE,'}',1,8),\n",
       " LexToken(ELEMENT,'O',1,9),\n",
       " LexToken(SUBSCRIPT,'_',1,10),\n",
       " LexToken(NUMBER,6,1,11),\n",
       " LexToken(PLUS,'+',1,13),\n",
       " LexToken(NUMBER,6,1,15),\n",
       " LexToken(ELEMENT,'O',1,16),\n",
       " LexToken(SUBSCRIPT,'_',1,17),\n",
       " LexToken(NUMBER,2,1,18),\n",
       " LexToken(ARROW,'\\\\rightarrow',1,20),\n",
       " LexToken(NUMBER,6,1,32),\n",
       " LexToken(ELEMENT,'C',1,33),\n",
       " LexToken(ELEMENT,'O',1,34),\n",
       " LexToken(SUBSCRIPT,'_',1,35),\n",
       " LexToken(NUMBER,2,1,36),\n",
       " LexToken(PLUS,'+',1,38),\n",
       " LexToken(NUMBER,6,1,40),\n",
       " LexToken(ELEMENT,'H',1,41),\n",
       " LexToken(SUBSCRIPT,'_',1,42),\n",
       " LexToken(NUMBER,2,1,43),\n",
       " LexToken(ELEMENT,'O',1,44),\n",
       " LexToken(TEXNEWLINE,'\\\\\\\\',1,45),\n",
       " LexToken(NEWLINE,'\\n',1,48),\n",
       " LexToken(NUMBER,2,1,49),\n",
       " LexToken(ELEMENT,'H',1,50),\n",
       " LexToken(SUBSCRIPT,'_',1,51),\n",
       " LexToken(NUMBER,2,1,52),\n",
       " LexToken(PLUS,'+',1,54),\n",
       " LexToken(ELEMENT,'O',1,56),\n",
       " LexToken(SUBSCRIPT,'_',1,57),\n",
       " LexToken(NUMBER,2,1,58),\n",
       " LexToken(ARROW,'\\\\rightarrow',1,60),\n",
       " LexToken(NUMBER,2,1,72),\n",
       " LexToken(ELEMENT,'H',1,73),\n",
       " LexToken(SUBSCRIPT,'_',1,74),\n",
       " LexToken(NUMBER,2,1,75),\n",
       " LexToken(ELEMENT,'O',1,76)]"
      ]
     },
     "execution_count": 9,
     "metadata": {},
     "output_type": "execute_result"
    }
   ],
   "source": [
    "tokens"
   ]
  },
  {
   "cell_type": "markdown",
   "metadata": {},
   "source": [
    "Note that the parser will reject invalid tokens:"
   ]
  },
  {
   "cell_type": "code",
   "execution_count": 10,
   "metadata": {},
   "outputs": [
    {
     "name": "stdout",
     "output_type": "stream",
     "text": [
      "LexToken(NUMBER,2,1,0)\n",
      "LexToken(ELEMENT,'H',1,1)\n",
      "LexToken(SUBSCRIPT,'_',1,2)\n",
      "LexToken(NUMBER,2,1,3)\n",
      "LexToken(PLUS,'+',1,5)\n",
      "LexToken(ELEMENT,'O',1,7)\n",
      "LexToken(SUBSCRIPT,'_',1,8)\n",
      "LexToken(NUMBER,2,1,9)\n",
      "Did not recognise character '\\' as part of a valid token\n",
      "Did not recognise character 'l' as part of a valid token\n",
      "Did not recognise character 'e' as part of a valid token\n",
      "Did not recognise character 'f' as part of a valid token\n",
      "Did not recognise character 't' as part of a valid token\n",
      "Did not recognise character 'a' as part of a valid token\n",
      "Did not recognise character 'r' as part of a valid token\n",
      "Did not recognise character 'r' as part of a valid token\n",
      "Did not recognise character 'o' as part of a valid token\n",
      "Did not recognise character 'w' as part of a valid token\n",
      "LexToken(NUMBER,2,1,22)\n",
      "LexToken(ELEMENT,'H',1,23)\n",
      "LexToken(SUBSCRIPT,'_',1,24)\n",
      "LexToken(NUMBER,2,1,25)\n",
      "LexToken(ELEMENT,'O',1,26)\n"
     ]
    }
   ],
   "source": [
    "lexer.input(\"\"\"2H_2 + O_2 \\\\leftarrow 2H_2O\"\"\")\n",
    "while True:\n",
    "    tok = lexer.token()\n",
    "    if not tok:\n",
    "        break  # No more input\n",
    "    print(tok)"
   ]
  },
  {
   "cell_type": "markdown",
   "metadata": {},
   "source": [
    "## Writing a grammar"
   ]
  },
  {
   "cell_type": "markdown",
   "metadata": {},
   "source": [
    "So, how do we express our algebra for chemical reactions as a grammar?"
   ]
  },
  {
   "cell_type": "markdown",
   "metadata": {},
   "source": [
    "We write a series of production rules, expressing how a system is made up of equations, an equation is made up of molecules etc:"
   ]
  },
  {
   "cell_type": "markdown",
   "metadata": {},
   "source": [
    "```\n",
    "system : equation\n",
    "system : system TEXNEWLINE NEWLINE equation\n",
    "equation : side ARROW side\n",
    "side : molecules\n",
    "molecules : molecule\n",
    "molecules : NUMBER molecule\n",
    "side : side PLUS molecules\n",
    "molecule : countedelement\n",
    "countedelement : ELEMENT\n",
    "countedelement : ELEMENT atomcount\n",
    "molecule : molecule countedelement\n",
    "atomcount : SUBSCRIPT NUMBER\n",
    "atomcount : SUBSCRIPT LBRACE NUMBER RBRACE\n",
    "```"
   ]
  },
  {
   "cell_type": "markdown",
   "metadata": {},
   "source": [
    "Note how we right that a system is made of more than one equation:\n",
    "\n",
    "```\n",
    "system : equation # A system could be one equation\n",
    "system : system NEWLINE equation # Or it could be a system then an equation\n",
    "```\n",
    "\n",
    "... which implies, recursively, that a system could also be:\n",
    "\n",
    "```\n",
    "system: equation NEWLINE equation NEWLINE equation ...\n",
    "```"
   ]
  },
  {
   "cell_type": "markdown",
   "metadata": {},
   "source": [
    "This is an **incredibly** powerful idea. The full grammar for Python 3 can be defined in only a few hundred lines of specification: https://docs.python.org/3/reference/grammar.html"
   ]
  },
  {
   "cell_type": "markdown",
   "metadata": {},
   "source": [
    "## Parsing with Yacc"
   ]
  },
  {
   "cell_type": "markdown",
   "metadata": {},
   "source": [
    "A parser defined with Yacc builds up the final object, by breaking down the\n",
    "file according to the rules of the grammar, and then building up objects\n",
    "as the individual tokens coalesce into the full grammar.\n",
    "\n",
    "Here, we will for clarity not attempt to solve the problem of having multiple molecule instances for the same molecule - the normalisation problem solved last lecture."
   ]
  },
  {
   "cell_type": "markdown",
   "metadata": {},
   "source": [
    "In Yacc, each grammar rule is defined by a Python function where the docstring for the function contains the appropriate grammar specification.\n",
    "\n",
    "Each function accepts an argument `p` that is a list of symbols in the grammar. It must implement the actions of that rule. For example:\n",
    "\n",
    "```python\n",
    "def p_expression_plus(p):\n",
    "    'expression : expression PLUS term'\n",
    "    #   ^            ^        ^    ^\n",
    "    #  p[0]         p[1]     p[2] p[3]\n",
    "    p[0] = p[1] + p[3]\n",
    "```"
   ]
  },
  {
   "cell_type": "code",
   "execution_count": 11,
   "metadata": {},
   "outputs": [
    {
     "name": "stdout",
     "output_type": "stream",
     "text": [
      "Writing parsereactions.py\n"
     ]
    }
   ],
   "source": [
    "%%writefile parsereactions.py\n",
    "\n",
    "# Yacc example\n",
    "import ply.yacc as yacc\n",
    "\n",
    "# Get the components of our system\n",
    "from system import Element, Molecule, Side, Reaction, System\n",
    "\n",
    "# Get the token map from the lexer.  This is required.\n",
    "from lexreactions import tokens\n",
    "\n",
    "\n",
    "def p_expression_system(p):\n",
    "    \"system : equation\"\n",
    "    p[0] = System()\n",
    "    p[0].add_reaction(p[1])\n",
    "\n",
    "\n",
    "def p_expression_combine_system(p):\n",
    "    \"system : system TEXNEWLINE NEWLINE equation\"\n",
    "    p[0] = p[1]\n",
    "    p[0].add_reaction(p[4])\n",
    "\n",
    "\n",
    "def p_equation(p):\n",
    "    \"equation : side ARROW side\"\n",
    "    p[0] = Reaction()\n",
    "    p[0].reactants = p[1]\n",
    "    p[0].products = p[3]\n",
    "\n",
    "\n",
    "def p_side(p):\n",
    "    \"side : molecules\"\n",
    "    p[0] = Side()\n",
    "    p[0].add(p[1][0], p[1][1])\n",
    "\n",
    "\n",
    "def p_molecules(p):\n",
    "    \"molecules : molecule\"\n",
    "    p[0] = (p[1], 1)\n",
    "\n",
    "\n",
    "def p_stoichiometry(p):\n",
    "    \"molecules : NUMBER molecule\"\n",
    "    p[0] = (p[2], p[1])\n",
    "\n",
    "\n",
    "def p_plus(p):\n",
    "    \"side : side PLUS molecules\"\n",
    "    p[0] = p[1]\n",
    "    p[0].add(p[3][0], p[3][1])\n",
    "\n",
    "\n",
    "def p_molecule(p):\n",
    "    \"molecule : countedelement\"\n",
    "    p[0] = Molecule()\n",
    "    p[0].add_element(p[1][0], p[1][1])\n",
    "\n",
    "\n",
    "def p_countedelement(p):\n",
    "    \"countedelement : ELEMENT\"\n",
    "    p[0] = (p[1], 1)\n",
    "\n",
    "\n",
    "def p_ncountedelement(p):\n",
    "    \"countedelement : ELEMENT atomcount\"\n",
    "    p[0] = (p[1], p[2])\n",
    "\n",
    "\n",
    "def p_multi_element(p):\n",
    "    \"molecule : molecule countedelement\"\n",
    "    p[0] = p[1]\n",
    "    p[0].add_element(p[2][0], p[2][1])\n",
    "\n",
    "\n",
    "def p_multi_atoms(p):\n",
    "    \"atomcount : SUBSCRIPT NUMBER\"\n",
    "    p[0] = int(p[2])\n",
    "\n",
    "\n",
    "def p_many_atoms(p):\n",
    "    \"atomcount : SUBSCRIPT LBRACE NUMBER RBRACE\"\n",
    "    p[0] = int(p[3])\n",
    "\n",
    "\n",
    "# Error rule for syntax errors\n",
    "def p_error(p):\n",
    "    print(\"Syntax error in input!\")\n",
    "\n",
    "\n",
    "# Build the parser\n",
    "parser = yacc.yacc()"
   ]
  },
  {
   "cell_type": "code",
   "execution_count": 12,
   "metadata": {},
   "outputs": [
    {
     "name": "stderr",
     "output_type": "stream",
     "text": [
      "Generating LALR tables\n"
     ]
    }
   ],
   "source": [
    "from parsereactions import parser\n",
    "\n",
    "roundtrip_system = parser.parse(str(s2))"
   ]
  },
  {
   "cell_type": "code",
   "execution_count": 13,
   "metadata": {},
   "outputs": [
    {
     "name": "stdout",
     "output_type": "stream",
     "text": [
      "Created by PLY version 3.11 (http://www.dabeaz.com/ply)\n",
      "\n",
      "Grammar\n",
      "\n",
      "Rule 0     S' -> system\n",
      "Rule 1     system -> equation\n",
      "Rule 2     system -> system TEXNEWLINE NEWLINE equation\n",
      "Rule 3     equation -> side ARROW side\n",
      "Rule 4     side -> molecules\n",
      "Rule 5     molecules -> molecule\n",
      "Rule 6     molecules -> NUMBER molecule\n",
      "Rule 7     side -> side PLUS molecules\n",
      "Rule 8     molecule -> countedelement\n",
      "Rule 9     countedelement -> ELEMENT\n",
      "Rule 10    countedelement -> ELEMENT atomcount\n",
      "Rule 11    molecule -> molecule countedelement\n",
      "Rule 12    atomcount -> SUBSCRIPT NUMBER\n",
      "Rule 13    atomcount -> SUBSCRIPT LBRACE NUMBER RBRACE\n",
      "\n",
      "Terminals, with rules where they appear\n",
      "\n",
      "ARROW                : 3\n",
      "ELEMENT              : 9 10\n",
      "LBRACE               : 13\n",
      "NEWLINE              : 2\n",
      "NUMBER               : 6 12 13\n",
      "PLUS                 : 7\n",
      "RBRACE               : 13\n",
      "SUBSCRIPT            : 12 13\n",
      "TEXNEWLINE           : 2\n",
      "error                : \n",
      "\n",
      "Nonterminals, with rules where they appear\n",
      "\n",
      "atomcount            : 10\n",
      "countedelement       : 8 11\n",
      "equation             : 1 2\n",
      "molecule             : 5 6 11\n",
      "molecules            : 4 7\n",
      "side                 : 3 3 7\n",
      "system               : 2 0\n",
      "\n",
      "Parsing method: LALR\n",
      "\n",
      "state 0\n",
      "\n",
      "    (0) S' -> . system\n",
      "    (1) system -> . equation\n",
      "    (2) system -> . system TEXNEWLINE NEWLINE equation\n",
      "    (3) equation -> . side ARROW side\n",
      "    (4) side -> . molecules\n",
      "    (7) side -> . side PLUS molecules\n",
      "    (5) molecules -> . molecule\n",
      "    (6) molecules -> . NUMBER molecule\n",
      "    (8) molecule -> . countedelement\n",
      "    (11) molecule -> . molecule countedelement\n",
      "    (9) countedelement -> . ELEMENT\n",
      "    (10) countedelement -> . ELEMENT atomcount\n",
      "\n",
      "    NUMBER          shift and go to state 6\n",
      "    ELEMENT         shift and go to state 8\n",
      "\n",
      "    system                         shift and go to state 1\n",
      "    equation                       shift and go to state 2\n",
      "    side                           shift and go to state 3\n",
      "    molecules                      shift and go to state 4\n",
      "    molecule                       shift and go to state 5\n",
      "    countedelement                 shift and go to state 7\n",
      "\n",
      "state 1\n",
      "\n",
      "    (0) S' -> system .\n",
      "    (2) system -> system . TEXNEWLINE NEWLINE equation\n",
      "\n",
      "    TEXNEWLINE      shift and go to state 9\n",
      "\n",
      "\n",
      "state 2\n",
      "\n",
      "    (1) system -> equation .\n",
      "\n",
      "    TEXNEWLINE      reduce using rule 1 (system -> equation .)\n",
      "    $end            reduce using rule 1 (system -> equation .)\n",
      "\n",
      "\n",
      "state 3\n",
      "\n",
      "    (3) equation -> side . ARROW side\n",
      "    (7) side -> side . PLUS molecules\n",
      "\n",
      "    ARROW           shift and go to state 10\n",
      "    PLUS            shift and go to state 11\n",
      "\n",
      "\n",
      "state 4\n",
      "\n",
      "    (4) side -> molecules .\n",
      "\n",
      "    ARROW           reduce using rule 4 (side -> molecules .)\n",
      "    PLUS            reduce using rule 4 (side -> molecules .)\n"
     ]
    }
   ],
   "source": [
    "%%bash\n",
    "# Read the first 100 lines from the file\n",
    "head -n 100 parser.out"
   ]
  },
  {
   "cell_type": "code",
   "execution_count": 14,
   "metadata": {},
   "outputs": [
    {
     "data": {
      "text/latex": [
       "$\\displaystyle C_6H_{12}O_6 + 6O_2 \\rightarrow 6CO_2 + 6H_2O\\\\ \n",
       "2H_2 + O_2 \\rightarrow 2H_2O$"
      ],
      "text/plain": [
       "<IPython.core.display.Math object>"
      ]
     },
     "metadata": {},
     "output_type": "display_data"
    }
   ],
   "source": [
    "display(Math(str(roundtrip_system)))"
   ]
  },
  {
   "cell_type": "code",
   "execution_count": 15,
   "metadata": {},
   "outputs": [],
   "source": [
    "with open(\"system.tex\", \"w\") as texfile:\n",
    "    texfile.write(str(roundtrip_system))"
   ]
  },
  {
   "cell_type": "code",
   "execution_count": 16,
   "metadata": {},
   "outputs": [
    {
     "name": "stdout",
     "output_type": "stream",
     "text": [
      "C_6H_{12}O_6 + 6O_2 \\rightarrow 6CO_2 + 6H_2O\\\\ \r\n",
      "2H_2 + O_2 \\rightarrow 2H_2O"
     ]
    }
   ],
   "source": [
    "!cat system.tex"
   ]
  },
  {
   "cell_type": "markdown",
   "metadata": {},
   "source": [
    "## Internal DSLs"
   ]
  },
  {
   "cell_type": "markdown",
   "metadata": {},
   "source": [
    "In doing the above, we have defined what is called an \"external DSL\":\n",
    "    our code is in Python, but the file format is a language with a grammar\n",
    "    of its own.\n",
    "    \n",
    "However, we can use the language itself to define something almost\n",
    "as fluent, without having to write our own grammar,\n",
    "by using operator overloading and metaprogramming tricks:"
   ]
  },
  {
   "cell_type": "code",
   "execution_count": 17,
   "metadata": {},
   "outputs": [
    {
     "name": "stdout",
     "output_type": "stream",
     "text": [
      "Writing reactionsdsl.py\n"
     ]
    }
   ],
   "source": [
    "%%writefile reactionsdsl.py\n",
    "\n",
    "\n",
    "class Element:\n",
    "    def __init__(self, symbol):\n",
    "        self.symbol = symbol\n",
    "\n",
    "    def __str__(self):\n",
    "        return str(self.symbol)\n",
    "\n",
    "    def __mul__(self, other):\n",
    "        \"\"\"Let Molecule handle the multiplication\"\"\"\n",
    "        return (self / 1) * other\n",
    "\n",
    "    def __truediv__(self, number):\n",
    "        \"\"\"`Element / number => Molecule`\"\"\"\n",
    "        res = Molecule()\n",
    "        res.add_element(self, number)\n",
    "        return res\n",
    "\n",
    "\n",
    "class Molecule:\n",
    "    def __init__(self):\n",
    "        self.elements = {}  # Map from element to number of that element in the molecule\n",
    "\n",
    "    def add_element(self, element, number):\n",
    "        if not isinstance(element, Element):\n",
    "            element = Element(element)\n",
    "        self.elements[element] = number\n",
    "\n",
    "    @staticmethod\n",
    "    def as_subscript(number):\n",
    "        if number == 1:\n",
    "            return \"\"\n",
    "        if number < 10:\n",
    "            return \"_\" + str(number)\n",
    "        return \"_{\" + str(number) + \"}\"\n",
    "\n",
    "    def __str__(self):\n",
    "        return \"\".join(\n",
    "            [\n",
    "                str(element) + Molecule.as_subscript(self.elements[element])\n",
    "                for element in self.elements\n",
    "            ]\n",
    "        )\n",
    "\n",
    "    def __mul__(self, other):\n",
    "        \"\"\"`Molecule * Element => Molecule`\n",
    "        `Molecule * Molecule => Molecule`\n",
    "        \"\"\"\n",
    "        if type(other) == Molecule:\n",
    "            self.elements.update(other.elements)\n",
    "        else:\n",
    "            self.add_element(other, 1)\n",
    "        return self\n",
    "\n",
    "    def __rmul__(self, stoich):\n",
    "        \"\"\"`Number * Molecule => Side`\"\"\"\n",
    "        res = Side()\n",
    "        res.add(self, stoich)\n",
    "        return res\n",
    "\n",
    "    def __add__(self, other):\n",
    "        \"\"\"`Molecule + X => Side`\"\"\"\n",
    "        if type(other) == Side:\n",
    "            other.molecules[self] = 1\n",
    "            return other\n",
    "        res = Side()\n",
    "        res.add(self, 1)\n",
    "        res.add(other, 1)\n",
    "        return res\n",
    "\n",
    "\n",
    "class Side:\n",
    "    def __init__(self):\n",
    "        self.molecules = {}\n",
    "\n",
    "    def add(self, reactant, stoichiometry):\n",
    "        self.molecules[reactant] = stoichiometry\n",
    "\n",
    "    @staticmethod\n",
    "    def print_if_not_one(number):\n",
    "        if number == 1:\n",
    "            return \"\"\n",
    "        else:\n",
    "            return str(number)\n",
    "\n",
    "    def __str__(self):\n",
    "        return \" + \".join(\n",
    "            [\n",
    "                Side.print_if_not_one(self.molecules[molecule]) + str(molecule)\n",
    "                for molecule in self.molecules\n",
    "            ]\n",
    "        )\n",
    "\n",
    "    def __add__(self, other):\n",
    "        \"\"\"Side + X => Side\"\"\"\n",
    "        self.molecules.update(other.molecules)\n",
    "        return self\n",
    "\n",
    "    def __eq__(self, other):\n",
    "        res = Reaction()\n",
    "        res.reactants = self\n",
    "        res.products = other\n",
    "        current_system.add_reaction(res)  # Closure!\n",
    "        return f\"Added: '{res}'\"\n",
    "\n",
    "\n",
    "class Reaction:\n",
    "    def __init__(self):\n",
    "        self.reactants = Side()\n",
    "        self.products = Side()\n",
    "\n",
    "    def __str__(self):\n",
    "        return str(self.reactants) + \" \\\\rightarrow \" + str(self.products)\n",
    "\n",
    "\n",
    "class System:\n",
    "    def __init__(self):\n",
    "        self.reactions = []\n",
    "\n",
    "    def add_reaction(self, reaction):\n",
    "        self.reactions.append(reaction)\n",
    "\n",
    "    def __str__(self):\n",
    "        return \"\\\\\\\\ \\n\".join(map(str, self.reactions))\n",
    "\n",
    "\n",
    "current_system = System()"
   ]
  },
  {
   "cell_type": "code",
   "execution_count": 18,
   "metadata": {},
   "outputs": [],
   "source": [
    "from reactionsdsl import Element, current_system"
   ]
  },
  {
   "cell_type": "code",
   "execution_count": 19,
   "metadata": {},
   "outputs": [],
   "source": [
    "# Here we add new symbols to the global scope\n",
    "# This is *not* good practice, we do it here to demonstrate that it is possible to do\n",
    "for symbol in (\"C\", \"O\", \"H\"):\n",
    "    globals()[symbol] = Element(symbol)"
   ]
  },
  {
   "cell_type": "code",
   "execution_count": 20,
   "metadata": {},
   "outputs": [
    {
     "data": {
      "text/plain": [
       "\"Added: '2H_2 + O_2 \\\\rightarrow 2H_2O'\""
      ]
     },
     "execution_count": 20,
     "metadata": {},
     "output_type": "execute_result"
    }
   ],
   "source": [
    "O / 2 + 2 * (H / 2) == 2 * (H / 2 * O)"
   ]
  },
  {
   "cell_type": "code",
   "execution_count": 21,
   "metadata": {},
   "outputs": [
    {
     "data": {
      "text/plain": [
       "\"Added: '6O_2 + C_6H_{12}O_6 \\\\rightarrow 6H_2O + 6CO_2'\""
      ]
     },
     "execution_count": 21,
     "metadata": {},
     "output_type": "execute_result"
    }
   ],
   "source": [
    "(C / 6) * (H / 12) * (O / 6) + 6 * (O / 2) == 6 * (H / 2 * O) + 6 * (C * (O / 2))"
   ]
  },
  {
   "cell_type": "code",
   "execution_count": 22,
   "metadata": {},
   "outputs": [
    {
     "data": {
      "text/latex": [
       "$\\displaystyle 2H_2 + O_2 \\rightarrow 2H_2O\\\\ \n",
       "6O_2 + C_6H_{12}O_6 \\rightarrow 6H_2O + 6CO_2$"
      ],
      "text/plain": [
       "<IPython.core.display.Math object>"
      ]
     },
     "metadata": {},
     "output_type": "display_data"
    }
   ],
   "source": [
    "display(Math(str(current_system)))"
   ]
  },
  {
   "cell_type": "markdown",
   "metadata": {},
   "source": [
    "Python is not perfect for this, because it lacks the idea of parenthesis-free function dispatch and other things that make internal DSLs pretty."
   ]
  }
 ],
 "metadata": {
  "jekyll": {
   "display_name": "Domain specific languages"
  },
  "kernelspec": {
   "display_name": "Python 3 (ipykernel)",
   "language": "python",
   "name": "python3"
  },
  "language_info": {
   "codemirror_mode": {
    "name": "ipython",
    "version": 3
   },
   "file_extension": ".py",
   "mimetype": "text/x-python",
   "name": "python",
   "nbconvert_exporter": "python",
   "pygments_lexer": "ipython3",
   "version": "3.8.13"
  }
 },
 "nbformat": 4,
 "nbformat_minor": 1
}
