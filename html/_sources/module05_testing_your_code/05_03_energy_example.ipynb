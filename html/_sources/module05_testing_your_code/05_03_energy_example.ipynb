{
 "cells": [
  {
   "cell_type": "markdown",
   "metadata": {},
   "source": [
    "# Classroom exercise: energy calculation\n",
    "\n",
    "## Diffusion model in 1D\n",
    "\n",
    "Description: A one-dimensional diffusion model. (Could be a gas of particles, or a bunch of crowded people in a corridor, or animals in a valley habitat...)\n",
    "\n",
    "- Agents are on a 1d axis\n",
    "- Agents do not want to be where there are other agents\n",
    "- This is represented as an 'energy': the higher the energy, the more unhappy the agents.\n",
    "\n",
    "Implementation:\n",
    "\n",
    "- Given a vector $n$ of positive integers, and of arbitrary length\n",
    "- Compute the energy, $E(n) = \\sum_i n_i(n_i - 1)$\n",
    "- Later, we will have the likelyhood of an agent moving depend on the change in energy."
   ]
  },
  {
   "cell_type": "code",
   "execution_count": 1,
   "metadata": {},
   "outputs": [
    {
     "data": {
      "text/plain": [
       "Text(0.5, 0, 'Position $i$')"
      ]
     },
     "execution_count": 1,
     "metadata": {},
     "output_type": "execute_result"
    },
    {
     "data": {
      "image/png": "[encoded data removed]",
      "text/plain": [
       "<Figure size 432x288 with 1 Axes>"
      ]
     },
     "metadata": {
      "needs_background": "light"
     },
     "output_type": "display_data"
    }
   ],
   "source": [
    "%matplotlib inline\n",
    "import numpy as np\n",
    "from matplotlib import pyplot as plt\n",
    "\n",
    "density = np.array([0, 0, 3, 5, 8, 4, 2, 1])\n",
    "fig, ax = plt.subplots()\n",
    "ax.bar(np.arange(len(density)) - 0.5, density)\n",
    "ax.xrange = [-0.5, len(density) - 0.5]\n",
    "ax.set_ylabel(\"Particle count $n_i$\")\n",
    "ax.set_xlabel(\"Position $i$\")"
   ]
  },
  {
   "cell_type": "markdown",
   "metadata": {},
   "source": [
    "Here, the total energy due to position 2 is $3 (3-1)=6$, and due to column 7 is $1 (1-1)=0$. We need to sum these to get the\n",
    "total energy."
   ]
  },
  {
   "cell_type": "markdown",
   "metadata": {},
   "source": [
    "## Starting point\n",
    "\n",
    "Create a Python module:"
   ]
  },
  {
   "cell_type": "code",
   "execution_count": 2,
   "metadata": {},
   "outputs": [],
   "source": [
    "%%bash\n",
    "rm -rf diffusion\n",
    "mkdir diffusion\n",
    "install -m 644 /dev/null diffusion/__init__.py"
   ]
  },
  {
   "cell_type": "markdown",
   "metadata": {},
   "source": [
    "**Windows:** You will need to run the following instead\n",
    "    \n",
    "```cmd\n",
    "%%cmd\n",
    "rmdir /s diffusion\n",
    "mkdir diffusion\n",
    "type nul > diffusion/__init__.py\n",
    "```\n",
    "\n",
    "**NB.** If you are using the Windows command prompt, you will also have to replace all subsequent `%%bash` directives with `%%cmd` "
   ]
  },
  {
   "cell_type": "markdown",
   "metadata": {},
   "source": [
    "* Implementation file: diffusion_model.py"
   ]
  },
  {
   "cell_type": "code",
   "execution_count": 3,
   "metadata": {
    "attributes": {
     "classes": [
      " python"
     ],
     "id": ""
    }
   },
   "outputs": [
    {
     "name": "stdout",
     "output_type": "stream",
     "text": [
      "Writing diffusion/model.py\n"
     ]
    }
   ],
   "source": [
    "%%writefile diffusion/model.py\n",
    "def energy(density, coeff=1.0):\n",
    "    \"\"\"Energy associated with the diffusion model\n",
    "\n",
    "    Parameters\n",
    "    ----------\n",
    "\n",
    "    density: array of positive integers\n",
    "        Number of particles at each position i in the array\n",
    "    coeff: float\n",
    "        Diffusion coefficient.\n",
    "    \"\"\"\n",
    "    # implementation goes here"
   ]
  },
  {
   "cell_type": "markdown",
   "metadata": {},
   "source": [
    "* Testing file: test_diffusion_model.py"
   ]
  },
  {
   "cell_type": "code",
   "execution_count": 4,
   "metadata": {
    "attributes": {
     "classes": [
      " python"
     ],
     "id": ""
    }
   },
   "outputs": [
    {
     "name": "stdout",
     "output_type": "stream",
     "text": [
      "Writing diffusion/test_model.py\n"
     ]
    }
   ],
   "source": [
    "%%writefile diffusion/test_model.py\n",
    "from .model import energy\n",
    "\n",
    "\n",
    "def test_energy():\n",
    "    \"\"\"Optional description for nose reporting.\"\"\"\n",
    "    # Test something"
   ]
  },
  {
   "cell_type": "markdown",
   "metadata": {},
   "source": [
    "Invoke the tests:"
   ]
  },
  {
   "cell_type": "code",
   "execution_count": 5,
   "metadata": {},
   "outputs": [
    {
     "name": "stdout",
     "output_type": "stream",
     "text": [
      "============================= test session starts ==============================\n",
      "platform darwin -- Python 3.8.13, pytest-7.1.2, py-1.10.0, pluggy-1.0.0\n",
      "rootdir: /home/turingdev/research-software/rse-course/ch03tests/diffusion\n",
      "plugins: cov-2.12.1, anyio-3.3.0\n",
      "collected 1 item\n",
      "\n",
      "test_model.py .                                                          [100%]\n",
      "\n",
      "============================== 1 passed in 0.05s ===============================\n"
     ]
    }
   ],
   "source": [
    "%%bash\n",
    "cd diffusion\n",
    "py.test"
   ]
  },
  {
   "cell_type": "markdown",
   "metadata": {},
   "source": [
    "Now, write your code (in `model.py`), and tests (in `test_model.py`), testing as you do."
   ]
  },
  {
   "cell_type": "markdown",
   "metadata": {},
   "source": [
    "## Solution\n",
    "\n",
    "Don't look until after you've tried!\n",
    "\n",
    "In the spirit of test-driven development let's first consider our tests."
   ]
  },
  {
   "cell_type": "code",
   "execution_count": 6,
   "metadata": {},
   "outputs": [
    {
     "name": "stdout",
     "output_type": "stream",
     "text": [
      "Overwriting diffusion/test_model.py\n"
     ]
    }
   ],
   "source": [
    "%%writefile diffusion/test_model.py\n",
    "\"\"\"Unit tests for a diffusion model.\"\"\"\n",
    "\n",
    "from pytest import raises\n",
    "from .model import energy\n",
    "\n",
    "\n",
    "def test_energy_fails_on_non_integer_density():\n",
    "    with raises(TypeError) as exception:\n",
    "        energy([1.0, 2, 3])\n",
    "\n",
    "\n",
    "def test_energy_fails_on_negative_density():\n",
    "    with raises(ValueError) as exception:\n",
    "        energy([-1, 2, 3])\n",
    "\n",
    "\n",
    "def test_energy_fails_ndimensional_density():\n",
    "    with raises(ValueError) as exception:\n",
    "        energy([[1, 2, 3], [3, 4, 5]])\n",
    "\n",
    "\n",
    "def test_zero_energy_cases():\n",
    "    # Zero energy at zero density\n",
    "    densities = [[], [0], [0, 0, 0]]\n",
    "    for density in densities:\n",
    "        assert energy(density) == 0\n",
    "\n",
    "\n",
    "def test_derivative():\n",
    "    from numpy.random import randint\n",
    "\n",
    "    # Loop over vectors of different sizes (but not empty)\n",
    "    for vector_size in randint(1, 1000, size=30):\n",
    "\n",
    "        # Create random density of size N\n",
    "        density = randint(50, size=vector_size)\n",
    "\n",
    "        # will do derivative at this index\n",
    "        element_index = randint(vector_size)\n",
    "\n",
    "        # modified densities\n",
    "        density_plus_one = density.copy()\n",
    "        density_plus_one[element_index] += 1\n",
    "\n",
    "        # Compute and check result\n",
    "        # d(n^2-1)/dn = 2n\n",
    "        expected = 2.0 * density[element_index] if density[element_index] > 0 else 0\n",
    "        actual = energy(density_plus_one) - energy(density)\n",
    "        assert expected == actual\n",
    "\n",
    "\n",
    "def test_derivative_no_self_energy():\n",
    "    \"\"\"If particle is alone, then its participation to energy is zero.\"\"\"\n",
    "    from numpy import array\n",
    "\n",
    "    density = array([1, 0, 1, 10, 15, 0])\n",
    "    density_plus_one = density.copy()\n",
    "    density[1] += 1\n",
    "\n",
    "    expected = 0\n",
    "    actual = energy(density_plus_one) - energy(density)\n",
    "    assert expected == actual"
   ]
  },
  {
   "cell_type": "markdown",
   "metadata": {},
   "source": [
    "Now let's write an implementation that passes the tests.\n"
   ]
  },
  {
   "cell_type": "code",
   "execution_count": 7,
   "metadata": {},
   "outputs": [
    {
     "name": "stdout",
     "output_type": "stream",
     "text": [
      "Overwriting diffusion/model.py\n"
     ]
    }
   ],
   "source": [
    "%%writefile diffusion/model.py\n",
    "\"\"\"Simplistic 1-dimensional diffusion model.\"\"\"\n",
    "from numpy import array, any, sum\n",
    "\n",
    "\n",
    "def energy(density):\n",
    "    \"\"\"Energy associated with the diffusion model\n",
    "    :Parameters:\n",
    "      density: array of positive integers\n",
    "         Number of particles at each position i in the array/geometry\n",
    "    \"\"\"\n",
    "\n",
    "    # Make sure input is an numpy array\n",
    "    density = array(density)\n",
    "\n",
    "    # ...of the right kind (integer). Unless it is zero length,\n",
    "    #    in which case type does not matter.\n",
    "\n",
    "    if density.dtype.kind != \"i\" and len(density) > 0:\n",
    "        raise TypeError(\"Density should be a array of *integers*.\")\n",
    "    # and the right values (positive or null)\n",
    "    if any(density < 0):\n",
    "        raise ValueError(\"Density should be an array of *positive* integers.\")\n",
    "    if density.ndim != 1:\n",
    "        raise ValueError(\n",
    "            \"Density should be an a *1-dimensional*\" + \"array of positive integers.\"\n",
    "        )\n",
    "\n",
    "    return sum(density * (density - 1))"
   ]
  },
  {
   "cell_type": "code",
   "execution_count": 8,
   "metadata": {},
   "outputs": [
    {
     "name": "stdout",
     "output_type": "stream",
     "text": [
      "============================= test session starts ==============================\n",
      "platform darwin -- Python 3.8.13, pytest-7.1.2, py-1.10.0, pluggy-1.0.0\n",
      "rootdir: /home/turingdev/research-software/rse-course/ch03tests/diffusion\n",
      "plugins: cov-2.12.1, anyio-3.3.0\n",
      "collected 6 items\n",
      "\n",
      "test_model.py ......                                                     [100%]\n",
      "\n",
      "============================== 6 passed in 0.25s ===============================\n"
     ]
    }
   ],
   "source": [
    "%%bash\n",
    "cd diffusion\n",
    "py.test"
   ]
  },
  {
   "cell_type": "markdown",
   "metadata": {},
   "source": [
    "## Coverage\n",
    "\n",
    "With py.test, you can use the [\"pytest-cov\" plugin](https://github.com/pytest-dev/pytest-cov) to measure test coverage"
   ]
  },
  {
   "cell_type": "code",
   "execution_count": 9,
   "metadata": {},
   "outputs": [
    {
     "name": "stdout",
     "output_type": "stream",
     "text": [
      "============================= test session starts ==============================\n",
      "platform darwin -- Python 3.8.13, pytest-7.1.2, py-1.10.0, pluggy-1.0.0\n",
      "rootdir: /home/turingdev/research-software/rse-course/ch03tests/diffusion\n",
      "plugins: cov-2.12.1, anyio-3.3.0\n",
      "collected 6 items\n",
      "\n",
      "test_model.py ......                                                     [100%]\n",
      "\n",
      "---------- coverage: platform darwin, python 3.8.13-final-0 -----------\n",
      "Name                                                                                                                                     Stmts   Miss  Cover\n",
      "------------------------------------------------------------------------------------------------------------------------------------------------------------\n",
      "/home/turingdev/.pyenv/versions/3.8.13/envs/rse-course/lib/python3.8/site-packages/_pytest/_argcomplete.py                       37     36     3%\n",
      "/home/turingdev/.pyenv/versions/3.8.13/envs/rse-course/lib/python3.8/site-packages/_pytest/_code/code.py                        697    681     2%\n",
      "/home/turingdev/.pyenv/versions/3.8.13/envs/rse-course/lib/python3.8/site-packages/_pytest/_code/source.py                      142    140     1%\n",
      "/home/turingdev/.pyenv/versions/3.8.13/envs/rse-course/lib/python3.8/site-packages/_pytest/_io/terminalwriter.py                112     66    41%\n",
      "/home/turingdev/.pyenv/versions/3.8.13/envs/rse-course/lib/python3.8/site-packages/_pytest/_io/wcwidth.py                        25     16    36%\n",
      "/home/turingdev/.pyenv/versions/3.8.13/envs/rse-course/lib/python3.8/site-packages/_pytest/assertion/__init__.py                 84     73    13%\n",
      "/home/turingdev/.pyenv/versions/3.8.13/envs/rse-course/lib/python3.8/site-packages/_pytest/assertion/rewrite.py                 626    539    14%\n",
      "/home/turingdev/.pyenv/versions/3.8.13/envs/rse-course/lib/python3.8/site-packages/_pytest/cacheprovider.py                     313    263    16%\n",
      "/home/turingdev/.pyenv/versions/3.8.13/envs/rse-course/lib/python3.8/site-packages/_pytest/capture.py                           559    480    14%\n",
      "/home/turingdev/.pyenv/versions/3.8.13/envs/rse-course/lib/python3.8/site-packages/_pytest/compat.py                            160    124    22%\n",
      "/home/turingdev/.pyenv/versions/3.8.13/envs/rse-course/lib/python3.8/site-packages/_pytest/config/__init__.py                   804    690    14%\n",
      "/home/turingdev/.pyenv/versions/3.8.13/envs/rse-course/lib/python3.8/site-packages/_pytest/config/argparsing.py                 252    207    18%\n",
      "/home/turingdev/.pyenv/versions/3.8.13/envs/rse-course/lib/python3.8/site-packages/_pytest/debugging.py                         226    217     4%\n",
      "/home/turingdev/.pyenv/versions/3.8.13/envs/rse-course/lib/python3.8/site-packages/_pytest/deprecated.py                         16     15     6%\n",
      "/home/turingdev/.pyenv/versions/3.8.13/envs/rse-course/lib/python3.8/site-packages/_pytest/doctest.py                           351    341     3%\n",
      "/home/turingdev/.pyenv/versions/3.8.13/envs/rse-course/lib/python3.8/site-packages/_pytest/faulthandler.py                       62     46    26%\n",
      "/home/turingdev/.pyenv/versions/3.8.13/envs/rse-course/lib/python3.8/site-packages/_pytest/fixtures.py                          825    685    17%\n",
      "/home/turingdev/.pyenv/versions/3.8.13/envs/rse-course/lib/python3.8/site-packages/_pytest/helpconfig.py                        132    122     8%\n",
      "/home/turingdev/.pyenv/versions/3.8.13/envs/rse-course/lib/python3.8/site-packages/_pytest/junitxml.py                          373    371     1%\n",
      "/home/turingdev/.pyenv/versions/3.8.13/envs/rse-course/lib/python3.8/site-packages/_pytest/logging.py                           401    293    27%\n",
      "/home/turingdev/.pyenv/versions/3.8.13/envs/rse-course/lib/python3.8/site-packages/_pytest/main.py                              461    288    38%\n",
      "/home/turingdev/.pyenv/versions/3.8.13/envs/rse-course/lib/python3.8/site-packages/_pytest/mark/__init__.py                     139    124    11%\n",
      "/home/turingdev/.pyenv/versions/3.8.13/envs/rse-course/lib/python3.8/site-packages/_pytest/mark/structures.py                   241    224     7%\n",
      "/home/turingdev/.pyenv/versions/3.8.13/envs/rse-course/lib/python3.8/site-packages/_pytest/monkeypatch.py                       170    157     8%\n",
      "/home/turingdev/.pyenv/versions/3.8.13/envs/rse-course/lib/python3.8/site-packages/_pytest/nodes.py                             270    186    31%\n",
      "/home/turingdev/.pyenv/versions/3.8.13/envs/rse-course/lib/python3.8/site-packages/_pytest/nose.py                               21     10    52%\n",
      "/home/turingdev/.pyenv/versions/3.8.13/envs/rse-course/lib/python3.8/site-packages/_pytest/pastebin.py                           70     69     1%\n",
      "/home/turingdev/.pyenv/versions/3.8.13/envs/rse-course/lib/python3.8/site-packages/_pytest/pathlib.py                           338    270    20%\n",
      "/home/turingdev/.pyenv/versions/3.8.13/envs/rse-course/lib/python3.8/site-packages/_pytest/python.py                            841    632    25%\n",
      "/home/turingdev/.pyenv/versions/3.8.13/envs/rse-course/lib/python3.8/site-packages/_pytest/python_api.py                        249    225    10%\n",
      "/home/turingdev/.pyenv/versions/3.8.13/envs/rse-course/lib/python3.8/site-packages/_pytest/reports.py                           278    248    11%\n",
      "/home/turingdev/.pyenv/versions/3.8.13/envs/rse-course/lib/python3.8/site-packages/_pytest/runner.py                            299    179    40%\n",
      "/home/turingdev/.pyenv/versions/3.8.13/envs/rse-course/lib/python3.8/site-packages/_pytest/setuponly.py                          56     54     4%\n",
      "/home/turingdev/.pyenv/versions/3.8.13/envs/rse-course/lib/python3.8/site-packages/_pytest/setupplan.py                          24     22     8%\n",
      "/home/turingdev/.pyenv/versions/3.8.13/envs/rse-course/lib/python3.8/site-packages/_pytest/skipping.py                          176    144    18%\n",
      "/home/turingdev/.pyenv/versions/3.8.13/envs/rse-course/lib/python3.8/site-packages/_pytest/stepwise.py                           68     67     1%\n",
      "/home/turingdev/.pyenv/versions/3.8.13/envs/rse-course/lib/python3.8/site-packages/_pytest/store.py                              34     27    21%\n",
      "/home/turingdev/.pyenv/versions/3.8.13/envs/rse-course/lib/python3.8/site-packages/_pytest/terminal.py                          895    693    23%\n",
      "/home/turingdev/.pyenv/versions/3.8.13/envs/rse-course/lib/python3.8/site-packages/_pytest/tmpdir.py                            114     99    13%\n",
      "/home/turingdev/.pyenv/versions/3.8.13/envs/rse-course/lib/python3.8/site-packages/_pytest/unittest.py                          243    234     4%\n",
      "/home/turingdev/.pyenv/versions/3.8.13/envs/rse-course/lib/python3.8/site-packages/_pytest/warnings.py                           63     44    30%\n",
      "/home/turingdev/.pyenv/versions/3.8.13/envs/rse-course/lib/python3.8/site-packages/anyio/pytest_plugin.py                       106     98     8%\n",
      "/home/turingdev/.pyenv/versions/3.8.13/envs/rse-course/lib/python3.8/site-packages/importlib_metadata/__init__.py               344    339     1%\n",
      "/home/turingdev/.pyenv/versions/3.8.13/envs/rse-course/lib/python3.8/site-packages/importlib_metadata/_compat.py                 18     17     6%\n",
      "/home/turingdev/.pyenv/versions/3.8.13/envs/rse-course/lib/python3.8/site-packages/numpy/__config__.py                           40     26    35%\n",
      "/home/turingdev/.pyenv/versions/3.8.13/envs/rse-course/lib/python3.8/site-packages/numpy/__init__.py                            142     46    68%\n",
      "/home/turingdev/.pyenv/versions/3.8.13/envs/rse-course/lib/python3.8/site-packages/numpy/_distributor_init.py                     0      0   100%\n",
      "/home/turingdev/.pyenv/versions/3.8.13/envs/rse-course/lib/python3.8/site-packages/numpy/_globals.py                             19      2    89%\n",
      "/home/turingdev/.pyenv/versions/3.8.13/envs/rse-course/lib/python3.8/site-packages/numpy/_pytesttester.py                        51     43    16%\n",
      "/home/turingdev/.pyenv/versions/3.8.13/envs/rse-course/lib/python3.8/site-packages/numpy/_version.py                              4      0   100%\n",
      "/home/turingdev/.pyenv/versions/3.8.13/envs/rse-course/lib/python3.8/site-packages/numpy/compat/__init__.py                       7      0   100%\n",
      "/home/turingdev/.pyenv/versions/3.8.13/envs/rse-course/lib/python3.8/site-packages/numpy/compat/_inspect.py                      67     17    75%\n",
      "/home/turingdev/.pyenv/versions/3.8.13/envs/rse-course/lib/python3.8/site-packages/numpy/compat/py3k.py                          59     25    58%\n",
      "/home/turingdev/.pyenv/versions/3.8.13/envs/rse-course/lib/python3.8/site-packages/numpy/core/__init__.py                        85     16    81%\n",
      "/home/turingdev/.pyenv/versions/3.8.13/envs/rse-course/lib/python3.8/site-packages/numpy/core/_add_newdocs.py                   261      0   100%\n",
      "/home/turingdev/.pyenv/versions/3.8.13/envs/rse-course/lib/python3.8/site-packages/numpy/core/_add_newdocs_scalars.py            48      0   100%\n",
      "/home/turingdev/.pyenv/versions/3.8.13/envs/rse-course/lib/python3.8/site-packages/numpy/core/_asarray.py                        34     26    24%\n",
      "/home/turingdev/.pyenv/versions/3.8.13/envs/rse-course/lib/python3.8/site-packages/numpy/core/_dtype.py                         157    137    13%\n",
      "/home/turingdev/.pyenv/versions/3.8.13/envs/rse-course/lib/python3.8/site-packages/numpy/core/_dtype_ctypes.py                   54     36    33%\n",
      "/home/turingdev/.pyenv/versions/3.8.13/envs/rse-course/lib/python3.8/site-packages/numpy/core/_exceptions.py                     96     57    41%\n",
      "/home/turingdev/.pyenv/versions/3.8.13/envs/rse-course/lib/python3.8/site-packages/numpy/core/_internal.py                      426    328    23%\n",
      "/home/turingdev/.pyenv/versions/3.8.13/envs/rse-course/lib/python3.8/site-packages/numpy/core/_methods.py                       155    116    25%\n",
      "/home/turingdev/.pyenv/versions/3.8.13/envs/rse-course/lib/python3.8/site-packages/numpy/core/_string_helpers.py                 15      5    67%\n",
      "/home/turingdev/.pyenv/versions/3.8.13/envs/rse-course/lib/python3.8/site-packages/numpy/core/_type_aliases.py                  122     13    89%\n",
      "/home/turingdev/.pyenv/versions/3.8.13/envs/rse-course/lib/python3.8/site-packages/numpy/core/_ufunc_config.py                   82     23    72%\n",
      "/home/turingdev/.pyenv/versions/3.8.13/envs/rse-course/lib/python3.8/site-packages/numpy/core/arrayprint.py                     545    435    20%\n",
      "/home/turingdev/.pyenv/versions/3.8.13/envs/rse-course/lib/python3.8/site-packages/numpy/core/defchararray.py                   410    243    41%\n",
      "/home/turingdev/.pyenv/versions/3.8.13/envs/rse-course/lib/python3.8/site-packages/numpy/core/einsumfunc.py                     408    385     6%\n",
      "/home/turingdev/.pyenv/versions/3.8.13/envs/rse-course/lib/python3.8/site-packages/numpy/core/fromnumeric.py                    353    199    44%\n",
      "/home/turingdev/.pyenv/versions/3.8.13/envs/rse-course/lib/python3.8/site-packages/numpy/core/function_base.py                  117     56    52%\n",
      "/home/turingdev/.pyenv/versions/3.8.13/envs/rse-course/lib/python3.8/site-packages/numpy/core/getlimits.py                      195     37    81%\n",
      "/home/turingdev/.pyenv/versions/3.8.13/envs/rse-course/lib/python3.8/site-packages/numpy/core/machar.py                         187    178     5%\n",
      "/home/turingdev/.pyenv/versions/3.8.13/envs/rse-course/lib/python3.8/site-packages/numpy/core/memmap.py                          91     73    20%\n",
      "/home/turingdev/.pyenv/versions/3.8.13/envs/rse-course/lib/python3.8/site-packages/numpy/core/multiarray.py                      99     22    78%\n",
      "/home/turingdev/.pyenv/versions/3.8.13/envs/rse-course/lib/python3.8/site-packages/numpy/core/numeric.py                        489    340    30%\n",
      "/home/turingdev/.pyenv/versions/3.8.13/envs/rse-course/lib/python3.8/site-packages/numpy/core/numerictypes.py                   143     66    54%\n",
      "/home/turingdev/.pyenv/versions/3.8.13/envs/rse-course/lib/python3.8/site-packages/numpy/core/overrides.py                       58      9    84%\n",
      "/home/turingdev/.pyenv/versions/3.8.13/envs/rse-course/lib/python3.8/site-packages/numpy/core/records.py                        355    310    13%\n",
      "/home/turingdev/.pyenv/versions/3.8.13/envs/rse-course/lib/python3.8/site-packages/numpy/core/shape_base.py                     186    148    20%\n",
      "/home/turingdev/.pyenv/versions/3.8.13/envs/rse-course/lib/python3.8/site-packages/numpy/core/umath.py                            4      0   100%\n",
      "/home/turingdev/.pyenv/versions/3.8.13/envs/rse-course/lib/python3.8/site-packages/numpy/ctypeslib.py                           211    175    17%\n",
      "/home/turingdev/.pyenv/versions/3.8.13/envs/rse-course/lib/python3.8/site-packages/numpy/fft/__init__.py                          8      0   100%\n",
      "/home/turingdev/.pyenv/versions/3.8.13/envs/rse-course/lib/python3.8/site-packages/numpy/fft/_pocketfft.py                      164    120    27%\n",
      "/home/turingdev/.pyenv/versions/3.8.13/envs/rse-course/lib/python3.8/site-packages/numpy/fft/helper.py                           46     33    28%\n",
      "/home/turingdev/.pyenv/versions/3.8.13/envs/rse-course/lib/python3.8/site-packages/numpy/lib/__init__.py                         39      0   100%\n",
      "/home/turingdev/.pyenv/versions/3.8.13/envs/rse-course/lib/python3.8/site-packages/numpy/lib/_datasource.py                     176    139    21%\n",
      "/home/turingdev/.pyenv/versions/3.8.13/envs/rse-course/lib/python3.8/site-packages/numpy/lib/_iotools.py                        348    300    14%\n",
      "/home/turingdev/.pyenv/versions/3.8.13/envs/rse-course/lib/python3.8/site-packages/numpy/lib/_version.py                         75     61    19%\n",
      "/home/turingdev/.pyenv/versions/3.8.13/envs/rse-course/lib/python3.8/site-packages/numpy/lib/arraypad.py                        218    200     8%\n",
      "/home/turingdev/.pyenv/versions/3.8.13/envs/rse-course/lib/python3.8/site-packages/numpy/lib/arraysetops.py                     197    167    15%\n",
      "/home/turingdev/.pyenv/versions/3.8.13/envs/rse-course/lib/python3.8/site-packages/numpy/lib/arrayterator.py                     70     59    16%\n",
      "/home/turingdev/.pyenv/versions/3.8.13/envs/rse-course/lib/python3.8/site-packages/numpy/lib/format.py                          267    235    12%\n",
      "/home/turingdev/.pyenv/versions/3.8.13/envs/rse-course/lib/python3.8/site-packages/numpy/lib/function_base.py                  1139   1001    12%\n",
      "/home/turingdev/.pyenv/versions/3.8.13/envs/rse-course/lib/python3.8/site-packages/numpy/lib/histograms.py                      287    254    11%\n",
      "/home/turingdev/.pyenv/versions/3.8.13/envs/rse-course/lib/python3.8/site-packages/numpy/lib/index_tricks.py                    254    185    27%\n",
      "/home/turingdev/.pyenv/versions/3.8.13/envs/rse-course/lib/python3.8/site-packages/numpy/lib/mixins.py                           59     12    80%\n",
      "/home/turingdev/.pyenv/versions/3.8.13/envs/rse-course/lib/python3.8/site-packages/numpy/lib/nanfunctions.py                    279    219    22%\n",
      "/home/turingdev/.pyenv/versions/3.8.13/envs/rse-course/lib/python3.8/site-packages/numpy/lib/npyio.py                           849    778     8%\n",
      "/home/turingdev/.pyenv/versions/3.8.13/envs/rse-course/lib/python3.8/site-packages/numpy/lib/polynomial.py                      424    310    27%\n",
      "/home/turingdev/.pyenv/versions/3.8.13/envs/rse-course/lib/python3.8/site-packages/numpy/lib/scimath.py                          61     38    38%\n",
      "/home/turingdev/.pyenv/versions/3.8.13/envs/rse-course/lib/python3.8/site-packages/numpy/lib/shape_base.py                      251    205    18%\n",
      "/home/turingdev/.pyenv/versions/3.8.13/envs/rse-course/lib/python3.8/site-packages/numpy/lib/stride_tricks.py                    90     70    22%\n",
      "/home/turingdev/.pyenv/versions/3.8.13/envs/rse-course/lib/python3.8/site-packages/numpy/lib/twodim_base.py                     175    111    37%\n",
      "/home/turingdev/.pyenv/versions/3.8.13/envs/rse-course/lib/python3.8/site-packages/numpy/lib/type_check.py                      129     90    30%\n",
      "/home/turingdev/.pyenv/versions/3.8.13/envs/rse-course/lib/python3.8/site-packages/numpy/lib/ufunclike.py                        57     30    47%\n",
      "/home/turingdev/.pyenv/versions/3.8.13/envs/rse-course/lib/python3.8/site-packages/numpy/lib/utils.py                           455    416     9%\n",
      "/home/turingdev/.pyenv/versions/3.8.13/envs/rse-course/lib/python3.8/site-packages/numpy/linalg/__init__.py                       6      0   100%\n",
      "/home/turingdev/.pyenv/versions/3.8.13/envs/rse-course/lib/python3.8/site-packages/numpy/linalg/linalg.py                       670    507    24%\n",
      "/home/turingdev/.pyenv/versions/3.8.13/envs/rse-course/lib/python3.8/site-packages/numpy/ma/__init__.py                          10      0   100%\n",
      "/home/turingdev/.pyenv/versions/3.8.13/envs/rse-course/lib/python3.8/site-packages/numpy/ma/core.py                            2386   1773    26%\n",
      "/home/turingdev/.pyenv/versions/3.8.13/envs/rse-course/lib/python3.8/site-packages/numpy/ma/extras.py                           559    468    16%\n",
      "/home/turingdev/.pyenv/versions/3.8.13/envs/rse-course/lib/python3.8/site-packages/numpy/matrixlib/__init__.py                    5      0   100%\n",
      "/home/turingdev/.pyenv/versions/3.8.13/envs/rse-course/lib/python3.8/site-packages/numpy/matrixlib/defmatrix.py                 233    178    24%\n",
      "/home/turingdev/.pyenv/versions/3.8.13/envs/rse-course/lib/python3.8/site-packages/numpy/polynomial/__init__.py                  18      7    61%\n",
      "/home/turingdev/.pyenv/versions/3.8.13/envs/rse-course/lib/python3.8/site-packages/numpy/polynomial/_polybase.py                401    296    26%\n",
      "/home/turingdev/.pyenv/versions/3.8.13/envs/rse-course/lib/python3.8/site-packages/numpy/polynomial/chebyshev.py                357    294    18%\n",
      "/home/turingdev/.pyenv/versions/3.8.13/envs/rse-course/lib/python3.8/site-packages/numpy/polynomial/hermite.py                  267    214    20%\n",
      "/home/turingdev/.pyenv/versions/3.8.13/envs/rse-course/lib/python3.8/site-packages/numpy/polynomial/hermite_e.py                264    211    20%\n",
      "/home/turingdev/.pyenv/versions/3.8.13/envs/rse-course/lib/python3.8/site-packages/numpy/polynomial/laguerre.py                 252    200    21%\n",
      "/home/turingdev/.pyenv/versions/3.8.13/envs/rse-course/lib/python3.8/site-packages/numpy/polynomial/legendre.py                 261    209    20%\n",
      "/home/turingdev/.pyenv/versions/3.8.13/envs/rse-course/lib/python3.8/site-packages/numpy/polynomial/polynomial.py               218    166    24%\n",
      "/home/turingdev/.pyenv/versions/3.8.13/envs/rse-course/lib/python3.8/site-packages/numpy/polynomial/polyutils.py                229    204    11%\n",
      "/home/turingdev/.pyenv/versions/3.8.13/envs/rse-course/lib/python3.8/site-packages/numpy/random/__init__.py                      17      1    94%\n",
      "/home/turingdev/.pyenv/versions/3.8.13/envs/rse-course/lib/python3.8/site-packages/numpy/random/_pickle.py                       22     12    45%\n",
      "/home/turingdev/.pyenv/versions/3.8.13/envs/rse-course/lib/python3.8/site-packages/numpy/version.py                               9      0   100%\n",
      "/home/turingdev/.pyenv/versions/3.8.13/envs/rse-course/lib/python3.8/site-packages/pluggy/_tracing.py                            41     31    24%\n",
      "/home/turingdev/.pyenv/versions/3.8.13/envs/rse-course/lib/python3.8/site-packages/pluggy/callers.py                            122     88    28%\n",
      "/home/turingdev/.pyenv/versions/3.8.13/envs/rse-course/lib/python3.8/site-packages/pluggy/hooks.py                              175    101    42%\n",
      "/home/turingdev/.pyenv/versions/3.8.13/envs/rse-course/lib/python3.8/site-packages/pluggy/manager.py                            195    153    22%\n",
      "/home/turingdev/.pyenv/versions/3.8.13/envs/rse-course/lib/python3.8/site-packages/py/_builtin.py                               112     78    30%\n",
      "/home/turingdev/.pyenv/versions/3.8.13/envs/rse-course/lib/python3.8/site-packages/py/_code/__init__.py                           0      0   100%\n",
      "/home/turingdev/.pyenv/versions/3.8.13/envs/rse-course/lib/python3.8/site-packages/py/_code/code.py                             524    408    22%\n",
      "/home/turingdev/.pyenv/versions/3.8.13/envs/rse-course/lib/python3.8/site-packages/py/_error.py                                  52     49     6%\n",
      "/home/turingdev/.pyenv/versions/3.8.13/envs/rse-course/lib/python3.8/site-packages/py/_path/common.py                           278    228    18%\n",
      "/home/turingdev/.pyenv/versions/3.8.13/envs/rse-course/lib/python3.8/site-packages/py/_path/local.py                            693    619    11%\n",
      "/home/turingdev/.pyenv/versions/3.8.13/envs/rse-course/lib/python3.8/site-packages/py/_vendored_packages/apipkg/__init__.py     151    132    13%\n",
      "/home/turingdev/.pyenv/versions/3.8.13/envs/rse-course/lib/python3.8/site-packages/pytest_cov/compat.py                          19     15    21%\n",
      "/home/turingdev/.pyenv/versions/3.8.13/envs/rse-course/lib/python3.8/site-packages/pytest_cov/embed.py                           80     74     8%\n",
      "/home/turingdev/.pyenv/versions/3.8.13/envs/rse-course/lib/python3.8/site-packages/pytest_cov/engine.py                         221    200    10%\n",
      "/home/turingdev/.pyenv/versions/3.8.13/envs/rse-course/lib/python3.8/site-packages/pytest_cov/plugin.py                         204    186     9%\n",
      "__init__.py                                                                                                                                  0      0   100%\n",
      "model.py                                                                                                                                    10      0   100%\n",
      "test_model.py                                                                                                                               33      0   100%\n",
      "------------------------------------------------------------------------------------------------------------------------------------------------------------\n",
      "TOTAL                                                                                                                                    32701  25582    22%\n",
      "\n",
      "\n",
      "============================== 6 passed in 3.68s ===============================\n"
     ]
    }
   ],
   "source": [
    "%%bash\n",
    "cd diffusion\n",
    "py.test --cov"
   ]
  },
  {
   "cell_type": "markdown",
   "metadata": {},
   "source": [
    "Or an html report:"
   ]
  },
  {
   "cell_type": "code",
   "execution_count": 10,
   "metadata": {},
   "outputs": [
    {
     "name": "stdout",
     "output_type": "stream",
     "text": [
      "============================= test session starts ==============================\n",
      "platform darwin -- Python 3.8.13, pytest-7.1.2, py-1.10.0, pluggy-1.0.0\n",
      "rootdir: /home/turingdev/research-software/rse-course/ch03tests/diffusion\n",
      "plugins: cov-2.12.1, anyio-3.3.0\n",
      "collected 6 items\n",
      "\n",
      "test_model.py ......                                                     [100%]\n",
      "\n",
      "---------- coverage: platform darwin, python 3.8.13-final-0 -----------\n",
      "Coverage HTML written to dir htmlcov\n",
      "\n",
      "\n",
      "============================== 6 passed in 11.32s ==============================\n"
     ]
    }
   ],
   "source": [
    "%%bash\n",
    "#%%cmd (windows)\n",
    "cd diffusion\n",
    "py.test --cov --cov-report html"
   ]
  },
  {
   "cell_type": "markdown",
   "metadata": {},
   "source": [
    "Look at the [coverage results](./diffusion/htmlcov/index.html)"
   ]
  }
 ],
 "metadata": {
  "jekyll": {
   "display_name": "Energy Example"
  },
  "kernelspec": {
   "display_name": "Python 3 (ipykernel)",
   "language": "python",
   "name": "python3"
  },
  "language_info": {
   "codemirror_mode": {
    "name": "ipython",
    "version": 3
   },
   "file_extension": ".py",
   "mimetype": "text/x-python",
   "name": "python",
   "nbconvert_exporter": "python",
   "pygments_lexer": "ipython3",
   "version": "3.8.13"
  }
 },
 "nbformat": 4,
 "nbformat_minor": 1
}
