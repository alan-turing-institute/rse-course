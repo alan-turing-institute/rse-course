{
 "cells": [
  {
   "cell_type": "markdown",
   "id": "40503a26",
   "metadata": {},
   "source": [
    "# 2.7 Classroom Exercises"
   ]
  },
  {
   "cell_type": "markdown",
   "id": "a04ac5b5",
   "metadata": {},
   "source": [
    "**List of exercises and estimated completion times**\n",
    "\n",
    "[2a - Occupancy Dictionary](#Exercise-2a-Occupancy-Dictionary) *5 minutes*\n",
    "\n",
    "[2b - Occupancy Dictionary Extension](#Exercise-2b-Occupancy-Dictionary-Extension) *5 minutes*\n",
    "\n",
    "[2c - Functions](#Exercise-2c-Functions) *15 minutes*\n",
    "\n",
    "[2d - Using Libraries](#Exercise-2d-Using-Libraries) *15 minutes*\n",
    "\n",
    "[2e - Longitude and Latitude](#Exercise-2f-Longitude-and-Latitude) *15 minutes*\n",
    "\n",
    "[2f - Defining Classes](#Exercise-2e-Defining-Classes) *45 minutes*\n",
    "\n",
    "[2g - Longitude and Latitude Extension](#Exercise-2e-Longitude-and-Latitude-Extension) *10 minutes*"
   ]
  },
  {
   "cell_type": "markdown",
   "id": "69e57700",
   "metadata": {},
   "source": [
    "## Exercise 2a Occupancy Dictionary\n",
    "\n",
    "*Relevant Sections: 2.0.2*"
   ]
  },
  {
   "cell_type": "markdown",
   "id": "fe743c87",
   "metadata": {},
   "source": [
    "In one of the module 1 exercises you designed a data structure to represent a maze using dictionaries and lists.\n",
    "\n",
    "The answer to your initial maze model output might have looked similar to this:"
   ]
  },
  {
   "cell_type": "code",
   "execution_count": 1,
   "id": "9719ee1f",
   "metadata": {},
   "outputs": [],
   "source": [
    "house = {\n",
    "    \"living\": {\n",
    "        \"exits\": {\"north\": \"kitchen\", \"outside\": \"garden\", \"upstairs\": \"bedroom\"},\n",
    "        \"people\": [\"James\"],\n",
    "        \"capacity\": 2,\n",
    "    },\n",
    "    \"kitchen\": {\"exits\": {\"south\": \"living\"}, \"people\": [], \"capacity\": 1},\n",
    "    \"garden\": {\"exits\": {\"inside\": \"living\"}, \"people\": [\"Sue\"], \"capacity\": 3},\n",
    "    \"bedroom\": {\n",
    "        \"exits\": {\"downstairs\": \"living\", \"jump\": \"garden\"},\n",
    "        \"people\": [],\n",
    "        \"capacity\": 1,\n",
    "    },\n",
    "}"
   ]
  },
  {
   "cell_type": "markdown",
   "id": "b3e84d50",
   "metadata": {},
   "source": [
    "Take this maze data structure.\n",
    "\n",
    "First write an expression to print out a new dictionary, which holds, for each room, that room's capacity.\n",
    "\n",
    "The output should look like:\n",
    "\n",
    "```python\n",
    "{\"bedroom\": 1, \"garden\": 3, \"kitchen\": 1, \"living\": 2}\n",
    "```"
   ]
  },
  {
   "cell_type": "markdown",
   "id": "28eb1357",
   "metadata": {},
   "source": [
    "## Exercise 2b Occupancy Dictionary Extension\n",
    "*Relevant Sections: 2.0.2 and 2.0.4*\n",
    "\n",
    "Now, write a program to print out a new dictionary, which gives,for each room's name, the number of people in it.\n",
    "Don't add in a zero value in the dictionary for empty rooms.\n",
    "\n",
    "The output should look similar to:\n",
    "\n",
    "```python\n",
    "{\"garden\": 1, \"living\": 1}\n",
    "```"
   ]
  },
  {
   "cell_type": "markdown",
   "id": "b3e98aca",
   "metadata": {},
   "source": [
    "## Exercise 2c Functions\n",
    "*Relevant Sections: 2.1.1, 2.1.8, (2.0.2)*"
   ]
  },
  {
   "cell_type": "markdown",
   "id": "12a490f3",
   "metadata": {},
   "source": [
    "Write a function that will take the following input and return a list containing only even integers\n",
    "```python\n",
    "(1, 1.99999999999, \"three\", 20/5, 5, 6, \"sju\", \"8\", 9, 10., 11, 12)\n",
    "```\n",
    "\n",
    "The call to your function could look something like this:\n",
    "\n",
    "```python\n",
    "my_function(1, 1.99999999999, \"three\", 20/5, 5, 6, \"sju\", \"8\", 9, 10., 11, 12)\n",
    "```\n",
    "or\n",
    "```python\n",
    "my_function(*inputs)\n",
    "```"
   ]
  },
  {
   "cell_type": "markdown",
   "id": "6724ed77",
   "metadata": {},
   "source": [
    "## Exercise 2d Using Libraries\n",
    "*Relevant Sections: 2.2.1*"
   ]
  },
  {
   "cell_type": "markdown",
   "id": "333e37f3",
   "metadata": {},
   "source": [
    "Investigate the similarities and differences between the responses (if any) from the `numpy`, `scipy`, `statistics`, and `math` modules to the following calculations:\n",
    "\n",
    "\n",
    "$\\pi$\n",
    "\n",
    "$log_{10}(n)$ where n is positive\n",
    "\n",
    "$log_{10}(n)$ where n is negative\n",
    "\n",
    "The mean of the numbers 1 to 9 (inclusive)\n"
   ]
  },
  {
   "cell_type": "markdown",
   "id": "57f50256",
   "metadata": {},
   "source": [
    "For those interested, each of these libraries has their own documentation. [NumPy](https://numpy.org/doc/stable/user/whatisnumpy.html), [SciPy](https://docs.scipy.org/doc/scipy/tutorial/general.html), [statistics](https://docs.python.org/3/library/statistics.html), and [math](https://docs.python.org/3/library/math.html)"
   ]
  },
  {
   "cell_type": "markdown",
   "id": "52f6beb2",
   "metadata": {},
   "source": [
    "## Exercise 2e Longitude and Latitude\n",
    "*Relevant Sections: 2.4.2, 2.4.1*\n",
    "\n",
    "In section 2.4.2 a map of an area collected from the internet was displayed.\n",
    "\n",
    "Write a function that will accept user-specified latitude, and longitude and return the response. Then use `IPython` to display the image as in 2.5.2\n",
    "\n",
    "The answer could look something like:\n",
    "\n",
    "    function_response = my_function(lat, lon)\n",
    "    Image(function_response)\n",
    "\n",
    "some interesting coordinates are:"
   ]
  },
  {
   "cell_type": "code",
   "execution_count": 2,
   "id": "e0793dc7",
   "metadata": {},
   "outputs": [],
   "source": [
    "coordinates_as_lat_lon = [\n",
    "    (36.2110, -115.2669),\n",
    "    (53.0066, 7.1920),\n",
    "    (41.3908, 2.1631),\n",
    "    (40.7822, -73.9653),\n",
    "    (25.8380, 50.6050),\n",
    "]"
   ]
  },
  {
   "cell_type": "markdown",
   "id": "70e7168d",
   "metadata": {},
   "source": [
    "## Exercise 2f Defining Classes\n",
    "*Relevant Sections: 2.6.1, 2.6.2, 2.6.3, 2.6.4, 2.6.5*\n",
    "\n",
    "In section 2.6.4 and 2.6.5 two examples of the maze model were given. \n",
    "\n",
    "Compare the two solutions.\n",
    "Discuss with a partner which you like better, and why.\n",
    "\n",
    "Then, starting from scratch, design your own.\n",
    "What choices did you make that are different?"
   ]
  },
  {
   "cell_type": "markdown",
   "id": "26a89548",
   "metadata": {},
   "source": [
    "### Exercise 2g Longitude and Latitude Extension\n",
    "*Relevant Sections: 2.3.7*\n",
    "\n",
    "Use the function you wrote in 2e above as the basis for a new function that will receive the longitude, latitude, **zoom level** and a name to save the file as.\n",
    "Use this function to save a map image file somewhere on your local disk.\n",
    "\n",
    "*Zoom between 14 and 16 work well for the example coordinates*\n",
    "\n"
   ]
  }
 ],
 "metadata": {
  "kernelspec": {
   "display_name": "Python 3",
   "language": "python",
   "name": "python3"
  },
  "language_info": {
   "codemirror_mode": {
    "name": "ipython",
    "version": 3
   },
   "file_extension": ".py",
   "mimetype": "text/x-python",
   "name": "python",
   "nbconvert_exporter": "python",
   "pygments_lexer": "ipython3",
   "version": "3.8.8"
  }
 },
 "nbformat": 4,
 "nbformat_minor": 5
}