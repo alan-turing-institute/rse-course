{
 "cells": [
  {
   "cell_type": "markdown",
   "metadata": {
    "collapsed": true
   },
   "source": [
    "# 2.3 Working with files"
   ]
  },
  {
   "cell_type": "markdown",
   "metadata": {},
   "source": [
    "*Estimated time for this notebook: 15 minutes*"
   ]
  },
  {
   "cell_type": "markdown",
   "metadata": {},
   "source": [
    "## 2.3.1 Background\n",
    "Loading data from files"
   ]
  },
  {
   "cell_type": "markdown",
   "metadata": {},
   "source": [
    "An important part of this course is about using Python to analyse and visualise data.\n",
    "Most data, of course, is supplied to us in various *formats*: spreadsheets, database dumps, or text files in various formats (csv, tsv, json, yaml, hdf5, netcdf)\n",
    "It is also stored in some *medium*: on a local disk, a network drive, or on the internet in various ways.\n",
    "It is important to distinguish the data format, how the data is structured into a file, from the data's storage, where it is put. \n",
    "\n",
    "We'll look first at the question of data *transport*: loading data from a disk, and at downloading data from the internet.\n",
    "Then we'll look at data *parsing*: building Python structures from the data.\n",
    "These are related, but separate questions."
   ]
  },
  {
   "cell_type": "markdown",
   "metadata": {},
   "source": [
    "### An example datafile"
   ]
  },
  {
   "cell_type": "markdown",
   "metadata": {},
   "source": [
    "Let's write an example datafile to disk so we can investigate it. We'll just use a plain-text file. Jupyter notebook provides a way to do this: if we put\n",
    "`%%writefile` at the top of a cell, instead of being interpreted as python, the cell contents are saved to disk."
   ]
  },
  {
   "cell_type": "code",
   "execution_count": 1,
   "metadata": {},
   "outputs": [],
   "source": [
    "%%writefile mydata.txt\n",
    "A poet once said, 'The whole universe is in a glass of wine.'\n",
    "We will probably never know in what sense he meant it, \n",
    "for poets do not write to be understood. \n",
    "But it is true that if we look at a glass of wine closely enough we see the entire universe. \n",
    "There are the things of physics: the twisting liquid which evaporates depending\n",
    "on the wind and weather, the reflection in the glass;\n",
    "and our imagination adds atoms.\n",
    "The glass is a distillation of the earth's rocks,\n",
    "and in its composition we see the secrets of the universe's age, and the evolution of stars. \n",
    "What strange array of chemicals are in the wine? How did they come to be? \n",
    "There are the ferments, the enzymes, the substrates, and the products.\n",
    "There in wine is found the great generalization; all life is fermentation.\n",
    "Nobody can discover the chemistry of wine without discovering, \n",
    "as did Louis Pasteur, the cause of much disease.\n",
    "How vivid is the claret, pressing its existence into the consciousness that watches it!\n",
    "If our small minds, for some convenience, divide this glass of wine, this universe, \n",
    "into parts -- \n",
    "physics, biology, geology, astronomy, psychology, and so on -- \n",
    "remember that nature does not know it!\n",
    "\n",
    "So let us put it all back together, not forgetting ultimately what it is for.\n",
    "Let it give us one more final pleasure; drink it and forget it all!\n",
    "   - Richard Feynman"
   ]
  },
  {
   "cell_type": "markdown",
   "metadata": {},
   "source": [
    "Where did that go? It went to the current folder, which for a notebook, by default, is where the notebook is on disk."
   ]
  },
  {
   "cell_type": "code",
   "execution_count": 2,
   "metadata": {},
   "outputs": [
    {
     "data": {
      "text/plain": [
       "'/home/turingdev/research-software/rse-course/ch01data'"
      ]
     },
     "execution_count": 2,
     "metadata": {},
     "output_type": "execute_result"
    }
   ],
   "source": [
    "import os  # The 'os' module gives us all the tools we need to search in the file system\n",
    "\n",
    "os.getcwd()  # Use the 'getcwd' function from the 'os' module to find where we are on disk."
   ]
  },
  {
   "cell_type": "markdown",
   "metadata": {},
   "source": [
    "Can we see if it is there?"
   ]
  },
  {
   "cell_type": "code",
   "execution_count": 3,
   "metadata": {},
   "outputs": [
    {
     "data": {
      "text/plain": [
       "['mydata.txt']"
      ]
     },
     "execution_count": 3,
     "metadata": {},
     "output_type": "execute_result"
    }
   ],
   "source": [
    "import os\n",
    "\n",
    "[x for x in os.listdir(os.getcwd()) if \".txt\" in x]"
   ]
  },
  {
   "cell_type": "markdown",
   "metadata": {},
   "source": [
    "Yep! Note how we used a list comprehension to filter all the extraneous files."
   ]
  },
  {
   "cell_type": "markdown",
   "metadata": {},
   "source": [
    "## 2.4.2 Path independence and `os`"
   ]
  },
  {
   "cell_type": "markdown",
   "metadata": {},
   "source": [
    "We can use `dirname` to get the parent folder for a folder, in a platform independent-way."
   ]
  },
  {
   "cell_type": "code",
   "execution_count": 4,
   "metadata": {},
   "outputs": [
    {
     "data": {
      "text/plain": [
       "'/home/turingdev/research-software/rse-course'"
      ]
     },
     "execution_count": 4,
     "metadata": {},
     "output_type": "execute_result"
    }
   ],
   "source": [
    "os.path.dirname(os.getcwd())"
   ]
  },
  {
   "cell_type": "markdown",
   "metadata": {},
   "source": [
    "We could do this manually using `split`:"
   ]
  },
  {
   "cell_type": "code",
   "execution_count": 5,
   "metadata": {},
   "outputs": [
    {
     "data": {
      "text/plain": [
       "'/home/turingdev/research-software/rse-course'"
      ]
     },
     "execution_count": 5,
     "metadata": {},
     "output_type": "execute_result"
    }
   ],
   "source": [
    "\"/\".join(os.getcwd().split(\"/\")[:-1])"
   ]
  },
  {
   "cell_type": "markdown",
   "metadata": {},
   "source": [
    "But this would not work on Windows, where path elements are separated with a `\\` instead of a `/`. So it's important \n",
    "to use `os.path` for this stuff."
   ]
  },
  {
   "cell_type": "markdown",
   "metadata": {},
   "source": [
    "**Supplementary Materials**: If you're not already comfortable with how files fit into folders, and folders form a tree,\n",
    "    with folders containing subfolders, then look at http://swcarpentry.github.io/shell-novice/02-filedir/index.html. \n",
    "\n",
    "Satisfy yourself that after using `%%writefile`, you can then find the file on disk with Windows Explorer, OSX Finder, or the Linux Shell."
   ]
  },
  {
   "cell_type": "markdown",
   "metadata": {},
   "source": [
    "We can see how in Python we can investigate the file system with functions in the `os` module, using just the same programming approaches as for anything else."
   ]
  },
  {
   "cell_type": "markdown",
   "metadata": {},
   "source": [
    "We'll gradually learn more features of the `os` module as we go, allowing us to move around the disk, `walk` around the\n",
    "disk looking for relevant files, and so on. These will be important to master for automating our data analyses."
   ]
  },
  {
   "cell_type": "markdown",
   "metadata": {},
   "source": [
    "## 2.3.3 The python `file` type"
   ]
  },
  {
   "cell_type": "markdown",
   "metadata": {},
   "source": [
    "So, let's read our file:"
   ]
  },
  {
   "cell_type": "code",
   "execution_count": 6,
   "metadata": {},
   "outputs": [],
   "source": [
    "myfile = open(\"mydata.txt\")"
   ]
  },
  {
   "cell_type": "code",
   "execution_count": 7,
   "metadata": {},
   "outputs": [
    {
     "data": {
      "text/plain": [
       "_io.TextIOWrapper"
      ]
     },
     "execution_count": 7,
     "metadata": {},
     "output_type": "execute_result"
    }
   ],
   "source": [
    "type(myfile)"
   ]
  },
  {
   "cell_type": "markdown",
   "metadata": {},
   "source": [
    "We can go line-by-line, by treating the file as an iterable:"
   ]
  },
  {
   "cell_type": "code",
   "execution_count": 8,
   "metadata": {},
   "outputs": [
    {
     "data": {
      "text/plain": [
       "[\"A poet once said, 'The whole universe is in a glass of wine.'\\n\",\n",
       " 'We will probably never know in what sense he meant it, \\n',\n",
       " 'for poets do not write to be understood. \\n',\n",
       " 'But it is true that if we look at a glass of wine closely enough we see the entire universe. \\n',\n",
       " 'There are the things of physics: the twisting liquid which evaporates depending\\n',\n",
       " 'on the wind and weather, the reflection in the glass;\\n',\n",
       " 'and our imagination adds atoms.\\n',\n",
       " \"The glass is a distillation of the earth's rocks,\\n\",\n",
       " \"and in its composition we see the secrets of the universe's age, and the evolution of stars. \\n\",\n",
       " 'What strange array of chemicals are in the wine? How did they come to be? \\n',\n",
       " 'There are the ferments, the enzymes, the substrates, and the products.\\n',\n",
       " 'There in wine is found the great generalization; all life is fermentation.\\n',\n",
       " 'Nobody can discover the chemistry of wine without discovering, \\n',\n",
       " 'as did Louis Pasteur, the cause of much disease.\\n',\n",
       " 'How vivid is the claret, pressing its existence into the consciousness that watches it!\\n',\n",
       " 'If our small minds, for some convenience, divide this glass of wine, this universe, \\n',\n",
       " 'into parts -- \\n',\n",
       " 'physics, biology, geology, astronomy, psychology, and so on -- \\n',\n",
       " 'remember that nature does not know it!\\n',\n",
       " '\\n',\n",
       " 'So let us put it all back together, not forgetting ultimately what it is for.\\n',\n",
       " 'Let it give us one more final pleasure; drink it and forget it all!\\n',\n",
       " '   - Richard Feynman\\n']"
      ]
     },
     "execution_count": 8,
     "metadata": {},
     "output_type": "execute_result"
    }
   ],
   "source": [
    "[x for x in myfile]"
   ]
  },
  {
   "cell_type": "markdown",
   "metadata": {},
   "source": [
    "If we do that again, the file has already finished, there is no more data."
   ]
  },
  {
   "cell_type": "code",
   "execution_count": 9,
   "metadata": {},
   "outputs": [
    {
     "data": {
      "text/plain": [
       "[]"
      ]
     },
     "execution_count": 9,
     "metadata": {},
     "output_type": "execute_result"
    }
   ],
   "source": [
    "[x for x in myfile]"
   ]
  },
  {
   "cell_type": "markdown",
   "metadata": {},
   "source": [
    "We need to 'rewind' it!"
   ]
  },
  {
   "cell_type": "code",
   "execution_count": 10,
   "metadata": {},
   "outputs": [
    {
     "data": {
      "text/plain": [
       "[56, 39]"
      ]
     },
     "execution_count": 10,
     "metadata": {},
     "output_type": "execute_result"
    }
   ],
   "source": [
    "myfile.seek(0)\n",
    "[len(x) for x in myfile if \"know\" in x]"
   ]
  },
  {
   "cell_type": "markdown",
   "metadata": {},
   "source": [
    "It's really important to remember that a file is a *different* built in type than a string."
   ]
  },
  {
   "cell_type": "markdown",
   "metadata": {},
   "source": [
    "## 2.3.4 Reading Files"
   ]
  },
  {
   "cell_type": "markdown",
   "metadata": {},
   "source": [
    "We can read one line at a time with `readline`: "
   ]
  },
  {
   "cell_type": "code",
   "execution_count": 11,
   "metadata": {},
   "outputs": [],
   "source": [
    "myfile.seek(0)\n",
    "first = myfile.readline()"
   ]
  },
  {
   "cell_type": "code",
   "execution_count": 12,
   "metadata": {},
   "outputs": [
    {
     "data": {
      "text/plain": [
       "\"A poet once said, 'The whole universe is in a glass of wine.'\\n\""
      ]
     },
     "execution_count": 12,
     "metadata": {},
     "output_type": "execute_result"
    }
   ],
   "source": [
    "first"
   ]
  },
  {
   "cell_type": "code",
   "execution_count": 13,
   "metadata": {},
   "outputs": [],
   "source": [
    "second = myfile.readline()"
   ]
  },
  {
   "cell_type": "code",
   "execution_count": 14,
   "metadata": {},
   "outputs": [
    {
     "data": {
      "text/plain": [
       "'We will probably never know in what sense he meant it, \\n'"
      ]
     },
     "execution_count": 14,
     "metadata": {},
     "output_type": "execute_result"
    }
   ],
   "source": [
    "second"
   ]
  },
  {
   "cell_type": "markdown",
   "metadata": {},
   "source": [
    "We can read the whole remaining file with `read`:"
   ]
  },
  {
   "cell_type": "code",
   "execution_count": 15,
   "metadata": {},
   "outputs": [],
   "source": [
    "rest = myfile.read()"
   ]
  },
  {
   "cell_type": "code",
   "execution_count": 16,
   "metadata": {},
   "outputs": [
    {
     "data": {
      "text/plain": [
       "\"for poets do not write to be understood. \\nBut it is true that if we look at a glass of wine closely enough we see the entire universe. \\nThere are the things of physics: the twisting liquid which evaporates depending\\non the wind and weather, the reflection in the glass;\\nand our imagination adds atoms.\\nThe glass is a distillation of the earth's rocks,\\nand in its composition we see the secrets of the universe's age, and the evolution of stars. \\nWhat strange array of chemicals are in the wine? How did they come to be? \\nThere are the ferments, the enzymes, the substrates, and the products.\\nThere in wine is found the great generalization; all life is fermentation.\\nNobody can discover the chemistry of wine without discovering, \\nas did Louis Pasteur, the cause of much disease.\\nHow vivid is the claret, pressing its existence into the consciousness that watches it!\\nIf our small minds, for some convenience, divide this glass of wine, this universe, \\ninto parts -- \\nphysics, biology, geology, astronomy, psychology, and so on -- \\nremember that nature does not know it!\\n\\nSo let us put it all back together, not forgetting ultimately what it is for.\\nLet it give us one more final pleasure; drink it and forget it all!\\n   - Richard Feynman\\n\""
      ]
     },
     "execution_count": 16,
     "metadata": {},
     "output_type": "execute_result"
    }
   ],
   "source": [
    "rest"
   ]
  },
  {
   "cell_type": "markdown",
   "metadata": {},
   "source": [
    "Which means that when a file is first opened, read is useful to just get the whole thing as a string:"
   ]
  },
  {
   "cell_type": "code",
   "execution_count": 17,
   "metadata": {},
   "outputs": [
    {
     "data": {
      "text/plain": [
       "\"A poet once said, 'The whole universe is in a glass of wine.'\\nWe will probably never know in what sense he meant it, \\nfor poets do not write to be understood. \\nBut it is true that if we look at a glass of wine closely enough we see the entire universe. \\nThere are the things of physics: the twisting liquid which evaporates depending\\non the wind and weather, the reflection in the glass;\\nand our imagination adds atoms.\\nThe glass is a distillation of the earth's rocks,\\nand in its composition we see the secrets of the universe's age, and the evolution of stars. \\nWhat strange array of chemicals are in the wine? How did they come to be? \\nThere are the ferments, the enzymes, the substrates, and the products.\\nThere in wine is found the great generalization; all life is fermentation.\\nNobody can discover the chemistry of wine without discovering, \\nas did Louis Pasteur, the cause of much disease.\\nHow vivid is the claret, pressing its existence into the consciousness that watches it!\\nIf our small minds, for some convenience, divide this glass of wine, this universe, \\ninto parts -- \\nphysics, biology, geology, astronomy, psychology, and so on -- \\nremember that nature does not know it!\\n\\nSo let us put it all back together, not forgetting ultimately what it is for.\\nLet it give us one more final pleasure; drink it and forget it all!\\n   - Richard Feynman\\n\""
      ]
     },
     "execution_count": 17,
     "metadata": {},
     "output_type": "execute_result"
    }
   ],
   "source": [
    "open(\"mydata.txt\").read()"
   ]
  },
  {
   "cell_type": "markdown",
   "metadata": {},
   "source": [
    "You can also read just a few characters:"
   ]
  },
  {
   "cell_type": "code",
   "execution_count": 18,
   "metadata": {},
   "outputs": [
    {
     "data": {
      "text/plain": [
       "1335"
      ]
     },
     "execution_count": 18,
     "metadata": {},
     "output_type": "execute_result"
    }
   ],
   "source": [
    "myfile.seek(1335)"
   ]
  },
  {
   "cell_type": "code",
   "execution_count": 19,
   "metadata": {},
   "outputs": [
    {
     "data": {
      "text/plain": [
       "'\\n   - Richard F'"
      ]
     },
     "execution_count": 19,
     "metadata": {},
     "output_type": "execute_result"
    }
   ],
   "source": [
    "myfile.read(15)"
   ]
  },
  {
   "cell_type": "markdown",
   "metadata": {},
   "source": [
    "## 2.3.5 Converting Strings to Files"
   ]
  },
  {
   "cell_type": "markdown",
   "metadata": {},
   "source": [
    "Because files and strings are different types, we CANNOT just treat strings as if they were files:"
   ]
  },
  {
   "cell_type": "code",
   "execution_count": 20,
   "metadata": {},
   "outputs": [],
   "source": [
    "mystring = \"Hello World\\n My name is James\""
   ]
  },
  {
   "cell_type": "code",
   "execution_count": 21,
   "metadata": {},
   "outputs": [
    {
     "data": {
      "text/plain": [
       "'Hello World\\n My name is James'"
      ]
     },
     "execution_count": 21,
     "metadata": {},
     "output_type": "execute_result"
    }
   ],
   "source": [
    "mystring"
   ]
  },
  {
   "cell_type": "code",
   "execution_count": 22,
   "metadata": {
    "tags": [
     "raises-exception"
    ]
   },
   "outputs": [
    {
     "ename": "AttributeError",
     "evalue": "'str' object has no attribute 'readline'",
     "output_type": "error",
     "traceback": [
      "\u001b[0;31m---------------------------------------------------------------------------\u001b[0m",
      "\u001b[0;31mAttributeError\u001b[0m                            Traceback (most recent call last)",
      "\u001b[0;32m/var/folders/q7/nl3w6z854711jwsdy0hj7sxhwypcgh/T/ipykernel_65008/3136785225.py\u001b[0m in \u001b[0;36m<module>\u001b[0;34m\u001b[0m\n\u001b[0;32m----> 1\u001b[0;31m \u001b[0mmystring\u001b[0m\u001b[0;34m.\u001b[0m\u001b[0mreadline\u001b[0m\u001b[0;34m(\u001b[0m\u001b[0;34m)\u001b[0m\u001b[0;34m\u001b[0m\u001b[0;34m\u001b[0m\u001b[0m\n\u001b[0m",
      "\u001b[0;31mAttributeError\u001b[0m: 'str' object has no attribute 'readline'"
     ]
    }
   ],
   "source": [
    "mystring.readline()"
   ]
  },
  {
   "cell_type": "markdown",
   "metadata": {},
   "source": [
    "This is important, because some file format parsers expect input from a **file** and not a string. \n",
    "We can convert between them using the StringIO class of the [io module](https://docs.python.org/3/library/io.html) in the standard library:"
   ]
  },
  {
   "cell_type": "code",
   "execution_count": 23,
   "metadata": {},
   "outputs": [],
   "source": [
    "from io import StringIO"
   ]
  },
  {
   "cell_type": "code",
   "execution_count": 24,
   "metadata": {},
   "outputs": [],
   "source": [
    "mystringasafile = StringIO(mystring)"
   ]
  },
  {
   "cell_type": "code",
   "execution_count": 25,
   "metadata": {},
   "outputs": [
    {
     "data": {
      "text/plain": [
       "'Hello World\\n'"
      ]
     },
     "execution_count": 25,
     "metadata": {},
     "output_type": "execute_result"
    }
   ],
   "source": [
    "mystringasafile.readline()"
   ]
  },
  {
   "cell_type": "code",
   "execution_count": 26,
   "metadata": {},
   "outputs": [
    {
     "data": {
      "text/plain": [
       "' My name is James'"
      ]
     },
     "execution_count": 26,
     "metadata": {},
     "output_type": "execute_result"
    }
   ],
   "source": [
    "mystringasafile.readline()"
   ]
  },
  {
   "cell_type": "markdown",
   "metadata": {},
   "source": [
    "Note that in a string, `\\n` is used to represent a newline."
   ]
  },
  {
   "cell_type": "markdown",
   "metadata": {},
   "source": [
    "## 2.4.6 Closing files"
   ]
  },
  {
   "cell_type": "markdown",
   "metadata": {},
   "source": [
    "We really ought to close files when we've finished with them, as it makes the computer more efficient. (On a shared computer,\n",
    "this is particularly important)"
   ]
  },
  {
   "cell_type": "code",
   "execution_count": 27,
   "metadata": {},
   "outputs": [],
   "source": [
    "myfile.close()"
   ]
  },
  {
   "cell_type": "markdown",
   "metadata": {},
   "source": [
    "Because it's so easy to forget this, python provides a **context manager** to open a file, then close it automatically at\n",
    "the end of an indented block:"
   ]
  },
  {
   "cell_type": "code",
   "execution_count": 28,
   "metadata": {},
   "outputs": [
    {
     "data": {
      "text/plain": [
       "\"A poet once said, 'The whole universe is in a glass of wine.'\\nWe will probably never know in what sense he meant it, \\nfor poets do not write to be understood. \\nBut it is true that if we look at a glass of wine closely enough we see the entire universe. \\nThere are the things of physics: the twisting liquid which evaporates depending\\non the wind and weather, the reflection in the glass;\\nand our imagination adds atoms.\\nThe glass is a distillation of the earth's rocks,\\nand in its composition we see the secrets of the universe's age, and the evolution of stars. \\nWhat strange array of chemicals are in the wine? How did they come to be? \\nThere are the ferments, the enzymes, the substrates, and the products.\\nThere in wine is found the great generalization; all life is fermentation.\\nNobody can discover the chemistry of wine without discovering, \\nas did Louis Pasteur, the cause of much disease.\\nHow vivid is the claret, pressing its existence into the consciousness that watches it!\\nIf our small minds, for some convenience, divide this glass of wine, this universe, \\ninto parts -- \\nphysics, biology, geology, astronomy, psychology, and so on -- \\nremember that nature does not know it!\\n\\nSo let us put it all back together, not forgetting ultimately what it is for.\\nLet it give us one more final pleasure; drink it and forget it all!\\n   - Richard Feynman\\n\""
      ]
     },
     "execution_count": 28,
     "metadata": {},
     "output_type": "execute_result"
    }
   ],
   "source": [
    "with open(\"mydata.txt\") as somefile:\n",
    "    content = somefile.read()\n",
    "\n",
    "content"
   ]
  },
  {
   "cell_type": "markdown",
   "metadata": {},
   "source": [
    "The code to be done while the file is open is indented, just like for an `if` statement."
   ]
  },
  {
   "cell_type": "markdown",
   "metadata": {},
   "source": [
    "You should pretty much **always** use this syntax for working with files."
   ]
  },
  {
   "cell_type": "markdown",
   "metadata": {},
   "source": [
    "## 2.3.7 Writing files"
   ]
  },
  {
   "cell_type": "markdown",
   "metadata": {},
   "source": [
    "We might want to create a file from a string in memory. We can't do this with the notebook's `%%writefile` -- this is\n",
    "just a notebook convenience, and isn't very programmable."
   ]
  },
  {
   "cell_type": "markdown",
   "metadata": {},
   "source": [
    "When we open a file, we can specify a 'mode', in this case, 'w' for writing. ('r' for reading is the default.)"
   ]
  },
  {
   "cell_type": "code",
   "execution_count": 29,
   "metadata": {},
   "outputs": [],
   "source": [
    "with open(\"mywrittenfile\", \"w\") as target:\n",
    "    target.write(\"Hello\")\n",
    "    target.write(\"World\")"
   ]
  },
  {
   "cell_type": "code",
   "execution_count": 30,
   "metadata": {},
   "outputs": [
    {
     "name": "stdout",
     "output_type": "stream",
     "text": [
      "HelloWorld\n"
     ]
    }
   ],
   "source": [
    "with open(\"mywrittenfile\", \"r\") as source:\n",
    "    print(source.read())"
   ]
  },
  {
   "cell_type": "markdown",
   "metadata": {},
   "source": [
    "And we can \"append\" to a file with mode 'a':"
   ]
  },
  {
   "cell_type": "code",
   "execution_count": 31,
   "metadata": {},
   "outputs": [],
   "source": [
    "with open(\"mywrittenfile\", \"a\") as target:\n",
    "    target.write(\"Hello\")\n",
    "    target.write(\"James\")"
   ]
  },
  {
   "cell_type": "code",
   "execution_count": 32,
   "metadata": {},
   "outputs": [
    {
     "name": "stdout",
     "output_type": "stream",
     "text": [
      "HelloWorldHelloJames\n"
     ]
    }
   ],
   "source": [
    "with open(\"mywrittenfile\", \"r\") as source:\n",
    "    print(source.read())"
   ]
  },
  {
   "cell_type": "markdown",
   "metadata": {},
   "source": [
    "If a file already exists, mode `w` will overwrite it."
   ]
  }
 ],
 "metadata": {
  "jekyll": {
   "display_name": "Working with files"
  },
  "kernelspec": {
   "display_name": "Python 3 (ipykernel)",
   "language": "python",
   "name": "python3"
  },
  "language_info": {
   "codemirror_mode": {
    "name": "ipython",
    "version": 3
   },
   "file_extension": ".py",
   "mimetype": "text/x-python",
   "name": "python",
   "nbconvert_exporter": "python",
   "pygments_lexer": "ipython3",
   "version": "3.8.8"
  }
 },
 "nbformat": 4,
 "nbformat_minor": 1
}
