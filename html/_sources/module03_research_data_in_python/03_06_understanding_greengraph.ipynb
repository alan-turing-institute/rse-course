{
 "cells": [
  {
   "cell_type": "markdown",
   "metadata": {},
   "source": [
    "# Recap: Understanding the \"Greengraph\" Example"
   ]
  },
  {
   "cell_type": "markdown",
   "metadata": {},
   "source": [
    "We now know enough to understand everything we did in [the initial example chapter on the \"Greengraph\"](https://alan-turing-institute.github.io/rse-course/html/module01_introduction_to_python/01_01_data_analysis_example.html) ([notebook](../module01_introduction_to_python/01_01_data_analysis_example.ipynb)). Go back to that part of the notes, and re-read the code. "
   ]
  },
  {
   "cell_type": "markdown",
   "metadata": {},
   "source": [
    "Now, we can even write it up into a class, and save it as a module. Remember that it is generally a better idea to create files in an editor or integrated development environment (IDE) rather than through the notebook!"
   ]
  },
  {
   "cell_type": "markdown",
   "metadata": {},
   "source": [
    "## Classes for Greengraph"
   ]
  },
  {
   "cell_type": "code",
   "execution_count": 1,
   "metadata": {},
   "outputs": [],
   "source": [
    "%%bash\n",
    "#%%cmd (windows)\n",
    "mkdir -p greengraph  # Create the folder for the module (on mac or linux)"
   ]
  },
  {
   "cell_type": "code",
   "execution_count": 2,
   "metadata": {},
   "outputs": [
    {
     "name": "stdout",
     "output_type": "stream",
     "text": [
      "Overwriting greengraph/graph.py\n"
     ]
    }
   ],
   "source": [
    "%%writefile greengraph/graph.py\n",
    "import numpy as np\n",
    "import geopy\n",
    "from .map import Map\n",
    "\n",
    "\n",
    "class Greengraph:\n",
    "    def __init__(self, start, end):\n",
    "        self.start = start\n",
    "        self.end = end\n",
    "        self.geocoder = geopy.geocoders.Nominatim(user_agent=\"rsd-course\")\n",
    "\n",
    "    def geolocate(self, place):\n",
    "        return self.geocoder.geocode(place, exactly_one=False)[0][1]\n",
    "\n",
    "    def location_sequence(self, start, end, steps):\n",
    "        lats = np.linspace(start[0], end[0], steps)\n",
    "        longs = np.linspace(start[1], end[1], steps)\n",
    "        return np.vstack([lats, longs]).transpose()\n",
    "\n",
    "    def green_between(self, steps):\n",
    "        return [\n",
    "            Map(*location).count_green()\n",
    "            for location in self.location_sequence(\n",
    "                self.geolocate(self.start), self.geolocate(self.end), steps\n",
    "            )\n",
    "        ]"
   ]
  },
  {
   "cell_type": "code",
   "execution_count": 3,
   "metadata": {},
   "outputs": [
    {
     "name": "stdout",
     "output_type": "stream",
     "text": [
      "Overwriting greengraph/map.py\n"
     ]
    }
   ],
   "source": [
    "%%writefile greengraph/map.py\n",
    "\n",
    "import numpy as np\n",
    "from io import BytesIO\n",
    "import imageio as img\n",
    "import requests\n",
    "\n",
    "\n",
    "class Map:\n",
    "    def __init__(\n",
    "        self, lat, long, satellite=True, zoom=10, size=(400, 400), sensor=False\n",
    "    ):\n",
    "        base = \"https://static-maps.yandex.ru/1.x/?\"\n",
    "\n",
    "        params = dict(\n",
    "            z=zoom,\n",
    "            size=str(size[0]) + \",\" + str(size[1]),\n",
    "            ll=str(long) + \",\" + str(lat),\n",
    "            l=\"sat\" if satellite else \"map\",\n",
    "            lang=\"en_US\",\n",
    "        )\n",
    "\n",
    "        self.image = requests.get(\n",
    "            base, params=params\n",
    "        ).content  # Fetch our PNG image data\n",
    "        content = BytesIO(self.image)\n",
    "        self.pixels = img.imread(content)  # Parse our PNG image as a numpy array\n",
    "\n",
    "    def green(self, threshold):\n",
    "        # Use NumPy to build an element-by-element logical array\n",
    "        greener_than_red = self.pixels[:, :, 1] > threshold * self.pixels[:, :, 0]\n",
    "        greener_than_blue = self.pixels[:, :, 1] > threshold * self.pixels[:, :, 2]\n",
    "        green = np.logical_and(greener_than_red, greener_than_blue)\n",
    "        return green\n",
    "\n",
    "    def count_green(self, threshold=1.1):\n",
    "        return np.sum(self.green(threshold))\n",
    "\n",
    "    def show_green(data, threshold=1.1):\n",
    "        green = self.green(threshold)\n",
    "        out = green[:, :, np.newaxis] * array([0, 1, 0])[np.newaxis, np.newaxis, :]\n",
    "        buffer = BytesIO()\n",
    "        result = img.imwrite(buffer, out, format=\"png\")\n",
    "        return buffer.getvalue()"
   ]
  },
  {
   "cell_type": "code",
   "execution_count": 4,
   "metadata": {},
   "outputs": [
    {
     "name": "stdout",
     "output_type": "stream",
     "text": [
      "Overwriting greengraph/__init__.py\n"
     ]
    }
   ],
   "source": [
    "%%writefile greengraph/__init__.py\n",
    "from .graph import Greengraph"
   ]
  },
  {
   "cell_type": "markdown",
   "metadata": {},
   "source": [
    "## Invoking our code and making a plot"
   ]
  },
  {
   "cell_type": "code",
   "execution_count": 5,
   "metadata": {},
   "outputs": [],
   "source": [
    "%matplotlib inline\n",
    "from matplotlib import pyplot as plt\n",
    "from greengraph import Greengraph\n",
    "\n",
    "mygraph = Greengraph(\"New York\", \"Chicago\")\n",
    "data = mygraph.green_between(20)"
   ]
  },
  {
   "cell_type": "code",
   "execution_count": 6,
   "metadata": {},
   "outputs": [
    {
     "data": {
      "text/plain": [
       "[<matplotlib.lines.Line2D at 0x12410e050>]"
      ]
     },
     "execution_count": 6,
     "metadata": {},
     "output_type": "execute_result"
    },
    {
     "data": {
      "image/png": "[encoded data removed]",
      "text/plain": [
       "<Figure size 432x288 with 1 Axes>"
      ]
     },
     "metadata": {
      "needs_background": "light"
     },
     "output_type": "display_data"
    }
   ],
   "source": [
    "plt.plot(data)"
   ]
  }
 ],
 "metadata": {
  "jekyll": {
   "display_name": "Understanding the Exemplar"
  },
  "kernelspec": {
   "display_name": "Python 3 (ipykernel)",
   "language": "python",
   "name": "python3"
  },
  "language_info": {
   "codemirror_mode": {
    "name": "ipython",
    "version": 3
   },
   "file_extension": ".py",
   "mimetype": "text/x-python",
   "name": "python",
   "nbconvert_exporter": "python",
   "pygments_lexer": "ipython3",
   "version": "3.8.13"
  }
 },
 "nbformat": 4,
 "nbformat_minor": 1
}
