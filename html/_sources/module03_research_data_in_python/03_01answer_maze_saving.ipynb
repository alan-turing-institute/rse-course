{
 "cells": [
  {
   "cell_type": "markdown",
   "metadata": {},
   "source": [
    "# Solution: Saving and loading data"
   ]
  },
  {
   "cell_type": "code",
   "execution_count": 1,
   "metadata": {},
   "outputs": [],
   "source": [
    "house = {\n",
    "    \"living\": {\n",
    "        \"exits\": {\"north\": \"kitchen\", \"outside\": \"garden\", \"upstairs\": \"bedroom\"},\n",
    "        \"people\": [\"James\"],\n",
    "        \"capacity\": 2,\n",
    "    },\n",
    "    \"kitchen\": {\"exits\": {\"south\": \"living\"}, \"people\": [], \"capacity\": 1},\n",
    "    \"garden\": {\"exits\": {\"inside\": \"living\"}, \"people\": [\"Sue\"], \"capacity\": 3},\n",
    "    \"bedroom\": {\n",
    "        \"exits\": {\"downstairs\": \"living\", \"jump\": \"garden\"},\n",
    "        \"people\": [],\n",
    "        \"capacity\": 1,\n",
    "    },\n",
    "}"
   ]
  },
  {
   "cell_type": "markdown",
   "metadata": {},
   "source": [
    "Save the maze with json:"
   ]
  },
  {
   "cell_type": "code",
   "execution_count": 2,
   "metadata": {},
   "outputs": [],
   "source": [
    "import json"
   ]
  },
  {
   "cell_type": "code",
   "execution_count": 3,
   "metadata": {},
   "outputs": [],
   "source": [
    "with open(\"maze.json\", \"w\") as json_maze_out:\n",
    "    json_maze_out.write(json.dumps(house))"
   ]
  },
  {
   "cell_type": "markdown",
   "metadata": {},
   "source": [
    "Consider the file on the disk:"
   ]
  },
  {
   "cell_type": "code",
   "execution_count": 4,
   "metadata": {},
   "outputs": [
    {
     "name": "stdout",
     "output_type": "stream",
     "text": [
      "{\"living\": {\"exits\": {\"north\": \"kitchen\", \"outside\": \"garden\", \"upstairs\": \"bedroom\"}, \"people\": [\"James\"], \"capacity\": 2}, \"kitchen\": {\"exits\": {\"south\": \"living\"}, \"people\": [], \"capacity\": 1}, \"garden\": {\"exits\": {\"inside\": \"living\"}, \"people\": [\"Sue\"], \"capacity\": 3}, \"bedroom\": {\"exits\": {\"downstairs\": \"living\", \"jump\": \"garden\"}, \"people\": [], \"capacity\": 1}}"
     ]
    }
   ],
   "source": [
    "%%bash\n",
    "#%%cmd (windows)\n",
    "cat 'maze.json'"
   ]
  },
  {
   "cell_type": "markdown",
   "metadata": {},
   "source": [
    "and now load it into a different variable:"
   ]
  },
  {
   "cell_type": "code",
   "execution_count": 5,
   "metadata": {},
   "outputs": [],
   "source": [
    "with open(\"maze.json\") as json_maze_in:\n",
    "    maze_again = json.load(json_maze_in)"
   ]
  },
  {
   "cell_type": "code",
   "execution_count": 6,
   "metadata": {},
   "outputs": [
    {
     "data": {
      "text/plain": [
       "{'living': {'exits': {'north': 'kitchen',\n",
       "   'outside': 'garden',\n",
       "   'upstairs': 'bedroom'},\n",
       "  'people': ['James'],\n",
       "  'capacity': 2},\n",
       " 'kitchen': {'exits': {'south': 'living'}, 'people': [], 'capacity': 1},\n",
       " 'garden': {'exits': {'inside': 'living'}, 'people': ['Sue'], 'capacity': 3},\n",
       " 'bedroom': {'exits': {'downstairs': 'living', 'jump': 'garden'},\n",
       "  'people': [],\n",
       "  'capacity': 1}}"
      ]
     },
     "execution_count": 6,
     "metadata": {},
     "output_type": "execute_result"
    }
   ],
   "source": [
    "maze_again"
   ]
  },
  {
   "cell_type": "markdown",
   "metadata": {},
   "source": [
    "Or with YAML:"
   ]
  },
  {
   "cell_type": "code",
   "execution_count": 7,
   "metadata": {},
   "outputs": [],
   "source": [
    "import yaml"
   ]
  },
  {
   "cell_type": "code",
   "execution_count": 8,
   "metadata": {},
   "outputs": [],
   "source": [
    "with open(\"maze.yaml\", \"w\") as yaml_maze_out:\n",
    "    yaml_maze_out.write(yaml.dump(house))"
   ]
  },
  {
   "cell_type": "code",
   "execution_count": 9,
   "metadata": {},
   "outputs": [
    {
     "name": "stdout",
     "output_type": "stream",
     "text": [
      "bedroom:\n",
      "  capacity: 1\n",
      "  exits:\n",
      "    downstairs: living\n",
      "    jump: garden\n",
      "  people: []\n",
      "garden:\n",
      "  capacity: 3\n",
      "  exits:\n",
      "    inside: living\n",
      "  people:\n",
      "  - Sue\n",
      "kitchen:\n",
      "  capacity: 1\n",
      "  exits:\n",
      "    south: living\n",
      "  people: []\n",
      "living:\n",
      "  capacity: 2\n",
      "  exits:\n",
      "    north: kitchen\n",
      "    outside: garden\n",
      "    upstairs: bedroom\n",
      "  people:\n",
      "  - James\n"
     ]
    }
   ],
   "source": [
    "%%bash\n",
    "#%%cmd (windows)\n",
    "cat 'maze.yaml'"
   ]
  },
  {
   "cell_type": "code",
   "execution_count": 10,
   "metadata": {},
   "outputs": [],
   "source": [
    "with open(\"maze.yaml\") as yaml_maze_in:\n",
    "    maze_again = yaml.safe_load(yaml_maze_in)"
   ]
  },
  {
   "cell_type": "code",
   "execution_count": 11,
   "metadata": {},
   "outputs": [
    {
     "data": {
      "text/plain": [
       "{'bedroom': {'capacity': 1,\n",
       "  'exits': {'downstairs': 'living', 'jump': 'garden'},\n",
       "  'people': []},\n",
       " 'garden': {'capacity': 3, 'exits': {'inside': 'living'}, 'people': ['Sue']},\n",
       " 'kitchen': {'capacity': 1, 'exits': {'south': 'living'}, 'people': []},\n",
       " 'living': {'capacity': 2,\n",
       "  'exits': {'north': 'kitchen', 'outside': 'garden', 'upstairs': 'bedroom'},\n",
       "  'people': ['James']}}"
      ]
     },
     "execution_count": 11,
     "metadata": {},
     "output_type": "execute_result"
    }
   ],
   "source": [
    "maze_again"
   ]
  }
 ],
 "metadata": {
  "jekyll": {
   "display_name": "Maze Files Solution"
  },
  "kernelspec": {
   "display_name": "Python 3 (ipykernel)",
   "language": "python",
   "name": "python3"
  },
  "language_info": {
   "codemirror_mode": {
    "name": "ipython",
    "version": 3
   },
   "file_extension": ".py",
   "mimetype": "text/x-python",
   "name": "python",
   "nbconvert_exporter": "python",
   "pygments_lexer": "ipython3",
   "version": "3.8.13"
  }
 },
 "nbformat": 4,
 "nbformat_minor": 1
}
