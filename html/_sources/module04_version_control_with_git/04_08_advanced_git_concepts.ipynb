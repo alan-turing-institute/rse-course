{
 "cells": [
  {
   "cell_type": "markdown",
   "metadata": {},
   "source": [
    "# 4.8 Advanced git concepts"
   ]
  },
  {
   "cell_type": "markdown",
   "metadata": {},
   "source": [
    "*Estimated time to complete this notebook: 15 minutes*"
   ]
  },
  {
   "cell_type": "markdown",
   "metadata": {},
   "source": [
    "## Stashing changes"
   ]
  },
  {
   "cell_type": "markdown",
   "metadata": {},
   "source": [
    "Before you can `git pull`, you need to have committed any changes you have made. If you find you want to pull, but you're not ready to commit, you have to temporarily \"put aside\" your uncommitted changes.\n",
    "For this, you can use the `git stash` command, like in the following example:"
   ]
  },
  {
   "cell_type": "code",
   "execution_count": 1,
   "metadata": {},
   "outputs": [],
   "source": [
    "import os\n",
    "\n",
    "top_dir = os.getcwd()\n",
    "git_dir = os.path.join(top_dir, \"learning_git\")\n",
    "working_dir = os.path.join(git_dir, \"git_example\")\n",
    "os.chdir(working_dir)"
   ]
  },
  {
   "cell_type": "markdown",
   "metadata": {},
   "source": [
    "Remind ourselves which branch we are using:"
   ]
  },
  {
   "cell_type": "code",
   "execution_count": 2,
   "metadata": {},
   "outputs": [
    {
     "name": "stdout",
     "output_type": "stream",
     "text": [
      "* main 7444bd0 [local_bare/main] Add Whernside\n"
     ]
    }
   ],
   "source": [
    "%%bash\n",
    "git branch -vv"
   ]
  },
  {
   "cell_type": "code",
   "execution_count": 3,
   "metadata": {},
   "outputs": [
    {
     "name": "stdout",
     "output_type": "stream",
     "text": [
      "Overwriting Wales.md\n"
     ]
    }
   ],
   "source": [
    "%%writefile Wales.md\n",
    "Mountains In Wales\n",
    "==================\n",
    "\n",
    "* Pen y Fan\n",
    "* Tryfan\n",
    "* Snowdon\n",
    "* Glyder Fawr\n",
    "* Fan y Big\n",
    "* Cadair Idris\n",
    "* Penygader"
   ]
  },
  {
   "cell_type": "code",
   "execution_count": 4,
   "metadata": {},
   "outputs": [
    {
     "name": "stdout",
     "output_type": "stream",
     "text": [
      "Saved working directory and index state WIP on main: 537950c Commit Aonach onto main branch\n"
     ]
    }
   ],
   "source": [
    "%%bash\n",
    "git stash"
   ]
  },
  {
   "cell_type": "code",
   "execution_count": 5,
   "metadata": {},
   "outputs": [
    {
     "name": "stdout",
     "output_type": "stream",
     "text": [
      "Already up to date.\n"
     ]
    }
   ],
   "source": [
    "%%bash\n",
    "git pull"
   ]
  },
  {
   "cell_type": "markdown",
   "metadata": {},
   "source": [
    "By stashing your work first, your repository becomes clean, allowing you to pull. To restore your changes, use `git stash apply`."
   ]
  },
  {
   "cell_type": "code",
   "execution_count": 6,
   "metadata": {},
   "outputs": [
    {
     "name": "stdout",
     "output_type": "stream",
     "text": [
      "On branch main\n",
      "Your branch is up to date with 'origin/main'.\n",
      "\n",
      "Changes not staged for commit:\n",
      "  (use \"git add <file>...\" to update what will be committed)\n",
      "  (use \"git restore <file>...\" to discard changes in working directory)\n",
      "\tmodified:   Wales.md\n",
      "\n",
      "Untracked files:\n",
      "  (use \"git add <file>...\" to include in what will be committed)\n",
      "\t__pycache__/\n",
      "\twsd.py\n",
      "\n",
      "no changes added to commit (use \"git add\" and/or \"git commit -a\")\n"
     ]
    }
   ],
   "source": [
    "%%bash\n",
    "git stash apply"
   ]
  },
  {
   "cell_type": "markdown",
   "metadata": {},
   "source": [
    "The \"Stash\" is a way of temporarily saving your working area, and can help out in a pinch."
   ]
  },
  {
   "cell_type": "markdown",
   "metadata": {},
   "source": [
    "# Tagging\n",
    "\n",
    "Tags are easy to read labels for revisions, and can be used anywhere we would name a commit.\n",
    "\n",
    "Produce real results *only* with tagged revisions.\n",
    "\n",
    "NB: we delete previous tags with the same name remotely and locally first, to avoid duplicates."
   ]
  },
  {
   "cell_type": "markdown",
   "metadata": {
    "attributes": {
     "classes": [
      " Bash"
     ],
     "id": ""
    }
   },
   "source": [
    "``` Bash\n",
    "git tag -a v1.0 -m \"Release 1.0\"\n",
    "git push --tags\n",
    "```"
   ]
  },
  {
   "cell_type": "markdown",
   "metadata": {},
   "source": [
    "You can also use tag names in the place of commmit hashes, such as to list the history between particular commits:"
   ]
  },
  {
   "cell_type": "markdown",
   "metadata": {},
   "source": [
    "``` Bash\n",
    "git log v1.0.. --graph --oneline\n",
    "```"
   ]
  },
  {
   "cell_type": "markdown",
   "metadata": {},
   "source": [
    "If .. is used without a following commit name, HEAD is assumed."
   ]
  },
  {
   "cell_type": "markdown",
   "metadata": {},
   "source": [
    "# Ignoring files"
   ]
  },
  {
   "cell_type": "markdown",
   "metadata": {},
   "source": [
    "We often end up with files that are generated by our program. It is bad practice to keep these in Git; just keep the sources."
   ]
  },
  {
   "cell_type": "markdown",
   "metadata": {},
   "source": [
    "Examples include `.o` and `.x` files for compiled languages, `.pyc` files in Python."
   ]
  },
  {
   "cell_type": "markdown",
   "metadata": {},
   "source": [
    "In our example, we might want to make our .md files into a PDF with [`rinohtype`](https://www.mos6581.org/rinohtype/master/):"
   ]
  },
  {
   "cell_type": "code",
   "execution_count": 7,
   "metadata": {},
   "outputs": [
    {
     "name": "stdout",
     "output_type": "stream",
     "text": [
      "Writing Makefile\n"
     ]
    }
   ],
   "source": [
    "%%writefile Makefile\n",
    "\n",
    "MDS=$(wildcard *.md)\n",
    "PDFS=$(MDS:.md=.pdf)\n",
    "\n",
    "default: $(PDFS)\n",
    "\n",
    "%.pdf: %.md\n",
    "\trinoh $< 2> /dev/null\n",
    "\trm $(basename $@).rtc $(basename $@).stylelog"
   ]
  },
  {
   "cell_type": "code",
   "execution_count": 8,
   "metadata": {},
   "outputs": [
    {
     "name": "stdout",
     "output_type": "stream",
     "text": [
      "rinoh Scotland.md 2> /dev/null\n",
      "Using the CommonMark frontend [built-in]\n",
      "rinohtype 0.5.4 (2022-06-17)  Copyright (c) Brecht Machiels and contributors\n",
      "This program comes with ABSOLUTELY NO WARRANTY. Its use is subject\n",
      "to the terms of the GNU Affero General Public License version 3.\n",
      "100% [========================================] ETA 00:00 (00:00) page 3\n",
      "Not yet converged, rendering again...\n",
      "100% [========================================] ETA 00:00 (00:00) page 3\n",
      "Writing output: Scotland.pdf\n",
      "rm Scotland.rtc Scotland.stylelog\n",
      "rinoh Wales.md 2> /dev/null\n",
      "Using the CommonMark frontend [built-in]\n",
      "rinohtype 0.5.4 (2022-06-17)  Copyright (c) Brecht Machiels and contributors\n",
      "This program comes with ABSOLUTELY NO WARRANTY. Its use is subject\n",
      "to the terms of the GNU Affero General Public License version 3.\n",
      "100% [========================================] ETA 00:00 (00:00) page 3\n",
      "Not yet converged, rendering again...\n",
      "100% [========================================] ETA 00:00 (00:00) page 3\n",
      "Writing output: Wales.pdf\n",
      "rm Wales.rtc Wales.stylelog\n",
      "rinoh lakeland.md 2> /dev/null\n",
      "Using the CommonMark frontend [built-in]\n",
      "rinohtype 0.5.4 (2022-06-17)  Copyright (c) Brecht Machiels and contributors\n",
      "This program comes with ABSOLUTELY NO WARRANTY. Its use is subject\n",
      "to the terms of the GNU Affero General Public License version 3.\n",
      "100% [========================================] ETA 00:00 (00:00) page 3\n",
      "Not yet converged, rendering again...\n",
      "100% [========================================] ETA 00:00 (00:00) page 3\n",
      "Writing output: lakeland.pdf\n",
      "rm lakeland.rtc lakeland.stylelog\n",
      "rinoh test.md 2> /dev/null\n",
      "Using the CommonMark frontend [built-in]\n",
      "rinohtype 0.5.4 (2022-06-17)  Copyright (c) Brecht Machiels and contributors\n",
      "This program comes with ABSOLUTELY NO WARRANTY. Its use is subject\n",
      "to the terms of the GNU Affero General Public License version 3.\n",
      "100% [========================================] ETA 00:00 (00:00) page 3\n",
      "Not yet converged, rendering again...\n",
      "100% [========================================] ETA 00:00 (00:00) page 3\n",
      "Writing output: test.pdf\n",
      "rm test.rtc test.stylelog\n"
     ]
    }
   ],
   "source": [
    "%%bash\n",
    "make"
   ]
  },
  {
   "cell_type": "markdown",
   "metadata": {},
   "source": [
    "We now have a bunch of output .pdf files corresponding to each Markdown file."
   ]
  },
  {
   "cell_type": "markdown",
   "metadata": {},
   "source": [
    "But we don't want those to show up in git:"
   ]
  },
  {
   "cell_type": "code",
   "execution_count": 9,
   "metadata": {},
   "outputs": [
    {
     "name": "stdout",
     "output_type": "stream",
     "text": [
      "On branch main\n",
      "Your branch is up to date with 'origin/main'.\n",
      "\n",
      "Changes not staged for commit:\n",
      "  (use \"git add <file>...\" to update what will be committed)\n",
      "  (use \"git restore <file>...\" to discard changes in working directory)\n",
      "\tmodified:   Wales.md\n",
      "\n",
      "Untracked files:\n",
      "  (use \"git add <file>...\" to include in what will be committed)\n",
      "\tMakefile\n",
      "\tScotland.pdf\n",
      "\tWales.pdf\n",
      "\t__pycache__/\n",
      "\tlakeland.pdf\n",
      "\ttest.pdf\n",
      "\twsd.py\n",
      "\n",
      "no changes added to commit (use \"git add\" and/or \"git commit -a\")\n"
     ]
    }
   ],
   "source": [
    "%%bash\n",
    "git status"
   ]
  },
  {
   "cell_type": "markdown",
   "metadata": {},
   "source": [
    "Use .gitignore files to tell Git not to pay attention to files with certain paths:"
   ]
  },
  {
   "cell_type": "code",
   "execution_count": 10,
   "metadata": {},
   "outputs": [
    {
     "name": "stdout",
     "output_type": "stream",
     "text": [
      "Writing .gitignore\n"
     ]
    }
   ],
   "source": [
    "%%writefile .gitignore\n",
    "*.pdf"
   ]
  },
  {
   "cell_type": "code",
   "execution_count": 11,
   "metadata": {},
   "outputs": [
    {
     "name": "stdout",
     "output_type": "stream",
     "text": [
      "On branch main\n",
      "Your branch is up to date with 'origin/main'.\n",
      "\n",
      "Changes not staged for commit:\n",
      "  (use \"git add <file>...\" to update what will be committed)\n",
      "  (use \"git restore <file>...\" to discard changes in working directory)\n",
      "\tmodified:   Wales.md\n",
      "\n",
      "Untracked files:\n",
      "  (use \"git add <file>...\" to include in what will be committed)\n",
      "\t.gitignore\n",
      "\tMakefile\n",
      "\t__pycache__/\n",
      "\twsd.py\n",
      "\n",
      "no changes added to commit (use \"git add\" and/or \"git commit -a\")\n"
     ]
    }
   ],
   "source": [
    "%%bash\n",
    "git status"
   ]
  },
  {
   "cell_type": "code",
   "execution_count": 12,
   "metadata": {},
   "outputs": [
    {
     "name": "stdout",
     "output_type": "stream",
     "text": [
      "[main c8ba483] Add a makefile and ignore generated files\n",
      " 3 files changed, 12 insertions(+), 1 deletion(-)\n",
      " create mode 100644 .gitignore\n",
      " create mode 100644 Makefile\n"
     ]
    },
    {
     "name": "stderr",
     "output_type": "stream",
     "text": [
      "To github.com:alan-turing-institute/github-example.git\n",
      "   537950c..c8ba483  main -> main\n"
     ]
    }
   ],
   "source": [
    "%%bash\n",
    "git add Makefile\n",
    "git add .gitignore\n",
    "git commit -am \"Add a makefile and ignore generated files\"\n",
    "git push"
   ]
  },
  {
   "cell_type": "markdown",
   "metadata": {},
   "source": [
    "# Cleaning your directory"
   ]
  },
  {
   "cell_type": "markdown",
   "metadata": {},
   "source": [
    "Sometimes you end up creating various files that you do not want to include in version control. An easy way of deleting them (if that is what you want) is the `git clean` command, which will remove the files that git is not tracking."
   ]
  },
  {
   "cell_type": "code",
   "execution_count": 13,
   "metadata": {},
   "outputs": [
    {
     "name": "stdout",
     "output_type": "stream",
     "text": [
      "Removing Scotland.pdf\n",
      "Removing Wales.pdf\n",
      "Removing lakeland.pdf\n",
      "Removing test.pdf\n"
     ]
    }
   ],
   "source": [
    "%%bash\n",
    "git clean -fX"
   ]
  },
  {
   "cell_type": "code",
   "execution_count": 14,
   "metadata": {},
   "outputs": [
    {
     "name": "stdout",
     "output_type": "stream",
     "text": [
      "Makefile\n",
      "Scotland.md\n",
      "Wales.md\n",
      "__pycache__\n",
      "lakeland.md\n",
      "test.md\n",
      "wsd.py\n"
     ]
    }
   ],
   "source": [
    "%%bash\n",
    "ls"
   ]
  },
  {
   "cell_type": "markdown",
   "metadata": {},
   "source": [
    "* With `-f`: don't prompt\n",
    "* with `-d`: remove directories\n",
    "* with `-x`: Also remote `.gitignored` files\n",
    "* with `-X`: Only remove `.gitignored` files"
   ]
  },
  {
   "cell_type": "markdown",
   "metadata": {},
   "source": [
    "# Hunks\n",
    "\n",
    "## Git hunks\n",
    "\n",
    "A \"hunk\" is one git change. This changeset has three hunks:"
   ]
  },
  {
   "cell_type": "markdown",
   "metadata": {
    "attributes": {
     "classes": [
      " diff"
     ],
     "id": ""
    },
    "collapsed": true
   },
   "source": [
    "```python\n",
    "+import matplotlib\n",
    "+import numpy as np\n",
    "\n",
    " from matplotlib import pylab\n",
    " from matplotlib.backends.backend_pdf import PdfPages\n",
    "\n",
    "+def increment_or_add(key,hash,weight=1):\n",
    "+       if key not in hash:\n",
    "+               hash[key]=0\n",
    "+       hash[key]+=weight\n",
    "+\n",
    " data_path=os.path.join(os.path.dirname(\n",
    "                        os.path.abspath(__file__)),\n",
    "-regenerate=False\n",
    "+regenerate=True\n",
    "```"
   ]
  },
  {
   "cell_type": "markdown",
   "metadata": {},
   "source": [
    "## Interactive add\n",
    "\n",
    "`git add` and `git reset` can be used to stage/unstage a whole file,\n",
    "but you can use interactive mode to stage by hunk, choosing\n",
    "yes or no for each hunk."
   ]
  },
  {
   "cell_type": "markdown",
   "metadata": {
    "collapsed": true
   },
   "source": [
    "``` bash\n",
    "git add -p myfile.py\n",
    "```"
   ]
  },
  {
   "cell_type": "markdown",
   "metadata": {
    "attributes": {
     "classes": [
      " diff"
     ],
     "id": ""
    },
    "collapsed": true
   },
   "source": [
    "``` python\n",
    "+import matplotlib\n",
    "+import numpy as np\n",
    "#Stage this hunk [y,n,a,d,/,j,J,g,e,?]?\n",
    "```"
   ]
  }
 ],
 "metadata": {
  "jekyll": {
   "display_name": "Advanced git concepts"
  },
  "kernelspec": {
   "display_name": "Python 3 (ipykernel)",
   "language": "python",
   "name": "python3"
  },
  "language_info": {
   "codemirror_mode": {
    "name": "ipython",
    "version": 3
   },
   "file_extension": ".py",
   "mimetype": "text/x-python",
   "name": "python",
   "nbconvert_exporter": "python",
   "pygments_lexer": "ipython3",
   "version": "3.8.13"
  }
 },
 "nbformat": 4,
 "nbformat_minor": 1
}
