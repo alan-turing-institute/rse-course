{
 "cells": [
  {
   "cell_type": "markdown",
   "metadata": {},
   "source": [
    "# 4.5 Fork and Pull"
   ]
  },
  {
   "cell_type": "markdown",
   "metadata": {},
   "source": [
    "*Estimated time to complete this notebook: 10 minutes*"
   ]
  },
  {
   "cell_type": "markdown",
   "metadata": {},
   "source": [
    "\n",
    "## Different ways of collaborating\n",
    "\n",
    "We have just seen how we can work with others on GitHub: we add them as collaborators on our repositories and give them permissions to push changes.\n",
    "\n",
    "Let's talk now about some other type of collaboration.\n",
    "\n",
    "Imagine you are a user of an Open Source project like Numpy and find a bug in one of their methods.\n",
    "\n",
    "You can inspect and clone Numpy's code in GitHub https://github.com/numpy/numpy, play around a bit and find how to fix the bug.\n",
    "\n",
    "Numpy has done so much for you asking nothing in return, that you really want to contribute back by fixing the bug for them.\n",
    "\n",
    "You make all of the changes but you can't push it back to Numpy's repository because you don't have permissions.\n",
    "\n",
    "The right way to do this is __forking Numpy's repository__. "
   ]
  },
  {
   "cell_type": "markdown",
   "metadata": {},
   "source": [
    "## Forking a repository on GitHub\n",
    "\n",
    "By forking a repository, all you do is make a copy of it in your GitHub account, where you will have write permissions as well.\n",
    "\n",
    "If you fork Numpy's repository, you will find a new repository in your GitHub account that is an exact copy of Numpy.\n",
    "You can then clone it to your computer, work locally on fixing the bug and push the changes to your _fork_ of Numpy.\n",
    "\n",
    "Once you are happy with with the changes, GitHub also offers you a way to notify Numpy's developers of this changes so that they can include them in the official Numpy repository via starting a __Pull Request__."
   ]
  },
  {
   "cell_type": "markdown",
   "metadata": {},
   "source": [
    "## Pull Request\n",
    "\n",
    "You can create a Pull Request and select those changes that you think can be useful for fixing Numpy's bug.\n",
    "\n",
    "Numpy's developers will review your code and make comments and suggestions on your fix.\n",
    "Then, you can commit more improvements in the pull request for them to review and so on.\n",
    "\n",
    "Once Numpy's developers are happy with your changes, they'll accept your Pull Request and merge the changes into their original repository, for everyone to use."
   ]
  },
  {
   "cell_type": "markdown",
   "metadata": {},
   "source": [
    "## Practical example - Team up!\n",
    "\n",
    "We will be working in the same repository with one of you being the leader and the other being the collaborator.\n",
    "\n",
    "Collaborators need to go to the leader's GitHub profile and find the repository we created for that lesson.\n",
    "Mine is in https://github.com/alan-turing-institute/github-example"
   ]
  },
  {
   "cell_type": "markdown",
   "metadata": {},
   "source": [
    "### 1. Fork repository\n",
    "\n",
    "You will see on the top right of the page a `Fork` button with an accompanying number indicating how many GitHub users have forked that repository.\n",
    "\n",
    "Collaborators need to navigate to the leader's repository and click the `Fork` button.\n",
    "\n",
    "Collaborators: note how GitHub has redirected you to your own GitHub page and you are now looking at an exact copy of the team leader's repository."
   ]
  },
  {
   "cell_type": "markdown",
   "metadata": {},
   "source": [
    "### 2. Clone your forked repo\n",
    "\n",
    "Collaborators: go to your terminal and clone the newly created fork.\n",
    "\n",
    "```\n",
    "git clone git@github.com:alan-turing-institute/github-example.git\n",
    "```"
   ]
  },
  {
   "cell_type": "markdown",
   "metadata": {},
   "source": [
    "### 3. Create a feature branch\n",
    "\n",
    "It's a good practice to create a new branch that'll contain the changes we want.\n",
    "We'll learn more about branches later on.\n",
    "For now, just think of this as a separate area where our changes will be kept not to interfere with other people's work.\n",
    "\n",
    "```\n",
    "git checkout -b southwest\n",
    "```"
   ]
  },
  {
   "cell_type": "markdown",
   "metadata": {},
   "source": [
    "### 4. Make, commit and push changes to new branch\n",
    "\n",
    "For example, let's create a new file called `SouthWest.md` and edit it to add this text:\n",
    "\n",
    "```\n",
    "* Exmoor\n",
    "* Dartmoor\n",
    "* Bodmin Moor\n",
    "```\n",
    "\n",
    "Save it, and push this changes to your fork's new branch:\n",
    "\n",
    "```\n",
    "git add SouthWest.md\n",
    "git commit -m \"The South West is also hilly.\"\n",
    "git push origin southwest\n",
    "```"
   ]
  },
  {
   "cell_type": "markdown",
   "metadata": {},
   "source": [
    "### 5. Create Pull Request\n",
    "\n",
    "Go back to the collaborator's GitHub site and reload the fork.\n",
    "GitHub has noticed there is a new branch and is presenting us with a green button to `Compare & pull request`.\n",
    "Fantastic!\n",
    "Click that button.\n",
    "\n",
    "Fill in the form with additional information about your change, as you consider necesary to make the team leader understand what this is all about.\n",
    "\n",
    "Take some time to inspect the commits and the changes you are submitting for review.\n",
    "When you are ready, click on the `Create Pull Request` button.\n",
    "\n",
    "Now, the leader needs to go to their GitHub site.\n",
    "They have been notified there is a pull request in their repo awaiting revision."
   ]
  },
  {
   "cell_type": "markdown",
   "metadata": {},
   "source": [
    "### 6. Feedback from team leader\n",
    "\n",
    "Leaders can see the list of pull requests in the vertical menu of the repo, on the right hand side of the screen.\n",
    "Select the pull request the collaborator has done, and inspect the changes.\n",
    "\n",
    "There are three tabs: in one you can start a conversation with the collaborator about their changes, and in the others you can have a look at the commits and changes made.\n",
    "\n",
    "Go to the tab labeled as \"Files Changed\".\n",
    "When you hover over the changes, a small `+` button appears.\n",
    "Select one line you want to make a comment on.\n",
    "For example, the line that contains \"Exmoor\".\n",
    "\n",
    "GitHub allows you to add a comment about that specific part of the change.\n",
    "Your collaborator has forgotten to add a title at the beginning of the file right before \"Exmoor\", so tell them so in the form presented after clicking the `+` button."
   ]
  },
  {
   "cell_type": "markdown",
   "metadata": {},
   "source": [
    "### 7. Fixes by collaborator\n",
    "\n",
    "Collaborators will be notified of this comment by email and also in their profiles page.\n",
    "Click the link accompanying  this notification to read the comment from the team leader.\n",
    "\n",
    "Go back to your local repository, make the changes suggested and push them to the new branch.\n",
    "\n",
    "Add this at the beginning of your file:\n",
    "\n",
    "```\n",
    "Hills in the South West:\n",
    "=======================\n",
    "\n",
    "```\n",
    "\n",
    "Then push the change to your fork:\n",
    "\n",
    "```\n",
    "git add .\n",
    "git commit -m \"Titles added as requested.\"\n",
    "git push origin southwest\n",
    "```\n",
    "\n",
    "This change will automatically be added to the pull request you started."
   ]
  },
  {
   "cell_type": "markdown",
   "metadata": {},
   "source": [
    "### 8. Leader accepts pull request\n",
    "\n",
    "The team leader will be notified of the new changes that can be reviewed in the same fashion as earlier.\n",
    "\n",
    "Let's assume the team leader is now happy with the changes.\n",
    "\n",
    "Leaders can see in the \"Conversation\" tab of the pull request a green button labelled ```Merge pull request```.\n",
    "Click it and confirm the decision.\n",
    "\n",
    "The collaborator's pull request has been accepted and appears now in the original repository owned by the team leader.\n",
    "\n",
    "Fork and Pull Request done!"
   ]
  },
  {
   "cell_type": "markdown",
   "metadata": {},
   "source": [
    "## Some Considerations\n",
    "\n",
    "* Fork and Pull Request are things happening only on the repository's server side (GitHub in our case). Consequently, you can't do things like `git fork` or `git pull-request` from the local copy of a repository.\n",
    "* You don't always need to fork repositories with the intention of contributing. You can fork a library you use, install it manually on your computer, and add more functionality or customise the existing one, so that it is more useful for you and your team.\n",
    "* Numpy's example is only illustrative. Normally, Open Source projects have in their documentation (sometimes in the form of a wiki) a set of instructions you need to follow if you want to contribute to their software.\n",
    "* Pull Requests can also be done for merging branches in a non-forked repository. It's typically used in teams to merge code from a branch into the master branch and ask team colleagues for code reviews before merging.\n",
    "* It's a good practice before starting a fork and a pull request to have a look at existing forks and pull requests. On GitHub, you can find the list of pull requests on the horizontal menu on the top of the page. Try to also find the network graph displaying all existing forks of a repo, like this example in the NumpyDoc repo: https://github.com/numpy/numpydoc/network"
   ]
  }
 ],
 "metadata": {
  "jekyll": {
   "display_name": "Fork and Pull"
  },
  "kernelspec": {
   "display_name": "Python 3 (ipykernel)",
   "language": "python",
   "name": "python3"
  },
  "language_info": {
   "codemirror_mode": {
    "name": "ipython",
    "version": 3
   },
   "file_extension": ".py",
   "mimetype": "text/x-python",
   "name": "python",
   "nbconvert_exporter": "python",
   "pygments_lexer": "ipython3",
   "version": "3.8.13"
  }
 },
 "nbformat": 4,
 "nbformat_minor": 1
}
