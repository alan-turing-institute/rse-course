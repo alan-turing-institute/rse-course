{
 "cells": [
  {
   "cell_type": "markdown",
   "metadata": {},
   "source": [
    "# 4.12 Working with multiple remotes\n"
   ]
  },
  {
    "cell_type": "markdown",
    "metadata": {},
    "source": [
     "*Estimated time to complete this notebook: 10 minutes*"
    ]
  },
  {
   "cell_type": "markdown",
   "metadata": {},
   "source": [
    "## Distributed versus centralised\n",
    "\n",
    "Older version control systems (cvs, svn) were \"centralised\"; the history was kept only on a server,\n",
    "and all commits required an internet.\n",
    "\n",
    "Centralised                    |  Distributed\n",
    "-------------------------------|--------------------------\n",
    "Server has history             |Every user has full history\n",
    "Your computer has one snapshot |  Many local branches\n",
    "To access history, need internet| History always available\n",
    "You commit to remote server     | Users synchronise histories\n",
    "cvs, subversion(svn)            | git, mercurial (hg), bazaar (bzr)"
   ]
  },
  {
   "cell_type": "markdown",
   "metadata": {},
   "source": [
    "With modern distributed systems, we can add a second remote. This might be a personal *fork* on github:"
   ]
  },
  {
   "cell_type": "code",
   "execution_count": 1,
   "metadata": {},
   "outputs": [],
   "source": [
    "import os\n",
    "\n",
    "top_dir = os.getcwd()\n",
    "git_dir = os.path.join(top_dir, \"learning_git\")\n",
    "working_dir = os.path.join(git_dir, \"git_example\")\n",
    "os.chdir(working_dir)"
   ]
  },
  {
   "cell_type": "code",
   "execution_count": 2,
   "metadata": {
    "attributes": {
     "classes": [
      " Bash"
     ],
     "id": ""
    }
   },
   "outputs": [
    {
     "name": "stdout",
     "output_type": "stream",
     "text": [
      "Your branch is up to date with 'origin/main'.\n"
     ]
    },
    {
     "name": "stderr",
     "output_type": "stream",
     "text": [
      "Already on 'main'\n",
      "From github.com:jack89roberts/github-example\n",
      " * [new branch]      main       -> jack89roberts/main\n",
      " * [new branch]      master     -> jack89roberts/master\n"
     ]
    }
   ],
   "source": [
    "%%bash\n",
    "git checkout main\n",
    "git remote add jack89roberts git@github.com:jack89roberts/github-example.git\n",
    "git fetch jack89roberts"
   ]
  },
  {
   "cell_type": "markdown",
   "metadata": {},
   "source": [
    "Check your remote branches:"
   ]
  },
  {
   "cell_type": "code",
   "execution_count": 3,
   "metadata": {},
   "outputs": [
    {
     "name": "stdout",
     "output_type": "stream",
     "text": [
      "jack89roberts\tgit@github.com:jack89roberts/github-example.git (fetch)\n",
      "jack89roberts\tgit@github.com:jack89roberts/github-example.git (push)\n",
      "origin\tgit@github.com:alan-turing-institute/github-example.git (fetch)\n",
      "origin\tgit@github.com:alan-turing-institute/github-example.git (push)\n"
     ]
    }
   ],
   "source": [
    "%%bash\n",
    "git remote -v"
   ]
  },
  {
   "cell_type": "markdown",
   "metadata": {},
   "source": [
    "and ensure that the newly-added remote is up-to-date"
   ]
  },
  {
   "cell_type": "code",
   "execution_count": 4,
   "metadata": {},
   "outputs": [],
   "source": [
    "%%bash\n",
    "git fetch jack89roberts"
   ]
  },
  {
   "cell_type": "code",
   "execution_count": 5,
   "metadata": {},
   "outputs": [
    {
     "name": "stdout",
     "output_type": "stream",
     "text": [
      "Writing Pennines.md\n"
     ]
    }
   ],
   "source": [
    "%%writefile Pennines.md\n",
    "\n",
    "Mountains In the Pennines\n",
    "========================\n",
    "\n",
    "* Cross Fell\n",
    "* Whernside"
   ]
  },
  {
   "cell_type": "code",
   "execution_count": 6,
   "metadata": {},
   "outputs": [
    {
     "name": "stdout",
     "output_type": "stream",
     "text": [
      "[main 7444bd0] Add Whernside\n",
      " 1 file changed, 6 insertions(+)\n",
      " create mode 100644 Pennines.md\n"
     ]
    }
   ],
   "source": [
    "%%bash\n",
    "git add Pennines.md\n",
    "git commit -am \"Add Whernside\""
   ]
  },
  {
   "cell_type": "markdown",
   "metadata": {},
   "source": [
    "We can specify which remote to push to by name:"
   ]
  },
  {
   "cell_type": "code",
   "execution_count": 7,
   "metadata": {},
   "outputs": [
    {
     "name": "stdout",
     "output_type": "stream",
     "text": [
      "Push failed\n"
     ]
    },
    {
     "name": "stderr",
     "output_type": "stream",
     "text": [
      "ERROR: Permission to jack89roberts/github-example.git denied to deploy key.\n",
      "fatal: Could not read from remote repository.\n",
      "\n",
      "Please make sure you have the correct access rights\n",
      "and the repository exists.\n"
     ]
    }
   ],
   "source": [
    "%%bash\n",
    "git push -uf jack89roberts main || echo \"Push failed\""
   ]
  },
  {
   "cell_type": "markdown",
   "metadata": {},
   "source": [
    "... but note that you need to have the correct permissions to do so."
   ]
  },
  {
   "cell_type": "code",
   "execution_count": 16,
   "metadata": {},
   "outputs": [
    {
     "name": "stdout",
     "output_type": "stream",
     "text": [
      "Branch 'main' set up to track remote branch 'main' from 'origin'.\n"
     ]
    },
    {
     "name": "stderr",
     "output_type": "stream",
     "text": [
      "To github.com:alan-turing-institute/github-example.git\n",
      " + 92a57e1...7444bd0 main -> main (forced update)\n"
     ]
    }
   ],
   "source": [
    "%%bash\n",
    "git push -uf origin main"
   ]
  },
  {
   "cell_type": "markdown",
   "metadata": {},
   "source": [
    "## Referencing remotes\n",
    "\n",
    "You can always refer to commits on a remote like this:"
   ]
  },
  {
   "cell_type": "code",
   "execution_count": 9,
   "metadata": {},
   "outputs": [
    {
     "name": "stdout",
     "output_type": "stream",
     "text": [
      "> 12ee6ad Add github pages YAML frontmatter\n",
      "> c8ba483 Add a makefile and ignore generated files\n",
      "> 537950c Commit Aonach onto main branch\n",
      "> 85b2797 Merge branch 'main' of github.com:alan-turing-institute/github-example\n",
      "> bc04a83 Add Glyder\n",
      "> ed30178 Add another Beacon\n",
      "> ecc3206 Merge branch 'main' of github.com:alan-turing-institute/github-example\n",
      "> 8cd684e Add a beacon\n",
      "> b8fb6c5 Translating from the Welsh\n",
      "> 34f8bbb Merge branch 'main' of github.com:alan-turing-institute/github-example\n",
      "> 289afed Add Scotland\n",
      "> 0c976b0 Add wales\n",
      "> 82b4fa0 Add Helvellyn\n",
      "> 6ff088f Include lakes in the scope\n",
      "> d063119 Add lakeland\n",
      "> c489aab Revert \"Add a lie about a mountain\"\n",
      "> f79cacc Change title\n",
      "> 6e8a302 Add a lie about a mountain\n",
      "> 238eaff First commit of discourse on UK topography\n",
      "< 31ea056 Add Whernside\n",
      "< 009f998 Add github pages YAML frontmatter\n",
      "< 2f9bcc8 Add a makefile and ignore generated files\n",
      "< ae539cc Merge branch 'experiment' into main\n",
      "< 492fec5 Commit Aonach onto main branch\n",
      "< fe1c71d Add Cadair Idris\n",
      "< 338d4d6 Merge branch 'main' of https://github.com/alan-turing-institute/github-example into main\n",
      "< 07c4fea Add Glyder\n",
      "< c405c4d Add another Beacon\n",
      "< f8f20a6 Merge branch 'main' of https://github.com/alan-turing-institute/github-example into main\n",
      "< 1f69c3f Translating from the Welsh\n",
      "< b2b4fa3 Add a beacon\n",
      "< c1897d4 Merge branch 'main' of https://github.com/alan-turing-institute/github-example into main\n",
      "< 0e96c25 Add wales\n",
      "< 0de6b80 Add Scotland\n",
      "< 959e142 Add Helvellyn\n",
      "< 600ffe1 Include lakes in the scope\n",
      "< c7454a7 Add lakeland\n",
      "< 5342922 Revert \"Add a lie about a mountain\"\n",
      "< f65fd0b Change title\n",
      "< 8c467a3 Add a lie about a mountain\n",
      "< 1f92929 First commit of discourse on UK topography\n"
     ]
    }
   ],
   "source": [
    "%%bash\n",
    "git fetch\n",
    "git log --oneline --left-right jack89roberts/main...origin/main"
   ]
  },
  {
   "cell_type": "markdown",
   "metadata": {},
   "source": [
    "To see the differences between remotes, for example.\n",
    "\n",
    "To see what files you have changed that aren't updated on a particular remote, for example:"
   ]
  },
  {
   "cell_type": "code",
   "execution_count": 10,
   "metadata": {},
   "outputs": [
    {
     "name": "stdout",
     "output_type": "stream",
     "text": [
      "Pennines.md\n"
     ]
    }
   ],
   "source": [
    "%%bash\n",
    "git diff --name-only origin/main"
   ]
  },
  {
   "cell_type": "markdown",
   "metadata": {},
   "source": [
    "When you reference remotes like this, you're working with a cached copy of the last time you interacted with the remote. You can do `git fetch` to update local data with the remotes without actually pulling. You can also get useful information about whether tracking branches are ahead or behind the remote branches they track:"
   ]
  },
  {
   "cell_type": "code",
   "execution_count": 11,
   "metadata": {},
   "outputs": [
    {
     "name": "stdout",
     "output_type": "stream",
     "text": [
      "* main 7444bd0 [origin/main: ahead 1] Add Whernside\n"
     ]
    }
   ],
   "source": [
    "%%bash\n",
    "git branch -vv"
   ]
  },
  {
   "cell_type": "markdown",
   "metadata": {},
   "source": [
    "# Hosting Servers\n",
    "\n",
    "## Hosting a local server\n",
    "\n",
    "* Any repository can be a remote for pulls\n",
    "* Can pull/push over shared folders or ssh\n",
    "* Pushing to someone's working copy is dangerous\n",
    "* Use `git init --bare` to make a copy for pushing\n",
    "* You don't need to create a \"server\" as such, any 'bare' git repo will do."
   ]
  },
  {
   "cell_type": "code",
   "execution_count": 12,
   "metadata": {},
   "outputs": [],
   "source": [
    "bare_dir = os.path.join(git_dir, \"bare_repo\")\n",
    "os.chdir(git_dir)"
   ]
  },
  {
   "cell_type": "code",
   "execution_count": 13,
   "metadata": {},
   "outputs": [
    {
     "name": "stdout",
     "output_type": "stream",
     "text": [
      "Initialized empty Git repository in /home/turingdev/research-software/rse-course/module04_version_control_with_git/learning_git/bare_repo/\n"
     ]
    }
   ],
   "source": [
    "%%bash\n",
    "mkdir -p bare_repo\n",
    "rm -rf bare_repo/*\n",
    "cd bare_repo\n",
    "git init --bare --initial-branch=main"
   ]
  },
  {
   "cell_type": "code",
   "execution_count": 14,
   "metadata": {},
   "outputs": [],
   "source": [
    "os.chdir(working_dir)"
   ]
  },
  {
   "cell_type": "code",
   "execution_count": 15,
   "metadata": {},
   "outputs": [
    {
     "name": "stdout",
     "output_type": "stream",
     "text": [
      "Branch 'main' set up to track remote branch 'main' from 'local_bare'.\n"
     ]
    },
    {
     "name": "stderr",
     "output_type": "stream",
     "text": [
      "To ../bare_repo\n",
      " * [new branch]      main -> main\n"
     ]
    }
   ],
   "source": [
    "%%bash\n",
    "git remote add local_bare ../bare_repo\n",
    "git push -u local_bare main"
   ]
  },
  {
   "cell_type": "markdown",
   "metadata": {},
   "source": [
    "Check your remote branches:"
   ]
  },
  {
   "cell_type": "code",
   "execution_count": 16,
   "metadata": {},
   "outputs": [
    {
     "name": "stdout",
     "output_type": "stream",
     "text": [
      "jack89roberts\tgit@github.com:jack89roberts/github-example.git (fetch)\n",
      "jack89roberts\tgit@github.com:jack89roberts/github-example.git (push)\n",
      "local_bare\t../bare_repo (fetch)\n",
      "local_bare\t../bare_repo (push)\n",
      "origin\tgit@github.com:alan-turing-institute/github-example.git (fetch)\n",
      "origin\tgit@github.com:alan-turing-institute/github-example.git (push)\n"
     ]
    }
   ],
   "source": [
    "%%bash\n",
    "git remote -v"
   ]
  },
  {
   "cell_type": "markdown",
   "metadata": {},
   "source": [
    "You can now work with this local repository, just as with any other git server.\n",
    "If you have a colleague on a shared file system, you can use this approach to collaborate through that file system."
   ]
  },
  {
   "cell_type": "markdown",
   "metadata": {},
   "source": [
    "## Home-made SSH servers\n",
    "\n",
    "Classroom exercise: Try creating a server for yourself using a machine you can SSH to:"
   ]
  },
  {
   "cell_type": "markdown",
   "metadata": {
    "collapsed": true
   },
   "source": [
    "``` bash\n",
    "ssh <mymachine>\n",
    "mkdir mygitserver\n",
    "cd mygitserver\n",
    "git init --bare\n",
    "exit\n",
    "git remote add <somename> ssh://user@host/mygitserver\n",
    "git push -u <somename> master\n",
    "```"
   ]
  },
  {
   "cell_type": "markdown",
   "metadata": {},
   "source": [
    "# SSH keys and GitHub\n",
    "\n",
    "Classroom exercise: If you haven't already, you should set things up so that you don't have to keep typing in your\n",
    "password whenever you interact with GitHub via the command line.\n",
    "\n",
    "You can do this with an \"ssh keypair\". You may have created a keypair in the\n",
    "Software Carpentry shell training. Go to the [ssh settings\n",
    "page](https://github.com/settings/ssh) on GitHub and upload your public key by\n",
    "copying the content from your computer. (Probably at .ssh/id_rsa.pub)\n",
    "\n",
    "If you have difficulties, the instructions for this are [on the GitHub\n",
    "website](https://help.github.com/articles/generating-ssh-keys). "
   ]
  }
 ],
 "metadata": {
  "jekyll": {
   "display_name": "Remotes"
  },
  "kernelspec": {
   "display_name": "Python 3 (ipykernel)",
   "language": "python",
   "name": "python3"
  },
  "language_info": {
   "codemirror_mode": {
    "name": "ipython",
    "version": 3
   },
   "file_extension": ".py",
   "mimetype": "text/x-python",
   "name": "python",
   "nbconvert_exporter": "python",
   "pygments_lexer": "ipython3",
   "version": "3.8.13"
  }
 },
 "nbformat": 4,
 "nbformat_minor": 1
}
