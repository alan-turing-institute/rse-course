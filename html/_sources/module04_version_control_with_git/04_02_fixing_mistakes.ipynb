{
 "cells": [
  {
   "cell_type": "markdown",
   "metadata": {},
   "source": [
    "# 4.2 Fixing mistakes"
   ]
  },
  {
   "cell_type": "markdown",
   "metadata": {},
   "source": [
    "*Estimated time to complete this notebook: 10 minutes*"
   ]
  },
  {
   "cell_type": "markdown",
   "metadata": {},
   "source": [
    "We're still in our git working directory:"
   ]
  },
  {
   "cell_type": "code",
   "execution_count": 1,
   "metadata": {},
   "outputs": [
    {
     "data": {
      "text/plain": [
       "'/home/turingdev/research-software/rse-course/module04_version_control_with_git/learning_git/git_example'"
      ]
     },
     "execution_count": 1,
     "metadata": {},
     "output_type": "execute_result"
    }
   ],
   "source": [
    "import os\n",
    "\n",
    "top_dir = os.getcwd()\n",
    "git_dir = os.path.join(top_dir, \"learning_git\")\n",
    "working_dir = os.path.join(git_dir, \"git_example\")\n",
    "os.chdir(working_dir)\n",
    "working_dir"
   ]
  },
  {
   "cell_type": "markdown",
   "metadata": {},
   "source": [
    "## Referring to changes with HEAD and ~\n",
    "\n",
    "The commit we want to revert to is the one before the latest.\n",
    "\n",
    "`HEAD` refers to the latest commit.\n",
    "That is, we want to go back to the change before the current `HEAD`.\n",
    "\n",
    "We could use the hash code (e.g. 73fbeaf) to reference this, but you can also refer to the commit before the `HEAD` as `HEAD~`, the one before that as `HEAD~~`, the one before that as `HEAD~3`."
   ]
  },
  {
   "cell_type": "markdown",
   "metadata": {},
   "source": [
    "## Reverting\n",
    "\n",
    "Ok, so now we'd like to undo the nasty commit with the lie about Mount Fictional."
   ]
  },
  {
   "cell_type": "code",
   "execution_count": 2,
   "metadata": {},
   "outputs": [
    {
     "name": "stdout",
     "output_type": "stream",
     "text": [
      "Auto-merging test.md\n",
      "[main c489aab] Revert \"Add a lie about a mountain\"\n",
      " Date: Mon Nov 8 14:00:29 2021 +0000\n",
      " 1 file changed, 2 deletions(-)\n"
     ]
    }
   ],
   "source": [
    "%%bash\n",
    "git revert HEAD~"
   ]
  },
  {
   "cell_type": "markdown",
   "metadata": {},
   "source": [
    "An editor may pop up, with some default text which you can accept and save. "
   ]
  },
  {
   "cell_type": "markdown",
   "metadata": {},
   "source": [
    "## Conflicted reverts\n",
    "\n",
    "You may, depending on the changes you've tried to make, get an error message here.\n",
    "\n",
    "If this happens, it is because git could not automagically decide how to combine the change you made after the change you want to revert, with the attempt to revert the change: this could happen, for example, if they both touch the same line.\n",
    "\n",
    "If that happens, you need to manually edit the file to fix the problem. Skip ahead to the section on resolving conflicts, or ask a demonstrator to help."
   ]
  },
  {
   "cell_type": "markdown",
   "metadata": {},
   "source": [
    "## Review of changes\n",
    "\n",
    "The file should now contain the change to the title, but not the extra line with the lie. Note the log:"
   ]
  },
  {
   "cell_type": "code",
   "execution_count": 3,
   "metadata": {},
   "outputs": [
    {
     "name": "stdout",
     "output_type": "stream",
     "text": [
      "commit c489aababc4488d5556ef340257905ee18873125\n",
      "Author: Turing Developer <developer@example.com>\n",
      "Date:   2021-11-08\n",
      "\n",
      "    Revert \"Add a lie about a mountain\"\n",
      "    \n",
      "    This reverts commit 6e8a302387007780675dbd5cb1823901d1a7b59b.\n",
      "\n",
      "commit f79cacc17500651a228f9b5a1922c3b50ea723c3\n",
      "Author: Turing Developer <developer@example.com>\n",
      "Date:   2021-11-08\n",
      "\n",
      "    Change title\n",
      "\n",
      "commit 6e8a302387007780675dbd5cb1823901d1a7b59b\n",
      "Author: Turing Developer <developer@example.com>\n",
      "Date:   2021-11-08\n",
      "\n",
      "    Add a lie about a mountain\n",
      "\n",
      "commit 238eaff15e2769e0ef1d989f1a2e8be1873fa0ab\n",
      "Author: Turing Developer <developer@example.com>\n",
      "Date:   2021-11-08\n",
      "\n",
      "    First commit of discourse on UK topography\n"
     ]
    }
   ],
   "source": [
    "%%bash\n",
    "git log --date=short"
   ]
  },
  {
   "cell_type": "markdown",
   "metadata": {},
   "source": [
    "## Antipatch\n",
    "\n",
    "Notice how the mistake has stayed in the history.\n",
    "\n",
    "There is a new commit which undoes the change: this is colloquially called an \"antipatch\".\n",
    "This is nice: you have a record of the full story, including the mistake and its correction."
   ]
  },
  {
   "cell_type": "markdown",
   "metadata": {},
   "source": [
    "## Rewriting history\n",
    "\n",
    "It is possible, in git, to remove the most recent change altogether, \"rewriting history\". Let's make another bad change, and see how to do this."
   ]
  },
  {
   "cell_type": "markdown",
   "metadata": {},
   "source": [
    "## A new lie"
   ]
  },
  {
   "cell_type": "code",
   "execution_count": 4,
   "metadata": {},
   "outputs": [
    {
     "name": "stdout",
     "output_type": "stream",
     "text": [
      "Overwriting test.md\n"
     ]
    }
   ],
   "source": [
    "%%writefile test.md\n",
    "Mountains and Hills in the UK\n",
    "===================\n",
    "Engerland is not very mountainous.\n",
    "But has some tall hills, and maybe a\n",
    "mountain or two depending on your definition.\n"
   ]
  },
  {
   "cell_type": "code",
   "execution_count": 5,
   "metadata": {
    "attributes": {
     "classes": [
      " Bash"
     ],
     "id": ""
    }
   },
   "outputs": [
    {
     "name": "stdout",
     "output_type": "stream",
     "text": [
      "Mountains and Hills in the UK\n",
      "===================\n",
      "Engerland is not very mountainous.\n",
      "But has some tall hills, and maybe a\n",
      "mountain or two depending on your definition.\n"
     ]
    }
   ],
   "source": [
    "%%bash\n",
    "cat test.md"
   ]
  },
  {
   "cell_type": "code",
   "execution_count": 6,
   "metadata": {},
   "outputs": [
    {
     "name": "stdout",
     "output_type": "stream",
     "text": [
      "diff --git a/test.md b/test.md\n",
      "index dd5cf9c..4801c98 100644\n",
      "--- a/test.md\n",
      "+++ b/test.md\n",
      "@@ -1,4 +1,5 @@\n",
      " Mountains and Hills in the UK\n",
      " ===================\n",
      "-England is not very mountainous.\n",
      "-But has some tall hills, and maybe a mountain or two depending on your definition.\n",
      "+Engerland is not very mountainous.\n",
      "+But has some tall hills, and maybe a\n",
      "+mountain or two depending on your definition.\n"
     ]
    }
   ],
   "source": [
    "%%bash\n",
    "git diff"
   ]
  },
  {
   "cell_type": "code",
   "execution_count": 7,
   "metadata": {},
   "outputs": [
    {
     "name": "stdout",
     "output_type": "stream",
     "text": [
      "[main 13cfc78] Add a silly spelling\n",
      " 1 file changed, 3 insertions(+), 2 deletions(-)\n"
     ]
    }
   ],
   "source": [
    "%%bash\n",
    "git commit -am \"Add a silly spelling\""
   ]
  },
  {
   "cell_type": "code",
   "execution_count": 8,
   "metadata": {
    "attributes": {
     "classes": [
      " Bash"
     ],
     "id": ""
    }
   },
   "outputs": [
    {
     "name": "stdout",
     "output_type": "stream",
     "text": [
      "commit 13cfc78608055a7e681195e13e47bea96934e648\n",
      "Author: Turing Developer <developer@example.com>\n",
      "Date:   2021-11-08\n",
      "\n",
      "    Add a silly spelling\n",
      "\n",
      "commit c489aababc4488d5556ef340257905ee18873125\n",
      "Author: Turing Developer <developer@example.com>\n",
      "Date:   2021-11-08\n",
      "\n",
      "    Revert \"Add a lie about a mountain\"\n",
      "    \n",
      "    This reverts commit 6e8a302387007780675dbd5cb1823901d1a7b59b.\n",
      "\n",
      "commit f79cacc17500651a228f9b5a1922c3b50ea723c3\n",
      "Author: Turing Developer <developer@example.com>\n",
      "Date:   2021-11-08\n",
      "\n",
      "    Change title\n",
      "\n",
      "commit 6e8a302387007780675dbd5cb1823901d1a7b59b\n",
      "Author: Turing Developer <developer@example.com>\n",
      "Date:   2021-11-08\n",
      "\n",
      "    Add a lie about a mountain\n",
      "\n",
      "commit 238eaff15e2769e0ef1d989f1a2e8be1873fa0ab\n",
      "Author: Turing Developer <developer@example.com>\n",
      "Date:   2021-11-08\n",
      "\n",
      "    First commit of discourse on UK topography\n"
     ]
    }
   ],
   "source": [
    "%%bash\n",
    "git log --date=short"
   ]
  },
  {
   "cell_type": "markdown",
   "metadata": {},
   "source": [
    "## Using reset to rewrite history"
   ]
  },
  {
   "cell_type": "code",
   "execution_count": 9,
   "metadata": {
    "attributes": {
     "classes": [
      " Bash"
     ],
     "id": ""
    }
   },
   "outputs": [
    {
     "name": "stdout",
     "output_type": "stream",
     "text": [
      "Unstaged changes after reset:\n",
      "M\ttest.md\n"
     ]
    }
   ],
   "source": [
    "%%bash\n",
    "git reset HEAD~"
   ]
  },
  {
   "cell_type": "code",
   "execution_count": 10,
   "metadata": {
    "attributes": {
     "classes": [
      " Bash"
     ],
     "id": ""
    }
   },
   "outputs": [
    {
     "name": "stdout",
     "output_type": "stream",
     "text": [
      "commit c489aababc4488d5556ef340257905ee18873125\n",
      "Author: Turing Developer <developer@example.com>\n",
      "Date:   2021-11-08\n",
      "\n",
      "    Revert \"Add a lie about a mountain\"\n",
      "    \n",
      "    This reverts commit 6e8a302387007780675dbd5cb1823901d1a7b59b.\n",
      "\n",
      "commit f79cacc17500651a228f9b5a1922c3b50ea723c3\n",
      "Author: Turing Developer <developer@example.com>\n",
      "Date:   2021-11-08\n",
      "\n",
      "    Change title\n",
      "\n",
      "commit 6e8a302387007780675dbd5cb1823901d1a7b59b\n",
      "Author: Turing Developer <developer@example.com>\n",
      "Date:   2021-11-08\n",
      "\n",
      "    Add a lie about a mountain\n",
      "\n",
      "commit 238eaff15e2769e0ef1d989f1a2e8be1873fa0ab\n",
      "Author: Turing Developer <developer@example.com>\n",
      "Date:   2021-11-08\n",
      "\n",
      "    First commit of discourse on UK topography\n"
     ]
    }
   ],
   "source": [
    "%%bash\n",
    "git log --date=short"
   ]
  },
  {
   "cell_type": "markdown",
   "metadata": {},
   "source": [
    "## Covering your tracks\n",
    "\n",
    "The silly spelling *is no longer in the log*. This approach to fixing mistakes, \"rewriting history\" with `reset`, instead of adding an antipatch with `revert`, is dangerous, and we don't recommend it. But you may want to do it for small silly mistakes, such as to correct a commit message."
   ]
  },
  {
   "cell_type": "markdown",
   "metadata": {},
   "source": [
    "## Resetting the working area\n",
    "\n",
    "When `git reset` removes commits, it leaves your working directory unchanged -- so you can keep the work in the bad change if you want. "
   ]
  },
  {
   "cell_type": "code",
   "execution_count": 11,
   "metadata": {},
   "outputs": [
    {
     "name": "stdout",
     "output_type": "stream",
     "text": [
      "Mountains and Hills in the UK\n",
      "===================\n",
      "Engerland is not very mountainous.\n",
      "But has some tall hills, and maybe a\n",
      "mountain or two depending on your definition.\n"
     ]
    }
   ],
   "source": [
    "%%bash\n",
    "cat test.md"
   ]
  },
  {
   "cell_type": "markdown",
   "metadata": {},
   "source": [
    "If you want to lose the change from the working directory as well, you can do `git reset --hard`.\n",
    "\n",
    "I'm going to get rid of the silly spelling, and I didn't do `--hard`, so I'll reset the file from the working directory to be the same as in the index:"
   ]
  },
  {
   "cell_type": "code",
   "execution_count": 12,
   "metadata": {
    "attributes": {
     "classes": [
      " Bash"
     ],
     "id": ""
    }
   },
   "outputs": [
    {
     "name": "stderr",
     "output_type": "stream",
     "text": [
      "Updated 1 path from the index\n"
     ]
    }
   ],
   "source": [
    "%%bash\n",
    "git checkout test.md"
   ]
  },
  {
   "cell_type": "code",
   "execution_count": 13,
   "metadata": {},
   "outputs": [
    {
     "name": "stdout",
     "output_type": "stream",
     "text": [
      "Mountains and Hills in the UK\n",
      "===================\n",
      "England is not very mountainous.\n",
      "But has some tall hills, and maybe a mountain or two depending on your definition.\n"
     ]
    }
   ],
   "source": [
    "%%bash\n",
    "cat test.md"
   ]
  },
  {
   "cell_type": "markdown",
   "metadata": {},
   "source": [
    "We can add this to our diagram:"
   ]
  },
  {
   "cell_type": "code",
   "execution_count": 14,
   "metadata": {},
   "outputs": [
    {
     "data": {
      "image/png": "[encoded data removed]",
      "text/plain": [
       "<IPython.core.display.Image object>"
      ]
     },
     "execution_count": 14,
     "metadata": {},
     "output_type": "execute_result"
    }
   ],
   "source": [
    "message = \"\"\"\n",
    "Working Directory -> Staging Area : git add\n",
    "Staging Area -> Local Repository : git commit\n",
    "Working Directory -> Local Repository : git commit -a\n",
    "Local Repository -> Working Directory : git checkout\n",
    "Local Repository -> Staging Area : git reset\n",
    "Local Repository -> Working Directory: git reset --hard\n",
    "\"\"\"\n",
    "from wsd import wsd\n",
    "\n",
    "%matplotlib inline\n",
    "wsd(message)"
   ]
  },
  {
   "cell_type": "markdown",
   "metadata": {},
   "source": [
    "We can add it to Jim's story:"
   ]
  },
  {
   "cell_type": "code",
   "execution_count": 15,
   "metadata": {},
   "outputs": [
    {
     "data": {
      "image/png": "[encoded data removed]",
      "text/plain": [
       "<IPython.core.display.Image object>"
      ]
     },
     "execution_count": 15,
     "metadata": {},
     "output_type": "execute_result"
    }
   ],
   "source": [
    "message = \"\"\"\n",
    "participant \"Jim's repo\" as R\n",
    "participant \"Jim's index\" as I\n",
    "participant Jim as J\n",
    "\n",
    "note right of J: git revert HEAD~\n",
    "\n",
    "J->R: Add new commit reversing change\n",
    "R->I: update staging area to reverted version\n",
    "I->J: update file to reverted version\n",
    "\n",
    "\n",
    "\n",
    "note right of J: vim test.md\n",
    "note right of J: git commit -am \"Add another mistake\"\n",
    "J->I: Add mistake\n",
    "I->R: Add mistake\n",
    "\n",
    "note right of J: git reset HEAD~\n",
    "\n",
    "J->R: Delete mistaken commit\n",
    "R->I: Update staging area to reset commit\n",
    "\n",
    "note right of J: git checkout test.md\n",
    "\n",
    "R->J: Update file to reverted version\n",
    "\"\"\"\n",
    "wsd(message)"
   ]
  }
 ],
 "metadata": {
  "jekyll": {
   "display_name": "Fixing Mistakes"
  },
  "kernelspec": {
   "display_name": "Python 3 (ipykernel)",
   "language": "python",
   "name": "python3"
  },
  "language_info": {
   "codemirror_mode": {
    "name": "ipython",
    "version": 3
   },
   "file_extension": ".py",
   "mimetype": "text/x-python",
   "name": "python",
   "nbconvert_exporter": "python",
   "pygments_lexer": "ipython3",
   "version": "3.8.13"
  }
 },
 "nbformat": 4,
 "nbformat_minor": 1
}
