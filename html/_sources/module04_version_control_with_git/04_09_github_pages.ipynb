{
 "cells": [
  {
   "cell_type": "markdown",
   "metadata": {
    "collapsed": true
   },
   "source": [
    "# 4.9 Publishing from GitHub"
   ]
  },
  {
    "cell_type": "markdown",
    "metadata": {},
    "source": [
     "*Estimated time to complete this notebook: 5 minutes*"
    ]
  },
  {
   "cell_type": "markdown",
   "metadata": {},
   "source": [
    "# GitHub pages\n",
    "\n",
    "## Yaml Frontmatter\n",
    "\n",
    "GitHub will publish repositories containing markdown as web pages, automatically.\n",
    "\n",
    "You'll need to add this content:\n",
    "\n",
    "> ```\n",
    ">    ---\n",
    ">    ---\n",
    "> ```\n",
    "\n",
    "A pair of lines with three dashes, to the top of each markdown file. This is how GitHub knows which markdown files to make into web pages.\n",
    "[Here's why](https://jekyllrb.com/docs/front-matter/) for the curious. "
   ]
  },
  {
   "cell_type": "code",
   "execution_count": 15,
   "metadata": {},
   "outputs": [
    {
     "name": "stdout",
     "output_type": "stream",
     "text": [
      "Overwriting test.md\n"
     ]
    }
   ],
   "source": [
    "%%writefile test.md\n",
    "---\n",
    "title: Github Pages Example\n",
    "---\n",
    "Mountains and Lakes in the UK\n",
    "===================\n",
    "\n",
    "Engerland is not very mountainous.\n",
    "But has some tall hills, and maybe a mountain or two depending on your definition."
   ]
  },
  {
   "cell_type": "code",
   "execution_count": 16,
   "metadata": {},
   "outputs": [
    {
     "name": "stdout",
     "output_type": "stream",
     "text": [
      "[main 12ee6ad] Add github pages YAML frontmatter\n",
      " 1 file changed, 7 insertions(+), 4 deletions(-)\n"
     ]
    }
   ],
   "source": [
    "%%bash\n",
    "git commit -am \"Add github pages YAML frontmatter\""
   ]
  },
  {
   "cell_type": "markdown",
   "metadata": {},
   "source": [
    "## The gh-pages branch\n",
    "\n",
    "GitHub creates github pages when you use a special named branch.\n",
    "By default this is `gh-pages` although you can change it to something else if you prefer.\n",
    "This is best used to create documentation for a program you write, but you can use it for anything."
   ]
  },
  {
   "cell_type": "code",
   "execution_count": 17,
   "metadata": {},
   "outputs": [],
   "source": [
    "os.chdir(working_dir)"
   ]
  },
  {
   "cell_type": "code",
   "execution_count": 18,
   "metadata": {
    "attributes": {
     "classes": [
      " Bash"
     ],
     "id": ""
    }
   },
   "outputs": [
    {
     "name": "stdout",
     "output_type": "stream",
     "text": [
      "Branch 'gh-pages' set up to track remote branch 'gh-pages' from 'origin'.\n"
     ]
    },
    {
     "name": "stderr",
     "output_type": "stream",
     "text": [
      "Switched to a new branch 'gh-pages'\n",
      "remote:\n",
      "remote: Create a pull request for 'gh-pages' on GitHub by visiting:\n",
      "remote:      https://github.com/alan-turing-institute/github-example/pull/new/gh-pages\n",
      "remote:\n",
      "To github.com:alan-turing-institute/github-example.git\n",
      " * [new branch]      gh-pages -> gh-pages\n"
     ]
    }
   ],
   "source": [
    "%%bash\n",
    "\n",
    "git checkout -b gh-pages\n",
    "git push -uf origin gh-pages"
   ]
  },
  {
   "cell_type": "markdown",
   "metadata": {},
   "source": [
    "The first time you do this, GitHub takes a few minutes to generate your pages.\n",
    "\n",
    "The website will appear at `http://username.github.io/repositoryname`, for example:\n",
    "\n",
    "http://alan-turing-institute.github.io/github-example/"
   ]
  },
  {
   "cell_type": "markdown",
   "metadata": {},
   "source": [
    "## Layout for GitHub pages\n",
    "\n",
    "You can use GitHub pages to make HTML layouts, here's an [example of how to do it](http://github.com/UCL/ucl-github-pages-example), and [how it looks](http://ucl.github.com/ucl-github-pages-example). We won't go into the detail of this now, but after the class, you might want to try this."
   ]
  },
  {
   "cell_type": "code",
   "execution_count": 19,
   "metadata": {},
   "outputs": [
    {
     "name": "stdout",
     "output_type": "stream",
     "text": [
      "Your branch is ahead of 'origin/main' by 1 commit.\n",
      "  (use \"git push\" to publish your local commits)\n",
      "Deleted branch gh-pages (was 12ee6ad).\n",
      "  origin/main\n"
     ]
    },
    {
     "name": "stderr",
     "output_type": "stream",
     "text": [
      "Switched to branch 'main'\n",
      "To github.com:alan-turing-institute/github-example.git\n",
      "   c8ba483..12ee6ad  main -> main\n",
      "To github.com:alan-turing-institute/github-example.git\n",
      " - [deleted]         gh-pages\n"
     ]
    }
   ],
   "source": [
    "%%bash\n",
    "# Cleanup by removing the gh-pages branch\n",
    "git checkout main\n",
    "git push\n",
    "git branch -d gh-pages\n",
    "git push --delete origin gh-pages\n",
    "git branch --remote"
   ]
  }
 ],
 "metadata": {
  "jekyll": {
   "display_name": "Git miscellany"
  },
  "kernelspec": {
   "display_name": "Python 3 (ipykernel)",
   "language": "python",
   "name": "python3"
  },
  "language_info": {
   "codemirror_mode": {
    "name": "ipython",
    "version": 3
   },
   "file_extension": ".py",
   "mimetype": "text/x-python",
   "name": "python",
   "nbconvert_exporter": "python",
   "pygments_lexer": "ipython3",
   "version": "3.8.13"
  }
 },
 "nbformat": 4,
 "nbformat_minor": 1
}
