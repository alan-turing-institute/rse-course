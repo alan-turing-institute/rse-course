{
 "cells": [
  {
   "cell_type": "markdown",
   "metadata": {},
   "source": [
    "# 4.10 Rebasing"
   ]
  },
  {
   "cell_type": "markdown",
   "metadata": {},
   "source": [
    "*Estimated time to complete this notebook: 10 minutes*"
   ]
  },
  {
   "cell_type": "markdown",
   "metadata": {},
   "source": [
    "## Rebase vs merge\n",
    "\n",
    "A git *merge* is only one of two ways to get someone else's work into yours.\n",
    "The other is called a rebase.\n",
    "\n",
    "In a merge, a revision is added, which brings the branches together.\n",
    "Both histories are retained.\n",
    "In a rebase, git tries to work out\n",
    "\n",
    "> What would you need to have done, to make your changes, if your colleague had already made theirs?\n",
    "\n",
    "Git will invent some new revisions, and the result will be a repository with an apparently linear history.\n",
    "This can be useful if you want a cleaner, non-branching history, but it has the risk of creating inconsistencies, since you are, in a way, \"rewriting\" history."
   ]
  },
  {
   "cell_type": "markdown",
   "metadata": {},
   "source": [
    "## An example rebase\n",
    "\n",
    "We've built a repository to help visualise the difference between a merge and a rebase, at https://github.com/UCL-RITS/wocky_rebase/blob/master/wocky.md.\n",
    "\n",
    "The initial state of both collaborators is a text file, wocky.md:\n",
    "\n",
    "```\n",
    "It was clear and cold,\n",
    "and the slimy monsters\n",
    "```"
   ]
  },
  {
   "cell_type": "markdown",
   "metadata": {
    "collapsed": true
   },
   "source": [
    "On the master branch, a second commit ('Dancing') has been added:"
   ]
  },
  {
   "cell_type": "markdown",
   "metadata": {},
   "source": [
    "```\n",
    "It was clear and cold,\n",
    "and the slimy monsters\n",
    "danced and spun in the waves\n",
    "```"
   ]
  },
  {
   "cell_type": "markdown",
   "metadata": {},
   "source": [
    "On the \"Carollian\" branch, a commit has been added translating the initial state into Lewis Caroll's language:\n",
    "\n",
    "```\n",
    "'Twas brillig,\n",
    "and the slithy toves\n",
    "```"
   ]
  },
  {
   "cell_type": "markdown",
   "metadata": {
    "collapsed": true
   },
   "source": [
    "So the logs look like this:"
   ]
  },
  {
   "cell_type": "markdown",
   "metadata": {},
   "source": [
    "```bash\n",
    "git log --oneline --graph master\n",
    "```\n",
    "\n",
    "```\n",
    "* 2a74d89 Dancing\n",
    "* 6a4834d Initial state\n",
    "```\n",
    "\n",
    "```bash\n",
    "git log --oneline --graph carollian\n",
    "```\n",
    "\n",
    "```\n",
    "* 2232bf3 Translate into Caroll's language\n",
    "* 6a4834d Initial state\n",
    "```"
   ]
  },
  {
   "cell_type": "markdown",
   "metadata": {},
   "source": [
    "If we now **merge** carollian into master, the final state will include both changes:"
   ]
  },
  {
   "cell_type": "markdown",
   "metadata": {
    "collapsed": true
   },
   "source": [
    "```\n",
    "'Twas brillig,\n",
    "and the slithy toves\n",
    "danced and spun in the waves\n",
    "```\n"
   ]
  },
  {
   "cell_type": "markdown",
   "metadata": {},
   "source": [
    "But the graph shows a divergence and then a convergence:"
   ]
  },
  {
   "cell_type": "markdown",
   "metadata": {
    "collapsed": true
   },
   "source": [
    "```\n",
    "git log --oneline --graph\n",
    "```\n",
    "\n",
    "```\n",
    "*   b41f869 Merge branch 'carollian' into master_merge_carollian\n",
    "|\\\n",
    "| * 2232bf3 Translate into Caroll's language\n",
    "* | 2a74d89 Dancing\n",
    "|/\n",
    "* 6a4834d Initial state\n",
    "```"
   ]
  },
  {
   "cell_type": "markdown",
   "metadata": {},
   "source": [
    "But if we **rebase**, the final content of the file is still the same, but the graph is different:"
   ]
  },
  {
   "cell_type": "markdown",
   "metadata": {},
   "source": [
    "``` bash\n",
    "git log --oneline --graph master_rebase_carollian\n",
    "```\n",
    "\n",
    "```\n",
    "* df618e0 Dancing\n",
    "* 2232bf3 Translate into Caroll's language\n",
    "* 6a4834d Initial state\n",
    "```"
   ]
  },
  {
   "cell_type": "markdown",
   "metadata": {},
   "source": [
    "We have essentially created a new history, in which our changes come after the ones in the carollian branch.\n",
    "Note that, in this case, the hash for our \"Dancing\" commit has changed (from `2a74d89` to `df618e0`)!\n",
    "\n",
    "To trigger the rebase, we did:\n",
    "\n",
    "``` bash\n",
    "git checkout master\n",
    "git rebase carollian\n",
    "```\n",
    "\n",
    "If this had been a remote, we would merge it with:\n",
    "\n",
    "``` bash\n",
    "git pull --rebase\n",
    "```"
   ]
  },
  {
   "cell_type": "markdown",
   "metadata": {},
   "source": [
    "## Fast Forwards\n",
    "\n",
    "If we want to continue with the translation, and now want to merge the rebased branch into the carollian branch,\n",
    "we get:\n",
    "\n",
    "```bash\n",
    "git checkout carollian\n",
    "git merge master\n",
    "```\n",
    "\n",
    "\n",
    "``` bash\n",
    "Updating 2232bf3..df618e0\n",
    "Fast-forward\n",
    " wocky.md | 1 +\n",
    " 1 file changed, 1 insertion(+)\n",
    "```\n",
    "\n",
    "The master branch was already **rebased on** the carollian branch, so this merge was just a question of updating *metadata* (moving the label for the carollian branch so that it points to the same commit master does): a \"fast forward\"."
   ]
  },
  {
   "cell_type": "markdown",
   "metadata": {},
   "source": [
    "## Rebasing pros and cons\n",
    "\n",
    "Some people like the clean, apparently linear history that rebase provides.\n",
    "\n",
    "But *rebase rewrites history*.\n",
    "\n",
    "If you've already pushed, or anyone else has got your changes, things will get screwed up.\n",
    "\n",
    "If you know your changes are still secret, it might be better to rebase to keep the history clean.\n",
    "If in doubt, just merge."
   ]
  },
  {
   "cell_type": "markdown",
   "metadata": {},
   "source": [
    "# Squashing\n",
    "\n",
    "A second way to use the `git rebase` command is to rebase your work on top of one of *your own* earlier commits,\n",
    "in interactive mode (`-i`). A common use of this is to \"squash\" several commits that should really be one, i.e. combine them into a single commit that contains all their changes:"
   ]
  },
  {
   "cell_type": "markdown",
   "metadata": {
    "attributes": {
     "classes": [
      " bash"
     ],
     "id": ""
    },
    "collapsed": true
   },
   "source": [
    "``` bash\n",
    "git log\n",
    "```\n",
    "\n",
    "```\n",
    "ea15 Some good work\n",
    "ll54 Fix another typo\n",
    "de73 Fix a typo\n",
    "ab11 A great piece of work\n",
    "cd27 Initial commit\n",
    "```"
   ]
  },
  {
   "cell_type": "markdown",
   "metadata": {},
   "source": [
    "## Using rebase to squash\n",
    "\n",
    "If we type\n",
    "\n",
    "``` bash\n",
    "git rebase -i ab11 # OR HEAD~~\n",
    "```\n",
    "\n",
    "an edit window pops up with:"
   ]
  },
  {
   "cell_type": "markdown",
   "metadata": {
    "collapsed": true
   },
   "source": [
    "```\n",
    "pick cd27 Initial commit\n",
    "pick ab11 A great piece of work\n",
    "pick de73 Fix a typo\n",
    "pick ll54 Fix another typo\n",
    "pick ea15 Some good work\n",
    "\n",
    "# Rebase 60709da..30e0ccb onto 60709da\n",
    "#\n",
    "# Commands:\n",
    "#  p, pick = use commit\n",
    "#  e, edit = use commit, but stop for amending\n",
    "#  s, squash = use commit, but meld into previous commit\n",
    "```"
   ]
  },
  {
   "cell_type": "markdown",
   "metadata": {},
   "source": [
    "We can rewrite select commits to be merged, so that the history is neater before we push.\n",
    "This is a great idea if you have lots of trivial typo commits."
   ]
  },
  {
   "cell_type": "markdown",
   "metadata": {},
   "source": [
    "```\n",
    "pick cd27 Initial commit\n",
    "pick ab11 A great piece of work\n",
    "squash de73 Fix a typo\n",
    "squash ll54 Fix another typo\n",
    "pick ea15 Some good work\n",
    "```\n",
    "\n",
    "save the interactive rebase config file, and rebase will build a new history:\n",
    "\n",
    "``` bash\n",
    "git log\n",
    "```\n",
    "\n",
    "```\n",
    "de82 Some good work\n",
    "fc52 A great piece of work\n",
    "cd27 Initial commit\n",
    "```"
   ]
  },
  {
   "cell_type": "markdown",
   "metadata": {},
   "source": [
    "Note the commit hash codes for 'Some good work' and 'A great piece of work' have changed,\n",
    "as the change they represent has changed."
   ]
  }
 ],
 "metadata": {
  "jekyll": {
   "display_name": "Rebase"
  },
  "kernelspec": {
   "display_name": "Python 3 (ipykernel)",
   "language": "python",
   "name": "python3"
  },
  "language_info": {
   "codemirror_mode": {
    "name": "ipython",
    "version": 3
   },
   "file_extension": ".py",
   "mimetype": "text/x-python",
   "name": "python",
   "nbconvert_exporter": "python",
   "pygments_lexer": "ipython3",
   "version": "3.8.13"
  }
 },
 "nbformat": 4,
 "nbformat_minor": 1
}
