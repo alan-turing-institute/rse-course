{
 "cells": [
  {
   "cell_type": "markdown",
   "metadata": {},
   "source": [
    "# 9.0 Performance Programming"
   ]
  },
  {
   "cell_type": "markdown",
   "metadata": {},
   "source": [
    "*Estimated time for this notebook: 10 minutes*"
   ]
  },
  {
   "cell_type": "markdown",
   "metadata": {},
   "source": [
    "We've spent most of this course looking at how to make code readable and reliable. For research work, it is often also important that code is efficient: that it does what it needs to do *quickly*."
   ]
  },
  {
   "cell_type": "markdown",
   "metadata": {},
   "source": [
    "It is very hard to work out beforehand whether code will be efficient or not: it is essential to *profile* code, to measure its performance, to determine what aspects of it are slow."
   ]
  },
  {
   "cell_type": "markdown",
   "metadata": {},
   "source": [
    "## 9.0.1 Motivation\n",
    "\n",
    "First, we'll need some code to profile. Let's consider the series\n",
    "\n",
    "$z_{i+1}=z_{i}^2$, starting from $z_0=c$, where $c$ is a real number and $i = 1, 2, 3, \\dots$."
   ]
  },
  {
   "cell_type": "code",
   "execution_count": 1,
   "metadata": {},
   "outputs": [],
   "source": [
    "def series1(start, iterations=4):\n",
    "    \"\"\"Returns the value of the series after the provided number of iterations.\"\"\"\n",
    "    value = start\n",
    "    for _ in range(iterations):\n",
    "        value = value**2\n",
    "\n",
    "    return value\n",
    "\n",
    "\n",
    "assert series1(0) == 0\n",
    "assert series1(1) == 1\n",
    "assert series1(-2) == 65536"
   ]
  },
  {
   "cell_type": "markdown",
   "metadata": {},
   "source": [
    "Let's look at the values of series after 4 iterations for different starting points."
   ]
  },
  {
   "cell_type": "code",
   "execution_count": 2,
   "metadata": {},
   "outputs": [],
   "source": [
    "xmin = -2\n",
    "xmax = 2\n",
    "resolution = 300\n",
    "xstep = (xmax - xmin) / resolution\n",
    "xs = [(xmin + (xstep * i)) for i in range(resolution)]  # list of starting points"
   ]
  },
  {
   "cell_type": "code",
   "execution_count": 3,
   "metadata": {},
   "outputs": [],
   "source": [
    "zs = [series1(x) for x in xs]"
   ]
  },
  {
   "cell_type": "code",
   "execution_count": 4,
   "metadata": {},
   "outputs": [
    {
     "data": {
      "text/plain": [
       "[<matplotlib.lines.Line2D at 0x1124eab50>]"
      ]
     },
     "execution_count": 4,
     "metadata": {},
     "output_type": "execute_result"
    },
    {
     "data": {
      "image/png": "[encoded data removed]",
      "text/plain": [
       "<Figure size 432x288 with 1 Axes>"
      ]
     },
     "metadata": {
      "needs_background": "light"
     },
     "output_type": "display_data"
    }
   ],
   "source": [
    "import matplotlib.pyplot as plt\n",
    "\n",
    "plt.plot(xs, zs)"
   ]
  },
  {
   "cell_type": "markdown",
   "metadata": {},
   "source": [
    "Note how quickly the series grows outside of +/- 1.\n",
    "\n",
    "In practice, it is probably a good idea to have a way of stopping the function early (i.e., before we reach the maximum number of iterations) when we notice that the values are exploding. So we need to pick a threshold and tell our function to stop once the value of the series surpasses this threshold. For now (and without obvious reason) we pick 2 as our threshold. It would be interesting to know if the function computed all iterations or stopped early (and if so, how early). We can easily get this information by modifying the return value of our function."
   ]
  },
  {
   "cell_type": "code",
   "execution_count": 5,
   "metadata": {},
   "outputs": [],
   "source": [
    "def series2(start, max_iterations=50):\n",
    "    \"\"\"Computes the values of the series for up to a maximum number of iterations.\n",
    "\n",
    "    The function stops when the value of the series surpasses a threshold or when it reaches the maximum\n",
    "    number of iterations.\n",
    "\n",
    "    Returns the number of iterations.\n",
    "    \"\"\"\n",
    "    value = start\n",
    "\n",
    "    counter = 0\n",
    "\n",
    "    while counter < max_iterations:\n",
    "        # Arbitrary threshold, for now\n",
    "        if abs(value) > 2:\n",
    "            break\n",
    "\n",
    "        value = value**2\n",
    "\n",
    "        counter = counter + 1\n",
    "\n",
    "    return counter\n",
    "\n",
    "\n",
    "assert series2(0) == 50\n",
    "assert series2(1) == 50\n",
    "assert series2(2) == 1\n",
    "assert series2(1.5) == 1"
   ]
  },
  {
   "cell_type": "code",
   "execution_count": 6,
   "metadata": {},
   "outputs": [
    {
     "data": {
      "text/plain": [
       "[<matplotlib.lines.Line2D at 0x112601d30>]"
      ]
     },
     "execution_count": 6,
     "metadata": {},
     "output_type": "execute_result"
    },
    {
     "data": {
      "image/png": "[encoded data removed]",
      "text/plain": [
       "<Figure size 432x288 with 1 Axes>"
      ]
     },
     "metadata": {
      "needs_background": "light"
     },
     "output_type": "display_data"
    }
   ],
   "source": [
    "zs = [series2(x) for x in xs]\n",
    "plt.plot(xs, zs)"
   ]
  },
  {
   "cell_type": "markdown",
   "metadata": {},
   "source": [
    "We can generalise this to complex numbers.\n",
    "A complex number $c$, for example $c = 5 + 6 \\cdot j$, has a real part $Re(c) = 5$ and an imaginary part $Im(c) = 6$. \n",
    "The definition of the imaginary unit $j$ is given by $j = \\sqrt{-1}$.\n",
    "Note that we use the $j$ (instead of $i$) as it is common for engineers and this is the convention that Python follows."
   ]
  },
  {
   "cell_type": "markdown",
   "metadata": {},
   "source": [
    "There's more than one way to make a complex number in Python."
   ]
  },
  {
   "cell_type": "code",
   "execution_count": 7,
   "metadata": {},
   "outputs": [],
   "source": [
    "# Option 1\n",
    "c = complex(5, 6)"
   ]
  },
  {
   "cell_type": "code",
   "execution_count": 8,
   "metadata": {},
   "outputs": [],
   "source": [
    "# Option 2\n",
    "d = 5 + 1j * 6"
   ]
  },
  {
   "cell_type": "markdown",
   "metadata": {},
   "source": [
    "We can visualise complex numbers by plotting them in a 2D coordinate system, where the x-axis denotes the real part and the y-axis the imaginary part. Let's do that for our example $c = 5 + 6 \\cdot j$. The distance from the origin is the _absolute value_ of the complex number which we compute as $\\sqrt{Re(c)^2 + Im(c)^2}$."
   ]
  },
  {
   "cell_type": "code",
   "execution_count": 9,
   "metadata": {},
   "outputs": [
    {
     "data": {
      "image/png": "[encoded data removed]",
      "text/plain": [
       "<Figure size 432x288 with 1 Axes>"
      ]
     },
     "metadata": {
      "needs_background": "light"
     },
     "output_type": "display_data"
    }
   ],
   "source": [
    "plt.plot(c.real, c.imag, marker=\"o\", markersize=10)\n",
    "plt.xlim(-7, 7)\n",
    "plt.ylim(-7, 7)\n",
    "plt.xlabel(\"Re(c)\")\n",
    "plt.ylabel(\"Im(c)\")\n",
    "plt.plot([0, c.real], [0, c.imag], \"--\")\n",
    "plt.plot([-7, 7], [0, 0], color=\"black\")\n",
    "plt.plot([0, 0], [-7, 7], color=\"black\")\n",
    "plt.grid()"
   ]
  },
  {
   "cell_type": "code",
   "execution_count": 10,
   "metadata": {},
   "outputs": [
    {
     "data": {
      "text/plain": [
       "7.810249675906654"
      ]
     },
     "execution_count": 10,
     "metadata": {},
     "output_type": "execute_result"
    }
   ],
   "source": [
    "# absolute value (distance from origin)\n",
    "abs(c)"
   ]
  },
  {
   "cell_type": "markdown",
   "metadata": {},
   "source": [
    "Back to our series. We want to apply our function on different complex starting points and visualise the result. \n",
    "This means we need to change our line plot to a 2D heatmap."
   ]
  },
  {
   "cell_type": "code",
   "execution_count": 11,
   "metadata": {},
   "outputs": [],
   "source": [
    "# we need some complex starting points\n",
    "xmin = -3\n",
    "ymin = -3\n",
    "xmax = 3\n",
    "ymax = 3\n",
    "resolution = 300\n",
    "xstep = (xmax - xmin) / resolution\n",
    "ystep = (ymax - ymin) / resolution\n",
    "xs = [(xmin + xstep * i) for i in range(resolution)]\n",
    "ys = [(ymin + ystep * i) for i in range(resolution)]\n",
    "zs = [[series2(x + y * 1j) for x in xs] for y in ys]"
   ]
  },
  {
   "cell_type": "markdown",
   "metadata": {},
   "source": [
    "Questions for you: \n",
    "- How would you describe the data structure of `zs`?\n",
    "- How many complex numbers are in the list `zs`?"
   ]
  },
  {
   "cell_type": "code",
   "execution_count": 12,
   "metadata": {},
   "outputs": [
    {
     "data": {
      "text/plain": [
       "<matplotlib.colorbar.Colorbar at 0x112723a60>"
      ]
     },
     "execution_count": 12,
     "metadata": {},
     "output_type": "execute_result"
    },
    {
     "data": {
      "image/png": "[encoded data removed]",
      "text/plain": [
       "<Figure size 432x288 with 2 Axes>"
      ]
     },
     "metadata": {
      "needs_background": "light"
     },
     "output_type": "display_data"
    }
   ],
   "source": [
    "plt.set_cmap(\"cividis\")  # use a color vision deficiency-friendly palette\n",
    "plt.xlabel(\"Real\")\n",
    "plt.ylabel(\"Imaginary\")\n",
    "plt.imshow(zs, interpolation=\"none\", extent=[xmin, xmax, ymin, ymax], origin=\"lower\")\n",
    "plt.colorbar()"
   ]
  },
  {
   "cell_type": "markdown",
   "metadata": {},
   "source": [
    "We see that there is a circle of radius 1 so we know that series will diverge whenever the start point is further than 1 from the origin."
   ]
  },
  {
   "cell_type": "markdown",
   "metadata": {},
   "source": [
    "## 9.0.2 Mandelbrot Set\n",
    "\n",
    "\n",
    "Things get much more interesting when we change the series from\n",
    "\n",
    "$z_{i+1}=z_{i}^2$ (with $z_0=c$)\n",
    "\n",
    "to \n",
    "\n",
    "$z_{i+1}=z_{i}^2 + c$, starting from $z_0 = 0$, where $c$ is a complex constant and $i = 1, 2, 3, \\dots$."
   ]
  },
  {
   "cell_type": "code",
   "execution_count": 13,
   "metadata": {},
   "outputs": [],
   "source": [
    "def mandel(constant, max_iterations=50):\n",
    "    \"\"\"Computes the values of the series for up to a maximum number of iterations.\n",
    "\n",
    "    The function stops when the absolute value of the series surpasses 2 or when it reaches the maximum\n",
    "    number of iterations.\n",
    "\n",
    "    Returns the number of iterations.\n",
    "    \"\"\"\n",
    "\n",
    "    value = 0\n",
    "\n",
    "    counter = 0\n",
    "    while counter < max_iterations:\n",
    "        if abs(value) > 2:\n",
    "            break\n",
    "\n",
    "        value = (value**2) + constant\n",
    "\n",
    "        counter = counter + 1\n",
    "\n",
    "    return counter\n",
    "\n",
    "\n",
    "assert mandel(0) == 50\n",
    "assert mandel(3) == 1\n",
    "assert mandel(0.5) == 5"
   ]
  },
  {
   "cell_type": "markdown",
   "metadata": {},
   "source": [
    "Let's plot the heatmap for the new series."
   ]
  },
  {
   "cell_type": "code",
   "execution_count": 14,
   "metadata": {},
   "outputs": [
    {
     "data": {
      "text/plain": [
       "<matplotlib.colorbar.Colorbar at 0x112658a00>"
      ]
     },
     "execution_count": 14,
     "metadata": {},
     "output_type": "execute_result"
    },
    {
     "data": {
      "image/png": "[encoded data removed]",
      "text/plain": [
       "<Figure size 432x288 with 2 Axes>"
      ]
     },
     "metadata": {
      "needs_background": "light"
     },
     "output_type": "display_data"
    }
   ],
   "source": [
    "plt.xlabel(\"Real\")\n",
    "plt.ylabel(\"Imaginary\")\n",
    "plt.imshow(\n",
    "    [[mandel(x + y * 1j) for x in xs] for y in ys],\n",
    "    interpolation=\"none\",\n",
    "    extent=[xmin, xmax, ymin, ymax],\n",
    "    origin=\"lower\",\n",
    ")\n",
    "plt.colorbar()"
   ]
  },
  {
   "cell_type": "markdown",
   "metadata": {},
   "source": [
    "<div class=\"alert alert-block alert-info\">  The Mandelbrot set consists of all values of complex numbers $c$ for which the series $z_{i+1} = z_i^2 + c$ does not diverge to infinity when iterated from the seed $z_0 = 0$. \n",
    "    \n",
    "It can be proven that if there is an $i$ for which $|z_i| > 2$, then the sequence tends to infinity. </div>"
   ]
  },
  {
   "cell_type": "markdown",
   "metadata": {},
   "source": [
    "## 9.0.3 Fractals\n",
    "\n",
    "The yellow area are those complex values for which the series hasn't exploded. The values within the yellow area form the Mandelbrot set. \n",
    "\n",
    "It was first defined and drawn by Robert W. Brooks and Peter Matelski in 1978 but is named after Benoit Mandelbrot, who obtained high quality visualizations of it, in 1980, while working at IBM's Thomas J. Watson Research Center.\n",
    "\n",
    "The boundary of the Mandelbrot set is a fractal. **Fractals** are geometrical patterns that are **self-similar** at different scales, which means that every part of a fractal, no matter how much we zoom in, looks similar to the whole. \n",
    "It's easier to understand what that means by looking at some examples:"
   ]
  },
  {
   "cell_type": "code",
   "execution_count": 15,
   "metadata": {},
   "outputs": [],
   "source": [
    "xmin = -1\n",
    "ymin = -1\n",
    "xmax = 0\n",
    "ymax = 0\n",
    "resolution = 300\n",
    "xstep = (xmax - xmin) / resolution\n",
    "ystep = (ymax - ymin) / resolution\n",
    "xs = [(xmin + xstep * i) for i in range(resolution)]\n",
    "ys = [(ymin + ystep * i) for i in range(resolution)]\n",
    "zs = [[mandel(x + y * 1j) for x in xs] for y in ys]"
   ]
  },
  {
   "cell_type": "code",
   "execution_count": 16,
   "metadata": {},
   "outputs": [
    {
     "data": {
      "text/plain": [
       "<matplotlib.colorbar.Colorbar at 0x11281c6a0>"
      ]
     },
     "execution_count": 16,
     "metadata": {},
     "output_type": "execute_result"
    },
    {
     "data": {
      "image/png": "[encoded data removed]",
      "text/plain": [
       "<Figure size 432x288 with 2 Axes>"
      ]
     },
     "metadata": {
      "needs_background": "light"
     },
     "output_type": "display_data"
    }
   ],
   "source": [
    "plt.xlabel(\"Real\")\n",
    "plt.ylabel(\"Imaginary\")\n",
    "plt.imshow(zs, interpolation=\"none\", extent=[xmin, xmax, ymin, ymax], origin=\"lower\")\n",
    "plt.colorbar()"
   ]
  },
  {
   "cell_type": "markdown",
   "metadata": {},
   "source": [
    "Here's a nice visualisation for this on [Wikipedia](https://commons.wikimedia.org/wiki/File:Mandelbrot_sequence_new.gif#/media/File:Mandelbrot_sequence_new.gif)."
   ]
  },
  {
   "cell_type": "markdown",
   "metadata": {},
   "source": [
    "## 9.0.4 Timing\n",
    "\n",
    "For the rest of this module, we will focus on the  `mandel()` function and try to speed up our initial implementation. If we want to get an idea for how fast or slow our code is, we need a way to time how long it takes to run.\n",
    "We can use the `%%timeit` magic in a notebook to time a cell."
   ]
  },
  {
   "cell_type": "code",
   "execution_count": 17,
   "metadata": {},
   "outputs": [],
   "source": [
    "%%timeit?"
   ]
  },
  {
   "cell_type": "code",
   "execution_count": 18,
   "metadata": {},
   "outputs": [
    {
     "name": "stdout",
     "output_type": "stream",
     "text": [
      "405 ns ± 138 ns per loop (mean ± std. dev. of 7 runs, 3 loops each)\n"
     ]
    }
   ],
   "source": [
    "%%timeit -n 3 -r 7 value=10\n",
    "# timeit results are only useful as comparisons\n",
    "# the absolute values are not meaningful\n",
    "# variables created in timeit cells aren't available outside\n",
    "value**value"
   ]
  },
  {
   "cell_type": "code",
   "execution_count": 19,
   "metadata": {},
   "outputs": [
    {
     "name": "stdout",
     "output_type": "stream",
     "text": [
      "699 ms ± 19.3 ms per loop (mean ± std. dev. of 7 runs, 1 loop each)\n"
     ]
    }
   ],
   "source": [
    "%%timeit\n",
    "[[mandel(x + y * 1j) for x in xs] for y in ys]"
   ]
  },
  {
   "cell_type": "markdown",
   "metadata": {},
   "source": [
    "Our Mandelbrot function will loop up to 50 times for each number in our grid, which is resolution * resolution in size. You cannot calculate the set in it's entirety as there are infinitely many complex numbers. You need to recalculate the set/fractal for your region of interest.\n",
    "\n",
    "The performance of our function is limited by how quickly we can do calculations on the CPU. This isn't always the case and other functions could be limited by reading/writing data to a network or storage. Depending on the bottleneck, the techniques we cover in this module might not always work to speed up code."
   ]
  }
 ],
 "metadata": {
  "jekyll": {
   "display_name": "Two Mandelbrots"
  },
  "kernelspec": {
   "display_name": "Python 3 (ipykernel)",
   "language": "python",
   "name": "python3"
  },
  "language_info": {
   "codemirror_mode": {
    "name": "ipython",
    "version": 3
   },
   "file_extension": ".py",
   "mimetype": "text/x-python",
   "name": "python",
   "nbconvert_exporter": "python",
   "pygments_lexer": "ipython3",
   "version": "3.7.13"
  }
 },
 "nbformat": 4,
 "nbformat_minor": 4
}
