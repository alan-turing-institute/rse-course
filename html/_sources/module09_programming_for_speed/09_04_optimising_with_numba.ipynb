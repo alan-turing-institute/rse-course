{
 "cells": [
  {
   "cell_type": "markdown",
   "id": "89416ea9",
   "metadata": {},
   "source": [
    "# 9.4 Optimising with Numba"
   ]
  },
  {
   "cell_type": "markdown",
   "id": "e550c95f",
   "metadata": {},
   "source": [
    "*Estimated time for this notebook: 15 minutes*"
   ]
  },
  {
   "cell_type": "markdown",
   "id": "bab73204",
   "metadata": {},
   "source": [
    "We saw that we can use Cython to get an approximate 40x speed up when compared to pure Python.\n",
    "However, this comes with the cost of having to substantially rewrite the Python code.\n",
    "An alternative is to use [numba](https://numba.pydata.org/), an open source just-in-time compiler that translates a subset of Python and NumPy code into fast machine code."
   ]
  },
  {
   "cell_type": "markdown",
   "id": "8384e1a7",
   "metadata": {},
   "source": [
    "## 9.4.0 Define a Pure Python Function\n",
    "\n",
    "Let's start by reproducing the pure-Python implementation from earlier."
   ]
  },
  {
   "cell_type": "code",
   "execution_count": 1,
   "id": "87bc710e",
   "metadata": {},
   "outputs": [],
   "source": [
    "xmin = -1.5\n",
    "ymin = -1.0\n",
    "xmax = 0.5\n",
    "ymax = 1.0\n",
    "resolution = 300\n",
    "xstep = (xmax - xmin) / resolution\n",
    "ystep = (ymax - ymin) / resolution\n",
    "xs = [(xmin + xstep * i) for i in range(resolution)]\n",
    "ys = [(ymin + ystep * i) for i in range(resolution)]"
   ]
  },
  {
   "cell_type": "code",
   "execution_count": 2,
   "id": "74d4db87",
   "metadata": {},
   "outputs": [],
   "source": [
    "def mandel(constant, max_iterations=50):\n",
    "    \"\"\"Computes the values of the series for up to a maximum number of iterations.\n",
    "\n",
    "    The function stops when the absolute value of the series surpasses 2 or when it reaches the maximum\n",
    "    number of iterations.\n",
    "\n",
    "    Returns the number of iterations.\n",
    "    \"\"\"\n",
    "\n",
    "    value = 0\n",
    "\n",
    "    counter = 0\n",
    "    while counter < max_iterations:\n",
    "        if abs(value) > 2:\n",
    "            break\n",
    "\n",
    "        value = (value * value) + constant\n",
    "\n",
    "        counter = counter + 1\n",
    "\n",
    "    return counter\n",
    "\n",
    "\n",
    "assert mandel(0) == 50\n",
    "assert mandel(3) == 1\n",
    "assert mandel(0.5) == 5"
   ]
  },
  {
   "cell_type": "code",
   "execution_count": 3,
   "id": "19dd5ca0",
   "metadata": {
    "scrolled": true
   },
   "outputs": [
    {
     "name": "stdout",
     "output_type": "stream",
     "text": [
      "412 ms ± 15.4 ms per loop (mean ± std. dev. of 7 runs, 1 loop each)\n"
     ]
    }
   ],
   "source": [
    "%%timeit\n",
    "\n",
    "[[mandel(x + 1j * y) for x in xs] for y in ys]"
   ]
  },
  {
   "cell_type": "markdown",
   "id": "e12d0f24",
   "metadata": {},
   "source": [
    "## 9.4.1 The @njit Decorator\n",
    "\n",
    "Now let's look at a numba implementation for a single value.\n",
    "We add a Numba decorator to the pure-Python implementation.\n",
    "Note that ```@njit``` is equivalent to ```@jit(nopython=True)```."
   ]
  },
  {
   "cell_type": "code",
   "execution_count": 4,
   "id": "eebc1d34",
   "metadata": {},
   "outputs": [],
   "source": [
    "import numpy as np\n",
    "from matplotlib import pyplot as plt\n",
    "from numba import njit"
   ]
  },
  {
   "cell_type": "code",
   "execution_count": 5,
   "id": "b2f16187",
   "metadata": {},
   "outputs": [],
   "source": [
    "@njit\n",
    "def mandel_numba(constant, max_iterations=50):\n",
    "    \"\"\"Computes the values of the series for up to a maximum number of iterations.\n",
    "\n",
    "    The function stops when the absolute value of the series surpasses 2 or when it reaches the maximum\n",
    "    number of iterations.\n",
    "\n",
    "    Returns the number of iterations.\n",
    "    \"\"\"\n",
    "\n",
    "    value = 0\n",
    "\n",
    "    counter = 0\n",
    "    while counter < max_iterations:\n",
    "        if abs(value) > 2:\n",
    "            break\n",
    "\n",
    "        value = (value * value) + constant\n",
    "\n",
    "        counter = counter + 1\n",
    "\n",
    "    return counter"
   ]
  },
  {
   "cell_type": "markdown",
   "id": "28039711",
   "metadata": {},
   "source": [
    "Note that `numba` will compile the function the first time we invoke it, so the first call will be notably slower than the rest."
   ]
  },
  {
   "cell_type": "code",
   "execution_count": 6,
   "id": "52500ee8",
   "metadata": {},
   "outputs": [
    {
     "name": "stdout",
     "output_type": "stream",
     "text": [
      "259 ms ± 0 ns per loop (mean ± std. dev. of 1 run, 1 loop each)\n"
     ]
    }
   ],
   "source": [
    "%%timeit -r 1 -n 1\n",
    "\n",
    "mandel_numba(complex(0, 0))"
   ]
  },
  {
   "cell_type": "code",
   "execution_count": 7,
   "id": "08331a66-3f57-4b10-a649-8d8a9bd59770",
   "metadata": {},
   "outputs": [],
   "source": [
    "# Run after our first, timed, invocation\n",
    "assert mandel_numba(0) == 50\n",
    "assert mandel_numba(3) == 1\n",
    "assert mandel_numba(0.5) == 5"
   ]
  },
  {
   "cell_type": "code",
   "execution_count": 8,
   "id": "d108772f",
   "metadata": {},
   "outputs": [
    {
     "name": "stdout",
     "output_type": "stream",
     "text": [
      "39.6 ms ± 721 µs per loop (mean ± std. dev. of 7 runs, 10 loops each)\n"
     ]
    }
   ],
   "source": [
    "%%timeit\n",
    "\n",
    "[[mandel_numba(x + 1j * y) for x in xs] for y in ys]"
   ]
  },
  {
   "cell_type": "markdown",
   "id": "c8ab454b",
   "metadata": {},
   "source": [
    "This provides an approximately 10x increase in performance compared to the pure-Python implementation."
   ]
  },
  {
   "cell_type": "code",
   "execution_count": 9,
   "id": "82a2f9e1",
   "metadata": {},
   "outputs": [],
   "source": [
    "data_numba = [[mandel_numba(complex(x, y)) for x in xs] for y in ys]"
   ]
  },
  {
   "cell_type": "code",
   "execution_count": 10,
   "id": "e84a2b4d",
   "metadata": {},
   "outputs": [
    {
     "data": {
      "text/plain": [
       "<matplotlib.colorbar.Colorbar at 0x124a8f0a0>"
      ]
     },
     "execution_count": 10,
     "metadata": {},
     "output_type": "execute_result"
    },
    {
     "data": {
      "image/png": "[encoded data removed]",
      "text/plain": [
       "<Figure size 432x288 with 2 Axes>"
      ]
     },
     "metadata": {
      "needs_background": "light"
     },
     "output_type": "display_data"
    }
   ],
   "source": [
    "plt.set_cmap(\"cividis\")  # use a color vision deficiency-friendly palette\n",
    "plt.xlabel(\"Real\")\n",
    "plt.ylabel(\"Imaginary\")\n",
    "plt.imshow(\n",
    "    data_numba, interpolation=\"none\", extent=[xmin, xmax, ymin, ymax], origin=\"lower\"\n",
    ")\n",
    "plt.colorbar()"
   ]
  },
  {
   "cell_type": "markdown",
   "id": "b1937aac-de9f-44dc-a545-851b72b4fbd6",
   "metadata": {},
   "source": [
    "## 9.4.2 Parallelisation with Multiprocessing\n",
    "\n",
    "Modern CPUs have more than one core. You can find out how many there are on your machine with"
   ]
  },
  {
   "cell_type": "code",
   "execution_count": 11,
   "id": "eee65a6a-0718-4968-9e32-82869ad300fa",
   "metadata": {},
   "outputs": [
    {
     "data": {
      "text/plain": [
       "12"
      ]
     },
     "execution_count": 11,
     "metadata": {},
     "output_type": "execute_result"
    }
   ],
   "source": [
    "from os import cpu_count\n",
    "\n",
    "cpu_count()"
   ]
  },
  {
   "cell_type": "markdown",
   "id": "464b4c0a",
   "metadata": {},
   "source": [
    "Python's [multiprocessing library](https://docs.python.org/3/library/multiprocessing.html) works better with `.py` files than notebooks so we'll write our slow function to file."
   ]
  },
  {
   "cell_type": "code",
   "execution_count": 12,
   "id": "56ac06ec-7b16-456e-8d02-d16138012bf6",
   "metadata": {},
   "outputs": [
    {
     "name": "stdout",
     "output_type": "stream",
     "text": [
      "Overwriting sleeping.py\n"
     ]
    }
   ],
   "source": [
    "%%writefile sleeping.py\n",
    "\n",
    "from time import sleep\n",
    "\n",
    "def square(argument):\n",
    "    sleep(0.5)\n",
    "    return argument * argument"
   ]
  },
  {
   "cell_type": "markdown",
   "id": "4318551d",
   "metadata": {},
   "source": [
    "If we change the cell above, we'll need to `reload()` the `sleeping` module."
   ]
  },
  {
   "cell_type": "code",
   "execution_count": 13,
   "id": "4bdfa068-292f-406f-8b38-29a26a0431d1",
   "metadata": {},
   "outputs": [
    {
     "data": {
      "text/plain": [
       "<module 'sleeping' from '/Users/istenson/code/turing/rse-course/module09_programming_for_speed/sleeping.py'>"
      ]
     },
     "execution_count": 13,
     "metadata": {},
     "output_type": "execute_result"
    }
   ],
   "source": [
    "import importlib\n",
    "\n",
    "import sleeping\n",
    "\n",
    "importlib.reload(sleeping)"
   ]
  },
  {
   "cell_type": "markdown",
   "id": "e0486bae",
   "metadata": {},
   "source": [
    "We can apply our `square()` function to each element in a list with `map()`. `map()` returns an iterator so we use `list()` to get all of the results as a list, for comparison."
   ]
  },
  {
   "cell_type": "code",
   "execution_count": 14,
   "id": "6948f5ea-3b45-413f-af9e-87d48f2836d6",
   "metadata": {},
   "outputs": [],
   "source": [
    "assert list(map(sleeping.square, [0, 1, 2, 3])) == [0, 1, 4, 9]"
   ]
  },
  {
   "cell_type": "markdown",
   "id": "2560120f",
   "metadata": {},
   "source": [
    "`square()` sleeps for 0.5 second each time it is called so calling it 8 times should take around 4 seconds."
   ]
  },
  {
   "cell_type": "code",
   "execution_count": 15,
   "id": "436055e9-e7d0-427d-99e7-6e93c9bae004",
   "metadata": {},
   "outputs": [
    {
     "name": "stdout",
     "output_type": "stream",
     "text": [
      "4.53 s ± 2.99 ms per loop (mean ± std. dev. of 2 runs, 2 loops each)\n"
     ]
    }
   ],
   "source": [
    "%%timeit -n 2 -r 2\n",
    "\n",
    "list(map(sleeping.square, [0, 1, 2, 3, 4, 5, 6, 7, 8]))"
   ]
  },
  {
   "cell_type": "markdown",
   "id": "20891e5b",
   "metadata": {},
   "source": [
    "We can make use of our other CPU cores by creating a pool of processes and assigning some work to each. By default, `Pool()` will make one worker process for each core on the machine.\n",
    "\n",
    "You can use `Pool` as a context manager..."
   ]
  },
  {
   "cell_type": "code",
   "execution_count": 16,
   "id": "cafcd810-2afc-4c2c-b695-530424f0a90d",
   "metadata": {},
   "outputs": [
    {
     "data": {
      "text/plain": [
       "[1, 4, 9, 16, 25, 36, 49, 64]"
      ]
     },
     "execution_count": 16,
     "metadata": {},
     "output_type": "execute_result"
    }
   ],
   "source": [
    "from multiprocessing import Pool\n",
    "\n",
    "with Pool() as pool:\n",
    "    results = pool.map(sleeping.square, [1, 2, 3, 4, 5, 6, 7, 8])\n",
    "results"
   ]
  },
  {
   "cell_type": "markdown",
   "id": "b19c372e",
   "metadata": {},
   "source": [
    "...or you can assign it on the same line as `%%timeit` so that the time taken to create the pool doesn't count towards the performance timing."
   ]
  },
  {
   "cell_type": "code",
   "execution_count": 17,
   "id": "3b02958b-41ee-4ecb-ad3c-1a66ae48abe8",
   "metadata": {},
   "outputs": [
    {
     "name": "stdout",
     "output_type": "stream",
     "text": [
      "564 ms ± 16.6 ms per loop (mean ± std. dev. of 7 runs, 1 loop each)\n"
     ]
    }
   ],
   "source": [
    "%%timeit pool = Pool()\n",
    "\n",
    "pool.map(sleeping.square, [1, 2, 3, 4, 5, 6, 7, 8])"
   ]
  },
  {
   "cell_type": "markdown",
   "id": "8084aa10",
   "metadata": {},
   "source": [
    "Note that processing all 8 elements now only takes a little over 0.5s.\n",
    "\n",
    "If you don't use the context manager, you should remember to close the pool."
   ]
  },
  {
   "cell_type": "code",
   "execution_count": 18,
   "id": "3d227ab1-3df5-41d7-9cf4-3e3afcd67c76",
   "metadata": {},
   "outputs": [],
   "source": [
    "pool.close()"
   ]
  },
  {
   "cell_type": "markdown",
   "id": "26bc1a0d",
   "metadata": {},
   "source": [
    "Go to notebook **9.6 Classroom Exercises** and do *Exercise 9d*."
   ]
  },
  {
   "cell_type": "markdown",
   "id": "87190981",
   "metadata": {},
   "source": [
    "## 9.4.3 Parallelisation with numba\n",
    "\n",
    "Similarly to `numpy`, `numba` has optimisations related to parallelisation.\n",
    "Let's see whether we can improve on the performance of `mandel_cython_numpy`, the best Cython solution we found earlier.\n",
    "If we are certain that there are no dependencies between different elements in a range, we can parallelize iteration by using the `prange` function."
   ]
  },
  {
   "cell_type": "code",
   "execution_count": 19,
   "id": "09012d39-c67a-4a68-8bd8-77d45d5c8202",
   "metadata": {},
   "outputs": [
    {
     "name": "stdout",
     "output_type": "stream",
     "text": [
      "Help on class prange in module numba.misc.special:\n",
      "\n",
      "class prange(builtins.object)\n",
      " |  prange(*args)\n",
      " |  \n",
      " |  Provides a 1D parallel iterator that generates a sequence of integers.\n",
      " |  In non-parallel contexts, prange is identical to range.\n",
      " |  \n",
      " |  Static methods defined here:\n",
      " |  \n",
      " |  __new__(cls, *args)\n",
      " |      Create and return a new object.  See help(type) for accurate signature.\n",
      " |  \n",
      " |  ----------------------------------------------------------------------\n",
      " |  Data descriptors defined here:\n",
      " |  \n",
      " |  __dict__\n",
      " |      dictionary for instance variables (if defined)\n",
      " |  \n",
      " |  __weakref__\n",
      " |      list of weak references to the object (if defined)\n",
      "\n"
     ]
    }
   ],
   "source": [
    "from numba import prange\n",
    "\n",
    "help(prange)"
   ]
  },
  {
   "cell_type": "code",
   "execution_count": 20,
   "id": "445ad681-342e-4141-908b-3216f3893973",
   "metadata": {},
   "outputs": [],
   "source": [
    "@njit(parallel=True)\n",
    "def mandel_numba_parallel(constants, max_iterations=50):\n",
    "    \"\"\"Computes the values of the series for up to a maximum number of iterations.\n",
    "\n",
    "    Returns the number of iterations.\n",
    "    \"\"\"\n",
    "    xlim = constants.shape[1]\n",
    "    ylim = constants.shape[0]\n",
    "\n",
    "    diverged_at_count = np.zeros((ylim, xlim))\n",
    "\n",
    "    for y in prange(ylim):\n",
    "        for x in prange(xlim):\n",
    "\n",
    "            value = 0\n",
    "            counter = 0\n",
    "\n",
    "            while counter < max_iterations:\n",
    "                if abs(value) > 2:\n",
    "                    break\n",
    "\n",
    "                value = (value * value) + constants[y, x]\n",
    "\n",
    "                counter = counter + 1\n",
    "\n",
    "            diverged_at_count[y, x] = counter\n",
    "\n",
    "    return diverged_at_count"
   ]
  },
  {
   "cell_type": "code",
   "execution_count": 21,
   "id": "7efece51-3c08-4c50-86f2-8e2defe11f77",
   "metadata": {},
   "outputs": [
    {
     "name": "stderr",
     "output_type": "stream",
     "text": [
      "OMP: Info #276: omp_set_nested routine deprecated, please use omp_set_max_active_levels instead.\n"
     ]
    }
   ],
   "source": [
    "assert mandel_numba_parallel(np.asarray([[0]])) == np.asarray([[50]])\n",
    "assert mandel_numba_parallel(np.asarray([[4]])) == np.asarray([[1]])"
   ]
  },
  {
   "cell_type": "code",
   "execution_count": 22,
   "id": "2c609f75",
   "metadata": {},
   "outputs": [],
   "source": [
    "cs_listcomp = [[(x + y * 1j) for x in xs] for y in ys]\n",
    "cs = np.asarray(cs_listcomp)"
   ]
  },
  {
   "cell_type": "code",
   "execution_count": 23,
   "id": "541f0991-7c81-4d27-9cb1-91fcc19f6dea",
   "metadata": {},
   "outputs": [
    {
     "name": "stdout",
     "output_type": "stream",
     "text": [
      "2.29 ms ± 122 µs per loop (mean ± std. dev. of 7 runs, 1 loop each)\n"
     ]
    }
   ],
   "source": [
    "%%timeit\n",
    "mandel_numba_parallel(cs)"
   ]
  },
  {
   "cell_type": "code",
   "execution_count": 24,
   "id": "86e898c9-40b3-436e-a275-08e7c43c250e",
   "metadata": {},
   "outputs": [],
   "source": [
    "zs = mandel_numba_parallel(cs)"
   ]
  },
  {
   "cell_type": "code",
   "execution_count": 25,
   "id": "6cd10fc9-0264-43b0-a445-424dd5ed28f9",
   "metadata": {},
   "outputs": [
    {
     "data": {
      "text/plain": [
       "<matplotlib.colorbar.Colorbar at 0x1394768e0>"
      ]
     },
     "execution_count": 25,
     "metadata": {},
     "output_type": "execute_result"
    },
    {
     "data": {
      "image/png": "[encoded data removed]",
      "text/plain": [
       "<Figure size 432x288 with 2 Axes>"
      ]
     },
     "metadata": {
      "needs_background": "light"
     },
     "output_type": "display_data"
    }
   ],
   "source": [
    "plt.xlabel(\"Real\")\n",
    "plt.ylabel(\"Imaginary\")\n",
    "plt.imshow(zs, interpolation=\"none\", extent=[xmin, xmax, ymin, ymax], origin=\"lower\")\n",
    "plt.colorbar()"
   ]
  },
  {
   "cell_type": "markdown",
   "id": "0d44d09d",
   "metadata": {},
   "source": [
    "We see that allowing numba to use all of our CPU cores has increased the performance with relatively few code changes. The best possible speedup with parallelisation with be a factor of `cpu_count()` but this often won't be realised in practice."
   ]
  },
  {
   "cell_type": "markdown",
   "id": "3f3fb7e6",
   "metadata": {},
   "source": [
    "More on optimising with numba in notebook **9.8 Self study**."
   ]
  }
 ],
 "metadata": {
  "kernelspec": {
   "display_name": "Python 3 (ipykernel)",
   "language": "python",
   "name": "python3"
  },
  "language_info": {
   "codemirror_mode": {
    "name": "ipython",
    "version": 3
   },
   "file_extension": ".py",
   "mimetype": "text/x-python",
   "name": "python",
   "nbconvert_exporter": "python",
   "pygments_lexer": "ipython3",
   "version": "3.9.7"
  }
 },
 "nbformat": 4,
 "nbformat_minor": 5
}
