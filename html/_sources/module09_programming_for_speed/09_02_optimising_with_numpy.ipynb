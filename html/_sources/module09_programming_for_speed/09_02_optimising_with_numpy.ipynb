{
 "cells": [
  {
   "cell_type": "markdown",
   "metadata": {},
   "source": [
    "# 9.2 Optimising with NumPy"
   ]
  },
  {
   "cell_type": "markdown",
   "metadata": {},
   "source": [
    "*Estimated time for this notebook: 30 minutes*"
   ]
  },
  {
   "cell_type": "markdown",
   "metadata": {},
   "source": [
    "## NumPy constructors"
   ]
  },
  {
   "cell_type": "markdown",
   "metadata": {},
   "source": [
    "We saw previously that NumPy's core type is the `ndarray`, or N-Dimensional Array:"
   ]
  },
  {
   "cell_type": "code",
   "execution_count": 1,
   "metadata": {},
   "outputs": [
    {
     "data": {
      "text/plain": [
       "array([[0., 0.],\n",
       "       [0., 0.],\n",
       "       [0., 0.],\n",
       "       [0., 0.]])"
      ]
     },
     "execution_count": 1,
     "metadata": {},
     "output_type": "execute_result"
    }
   ],
   "source": [
    "import numpy as np\n",
    "\n",
    "np.zeros([3, 4, 2, 5])[2, :, :, 1]"
   ]
  },
  {
   "cell_type": "markdown",
   "metadata": {},
   "source": [
    "The real magic of numpy arrays is that most python operations are applied, quickly, on an elementwise basis:"
   ]
  },
  {
   "cell_type": "code",
   "execution_count": 2,
   "metadata": {},
   "outputs": [],
   "source": [
    "x = np.arange(0, 256, 4).reshape(8, 8)"
   ]
  },
  {
   "cell_type": "code",
   "execution_count": 3,
   "metadata": {},
   "outputs": [],
   "source": [
    "y = np.zeros((8, 8))"
   ]
  },
  {
   "cell_type": "code",
   "execution_count": 4,
   "metadata": {},
   "outputs": [
    {
     "name": "stdout",
     "output_type": "stream",
     "text": [
      "43.4 µs ± 750 ns per loop (mean ± std. dev. of 7 runs, 10000 loops each)\n"
     ]
    }
   ],
   "source": [
    "%%timeit\n",
    "for i in range(8):\n",
    "    for j in range(8):\n",
    "        y[i][j] = x[i][j] + 10"
   ]
  },
  {
   "cell_type": "code",
   "execution_count": 5,
   "metadata": {},
   "outputs": [
    {
     "data": {
      "text/plain": [
       "array([[ 10,  14,  18,  22,  26,  30,  34,  38],\n",
       "       [ 42,  46,  50,  54,  58,  62,  66,  70],\n",
       "       [ 74,  78,  82,  86,  90,  94,  98, 102],\n",
       "       [106, 110, 114, 118, 122, 126, 130, 134],\n",
       "       [138, 142, 146, 150, 154, 158, 162, 166],\n",
       "       [170, 174, 178, 182, 186, 190, 194, 198],\n",
       "       [202, 206, 210, 214, 218, 222, 226, 230],\n",
       "       [234, 238, 242, 246, 250, 254, 258, 262]])"
      ]
     },
     "execution_count": 5,
     "metadata": {},
     "output_type": "execute_result"
    }
   ],
   "source": [
    "x + 10"
   ]
  },
  {
   "cell_type": "markdown",
   "metadata": {},
   "source": [
    "Numpy's mathematical functions also happen this way, and are said to be \"vectorized\" functions."
   ]
  },
  {
   "cell_type": "code",
   "execution_count": 6,
   "metadata": {},
   "outputs": [
    {
     "data": {
      "text/plain": [
       "array([[ 0.        ,  2.        ,  2.82842712,  3.46410162,  4.        ,\n",
       "         4.47213595,  4.89897949,  5.29150262],\n",
       "       [ 5.65685425,  6.        ,  6.32455532,  6.63324958,  6.92820323,\n",
       "         7.21110255,  7.48331477,  7.74596669],\n",
       "       [ 8.        ,  8.24621125,  8.48528137,  8.71779789,  8.94427191,\n",
       "         9.16515139,  9.38083152,  9.59166305],\n",
       "       [ 9.79795897, 10.        , 10.19803903, 10.39230485, 10.58300524,\n",
       "        10.77032961, 10.95445115, 11.13552873],\n",
       "       [11.3137085 , 11.48912529, 11.66190379, 11.83215957, 12.        ,\n",
       "        12.16552506, 12.32882801, 12.489996  ],\n",
       "       [12.64911064, 12.80624847, 12.9614814 , 13.11487705, 13.26649916,\n",
       "        13.41640786, 13.56465997, 13.7113092 ],\n",
       "       [13.85640646, 14.        , 14.14213562, 14.28285686, 14.4222051 ,\n",
       "        14.56021978, 14.69693846, 14.83239697],\n",
       "       [14.96662955, 15.09966887, 15.23154621, 15.3622915 , 15.49193338,\n",
       "        15.62049935, 15.74801575, 15.87450787]])"
      ]
     },
     "execution_count": 6,
     "metadata": {},
     "output_type": "execute_result"
    }
   ],
   "source": [
    "np.sqrt(x)"
   ]
  },
  {
   "cell_type": "markdown",
   "metadata": {},
   "source": [
    "Numpy contains many useful functions for creating matrices. In our earlier lectures we've seen `linspace` and `arange` for evenly spaced numbers."
   ]
  },
  {
   "cell_type": "code",
   "execution_count": 7,
   "metadata": {},
   "outputs": [
    {
     "data": {
      "text/plain": [
       "array([ 0. ,  0.5,  1. ,  1.5,  2. ,  2.5,  3. ,  3.5,  4. ,  4.5,  5. ,\n",
       "        5.5,  6. ,  6.5,  7. ,  7.5,  8. ,  8.5,  9. ,  9.5, 10. ])"
      ]
     },
     "execution_count": 7,
     "metadata": {},
     "output_type": "execute_result"
    }
   ],
   "source": [
    "np.linspace(0, 10, 21)"
   ]
  },
  {
   "cell_type": "code",
   "execution_count": 8,
   "metadata": {},
   "outputs": [
    {
     "data": {
      "text/plain": [
       "array([0. , 0.5, 1. , 1.5, 2. , 2.5, 3. , 3.5, 4. , 4.5, 5. , 5.5, 6. ,\n",
       "       6.5, 7. , 7.5, 8. , 8.5, 9. , 9.5])"
      ]
     },
     "execution_count": 8,
     "metadata": {},
     "output_type": "execute_result"
    }
   ],
   "source": [
    "np.arange(0, 10, 0.5)"
   ]
  },
  {
   "cell_type": "markdown",
   "metadata": {},
   "source": [
    " Here's one for creating matrices like coordinates in a grid:"
   ]
  },
  {
   "cell_type": "code",
   "execution_count": 9,
   "metadata": {},
   "outputs": [],
   "source": [
    "xmin = -1.5\n",
    "ymin = -1.0\n",
    "xmax = 0.5\n",
    "ymax = 1.0\n",
    "resolution = 300\n",
    "xstep = (xmax - xmin) / resolution\n",
    "ystep = (ymax - ymin) / resolution\n",
    "# A numpy \"meshgrid\" creates a rectangular grid from an array of x values and an array of y values.\n",
    "ymatrix, xmatrix = np.mgrid[ymin:ymax:ystep, xmin:xmax:xstep]"
   ]
  },
  {
   "cell_type": "code",
   "execution_count": 10,
   "metadata": {},
   "outputs": [
    {
     "name": "stdout",
     "output_type": "stream",
     "text": [
      "[[-1.         -1.         -1.         ... -1.         -1.\n",
      "  -1.        ]\n",
      " [-0.99333333 -0.99333333 -0.99333333 ... -0.99333333 -0.99333333\n",
      "  -0.99333333]\n",
      " [-0.98666667 -0.98666667 -0.98666667 ... -0.98666667 -0.98666667\n",
      "  -0.98666667]\n",
      " ...\n",
      " [ 0.98        0.98        0.98       ...  0.98        0.98\n",
      "   0.98      ]\n",
      " [ 0.98666667  0.98666667  0.98666667 ...  0.98666667  0.98666667\n",
      "   0.98666667]\n",
      " [ 0.99333333  0.99333333  0.99333333 ...  0.99333333  0.99333333\n",
      "   0.99333333]]\n"
     ]
    }
   ],
   "source": [
    "print(ymatrix)"
   ]
  },
  {
   "cell_type": "markdown",
   "metadata": {},
   "source": [
    "We can add these together to make a grid containing the complex numbers we want to test for membership in the Mandelbrot set."
   ]
  },
  {
   "cell_type": "code",
   "execution_count": 11,
   "metadata": {},
   "outputs": [],
   "source": [
    "values = xmatrix + 1j * ymatrix"
   ]
  },
  {
   "cell_type": "code",
   "execution_count": 12,
   "metadata": {},
   "outputs": [
    {
     "name": "stdout",
     "output_type": "stream",
     "text": [
      "[[-1.5       -1.j         -1.49333333-1.j         -1.48666667-1.j\n",
      "  ...  0.48      -1.j          0.48666667-1.j\n",
      "   0.49333333-1.j        ]\n",
      " [-1.5       -0.99333333j -1.49333333-0.99333333j -1.48666667-0.99333333j\n",
      "  ...  0.48      -0.99333333j  0.48666667-0.99333333j\n",
      "   0.49333333-0.99333333j]\n",
      " [-1.5       -0.98666667j -1.49333333-0.98666667j -1.48666667-0.98666667j\n",
      "  ...  0.48      -0.98666667j  0.48666667-0.98666667j\n",
      "   0.49333333-0.98666667j]\n",
      " ...\n",
      " [-1.5       +0.98j       -1.49333333+0.98j       -1.48666667+0.98j\n",
      "  ...  0.48      +0.98j        0.48666667+0.98j\n",
      "   0.49333333+0.98j      ]\n",
      " [-1.5       +0.98666667j -1.49333333+0.98666667j -1.48666667+0.98666667j\n",
      "  ...  0.48      +0.98666667j  0.48666667+0.98666667j\n",
      "   0.49333333+0.98666667j]\n",
      " [-1.5       +0.99333333j -1.49333333+0.99333333j -1.48666667+0.99333333j\n",
      "  ...  0.48      +0.99333333j  0.48666667+0.99333333j\n",
      "   0.49333333+0.99333333j]]\n"
     ]
    }
   ],
   "source": [
    "print(values)"
   ]
  },
  {
   "cell_type": "markdown",
   "metadata": {},
   "source": [
    "## Arraywise Algorithms"
   ]
  },
  {
   "cell_type": "markdown",
   "metadata": {},
   "source": [
    "We can use this to apply the mandelbrot algorithm to whole *ARRAYS*"
   ]
  },
  {
   "cell_type": "code",
   "execution_count": 13,
   "metadata": {},
   "outputs": [],
   "source": [
    "z0 = values\n",
    "z1 = z0 * z0 + values\n",
    "z2 = z1 * z1 + values\n",
    "z3 = z2 * z2 + values"
   ]
  },
  {
   "cell_type": "code",
   "execution_count": 14,
   "metadata": {},
   "outputs": [
    {
     "name": "stdout",
     "output_type": "stream",
     "text": [
      "[[24.06640625+20.75j       23.16610231+20.97899073j\n",
      "  22.27540349+21.18465854j ... 11.20523832 -1.88650846j\n",
      "  11.5734533  -1.6076251j  11.94394738 -1.31225596j]\n",
      " [23.82102149+19.85687829j 22.94415031+20.09504528j\n",
      "  22.07634812+20.31020645j ... 10.93323949 -1.5275283j\n",
      "  11.28531994 -1.24641067j 11.63928527 -0.94911594j]\n",
      " [23.56689029+18.98729242j 22.71312709+19.23410533j\n",
      "  21.86791017+19.4582314j  ... 10.65905064 -1.18433756j\n",
      "  10.99529965 -0.90137318j 11.33305161 -0.60254144j]\n",
      " ...\n",
      " [23.30453709-18.14090998j 22.47355537-18.39585192j\n",
      "  21.65061048-18.62842771j ... 10.38305264 +0.85663867j\n",
      "  10.70377437 +0.57220289j 11.02562928 +0.27221042j]\n",
      " [23.56689029-18.98729242j 22.71312709-19.23410533j\n",
      "  21.86791017-19.4582314j  ... 10.65905064 +1.18433756j\n",
      "  10.99529965 +0.90137318j 11.33305161 +0.60254144j]\n",
      " [23.82102149-19.85687829j 22.94415031-20.09504528j\n",
      "  22.07634812-20.31020645j ... 10.93323949 +1.5275283j\n",
      "  11.28531994 +1.24641067j 11.63928527 +0.94911594j]]\n"
     ]
    }
   ],
   "source": [
    "print(z3)"
   ]
  },
  {
   "cell_type": "markdown",
   "metadata": {},
   "source": [
    "So can we just apply our `mandel1` function to the whole matrix?"
   ]
  },
  {
   "cell_type": "code",
   "execution_count": 15,
   "metadata": {},
   "outputs": [],
   "source": [
    "def mandel1(position, limit=50):\n",
    "    value = position\n",
    "    while abs(value) < 2:\n",
    "        limit -= 1\n",
    "        value = value ** 2 + position\n",
    "        if limit < 0:\n",
    "            return 0\n",
    "    return limit"
   ]
  },
  {
   "cell_type": "code",
   "execution_count": 16,
   "metadata": {
    "tags": [
     "raises-exception"
    ]
   },
   "outputs": [
    {
     "ename": "ValueError",
     "evalue": "The truth value of an array with more than one element is ambiguous. Use a.any() or a.all()",
     "output_type": "error",
     "traceback": [
      "\u001b[0;31m---------------------------------------------------------------------------\u001b[0m",
      "\u001b[0;31mValueError\u001b[0m                                Traceback (most recent call last)",
      "\u001b[0;32m<ipython-input-16-484a82ca909a>\u001b[0m in \u001b[0;36m<module>\u001b[0;34m\u001b[0m\n\u001b[0;32m----> 1\u001b[0;31m \u001b[0mmandel1\u001b[0m\u001b[0;34m(\u001b[0m\u001b[0mvalues\u001b[0m\u001b[0;34m)\u001b[0m\u001b[0;34m\u001b[0m\u001b[0;34m\u001b[0m\u001b[0m\n\u001b[0m",
      "\u001b[0;32m<ipython-input-15-6a5fb185661f>\u001b[0m in \u001b[0;36mmandel1\u001b[0;34m(position, limit)\u001b[0m\n\u001b[1;32m      1\u001b[0m \u001b[0;32mdef\u001b[0m \u001b[0mmandel1\u001b[0m\u001b[0;34m(\u001b[0m\u001b[0mposition\u001b[0m\u001b[0;34m,\u001b[0m \u001b[0mlimit\u001b[0m\u001b[0;34m=\u001b[0m\u001b[0;36m50\u001b[0m\u001b[0;34m)\u001b[0m\u001b[0;34m:\u001b[0m\u001b[0;34m\u001b[0m\u001b[0;34m\u001b[0m\u001b[0m\n\u001b[1;32m      2\u001b[0m     \u001b[0mvalue\u001b[0m \u001b[0;34m=\u001b[0m \u001b[0mposition\u001b[0m\u001b[0;34m\u001b[0m\u001b[0;34m\u001b[0m\u001b[0m\n\u001b[0;32m----> 3\u001b[0;31m     \u001b[0;32mwhile\u001b[0m \u001b[0mabs\u001b[0m\u001b[0;34m(\u001b[0m\u001b[0mvalue\u001b[0m\u001b[0;34m)\u001b[0m \u001b[0;34m<\u001b[0m \u001b[0;36m2\u001b[0m\u001b[0;34m:\u001b[0m\u001b[0;34m\u001b[0m\u001b[0;34m\u001b[0m\u001b[0m\n\u001b[0m\u001b[1;32m      4\u001b[0m         \u001b[0mlimit\u001b[0m \u001b[0;34m-=\u001b[0m \u001b[0;36m1\u001b[0m\u001b[0;34m\u001b[0m\u001b[0;34m\u001b[0m\u001b[0m\n\u001b[1;32m      5\u001b[0m         \u001b[0mvalue\u001b[0m \u001b[0;34m=\u001b[0m \u001b[0mvalue\u001b[0m \u001b[0;34m**\u001b[0m \u001b[0;36m2\u001b[0m \u001b[0;34m+\u001b[0m \u001b[0mposition\u001b[0m\u001b[0;34m\u001b[0m\u001b[0;34m\u001b[0m\u001b[0m\n",
      "\u001b[0;31mValueError\u001b[0m: The truth value of an array with more than one element is ambiguous. Use a.any() or a.all()"
     ]
    }
   ],
   "source": [
    "mandel1(values)"
   ]
  },
  {
   "cell_type": "markdown",
   "metadata": {},
   "source": [
    "No. The *logic* of our current routine would require stopping for some elements and not for others. "
   ]
  },
  {
   "cell_type": "markdown",
   "metadata": {},
   "source": [
    "We can ask numpy to **vectorise** our method for us:"
   ]
  },
  {
   "cell_type": "code",
   "execution_count": 17,
   "metadata": {},
   "outputs": [],
   "source": [
    "@np.vectorize\n",
    "def mandel2(position, limit=50):\n",
    "    value = position\n",
    "    while abs(value) < 2:\n",
    "        limit -= 1\n",
    "        value = value ** 2 + position\n",
    "        if limit < 0:\n",
    "            return 0\n",
    "    return limit"
   ]
  },
  {
   "cell_type": "markdown",
   "metadata": {},
   "source": [
    "Note that we use a **decorator** here (np.vectorize takes a function as input and returns a function). An equivalent way to write this would be `mandel2 = np.vectorize(mandel1)`."
   ]
  },
  {
   "cell_type": "code",
   "execution_count": 18,
   "metadata": {},
   "outputs": [],
   "source": [
    "data5 = mandel2(values)"
   ]
  },
  {
   "cell_type": "code",
   "execution_count": 19,
   "metadata": {},
   "outputs": [
    {
     "data": {
      "text/plain": [
       "<matplotlib.image.AxesImage at 0x7fd989a1aa50>"
      ]
     },
     "execution_count": 19,
     "metadata": {},
     "output_type": "execute_result"
    },
    {
     "data": {
      "image/png": "[encoded data removed]",
      "text/plain": [
       "<Figure size 432x288 with 1 Axes>"
      ]
     },
     "metadata": {
      "needs_background": "light"
     },
     "output_type": "display_data"
    }
   ],
   "source": [
    "from matplotlib import pyplot as plt\n",
    "\n",
    "%matplotlib inline\n",
    "plt.imshow(data5, interpolation=\"none\", extent=[xmin, xmax, ymin, ymax])"
   ]
  },
  {
   "cell_type": "markdown",
   "metadata": {},
   "source": [
    "Is that any faster?"
   ]
  },
  {
   "cell_type": "code",
   "execution_count": 20,
   "metadata": {},
   "outputs": [
    {
     "name": "stdout",
     "output_type": "stream",
     "text": [
      "391 ms ± 25.8 ms per loop (mean ± std. dev. of 7 runs, 1 loop each)\n"
     ]
    }
   ],
   "source": [
    "%%timeit\n",
    "data5 = mandel2(values)"
   ]
  },
  {
   "cell_type": "markdown",
   "metadata": {},
   "source": [
    "This is not significantly faster. When we use *vectorize* it's just hiding an plain old python for loop under the hood. We want to make the loop over matrix elements take place in the \"**C Layer**\"."
   ]
  },
  {
   "cell_type": "markdown",
   "metadata": {},
   "source": [
    "What if we just apply the Mandelbrot algorithm without checking for divergence until the end:"
   ]
  },
  {
   "cell_type": "code",
   "execution_count": 21,
   "metadata": {},
   "outputs": [],
   "source": [
    "def mandel_numpy_explode(position, limit=50):\n",
    "    value = position\n",
    "    while limit > 0:\n",
    "        limit -= 1\n",
    "        value = value ** 2 + position\n",
    "        diverging = abs(value) > 2\n",
    "\n",
    "    return abs(value) < 2"
   ]
  },
  {
   "cell_type": "code",
   "execution_count": 22,
   "metadata": {},
   "outputs": [
    {
     "name": "stderr",
     "output_type": "stream",
     "text": [
      "/home/turingdev/.pyenv/versions/3.8.13/envs/rse-course/lib/python3.8/site-packages/ipykernel_launcher.py:6: RuntimeWarning: overflow encountered in absolute\n",
      "  \n",
      "/home/turingdev/.pyenv/versions/3.8.13/envs/rse-course/lib/python3.8/site-packages/ipykernel_launcher.py:5: RuntimeWarning: overflow encountered in square\n",
      "  \"\"\"\n",
      "/home/turingdev/.pyenv/versions/3.8.13/envs/rse-course/lib/python3.8/site-packages/ipykernel_launcher.py:5: RuntimeWarning: invalid value encountered in square\n",
      "  \"\"\"\n"
     ]
    }
   ],
   "source": [
    "data6 = mandel_numpy_explode(values)"
   ]
  },
  {
   "cell_type": "markdown",
   "metadata": {},
   "source": [
    "OK, we need to prevent it from running off to $\\infty$"
   ]
  },
  {
   "cell_type": "code",
   "execution_count": 23,
   "metadata": {},
   "outputs": [],
   "source": [
    "def mandel_numpy(position, limit=50):\n",
    "    value = position\n",
    "    while limit > 0:\n",
    "        limit -= 1\n",
    "        value = value ** 2 + position\n",
    "        diverging = abs(value) > 2\n",
    "        # Avoid overflow\n",
    "        value[diverging] = 2\n",
    "\n",
    "    return abs(value) < 2"
   ]
  },
  {
   "cell_type": "code",
   "execution_count": 24,
   "metadata": {},
   "outputs": [],
   "source": [
    "data6 = mandel_numpy(values)"
   ]
  },
  {
   "cell_type": "code",
   "execution_count": 25,
   "metadata": {},
   "outputs": [
    {
     "name": "stdout",
     "output_type": "stream",
     "text": [
      "31.3 ms ± 2.05 ms per loop (mean ± std. dev. of 7 runs, 10 loops each)\n"
     ]
    }
   ],
   "source": [
    "%%timeit\n",
    "\n",
    "data6 = mandel_numpy(values)"
   ]
  },
  {
   "cell_type": "code",
   "execution_count": 26,
   "metadata": {},
   "outputs": [
    {
     "data": {
      "text/plain": [
       "<matplotlib.image.AxesImage at 0x7fd989b34850>"
      ]
     },
     "execution_count": 26,
     "metadata": {},
     "output_type": "execute_result"
    },
    {
     "data": {
      "image/png": "[encoded data removed]",
      "text/plain": [
       "<Figure size 432x288 with 1 Axes>"
      ]
     },
     "metadata": {
      "needs_background": "light"
     },
     "output_type": "display_data"
    }
   ],
   "source": [
    "from matplotlib import pyplot as plt\n",
    "\n",
    "%matplotlib inline\n",
    "plt.imshow(data6, interpolation=\"none\", extent=[xmin, xmax, ymin, ymax])"
   ]
  },
  {
   "cell_type": "markdown",
   "metadata": {},
   "source": [
    "Wow, that was TEN TIMES faster."
   ]
  },
  {
   "cell_type": "markdown",
   "metadata": {},
   "source": [
    "There's quite a few NumPy tricks there, let's remind ourselves of how they work:"
   ]
  },
  {
   "cell_type": "code",
   "execution_count": 27,
   "metadata": {},
   "outputs": [],
   "source": [
    "diverging = abs(z3) > 2\n",
    "z3[diverging] = 2"
   ]
  },
  {
   "cell_type": "markdown",
   "metadata": {},
   "source": [
    "When we apply a logical condition to a NumPy array, we get a logical array."
   ]
  },
  {
   "cell_type": "code",
   "execution_count": 28,
   "metadata": {},
   "outputs": [],
   "source": [
    "x = np.arange(10)\n",
    "y = np.ones([10]) * 5\n",
    "z = x > y"
   ]
  },
  {
   "cell_type": "code",
   "execution_count": 29,
   "metadata": {},
   "outputs": [
    {
     "data": {
      "text/plain": [
       "array([0, 1, 2, 3, 4, 5, 6, 7, 8, 9])"
      ]
     },
     "execution_count": 29,
     "metadata": {},
     "output_type": "execute_result"
    }
   ],
   "source": [
    "x"
   ]
  },
  {
   "cell_type": "code",
   "execution_count": 30,
   "metadata": {},
   "outputs": [
    {
     "data": {
      "text/plain": [
       "array([5., 5., 5., 5., 5., 5., 5., 5., 5., 5.])"
      ]
     },
     "execution_count": 30,
     "metadata": {},
     "output_type": "execute_result"
    }
   ],
   "source": [
    "y"
   ]
  },
  {
   "cell_type": "code",
   "execution_count": 31,
   "metadata": {},
   "outputs": [
    {
     "name": "stdout",
     "output_type": "stream",
     "text": [
      "[False False False False False False  True  True  True  True]\n"
     ]
    }
   ],
   "source": [
    "print(z)"
   ]
  },
  {
   "cell_type": "markdown",
   "metadata": {},
   "source": [
    "Logical arrays can be used to index into arrays:"
   ]
  },
  {
   "cell_type": "code",
   "execution_count": 32,
   "metadata": {},
   "outputs": [
    {
     "data": {
      "text/plain": [
       "array([4, 5, 6, 7, 8, 9])"
      ]
     },
     "execution_count": 32,
     "metadata": {},
     "output_type": "execute_result"
    }
   ],
   "source": [
    "x[x > 3]"
   ]
  },
  {
   "cell_type": "code",
   "execution_count": 33,
   "metadata": {},
   "outputs": [
    {
     "data": {
      "text/plain": [
       "array([0, 1, 2, 3, 4, 5])"
      ]
     },
     "execution_count": 33,
     "metadata": {},
     "output_type": "execute_result"
    }
   ],
   "source": [
    "x[np.logical_not(z)]"
   ]
  },
  {
   "cell_type": "markdown",
   "metadata": {},
   "source": [
    "And you can use such an index as the target of an assignment:"
   ]
  },
  {
   "cell_type": "code",
   "execution_count": 34,
   "metadata": {},
   "outputs": [
    {
     "data": {
      "text/plain": [
       "array([0, 1, 2, 3, 4, 5, 5, 5, 5, 5])"
      ]
     },
     "execution_count": 34,
     "metadata": {},
     "output_type": "execute_result"
    }
   ],
   "source": [
    "x[z] = 5\n",
    "x"
   ]
  },
  {
   "cell_type": "markdown",
   "metadata": {},
   "source": [
    "Note that we didn't compare two arrays to get our logical array, but an array to a scalar integer -- this is referred to as *broadcasting*."
   ]
  },
  {
   "cell_type": "markdown",
   "metadata": {},
   "source": [
    "## More Mandelbrot"
   ]
  },
  {
   "cell_type": "markdown",
   "metadata": {},
   "source": [
    "Of course, we didn't calculate the number-of-iterations-to-diverge, just whether the point was in the set."
   ]
  },
  {
   "cell_type": "markdown",
   "metadata": {},
   "source": [
    "Let's correct our code to do that:\n"
   ]
  },
  {
   "cell_type": "code",
   "execution_count": 35,
   "metadata": {},
   "outputs": [],
   "source": [
    "def mandel4(position, limit=50):\n",
    "    value = position\n",
    "    # An array which keeps track of the first step at which each position diverged\n",
    "    diverged_at_count = np.zeros(position.shape)\n",
    "    while limit > 0:\n",
    "        limit -= 1\n",
    "        value = value ** 2 + position\n",
    "        diverging = abs(value) > 2\n",
    "        # Any positions which are:\n",
    "        # - diverging\n",
    "        # - haven't diverged before\n",
    "        # are diverging for the first time\n",
    "        first_diverged_this_time = np.logical_and(diverging, diverged_at_count == 0)\n",
    "        # Update diverged_at_count for all positions which first diverged at this step\n",
    "        diverged_at_count[first_diverged_this_time] = limit\n",
    "        # Reset any divergent values to exactly 2\n",
    "        value[diverging] = 2\n",
    "\n",
    "    return diverged_at_count"
   ]
  },
  {
   "cell_type": "code",
   "execution_count": 36,
   "metadata": {},
   "outputs": [],
   "source": [
    "data7 = mandel4(values)"
   ]
  },
  {
   "cell_type": "code",
   "execution_count": 37,
   "metadata": {},
   "outputs": [
    {
     "data": {
      "text/plain": [
       "<matplotlib.image.AxesImage at 0x7fd9f842a410>"
      ]
     },
     "execution_count": 37,
     "metadata": {},
     "output_type": "execute_result"
    },
    {
     "data": {
      "image/png": "[encoded data removed]",
      "text/plain": [
       "<Figure size 432x288 with 1 Axes>"
      ]
     },
     "metadata": {
      "needs_background": "light"
     },
     "output_type": "display_data"
    }
   ],
   "source": [
    "plt.imshow(data7, interpolation=\"none\", extent=[xmin, xmax, ymin, ymax])"
   ]
  },
  {
   "cell_type": "code",
   "execution_count": 38,
   "metadata": {},
   "outputs": [
    {
     "name": "stdout",
     "output_type": "stream",
     "text": [
      "39.7 ms ± 3.81 ms per loop (mean ± std. dev. of 7 runs, 10 loops each)\n"
     ]
    }
   ],
   "source": [
    "%%timeit\n",
    "\n",
    "data7 = mandel4(values)"
   ]
  },
  {
   "cell_type": "markdown",
   "metadata": {},
   "source": [
    "Note that here, all the looping over mandelbrot steps was in Python, but everything below the loop-over-positions happened in C. The code was amazingly quick compared to pure Python."
   ]
  },
  {
   "cell_type": "markdown",
   "metadata": {},
   "source": [
    "Can we do better by avoiding a square root?"
   ]
  },
  {
   "cell_type": "code",
   "execution_count": 39,
   "metadata": {},
   "outputs": [],
   "source": [
    "def mandel5(position, limit=50):\n",
    "    value = position\n",
    "    diverged_at_count = np.zeros(position.shape)\n",
    "    while limit > 0:\n",
    "        limit -= 1\n",
    "        value = value ** 2 + position\n",
    "        diverging = value * np.conj(value) > 4\n",
    "        first_diverged_this_time = np.logical_and(diverging, diverged_at_count == 0)\n",
    "        diverged_at_count[first_diverged_this_time] = limit\n",
    "        value[diverging] = 2\n",
    "\n",
    "    return diverged_at_count"
   ]
  },
  {
   "cell_type": "code",
   "execution_count": 40,
   "metadata": {},
   "outputs": [
    {
     "name": "stdout",
     "output_type": "stream",
     "text": [
      "38.3 ms ± 3.55 ms per loop (mean ± std. dev. of 7 runs, 10 loops each)\n"
     ]
    }
   ],
   "source": [
    "%%timeit\n",
    "\n",
    "data8 = mandel5(values)"
   ]
  },
  {
   "cell_type": "markdown",
   "metadata": {},
   "source": [
    "Probably not worth the time I spent thinking about it!"
   ]
  },
  {
   "cell_type": "markdown",
   "metadata": {},
   "source": [
    "## NumPy Testing"
   ]
  },
  {
   "cell_type": "markdown",
   "metadata": {},
   "source": [
    "Now, let's look at calculating those residuals, the differences between the different datasets."
   ]
  },
  {
   "cell_type": "code",
   "execution_count": 41,
   "metadata": {},
   "outputs": [],
   "source": [
    "data8 = mandel5(values)\n",
    "data5 = mandel2(values)"
   ]
  },
  {
   "cell_type": "code",
   "execution_count": 42,
   "metadata": {},
   "outputs": [
    {
     "data": {
      "text/plain": [
       "0.0"
      ]
     },
     "execution_count": 42,
     "metadata": {},
     "output_type": "execute_result"
    }
   ],
   "source": [
    "np.sum((data8 - data5) ** 2)"
   ]
  },
  {
   "cell_type": "markdown",
   "metadata": {},
   "source": [
    "For our non-numpy datasets, numpy knows to turn them into arrays:"
   ]
  },
  {
   "cell_type": "code",
   "execution_count": 43,
   "metadata": {},
   "outputs": [
    {
     "data": {
      "text/plain": [
       "0.0"
      ]
     },
     "execution_count": 43,
     "metadata": {},
     "output_type": "execute_result"
    }
   ],
   "source": [
    "xmin = -1.5\n",
    "ymin = -1.0\n",
    "xmax = 0.5\n",
    "ymax = 1.0\n",
    "resolution = 300\n",
    "xstep = (xmax - xmin) / resolution\n",
    "ystep = (ymax - ymin) / resolution\n",
    "xs = [(xmin + (xmax - xmin) * i / resolution) for i in range(resolution)]\n",
    "ys = [(ymin + (ymax - ymin) * i / resolution) for i in range(resolution)]\n",
    "data1 = [[mandel1(complex(x, y)) for x in xs] for y in ys]\n",
    "sum(sum((data1 - data7) ** 2))"
   ]
  },
  {
   "cell_type": "markdown",
   "metadata": {},
   "source": [
    "But this doesn't work for pure non-numpy arrays"
   ]
  },
  {
   "cell_type": "code",
   "execution_count": 44,
   "metadata": {},
   "outputs": [],
   "source": [
    "data2 = []\n",
    "for y in ys:\n",
    "    row = []\n",
    "    for x in xs:\n",
    "        row.append(mandel1(complex(x, y)))\n",
    "    data2.append(row)"
   ]
  },
  {
   "cell_type": "code",
   "execution_count": 45,
   "metadata": {
    "tags": [
     "raises-exception"
    ]
   },
   "outputs": [
    {
     "ename": "TypeError",
     "evalue": "unsupported operand type(s) for -: 'list' and 'list'",
     "output_type": "error",
     "traceback": [
      "\u001b[0;31m---------------------------------------------------------------------------\u001b[0m",
      "\u001b[0;31mTypeError\u001b[0m                                 Traceback (most recent call last)",
      "\u001b[0;32m<ipython-input-45-b9ae9db328ea>\u001b[0m in \u001b[0;36m<module>\u001b[0;34m\u001b[0m\n\u001b[0;32m----> 1\u001b[0;31m \u001b[0mdata2\u001b[0m \u001b[0;34m-\u001b[0m \u001b[0mdata1\u001b[0m\u001b[0;34m\u001b[0m\u001b[0;34m\u001b[0m\u001b[0m\n\u001b[0m",
      "\u001b[0;31mTypeError\u001b[0m: unsupported operand type(s) for -: 'list' and 'list'"
     ]
    }
   ],
   "source": [
    "data2 - data1"
   ]
  },
  {
   "cell_type": "markdown",
   "metadata": {},
   "source": [
    "So we have to convert to NumPy arrays explicitly:"
   ]
  },
  {
   "cell_type": "code",
   "execution_count": 46,
   "metadata": {},
   "outputs": [
    {
     "data": {
      "text/plain": [
       "0"
      ]
     },
     "execution_count": 46,
     "metadata": {},
     "output_type": "execute_result"
    }
   ],
   "source": [
    "sum(sum((np.array(data2) - np.array(data1)) ** 2))"
   ]
  },
  {
   "cell_type": "markdown",
   "metadata": {},
   "source": [
    "NumPy provides some convenient assertions to help us write unit tests with NumPy arrays:"
   ]
  },
  {
   "cell_type": "code",
   "execution_count": 47,
   "metadata": {},
   "outputs": [
    {
     "data": {
      "text/plain": [
       "array([1.00000004e-05, 1.00000000e-03, 1.00000000e-01])"
      ]
     },
     "execution_count": 47,
     "metadata": {},
     "output_type": "execute_result"
    }
   ],
   "source": [
    "x = [1e-5, 1e-3, 1e-1]\n",
    "y = np.arccos(np.cos(x))\n",
    "y"
   ]
  },
  {
   "cell_type": "code",
   "execution_count": 48,
   "metadata": {},
   "outputs": [],
   "source": [
    "np.testing.assert_allclose(x, y, rtol=1e-6, atol=1e-20)"
   ]
  },
  {
   "cell_type": "code",
   "execution_count": 49,
   "metadata": {},
   "outputs": [],
   "source": [
    "np.testing.assert_allclose(data7, data1)"
   ]
  },
  {
   "cell_type": "markdown",
   "metadata": {},
   "source": [
    "## Arraywise operations are fast"
   ]
  },
  {
   "cell_type": "markdown",
   "metadata": {},
   "source": [
    "Note that we might worry that we carry on calculating the mandelbrot values for points that have already diverged."
   ]
  },
  {
   "cell_type": "code",
   "execution_count": 50,
   "metadata": {},
   "outputs": [],
   "source": [
    "def mandel6(position, limit=50):\n",
    "    value = np.zeros(position.shape) + position\n",
    "    calculating = np.ones(position.shape, dtype=\"bool\")\n",
    "    diverged_at_count = np.zeros(position.shape)\n",
    "    while limit > 0:\n",
    "        limit -= 1\n",
    "        value[calculating] = value[calculating] ** 2 + position[calculating]\n",
    "        diverging_now = np.zeros(position.shape, dtype=\"bool\")\n",
    "        diverging_now[calculating] = (\n",
    "            value[calculating] * np.conj(value[calculating]) > 4\n",
    "        )\n",
    "        calculating = np.logical_and(calculating, np.logical_not(diverging_now))\n",
    "        diverged_at_count[diverging_now] = limit\n",
    "\n",
    "    return diverged_at_count"
   ]
  },
  {
   "cell_type": "code",
   "execution_count": 51,
   "metadata": {},
   "outputs": [],
   "source": [
    "data8 = mandel6(values)"
   ]
  },
  {
   "cell_type": "code",
   "execution_count": 52,
   "metadata": {},
   "outputs": [
    {
     "name": "stdout",
     "output_type": "stream",
     "text": [
      "38.9 ms ± 3.03 ms per loop (mean ± std. dev. of 7 runs, 10 loops each)\n"
     ]
    }
   ],
   "source": [
    "%%timeit\n",
    "\n",
    "data8 = mandel6(values)"
   ]
  },
  {
   "cell_type": "code",
   "execution_count": 53,
   "metadata": {},
   "outputs": [
    {
     "data": {
      "text/plain": [
       "<matplotlib.image.AxesImage at 0x7fd989dafa10>"
      ]
     },
     "execution_count": 53,
     "metadata": {},
     "output_type": "execute_result"
    },
    {
     "data": {
      "image/png": "[encoded data removed]",
      "text/plain": [
       "<Figure size 432x288 with 1 Axes>"
      ]
     },
     "metadata": {
      "needs_background": "light"
     },
     "output_type": "display_data"
    }
   ],
   "source": [
    "plt.imshow(data8, interpolation=\"none\", extent=[xmin, xmax, ymin, ymax])"
   ]
  },
  {
   "cell_type": "markdown",
   "metadata": {},
   "source": [
    "This was **not faster** even though it was **doing less work**"
   ]
  },
  {
   "cell_type": "markdown",
   "metadata": {},
   "source": [
    "This often happens: on modern computers, **branches** (if statements, function calls) and **memory access** is usually the rate-determining step, not maths."
   ]
  },
  {
   "cell_type": "markdown",
   "metadata": {},
   "source": [
    "Complicating your logic to avoid calculations sometimes therefore slows you down. The only way to know is to **measure**"
   ]
  },
  {
   "cell_type": "markdown",
   "metadata": {},
   "source": [
    "## Indexing with arrays"
   ]
  },
  {
   "cell_type": "markdown",
   "metadata": {},
   "source": [
    "We've been using Boolean arrays a lot to get access to some elements of an array. We can also do this with integers, as well as lists of integers:"
   ]
  },
  {
   "cell_type": "code",
   "execution_count": 54,
   "metadata": {},
   "outputs": [
    {
     "data": {
      "text/plain": [
       "array([24, 25, 26, 27, 28, 29, 30, 31])"
      ]
     },
     "execution_count": 54,
     "metadata": {},
     "output_type": "execute_result"
    }
   ],
   "source": [
    "x = np.arange(64)\n",
    "y = x.reshape([8, 8])\n",
    "y[3]"
   ]
  },
  {
   "cell_type": "code",
   "execution_count": 55,
   "metadata": {},
   "outputs": [
    {
     "data": {
      "text/plain": [
       "array([[16, 17, 18, 19, 20, 21, 22, 23],\n",
       "       [40, 41, 42, 43, 44, 45, 46, 47]])"
      ]
     },
     "execution_count": 55,
     "metadata": {},
     "output_type": "execute_result"
    }
   ],
   "source": [
    "y[[2, 5]]"
   ]
  },
  {
   "cell_type": "code",
   "execution_count": 56,
   "metadata": {},
   "outputs": [
    {
     "data": {
      "text/plain": [
       "array([ 1, 18, 47])"
      ]
     },
     "execution_count": 56,
     "metadata": {},
     "output_type": "execute_result"
    }
   ],
   "source": [
    "y[[0, 2, 5], [1, 2, 7]]"
   ]
  },
  {
   "cell_type": "markdown",
   "metadata": {},
   "source": [
    "We can use a : to indicate we want all the values from a particular axis:"
   ]
  },
  {
   "cell_type": "code",
   "execution_count": 57,
   "metadata": {},
   "outputs": [
    {
     "data": {
      "text/plain": [
       "array([[ 0,  2],\n",
       "       [16, 18]])"
      ]
     },
     "execution_count": 57,
     "metadata": {},
     "output_type": "execute_result"
    }
   ],
   "source": [
    "y[0:4:2, [0, 2]]"
   ]
  },
  {
   "cell_type": "markdown",
   "metadata": {},
   "source": [
    "We can mix array selectors, boolean selectors, :s and ordinary array seqeuencers:"
   ]
  },
  {
   "cell_type": "code",
   "execution_count": 58,
   "metadata": {},
   "outputs": [
    {
     "data": {
      "text/plain": [
       "array([[[ 0,  1,  2,  3],\n",
       "        [ 4,  5,  6,  7],\n",
       "        [ 8,  9, 10, 11],\n",
       "        [12, 13, 14, 15]],\n",
       "\n",
       "       [[16, 17, 18, 19],\n",
       "        [20, 21, 22, 23],\n",
       "        [24, 25, 26, 27],\n",
       "        [28, 29, 30, 31]],\n",
       "\n",
       "       [[32, 33, 34, 35],\n",
       "        [36, 37, 38, 39],\n",
       "        [40, 41, 42, 43],\n",
       "        [44, 45, 46, 47]],\n",
       "\n",
       "       [[48, 49, 50, 51],\n",
       "        [52, 53, 54, 55],\n",
       "        [56, 57, 58, 59],\n",
       "        [60, 61, 62, 63]]])"
      ]
     },
     "execution_count": 58,
     "metadata": {},
     "output_type": "execute_result"
    }
   ],
   "source": [
    "z = x.reshape([4, 4, 4])\n",
    "z"
   ]
  },
  {
   "cell_type": "code",
   "execution_count": 59,
   "metadata": {},
   "outputs": [
    {
     "data": {
      "text/plain": [
       "array([[[ 4,  5,  6],\n",
       "        [12, 13, 14]],\n",
       "\n",
       "       [[20, 21, 22],\n",
       "        [28, 29, 30]],\n",
       "\n",
       "       [[36, 37, 38],\n",
       "        [44, 45, 46]],\n",
       "\n",
       "       [[52, 53, 54],\n",
       "        [60, 61, 62]]])"
      ]
     },
     "execution_count": 59,
     "metadata": {},
     "output_type": "execute_result"
    }
   ],
   "source": [
    "z[:, [1, 3], 0:3]"
   ]
  },
  {
   "cell_type": "markdown",
   "metadata": {},
   "source": [
    "We can manipulate shapes by adding new indices in selectors with np.newaxis:"
   ]
  },
  {
   "cell_type": "code",
   "execution_count": 60,
   "metadata": {},
   "outputs": [
    {
     "data": {
      "text/plain": [
       "(4, 1, 2)"
      ]
     },
     "execution_count": 60,
     "metadata": {},
     "output_type": "execute_result"
    }
   ],
   "source": [
    "z[:, np.newaxis, [1, 3], 0].shape"
   ]
  },
  {
   "cell_type": "markdown",
   "metadata": {},
   "source": [
    "When we use basic indexing with integers and : expressions, we get a **view** on the matrix so a copy is avoided:"
   ]
  },
  {
   "cell_type": "code",
   "execution_count": 61,
   "metadata": {},
   "outputs": [
    {
     "data": {
      "text/plain": [
       "array([[[   0,    1, -500,    3],\n",
       "        [   4,    5,    6,    7],\n",
       "        [   8,    9,   10,   11],\n",
       "        [  12,   13,   14,   15]],\n",
       "\n",
       "       [[  16,   17,   18,   19],\n",
       "        [  20,   21,   22,   23],\n",
       "        [  24,   25,   26,   27],\n",
       "        [  28,   29,   30,   31]],\n",
       "\n",
       "       [[  32,   33,   34,   35],\n",
       "        [  36,   37,   38,   39],\n",
       "        [  40,   41,   42,   43],\n",
       "        [  44,   45,   46,   47]],\n",
       "\n",
       "       [[  48,   49,   50,   51],\n",
       "        [  52,   53,   54,   55],\n",
       "        [  56,   57,   58,   59],\n",
       "        [  60,   61,   62,   63]]])"
      ]
     },
     "execution_count": 61,
     "metadata": {},
     "output_type": "execute_result"
    }
   ],
   "source": [
    "a = z[:, :, 2]\n",
    "a[0, 0] = -500\n",
    "z"
   ]
  },
  {
   "cell_type": "markdown",
   "metadata": {},
   "source": [
    "We can also use ... to specify \": for as many as possible intervening axes\":"
   ]
  },
  {
   "cell_type": "code",
   "execution_count": 62,
   "metadata": {},
   "outputs": [
    {
     "data": {
      "text/plain": [
       "array([[16, 17, 18, 19],\n",
       "       [20, 21, 22, 23],\n",
       "       [24, 25, 26, 27],\n",
       "       [28, 29, 30, 31]])"
      ]
     },
     "execution_count": 62,
     "metadata": {},
     "output_type": "execute_result"
    }
   ],
   "source": [
    "z[1]"
   ]
  },
  {
   "cell_type": "code",
   "execution_count": 63,
   "metadata": {},
   "outputs": [
    {
     "data": {
      "text/plain": [
       "array([[-500,    6,   10,   14],\n",
       "       [  18,   22,   26,   30],\n",
       "       [  34,   38,   42,   46],\n",
       "       [  50,   54,   58,   62]])"
      ]
     },
     "execution_count": 63,
     "metadata": {},
     "output_type": "execute_result"
    }
   ],
   "source": [
    "z[..., 2]"
   ]
  },
  {
   "cell_type": "markdown",
   "metadata": {},
   "source": [
    "However, boolean mask indexing and array filter indexing always causes a copy."
   ]
  },
  {
   "cell_type": "markdown",
   "metadata": {},
   "source": [
    "Let's try again at avoiding doing unnecessary work by using new arrays containing the reduced data instead of a mask:"
   ]
  },
  {
   "cell_type": "code",
   "execution_count": 64,
   "metadata": {},
   "outputs": [],
   "source": [
    "def mandel7(position, limit=50):\n",
    "    positions = np.zeros(position.shape) + position\n",
    "    value = np.zeros(position.shape) + position\n",
    "    indices = np.mgrid[0 : values.shape[0], 0 : values.shape[1]]\n",
    "    diverged_at_count = np.zeros(position.shape)\n",
    "    while limit > 0:\n",
    "        limit -= 1\n",
    "        value = value ** 2 + positions\n",
    "        diverging_now = value * np.conj(value) > 4\n",
    "        diverging_now_indices = indices[:, diverging_now]\n",
    "        carry_on = np.logical_not(diverging_now)\n",
    "\n",
    "        value = value[carry_on]\n",
    "        indices = indices[:, carry_on]\n",
    "        positions = positions[carry_on]\n",
    "        diverged_at_count[\n",
    "            diverging_now_indices[0, :], diverging_now_indices[1, :]\n",
    "        ] = limit\n",
    "\n",
    "    return diverged_at_count"
   ]
  },
  {
   "cell_type": "code",
   "execution_count": 65,
   "metadata": {},
   "outputs": [],
   "source": [
    "data9 = mandel7(values)"
   ]
  },
  {
   "cell_type": "code",
   "execution_count": 66,
   "metadata": {},
   "outputs": [
    {
     "data": {
      "text/plain": [
       "<matplotlib.image.AxesImage at 0x117544c90>"
      ]
     },
     "execution_count": 66,
     "metadata": {},
     "output_type": "execute_result"
    },
    {
     "data": {
      "image/png": "[encoded data removed]",
      "text/plain": [
       "<Figure size 432x288 with 1 Axes>"
      ]
     },
     "metadata": {
      "needs_background": "light"
     },
     "output_type": "display_data"
    }
   ],
   "source": [
    "plt.imshow(data9, interpolation=\"none\", extent=[xmin, xmax, ymin, ymax])"
   ]
  },
  {
   "cell_type": "code",
   "execution_count": 67,
   "metadata": {},
   "outputs": [
    {
     "name": "stdout",
     "output_type": "stream",
     "text": [
      "58.1 ms ± 2.24 ms per loop (mean ± std. dev. of 7 runs, 10 loops each)\n"
     ]
    }
   ],
   "source": [
    "%%timeit\n",
    "\n",
    "data9 = mandel7(values)"
   ]
  },
  {
   "cell_type": "markdown",
   "metadata": {},
   "source": [
    "Still slower. Probably due to lots of copies -- the point here is that you need to *experiment* to see which optimisations will work. Performance programming needs to be empirical."
   ]
  },
  {
   "cell_type": "markdown",
   "metadata": {},
   "source": [
    "## Profiling"
   ]
  },
  {
   "cell_type": "markdown",
   "metadata": {},
   "source": [
    "We've seen how to compare different functions by the time they take to run. However, we haven't obtained much information about where the code is spending more time. For that we need to use a profiler. IPython offers a profiler through the `%prun` magic. Let's use it to see how it works:"
   ]
  },
  {
   "cell_type": "code",
   "execution_count": 68,
   "metadata": {},
   "outputs": [
    {
     "name": "stdout",
     "output_type": "stream",
     "text": [
      " "
     ]
    }
   ],
   "source": [
    "%prun mandel7(values)"
   ]
  },
  {
   "cell_type": "markdown",
   "metadata": {},
   "source": [
    "`%prun` shows a line per each function call ordered by the total time spent on each of these. However, sometimes a line-by-line output may be more helpful. For that we can use the `line_profiler` package (you need to install it using `pip`). Once installed you can activate it in any notebook by running:"
   ]
  },
  {
   "cell_type": "code",
   "execution_count": 69,
   "metadata": {},
   "outputs": [],
   "source": [
    "%load_ext line_profiler"
   ]
  },
  {
   "cell_type": "markdown",
   "metadata": {},
   "source": [
    "And the `%lprun` magic should be now available:"
   ]
  },
  {
   "cell_type": "code",
   "execution_count": 70,
   "metadata": {},
   "outputs": [],
   "source": [
    "%lprun -f mandel7 mandel7(values)"
   ]
  },
  {
   "cell_type": "markdown",
   "metadata": {},
   "source": [
    "Here, it is clearer to see which operations are keeping the code busy."
   ]
  }
 ],
 "metadata": {
  "hide_input": false,
  "jekyll": {
   "display_name": "NumPy"
  },
  "kernelspec": {
   "display_name": "Python 3",
   "language": "python",
   "name": "python3"
  },
  "language_info": {
   "codemirror_mode": {
    "name": "ipython",
    "version": 3
   },
   "file_extension": ".py",
   "mimetype": "text/x-python",
   "name": "python",
   "nbconvert_exporter": "python",
   "pygments_lexer": "ipython3",
   "version": "3.8.13"
  }
 },
 "nbformat": 4,
 "nbformat_minor": 1
}
