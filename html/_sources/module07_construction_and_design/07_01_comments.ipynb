{
 "cells": [
  {
   "cell_type": "markdown",
   "metadata": {},
   "source": [
    "# 7.1 Comments"
   ]
  },
  {
   "cell_type": "markdown",
   "metadata": {},
   "source": [
    "*Estimated time for this notebook: 15 minutes*"
   ]
  },
  {
   "cell_type": "markdown",
   "metadata": {},
   "source": [
    "## Why comment?"
   ]
  },
  {
   "cell_type": "markdown",
   "metadata": {},
   "source": [
    "\n",
    "* You're writing code for people, as well as computers.\n",
    "* Comments can help you build code, by representing your design\n",
    "* Comments explain subtleties in the code which are not obvious from the syntax\n",
    "* Comments explain *why* you wrote the code the way you did"
   ]
  },
  {
   "cell_type": "markdown",
   "metadata": {},
   "source": [
    "## The Pseudocode Programming Process"
   ]
  },
  {
   "cell_type": "markdown",
   "metadata": {},
   "source": [
    "Start by writing a program in all comments:"
   ]
  },
  {
   "cell_type": "code",
   "execution_count": 1,
   "metadata": {},
   "outputs": [],
   "source": [
    "# To find the largest element in an array\n",
    "# Set up a variable to track the largest so far\n",
    "# Loop over every element\n",
    "    # For each element, is it bigger than the previous biggest?\n",
    "    # If so, it's the new biggest\n",
    "# At the end, the biggest so far, is the biggest overall"
   ]
  },
  {
   "cell_type": "markdown",
   "metadata": {},
   "source": [
    "One by one, replace these with the equivalent in code"
   ]
  },
  {
   "cell_type": "code",
   "execution_count": 2,
   "metadata": {},
   "outputs": [],
   "source": [
    "# To find the largest element in an array\n",
    "def largest(data):\n",
    "    # Set up a variable to track the largest so far\n",
    "    biggest_so_far = 0\n",
    "    # Loop over every element\n",
    "    for datum in data:\n",
    "        # For each element, is it bigger than the previous biggest?\n",
    "        if datum > biggest_so_far:\n",
    "            # If so, it's the new biggest\n",
    "            biggest_so_far = datum\n",
    "    # At the end, the biggest so far, is the biggest overall\n",
    "    return biggest_so_far"
   ]
  },
  {
   "cell_type": "code",
   "execution_count": 3,
   "metadata": {},
   "outputs": [
    {
     "data": {
      "text/plain": [
       "6"
      ]
     },
     "execution_count": 3,
     "metadata": {},
     "output_type": "execute_result"
    }
   ],
   "source": [
    "largest([0,1,3,6,2,5,3])"
   ]
  },
  {
   "cell_type": "markdown",
   "metadata": {},
   "source": [
    "Then, remove only those comments that are now extraneous (see below for examples of extraneous comments)"
   ]
  },
  {
   "cell_type": "code",
   "execution_count": 4,
   "metadata": {},
   "outputs": [],
   "source": [
    "# To find the largest element in an array\n",
    "def largest(data):\n",
    "    # Set up a variable to track the largest so far\n",
    "    biggest_so_far = 0\n",
    "    for datum in data:\n",
    "        # For each element, is it bigger than the previous biggest?\n",
    "        # If so, it's the new biggest\n",
    "        if datum > biggest_so_far:\n",
    "            biggest_so_far = datum\n",
    "    return biggest_so_far"
   ]
  },
  {
   "cell_type": "markdown",
   "metadata": {},
   "source": [
    "## Who are you writing for?\n",
    "\n",
    "* By far the most likely person who will read your code/comments is yourself, maybe in a week's time, or maybe in six months time.\n",
    "* Second most likely person in most cases, is someone in your team, or someone else who will probably have a roughly similar level of expertise, and be trying to do a similar thing.\n",
    "* Write comments with this in mind - try to help the person reading the code to understand _what_ you did and _why_."
   ]
  },
  {
   "cell_type": "markdown",
   "metadata": {},
   "source": [
    "## Prefer \"in language\" comments to comments proper, if we can"
   ]
  },
  {
   "cell_type": "markdown",
   "metadata": {},
   "source": [
    "_More_ comments doesn't necessarily mean _better_ - here are some examples of comments that don't really help the reader understand the code any better. If we can, it's nice to find ways to put our description of what the code does *inside* the code, instead of as comments. Then, when the code changes, the 'comments' stay in sync, beause they're part of the code.\n",
    "\n",
    "For example, we can use a variable name or a function name, to hold what would have been in a comment. Here, instead of a comment and a one-word function name, we've made a longer function name.\n",
    "\n",
    "```python\n",
    "def largest_element_in_array(data):\n",
    "    # Set up a variable to track the largest so far\n",
    "    biggest_so_far = 0\n",
    "    for datum in data:\n",
    "        # For each element, is it bigger than the previous biggest?\n",
    "        # If so, it's the new biggest\n",
    "        if datum > biggest_so_far:\n",
    "            biggest_so_far = datum\n",
    "    return biggest_so_far\n",
    "```"
   ]
  },
  {
   "cell_type": "markdown",
   "metadata": {},
   "source": [
    "## Comments which are obvious"
   ]
  },
  {
   "cell_type": "markdown",
   "metadata": {},
   "source": [
    "Try to use comments to explain why the code does, not just repeat the code in a comment.\n",
    "\n",
    "```python\n",
    "counter = counter + 1  # Increment the counter\n",
    "for element in array:  # Loop over elements\n",
    "    pass\n",
    "```"
   ]
  },
  {
   "cell_type": "markdown",
   "metadata": {},
   "source": [
    "## Comments which could be replaced by better style"
   ]
  },
  {
   "cell_type": "markdown",
   "metadata": {},
   "source": [
    "The following piece of code could be a part of a game to move a turtle in a certain direction, with a particular angular velocity and step size.\n",
    "\n",
    "```python\n",
    "for i in range(len(agt)):  # for each agent\n",
    "    agt[i].theta += ws[i]  # Increment the angle of each agent\n",
    "    # by its angular velocity\n",
    "    agt[i].x += r * sin(agt[i].theta)  # Move the agent by the step-size\n",
    "    agt[i].y += r * cos(agt[i].theta)  # r in the direction indicated\n",
    "```\n",
    "\n",
    "we have used comments to make the code readable.\n",
    "\n",
    "\n",
    "Why not make the code readable instead?\n",
    "\n",
    "```python\n",
    "for agent in agents:\n",
    "    agent.turn()\n",
    "    agent.move()\n",
    "\n",
    "\n",
    "class Agent:\n",
    "    def turn(self):\n",
    "        self.direction += self.angular_velocity\n",
    "\n",
    "    def move(self):\n",
    "        self.x += Agent.step_length * sin(self.direction)\n",
    "        self.y += Agent.step_length * cos(self.direction)\n",
    "```\n",
    "\n",
    "This is probably better. We are using the name of the functions (_i.e._ `turn`, `move`) instead of comments. Therefore, we've got _self-documenting_ code.\n"
   ]
  },
  {
   "cell_type": "markdown",
   "metadata": {},
   "source": [
    "## Comments which belong in an issue tracker\n",
    "\n",
    "```python\n",
    "x.clear()  # Code crashes here sometimes\n",
    "\n",
    "\n",
    "class Agent:\n",
    "    pass\n",
    "    # TODO: Implement pretty-printer method\n",
    "```\n",
    "\n",
    "BUT comments that reference issues in the tracker can be good.\n",
    "\n",
    "E.g.\n",
    "\n",
    "```python\n",
    "if x.safe_to_clear():  # Guard added as temporary workaround for #32\n",
    "    x.clear()\n",
    "```\n",
    "\n",
    "is OK. And platforms like GitHub will create a link to it when browsing the code."
   ]
  },
  {
   "cell_type": "markdown",
   "metadata": {},
   "source": [
    "## Comments which only make sense to the author today\n",
    "\n",
    "```python\n",
    "agent.turn()  # Turtle Power!\n",
    "agent.move()\n",
    "agents[:] = []  # Shredder!\n",
    "```"
   ]
  },
  {
   "cell_type": "markdown",
   "metadata": {},
   "source": [
    "## Comments which are unpublishable\n",
    "\n",
    "```python\n",
    "# Stupid supervisor made me write this code\n",
    "# So I did it while very very drunk.\n",
    "```"
   ]
  },
  {
   "cell_type": "markdown",
   "metadata": {},
   "source": [
    "## Good commenting: pedagogical comments"
   ]
  },
  {
   "cell_type": "markdown",
   "metadata": {},
   "source": [
    "\n",
    "Code that *is* good style, but you're not familiar with, or \n",
    "that colleagues might not be familiar with\n",
    "\n",
    "\n",
    "```python\n",
    "# This is how you define a decorator in python\n",
    "# See https://wiki.python.org/moin/PythonDecorators\n",
    "def double(decorated_function):\n",
    "    # Here, the result function forms a closure over\n",
    "    # the decorated function\n",
    "    def result_function(entry):\n",
    "        return decorated_function(decorated_function(entry))\n",
    "\n",
    "    # The returned result is a function\n",
    "    return result_function\n",
    "\n",
    "\n",
    "@double\n",
    "def try_me_twice():\n",
    "    pass\n",
    "```"
   ]
  },
  {
   "cell_type": "markdown",
   "metadata": {},
   "source": [
    "## Great commenting: reasons and definitions"
   ]
  },
  {
   "cell_type": "markdown",
   "metadata": {},
   "source": [
    "\n",
    "Comments which explain coding definitions or reasons for programming choices.\n",
    "\n",
    "```python\n",
    "def __init__(self):\n",
    "    self.angle = 0  # clockwise from +ve y-axis\n",
    "    nonzero_indices = []  # Use sparse model as memory constrained\n",
    "```"
   ]
  },
  {
   "cell_type": "markdown",
   "metadata": {},
   "source": [
    "## Are comments always helpful?"
   ]
  },
  {
   "cell_type": "markdown",
   "metadata": {},
   "source": [
    "Some authors argue that comments can be dangerous, as they can disincentivise \n",
    "us from trying harder to use variable names and function names to discribe the code:"
   ]
  },
  {
   "cell_type": "markdown",
   "metadata": {},
   "source": [
    "> The proper use of comments is to compensate for our failure to express yourself in code. Note that I used the word failure. I meant it. Comments are always failures.\n",
    "-- Robert Martin, Clean Code"
   ]
  },
  {
   "cell_type": "markdown",
   "metadata": {},
   "source": [
    "This is definitely taking things too far, but there's a little grain of truth in it: "
   ]
  }
 ],
 "metadata": {
  "jekyll": {
   "display_name": "Comments"
  },
  "kernelspec": {
   "display_name": "Python 3 (ipykernel)",
   "language": "python",
   "name": "python3"
  },
  "language_info": {
   "codemirror_mode": {
    "name": "ipython",
    "version": 3
   },
   "file_extension": ".py",
   "mimetype": "text/x-python",
   "name": "python",
   "nbconvert_exporter": "python",
   "pygments_lexer": "ipython3",
   "version": "3.9.9"
  }
 },
 "nbformat": 4,
 "nbformat_minor": 1
}
