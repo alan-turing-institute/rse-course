{
 "cells": [
  {
   "cell_type": "markdown",
   "id": "0be56307",
   "metadata": {},
   "source": [
    "# 7.3 Linting"
   ]
  },
  {
   "cell_type": "markdown",
   "id": "f006370a",
   "metadata": {},
   "source": [
    "*Estimated time for this notebook: 15 minutes*"
   ]
  },
  {
   "cell_type": "markdown",
   "id": "1efd9ac9",
   "metadata": {},
   "source": [
    "\n",
    "There are automated tools which enforce coding conventions and check for common mistakes. These are called *linters*.\n"
   ]
  },
  {
   "cell_type": "markdown",
   "id": "e7196699",
   "metadata": {},
   "source": [
    "Do not blindly believe all these automated tools! Style guides are **guides** not **rules**."
   ]
  },
  {
   "cell_type": "markdown",
   "id": "5efc3d72",
   "metadata": {},
   "source": [
    "## Linters Starter Pack\n",
    "\n",
    "A good starting point for any Python project is to use `flake8`, `black`, and `isort`. All three should improve the style and consistency of your code whilst requiring minimal setup, and generally they are not opinionated about the way your code is designed, only the way it is formatted and syntax or convention errors."
   ]
  },
  {
   "cell_type": "markdown",
   "id": "31d08b99",
   "metadata": {},
   "source": [
    "### [flake8](https://flake8.pycqa.org/en/latest/index.html)\n",
    "\n",
    "Combines two main tools:\n",
    "- [PyFlakes](https://github.com/PyCQA/pyflakes) - checks Python code for syntax errors\n",
    "- [pycodestyle](https://pycodestyle.pycqa.org/en/latest/) - checks whether Python code is compliant with PEP8 conventions\n",
    "\n",
    "`flake8` only checks code and flags any syntax/style errors, it does not attempt to fix them.\n",
    "\n",
    "For example, consider this piece of code:"
   ]
  },
  {
   "cell_type": "code",
   "execution_count": 1,
   "id": "0524fc64",
   "metadata": {},
   "outputs": [
    {
     "name": "stdout",
     "output_type": "stream",
     "text": [
      "Writing flake8_example.py\n"
     ]
    }
   ],
   "source": [
    "%%writefile flake8_example.py\n",
    "\n",
    "from constants import e\n",
    "\n",
    "def circumference(r):\n",
    "    return 2 * pi * r"
   ]
  },
  {
   "cell_type": "markdown",
   "id": "e0eceab5",
   "metadata": {},
   "source": [
    "Running `flake8` on it gives the following warnings:"
   ]
  },
  {
   "cell_type": "code",
   "execution_count": 2,
   "id": "3573a0a9",
   "metadata": {},
   "outputs": [
    {
     "name": "stdout",
     "output_type": "stream",
     "text": [
      "\u001b[1mflake8_example.py\u001b[m\u001b[36m:\u001b[m2\u001b[36m:\u001b[m1\u001b[36m:\u001b[m \u001b[1m\u001b[31mF401\u001b[m 'constants.e' imported but unused\r\n",
      "\u001b[1mflake8_example.py\u001b[m\u001b[36m:\u001b[m4\u001b[36m:\u001b[m1\u001b[36m:\u001b[m \u001b[1m\u001b[31mE302\u001b[m expected 2 blank lines, found 1\r\n",
      "\u001b[1mflake8_example.py\u001b[m\u001b[36m:\u001b[m5\u001b[36m:\u001b[m16\u001b[36m:\u001b[m \u001b[1m\u001b[31mF821\u001b[m undefined name 'pi'\r\n"
     ]
    }
   ],
   "source": [
    "! flake8 flake8_example.py"
   ]
  },
  {
   "cell_type": "markdown",
   "id": "2371d958",
   "metadata": {},
   "source": [
    "The first warning tells us we have imported a variable called `e` but not used it, and the last that we're trying to use a variable called `pi` but haven't defined it anywhere. The 2nd warning indicates that in the [PEP8](https://peps.python.org/pep-0008/#blank-lines) conventions there should be two blank lines before a function definition, but we only have 1.\n",
    "\n",
    "```{admonition} Running on multiple files\n",
    "All the examples here run a linter on a single file, but they can be run on all the files in a project at once as well (e.g. by just running `flake8` without a filename).\n",
    "```"
   ]
  },
  {
   "cell_type": "markdown",
   "id": "45246303",
   "metadata": {},
   "source": [
    "### [black](https://black.readthedocs.io/)\n",
    "\n",
    "A highly opinionated code formatter, which enforces control of minutiae details of your code.\n",
    "The name comes from a Henry Ford quote: \"Any customer can have a car painted any color that he wants, so long as it is black.\"\n",
    "\n",
    "For example, consider this piece of code:"
   ]
  },
  {
   "cell_type": "code",
   "execution_count": 3,
   "id": "5c06ecd6",
   "metadata": {},
   "outputs": [
    {
     "name": "stdout",
     "output_type": "stream",
     "text": [
      "Writing black_example.py\n"
     ]
    }
   ],
   "source": [
    "%%writefile black_example.py\n",
    "\n",
    "import numpy as np\n",
    "\n",
    "def my_complex_function(important_argument_1,important_argument_2,optional_argument_3 = 3,optional_argument_4 = 4):\n",
    "    return np.random.random()*important_argument_1*important_argument_2*optional_argument_3*optional_argument_4\n",
    "\n",
    "def hello(name,greet='Hello',end=\"!\"):\n",
    "    print(greet,    name,    end)"
   ]
  },
  {
   "cell_type": "code",
   "execution_count": 4,
   "id": "488aa584",
   "metadata": {},
   "outputs": [
    {
     "name": "stdout",
     "output_type": "stream",
     "text": [
      "\u001b[1mreformatted black_example.py\u001b[0m\r\n",
      "\r\n",
      "\u001b[1mAll done! ✨ 🍰 ✨\u001b[0m\r\n",
      "\u001b[34m\u001b[1m1 file \u001b[0m\u001b[1mreformatted\u001b[0m.\r\n"
     ]
    }
   ],
   "source": [
    "! black black_example.py"
   ]
  },
  {
   "cell_type": "markdown",
   "id": "ca49a3b0",
   "metadata": {},
   "source": [
    "After running `black` on the file its contents become:"
   ]
  },
  {
   "cell_type": "code",
   "execution_count": 5,
   "id": "f9f82b89",
   "metadata": {},
   "outputs": [
    {
     "name": "stdout",
     "output_type": "stream",
     "text": [
      "import numpy as np\r\n",
      "\r\n",
      "\r\n",
      "def my_complex_function(\r\n",
      "    important_argument_1,\r\n",
      "    important_argument_2,\r\n",
      "    optional_argument_3=3,\r\n",
      "    optional_argument_4=4,\r\n",
      "):\r\n",
      "    return (\r\n",
      "        np.random.random()\r\n",
      "        * important_argument_1\r\n",
      "        * important_argument_2\r\n",
      "        * optional_argument_3\r\n",
      "        * optional_argument_4\r\n",
      "    )\r\n",
      "\r\n",
      "\r\n",
      "def hello(name, greet=\"Hello\", end=\"!\"):\r\n",
      "    print(greet, name, end)\r\n"
     ]
    }
   ],
   "source": [
    "!cat black_example.py"
   ]
  },
  {
   "cell_type": "markdown",
   "id": "dba5d2d5",
   "metadata": {},
   "source": [
    "Changes made by `black`:\n",
    "- Ensured there are two blank lines before and after function definitions\n",
    "- Wrapped long lines intelligently\n",
    "- Removed excess whitespace (e.g. between the arguments in the print statement on the last line)\n",
    "- Used double quotes `\"` for all strings (rather than a mix of `'` and `\"`)\n",
    "\n",
    "Note that `black` will automatically fix most of the whitespace-related warnings picked up by `flake8` (but it would not fix the import or undefined name errors in the `flake8` example above)."
   ]
  },
  {
   "cell_type": "markdown",
   "id": "ddb71327",
   "metadata": {},
   "source": [
    "```{admonition} Line length\n",
    "`black` is not compliant with PEP8 in one way - by default it uses a maximum line length of 88 characters (PEP8 suggests 79 characters). [This is discussed in the black documentation](https://black.readthedocs.io/en/stable/the_black_code_style/current_style.html#line-length).\n",
    "```"
   ]
  },
  {
   "cell_type": "markdown",
   "id": "1f848e3e",
   "metadata": {},
   "source": [
    "### [isort](https://pycqa.github.io/isort/)\n",
    "\n",
    "\"Sorts\" imports alphabetically in groups in the following order:\n",
    "\n",
    "1. standard library imports (_e.g._ `import os`).\n",
    "1. third-party imports (_e.g._ `import pandas`).\n",
    "1. local application/library specific imports (_e.g._ `from .my_python_file import MyClass`).\n",
    "\n",
    "with a blank line between each group.\n",
    "\n",
    "For example, consider the following code:"
   ]
  },
  {
   "cell_type": "code",
   "execution_count": 6,
   "id": "1cedee79",
   "metadata": {},
   "outputs": [
    {
     "name": "stdout",
     "output_type": "stream",
     "text": [
      "Writing isort_example.py\n"
     ]
    }
   ],
   "source": [
    "%%writefile isort_example.py\n",
    "\n",
    "import pandas as pd\n",
    "import os\n",
    "from matplotlib import pyplot as plt\n",
    "import black_example\n",
    "import numpy as np\n",
    "import json"
   ]
  },
  {
   "cell_type": "code",
   "execution_count": 7,
   "id": "b3ab0c34",
   "metadata": {},
   "outputs": [
    {
     "name": "stdout",
     "output_type": "stream",
     "text": [
      "Fixing /home/runner/work/rse-course/rse-course/module07_construction_and_design/isort_example.py\r\n",
      "\u001b[0m"
     ]
    }
   ],
   "source": [
    "! isort isort_example.py"
   ]
  },
  {
   "cell_type": "markdown",
   "id": "64ad8b20",
   "metadata": {},
   "source": [
    "If we run isort it becomes:"
   ]
  },
  {
   "cell_type": "code",
   "execution_count": 8,
   "id": "9896e3e9",
   "metadata": {},
   "outputs": [
    {
     "name": "stdout",
     "output_type": "stream",
     "text": [
      "\r\n",
      "import json\r\n",
      "import os\r\n",
      "\r\n",
      "import numpy as np\r\n",
      "import pandas as pd\r\n",
      "from matplotlib import pyplot as plt\r\n",
      "\r\n",
      "import black_example\r\n"
     ]
    }
   ],
   "source": [
    "!cat isort_example.py"
   ]
  },
  {
   "cell_type": "markdown",
   "id": "aa1a8e76",
   "metadata": {},
   "source": [
    "Note that `from` imports are placed at the bottom of each group."
   ]
  },
  {
   "cell_type": "markdown",
   "id": "cdea7cc3",
   "metadata": {},
   "source": [
    "## Other Linters"
   ]
  },
  {
   "cell_type": "markdown",
   "id": "439705de",
   "metadata": {},
   "source": [
    "### [mypy](https://mypy.readthedocs.io/en/stable/)\n",
    "\n",
    "If you use type annotations in your code, `mypy` can check it for errors that may result from variables being assigned the wrong type.\n",
    "For example, consider the following code:"
   ]
  },
  {
   "cell_type": "code",
   "execution_count": 9,
   "id": "09968531",
   "metadata": {},
   "outputs": [
    {
     "name": "stdout",
     "output_type": "stream",
     "text": [
      "Writing mypy_example.py\n"
     ]
    }
   ],
   "source": [
    "%%writefile mypy_example.py\n",
    "\n",
    "def hello(name: str, greet: str = \"Hello\", rep: int = 1) -> str:\n",
    "    message: str = \"\"\n",
    "    for _ in range(rep):\n",
    "        message += f\"{greet} {name}\\n\"\n",
    "    return message\n",
    "\n",
    "\n",
    "print(hello(\"Bob\", 5))"
   ]
  },
  {
   "cell_type": "markdown",
   "id": "c94eb933",
   "metadata": {},
   "source": [
    "If we run `mypy` on it:"
   ]
  },
  {
   "cell_type": "code",
   "execution_count": 10,
   "id": "60643d81",
   "metadata": {},
   "outputs": [
    {
     "name": "stdout",
     "output_type": "stream",
     "text": [
      "mypy_example.py:9: \u001b[1m\u001b[31merror:\u001b[m Argument 2 to \u001b[m\u001b[1m\"hello\"\u001b[m has incompatible type \u001b[m\u001b[1m\"int\"\u001b[m; expected \u001b[m\u001b[1m\"str\"\u001b[m\u001b[m\r\n",
      "\u001b[1m\u001b[31mFound 1 error in 1 file (checked 1 source file)\u001b[m\r\n"
     ]
    }
   ],
   "source": [
    "! mypy mypy_example.py"
   ]
  },
  {
   "cell_type": "markdown",
   "id": "01d4e096",
   "metadata": {},
   "source": [
    "The error tells us we have passed an `int` as the 2nd argument to `hello`, but in the function definition the second argument (`greet`) is defined to be a `str`. We probably meant to write `hello(\"Bob\", rep=5)`."
   ]
  },
  {
   "cell_type": "markdown",
   "id": "3f2cca6e",
   "metadata": {},
   "source": [
    "### [pylint](https://www.pylint.org/)\n",
    "\n",
    "`pylint` analyses your code for errors, coding standards, and makes suggestions around where code could be refactored. It checks for a much wider range of code quality issues than `flake8` but is also much more likely to pick up _false positives_, i.e. `pylint` is more likely to give you warnings about things you don't want to change.\n",
    "\n",
    "Let's run it on the file we used for a `flake8` example earlier:\n",
    "\n",
    "```python\n",
    "from constants import e\n",
    "\n",
    "def circumference(r):\n",
    "    return 2 * pi * r\n",
    "```"
   ]
  },
  {
   "cell_type": "code",
   "execution_count": 11,
   "id": "ffe75875",
   "metadata": {},
   "outputs": [
    {
     "name": "stdout",
     "output_type": "stream",
     "text": [
      "Writing pylint_example.py\n"
     ]
    }
   ],
   "source": [
    "%%writefile pylint_example.py\n",
    "\n",
    "from constants import e\n",
    "\n",
    "def circumference(r):\n",
    "    return 2 * pi * r"
   ]
  },
  {
   "cell_type": "code",
   "execution_count": 12,
   "id": "da0a7e69",
   "metadata": {},
   "outputs": [
    {
     "name": "stdout",
     "output_type": "stream",
     "text": [
      "************* Module pylint_example\n",
      "pylint_example.py:1:0: C0114: Missing module docstring (missing-module-docstring)\n",
      "pylint_example.py:2:0: E0401: Unable to import 'constants' (import-error)\n",
      "pylint_example.py:4:0: C0116: Missing function or method docstring (missing-function-docstring)\n",
      "pylint_example.py:4:18: C0103: Argument name \"r\" doesn't conform to snake_case naming style (invalid-name)\n",
      "pylint_example.py:5:15: E0602: Undefined variable 'pi' (undefined-variable)\n",
      "pylint_example.py:2:0: W0611: Unused e imported from constants (unused-import)\n",
      "\n",
      "------------------------------------------------------------------\n",
      "Your code has been rated at 0.00/10 (previous run: 0.00/10, +0.00)\n",
      "\n",
      "\u001b[0m"
     ]
    }
   ],
   "source": [
    "! pylint pylint_example.py"
   ]
  },
  {
   "cell_type": "markdown",
   "id": "5bd36b62",
   "metadata": {},
   "source": [
    "Compared to `flake8`, in this case `pylint` also warns us that:\n",
    "- The `circumference` function doesn't have a docstring\n",
    "- The `constants` library we try to import is not available on our system\n",
    "- The variable name `r` doesn't follow conventions (single letter variables are discouraged by convention, we could use `radius` instead)"
   ]
  },
  {
   "cell_type": "markdown",
   "id": "af56ba94",
   "metadata": {},
   "source": [
    "### [nbqa](https://nbqa.readthedocs.io/en/latest/index.html)\n",
    "\n",
    "`nbqa` allows you to run many Python quality tools (including all the ones we've introduced here) on jupyter notebooks. For example:"
   ]
  },
  {
   "cell_type": "code",
   "execution_count": 13,
   "id": "68501e5f",
   "metadata": {},
   "outputs": [
    {
     "name": "stdout",
     "output_type": "stream",
     "text": [
      "07_02_coding_conventions.ipynb:cell_5:1:1: F811 redefinition of unused 'ClassName' from line 10\r\n"
     ]
    }
   ],
   "source": [
    "! nbqa flake8 07_02_coding_conventions.ipynb"
   ]
  },
  {
   "cell_type": "markdown",
   "id": "e3f4bba1",
   "metadata": {},
   "source": [
    "### [pylama](https://klen.github.io/pylama/)\n",
    "\n",
    "`pylama` wraps many code quality tools (including `isort`, `mypy`, `pylint` and much of `flake8`) in a single command."
   ]
  },
  {
   "cell_type": "code",
   "execution_count": 14,
   "id": "3eeb1ba8",
   "metadata": {},
   "outputs": [
    {
     "name": "stdout",
     "output_type": "stream",
     "text": [
      "ERROR: /home/runner/work/rse-course/rse-course/module07_construction_and_design/flake8_example.py Imports are incorrectly sorted and/or formatted.\n",
      "flake8_example.py:0:1  Incorrectly sorted imports. [isort]\n",
      "flake8_example.py:1:1 C0114 Missing module docstring [pylint]\n",
      "flake8_example.py:1:1 D100 Missing docstring in public module [pydocstyle]\n",
      "flake8_example.py:2:1  Cannot find implementation or library stub for module named \"constants\" [mypy]\n",
      "flake8_example.py:2:1  See https://mypy.readthedocs.io/en/stable/running_mypy.html#missing-imports [mypy]\n",
      "flake8_example.py:2:1 E0401 Unable to import 'constants' [pylint]\n",
      "flake8_example.py:2:1 W0611 Unused e imported from constants [pylint]\n",
      "flake8_example.py:4:1 C0116 Missing function or method docstring [pylint]\n",
      "flake8_example.py:4:19 C0103 Argument name \"r\" doesn't conform to snake_case naming style [pylint]\n",
      "flake8_example.py:4:1 D103 Missing docstring in public function [pydocstyle]\n",
      "flake8_example.py:4:1 E302 expected 2 blank lines, found 1 [pycodestyle]\n",
      "flake8_example.py:5:16 E0602 Undefined variable 'pi' [pylint]\n",
      "\u001b[0m"
     ]
    }
   ],
   "source": [
    "! pylama --linters isort,mccabe,mypy,pycodestyle,pydocstyle,pyflakes,pylint flake8_example.py"
   ]
  },
  {
   "cell_type": "markdown",
   "id": "88b896bc",
   "metadata": {},
   "source": [
    "## Setup"
   ]
  },
  {
   "cell_type": "markdown",
   "id": "aef9ef94",
   "metadata": {},
   "source": [
    "### Compatibility between linters\n",
    "\n",
    "If you're using multiple linters in your project you may need to configure them to be compatible with each other. For example, `flake8` warns about lines longer than 79 characters (the PEP8 convention) but `black` will allow lines up to 88 characters by default.\n",
    "\n",
    "[This repository](https://github.com/alan-turing-institute/Python-quality-tools) has an example setup for using `black`, `isort`, and `flake8` together. The `.flake8` and `pyproject.toml` configuration files set `flake8` and `isort` to run in modes compatible with `black`."
   ]
  },
  {
   "cell_type": "markdown",
   "id": "476025dc",
   "metadata": {},
   "source": [
    "### Ignoring lines of code or linting rules\n",
    "\n",
    "There will be times where a linter warns you about something in your code but there's a valid reason it's structured that way and you don't want to change it. Most linters can be configured to ignore specific warnings, either by the type of warning, by file, or by individual code line. For example, adding a `# noqa` comment to a line will make `flake8` ignore it.\n",
    "\n",
    "Each linter does this differently so check their documentation (e.g. [flake8](https://flake8.pycqa.org/en/3.1.1/user/ignoring-errors.html), [isort](https://pycqa.github.io/isort/docs/configuration/options.html), [mypy](https://mypy.readthedocs.io/en/stable/config_file.html), [pylint](https://pylint.pycqa.org/en/latest/user_guide/messages/message_control.html))."
   ]
  },
  {
   "cell_type": "markdown",
   "id": "c6d5525f",
   "metadata": {},
   "source": [
    "### Running Linters\n",
    "\n",
    "It's a good idea to run linters regularly, or even better to have them setup to run automatically so you don't have to remember. There are various tools to help with that:\n"
   ]
  },
  {
   "cell_type": "markdown",
   "id": "3f2dcd6d",
   "metadata": {},
   "source": [
    "#### IDE Integration\n",
    "\n",
    "Many editors/IDEs have integrations with common linters or have their own built-in. This can include highlighting problems inline, or automatically running linters when files are saved, for example. Here is the [VS Code documentation for linting in Python](https://code.visualstudio.com/docs/python/linting).\n",
    "\n",
    "There are also tools like [editorconfig](https://editorconfig.org/) to help sharing the conventions used within a project, where each contributor uses different IDEs and tools."
   ]
  },
  {
   "cell_type": "markdown",
   "id": "b7a4f039",
   "metadata": {},
   "source": [
    "#### [pre-commit](https://pre-commit.com/) \n",
    "\n",
    "pre-commit is a manager for creating git \"hooks\" - scripts that run before making a commit. If a hook errors the commit won't be made, and you'll be prompted to fix the problems first. There are `pre-commit` plugins for all the linters discussed here, and it's a good way to ensure all code committed to your repo has had a level of quality control applied to it."
   ]
  },
  {
   "cell_type": "markdown",
   "id": "1ca2f056",
   "metadata": {},
   "source": [
    "#### Continuous Integration\n",
    "\n",
    "As well as automating unit tests on a CI system like GitHub Actions it's a good idea to configure them to run linters on your code too.\n",
    "\n",
    "[Here is an example](https://github.com/alan-turing-institute/AIrsenal/blob/main/.github/workflows/main.yml) from a repo using `isort`, `flake8` and `black` in a GitHub Action. Note that in a CI setup tools that usually change your code, like `black` and `isort`, will be configured to only check whether there are changes that need to be made."
   ]
  }
 ],
 "metadata": {
  "kernelspec": {
   "display_name": "Python 3 (ipykernel)",
   "language": "python",
   "name": "python3"
  },
  "language_info": {
   "codemirror_mode": {
    "name": "ipython",
    "version": 3
   },
   "file_extension": ".py",
   "mimetype": "text/x-python",
   "name": "python",
   "nbconvert_exporter": "python",
   "pygments_lexer": "ipython3",
   "version": "3.8.12"
  }
 },
 "nbformat": 4,
 "nbformat_minor": 5
}
