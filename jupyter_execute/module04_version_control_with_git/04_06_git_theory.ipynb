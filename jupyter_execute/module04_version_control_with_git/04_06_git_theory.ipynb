{
 "cells": [
  {
   "cell_type": "markdown",
   "metadata": {},
   "source": [
    "# 4.6 Git Theory"
   ]
  },
  {
   "cell_type": "markdown",
   "metadata": {},
   "source": [
    "*Estimated time to complete this notebook: 5 minutes*"
   ]
  },
  {
   "cell_type": "markdown",
   "metadata": {},
   "source": [
    "\n",
    "## The revision Graph\n",
    "\n",
    "Revisions form a **GRAPH**"
   ]
  },
  {
   "cell_type": "code",
   "execution_count": 1,
   "metadata": {},
   "outputs": [],
   "source": [
    "import os\n",
    "\n",
    "top_dir = os.getcwd()\n",
    "git_dir = os.path.join(top_dir, \"learning_git\")\n",
    "working_dir = os.path.join(git_dir, \"git_example\")\n",
    "os.chdir(working_dir)"
   ]
  },
  {
   "cell_type": "code",
   "execution_count": 2,
   "metadata": {},
   "outputs": [
    {
     "name": "stdout",
     "output_type": "stream",
     "text": [
      "*   642ed81 Merge branch 'main' of github.com:alan-turing-institute/github-example\n"
     ]
    },
    {
     "name": "stdout",
     "output_type": "stream",
     "text": [
      "|\\  \n"
     ]
    },
    {
     "name": "stdout",
     "output_type": "stream",
     "text": [
      "| * 7d4ef0f Add another Beacon\n"
     ]
    },
    {
     "name": "stdout",
     "output_type": "stream",
     "text": [
      "* | 2e57dce Add Glyder\n"
     ]
    },
    {
     "name": "stdout",
     "output_type": "stream",
     "text": [
      "|/  \n"
     ]
    },
    {
     "name": "stdout",
     "output_type": "stream",
     "text": [
      "*   d48912f Merge branch 'main' of github.com:alan-turing-institute/github-example\n"
     ]
    },
    {
     "name": "stdout",
     "output_type": "stream",
     "text": [
      "|\\  \n"
     ]
    },
    {
     "name": "stdout",
     "output_type": "stream",
     "text": [
      "| * c8aa27a Add a beacon\n"
     ]
    },
    {
     "name": "stdout",
     "output_type": "stream",
     "text": [
      "* | 44511e5 Translating from the Welsh\n"
     ]
    },
    {
     "name": "stdout",
     "output_type": "stream",
     "text": [
      "|/  \n"
     ]
    },
    {
     "name": "stdout",
     "output_type": "stream",
     "text": [
      "*   f2c78bc Merge branch 'main' of github.com:alan-turing-institute/github-example\n"
     ]
    },
    {
     "name": "stdout",
     "output_type": "stream",
     "text": [
      "|\\  \n"
     ]
    },
    {
     "name": "stdout",
     "output_type": "stream",
     "text": [
      "| * 16dedd8 Add Scotland\n"
     ]
    },
    {
     "name": "stdout",
     "output_type": "stream",
     "text": [
      "* | deebc2c Add wales\n"
     ]
    },
    {
     "name": "stdout",
     "output_type": "stream",
     "text": [
      "|/  \n"
     ]
    },
    {
     "name": "stdout",
     "output_type": "stream",
     "text": [
      "* 33838d0 Add Helvellyn\n"
     ]
    },
    {
     "name": "stdout",
     "output_type": "stream",
     "text": [
      "* 6d1767e Include lakes in the scope\n"
     ]
    },
    {
     "name": "stdout",
     "output_type": "stream",
     "text": [
      "* 9e83861 Add lakeland\n"
     ]
    },
    {
     "name": "stdout",
     "output_type": "stream",
     "text": [
      "* 0ba4bdc Revert \"Add a lie about a mountain\"\n"
     ]
    },
    {
     "name": "stdout",
     "output_type": "stream",
     "text": [
      "* abd52d1 Change title\n"
     ]
    },
    {
     "name": "stdout",
     "output_type": "stream",
     "text": [
      "* 01b0b62 Add a lie about a mountain\n"
     ]
    },
    {
     "name": "stdout",
     "output_type": "stream",
     "text": [
      "* ce596a0 First commit of discourse on UK topography\n"
     ]
    }
   ],
   "source": [
    "%%bash\n",
    "git log --graph --oneline"
   ]
  },
  {
   "cell_type": "markdown",
   "metadata": {},
   "source": [
    "## Git concepts\n",
    "\n",
    "* Each revision has a parent that it is based on\n",
    "* These revisions form a graph\n",
    "* Each revision has a unique hash code\n",
    "  * In Sue's copy, revision 43 is ab3578d6\n",
    "  * Jim might think that is revision 38, but it's still ab3579d6\n",
    "* Branches, tags, and HEAD are *labels* pointing at revisions\n",
    "* Some operations (like fast forward merges) just move labels."
   ]
  },
  {
   "cell_type": "markdown",
   "metadata": {},
   "source": [
    "## The levels of Git"
   ]
  },
  {
   "cell_type": "markdown",
   "metadata": {},
   "source": [
    "There are four **Separate** levels a change can reach in git:"
   ]
  },
  {
   "cell_type": "markdown",
   "metadata": {},
   "source": [
    "* The Working Copy\n",
    "* The **index** (aka **staging area**)\n",
    "* The local repository\n",
    "* The remote repository"
   ]
  },
  {
   "cell_type": "markdown",
   "metadata": {},
   "source": [
    "Understanding all the things `git reset` can do requires a good\n",
    "grasp of git theory."
   ]
  },
  {
   "cell_type": "markdown",
   "metadata": {
    "collapsed": true
   },
   "source": [
    "* `git reset <commit> <filename>` : Reset index and working version of that file to the version in a given commit\n",
    "* `git reset --soft <commit>`: Move local repository branch label to that commit, leave working dir and index unchanged\n",
    "* `git reset <commit>`: Move local repository and index to commit (\"--mixed\")\n",
    "* `git reset --hard <commit>`: Move local repostiory, index, and working directory copy to that state"
   ]
  }
 ],
 "metadata": {
  "jekyll": {
   "display_name": "Git Theory"
  },
  "kernelspec": {
   "display_name": "Python 3 (ipykernel)",
   "language": "python",
   "name": "python3"
  },
  "language_info": {
   "codemirror_mode": {
    "name": "ipython",
    "version": 3
   },
   "file_extension": ".py",
   "mimetype": "text/x-python",
   "name": "python",
   "nbconvert_exporter": "python",
   "pygments_lexer": "ipython3",
   "version": "3.8.14"
  }
 },
 "nbformat": 4,
 "nbformat_minor": 1
}