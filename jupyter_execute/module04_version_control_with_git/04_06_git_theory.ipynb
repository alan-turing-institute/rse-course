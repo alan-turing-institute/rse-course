{
 "cells": [
  {
   "cell_type": "markdown",
   "metadata": {},
   "source": [
    "# Git Theory\n",
    "\n",
    "## The revision Graph\n",
    "\n",
    "Revisions form a **GRAPH**"
   ]
  },
  {
   "cell_type": "code",
   "execution_count": 1,
   "metadata": {},
   "outputs": [],
   "source": [
    "import os\n",
    "\n",
    "top_dir = os.getcwd()\n",
    "git_dir = os.path.join(top_dir, \"learning_git\")\n",
    "working_dir = os.path.join(git_dir, \"git_example\")\n",
    "os.chdir(working_dir)"
   ]
  },
  {
   "cell_type": "code",
   "execution_count": 2,
   "metadata": {},
   "outputs": [
    {
     "name": "stdout",
     "output_type": "stream",
     "text": [
      "*   b4dcbd8 Merge branch 'main' of github.com:alan-turing-institute/github-example\n"
     ]
    },
    {
     "name": "stdout",
     "output_type": "stream",
     "text": [
      "|\\  \n"
     ]
    },
    {
     "name": "stdout",
     "output_type": "stream",
     "text": [
      "| * 31de56e Add another Beacon\n"
     ]
    },
    {
     "name": "stdout",
     "output_type": "stream",
     "text": [
      "* | fc59a89 Add Glyder\n"
     ]
    },
    {
     "name": "stdout",
     "output_type": "stream",
     "text": [
      "|/  \n"
     ]
    },
    {
     "name": "stdout",
     "output_type": "stream",
     "text": [
      "*   0d6478d Merge branch 'main' of github.com:alan-turing-institute/github-example\n"
     ]
    },
    {
     "name": "stdout",
     "output_type": "stream",
     "text": [
      "|\\  \n"
     ]
    },
    {
     "name": "stdout",
     "output_type": "stream",
     "text": [
      "| * 6ed2c74 Add a beacon\n"
     ]
    },
    {
     "name": "stdout",
     "output_type": "stream",
     "text": [
      "* | bf5093e Translating from the Welsh\n"
     ]
    },
    {
     "name": "stdout",
     "output_type": "stream",
     "text": [
      "|/  \n"
     ]
    },
    {
     "name": "stdout",
     "output_type": "stream",
     "text": [
      "*   e0588f9 Merge branch 'main' of github.com:alan-turing-institute/github-example\n"
     ]
    },
    {
     "name": "stdout",
     "output_type": "stream",
     "text": [
      "|\\  \n"
     ]
    },
    {
     "name": "stdout",
     "output_type": "stream",
     "text": [
      "| * 00b8e0b Add Scotland\n"
     ]
    },
    {
     "name": "stdout",
     "output_type": "stream",
     "text": [
      "* | d4b6d36 Add wales\n"
     ]
    },
    {
     "name": "stdout",
     "output_type": "stream",
     "text": [
      "|/  \n"
     ]
    },
    {
     "name": "stdout",
     "output_type": "stream",
     "text": [
      "* 0707bb7 Add Helvellyn\n"
     ]
    },
    {
     "name": "stdout",
     "output_type": "stream",
     "text": [
      "* 085f4ae Include lakes in the scope\n"
     ]
    },
    {
     "name": "stdout",
     "output_type": "stream",
     "text": [
      "* f3bbd32 Add lakeland\n"
     ]
    },
    {
     "name": "stdout",
     "output_type": "stream",
     "text": [
      "* b39f181 Revert \"Add a lie about a mountain\"\n"
     ]
    },
    {
     "name": "stdout",
     "output_type": "stream",
     "text": [
      "* 4e47834 Change title\n"
     ]
    },
    {
     "name": "stdout",
     "output_type": "stream",
     "text": [
      "* 998f688 Add a lie about a mountain\n"
     ]
    },
    {
     "name": "stdout",
     "output_type": "stream",
     "text": [
      "* 25444a8 First commit of discourse on UK topography\n"
     ]
    }
   ],
   "source": [
    "%%bash\n",
    "git log --graph --oneline"
   ]
  },
  {
   "cell_type": "markdown",
   "metadata": {},
   "source": [
    "## Git concepts\n",
    "\n",
    "* Each revision has a parent that it is based on\n",
    "* These revisions form a graph\n",
    "* Each revision has a unique hash code\n",
    "  * In Sue's copy, revision 43 is ab3578d6\n",
    "  * Jim might think that is revision 38, but it's still ab3579d6\n",
    "* Branches, tags, and HEAD are *labels* pointing at revisions\n",
    "* Some operations (like fast forward merges) just move labels."
   ]
  },
  {
   "cell_type": "markdown",
   "metadata": {},
   "source": [
    "## The levels of Git"
   ]
  },
  {
   "cell_type": "markdown",
   "metadata": {},
   "source": [
    "There are four **Separate** levels a change can reach in git:"
   ]
  },
  {
   "cell_type": "markdown",
   "metadata": {},
   "source": [
    "* The Working Copy\n",
    "* The **index** (aka **staging area**)\n",
    "* The local repository\n",
    "* The remote repository"
   ]
  },
  {
   "cell_type": "markdown",
   "metadata": {},
   "source": [
    "Understanding all the things `git reset` can do requires a good\n",
    "grasp of git theory."
   ]
  },
  {
   "cell_type": "markdown",
   "metadata": {
    "collapsed": true
   },
   "source": [
    "* `git reset <commit> <filename>` : Reset index and working version of that file to the version in a given commit\n",
    "* `git reset --soft <commit>`: Move local repository branch label to that commit, leave working dir and index unchanged\n",
    "* `git reset <commit>`: Move local repository and index to commit (\"--mixed\")\n",
    "* `git reset --hard <commit>`: Move local repostiory, index, and working directory copy to that state"
   ]
  }
 ],
 "metadata": {
  "jekyll": {
   "display_name": "Git Theory"
  },
  "kernelspec": {
   "display_name": "Python 3 (ipykernel)",
   "language": "python",
   "name": "python3"
  },
  "language_info": {
   "codemirror_mode": {
    "name": "ipython",
    "version": 3
   },
   "file_extension": ".py",
   "mimetype": "text/x-python",
   "name": "python",
   "nbconvert_exporter": "python",
   "pygments_lexer": "ipython3",
   "version": "3.8.13"
  }
 },
 "nbformat": 4,
 "nbformat_minor": 1
}