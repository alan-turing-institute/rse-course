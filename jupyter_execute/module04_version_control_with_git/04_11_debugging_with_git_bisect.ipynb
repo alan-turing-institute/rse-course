{
 "cells": [
  {
   "cell_type": "markdown",
   "metadata": {},
   "source": [
    "# 4.11 Debugging With git bisect\n"
   ]
  },
  {
   "cell_type": "markdown",
   "metadata": {},
   "source": [
    "*Estimated time to complete this notebook: 5 minutes*"
   ]
  },
  {
   "cell_type": "markdown",
   "metadata": {},
   "source": [
    "You can use\n",
    "\n",
    "``` bash\n",
    "git bisect\n",
    "```\n",
    "\n",
    "to find out which commit caused a bug."
   ]
  },
  {
   "cell_type": "markdown",
   "metadata": {},
   "source": [
    "## An example repository\n",
    "\n",
    "In a nice open source example, I found an arbitrary exemplar on github"
   ]
  },
  {
   "cell_type": "code",
   "execution_count": 1,
   "metadata": {},
   "outputs": [],
   "source": [
    "import os\n",
    "\n",
    "top_dir = os.getcwd()\n",
    "git_dir = os.path.join(top_dir, \"learning_git\")\n",
    "os.chdir(git_dir)"
   ]
  },
  {
   "cell_type": "code",
   "execution_count": 2,
   "metadata": {},
   "outputs": [
    {
     "name": "stderr",
     "output_type": "stream",
     "text": [
      "Cloning into 'bisectdemo'...\n"
     ]
    }
   ],
   "source": [
    "%%bash\n",
    "rm -rf bisectdemo\n",
    "git clone https://github.com/shawnsi/bisectdemo.git"
   ]
  },
  {
   "cell_type": "code",
   "execution_count": 3,
   "metadata": {},
   "outputs": [],
   "source": [
    "bisect_dir = os.path.join(git_dir, \"bisectdemo\")\n",
    "os.chdir(bisect_dir)"
   ]
  },
  {
   "cell_type": "code",
   "execution_count": 4,
   "metadata": {
    "attributes": {
     "classes": [
      " bash"
     ],
     "id": ""
    }
   },
   "outputs": [
    {
     "name": "stdout",
     "output_type": "stream",
     "text": [
      "4\n"
     ]
    }
   ],
   "source": [
    "%%bash\n",
    "python squares.py 2 # 4"
   ]
  },
  {
   "cell_type": "markdown",
   "metadata": {},
   "source": [
    "This has been set up to break itself at a random commit, and leave you to use\n",
    "bisect to work out where it has broken:"
   ]
  },
  {
   "cell_type": "code",
   "execution_count": 5,
   "metadata": {
    "attributes": {
     "classes": [
      " bash"
     ],
     "id": ""
    }
   },
   "outputs": [
    {
     "name": "stderr",
     "output_type": "stream",
     "text": [
      "error: branch 'buggy' not found.\n"
     ]
    },
    {
     "name": "stderr",
     "output_type": "stream",
     "text": [
      "Switched to a new branch 'buggy'\n"
     ]
    }
   ],
   "source": [
    "%%bash\n",
    "./breakme.sh > break_output"
   ]
  },
  {
   "cell_type": "markdown",
   "metadata": {},
   "source": [
    "Which will make a bunch of commits, of which one is broken, and leave you in the broken final state"
   ]
  },
  {
   "cell_type": "code",
   "execution_count": 6,
   "metadata": {
    "tags": [
     "raises-exception"
    ]
   },
   "outputs": [
    {
     "ename": "SyntaxError",
     "evalue": "invalid syntax (2468026376.py, line 1)",
     "output_type": "error",
     "traceback": [
      "\u001b[0;36m  Cell \u001b[0;32mIn [6], line 1\u001b[0;36m\u001b[0m\n\u001b[0;31m    python squares.py 2 # Error message\u001b[0m\n\u001b[0m           ^\u001b[0m\n\u001b[0;31mSyntaxError\u001b[0m\u001b[0;31m:\u001b[0m invalid syntax\n"
     ]
    }
   ],
   "source": [
    "python squares.py 2 # Error message"
   ]
  },
  {
   "cell_type": "markdown",
   "metadata": {
    "collapsed": true
   },
   "source": [
    "## Bisecting manually"
   ]
  },
  {
   "cell_type": "code",
   "execution_count": 7,
   "metadata": {
    "attributes": {
     "classes": [
      " bash"
     ],
     "id": ""
    }
   },
   "outputs": [
    {
     "name": "stdout",
     "output_type": "stream",
     "text": [
      "status: waiting for both good and bad commits\n"
     ]
    },
    {
     "name": "stdout",
     "output_type": "stream",
     "text": [
      "status: waiting for good commit(s), bad commit known\n"
     ]
    },
    {
     "name": "stderr",
     "output_type": "stream",
     "text": [
      "Switched to branch 'master'\n"
     ]
    },
    {
     "name": "stdout",
     "output_type": "stream",
     "text": [
      "Your branch is up to date with 'origin/master'.\n"
     ]
    },
    {
     "name": "stdout",
     "output_type": "stream",
     "text": [
      "Bisecting: 500 revisions left to test after this (roughly 9 steps)\n"
     ]
    },
    {
     "name": "stdout",
     "output_type": "stream",
     "text": [
      "[17b56597c8652f091760068d019843352953b024] Comment 499\n"
     ]
    }
   ],
   "source": [
    "%%bash\n",
    "git bisect start\n",
    "git bisect bad # We know the current state is broken\n",
    "git checkout master\n",
    "git bisect good # We know the master branch state is OK"
   ]
  },
  {
   "cell_type": "markdown",
   "metadata": {},
   "source": [
    "Bisect needs one known good and one known bad commit to get started"
   ]
  },
  {
   "cell_type": "markdown",
   "metadata": {},
   "source": [
    "## Solving Manually"
   ]
  },
  {
   "cell_type": "markdown",
   "metadata": {
    "attributes": {
     "classes": [
      " bash"
     ],
     "id": ""
    },
    "collapsed": true
   },
   "source": [
    "``` bash\n",
    "python squares.py 2 # 4\n",
    "git bisect good\n",
    "python squares.py 2 # 4\n",
    "git bisect good\n",
    "python squares.py 2 # 4\n",
    "git bisect good\n",
    "python squares.py 2 # Crash\n",
    "git bisect bad\n",
    "python squares.py 2 # Crash\n",
    "git bisect bad\n",
    "python squares.py 2 # Crash\n",
    "git bisect bad\n",
    "python squares.py 2 #Crash\n",
    "git bisect bad\n",
    "python squares.py 2 # 4\n",
    "git bisect good\n",
    "python squares.py 2 # 4\n",
    "git bisect good\n",
    "python squares.py 2 # 4\n",
    "git bisect good\n",
    "```\n"
   ]
  },
  {
   "cell_type": "markdown",
   "metadata": {},
   "source": [
    "And eventually:"
   ]
  },
  {
   "cell_type": "markdown",
   "metadata": {
    "attributes": {
     "classes": [
      " bash"
     ],
     "id": ""
    },
    "collapsed": true
   },
   "source": [
    "``` bash\n",
    "git bisect good\n",
    "    Bisecting: 0 revisions left to test after this (roughly 0 steps)\n",
    "\n",
    "python squares.py 2\n",
    "    4\n",
    "\n",
    "git bisect good\n",
    "2777975a2334c2396ccb9faf98ab149824ec465b is the first bad commit\n",
    "commit 2777975a2334c2396ccb9faf98ab149824ec465b\n",
    "Author: Shawn Siefkas <shawn.siefkas@meredith.com>\n",
    "Date:   Thu Nov 14 09:23:55 2013 -0600\n",
    "\n",
    "    Breaking argument type\n",
    "\n",
    "```"
   ]
  },
  {
   "cell_type": "markdown",
   "metadata": {},
   "source": [
    "``` bash\n",
    "git bisect end\n",
    "```"
   ]
  },
  {
   "cell_type": "markdown",
   "metadata": {},
   "source": [
    "## Solving automatically\n",
    "\n",
    "If we have an appropriate unit test, we can do all this automatically:"
   ]
  },
  {
   "cell_type": "code",
   "execution_count": 8,
   "metadata": {
    "attributes": {
     "classes": [
      " bash"
     ],
     "id": ""
    }
   },
   "outputs": [
    {
     "name": "stderr",
     "output_type": "stream",
     "text": [
      "Previous HEAD position was 17b5659 Comment 499\n"
     ]
    },
    {
     "name": "stderr",
     "output_type": "stream",
     "text": [
      "Switched to branch 'buggy'\n"
     ]
    },
    {
     "name": "stdout",
     "output_type": "stream",
     "text": [
      "status: waiting for both good and bad commits\n"
     ]
    },
    {
     "name": "stdout",
     "output_type": "stream",
     "text": [
      "status: waiting for good commit(s), bad commit known\n"
     ]
    },
    {
     "name": "stdout",
     "output_type": "stream",
     "text": [
      "Bisecting: 500 revisions left to test after this (roughly 9 steps)\n"
     ]
    },
    {
     "name": "stdout",
     "output_type": "stream",
     "text": [
      "[17b56597c8652f091760068d019843352953b024] Comment 499\n"
     ]
    },
    {
     "name": "stdout",
     "output_type": "stream",
     "text": [
      "running  'python' 'squares.py' '2'\n"
     ]
    },
    {
     "name": "stderr",
     "output_type": "stream",
     "text": [
      "Traceback (most recent call last):\n"
     ]
    },
    {
     "name": "stderr",
     "output_type": "stream",
     "text": [
      "  File \"squares.py\", line 9, in <module>\n"
     ]
    },
    {
     "name": "stderr",
     "output_type": "stream",
     "text": [
      "    print(integer**2)\n"
     ]
    },
    {
     "name": "stderr",
     "output_type": "stream",
     "text": [
      "TypeError: unsupported operand type(s) for ** or pow(): 'str' and 'int'\n"
     ]
    },
    {
     "name": "stdout",
     "output_type": "stream",
     "text": [
      "Bisecting: 249 revisions left to test after this (roughly 8 steps)\n"
     ]
    },
    {
     "name": "stdout",
     "output_type": "stream",
     "text": [
      "[73142a2f0f2f9b0c21629da9866020eea994a8b1] Comment 249\n"
     ]
    },
    {
     "name": "stdout",
     "output_type": "stream",
     "text": [
      "running  'python' 'squares.py' '2'\n"
     ]
    },
    {
     "name": "stderr",
     "output_type": "stream",
     "text": [
      "Traceback (most recent call last):\n"
     ]
    },
    {
     "name": "stderr",
     "output_type": "stream",
     "text": [
      "  File \"squares.py\", line 9, in <module>\n"
     ]
    },
    {
     "name": "stderr",
     "output_type": "stream",
     "text": [
      "    print(integer**2)\n"
     ]
    },
    {
     "name": "stderr",
     "output_type": "stream",
     "text": [
      "TypeError: unsupported operand type(s) for ** or pow(): 'str' and 'int'\n"
     ]
    },
    {
     "name": "stdout",
     "output_type": "stream",
     "text": [
      "Bisecting: 124 revisions left to test after this (roughly 7 steps)\n"
     ]
    },
    {
     "name": "stdout",
     "output_type": "stream",
     "text": [
      "[b6c64ef62ac3ecb4c06f91465965d5938f839e11] Comment 125\n"
     ]
    },
    {
     "name": "stdout",
     "output_type": "stream",
     "text": [
      "running  'python' 'squares.py' '2'\n"
     ]
    },
    {
     "name": "stdout",
     "output_type": "stream",
     "text": [
      "4\n"
     ]
    },
    {
     "name": "stdout",
     "output_type": "stream",
     "text": [
      "Bisecting: 62 revisions left to test after this (roughly 6 steps)\n"
     ]
    },
    {
     "name": "stdout",
     "output_type": "stream",
     "text": [
      "[a17d50c9d5846d527b875ed78481b2edb3c8d796] Comment 186\n"
     ]
    },
    {
     "name": "stdout",
     "output_type": "stream",
     "text": [
      "running  'python' 'squares.py' '2'\n"
     ]
    },
    {
     "name": "stderr",
     "output_type": "stream",
     "text": [
      "Traceback (most recent call last):\n"
     ]
    },
    {
     "name": "stderr",
     "output_type": "stream",
     "text": [
      "  File \"squares.py\", line 9, in <module>\n"
     ]
    },
    {
     "name": "stderr",
     "output_type": "stream",
     "text": [
      "    print(integer**2)\n"
     ]
    },
    {
     "name": "stderr",
     "output_type": "stream",
     "text": [
      "TypeError: unsupported operand type(s) for ** or pow(): 'str' and 'int'\n"
     ]
    },
    {
     "name": "stdout",
     "output_type": "stream",
     "text": [
      "Bisecting: 30 revisions left to test after this (roughly 5 steps)\n"
     ]
    },
    {
     "name": "stdout",
     "output_type": "stream",
     "text": [
      "[d3fa423899e7f5d8e9035b2628d4ac696ce96e95] Comment 155\n"
     ]
    },
    {
     "name": "stdout",
     "output_type": "stream",
     "text": [
      "running  'python' 'squares.py' '2'\n"
     ]
    },
    {
     "name": "stderr",
     "output_type": "stream",
     "text": [
      "Traceback (most recent call last):\n"
     ]
    },
    {
     "name": "stderr",
     "output_type": "stream",
     "text": [
      "  File \"squares.py\", line 9, in <module>\n"
     ]
    },
    {
     "name": "stderr",
     "output_type": "stream",
     "text": [
      "    print(integer**2)\n"
     ]
    },
    {
     "name": "stderr",
     "output_type": "stream",
     "text": [
      "TypeError: unsupported operand type(s) for ** or pow(): 'str' and 'int'\n"
     ]
    },
    {
     "name": "stdout",
     "output_type": "stream",
     "text": [
      "Bisecting: 15 revisions left to test after this (roughly 4 steps)\n"
     ]
    },
    {
     "name": "stdout",
     "output_type": "stream",
     "text": [
      "[904cbd534e081f8d95a29afe279969379ee83a97] Comment 140\n"
     ]
    },
    {
     "name": "stdout",
     "output_type": "stream",
     "text": [
      "running  'python' 'squares.py' '2'\n"
     ]
    },
    {
     "name": "stdout",
     "output_type": "stream",
     "text": [
      "4\n"
     ]
    },
    {
     "name": "stdout",
     "output_type": "stream",
     "text": [
      "Bisecting: 7 revisions left to test after this (roughly 3 steps)\n"
     ]
    },
    {
     "name": "stdout",
     "output_type": "stream",
     "text": [
      "[17a63f3556aab8f8ccc30a540844a97515ae81ad] Comment 148\n"
     ]
    },
    {
     "name": "stdout",
     "output_type": "stream",
     "text": [
      "running  'python' 'squares.py' '2'\n"
     ]
    },
    {
     "name": "stdout",
     "output_type": "stream",
     "text": [
      "4\n"
     ]
    },
    {
     "name": "stdout",
     "output_type": "stream",
     "text": [
      "Bisecting: 3 revisions left to test after this (roughly 2 steps)\n"
     ]
    },
    {
     "name": "stdout",
     "output_type": "stream",
     "text": [
      "[0eb75e4ec45bdd676a826365857f32a1de0d07e8] Breaking argument type\n"
     ]
    },
    {
     "name": "stdout",
     "output_type": "stream",
     "text": [
      "running  'python' 'squares.py' '2'\n"
     ]
    },
    {
     "name": "stderr",
     "output_type": "stream",
     "text": [
      "Traceback (most recent call last):\n"
     ]
    },
    {
     "name": "stderr",
     "output_type": "stream",
     "text": [
      "  File \"squares.py\", line 9, in <module>\n"
     ]
    },
    {
     "name": "stderr",
     "output_type": "stream",
     "text": [
      "    print(integer**2)\n"
     ]
    },
    {
     "name": "stderr",
     "output_type": "stream",
     "text": [
      "TypeError: unsupported operand type(s) for ** or pow(): 'str' and 'int'\n"
     ]
    },
    {
     "name": "stdout",
     "output_type": "stream",
     "text": [
      "Bisecting: 1 revision left to test after this (roughly 1 step)\n"
     ]
    },
    {
     "name": "stdout",
     "output_type": "stream",
     "text": [
      "[bb1245d0632e21f950376a52ec747ff3d3a42932] Comment 150\n"
     ]
    },
    {
     "name": "stdout",
     "output_type": "stream",
     "text": [
      "running  'python' 'squares.py' '2'\n"
     ]
    },
    {
     "name": "stdout",
     "output_type": "stream",
     "text": [
      "4\n"
     ]
    },
    {
     "name": "stdout",
     "output_type": "stream",
     "text": [
      "Bisecting: 0 revisions left to test after this (roughly 0 steps)\n"
     ]
    },
    {
     "name": "stdout",
     "output_type": "stream",
     "text": [
      "[33b2d82cd1f3ad96e94fdfb18da2e4f5ed0d80cb] Comment 151\n"
     ]
    },
    {
     "name": "stdout",
     "output_type": "stream",
     "text": [
      "running  'python' 'squares.py' '2'\n"
     ]
    },
    {
     "name": "stdout",
     "output_type": "stream",
     "text": [
      "4\n"
     ]
    },
    {
     "name": "stdout",
     "output_type": "stream",
     "text": [
      "0eb75e4ec45bdd676a826365857f32a1de0d07e8 is the first bad commit\n"
     ]
    },
    {
     "name": "stdout",
     "output_type": "stream",
     "text": [
      "commit 0eb75e4ec45bdd676a826365857f32a1de0d07e8\n"
     ]
    },
    {
     "name": "stdout",
     "output_type": "stream",
     "text": [
      "Author: Shawn Siefkas <shawn.siefkas@meredith.com>\n"
     ]
    },
    {
     "name": "stdout",
     "output_type": "stream",
     "text": [
      "Date:   Thu Nov 14 09:23:55 2013 -0600\n"
     ]
    },
    {
     "name": "stdout",
     "output_type": "stream",
     "text": [
      "\n"
     ]
    },
    {
     "name": "stdout",
     "output_type": "stream",
     "text": [
      "    Breaking argument type\n"
     ]
    },
    {
     "name": "stdout",
     "output_type": "stream",
     "text": [
      "\n"
     ]
    },
    {
     "name": "stdout",
     "output_type": "stream",
     "text": [
      " squares.py | 2 +-\n"
     ]
    },
    {
     "name": "stdout",
     "output_type": "stream",
     "text": [
      " 1 file changed, 1 insertion(+), 1 deletion(-)\n"
     ]
    },
    {
     "name": "stdout",
     "output_type": "stream",
     "text": [
      "bisect found first bad commit"
     ]
    }
   ],
   "source": [
    "%%bash\n",
    "git bisect start\n",
    "git bisect bad HEAD # We know the current state is broken\n",
    "git bisect good master # We know master is good\n",
    "git bisect run python squares.py 2"
   ]
  },
  {
   "cell_type": "markdown",
   "metadata": {},
   "source": [
    "Boom!"
   ]
  }
 ],
 "metadata": {
  "jekyll": {
   "display_name": "Bisect"
  },
  "kernelspec": {
   "display_name": "Python 3 (ipykernel)",
   "language": "python",
   "name": "python3"
  },
  "language_info": {
   "codemirror_mode": {
    "name": "ipython",
    "version": 3
   },
   "file_extension": ".py",
   "mimetype": "text/x-python",
   "name": "python",
   "nbconvert_exporter": "python",
   "pygments_lexer": "ipython3",
   "version": "3.8.14"
  }
 },
 "nbformat": 4,
 "nbformat_minor": 1
}