{
 "cells": [
  {
   "cell_type": "markdown",
   "metadata": {},
   "source": [
    "# 4.4 Collaboration"
   ]
  },
  {
   "cell_type": "markdown",
   "metadata": {},
   "source": [
    "*Estimated time to complete this notebook: 20 minutes*"
   ]
  },
  {
   "cell_type": "markdown",
   "metadata": {},
   "source": [
    "## Form a team\n",
    "\n",
    "Now we're going to get to the most important question of all with Git and GitHub: working with others.\n",
    "\n",
    "Organise into pairs. You're going to be working on the website of one of the two of you, together, so decide who is going to be the leader, and who the collaborator."
   ]
  },
  {
   "cell_type": "markdown",
   "metadata": {},
   "source": [
    "## Giving permission\n",
    "\n",
    "The leader needs to let the collaborator have the right to make changes to his code.\n",
    "\n",
    "In GitHub, go to `Settings` on the right, then `Collaborators & teams` on the left.\n",
    "\n",
    "Add the user name of your collaborator to the box. They now have the right to push to your repository."
   ]
  },
  {
   "cell_type": "markdown",
   "metadata": {},
   "source": [
    "## Obtaining a colleague's code\n",
    "\n",
    "Next, the collaborator needs to get a copy of the leader's code. For this example notebook,\n",
    "I'm going to be collaborating with myself, swapping between my two repositories.\n",
    "Make yourself a space to put it your work. (I will have two)"
   ]
  },
  {
   "cell_type": "code",
   "execution_count": 1,
   "metadata": {},
   "outputs": [],
   "source": [
    "import os\n",
    "\n",
    "top_dir = os.getcwd()\n",
    "git_dir = os.path.join(top_dir, \"learning_git\")\n",
    "working_dir = os.path.join(git_dir, \"git_example\")\n",
    "os.chdir(git_dir)"
   ]
  },
  {
   "cell_type": "code",
   "execution_count": 2,
   "metadata": {},
   "outputs": [
    {
     "name": "stdout",
     "output_type": "stream",
     "text": [
      "/home/runner/work/rse-course/rse-course/module04_version_control_with_git/learning_git\n"
     ]
    }
   ],
   "source": [
    "%%bash\n",
    "pwd\n",
    "rm -rf github-example # cleanup after previous example\n",
    "rm -rf partner_dir # cleanup after previous example"
   ]
  },
  {
   "cell_type": "markdown",
   "metadata": {},
   "source": [
    "Next, the collaborator needs to find out the URL of the repository: they should go to the leader's repository's GitHub page, and note the URL on the top of the screen.\n",
    "\n",
    "As before, we're using `SSH` to connect - to do this you'll need to make sure the `ssh` button is pushed, and check that the URL begins with `git@github.com`.\n",
    "\n",
    "Copy the URL into your clipboard by clicking on the icon to the right of the URL, and then:"
   ]
  },
  {
   "cell_type": "code",
   "execution_count": 3,
   "metadata": {
    "attributes": {
     "classes": [
      " Bash"
     ],
     "id": ""
    }
   },
   "outputs": [
    {
     "name": "stdout",
     "output_type": "stream",
     "text": [
      "/home/runner/work/rse-course/rse-course/module04_version_control_with_git/learning_git\n"
     ]
    },
    {
     "name": "stderr",
     "output_type": "stream",
     "text": [
      "Cloning into 'partner_dir'...\n"
     ]
    }
   ],
   "source": [
    "%%bash\n",
    "pwd\n",
    "git clone git@github.com:alan-turing-institute/github-example.git partner_dir"
   ]
  },
  {
   "cell_type": "code",
   "execution_count": 4,
   "metadata": {},
   "outputs": [],
   "source": [
    "partner_dir = os.path.join(git_dir, \"partner_dir\")\n",
    "os.chdir(partner_dir)"
   ]
  },
  {
   "cell_type": "code",
   "execution_count": 5,
   "metadata": {},
   "outputs": [
    {
     "name": "stdout",
     "output_type": "stream",
     "text": [
      "/home/runner/work/rse-course/rse-course/module04_version_control_with_git/learning_git/partner_dir\n"
     ]
    },
    {
     "name": "stdout",
     "output_type": "stream",
     "text": [
      "lakeland.md\n"
     ]
    },
    {
     "name": "stdout",
     "output_type": "stream",
     "text": [
      "test.md\n"
     ]
    }
   ],
   "source": [
    "%%bash\n",
    "pwd\n",
    "ls"
   ]
  },
  {
   "cell_type": "markdown",
   "metadata": {},
   "source": [
    "Note that your partner's files are now present on your disk:"
   ]
  },
  {
   "cell_type": "code",
   "execution_count": 6,
   "metadata": {},
   "outputs": [
    {
     "name": "stdout",
     "output_type": "stream",
     "text": [
      "Lakeland\n"
     ]
    },
    {
     "name": "stdout",
     "output_type": "stream",
     "text": [
      "========\n"
     ]
    },
    {
     "name": "stdout",
     "output_type": "stream",
     "text": [
      "\n"
     ]
    },
    {
     "name": "stdout",
     "output_type": "stream",
     "text": [
      "Cumbria has some pretty hills, and lakes too\n"
     ]
    },
    {
     "name": "stdout",
     "output_type": "stream",
     "text": [
      "\n"
     ]
    },
    {
     "name": "stdout",
     "output_type": "stream",
     "text": [
      "Mountains:\n"
     ]
    },
    {
     "name": "stdout",
     "output_type": "stream",
     "text": [
      "* Helvellyn\n"
     ]
    }
   ],
   "source": [
    "%%bash\n",
    "cat lakeland.md"
   ]
  },
  {
   "cell_type": "markdown",
   "metadata": {},
   "source": [
    "## Nonconflicting changes\n",
    "\n",
    "Now, both of you should make some changes. To start with, make changes to *different* files. This will mean your work doesn't \"conflict\". Later, we'll see how to deal with changes to a shared file."
   ]
  },
  {
   "cell_type": "markdown",
   "metadata": {},
   "source": [
    "Both of you should commit, but not push, your changes to your respective files:"
   ]
  },
  {
   "cell_type": "markdown",
   "metadata": {},
   "source": [
    "E.g., the leader:"
   ]
  },
  {
   "cell_type": "code",
   "execution_count": 7,
   "metadata": {},
   "outputs": [],
   "source": [
    "os.chdir(working_dir)"
   ]
  },
  {
   "cell_type": "code",
   "execution_count": 8,
   "metadata": {},
   "outputs": [
    {
     "name": "stdout",
     "output_type": "stream",
     "text": [
      "Writing Wales.md\n"
     ]
    }
   ],
   "source": [
    "%%writefile Wales.md\n",
    "Mountains In Wales\n",
    "==================\n",
    "\n",
    "* Tryfan\n",
    "* Yr Wyddfa"
   ]
  },
  {
   "cell_type": "code",
   "execution_count": 9,
   "metadata": {},
   "outputs": [
    {
     "name": "stdout",
     "output_type": "stream",
     "text": [
      "Wales.md\n"
     ]
    },
    {
     "name": "stdout",
     "output_type": "stream",
     "text": [
      "__pycache__\n"
     ]
    },
    {
     "name": "stdout",
     "output_type": "stream",
     "text": [
      "lakeland.md\n"
     ]
    },
    {
     "name": "stdout",
     "output_type": "stream",
     "text": [
      "test.md\n"
     ]
    },
    {
     "name": "stdout",
     "output_type": "stream",
     "text": [
      "wsd.py\n"
     ]
    }
   ],
   "source": [
    "%%bash\n",
    "ls"
   ]
  },
  {
   "cell_type": "code",
   "execution_count": 10,
   "metadata": {},
   "outputs": [
    {
     "name": "stdout",
     "output_type": "stream",
     "text": [
      "[main 16f7517] Add wales\n"
     ]
    },
    {
     "name": "stdout",
     "output_type": "stream",
     "text": [
      " 1 file changed, 5 insertions(+)\n"
     ]
    },
    {
     "name": "stdout",
     "output_type": "stream",
     "text": [
      " create mode 100644 Wales.md\n"
     ]
    }
   ],
   "source": [
    "%%bash\n",
    "git add Wales.md\n",
    "git commit -m \"Add wales\""
   ]
  },
  {
   "cell_type": "markdown",
   "metadata": {},
   "source": [
    "And the partner:"
   ]
  },
  {
   "cell_type": "code",
   "execution_count": 11,
   "metadata": {},
   "outputs": [],
   "source": [
    "os.chdir(partner_dir)"
   ]
  },
  {
   "cell_type": "code",
   "execution_count": 12,
   "metadata": {},
   "outputs": [
    {
     "name": "stdout",
     "output_type": "stream",
     "text": [
      "Writing Scotland.md\n"
     ]
    }
   ],
   "source": [
    "%%writefile Scotland.md\n",
    "Mountains In Scotland\n",
    "==================\n",
    "\n",
    "* Ben Eighe\n",
    "* Cairngorm"
   ]
  },
  {
   "cell_type": "code",
   "execution_count": 13,
   "metadata": {},
   "outputs": [
    {
     "name": "stdout",
     "output_type": "stream",
     "text": [
      "Scotland.md\n"
     ]
    },
    {
     "name": "stdout",
     "output_type": "stream",
     "text": [
      "lakeland.md\n"
     ]
    },
    {
     "name": "stdout",
     "output_type": "stream",
     "text": [
      "test.md\n"
     ]
    }
   ],
   "source": [
    "%%bash\n",
    "ls"
   ]
  },
  {
   "cell_type": "code",
   "execution_count": 14,
   "metadata": {},
   "outputs": [
    {
     "name": "stdout",
     "output_type": "stream",
     "text": [
      "[main 7b72dce] Add Scotland\n"
     ]
    },
    {
     "name": "stdout",
     "output_type": "stream",
     "text": [
      " 1 file changed, 5 insertions(+)\n"
     ]
    },
    {
     "name": "stdout",
     "output_type": "stream",
     "text": [
      " create mode 100644 Scotland.md\n"
     ]
    }
   ],
   "source": [
    "%%bash\n",
    "git add Scotland.md\n",
    "git commit -m \"Add Scotland\""
   ]
  },
  {
   "cell_type": "markdown",
   "metadata": {},
   "source": [
    "One of you should now push with `git push`:"
   ]
  },
  {
   "cell_type": "code",
   "execution_count": 15,
   "metadata": {},
   "outputs": [
    {
     "name": "stderr",
     "output_type": "stream",
     "text": [
      "To github.com:alan-turing-institute/github-example.git\n"
     ]
    },
    {
     "name": "stderr",
     "output_type": "stream",
     "text": [
      "   ef29071..7b72dce  main -> main\n"
     ]
    }
   ],
   "source": [
    "%%bash\n",
    "git push"
   ]
  },
  {
   "cell_type": "markdown",
   "metadata": {},
   "source": [
    "## Rejected push"
   ]
  },
  {
   "cell_type": "markdown",
   "metadata": {},
   "source": [
    "The other should then attempt to push, but should receive an error message:"
   ]
  },
  {
   "cell_type": "code",
   "execution_count": 16,
   "metadata": {},
   "outputs": [],
   "source": [
    "os.chdir(working_dir)"
   ]
  },
  {
   "cell_type": "code",
   "execution_count": 17,
   "metadata": {},
   "outputs": [
    {
     "name": "stderr",
     "output_type": "stream",
     "text": [
      "To github.com:alan-turing-institute/github-example.git\n"
     ]
    },
    {
     "name": "stderr",
     "output_type": "stream",
     "text": [
      " ! [rejected]        main -> main (fetch first)\n"
     ]
    },
    {
     "name": "stderr",
     "output_type": "stream",
     "text": [
      "error: failed to push some refs to 'github.com:alan-turing-institute/github-example.git'\n"
     ]
    },
    {
     "name": "stderr",
     "output_type": "stream",
     "text": [
      "hint: Updates were rejected because the remote contains work that you do not\n"
     ]
    },
    {
     "name": "stderr",
     "output_type": "stream",
     "text": [
      "hint: have locally. This is usually caused by another repository pushing to\n"
     ]
    },
    {
     "name": "stderr",
     "output_type": "stream",
     "text": [
      "hint: the same ref. If you want to integrate the remote changes, use\n"
     ]
    },
    {
     "name": "stderr",
     "output_type": "stream",
     "text": [
      "hint: 'git pull' before pushing again.\n"
     ]
    },
    {
     "name": "stderr",
     "output_type": "stream",
     "text": [
      "hint: See the 'Note about fast-forwards' in 'git push --help' for details.\n"
     ]
    },
    {
     "name": "stdout",
     "output_type": "stream",
     "text": [
      "Push failed\n"
     ]
    }
   ],
   "source": [
    "%%bash\n",
    "git push || echo \"Push failed\""
   ]
  },
  {
   "cell_type": "markdown",
   "metadata": {},
   "source": [
    "Do as it suggests:"
   ]
  },
  {
   "cell_type": "code",
   "execution_count": 18,
   "metadata": {},
   "outputs": [
    {
     "name": "stderr",
     "output_type": "stream",
     "text": [
      "From github.com:alan-turing-institute/github-example\n"
     ]
    },
    {
     "name": "stderr",
     "output_type": "stream",
     "text": [
      "   ef29071..7b72dce  main       -> origin/main\n"
     ]
    },
    {
     "name": "stderr",
     "output_type": "stream",
     "text": [
      " * [new branch]      experiment -> origin/experiment\n"
     ]
    },
    {
     "name": "stdout",
     "output_type": "stream",
     "text": [
      "Merge made by the 'ort' strategy.\n"
     ]
    },
    {
     "name": "stdout",
     "output_type": "stream",
     "text": [
      " Scotland.md | 5 +++++\n"
     ]
    },
    {
     "name": "stdout",
     "output_type": "stream",
     "text": [
      " 1 file changed, 5 insertions(+)\n"
     ]
    },
    {
     "name": "stdout",
     "output_type": "stream",
     "text": [
      " create mode 100644 Scotland.md\n"
     ]
    }
   ],
   "source": [
    "%%bash\n",
    "git pull"
   ]
  },
  {
   "cell_type": "markdown",
   "metadata": {},
   "source": [
    "## Merge commits\n",
    "\n",
    "A window may pop up with a suggested default commit message. This commit is special: it is a *merge* commit. It is a commit which combines your collaborator's work with your own."
   ]
  },
  {
   "cell_type": "markdown",
   "metadata": {},
   "source": [
    "Now, push again with `git push`. This time it works. If you look on GitHub, you'll now see that it contains both sets of changes."
   ]
  },
  {
   "cell_type": "code",
   "execution_count": 19,
   "metadata": {},
   "outputs": [
    {
     "name": "stderr",
     "output_type": "stream",
     "text": [
      "To github.com:alan-turing-institute/github-example.git\n"
     ]
    },
    {
     "name": "stderr",
     "output_type": "stream",
     "text": [
      "   7b72dce..2ed3750  main -> main\n"
     ]
    }
   ],
   "source": [
    "%%bash\n",
    "git push"
   ]
  },
  {
   "cell_type": "markdown",
   "metadata": {},
   "source": [
    "The partner now needs to pull down that commit:"
   ]
  },
  {
   "cell_type": "code",
   "execution_count": 20,
   "metadata": {},
   "outputs": [],
   "source": [
    "os.chdir(partner_dir)"
   ]
  },
  {
   "cell_type": "code",
   "execution_count": 21,
   "metadata": {},
   "outputs": [
    {
     "name": "stderr",
     "output_type": "stream",
     "text": [
      "From github.com:alan-turing-institute/github-example\n"
     ]
    },
    {
     "name": "stderr",
     "output_type": "stream",
     "text": [
      "   7b72dce..2ed3750  main       -> origin/main\n"
     ]
    },
    {
     "name": "stdout",
     "output_type": "stream",
     "text": [
      "Updating 7b72dce..2ed3750\n"
     ]
    },
    {
     "name": "stdout",
     "output_type": "stream",
     "text": [
      "Fast-forward\n"
     ]
    },
    {
     "name": "stdout",
     "output_type": "stream",
     "text": [
      " Wales.md | 5 +++++\n"
     ]
    },
    {
     "name": "stdout",
     "output_type": "stream",
     "text": [
      " 1 file changed, 5 insertions(+)\n"
     ]
    },
    {
     "name": "stdout",
     "output_type": "stream",
     "text": [
      " create mode 100644 Wales.md\n"
     ]
    }
   ],
   "source": [
    "%%bash\n",
    "git pull"
   ]
  },
  {
   "cell_type": "code",
   "execution_count": 22,
   "metadata": {},
   "outputs": [
    {
     "name": "stdout",
     "output_type": "stream",
     "text": [
      "Scotland.md\n"
     ]
    },
    {
     "name": "stdout",
     "output_type": "stream",
     "text": [
      "Wales.md\n"
     ]
    },
    {
     "name": "stdout",
     "output_type": "stream",
     "text": [
      "lakeland.md\n"
     ]
    },
    {
     "name": "stdout",
     "output_type": "stream",
     "text": [
      "test.md\n"
     ]
    }
   ],
   "source": [
    "%%bash\n",
    "ls"
   ]
  },
  {
   "cell_type": "markdown",
   "metadata": {},
   "source": [
    "## Nonconflicted commits to the same file\n",
    "\n",
    "Go through the whole process again, but this time, both of you should make changes to a single file, but make sure that you don't touch the same *line*. Again, the merge should work as before:"
   ]
  },
  {
   "cell_type": "code",
   "execution_count": 23,
   "metadata": {},
   "outputs": [
    {
     "name": "stdout",
     "output_type": "stream",
     "text": [
      "Overwriting Wales.md\n"
     ]
    }
   ],
   "source": [
    "%%writefile Wales.md\n",
    "Mountains In Wales\n",
    "==================\n",
    "\n",
    "* Tryfan\n",
    "* Snowdon"
   ]
  },
  {
   "cell_type": "code",
   "execution_count": 24,
   "metadata": {},
   "outputs": [
    {
     "name": "stdout",
     "output_type": "stream",
     "text": [
      "diff --git a/Wales.md b/Wales.md\n"
     ]
    },
    {
     "name": "stdout",
     "output_type": "stream",
     "text": [
      "index f3e88b4..90f23ec 100644\n"
     ]
    },
    {
     "name": "stdout",
     "output_type": "stream",
     "text": [
      "--- a/Wales.md\n"
     ]
    },
    {
     "name": "stdout",
     "output_type": "stream",
     "text": [
      "+++ b/Wales.md\n"
     ]
    },
    {
     "name": "stdout",
     "output_type": "stream",
     "text": [
      "@@ -2,4 +2,4 @@ Mountains In Wales\n"
     ]
    },
    {
     "name": "stdout",
     "output_type": "stream",
     "text": [
      " ==================\n"
     ]
    },
    {
     "name": "stdout",
     "output_type": "stream",
     "text": [
      " \n"
     ]
    },
    {
     "name": "stdout",
     "output_type": "stream",
     "text": [
      " * Tryfan\n"
     ]
    },
    {
     "name": "stdout",
     "output_type": "stream",
     "text": [
      "-* Yr Wyddfa\n"
     ]
    },
    {
     "name": "stdout",
     "output_type": "stream",
     "text": [
      "+* Snowdon\n"
     ]
    }
   ],
   "source": [
    "%%bash\n",
    "git diff"
   ]
  },
  {
   "cell_type": "code",
   "execution_count": 25,
   "metadata": {},
   "outputs": [
    {
     "name": "stdout",
     "output_type": "stream",
     "text": [
      "[main e41e48f] Translating from the Welsh\n"
     ]
    },
    {
     "name": "stdout",
     "output_type": "stream",
     "text": [
      " 1 file changed, 1 insertion(+), 1 deletion(-)\n"
     ]
    }
   ],
   "source": [
    "%%bash\n",
    "git commit -am \"Translating from the Welsh\""
   ]
  },
  {
   "cell_type": "code",
   "execution_count": 26,
   "metadata": {},
   "outputs": [
    {
     "name": "stdout",
     "output_type": "stream",
     "text": [
      "e41e48f Translating from the Welsh\n"
     ]
    },
    {
     "name": "stdout",
     "output_type": "stream",
     "text": [
      "2ed3750 Merge branch 'main' of github.com:alan-turing-institute/github-example\n"
     ]
    },
    {
     "name": "stdout",
     "output_type": "stream",
     "text": [
      "16f7517 Add wales\n"
     ]
    },
    {
     "name": "stdout",
     "output_type": "stream",
     "text": [
      "7b72dce Add Scotland\n"
     ]
    },
    {
     "name": "stdout",
     "output_type": "stream",
     "text": [
      "ef29071 Add Helvellyn\n"
     ]
    },
    {
     "name": "stdout",
     "output_type": "stream",
     "text": [
      "9cba9c4 Include lakes in the scope\n"
     ]
    },
    {
     "name": "stdout",
     "output_type": "stream",
     "text": [
      "bd7c0f2 Add lakeland\n"
     ]
    },
    {
     "name": "stdout",
     "output_type": "stream",
     "text": [
      "43f3942 Revert \"Add a lie about a mountain\"\n"
     ]
    },
    {
     "name": "stdout",
     "output_type": "stream",
     "text": [
      "ee151c1 Change title\n"
     ]
    },
    {
     "name": "stdout",
     "output_type": "stream",
     "text": [
      "da208a3 Add a lie about a mountain\n"
     ]
    },
    {
     "name": "stdout",
     "output_type": "stream",
     "text": [
      "973ce32 First commit of discourse on UK topography\n"
     ]
    }
   ],
   "source": [
    "%%bash\n",
    "git log --oneline"
   ]
  },
  {
   "cell_type": "code",
   "execution_count": 27,
   "metadata": {},
   "outputs": [],
   "source": [
    "os.chdir(working_dir)"
   ]
  },
  {
   "cell_type": "code",
   "execution_count": 28,
   "metadata": {},
   "outputs": [
    {
     "name": "stdout",
     "output_type": "stream",
     "text": [
      "Overwriting Wales.md\n"
     ]
    }
   ],
   "source": [
    "%%writefile Wales.md\n",
    "Mountains In Wales\n",
    "==================\n",
    "\n",
    "* Pen y Fan\n",
    "* Tryfan\n",
    "* Yr Wyddfa"
   ]
  },
  {
   "cell_type": "code",
   "execution_count": 29,
   "metadata": {},
   "outputs": [
    {
     "name": "stdout",
     "output_type": "stream",
     "text": [
      "[main a0e175d] Add a beacon\n"
     ]
    },
    {
     "name": "stdout",
     "output_type": "stream",
     "text": [
      " 1 file changed, 1 insertion(+)\n"
     ]
    }
   ],
   "source": [
    "%%bash\n",
    "git commit -am \"Add a beacon\""
   ]
  },
  {
   "cell_type": "code",
   "execution_count": 30,
   "metadata": {},
   "outputs": [
    {
     "name": "stdout",
     "output_type": "stream",
     "text": [
      "a0e175d Add a beacon\n"
     ]
    },
    {
     "name": "stdout",
     "output_type": "stream",
     "text": [
      "2ed3750 Merge branch 'main' of github.com:alan-turing-institute/github-example\n"
     ]
    },
    {
     "name": "stdout",
     "output_type": "stream",
     "text": [
      "16f7517 Add wales\n"
     ]
    },
    {
     "name": "stdout",
     "output_type": "stream",
     "text": [
      "7b72dce Add Scotland\n"
     ]
    },
    {
     "name": "stdout",
     "output_type": "stream",
     "text": [
      "ef29071 Add Helvellyn\n"
     ]
    },
    {
     "name": "stdout",
     "output_type": "stream",
     "text": [
      "9cba9c4 Include lakes in the scope\n"
     ]
    },
    {
     "name": "stdout",
     "output_type": "stream",
     "text": [
      "bd7c0f2 Add lakeland\n"
     ]
    },
    {
     "name": "stdout",
     "output_type": "stream",
     "text": [
      "43f3942 Revert \"Add a lie about a mountain\"\n"
     ]
    },
    {
     "name": "stdout",
     "output_type": "stream",
     "text": [
      "ee151c1 Change title\n"
     ]
    },
    {
     "name": "stdout",
     "output_type": "stream",
     "text": [
      "da208a3 Add a lie about a mountain\n"
     ]
    },
    {
     "name": "stdout",
     "output_type": "stream",
     "text": [
      "973ce32 First commit of discourse on UK topography\n"
     ]
    }
   ],
   "source": [
    "%%bash\n",
    "git log --oneline"
   ]
  },
  {
   "cell_type": "code",
   "execution_count": 31,
   "metadata": {},
   "outputs": [
    {
     "name": "stderr",
     "output_type": "stream",
     "text": [
      "To github.com:alan-turing-institute/github-example.git\n"
     ]
    },
    {
     "name": "stderr",
     "output_type": "stream",
     "text": [
      "   2ed3750..a0e175d  main -> main\n"
     ]
    }
   ],
   "source": [
    "%%bash\n",
    "git push"
   ]
  },
  {
   "cell_type": "markdown",
   "metadata": {},
   "source": [
    "Switching back to the other partner..."
   ]
  },
  {
   "cell_type": "code",
   "execution_count": 32,
   "metadata": {},
   "outputs": [],
   "source": [
    "os.chdir(partner_dir)"
   ]
  },
  {
   "cell_type": "code",
   "execution_count": 33,
   "metadata": {},
   "outputs": [
    {
     "name": "stderr",
     "output_type": "stream",
     "text": [
      "To github.com:alan-turing-institute/github-example.git\n"
     ]
    },
    {
     "name": "stderr",
     "output_type": "stream",
     "text": [
      " ! [rejected]        main -> main (fetch first)\n"
     ]
    },
    {
     "name": "stderr",
     "output_type": "stream",
     "text": [
      "error: failed to push some refs to 'github.com:alan-turing-institute/github-example.git'\n"
     ]
    },
    {
     "name": "stderr",
     "output_type": "stream",
     "text": [
      "hint: Updates were rejected because the remote contains work that you do not\n"
     ]
    },
    {
     "name": "stderr",
     "output_type": "stream",
     "text": [
      "hint: have locally. This is usually caused by another repository pushing to\n"
     ]
    },
    {
     "name": "stderr",
     "output_type": "stream",
     "text": [
      "hint: the same ref. If you want to integrate the remote changes, use\n"
     ]
    },
    {
     "name": "stderr",
     "output_type": "stream",
     "text": [
      "hint: 'git pull' before pushing again.\n"
     ]
    },
    {
     "name": "stderr",
     "output_type": "stream",
     "text": [
      "hint: See the 'Note about fast-forwards' in 'git push --help' for details.\n"
     ]
    },
    {
     "name": "stdout",
     "output_type": "stream",
     "text": [
      "Push failed\n"
     ]
    }
   ],
   "source": [
    "%%bash\n",
    "git push || echo \"Push failed\""
   ]
  },
  {
   "cell_type": "code",
   "execution_count": 34,
   "metadata": {},
   "outputs": [
    {
     "name": "stderr",
     "output_type": "stream",
     "text": [
      "From github.com:alan-turing-institute/github-example\n"
     ]
    },
    {
     "name": "stderr",
     "output_type": "stream",
     "text": [
      "   2ed3750..a0e175d  main       -> origin/main\n"
     ]
    },
    {
     "name": "stdout",
     "output_type": "stream",
     "text": [
      "Auto-merging Wales.md\n"
     ]
    },
    {
     "name": "stdout",
     "output_type": "stream",
     "text": [
      "Merge made by the 'ort' strategy.\n"
     ]
    },
    {
     "name": "stdout",
     "output_type": "stream",
     "text": [
      " Wales.md | 1 +\n"
     ]
    },
    {
     "name": "stdout",
     "output_type": "stream",
     "text": [
      " 1 file changed, 1 insertion(+)\n"
     ]
    }
   ],
   "source": [
    "%%bash\n",
    "git pull"
   ]
  },
  {
   "cell_type": "code",
   "execution_count": 35,
   "metadata": {},
   "outputs": [
    {
     "name": "stderr",
     "output_type": "stream",
     "text": [
      "To github.com:alan-turing-institute/github-example.git\n"
     ]
    },
    {
     "name": "stderr",
     "output_type": "stream",
     "text": [
      "   a0e175d..7375d5c  main -> main\n"
     ]
    }
   ],
   "source": [
    "%%bash\n",
    "git push"
   ]
  },
  {
   "cell_type": "code",
   "execution_count": 36,
   "metadata": {},
   "outputs": [
    {
     "name": "stdout",
     "output_type": "stream",
     "text": [
      "*   7375d5c Merge branch 'main' of github.com:alan-turing-institute/github-example\n"
     ]
    },
    {
     "name": "stdout",
     "output_type": "stream",
     "text": [
      "|\\  \n"
     ]
    },
    {
     "name": "stdout",
     "output_type": "stream",
     "text": [
      "| * a0e175d Add a beacon\n"
     ]
    },
    {
     "name": "stdout",
     "output_type": "stream",
     "text": [
      "* | e41e48f Translating from the Welsh\n"
     ]
    },
    {
     "name": "stdout",
     "output_type": "stream",
     "text": [
      "|/  \n"
     ]
    },
    {
     "name": "stdout",
     "output_type": "stream",
     "text": [
      "*   2ed3750 Merge branch 'main' of github.com:alan-turing-institute/github-example\n"
     ]
    },
    {
     "name": "stdout",
     "output_type": "stream",
     "text": [
      "|\\  \n"
     ]
    },
    {
     "name": "stdout",
     "output_type": "stream",
     "text": [
      "| * 7b72dce Add Scotland\n"
     ]
    },
    {
     "name": "stdout",
     "output_type": "stream",
     "text": [
      "* | 16f7517 Add wales\n"
     ]
    },
    {
     "name": "stdout",
     "output_type": "stream",
     "text": [
      "|/  \n"
     ]
    },
    {
     "name": "stdout",
     "output_type": "stream",
     "text": [
      "* ef29071 Add Helvellyn\n"
     ]
    },
    {
     "name": "stdout",
     "output_type": "stream",
     "text": [
      "* 9cba9c4 Include lakes in the scope\n"
     ]
    },
    {
     "name": "stdout",
     "output_type": "stream",
     "text": [
      "* bd7c0f2 Add lakeland\n"
     ]
    },
    {
     "name": "stdout",
     "output_type": "stream",
     "text": [
      "* 43f3942 Revert \"Add a lie about a mountain\"\n"
     ]
    },
    {
     "name": "stdout",
     "output_type": "stream",
     "text": [
      "* ee151c1 Change title\n"
     ]
    },
    {
     "name": "stdout",
     "output_type": "stream",
     "text": [
      "* da208a3 Add a lie about a mountain\n"
     ]
    },
    {
     "name": "stdout",
     "output_type": "stream",
     "text": [
      "* 973ce32 First commit of discourse on UK topography\n"
     ]
    }
   ],
   "source": [
    "%%bash\n",
    "git log --oneline --graph"
   ]
  },
  {
   "cell_type": "code",
   "execution_count": 37,
   "metadata": {},
   "outputs": [],
   "source": [
    "os.chdir(working_dir)"
   ]
  },
  {
   "cell_type": "code",
   "execution_count": 38,
   "metadata": {},
   "outputs": [
    {
     "name": "stderr",
     "output_type": "stream",
     "text": [
      "From github.com:alan-turing-institute/github-example\n"
     ]
    },
    {
     "name": "stderr",
     "output_type": "stream",
     "text": [
      "   a0e175d..7375d5c  main       -> origin/main\n"
     ]
    },
    {
     "name": "stdout",
     "output_type": "stream",
     "text": [
      "Updating a0e175d..7375d5c\n"
     ]
    },
    {
     "name": "stdout",
     "output_type": "stream",
     "text": [
      "Fast-forward\n"
     ]
    },
    {
     "name": "stdout",
     "output_type": "stream",
     "text": [
      " Wales.md | 2 +-\n"
     ]
    },
    {
     "name": "stdout",
     "output_type": "stream",
     "text": [
      " 1 file changed, 1 insertion(+), 1 deletion(-)\n"
     ]
    }
   ],
   "source": [
    "%%bash\n",
    "git pull"
   ]
  },
  {
   "cell_type": "code",
   "execution_count": 39,
   "metadata": {},
   "outputs": [
    {
     "name": "stdout",
     "output_type": "stream",
     "text": [
      "*   7375d5c Merge branch 'main' of github.com:alan-turing-institute/github-example\n"
     ]
    },
    {
     "name": "stdout",
     "output_type": "stream",
     "text": [
      "|\\  \n"
     ]
    },
    {
     "name": "stdout",
     "output_type": "stream",
     "text": [
      "| * a0e175d Add a beacon\n"
     ]
    },
    {
     "name": "stdout",
     "output_type": "stream",
     "text": [
      "* | e41e48f Translating from the Welsh\n"
     ]
    },
    {
     "name": "stdout",
     "output_type": "stream",
     "text": [
      "|/  \n"
     ]
    },
    {
     "name": "stdout",
     "output_type": "stream",
     "text": [
      "*   2ed3750 Merge branch 'main' of github.com:alan-turing-institute/github-example\n"
     ]
    },
    {
     "name": "stdout",
     "output_type": "stream",
     "text": [
      "|\\  \n"
     ]
    },
    {
     "name": "stdout",
     "output_type": "stream",
     "text": [
      "| * 7b72dce Add Scotland\n"
     ]
    },
    {
     "name": "stdout",
     "output_type": "stream",
     "text": [
      "* | 16f7517 Add wales\n"
     ]
    },
    {
     "name": "stdout",
     "output_type": "stream",
     "text": [
      "|/  \n"
     ]
    },
    {
     "name": "stdout",
     "output_type": "stream",
     "text": [
      "* ef29071 Add Helvellyn\n"
     ]
    },
    {
     "name": "stdout",
     "output_type": "stream",
     "text": [
      "* 9cba9c4 Include lakes in the scope\n"
     ]
    },
    {
     "name": "stdout",
     "output_type": "stream",
     "text": [
      "* bd7c0f2 Add lakeland\n"
     ]
    },
    {
     "name": "stdout",
     "output_type": "stream",
     "text": [
      "* 43f3942 Revert \"Add a lie about a mountain\"\n"
     ]
    },
    {
     "name": "stdout",
     "output_type": "stream",
     "text": [
      "* ee151c1 Change title\n"
     ]
    },
    {
     "name": "stdout",
     "output_type": "stream",
     "text": [
      "* da208a3 Add a lie about a mountain\n"
     ]
    },
    {
     "name": "stdout",
     "output_type": "stream",
     "text": [
      "* 973ce32 First commit of discourse on UK topography\n"
     ]
    }
   ],
   "source": [
    "%%bash\n",
    "git log --graph --oneline"
   ]
  },
  {
   "cell_type": "code",
   "execution_count": 40,
   "metadata": {},
   "outputs": [
    {
     "data": {
      "image/png": "[encoded data removed]",
      "text/plain": [
       "<IPython.core.display.Image object>"
      ]
     },
     "execution_count": 40,
     "metadata": {
      "filenames": {
       "image/png": "/home/runner/work/rse-course/rse-course/_build/jupyter_execute/module04_version_control_with_git/04_04_collaboration_59_0.png"
      }
     },
     "output_type": "execute_result"
    }
   ],
   "source": [
    "message = \"\"\"\n",
    "participant Sue as S\n",
    "participant \"Sue's repo\" as SR\n",
    "participant \"Shared remote\" as M\n",
    "participant \"Jim's repo\" as JR\n",
    "participant Jim as J\n",
    "\n",
    "note left of S: git clone\n",
    "M->SR: fetch commits\n",
    "SR->S: working directory as at latest commit\n",
    "\n",
    "note left of S: edit Scotland.md\n",
    "note right of J: edit Wales.md\n",
    "\n",
    "note left of S: git commit -am \"Add scotland\"\n",
    "S->SR: create commit with Scotland file\n",
    "\n",
    "note right of J: git commit -am \"Add wales\"\n",
    "J->JR: create commit with Wales file\n",
    "\n",
    "note left of S: git push\n",
    "SR->M: update remote with changes\n",
    "\n",
    "note right of J: git push\n",
    "JR-->M: !Rejected change\n",
    "\n",
    "note right of J: git pull\n",
    "M->JR: Pull in Sue's last commit, merge histories\n",
    "JR->J: Add Scotland.md to working directory\n",
    "\n",
    "note right of J: git push\n",
    "JR->M: Transfer merged history to remote\n",
    "\n",
    "\"\"\"\n",
    "from wsd import wsd\n",
    "\n",
    "%matplotlib inline\n",
    "wsd(message)"
   ]
  },
  {
   "cell_type": "markdown",
   "metadata": {},
   "source": [
    "## Conflicting commits\n",
    "\n",
    "Finally, go through the process again, but this time, make changes which touch the same line."
   ]
  },
  {
   "cell_type": "code",
   "execution_count": 41,
   "metadata": {},
   "outputs": [
    {
     "name": "stdout",
     "output_type": "stream",
     "text": [
      "Overwriting Wales.md\n"
     ]
    }
   ],
   "source": [
    "%%writefile Wales.md\n",
    "Mountains In Wales\n",
    "==================\n",
    "\n",
    "* Pen y Fan\n",
    "* Tryfan\n",
    "* Snowdon\n",
    "* Fan y Big"
   ]
  },
  {
   "cell_type": "code",
   "execution_count": 42,
   "metadata": {},
   "outputs": [
    {
     "name": "stdout",
     "output_type": "stream",
     "text": [
      "[main 7a1335d] Add another Beacon\n"
     ]
    },
    {
     "name": "stdout",
     "output_type": "stream",
     "text": [
      " 1 file changed, 1 insertion(+)\n"
     ]
    },
    {
     "name": "stderr",
     "output_type": "stream",
     "text": [
      "To github.com:alan-turing-institute/github-example.git\n"
     ]
    },
    {
     "name": "stderr",
     "output_type": "stream",
     "text": [
      "   7375d5c..7a1335d  main -> main\n"
     ]
    }
   ],
   "source": [
    "%%bash\n",
    "git commit -am \"Add another Beacon\"\n",
    "git push"
   ]
  },
  {
   "cell_type": "code",
   "execution_count": 43,
   "metadata": {},
   "outputs": [],
   "source": [
    "os.chdir(partner_dir)"
   ]
  },
  {
   "cell_type": "code",
   "execution_count": 44,
   "metadata": {},
   "outputs": [
    {
     "name": "stdout",
     "output_type": "stream",
     "text": [
      "Overwriting Wales.md\n"
     ]
    }
   ],
   "source": [
    "%%writefile Wales.md\n",
    "Mountains In Wales\n",
    "==================\n",
    "\n",
    "* Pen y Fan\n",
    "* Tryfan\n",
    "* Snowdon\n",
    "* Glyder Fawr"
   ]
  },
  {
   "cell_type": "code",
   "execution_count": 45,
   "metadata": {},
   "outputs": [
    {
     "name": "stdout",
     "output_type": "stream",
     "text": [
      "[main bdb0127] Add Glyder\n"
     ]
    },
    {
     "name": "stdout",
     "output_type": "stream",
     "text": [
      " 1 file changed, 1 insertion(+)\n"
     ]
    }
   ],
   "source": [
    "%%bash\n",
    "git commit -am \"Add Glyder\""
   ]
  },
  {
   "cell_type": "code",
   "execution_count": 46,
   "metadata": {},
   "outputs": [
    {
     "name": "stderr",
     "output_type": "stream",
     "text": [
      "To github.com:alan-turing-institute/github-example.git\n"
     ]
    },
    {
     "name": "stderr",
     "output_type": "stream",
     "text": [
      " ! [rejected]        main -> main (fetch first)\n"
     ]
    },
    {
     "name": "stderr",
     "output_type": "stream",
     "text": [
      "error: failed to push some refs to 'github.com:alan-turing-institute/github-example.git'\n"
     ]
    },
    {
     "name": "stderr",
     "output_type": "stream",
     "text": [
      "hint: Updates were rejected because the remote contains work that you do not\n"
     ]
    },
    {
     "name": "stderr",
     "output_type": "stream",
     "text": [
      "hint: have locally. This is usually caused by another repository pushing to\n"
     ]
    },
    {
     "name": "stderr",
     "output_type": "stream",
     "text": [
      "hint: the same ref. If you want to integrate the remote changes, use\n"
     ]
    },
    {
     "name": "stderr",
     "output_type": "stream",
     "text": [
      "hint: 'git pull' before pushing again.\n"
     ]
    },
    {
     "name": "stderr",
     "output_type": "stream",
     "text": [
      "hint: See the 'Note about fast-forwards' in 'git push --help' for details.\n"
     ]
    },
    {
     "name": "stdout",
     "output_type": "stream",
     "text": [
      "Push failed\n"
     ]
    }
   ],
   "source": [
    "%%bash\n",
    "git push || echo \"Push failed\""
   ]
  },
  {
   "cell_type": "markdown",
   "metadata": {},
   "source": [
    "When you pull, instead of offering an automatic merge commit message, it says:"
   ]
  },
  {
   "cell_type": "code",
   "execution_count": 47,
   "metadata": {},
   "outputs": [
    {
     "name": "stderr",
     "output_type": "stream",
     "text": [
      "From github.com:alan-turing-institute/github-example\n"
     ]
    },
    {
     "name": "stderr",
     "output_type": "stream",
     "text": [
      "   7375d5c..7a1335d  main       -> origin/main\n"
     ]
    },
    {
     "name": "stdout",
     "output_type": "stream",
     "text": [
      "Auto-merging Wales.md\n"
     ]
    },
    {
     "name": "stdout",
     "output_type": "stream",
     "text": [
      "CONFLICT (content): Merge conflict in Wales.md\n"
     ]
    },
    {
     "name": "stdout",
     "output_type": "stream",
     "text": [
      "Automatic merge failed; fix conflicts and then commit the result.\n"
     ]
    },
    {
     "name": "stdout",
     "output_type": "stream",
     "text": [
      "Pull failed\n"
     ]
    }
   ],
   "source": [
    "%%bash\n",
    "git pull || echo \"Pull failed\""
   ]
  },
  {
   "cell_type": "markdown",
   "metadata": {},
   "source": [
    "## Resolving conflicts\n",
    "\n",
    "Git couldn't work out how to merge the two different sets of changes.\n",
    "\n",
    "You now need to manually resolve the conflict.\n",
    "\n",
    "It has marked the conflicted area:"
   ]
  },
  {
   "cell_type": "code",
   "execution_count": 48,
   "metadata": {},
   "outputs": [
    {
     "name": "stdout",
     "output_type": "stream",
     "text": [
      "Mountains In Wales\n"
     ]
    },
    {
     "name": "stdout",
     "output_type": "stream",
     "text": [
      "==================\n"
     ]
    },
    {
     "name": "stdout",
     "output_type": "stream",
     "text": [
      "\n"
     ]
    },
    {
     "name": "stdout",
     "output_type": "stream",
     "text": [
      "* Pen y Fan\n"
     ]
    },
    {
     "name": "stdout",
     "output_type": "stream",
     "text": [
      "* Tryfan\n"
     ]
    },
    {
     "name": "stdout",
     "output_type": "stream",
     "text": [
      "* Snowdon\n"
     ]
    },
    {
     "name": "stdout",
     "output_type": "stream",
     "text": [
      "<<<<<<< HEAD\n"
     ]
    },
    {
     "name": "stdout",
     "output_type": "stream",
     "text": [
      "* Glyder Fawr\n"
     ]
    },
    {
     "name": "stdout",
     "output_type": "stream",
     "text": [
      "=======\n"
     ]
    },
    {
     "name": "stdout",
     "output_type": "stream",
     "text": [
      "* Fan y Big\n"
     ]
    },
    {
     "name": "stdout",
     "output_type": "stream",
     "text": [
      ">>>>>>> 7a1335db020d01c6c03ab35a3d3e4bec06d32c0e\n"
     ]
    }
   ],
   "source": [
    "%%bash\n",
    "cat Wales.md"
   ]
  },
  {
   "cell_type": "markdown",
   "metadata": {},
   "source": [
    "Manually edit the file, to combine the changes as seems sensible and get rid of the symbols:"
   ]
  },
  {
   "cell_type": "code",
   "execution_count": 49,
   "metadata": {},
   "outputs": [
    {
     "name": "stdout",
     "output_type": "stream",
     "text": [
      "Overwriting Wales.md\n"
     ]
    }
   ],
   "source": [
    "%%writefile Wales.md\n",
    "Mountains In Wales\n",
    "==================\n",
    "\n",
    "* Pen y Fan\n",
    "* Tryfan\n",
    "* Snowdon\n",
    "* Fan y Big\n",
    "* Glyder Fawr"
   ]
  },
  {
   "cell_type": "markdown",
   "metadata": {},
   "source": [
    "## Commit the resolved file\n",
    "\n",
    "Now commit the merged result:"
   ]
  },
  {
   "cell_type": "code",
   "execution_count": 50,
   "metadata": {},
   "outputs": [
    {
     "name": "stdout",
     "output_type": "stream",
     "text": [
      "[main b14af2b] Merge branch 'main' of github.com:alan-turing-institute/github-example\n"
     ]
    }
   ],
   "source": [
    "%%bash\n",
    "git commit -a --no-edit # I added a No-edit for this non-interactive session. You can edit the commit if you like."
   ]
  },
  {
   "cell_type": "code",
   "execution_count": 51,
   "metadata": {},
   "outputs": [
    {
     "name": "stderr",
     "output_type": "stream",
     "text": [
      "To github.com:alan-turing-institute/github-example.git\n"
     ]
    },
    {
     "name": "stderr",
     "output_type": "stream",
     "text": [
      "   7a1335d..b14af2b  main -> main\n"
     ]
    }
   ],
   "source": [
    "%%bash\n",
    "git push"
   ]
  },
  {
   "cell_type": "code",
   "execution_count": 52,
   "metadata": {},
   "outputs": [],
   "source": [
    "os.chdir(working_dir)"
   ]
  },
  {
   "cell_type": "code",
   "execution_count": 53,
   "metadata": {},
   "outputs": [
    {
     "name": "stderr",
     "output_type": "stream",
     "text": [
      "From github.com:alan-turing-institute/github-example\n"
     ]
    },
    {
     "name": "stderr",
     "output_type": "stream",
     "text": [
      "   7a1335d..b14af2b  main       -> origin/main\n"
     ]
    },
    {
     "name": "stdout",
     "output_type": "stream",
     "text": [
      "Updating 7a1335d..b14af2b\n"
     ]
    },
    {
     "name": "stdout",
     "output_type": "stream",
     "text": [
      "Fast-forward\n"
     ]
    },
    {
     "name": "stdout",
     "output_type": "stream",
     "text": [
      " Wales.md | 1 +\n"
     ]
    },
    {
     "name": "stdout",
     "output_type": "stream",
     "text": [
      " 1 file changed, 1 insertion(+)\n"
     ]
    }
   ],
   "source": [
    "%%bash\n",
    "git pull"
   ]
  },
  {
   "cell_type": "code",
   "execution_count": 54,
   "metadata": {},
   "outputs": [
    {
     "name": "stdout",
     "output_type": "stream",
     "text": [
      "Mountains In Wales\n"
     ]
    },
    {
     "name": "stdout",
     "output_type": "stream",
     "text": [
      "==================\n"
     ]
    },
    {
     "name": "stdout",
     "output_type": "stream",
     "text": [
      "\n"
     ]
    },
    {
     "name": "stdout",
     "output_type": "stream",
     "text": [
      "* Pen y Fan\n"
     ]
    },
    {
     "name": "stdout",
     "output_type": "stream",
     "text": [
      "* Tryfan\n"
     ]
    },
    {
     "name": "stdout",
     "output_type": "stream",
     "text": [
      "* Snowdon\n"
     ]
    },
    {
     "name": "stdout",
     "output_type": "stream",
     "text": [
      "* Fan y Big\n"
     ]
    },
    {
     "name": "stdout",
     "output_type": "stream",
     "text": [
      "* Glyder Fawr\n"
     ]
    }
   ],
   "source": [
    "%%bash\n",
    "cat Wales.md"
   ]
  },
  {
   "cell_type": "code",
   "execution_count": 55,
   "metadata": {},
   "outputs": [
    {
     "name": "stdout",
     "output_type": "stream",
     "text": [
      "*   b14af2b Merge branch 'main' of github.com:alan-turing-institute/github-example\n"
     ]
    },
    {
     "name": "stdout",
     "output_type": "stream",
     "text": [
      "|\\  \n"
     ]
    },
    {
     "name": "stdout",
     "output_type": "stream",
     "text": [
      "| * 7a1335d Add another Beacon\n"
     ]
    },
    {
     "name": "stdout",
     "output_type": "stream",
     "text": [
      "* | bdb0127 Add Glyder\n"
     ]
    },
    {
     "name": "stdout",
     "output_type": "stream",
     "text": [
      "|/  \n"
     ]
    },
    {
     "name": "stdout",
     "output_type": "stream",
     "text": [
      "*   7375d5c Merge branch 'main' of github.com:alan-turing-institute/github-example\n"
     ]
    },
    {
     "name": "stdout",
     "output_type": "stream",
     "text": [
      "|\\  \n"
     ]
    },
    {
     "name": "stdout",
     "output_type": "stream",
     "text": [
      "| * a0e175d Add a beacon\n"
     ]
    },
    {
     "name": "stdout",
     "output_type": "stream",
     "text": [
      "* | e41e48f Translating from the Welsh\n"
     ]
    },
    {
     "name": "stdout",
     "output_type": "stream",
     "text": [
      "|/  \n"
     ]
    },
    {
     "name": "stdout",
     "output_type": "stream",
     "text": [
      "*   2ed3750 Merge branch 'main' of github.com:alan-turing-institute/github-example\n"
     ]
    },
    {
     "name": "stdout",
     "output_type": "stream",
     "text": [
      "|\\  \n"
     ]
    },
    {
     "name": "stdout",
     "output_type": "stream",
     "text": [
      "| * 7b72dce Add Scotland\n"
     ]
    },
    {
     "name": "stdout",
     "output_type": "stream",
     "text": [
      "* | 16f7517 Add wales\n"
     ]
    },
    {
     "name": "stdout",
     "output_type": "stream",
     "text": [
      "|/  \n"
     ]
    },
    {
     "name": "stdout",
     "output_type": "stream",
     "text": [
      "* ef29071 Add Helvellyn\n"
     ]
    },
    {
     "name": "stdout",
     "output_type": "stream",
     "text": [
      "* 9cba9c4 Include lakes in the scope\n"
     ]
    },
    {
     "name": "stdout",
     "output_type": "stream",
     "text": [
      "* bd7c0f2 Add lakeland\n"
     ]
    },
    {
     "name": "stdout",
     "output_type": "stream",
     "text": [
      "* 43f3942 Revert \"Add a lie about a mountain\"\n"
     ]
    },
    {
     "name": "stdout",
     "output_type": "stream",
     "text": [
      "* ee151c1 Change title\n"
     ]
    },
    {
     "name": "stdout",
     "output_type": "stream",
     "text": [
      "* da208a3 Add a lie about a mountain\n"
     ]
    },
    {
     "name": "stdout",
     "output_type": "stream",
     "text": [
      "* 973ce32 First commit of discourse on UK topography\n"
     ]
    }
   ],
   "source": [
    "%%bash\n",
    "git log --oneline --graph"
   ]
  },
  {
   "cell_type": "markdown",
   "metadata": {},
   "source": [
    "## Distributed VCS in teams with conflicts"
   ]
  },
  {
   "cell_type": "code",
   "execution_count": 56,
   "metadata": {},
   "outputs": [
    {
     "data": {
      "image/png": "[encoded data removed]",
      "text/plain": [
       "<IPython.core.display.Image object>"
      ]
     },
     "execution_count": 56,
     "metadata": {
      "filenames": {
       "image/png": "/home/runner/work/rse-course/rse-course/_build/jupyter_execute/module04_version_control_with_git/04_04_collaboration_81_0.png"
      }
     },
     "output_type": "execute_result"
    }
   ],
   "source": [
    "message = \"\"\"\n",
    "participant Sue as S\n",
    "participant \"Sue's repo\" as SR\n",
    "participant \"Shared remote\" as M\n",
    "participant \"Jim's repo\" as JR\n",
    "participant Jim as J\n",
    "\n",
    "note left of S: edit the same line in wales.md\n",
    "note right of J: edit the same line in wales.md\n",
    "\n",
    "note left of S: git commit -am \"update wales.md\"\n",
    "S->SR: add commit to local repo\n",
    "\n",
    "note right of J: git commit -am \"update wales.md\"\n",
    "J->JR: add commit to local repo\n",
    "\n",
    "note left of S: git push\n",
    "SR->M: transfer commit to remote\n",
    "\n",
    "note right of J: git push\n",
    "JR->M: !Rejected\n",
    "\n",
    "note right of J: git pull\n",
    "M->J: Make conflicted file with conflict markers\n",
    "\n",
    "note right of J: edit file to resolve conflicts\n",
    "note right of J: git add wales.md\n",
    "note right of J: git commit\n",
    "J->JR: Mark conflict as resolved\n",
    "\n",
    "note right of J: git push\n",
    "JR->M: Transfer merged history to remote\n",
    "\n",
    "note left of S: git pull\n",
    "M->SR: Download Jim's resolution of conflict.\n",
    "\n",
    "\"\"\"\n",
    "\n",
    "wsd(message)"
   ]
  },
  {
   "cell_type": "markdown",
   "metadata": {},
   "source": [
    "# The Levels of Git"
   ]
  },
  {
   "cell_type": "code",
   "execution_count": 57,
   "metadata": {},
   "outputs": [
    {
     "data": {
      "image/png": "[encoded data removed]",
      "text/plain": [
       "<IPython.core.display.Image object>"
      ]
     },
     "execution_count": 57,
     "metadata": {
      "filenames": {
       "image/png": "/home/runner/work/rse-course/rse-course/_build/jupyter_execute/module04_version_control_with_git/04_04_collaboration_83_0.png"
      }
     },
     "output_type": "execute_result"
    }
   ],
   "source": [
    "message = \"\"\"\n",
    "Working Directory -> Staging Area : git add\n",
    "Staging Area -> Local Repository : git commit\n",
    "Local Repository -> Local Repository : git commit -a\n",
    "Local Repository -> Working Directory : git checkout\n",
    "Local Repository -> Staging Area : git reset\n",
    "Local Repository -> Working Directory: git reset --hard\n",
    "Local Repository -> Remote Repository : git push\n",
    "Remote Repository -> Local Repository : git fetch\n",
    "Local Repository -> Working Directory : git merge\n",
    "Remote Repository -> Working Directory: git pull\n",
    "\"\"\"\n",
    "\n",
    "wsd(message)"
   ]
  },
  {
   "cell_type": "markdown",
   "metadata": {},
   "source": [
    "## Editing directly on GitHub\n",
    "\n",
    "Note that you can also make changes in the GitHub website itself. Visit one of your files, and hit \"edit\".\n",
    "\n",
    "Make a change in the edit window, and add an appropriate commit message.\n",
    "\n",
    "That change now appears on the website, but not in your local copy. (Verify this). "
   ]
  },
  {
   "cell_type": "markdown",
   "metadata": {},
   "source": [
    "Now pull, and check the change is now present on your local version. "
   ]
  },
  {
   "cell_type": "markdown",
   "metadata": {},
   "source": [
    "## GitHub as a social network\n",
    "\n",
    "In addition to being a repository for code, and a way to publish code, GitHub is a social network.\n",
    "\n",
    "You can follow the public work of other coders: go to the profile of your collaborator in your browser, and hit the \"follow\" button.\n",
    "\n",
    "[Here's mine](https://github.com/jamespjh) : if you want to you can follow me.\n",
    "\n",
    "Using GitHub to build up a good public profile of software projects you've worked on is great for your CV!"
   ]
  }
 ],
 "metadata": {
  "jekyll": {
   "display_name": "Collaboration"
  },
  "kernelspec": {
   "display_name": "Python 3 (ipykernel)",
   "language": "python",
   "name": "python3"
  },
  "language_info": {
   "codemirror_mode": {
    "name": "ipython",
    "version": 3
   },
   "file_extension": ".py",
   "mimetype": "text/x-python",
   "name": "python",
   "nbconvert_exporter": "python",
   "pygments_lexer": "ipython3",
   "version": "3.8.18"
  }
 },
 "nbformat": 4,
 "nbformat_minor": 1
}