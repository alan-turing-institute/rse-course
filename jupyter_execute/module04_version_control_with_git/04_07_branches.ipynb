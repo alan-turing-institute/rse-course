{
 "cells": [
  {
   "cell_type": "markdown",
   "metadata": {},
   "source": [
    "# Branches\n",
    "\n",
    "Branches are incredibly important to why `git` is cool and powerful.\n",
    "\n",
    "They are an easy and cheap way of making a second version of your software, which you work on in parallel,\n",
    "and pull in your changes when you are ready."
   ]
  },
  {
   "cell_type": "code",
   "execution_count": 1,
   "metadata": {},
   "outputs": [],
   "source": [
    "import os\n",
    "\n",
    "top_dir = os.getcwd()\n",
    "git_dir = os.path.join(top_dir, \"learning_git\")\n",
    "working_dir = os.path.join(git_dir, \"git_example\")\n",
    "os.chdir(working_dir)"
   ]
  },
  {
   "cell_type": "code",
   "execution_count": 2,
   "metadata": {
    "attributes": {
     "classes": [
      " Bash"
     ],
     "id": ""
    }
   },
   "outputs": [
    {
     "name": "stdout",
     "output_type": "stream",
     "text": [
      "* main\n"
     ]
    }
   ],
   "source": [
    "%%bash\n",
    "git branch # Tell me what branches exist"
   ]
  },
  {
   "cell_type": "code",
   "execution_count": 3,
   "metadata": {},
   "outputs": [
    {
     "name": "stderr",
     "output_type": "stream",
     "text": [
      "Switched to a new branch 'experiment'\n"
     ]
    }
   ],
   "source": [
    "%%bash\n",
    "git checkout -b experiment # Make a new branch"
   ]
  },
  {
   "cell_type": "code",
   "execution_count": 4,
   "metadata": {},
   "outputs": [
    {
     "name": "stdout",
     "output_type": "stream",
     "text": [
      "* experiment\n"
     ]
    },
    {
     "name": "stdout",
     "output_type": "stream",
     "text": [
      "  main\n"
     ]
    }
   ],
   "source": [
    "%%bash\n",
    "git branch"
   ]
  },
  {
   "cell_type": "code",
   "execution_count": 5,
   "metadata": {},
   "outputs": [
    {
     "name": "stdout",
     "output_type": "stream",
     "text": [
      "Overwriting Wales.md\n"
     ]
    }
   ],
   "source": [
    "%%writefile Wales.md\n",
    "Mountains In Wales\n",
    "==================\n",
    "\n",
    "* Pen y Fan\n",
    "* Tryfan\n",
    "* Snowdon\n",
    "* Glyder Fawr\n",
    "* Fan y Big\n",
    "* Cadair Idris"
   ]
  },
  {
   "cell_type": "code",
   "execution_count": 6,
   "metadata": {},
   "outputs": [
    {
     "name": "stdout",
     "output_type": "stream",
     "text": [
      "[experiment db60f2f] Add Cadair Idris\n"
     ]
    },
    {
     "name": "stdout",
     "output_type": "stream",
     "text": [
      " 1 file changed, 2 insertions(+), 1 deletion(-)\n"
     ]
    }
   ],
   "source": [
    "%%bash\n",
    "git commit -am \"Add Cadair Idris\""
   ]
  },
  {
   "cell_type": "code",
   "execution_count": 7,
   "metadata": {
    "attributes": {
     "classes": [
      " Bash"
     ],
     "id": ""
    }
   },
   "outputs": [
    {
     "name": "stderr",
     "output_type": "stream",
     "text": [
      "Switched to branch 'main'\n"
     ]
    },
    {
     "name": "stdout",
     "output_type": "stream",
     "text": [
      "Your branch is up to date with 'origin/main'.\n"
     ]
    }
   ],
   "source": [
    "%%bash\n",
    "git checkout main # Switch to an existing branch"
   ]
  },
  {
   "cell_type": "code",
   "execution_count": 8,
   "metadata": {},
   "outputs": [
    {
     "name": "stdout",
     "output_type": "stream",
     "text": [
      "Mountains In Wales\n"
     ]
    },
    {
     "name": "stdout",
     "output_type": "stream",
     "text": [
      "==================\n"
     ]
    },
    {
     "name": "stdout",
     "output_type": "stream",
     "text": [
      "\n"
     ]
    },
    {
     "name": "stdout",
     "output_type": "stream",
     "text": [
      "* Pen y Fan\n"
     ]
    },
    {
     "name": "stdout",
     "output_type": "stream",
     "text": [
      "* Tryfan\n"
     ]
    },
    {
     "name": "stdout",
     "output_type": "stream",
     "text": [
      "* Snowdon\n"
     ]
    },
    {
     "name": "stdout",
     "output_type": "stream",
     "text": [
      "* Fan y Big\n"
     ]
    },
    {
     "name": "stdout",
     "output_type": "stream",
     "text": [
      "* Glyder Fawr\n"
     ]
    }
   ],
   "source": [
    "%%bash\n",
    "cat Wales.md"
   ]
  },
  {
   "cell_type": "code",
   "execution_count": 9,
   "metadata": {},
   "outputs": [
    {
     "name": "stderr",
     "output_type": "stream",
     "text": [
      "Switched to branch 'experiment'\n"
     ]
    }
   ],
   "source": [
    "%%bash\n",
    "git checkout experiment"
   ]
  },
  {
   "cell_type": "code",
   "execution_count": 10,
   "metadata": {},
   "outputs": [
    {
     "name": "stdout",
     "output_type": "stream",
     "text": [
      "Mountains In Wales\r\n",
      "==================\r\n",
      "\r\n",
      "* Pen y Fan\r\n",
      "* Tryfan\r\n",
      "* Snowdon\r\n",
      "* Glyder Fawr\r\n",
      "* Fan y Big\r\n",
      "* Cadair Idris\r\n"
     ]
    }
   ],
   "source": [
    "cat Wales.md"
   ]
  },
  {
   "cell_type": "markdown",
   "metadata": {},
   "source": [
    "## Publishing branches\n",
    "\n",
    "To let the server know there's a new branch use:"
   ]
  },
  {
   "cell_type": "code",
   "execution_count": 11,
   "metadata": {},
   "outputs": [
    {
     "name": "stderr",
     "output_type": "stream",
     "text": [
      "To github.com:alan-turing-institute/github-example.git\n"
     ]
    },
    {
     "name": "stderr",
     "output_type": "stream",
     "text": [
      " ! [rejected]        experiment -> experiment (non-fast-forward)\n"
     ]
    },
    {
     "name": "stderr",
     "output_type": "stream",
     "text": [
      "error: failed to push some refs to 'github.com:alan-turing-institute/github-example.git'\n"
     ]
    },
    {
     "name": "stderr",
     "output_type": "stream",
     "text": [
      "hint: Updates were rejected because the tip of your current branch is behind\n"
     ]
    },
    {
     "name": "stderr",
     "output_type": "stream",
     "text": [
      "hint: its remote counterpart. Integrate the remote changes (e.g.\n"
     ]
    },
    {
     "name": "stderr",
     "output_type": "stream",
     "text": [
      "hint: 'git pull ...') before pushing again.\n"
     ]
    },
    {
     "name": "stderr",
     "output_type": "stream",
     "text": [
      "hint: See the 'Note about fast-forwards' in 'git push --help' for details.\n"
     ]
    },
    {
     "ename": "CalledProcessError",
     "evalue": "Command 'b'git push -u origin experiment\\n'' returned non-zero exit status 1.",
     "output_type": "error",
     "traceback": [
      "\u001b[0;31m---------------------------------------------------------------------------\u001b[0m",
      "\u001b[0;31mCalledProcessError\u001b[0m                        Traceback (most recent call last)",
      "Input \u001b[0;32mIn [11]\u001b[0m, in \u001b[0;36m<cell line: 1>\u001b[0;34m()\u001b[0m\n\u001b[0;32m----> 1\u001b[0m \u001b[43mget_ipython\u001b[49m\u001b[43m(\u001b[49m\u001b[43m)\u001b[49m\u001b[38;5;241;43m.\u001b[39;49m\u001b[43mrun_cell_magic\u001b[49m\u001b[43m(\u001b[49m\u001b[38;5;124;43m'\u001b[39;49m\u001b[38;5;124;43mbash\u001b[39;49m\u001b[38;5;124;43m'\u001b[39;49m\u001b[43m,\u001b[49m\u001b[43m \u001b[49m\u001b[38;5;124;43m'\u001b[39;49m\u001b[38;5;124;43m'\u001b[39;49m\u001b[43m,\u001b[49m\u001b[43m \u001b[49m\u001b[38;5;124;43m'\u001b[39;49m\u001b[38;5;124;43mgit push -u origin experiment\u001b[39;49m\u001b[38;5;130;43;01m\\n\u001b[39;49;00m\u001b[38;5;124;43m'\u001b[39;49m\u001b[43m)\u001b[49m\n",
      "File \u001b[0;32m/opt/hostedtoolcache/Python/3.8.13/x64/lib/python3.8/site-packages/IPython/core/interactiveshell.py:2358\u001b[0m, in \u001b[0;36mInteractiveShell.run_cell_magic\u001b[0;34m(self, magic_name, line, cell)\u001b[0m\n\u001b[1;32m   2356\u001b[0m \u001b[38;5;28;01mwith\u001b[39;00m \u001b[38;5;28mself\u001b[39m\u001b[38;5;241m.\u001b[39mbuiltin_trap:\n\u001b[1;32m   2357\u001b[0m     args \u001b[38;5;241m=\u001b[39m (magic_arg_s, cell)\n\u001b[0;32m-> 2358\u001b[0m     result \u001b[38;5;241m=\u001b[39m \u001b[43mfn\u001b[49m\u001b[43m(\u001b[49m\u001b[38;5;241;43m*\u001b[39;49m\u001b[43margs\u001b[49m\u001b[43m,\u001b[49m\u001b[43m \u001b[49m\u001b[38;5;241;43m*\u001b[39;49m\u001b[38;5;241;43m*\u001b[39;49m\u001b[43mkwargs\u001b[49m\u001b[43m)\u001b[49m\n\u001b[1;32m   2359\u001b[0m \u001b[38;5;28;01mreturn\u001b[39;00m result\n",
      "File \u001b[0;32m/opt/hostedtoolcache/Python/3.8.13/x64/lib/python3.8/site-packages/IPython/core/magics/script.py:153\u001b[0m, in \u001b[0;36mScriptMagics._make_script_magic.<locals>.named_script_magic\u001b[0;34m(line, cell)\u001b[0m\n\u001b[1;32m    151\u001b[0m \u001b[38;5;28;01melse\u001b[39;00m:\n\u001b[1;32m    152\u001b[0m     line \u001b[38;5;241m=\u001b[39m script\n\u001b[0;32m--> 153\u001b[0m \u001b[38;5;28;01mreturn\u001b[39;00m \u001b[38;5;28;43mself\u001b[39;49m\u001b[38;5;241;43m.\u001b[39;49m\u001b[43mshebang\u001b[49m\u001b[43m(\u001b[49m\u001b[43mline\u001b[49m\u001b[43m,\u001b[49m\u001b[43m \u001b[49m\u001b[43mcell\u001b[49m\u001b[43m)\u001b[49m\n",
      "File \u001b[0;32m/opt/hostedtoolcache/Python/3.8.13/x64/lib/python3.8/site-packages/IPython/core/magics/script.py:305\u001b[0m, in \u001b[0;36mScriptMagics.shebang\u001b[0;34m(self, line, cell)\u001b[0m\n\u001b[1;32m    300\u001b[0m \u001b[38;5;28;01mif\u001b[39;00m args\u001b[38;5;241m.\u001b[39mraise_error \u001b[38;5;129;01mand\u001b[39;00m p\u001b[38;5;241m.\u001b[39mreturncode \u001b[38;5;241m!=\u001b[39m \u001b[38;5;241m0\u001b[39m:\n\u001b[1;32m    301\u001b[0m     \u001b[38;5;66;03m# If we get here and p.returncode is still None, we must have\u001b[39;00m\n\u001b[1;32m    302\u001b[0m     \u001b[38;5;66;03m# killed it but not yet seen its return code. We don't wait for it,\u001b[39;00m\n\u001b[1;32m    303\u001b[0m     \u001b[38;5;66;03m# in case it's stuck in uninterruptible sleep. -9 = SIGKILL\u001b[39;00m\n\u001b[1;32m    304\u001b[0m     rc \u001b[38;5;241m=\u001b[39m p\u001b[38;5;241m.\u001b[39mreturncode \u001b[38;5;129;01mor\u001b[39;00m \u001b[38;5;241m-\u001b[39m\u001b[38;5;241m9\u001b[39m\n\u001b[0;32m--> 305\u001b[0m     \u001b[38;5;28;01mraise\u001b[39;00m CalledProcessError(rc, cell)\n",
      "\u001b[0;31mCalledProcessError\u001b[0m: Command 'b'git push -u origin experiment\\n'' returned non-zero exit status 1."
     ]
    }
   ],
   "source": [
    "%%bash\n",
    "git push -u origin experiment"
   ]
  },
  {
   "cell_type": "markdown",
   "metadata": {},
   "source": [
    "We use `--set-upstream origin` (Abbreviation `-u`) to tell git that this branch should be pushed to and pulled from origin per default.\n",
    "\n",
    "If you are following along, you should be able to see your branch in the list of branches in GitHub."
   ]
  },
  {
   "cell_type": "markdown",
   "metadata": {},
   "source": [
    "Once you've used `git push -u` once, you can push new changes to the branch with just a git push."
   ]
  },
  {
   "cell_type": "markdown",
   "metadata": {},
   "source": [
    "If others checkout your repository, they will be able to do `git checkout experiment` to see your branch content,\n",
    "and collaborate with you **in the branch**."
   ]
  },
  {
   "cell_type": "code",
   "execution_count": 12,
   "metadata": {},
   "outputs": [
    {
     "name": "stdout",
     "output_type": "stream",
     "text": [
      "  origin/experiment\n",
      "  origin/main\n"
     ]
    }
   ],
   "source": [
    "%%bash\n",
    "git branch -r"
   ]
  },
  {
   "cell_type": "markdown",
   "metadata": {},
   "source": [
    "Local branches can be, but do not have to be, connected to remote branches\n",
    "They are said to \"track\" remote branches. `push -u` sets up the tracking relationship.\n",
    "You can see the remote branch for each of your local branches if you ask for \"verbose\" output from `git branch`:"
   ]
  },
  {
   "cell_type": "code",
   "execution_count": 13,
   "metadata": {},
   "outputs": [
    {
     "name": "stdout",
     "output_type": "stream",
     "text": [
      "* experiment a4378e5 [origin/experiment] Add Cadair Idris\n",
      "  main       85b2797 [origin/main] Merge branch 'main' of github.com:alan-turing-institute/github-example\n"
     ]
    }
   ],
   "source": [
    "%%bash\n",
    "git branch -vv"
   ]
  },
  {
   "cell_type": "markdown",
   "metadata": {},
   "source": [
    "### Find out what is on a branch\n",
    "\n",
    "In addition to using `git diff` to compare to the state of a branch,\n",
    "you can use `git log` to look at lists of commits which are in a branch\n",
    "and haven't been merged yet."
   ]
  },
  {
   "cell_type": "code",
   "execution_count": 14,
   "metadata": {},
   "outputs": [
    {
     "name": "stdout",
     "output_type": "stream",
     "text": [
      "commit a4378e56a723f2ba662262f94108a74be5f896f0\n",
      "Author: Turing Developer <developer@example.com>\n",
      "Date:   Mon Nov 8 14:06:02 2021 +0000\n",
      "\n",
      "    Add Cadair Idris\n"
     ]
    }
   ],
   "source": [
    "%%bash\n",
    "git log main..experiment"
   ]
  },
  {
   "cell_type": "markdown",
   "metadata": {},
   "source": [
    "Git uses various symbols to refer to sets of commits.\n",
    "The double dot `A..B` means \"ancestor of B and not ancestor of A\"\n",
    "\n",
    "So in a purely linear sequence, it does what you'd expect."
   ]
  },
  {
   "cell_type": "code",
   "execution_count": 15,
   "metadata": {},
   "outputs": [
    {
     "name": "stdout",
     "output_type": "stream",
     "text": [
      "*   34f8bbb Merge branch 'main' of github.com:alan-turing-institute/github-example\n",
      "|\\  \n",
      "| * 289afed Add Scotland\n",
      "* | 0c976b0 Add wales\n",
      "|/  \n",
      "* 82b4fa0 Add Helvellyn\n",
      "* 6ff088f Include lakes in the scope\n"
     ]
    }
   ],
   "source": [
    "%%bash\n",
    "git log --graph --oneline HEAD~9..HEAD~5"
   ]
  },
  {
   "cell_type": "markdown",
   "metadata": {},
   "source": [
    "But in cases where a history has branches,\n",
    "the definition in terms of ancestors is important."
   ]
  },
  {
   "cell_type": "code",
   "execution_count": 16,
   "metadata": {},
   "outputs": [
    {
     "name": "stdout",
     "output_type": "stream",
     "text": [
      "* a4378e5 Add Cadair Idris\n",
      "*   85b2797 Merge branch 'main' of github.com:alan-turing-institute/github-example\n",
      "|\\  \n",
      "| * ed30178 Add another Beacon\n",
      "* | bc04a83 Add Glyder\n",
      "|/  \n",
      "*   ecc3206 Merge branch 'main' of github.com:alan-turing-institute/github-example\n",
      "|\\  \n",
      "| * 8cd684e Add a beacon\n",
      "* b8fb6c5 Translating from the Welsh\n"
     ]
    }
   ],
   "source": [
    "%%bash\n",
    "git log --graph --oneline HEAD~5..HEAD"
   ]
  },
  {
   "cell_type": "markdown",
   "metadata": {},
   "source": [
    "If there are changes on both sides, like this:"
   ]
  },
  {
   "cell_type": "code",
   "execution_count": 17,
   "metadata": {},
   "outputs": [
    {
     "name": "stdout",
     "output_type": "stream",
     "text": [
      "Your branch is up to date with 'origin/main'.\n"
     ]
    },
    {
     "name": "stderr",
     "output_type": "stream",
     "text": [
      "Switched to branch 'main'\n"
     ]
    }
   ],
   "source": [
    "%%bash\n",
    "git checkout main"
   ]
  },
  {
   "cell_type": "code",
   "execution_count": 18,
   "metadata": {},
   "outputs": [
    {
     "name": "stdout",
     "output_type": "stream",
     "text": [
      "Overwriting Scotland.md\n"
     ]
    }
   ],
   "source": [
    "%%writefile Scotland.md\n",
    "Mountains In Scotland\n",
    "==================\n",
    "\n",
    "* Ben Eighe\n",
    "* Cairngorm\n",
    "* Aonach Eagach\n"
   ]
  },
  {
   "cell_type": "code",
   "execution_count": 19,
   "metadata": {},
   "outputs": [
    {
     "name": "stdout",
     "output_type": "stream",
     "text": [
      "diff --git a/Scotland.md b/Scotland.md\n",
      "index 9613dda..bf5c643 100644\n",
      "--- a/Scotland.md\n",
      "+++ b/Scotland.md\n",
      "@@ -3,3 +3,4 @@ Mountains In Scotland\n",
      " \n",
      " * Ben Eighe\n",
      " * Cairngorm\n",
      "+* Aonach Eagach\n"
     ]
    }
   ],
   "source": [
    "%%bash\n",
    "git diff Scotland.md"
   ]
  },
  {
   "cell_type": "code",
   "execution_count": 20,
   "metadata": {},
   "outputs": [
    {
     "name": "stdout",
     "output_type": "stream",
     "text": [
      "[main 537950c] Commit Aonach onto main branch\n",
      " 1 file changed, 1 insertion(+)\n"
     ]
    }
   ],
   "source": [
    "%%bash\n",
    "git commit -am \"Commit Aonach onto main branch\""
   ]
  },
  {
   "cell_type": "markdown",
   "metadata": {},
   "source": [
    "Then this notation is useful to show the content of what's on what branch:"
   ]
  },
  {
   "cell_type": "code",
   "execution_count": 21,
   "metadata": {},
   "outputs": [
    {
     "name": "stdout",
     "output_type": "stream",
     "text": [
      "< 537950c Commit Aonach onto main branch\n",
      "> a4378e5 Add Cadair Idris\n"
     ]
    }
   ],
   "source": [
    "%%bash\n",
    "git log --left-right --oneline main...experiment"
   ]
  },
  {
   "cell_type": "markdown",
   "metadata": {},
   "source": [
    "Three dots means \"everything which is not a common ancestor\" of the two commits, i.e. the differences between them."
   ]
  },
  {
   "cell_type": "markdown",
   "metadata": {},
   "source": [
    "## Merging branches"
   ]
  },
  {
   "cell_type": "markdown",
   "metadata": {},
   "source": [
    "We can merge branches, and just as we would pull in remote changes, there may or may not be conflicts."
   ]
  },
  {
   "cell_type": "code",
   "execution_count": 22,
   "metadata": {},
   "outputs": [
    {
     "name": "stdout",
     "output_type": "stream",
     "text": [
      "  experiment\n",
      "* main\n",
      "Merge made by the 'recursive' strategy.\n",
      " Wales.md | 3 ++-\n",
      " 1 file changed, 2 insertions(+), 1 deletion(-)\n"
     ]
    }
   ],
   "source": [
    "%%bash\n",
    "git branch\n",
    "git merge experiment"
   ]
  },
  {
   "cell_type": "code",
   "execution_count": 23,
   "metadata": {},
   "outputs": [
    {
     "name": "stdout",
     "output_type": "stream",
     "text": [
      "*   2365c66 Merge branch 'experiment'\n",
      "|\\  \n",
      "| * a4378e5 Add Cadair Idris\n",
      "* | 537950c Commit Aonach onto main branch\n",
      "|/  \n",
      "* 85b2797 Merge branch 'main' of github.com:alan-turing-institute/github-example\n",
      "* ed30178 Add another Beacon\n"
     ]
    }
   ],
   "source": [
    "%%bash\n",
    "git log --graph --oneline HEAD~3..HEAD"
   ]
  },
  {
   "cell_type": "markdown",
   "metadata": {},
   "source": [
    "## Cleaning up after a branch"
   ]
  },
  {
   "cell_type": "code",
   "execution_count": 24,
   "metadata": {},
   "outputs": [
    {
     "name": "stdout",
     "output_type": "stream",
     "text": [
      "  experiment\n",
      "* main\n"
     ]
    }
   ],
   "source": [
    "%%bash\n",
    "git branch  # list branches"
   ]
  },
  {
   "cell_type": "code",
   "execution_count": 25,
   "metadata": {},
   "outputs": [
    {
     "name": "stdout",
     "output_type": "stream",
     "text": [
      "Deleted branch experiment (was a4378e5).\n"
     ]
    }
   ],
   "source": [
    "%%bash\n",
    "git branch -d experiment  # delete a branch"
   ]
  },
  {
   "cell_type": "code",
   "execution_count": 26,
   "metadata": {},
   "outputs": [
    {
     "name": "stdout",
     "output_type": "stream",
     "text": [
      "* main\n"
     ]
    }
   ],
   "source": [
    "%%bash\n",
    "git branch # current branch"
   ]
  },
  {
   "cell_type": "code",
   "execution_count": 27,
   "metadata": {},
   "outputs": [
    {
     "name": "stdout",
     "output_type": "stream",
     "text": [
      "  origin/experiment\n",
      "  origin/main\n"
     ]
    }
   ],
   "source": [
    "%%bash\n",
    "git branch --remote  # list remote branches"
   ]
  },
  {
   "cell_type": "code",
   "execution_count": 28,
   "metadata": {},
   "outputs": [
    {
     "name": "stderr",
     "output_type": "stream",
     "text": [
      "To github.com:alan-turing-institute/github-example.git\n",
      " - [deleted]         experiment\n"
     ]
    }
   ],
   "source": [
    "%%bash\n",
    "git push --delete origin experiment \n",
    "# Remove remote branch. Note that you can also use the GitHub interface to do this."
   ]
  },
  {
   "cell_type": "code",
   "execution_count": 29,
   "metadata": {},
   "outputs": [
    {
     "name": "stdout",
     "output_type": "stream",
     "text": [
      "  origin/main\n"
     ]
    }
   ],
   "source": [
    "%%bash\n",
    "git branch --remote  # list remote branches"
   ]
  },
  {
   "cell_type": "code",
   "execution_count": 30,
   "metadata": {},
   "outputs": [
    {
     "name": "stdout",
     "output_type": "stream",
     "text": [
      "To github.com:alan-turing-institute/github-example.git\n",
      "   85b2797..2365c66  main -> main"
     ]
    }
   ],
   "source": [
    "%%bash\n",
    "git push"
   ]
  },
  {
   "cell_type": "code",
   "execution_count": 31,
   "metadata": {},
   "outputs": [
    {
     "name": "stdout",
     "output_type": "stream",
     "text": [
      "* main 2365c66 [origin/main] Merge branch 'experiment'\n"
     ]
    }
   ],
   "source": [
    "%%bash\n",
    "git branch  # current branch"
   ]
  },
  {
   "cell_type": "markdown",
   "metadata": {},
   "source": [
    "## A good branch strategy\n",
    "\n",
    "* A `production` or `main` branch: the current working version of your code\n",
    "* A `develop` branch: where new code can be tested\n",
    "* `feature` branches: for specific new ideas\n",
    "* `release` branches: when you share code with others\n",
    "  * Useful for applying bug fixes to older versions of your code"
   ]
  },
  {
   "cell_type": "markdown",
   "metadata": {},
   "source": [
    "## Grab changes from a branch\n",
    "\n",
    "Make some changes on one branch, switch back to another, and use:"
   ]
  },
  {
   "cell_type": "markdown",
   "metadata": {
    "attributes": {
     "classes": [
      " bash"
     ],
     "id": ""
    },
    "collapsed": true
   },
   "source": [
    "```bash\n",
    "git checkout <branch> <path>\n",
    "```"
   ]
  },
  {
   "cell_type": "markdown",
   "metadata": {},
   "source": [
    "to quickly grab a file from one branch into another. This will create a copy of the file as it exists in `<branch>` into your current branch, overwriting it if it already existed.\n",
    "For example, if you have been experimenting in a new branch but want to undo all your changes to a particular file (that is, restore the file to its version in the `main` branch), you can do that with:\n",
    "\n",
    "```\n",
    "git checkout main test_file\n",
    "```\n",
    "\n",
    "Using `git checkout` with a path takes the content of files.\n",
    "To grab the content of a specific *commit* from another branch,\n",
    "and apply it as a patch to your branch, use:"
   ]
  },
  {
   "cell_type": "markdown",
   "metadata": {
    "collapsed": true
   },
   "source": [
    "``` bash\n",
    "git cherry-pick <commit>\n",
    "```"
   ]
  }
 ],
 "metadata": {
  "jekyll": {
   "display_name": "Branches"
  },
  "kernelspec": {
   "display_name": "Python 3 (ipykernel)",
   "language": "python",
   "name": "python3"
  },
  "language_info": {
   "codemirror_mode": {
    "name": "ipython",
    "version": 3
   },
   "file_extension": ".py",
   "mimetype": "text/x-python",
   "name": "python",
   "nbconvert_exporter": "python",
   "pygments_lexer": "ipython3",
   "version": "3.8.13"
  }
 },
 "nbformat": 4,
 "nbformat_minor": 1
}