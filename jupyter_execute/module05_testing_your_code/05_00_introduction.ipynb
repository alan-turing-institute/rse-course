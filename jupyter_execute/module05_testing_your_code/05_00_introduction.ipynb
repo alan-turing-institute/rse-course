{
 "cells": [
  {
   "cell_type": "markdown",
   "metadata": {},
   "source": [
    "# 5.0 Testing"
   ]
  },
  {
   "cell_type": "markdown",
   "metadata": {},
   "source": [
    "*Estimated time for this notebook: 5 minutes*"
   ]
  },
  {
   "cell_type": "markdown",
   "metadata": {},
   "source": [
    "## Introduction\n",
    "\n",
    "As we write code, we want to be sure that it does behaves the way we'd like it to - so we test it. Testing (and re-testing) our code is something that needs to be done regularly (ideally after every change to the code), comprehensively, quickly and reliably. In short testing is an task that is ideally suited to automation. \n",
    "\n",
    "We write additional code to test the behaviour for our main code. We use these terms to distinguish between the two types of code:\n",
    "\n",
    "* \"Production code\" - the code that fulfills the purpose of the software, and is run by the end user.\n",
    "* \"Test code\" - additional code only used by software development team\n",
    "\n",
    "**For this module we are focusing on _automated testing_.**"
   ]
  },
  {
   "cell_type": "markdown",
   "metadata": {},
   "source": [
    "### A few reasons not to do testing"
   ]
  },
  {
   "cell_type": "markdown",
   "metadata": {},
   "source": [
    "Sensibility                          | Sense\n",
    "------------------------------------ | -------------------------------------\n",
    "**It's boring**                      |  *Maybe*\n",
    "**Code is just a one off throwaway** |  *As with most research codes*\n",
    "**No time for it**                   |  *A bit more code, a lot less debugging*\n",
    "**Tests can be buggy too**           |  *See above*\n",
    "**Not a professional programmer**    |  *See above*\n",
    "**Will do it later**                 | *See above*"
   ]
  },
  {
   "cell_type": "markdown",
   "metadata": {},
   "source": [
    "### A few reasons to do testing\n",
    "\n",
    "* **lazyness** *testing saves time*\n",
    "* **peace of mind** *tests (should) ensure code is correct*\n",
    "* **runnable specification** *best way to let others know what a function should do and\n",
    "    not do*\n",
    "* **reproducible debugging** *debugging that happened and is saved for later reuse*\n",
    "* code structure / **modularity** *since the code is designed for at least two situations*\n",
    "* easier to modify *since results can be tested*"
   ]
  },
  {
   "cell_type": "markdown",
   "metadata": {},
   "source": [
    "### Not a panacea\n",
    "\n",
    "> \"Trying to improve the quality of software by doing more testing is like trying to lose weight by\n",
    "> weighting yourself more often.\" - Steve McConnell\n",
    "\n",
    "* Testing won't correct a buggy code\n",
    "* Testing will tell you were the bugs are...\n",
    "* ... if (and only if) the test cases *cover* the scenarios that cause the bugs or occur.\n",
    "\n",
    "Also, automated tests only test a narrow interpretation of quality software development. They do *not* help test that your software is _useful_ and help solves a users' problem. We will touch on this again in Module 06.\n"
   ]
  },
  {
   "cell_type": "markdown",
   "metadata": {},
   "source": [
    "### Tests at different scales\n",
    "\n",
    "Level of test           | Area covered by test                                      | Notes\n",
    "----------------------- | --------------------------------------------------------- | ---------------------\n",
    "**Unit testing**        | smallest logical block of work (often < 10 lines of code) | Unit tests should run fast (eg ~1/100th sec) so that they can be re-run regularly (eg every git commit). To achieve this they should not invoke network access or substantial disk access. \n",
    "**Component testing**   | several logical blocks of work together                   | These can be useful where you need to tease out the expected/useful behaviour of 3rd party libraries.\n",
    "**Integration testing** | all components together / whole program                   | These can take longer to run, and can be run less often.\n",
    "\n",
    "\n",
    "* When writing new code (see below) always start by creating tests at the smallest scale (unit tests). \n",
    "* If a unit test is too complicated to write, then consider adjusting your production code (possibly by breaking it down into smaller, individually testable functions). Ensuring that your production code is easy to test is a healthy habit."
   ]
  },
  {
   "cell_type": "markdown",
   "metadata": {},
   "source": [
    "### Legacy code hardening\n",
    "\n",
    "* Very difficult to create unit-tests for existing code\n",
    "* Instead we make a **regression test**\n",
    "* Run program as a black box:\n",
    "\n",
    "```\n",
    "setup input\n",
    "run program\n",
    "read output\n",
    "check output against expected result\n",
    "```\n",
    "\n",
    "* Does not test correctness of code\n",
    "* Checks code is as similarly wrong on day N as day 0"
   ]
  },
  {
   "cell_type": "markdown",
   "metadata": {},
   "source": [
    "### Testing vocabulary\n",
    "\n",
    "* **fixture**: input data\n",
    "* **action**: function that is being tested\n",
    "* **expected result**: the output that should be obtained\n",
    "* **actual result**: the output that is obtained\n",
    "* **coverage**: proportion of all possible paths in the code that the tests take"
   ]
  },
  {
   "cell_type": "markdown",
   "metadata": {},
   "source": [
    "### Branch coverage:"
   ]
  },
  {
   "cell_type": "markdown",
   "metadata": {
    "attributes": {
     "classes": [
      " python"
     ],
     "id": ""
    }
   },
   "source": [
    "```python\n",
    "if energy > 0:\n",
    "    ! Do this \n",
    "else:\n",
    "    ! Do that\n",
    "```"
   ]
  },
  {
   "cell_type": "markdown",
   "metadata": {},
   "source": [
    "Is there a test for both `energy > 0` and `energy <= 0`?"
   ]
  }
 ],
 "metadata": {
  "jekyll": {
   "display_name": "Testing Basics"
  },
  "kernelspec": {
   "display_name": "Python 3.10.0 64-bit ('3.10.0')",
   "language": "python",
   "name": "python3"
  },
  "language_info": {
   "codemirror_mode": {
    "name": "ipython",
    "version": 3
   },
   "file_extension": ".py",
   "mimetype": "text/x-python",
   "name": "python",
   "nbconvert_exporter": "python",
   "pygments_lexer": "ipython3",
   "version": "3.8.14"
  },
  "vscode": {
   "interpreter": {
    "hash": "44f733b714c696d9811e1e4790628c0e5019891ced3dbb8112bc5b951948cffb"
   }
  }
 },
 "nbformat": 4,
 "nbformat_minor": 1
}