{
 "cells": [
  {
   "cell_type": "markdown",
   "metadata": {},
   "source": [
    "# How to Test"
   ]
  },
  {
   "cell_type": "markdown",
   "metadata": {},
   "source": [
    "## Equivalence partitioning"
   ]
  },
  {
   "cell_type": "markdown",
   "metadata": {},
   "source": [
    "Think hard about the different cases the code will run under: this is science, not coding!"
   ]
  },
  {
   "cell_type": "markdown",
   "metadata": {},
   "source": [
    "We can't write a test for every possible input: this is an infinite amount of work."
   ]
  },
  {
   "cell_type": "markdown",
   "metadata": {},
   "source": [
    "We need to write tests to rule out different bugs. There's no need to separately test *equivalent* inputs. "
   ]
  },
  {
   "cell_type": "markdown",
   "metadata": {},
   "source": [
    "Let's look at an example of this question outside of coding:"
   ]
  },
  {
   "cell_type": "markdown",
   "metadata": {},
   "source": [
    "* Research Project : Evolution of agricultural fields in Saskatchewan from aerial photography\n",
    "* In silico translation  : Compute overlap of two rectangles"
   ]
  },
  {
   "cell_type": "code",
   "execution_count": 1,
   "metadata": {},
   "outputs": [],
   "source": [
    "%matplotlib inline\n",
    "from matplotlib.path import Path\n",
    "import matplotlib.patches as patches\n",
    "import matplotlib.pyplot as plt"
   ]
  },
  {
   "cell_type": "markdown",
   "metadata": {},
   "source": [
    "Let's make a little fragment of matplotlib code to visualise a pair of fields."
   ]
  },
  {
   "cell_type": "code",
   "execution_count": 2,
   "metadata": {},
   "outputs": [
    {
     "data": {
      "image/png": "[encoded data removed]",
      "text/plain": [
       "<Figure size 432x288 with 1 Axes>"
      ]
     },
     "metadata": {
      "filenames": {
       "image/png": "/home/runner/work/rse-course/rse-course/_build/jupyter_execute/module05_testing_your_code/05_01_how_to_test_9_0.png"
      },
      "needs_background": "light"
     },
     "output_type": "display_data"
    }
   ],
   "source": [
    "def show_fields(field1, field2):\n",
    "    def vertices(left, bottom, right, top):\n",
    "        verts = [\n",
    "            (left, bottom),\n",
    "            (left, top),\n",
    "            (right, top),\n",
    "            (right, bottom),\n",
    "            (left, bottom),\n",
    "        ]\n",
    "        return verts\n",
    "\n",
    "    codes = [Path.MOVETO, Path.LINETO, Path.LINETO, Path.LINETO, Path.CLOSEPOLY]\n",
    "    path1 = Path(vertices(*field1), codes)\n",
    "    path2 = Path(vertices(*field2), codes)\n",
    "    fig = plt.figure()\n",
    "    ax = fig.add_subplot(111)\n",
    "    patch1 = patches.PathPatch(path1, facecolor=\"orange\", lw=2)\n",
    "    patch2 = patches.PathPatch(path2, facecolor=\"blue\", lw=2)\n",
    "    ax.add_patch(patch1)\n",
    "    ax.add_patch(patch2)\n",
    "    ax.set_xlim(0, 5)\n",
    "    ax.set_ylim(0, 5)\n",
    "\n",
    "\n",
    "show_fields((1.0, 1.0, 4.0, 4.0), (2.0, 2.0, 3.0, 3.0))"
   ]
  },
  {
   "cell_type": "markdown",
   "metadata": {},
   "source": [
    "Here, we can see that the area of overlap, is the same as the smaller field, with area 1."
   ]
  },
  {
   "cell_type": "markdown",
   "metadata": {},
   "source": [
    "We could now go ahead and write a subroutine to calculate that, and also write some test cases for our answer."
   ]
  },
  {
   "cell_type": "markdown",
   "metadata": {},
   "source": [
    "But first, let's just consider that question abstractly, what other cases, *not equivalent to this* might there be?"
   ]
  },
  {
   "cell_type": "markdown",
   "metadata": {},
   "source": [
    "For example, this case, is still just a full overlap, and is sufficiently equivalent that it's not worth another test:"
   ]
  },
  {
   "cell_type": "code",
   "execution_count": 3,
   "metadata": {},
   "outputs": [
    {
     "data": {
      "image/png": "[encoded data removed]",
      "text/plain": [
       "<Figure size 432x288 with 1 Axes>"
      ]
     },
     "metadata": {
      "filenames": {
       "image/png": "/home/runner/work/rse-course/rse-course/_build/jupyter_execute/module05_testing_your_code/05_01_how_to_test_14_0.png"
      },
      "needs_background": "light"
     },
     "output_type": "display_data"
    }
   ],
   "source": [
    "show_fields((1.0, 1.0, 4.0, 4.0), (2.5, 1.7, 3.2, 3.4))"
   ]
  },
  {
   "cell_type": "markdown",
   "metadata": {},
   "source": [
    "But this case is no longer a full overlap, and should be tested separately:"
   ]
  },
  {
   "cell_type": "code",
   "execution_count": 4,
   "metadata": {},
   "outputs": [
    {
     "data": {
      "image/png": "[encoded data removed]",
      "text/plain": [
       "<Figure size 432x288 with 1 Axes>"
      ]
     },
     "metadata": {
      "filenames": {
       "image/png": "/home/runner/work/rse-course/rse-course/_build/jupyter_execute/module05_testing_your_code/05_01_how_to_test_16_0.png"
      },
      "needs_background": "light"
     },
     "output_type": "display_data"
    }
   ],
   "source": [
    "show_fields((1.0, 1.0, 4.0, 4.0), (2.0, 2.0, 3.0, 4.5))"
   ]
  },
  {
   "cell_type": "markdown",
   "metadata": {},
   "source": [
    "On a piece of paper, sketch now the other cases you think should be treated as non-equivalent. Some answers are below:"
   ]
  },
  {
   "cell_type": "code",
   "execution_count": 5,
   "metadata": {},
   "outputs": [
    {
     "name": "stdout",
     "output_type": "stream",
     "text": [
      "Spoiler space\n",
      "Spoiler space\n",
      "Spoiler space\n",
      "Spoiler space\n",
      "Spoiler space\n",
      "Spoiler space\n",
      "Spoiler space\n",
      "Spoiler space\n",
      "Spoiler space\n",
      "Spoiler space\n",
      "Spoiler space\n",
      "Spoiler space\n",
      "Spoiler space\n",
      "Spoiler space\n",
      "Spoiler space\n",
      "Spoiler space\n",
      "Spoiler space\n",
      "Spoiler space\n",
      "Spoiler space\n",
      "Spoiler space\n",
      "Spoiler space\n",
      "Spoiler space\n",
      "Spoiler space\n",
      "Spoiler space\n",
      "Spoiler space\n",
      "Spoiler space\n",
      "Spoiler space\n",
      "Spoiler space\n",
      "Spoiler space\n",
      "Spoiler space\n",
      "Spoiler space\n",
      "Spoiler space\n",
      "Spoiler space\n",
      "Spoiler space\n",
      "Spoiler space\n",
      "Spoiler space\n",
      "Spoiler space\n",
      "Spoiler space\n",
      "Spoiler space\n",
      "Spoiler space\n",
      "Spoiler space\n",
      "Spoiler space\n",
      "Spoiler space\n",
      "Spoiler space\n",
      "Spoiler space\n",
      "Spoiler space\n",
      "Spoiler space\n",
      "Spoiler space\n",
      "Spoiler space\n",
      "Spoiler space\n"
     ]
    }
   ],
   "source": [
    "for _ in range(50):\n",
    "    print(\"Spoiler space\")"
   ]
  },
  {
   "cell_type": "code",
   "execution_count": 6,
   "metadata": {},
   "outputs": [
    {
     "data": {
      "image/png": "[encoded data removed]",
      "text/plain": [
       "<Figure size 432x288 with 1 Axes>"
      ]
     },
     "metadata": {
      "filenames": {
       "image/png": "/home/runner/work/rse-course/rse-course/_build/jupyter_execute/module05_testing_your_code/05_01_how_to_test_19_0.png"
      },
      "needs_background": "light"
     },
     "output_type": "display_data"
    }
   ],
   "source": [
    "show_fields((1.0, 1.0, 4.0, 4.0), (2, 2, 4.5, 4.5))  # Overlap corner"
   ]
  },
  {
   "cell_type": "code",
   "execution_count": 7,
   "metadata": {},
   "outputs": [
    {
     "data": {
      "image/png": "[encoded data removed]",
      "text/plain": [
       "<Figure size 432x288 with 1 Axes>"
      ]
     },
     "metadata": {
      "filenames": {
       "image/png": "/home/runner/work/rse-course/rse-course/_build/jupyter_execute/module05_testing_your_code/05_01_how_to_test_20_0.png"
      },
      "needs_background": "light"
     },
     "output_type": "display_data"
    }
   ],
   "source": [
    "show_fields((1.0, 1.0, 4.0, 4.0), (2.0, 2.0, 3.0, 4.0))  # Just touching"
   ]
  },
  {
   "cell_type": "code",
   "execution_count": 8,
   "metadata": {},
   "outputs": [
    {
     "data": {
      "image/png": "[encoded data removed]",
      "text/plain": [
       "<Figure size 432x288 with 1 Axes>"
      ]
     },
     "metadata": {
      "filenames": {
       "image/png": "/home/runner/work/rse-course/rse-course/_build/jupyter_execute/module05_testing_your_code/05_01_how_to_test_21_0.png"
      },
      "needs_background": "light"
     },
     "output_type": "display_data"
    }
   ],
   "source": [
    "show_fields((1.0, 1.0, 4.0, 4.0), (4.5, 4.5, 5, 5))  # No overlap"
   ]
  },
  {
   "cell_type": "code",
   "execution_count": 9,
   "metadata": {},
   "outputs": [
    {
     "data": {
      "image/png": "[encoded data removed]",
      "text/plain": [
       "<Figure size 432x288 with 1 Axes>"
      ]
     },
     "metadata": {
      "filenames": {
       "image/png": "/home/runner/work/rse-course/rse-course/_build/jupyter_execute/module05_testing_your_code/05_01_how_to_test_22_0.png"
      },
      "needs_background": "light"
     },
     "output_type": "display_data"
    }
   ],
   "source": [
    "show_fields((1.0, 1.0, 4.0, 4.0), (2.5, 4, 3.5, 4.5))  # Just touching from outside"
   ]
  },
  {
   "cell_type": "code",
   "execution_count": 10,
   "metadata": {},
   "outputs": [
    {
     "data": {
      "image/png": "[encoded data removed]",
      "text/plain": [
       "<Figure size 432x288 with 1 Axes>"
      ]
     },
     "metadata": {
      "filenames": {
       "image/png": "/home/runner/work/rse-course/rse-course/_build/jupyter_execute/module05_testing_your_code/05_01_how_to_test_23_0.png"
      },
      "needs_background": "light"
     },
     "output_type": "display_data"
    }
   ],
   "source": [
    "show_fields((1.0, 1.0, 4.0, 4.0), (4, 4, 4.5, 4.5))  # Touching corner"
   ]
  },
  {
   "cell_type": "markdown",
   "metadata": {},
   "source": [
    "### Using our tests"
   ]
  },
  {
   "cell_type": "markdown",
   "metadata": {},
   "source": [
    "OK, so how might our tests be useful?"
   ]
  },
  {
   "cell_type": "markdown",
   "metadata": {},
   "source": [
    "Here's some code that **might** correctly calculate the area of overlap:"
   ]
  },
  {
   "cell_type": "code",
   "execution_count": 11,
   "metadata": {},
   "outputs": [],
   "source": [
    "def overlap(field1, field2):\n",
    "    left1, bottom1, top1, right1 = field1\n",
    "    left2, bottom2, top2, right2 = field2\n",
    "    overlap_left = max(left1, left2)\n",
    "    overlap_bottom = max(bottom1, bottom2)\n",
    "    overlap_right = min(right1, right2)\n",
    "    overlap_top = min(top1, top2)\n",
    "    overlap_height = overlap_top - overlap_bottom\n",
    "    overlap_width = overlap_right - overlap_left\n",
    "    return overlap_height * overlap_width"
   ]
  },
  {
   "cell_type": "markdown",
   "metadata": {},
   "source": [
    "So how do we check our code?"
   ]
  },
  {
   "cell_type": "markdown",
   "metadata": {},
   "source": [
    "The manual approach would be to look at some cases, and, once, run it and check:"
   ]
  },
  {
   "cell_type": "code",
   "execution_count": 12,
   "metadata": {},
   "outputs": [
    {
     "data": {
      "text/plain": [
       "1.0"
      ]
     },
     "execution_count": 12,
     "metadata": {},
     "output_type": "execute_result"
    }
   ],
   "source": [
    "overlap((1.0, 1.0, 4.0, 4.0), (2.0, 2.0, 3.0, 3.0))"
   ]
  },
  {
   "cell_type": "markdown",
   "metadata": {},
   "source": [
    "That looks OK."
   ]
  },
  {
   "cell_type": "markdown",
   "metadata": {},
   "source": [
    "But we can do better, we can write code which **raises an error** if it gets an unexpected answer:"
   ]
  },
  {
   "cell_type": "code",
   "execution_count": 13,
   "metadata": {},
   "outputs": [],
   "source": [
    "assert overlap((1.0, 1.0, 4.0, 4.0), (2.0, 2.0, 3.0, 3.0)) == 1.0"
   ]
  },
  {
   "cell_type": "code",
   "execution_count": 14,
   "metadata": {},
   "outputs": [],
   "source": [
    "assert overlap((1.0, 1.0, 4.0, 4.0), (2.0, 2.0, 3.0, 4.5)) == 2.0"
   ]
  },
  {
   "cell_type": "code",
   "execution_count": 15,
   "metadata": {},
   "outputs": [],
   "source": [
    "assert overlap((1.0, 1.0, 4.0, 4.0), (2.0, 2.0, 4.5, 4.5)) == 4.0"
   ]
  },
  {
   "cell_type": "code",
   "execution_count": 16,
   "metadata": {
    "tags": [
     "raises-exception"
    ]
   },
   "outputs": [
    {
     "ename": "AssertionError",
     "evalue": "",
     "output_type": "error",
     "traceback": [
      "\u001b[0;31m---------------------------------------------------------------------------\u001b[0m",
      "\u001b[0;31mAssertionError\u001b[0m                            Traceback (most recent call last)",
      "Input \u001b[0;32mIn [16]\u001b[0m, in \u001b[0;36m<cell line: 1>\u001b[0;34m()\u001b[0m\n\u001b[0;32m----> 1\u001b[0m \u001b[38;5;28;01massert\u001b[39;00m overlap((\u001b[38;5;241m1.0\u001b[39m, \u001b[38;5;241m1.0\u001b[39m, \u001b[38;5;241m4.0\u001b[39m, \u001b[38;5;241m4.0\u001b[39m), (\u001b[38;5;241m4.5\u001b[39m, \u001b[38;5;241m4.5\u001b[39m, \u001b[38;5;241m5\u001b[39m, \u001b[38;5;241m5\u001b[39m)) \u001b[38;5;241m==\u001b[39m \u001b[38;5;241m0.0\u001b[39m\n",
      "\u001b[0;31mAssertionError\u001b[0m: "
     ]
    }
   ],
   "source": [
    "assert overlap((1.0, 1.0, 4.0, 4.0), (4.5, 4.5, 5, 5)) == 0.0"
   ]
  },
  {
   "cell_type": "code",
   "execution_count": 17,
   "metadata": {},
   "outputs": [
    {
     "name": "stdout",
     "output_type": "stream",
     "text": [
      "0.25\n"
     ]
    }
   ],
   "source": [
    "print(overlap((1.0, 1.0, 4.0, 4.0), (4.5, 4.5, 5, 5)))"
   ]
  },
  {
   "cell_type": "code",
   "execution_count": 18,
   "metadata": {},
   "outputs": [
    {
     "data": {
      "image/png": "[encoded data removed]",
      "text/plain": [
       "<Figure size 432x288 with 1 Axes>"
      ]
     },
     "metadata": {
      "filenames": {
       "image/png": "/home/runner/work/rse-course/rse-course/_build/jupyter_execute/module05_testing_your_code/05_01_how_to_test_38_0.png"
      },
      "needs_background": "light"
     },
     "output_type": "display_data"
    }
   ],
   "source": [
    "show_fields((1.0, 1.0, 4.0, 4.0), (4.5, 4.5, 5, 5))"
   ]
  },
  {
   "cell_type": "markdown",
   "metadata": {},
   "source": [
    "What? Why is this wrong?"
   ]
  },
  {
   "cell_type": "markdown",
   "metadata": {},
   "source": [
    "In our calculation, we are actually getting:"
   ]
  },
  {
   "cell_type": "code",
   "execution_count": 19,
   "metadata": {},
   "outputs": [],
   "source": [
    "overlap_left = 4.5\n",
    "overlap_right = 4\n",
    "overlap_width = -0.5\n",
    "overlap_height = -0.5"
   ]
  },
  {
   "cell_type": "markdown",
   "metadata": {},
   "source": [
    "Both width and height are negative, resulting in a positive area.\n",
    "The above code didn't take into account the non-overlap correctly."
   ]
  },
  {
   "cell_type": "markdown",
   "metadata": {},
   "source": [
    "It should be:\n",
    "    "
   ]
  },
  {
   "cell_type": "code",
   "execution_count": 20,
   "metadata": {},
   "outputs": [],
   "source": [
    "def overlap(field1, field2):\n",
    "    left1, bottom1, top1, right1 = field1\n",
    "    left2, bottom2, top2, right2 = field2\n",
    "\n",
    "    overlap_left = max(left1, left2)\n",
    "    overlap_bottom = max(bottom1, bottom2)\n",
    "    overlap_right = min(right1, right2)\n",
    "    overlap_top = min(top1, top2)\n",
    "\n",
    "    overlap_height = max(0, (overlap_top - overlap_bottom))\n",
    "    overlap_width = max(0, (overlap_right - overlap_left))\n",
    "\n",
    "    return overlap_height * overlap_width"
   ]
  },
  {
   "cell_type": "code",
   "execution_count": 21,
   "metadata": {},
   "outputs": [],
   "source": [
    "assert overlap((1, 1, 4, 4), (2, 2, 3, 3)) == 1.0\n",
    "assert overlap((1, 1, 4, 4), (2, 2, 3, 4.5)) == 2.0\n",
    "assert overlap((1, 1, 4, 4), (2, 2, 4.5, 4.5)) == 4.0\n",
    "assert overlap((1, 1, 4, 4), (4.5, 4.5, 5, 5)) == 0.0\n",
    "assert overlap((1, 1, 4, 4), (2.5, 4, 3.5, 4.5)) == 0.0\n",
    "assert overlap((1, 1, 4, 4), (4, 4, 4.5, 4.5)) == 0.0"
   ]
  },
  {
   "cell_type": "markdown",
   "metadata": {},
   "source": [
    "Note, we reran our other tests, to check our fix didn't break something else. (We call that \"fallout\")"
   ]
  },
  {
   "cell_type": "markdown",
   "metadata": {},
   "source": [
    "## Boundary cases"
   ]
  },
  {
   "cell_type": "markdown",
   "metadata": {},
   "source": [
    "\"Boundary cases\" are an important area to test:\n",
    "\n",
    "* Limit between two equivalence classes: edge and corner sharing fields\n",
    "* Wherever indices appear, check values at ``0``, ``N``, ``N+1``\n",
    "* Empty arrays:"
   ]
  },
  {
   "cell_type": "markdown",
   "metadata": {
    "attributes": {
     "classes": [
      " python"
     ],
     "id": ""
    }
   },
   "source": [
    "``` python\n",
    "    atoms = [read_input_atom(input_atom) for input_atom in input_file]\n",
    "    energy = force_field(atoms)\n",
    "```"
   ]
  },
  {
   "cell_type": "markdown",
   "metadata": {},
   "source": [
    "* What happens if ``atoms`` is an empty list?\n",
    "* What happens when a matrix/data-frame reaches one row, or one column?"
   ]
  },
  {
   "cell_type": "markdown",
   "metadata": {},
   "source": [
    "## Positive *and* negative tests\n",
    "\n",
    "* **Positive tests**: code should give correct answer with various inputs\n",
    "* **Negative tests**: code should crash as expected given invalid inputs, rather than lying\n",
    "\n",
    "<div align=\"left\">\n",
    "Bad input should be expected and should fail early and explicitly.\n",
    "\n",
    "<div class=\"fragment roll-in\">\n",
    "Testing should ensure that explicit failures do indeed happen."
   ]
  },
  {
   "cell_type": "markdown",
   "metadata": {},
   "source": [
    "## Raising exceptions"
   ]
  },
  {
   "cell_type": "markdown",
   "metadata": {},
   "source": [
    "In Python, we can signal an error state by raising an error:"
   ]
  },
  {
   "cell_type": "code",
   "execution_count": 22,
   "metadata": {
    "attributes": {
     "classes": [
      " python"
     ],
     "id": ""
    }
   },
   "outputs": [],
   "source": [
    "def I_only_accept_positive_numbers(number):\n",
    "    # Check input\n",
    "    if number < 0:\n",
    "        raise ValueError(\"Input \" + str(number) + \" is negative\")\n",
    "\n",
    "    # Do something"
   ]
  },
  {
   "cell_type": "code",
   "execution_count": 23,
   "metadata": {},
   "outputs": [],
   "source": [
    "I_only_accept_positive_numbers(5)"
   ]
  },
  {
   "cell_type": "code",
   "execution_count": 24,
   "metadata": {
    "tags": [
     "raises-exception"
    ]
   },
   "outputs": [
    {
     "ename": "ValueError",
     "evalue": "Input -5 is negative",
     "output_type": "error",
     "traceback": [
      "\u001b[0;31m---------------------------------------------------------------------------\u001b[0m",
      "\u001b[0;31mValueError\u001b[0m                                Traceback (most recent call last)",
      "Input \u001b[0;32mIn [24]\u001b[0m, in \u001b[0;36m<cell line: 1>\u001b[0;34m()\u001b[0m\n\u001b[0;32m----> 1\u001b[0m \u001b[43mI_only_accept_positive_numbers\u001b[49m\u001b[43m(\u001b[49m\u001b[38;5;241;43m-\u001b[39;49m\u001b[38;5;241;43m5\u001b[39;49m\u001b[43m)\u001b[49m\n",
      "Input \u001b[0;32mIn [22]\u001b[0m, in \u001b[0;36mI_only_accept_positive_numbers\u001b[0;34m(number)\u001b[0m\n\u001b[1;32m      1\u001b[0m \u001b[38;5;28;01mdef\u001b[39;00m \u001b[38;5;21mI_only_accept_positive_numbers\u001b[39m(number):\n\u001b[1;32m      2\u001b[0m     \u001b[38;5;66;03m# Check input\u001b[39;00m\n\u001b[1;32m      3\u001b[0m     \u001b[38;5;28;01mif\u001b[39;00m number \u001b[38;5;241m<\u001b[39m \u001b[38;5;241m0\u001b[39m:\n\u001b[0;32m----> 4\u001b[0m         \u001b[38;5;28;01mraise\u001b[39;00m \u001b[38;5;167;01mValueError\u001b[39;00m(\u001b[38;5;124m\"\u001b[39m\u001b[38;5;124mInput \u001b[39m\u001b[38;5;124m\"\u001b[39m \u001b[38;5;241m+\u001b[39m \u001b[38;5;28mstr\u001b[39m(number) \u001b[38;5;241m+\u001b[39m \u001b[38;5;124m\"\u001b[39m\u001b[38;5;124m is negative\u001b[39m\u001b[38;5;124m\"\u001b[39m)\n",
      "\u001b[0;31mValueError\u001b[0m: Input -5 is negative"
     ]
    }
   ],
   "source": [
    "I_only_accept_positive_numbers(-5)"
   ]
  },
  {
   "cell_type": "markdown",
   "metadata": {},
   "source": [
    "There are standard \"Exception\" types, like `ValueError` we can `raise`"
   ]
  },
  {
   "cell_type": "markdown",
   "metadata": {},
   "source": [
    "We would like to be able to write tests like this:"
   ]
  },
  {
   "cell_type": "code",
   "execution_count": 25,
   "metadata": {
    "tags": [
     "raises-exception"
    ]
   },
   "outputs": [
    {
     "ename": "SyntaxError",
     "evalue": "invalid syntax (3187101134.py, line 1)",
     "output_type": "error",
     "traceback": [
      "\u001b[0;36m  Input \u001b[0;32mIn [25]\u001b[0;36m\u001b[0m\n\u001b[0;31m    assert I_only_accept_positive_numbers(-5) == # Gives a value error\u001b[0m\n\u001b[0m                                                 ^\u001b[0m\n\u001b[0;31mSyntaxError\u001b[0m\u001b[0;31m:\u001b[0m invalid syntax\n"
     ]
    }
   ],
   "source": [
    "assert I_only_accept_positive_numbers(-5) == # Gives a value error"
   ]
  },
  {
   "cell_type": "markdown",
   "metadata": {},
   "source": [
    "But to do that, we need to learn about more sophisticated testing tools, called \"test frameworks\"."
   ]
  }
 ],
 "metadata": {
  "jekyll": {
   "display_name": "The Fields of Saskatchewan"
  },
  "kernelspec": {
   "display_name": "Python 3 (ipykernel)",
   "language": "python",
   "name": "python3"
  },
  "language_info": {
   "codemirror_mode": {
    "name": "ipython",
    "version": 3
   },
   "file_extension": ".py",
   "mimetype": "text/x-python",
   "name": "python",
   "nbconvert_exporter": "python",
   "pygments_lexer": "ipython3",
   "version": "3.8.13"
  }
 },
 "nbformat": 4,
 "nbformat_minor": 1
}