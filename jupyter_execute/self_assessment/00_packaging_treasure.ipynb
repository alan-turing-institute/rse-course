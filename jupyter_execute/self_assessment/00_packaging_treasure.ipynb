{
 "cells": [
  {
   "cell_type": "markdown",
   "metadata": {},
   "source": [
    "# An Adventure In Packaging: An exercise in research software engineering."
   ]
  },
  {
   "cell_type": "markdown",
   "metadata": {},
   "source": [
    "In this exercise, you will convert the already provided solution to the programming challenge defined in this Jupyter notebook, into a proper Python package."
   ]
  },
  {
   "cell_type": "markdown",
   "metadata": {},
   "source": [
    "The code to actually solve the problem is already given, but as roughly sketched out code in a notebook."
   ]
  },
  {
   "cell_type": "markdown",
   "metadata": {},
   "source": [
    "Your job will be to convert the code into a formally structured package, with unit tests, a command line interface, and demonstrating your ability to use `git` version control."
   ]
  },
  {
   "cell_type": "markdown",
   "metadata": {},
   "source": [
    "First, we set out the problem we are solving, and it's informal solution. Next, we specify in detail the target for your tidy solution. Finally, to assist you in creating a good solution, we state the marks scheme we will use."
   ]
  },
  {
   "cell_type": "markdown",
   "metadata": {},
   "source": [
    "# Treasure Hunting for Beginners: an AI testbed"
   ]
  },
  {
   "cell_type": "markdown",
   "metadata": {},
   "source": [
    "We are going to look at a simple game, a modified version of one with a [long history](https://en.wikipedia.org/wiki/Hunt_the_Wumpus). Games of this kind have been used as test-beds for development of artificial intelligence.\n",
    "\n",
    "A *dungeon* is a network of connected *rooms*. One or more rooms contain *treasure*. Your character, the *adventurer*, moves between rooms, looking for the treasure.\n",
    "A *troll* is also in the dungeon. The troll moves between rooms at random. If the troll catches the adventurer, you lose. If you find treasure before being eaten, you win. (In this simple version, we do not consider the need to leave the dungeon.)\n",
    "\n",
    "The starting rooms for the adventurer and troll are given in the definition of the dungeon.\n",
    "\n",
    "The way the adventurer moves is called a *strategy*. Different strategies are more or less likely to succeed.\n",
    "\n",
    "We will consider only one strategy this time - the adventurer will also move at random.\n",
    "\n",
    "We want to calculate the probability that this strategy will be successful for a given dungeon.\n",
    "\n",
    "We will use a \"monte carlo\" approach - simply executing the random strategy many times, and counting the proportion of times the adventurer wins."
   ]
  },
  {
   "cell_type": "markdown",
   "metadata": {},
   "source": [
    "Our data structure for a dungeon will be somewhat familiar from the Maze example:"
   ]
  },
  {
   "cell_type": "code",
   "execution_count": 1,
   "metadata": {},
   "outputs": [],
   "source": [
    "dungeon1 = {\n",
    "    \"treasure\": [1],  # Room 1 contains treasure\n",
    "    \"adventurer\": 0,  # The adventurer starts in room 0\n",
    "    \"troll\": 2,  # The troll starts in room 2\n",
    "    \"network\": [\n",
    "        [1],  # Room zero connects to room 1\n",
    "        [0, 2],  # Room one connects to rooms 0 and 2\n",
    "        [1],\n",
    "    ],  # Room 2 connects to room 1\n",
    "}"
   ]
  },
  {
   "cell_type": "markdown",
   "metadata": {},
   "source": [
    "So this example shows a 3-room linear corridor: with the adventurer at one end, the troll at the other, and the treasure in the middle."
   ]
  },
  {
   "cell_type": "markdown",
   "metadata": {},
   "source": [
    "With the adventurer following a random walk strategy, we can define a function to update a dungeon:"
   ]
  },
  {
   "cell_type": "code",
   "execution_count": 2,
   "metadata": {},
   "outputs": [],
   "source": [
    "import random\n",
    "\n",
    "\n",
    "def random_move(network, current_loc):\n",
    "    targets = network[current_loc]\n",
    "    return random.choice(targets)"
   ]
  },
  {
   "cell_type": "code",
   "execution_count": 3,
   "metadata": {},
   "outputs": [],
   "source": [
    "def update_dungeon(dungeon):\n",
    "    dungeon[\"adventurer\"] = random_move(dungeon[\"network\"], dungeon[\"adventurer\"])\n",
    "    dungeon[\"troll\"] = random_move(dungeon[\"network\"], dungeon[\"troll\"])"
   ]
  },
  {
   "cell_type": "code",
   "execution_count": 4,
   "metadata": {},
   "outputs": [
    {
     "data": {
      "text/plain": [
       "{'treasure': [1], 'adventurer': 1, 'troll': 1, 'network': [[1], [0, 2], [1]]}"
      ]
     },
     "execution_count": 4,
     "metadata": {},
     "output_type": "execute_result"
    }
   ],
   "source": [
    "update_dungeon(dungeon1)\n",
    "\n",
    "dungeon1"
   ]
  },
  {
   "cell_type": "markdown",
   "metadata": {},
   "source": [
    "We can also define a function to test if the adventurer has won, died, or if the game continues:"
   ]
  },
  {
   "cell_type": "code",
   "execution_count": 5,
   "metadata": {},
   "outputs": [],
   "source": [
    "def outcome(dungeon):\n",
    "    if dungeon[\"adventurer\"] == dungeon[\"troll\"]:\n",
    "        return -1\n",
    "    if dungeon[\"adventurer\"] in dungeon[\"treasure\"]:\n",
    "        return 1\n",
    "    return 0"
   ]
  },
  {
   "cell_type": "code",
   "execution_count": 6,
   "metadata": {},
   "outputs": [
    {
     "data": {
      "text/plain": [
       "-1"
      ]
     },
     "execution_count": 6,
     "metadata": {},
     "output_type": "execute_result"
    }
   ],
   "source": [
    "outcome(dungeon1)"
   ]
  },
  {
   "cell_type": "markdown",
   "metadata": {},
   "source": [
    "So we can loop, to determine the outcome of an adventurer in a dungeon:"
   ]
  },
  {
   "cell_type": "code",
   "execution_count": 7,
   "metadata": {},
   "outputs": [],
   "source": [
    "import copy\n",
    "\n",
    "\n",
    "def run_to_result(dungeon):\n",
    "    dungeon = copy.deepcopy(dungeon)\n",
    "    max_steps = 1000\n",
    "    for _ in range(max_steps):\n",
    "        result = outcome(dungeon)\n",
    "        if result != 0:\n",
    "            return result\n",
    "        update_dungeon(dungeon)\n",
    "    # don't run forever, return 0 (e.g. if there is no treasure and the troll can't reach the adventurer)\n",
    "    return result"
   ]
  },
  {
   "cell_type": "code",
   "execution_count": 8,
   "metadata": {},
   "outputs": [],
   "source": [
    "dungeon2 = {\n",
    "    \"treasure\": [1],  # Room 1 contains treasure\n",
    "    \"adventurer\": 0,  # The adventurer starts in room 0\n",
    "    \"troll\": 2,  # The troll starts in room 2\n",
    "    \"network\": [\n",
    "        [1],  # Room zero connects to room 1\n",
    "        [0, 2],  # Room one connects to rooms 0 and 2\n",
    "        [1, 3],  # Room 2 connects to room 1 and 3\n",
    "        [2],\n",
    "    ],  # Room 3 connects to room 2\n",
    "}"
   ]
  },
  {
   "cell_type": "code",
   "execution_count": 9,
   "metadata": {},
   "outputs": [
    {
     "data": {
      "text/plain": [
       "1"
      ]
     },
     "execution_count": 9,
     "metadata": {},
     "output_type": "execute_result"
    }
   ],
   "source": [
    "run_to_result(dungeon2)"
   ]
  },
  {
   "cell_type": "markdown",
   "metadata": {},
   "source": [
    "Note that we might get a different result sometimes, depending on how the adventurer moves, so we need to run multiple times to get our probability:"
   ]
  },
  {
   "cell_type": "code",
   "execution_count": 10,
   "metadata": {},
   "outputs": [],
   "source": [
    "def success_chance(dungeon):\n",
    "    trials = 10000\n",
    "    successes = 0\n",
    "    for _ in range(trials):\n",
    "        outcome = run_to_result(dungeon)\n",
    "        if outcome == 1:\n",
    "            successes += 1\n",
    "    success_fraction = successes / trials\n",
    "    return success_fraction"
   ]
  },
  {
   "cell_type": "code",
   "execution_count": 11,
   "metadata": {},
   "outputs": [
    {
     "data": {
      "text/plain": [
       "0.4996"
      ]
     },
     "execution_count": 11,
     "metadata": {},
     "output_type": "execute_result"
    }
   ],
   "source": [
    "success_chance(dungeon2)"
   ]
  },
  {
   "cell_type": "markdown",
   "metadata": {},
   "source": [
    "Make sure you understand why this number should be a half, given a large value for `trials`."
   ]
  },
  {
   "cell_type": "code",
   "execution_count": 12,
   "metadata": {},
   "outputs": [],
   "source": [
    "dungeon3 = {\n",
    "    \"treasure\": [2],  # Room 2 contains treasure\n",
    "    \"adventurer\": 0,  # The adventurer starts in room 0\n",
    "    \"troll\": 4,  # The troll starts in room 4\n",
    "    \"network\": [\n",
    "        [1],  # Room zero connects to room 1\n",
    "        [0, 2],  # Room one connects to rooms 0 and 2\n",
    "        [1, 3],  # Room 2 connects to room 1 and 3\n",
    "        [2, 4],  # Room 3 connects to room 2 and 4\n",
    "        [3],\n",
    "    ],  # Room 4 connects to room 3\n",
    "}"
   ]
  },
  {
   "cell_type": "code",
   "execution_count": 13,
   "metadata": {},
   "outputs": [
    {
     "data": {
      "text/plain": [
       "0.3892"
      ]
     },
     "execution_count": 13,
     "metadata": {},
     "output_type": "execute_result"
    }
   ],
   "source": [
    "success_chance(dungeon3)"
   ]
  },
  {
   "cell_type": "markdown",
   "metadata": {},
   "source": [
    "[Not for credit] Do you understand why this number should be 0.4? Hint: The first move is always the same. In the next state, a quarter of the time, you win. 3/8 of the time, you end up back where you were before. The rest of the time, you lose (eventually). You can sum the series: $\\frac{1}{4}(1+\\frac{3}{8}+(\\frac{3}{8})^2+...)=\\frac{2}{5}$."
   ]
  },
  {
   "cell_type": "markdown",
   "metadata": {},
   "source": [
    "# Packaging the Treasure: your exercise"
   ]
  },
  {
   "cell_type": "markdown",
   "metadata": {},
   "source": [
    "If you are following the guidelines from earlier lectures, you will use a single top-level folder with a sensible name. This top level folder should contain all the parts of your solution."
   ]
  },
  {
   "cell_type": "markdown",
   "metadata": {},
   "source": [
    "Inside your top level folder, you should create a `setup.py` file to make the code installable. You should also create some other files, per the lectures, that should be present in all research software packages. (Hint, there are three of these.)"
   ]
  },
  {
   "cell_type": "markdown",
   "metadata": {},
   "source": [
    "Your tidied-up version of the solution code should be in a sub-folder called `adventure` which will be the python package itself. It will contain an `__init__.py` file, and the code itself should be in a file called `dungeon.py`. This should define a class `Dungeon`: instead of a data structure and associated functions, you must refactor this into a class and methods.\n",
    "\n",
    "Thus, if you run python in your top-level folder, you should be able to `from adventure.dungeon import Dungeon`."
   ]
  },
  {
   "cell_type": "markdown",
   "metadata": {},
   "source": [
    "You must create a command-line entry point, called `hunt`. This should use the entry_points facility in `setup.py`, to point toward a module designed for use as the entry point, in `adventure/command.py`. This should use the `Argparse` library. When invoked with `hunt mydungeon.yml --samples 500` the command must print on standard output the probability of finding the treasure in the specified dungeon, using the random walk strategy, after the specified number of test runs."
   ]
  },
  {
   "cell_type": "markdown",
   "metadata": {},
   "source": [
    "The `dungeon.yml` file should be a yml file containing a structure representing the dungeon state. Use the same structure as the sample code above, even though you'll be building a `Dungeon` object from this structure rather than using it directly."
   ]
  },
  {
   "cell_type": "markdown",
   "metadata": {},
   "source": [
    "You must create unit tests which cover a number of examples. These should be defined in `adventure/tests/test_dungeon.py`. Don't forget to add an __init.py__ file to that folder too, so that at the top of the test file you can \" `from ..dungeon import Dungeon`.\" If your unit tests use a fixture file to DRY up tests, this must be called `adventure/tests/fixtures.yml`. For example, this could contain a yaml array of many dungeon structures."
   ]
  },
  {
   "cell_type": "markdown",
   "metadata": {},
   "source": [
    "You should `git init` as soon as you create the top-level folder, and `git commit` your work regularly as the exercise progresses."
   ]
  },
  {
   "cell_type": "markdown",
   "metadata": {},
   "source": [
    "# Suggested Marking Scheme"
   ]
  },
  {
   "cell_type": "markdown",
   "metadata": {},
   "source": [
    "If you want to self-assess your solution you can consider using the marking scheme below."
   ]
  },
  {
   "cell_type": "markdown",
   "metadata": {},
   "source": [
    "* Code in dungeon.py, implementing the random walk strategy: (**5 marks**)\n",
    "  * Which works. (**1 mark**)\n",
    "  * Cleanly laid out and formatted - PEP8. (**1 mark**)\n",
    "  * Defining the class `Dungeon` with a valid object oriented structure. (**1 mark**)\n",
    "  * Breaking down the solution sensibly into subunits. (**1 mark**)\n",
    "  * Structured so that it could be used as a base for other strategies. (**1 mark**)\n",
    "* Command line entry point: (**4 marks**)\n",
    "  * Accepting a dungeon definition text file as input. (**1 mark**)\n",
    "  * With an optional parameter to control sample size. (**1 mark**)\n",
    "  * Which prints the result to standard out. (**1 mark**)\n",
    "  * Which correctly uses the `Argparse` library. (**1 mark**)\n",
    "  * Which is itself cleanly laid out and formatted. (**1 mark**)\n",
    "* setup.py file: (**5 marks**)\n",
    "  * Which could be used to `pip install` the project. (**1 mark**)\n",
    "  * With appropriate metadata, including version number and author. (**1 mark**)\n",
    "  * Which packages code (but not tests), correctly. (**1 mark**)\n",
    "  * Which specifies library dependencies. (**1 mark**)\n",
    "  * Which points to the entry point function. (**1 mark**)\n",
    "* Three other metadata files: (**3 marks**)\n",
    "  * Hint: Who did it, how to reference it, who can copy it.\n",
    "* Unit tests: (**5 marks**)\n",
    "  * Which test some obvious cases. (**1 mark**)\n",
    "  * Which correctly handle approximate results within an appropriate tolerance. (**1 mark**)\n",
    "  * Which test how the code fails when invoked incorrectly. (**1 mark**)\n",
    "  * Which use a fixture file or other approach to avoid overly repetitive test code. (**1 mark**)\n",
    "  * Which are themselves cleanly laid out code. (**1 mark**)\n",
    "* Version control: (**2 marks**)\n",
    "  * Sensible commit sizes. (**1 mark**)\n",
    "  * Appropriate commit comments. (**1 mark**)"
   ]
  },
  {
   "cell_type": "markdown",
   "metadata": {},
   "source": [
    "Total: **25 marks**"
   ]
  }
 ],
 "metadata": {
  "kernelspec": {
   "display_name": "Python 3 (ipykernel)",
   "language": "python",
   "name": "python3"
  },
  "language_info": {
   "codemirror_mode": {
    "name": "ipython",
    "version": 3
   },
   "file_extension": ".py",
   "mimetype": "text/x-python",
   "name": "python",
   "nbconvert_exporter": "python",
   "pygments_lexer": "ipython3",
   "version": "3.8.13"
  }
 },
 "nbformat": 4,
 "nbformat_minor": 2
}