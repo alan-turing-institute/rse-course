{
 "cells": [
  {
   "cell_type": "markdown",
   "metadata": {},
   "source": [
    "# Refactoring Trees: An exercise in Research Software Engineering"
   ]
  },
  {
   "cell_type": "markdown",
   "metadata": {},
   "source": [
    "In this exercise, you will convert badly written code, provided here, into better-written code."
   ]
  },
  {
   "cell_type": "markdown",
   "metadata": {},
   "source": [
    "You will do this not through simply writing better code, but by taking a refactoring approach, as discussed in the lectures."
   ]
  },
  {
   "cell_type": "markdown",
   "metadata": {},
   "source": [
    "As such, your use of `git` version control, to make a commit after each step of the refactoring, with a commit message which indicates the refactoring you took, will be critical to success.\n"
   ]
  },
  {
   "cell_type": "markdown",
   "metadata": {},
   "source": [
    "You will also be asked to look at the performance of your code, and to make changes which improve the speed of the code."
   ]
  },
  {
   "cell_type": "markdown",
   "metadata": {},
   "source": [
    "The script as supplied has its parameters hand-coded within the code. You will be expected, in your refactoring, to make these available as command line parameters to be supplied when the code is invoked."
   ]
  },
  {
   "cell_type": "markdown",
   "metadata": {},
   "source": [
    "# Some terrible code"
   ]
  },
  {
   "cell_type": "markdown",
   "metadata": {},
   "source": [
    "Here's our terrible code:"
   ]
  },
  {
   "cell_type": "code",
   "execution_count": 1,
   "metadata": {},
   "outputs": [],
   "source": [
    "%matplotlib inline"
   ]
  },
  {
   "cell_type": "code",
   "execution_count": 2,
   "metadata": {},
   "outputs": [
    {
     "data": {
      "image/png": "[encoded data removed]",
      "text/plain": [
       "<Figure size 432x288 with 1 Axes>"
      ]
     },
     "metadata": {
      "filenames": {
       "image/png": "/home/runner/work/rse-course/rse-course/_build/jupyter_execute/self_assessment/01_refactoring_trees_9_0.png"
      },
      "needs_background": "light"
     },
     "output_type": "display_data"
    }
   ],
   "source": [
    "from math import sin, cos\n",
    "from matplotlib import pyplot as plt\n",
    "\n",
    "s = 1\n",
    "d = [[0, 1, 0]]\n",
    "plt.plot([0, 0], [0, 1])\n",
    "for i in range(5):\n",
    "    n = []\n",
    "    for j in range(len(d)):\n",
    "        n.append(\n",
    "            [\n",
    "                d[j][0] + s * sin(d[j][2] - 0.2),\n",
    "                d[j][1] + s * cos(d[j][2] - 0.2),\n",
    "                d[j][2] - 0.2,\n",
    "            ]\n",
    "        )\n",
    "        n.append(\n",
    "            [\n",
    "                d[j][0] + s * sin(d[j][2] + 0.2),\n",
    "                d[j][1] + s * cos(d[j][2] + 0.2),\n",
    "                d[j][2] + 0.2,\n",
    "            ]\n",
    "        )\n",
    "        plt.plot([d[j][0], n[-2][0]], [d[j][1], n[-2][1]])\n",
    "        plt.plot([d[j][0], n[-1][0]], [d[j][1], n[-1][1]])\n",
    "    d = n\n",
    "    s *= 0.6\n",
    "plt.savefig(\"tree.png\")"
   ]
  },
  {
   "cell_type": "markdown",
   "metadata": {},
   "source": [
    "# Suggested Marking Scheme\n",
    "If you want to self-assess your solution you can consider using the marking scheme below."
   ]
  },
  {
   "cell_type": "markdown",
   "metadata": {},
   "source": [
    "## Part one: Refactoring (15 marks)"
   ]
  },
  {
   "cell_type": "markdown",
   "metadata": {},
   "source": [
    "* Copy the code above into a file tree.py, invoke it with python tree.py, and verify it creates an image tree.png which looks like that above.\n",
    "* Initialise your git repository with the raw state of the code. (**1 mark**)\n",
    "* Identify a number of simple refactorings which can be used to improve the code, *reducing repetition* and *improving readability*. Implement these one by one, with a git commit each time.\n",
    "    * **1 mark** for each refactoring, **1 mark** for each git commit, at least five such: **10 marks total**.\n",
    "* Do NOT introduce NumPy or other performance improvements yet (see below.)\n",
    "* Identify which variables in the code would, more sensibly, be able to be input parameters, and use Argparse to manage these.\n",
    "   * **4 marks**: 1 for each of four arguments identified."
   ]
  },
  {
   "cell_type": "markdown",
   "metadata": {},
   "source": [
    "## Part two: performance programming (10 marks)"
   ]
  },
  {
   "cell_type": "markdown",
   "metadata": {},
   "source": [
    "* For the code as refactored, prepare a figure which plots the time to produce the tree, versus number of iteration steps completed. Your code to produce this figure should run as a script, which you should call `perf_plot.py`, invoking a function imported from `tree.py`. The script should produce a figure called `perf_plot.png`. Comment on your findings in a text file, called `comments.md`. For your performance measurements you should turn off the actual plotting, and run only the mathematical calculation using an appropriate flag. **5 marks**:\n",
    "   * Time to run code identified. (**1 mark**)\n",
    "   * Figure created. (**1 mark**)\n",
    "   * Figure correctly formatted. (**1 mark**)\n",
    "   * Figure auto-generated from script. (**1 mark**)\n",
    "   * Performance law identified. (**1 mark**)"
   ]
  },
  {
   "cell_type": "markdown",
   "metadata": {},
   "source": [
    "* The code above makes use of `append()` which is not appropriate for `NumPy`. Create a new solution (in a file called `tree_np.py`) which makes use of `NumPy`. Compare the performance (again, excluding the plotting from your measurements), and discuss in comments.md. **5 marks**:\n",
    "    * Array-operations used to subtract the change angle from all angles in a single minus sign. (**1 mark**)\n",
    "    * Array-operations used to take the sine of all angles using np.sin. (**1 mark**)\n",
    "    * Array-operations used to move on all the positions with a single vector displacement addition. (**1 mark**)\n",
    "    * Numpy solution uses `hstack` or similar to create new arrays with twice the length, by composing the left-turned array with the right-turned array. (**1 mark**)\n",
    "    * Performance comparison recorded. (**1 mark**)"
   ]
  }
 ],
 "metadata": {
  "kernelspec": {
   "display_name": "Python 3 (ipykernel)",
   "language": "python",
   "name": "python3"
  },
  "language_info": {
   "codemirror_mode": {
    "name": "ipython",
    "version": 3
   },
   "file_extension": ".py",
   "mimetype": "text/x-python",
   "name": "python",
   "nbconvert_exporter": "python",
   "pygments_lexer": "ipython3",
   "version": "3.8.13"
  }
 },
 "nbformat": 4,
 "nbformat_minor": 1
}