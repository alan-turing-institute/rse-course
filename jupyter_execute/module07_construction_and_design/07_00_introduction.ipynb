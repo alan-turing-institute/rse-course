{
 "cells": [
  {
   "cell_type": "markdown",
   "metadata": {},
   "source": [
    "# Construction"
   ]
  },
  {
   "cell_type": "markdown",
   "metadata": {},
   "source": [
    "## Construction"
   ]
  },
  {
   "cell_type": "markdown",
   "metadata": {},
   "source": [
    "\n",
    "Software *design* gets a lot of press (Object orientation, UML, design patterns).\n",
    "\n",
    "In this session we're going to look at advice on software *construction*.\n"
   ]
  },
  {
   "cell_type": "markdown",
   "metadata": {},
   "source": [
    "### Construction vs Design"
   ]
  },
  {
   "cell_type": "markdown",
   "metadata": {},
   "source": [
    "\n",
    "For a given piece of code, there exist several different ways one could write it:\n",
    "\n",
    "* Choice of variable names\n",
    "* Choice of comments\n",
    "* Choice of layout\n",
    "\n",
    "The consideration of these questions is the area of Software Construction.\n"
   ]
  },
  {
   "cell_type": "markdown",
   "metadata": {},
   "source": [
    "### Low-level design decisions"
   ]
  },
  {
   "cell_type": "markdown",
   "metadata": {},
   "source": [
    "\n",
    "We will also look at some of the lower-level software design decisions in the context of this section:\n",
    "\n",
    "* Division of code into subroutines\n",
    "* Subroutine access signatures\n",
    "* Choice of data structures for readability\n"
   ]
  },
  {
   "cell_type": "markdown",
   "metadata": {},
   "source": [
    "### Algorithms and structures"
   ]
  },
  {
   "cell_type": "markdown",
   "metadata": {},
   "source": [
    "\n",
    "We will not, in discussing construction, be looking at decisions as to how design questions impact performance:\n",
    "\n",
    "* Choice of algorithms\n",
    "* Choice of data structures for performance\n",
    "* Choice of memory layout\n",
    "\n",
    "We will consider these in a future discussion of performance programming.\n"
   ]
  },
  {
   "cell_type": "markdown",
   "metadata": {},
   "source": [
    "### Architectural design"
   ]
  },
  {
   "cell_type": "markdown",
   "metadata": {},
   "source": [
    "\n",
    "We will not, in this session, be looking at the large-scale questions of how program components interact,\n",
    "the stategic choices that govern how software behaves at the large scale:\n",
    "\n",
    "* Where do objects get made?\n",
    "* Which objects own or access other objects?\n",
    "* How can I hide complexity in one part of the code from other parts of the code?\n",
    "\n",
    "We will consider these in a future session.\n"
   ]
  },
  {
   "cell_type": "markdown",
   "metadata": {},
   "source": [
    "### Construction"
   ]
  },
  {
   "cell_type": "markdown",
   "metadata": {},
   "source": [
    "\n",
    "So, we've excluded most of the exciting topics. What's left is the bricks and mortar of software:\n",
    "how letters and symbols are used to build code which is readable.\n"
   ]
  },
  {
   "cell_type": "markdown",
   "metadata": {},
   "source": [
    "### Literate programming"
   ]
  },
  {
   "cell_type": "markdown",
   "metadata": {},
   "source": [
    "\n",
    "In literature, books are enjoyable for different reasons:\n",
    "\n",
    "* The beauty of stories\n",
    "* The beauty of plots\n",
    "* The beauty of characters\n",
    "* The beauty of paragraphs\n",
    "* The beauty of sentences\n",
    "* The beauty of words\n",
    "\n",
    "Software has beauty at these levels too: stories and characters correspond to architecture and object design,\n",
    "plots corresponds to algorithms, but the rhythm of sentences and the choice of words corresponds\n",
    "to software construction.\n"
   ]
  },
  {
   "cell_type": "markdown",
   "metadata": {},
   "source": [
    "### Programming for humans"
   ]
  },
  {
   "cell_type": "markdown",
   "metadata": {},
   "source": [
    "\n",
    "* Remember you're programming for humans as well as computers\n",
    "* A program is the best, most rigorous way to describe an algorithm\n",
    "* Code should be pleasant to read, a form of scholarly communication\n",
    "\n",
    "Read Steve McConnell's [Code Complete](https://en.wikipedia.org/wiki/Code_Complete).\n",
    "\n",
    "\n",
    "\n",
    "\n"
   ]
  },
  {
   "cell_type": "markdown",
   "metadata": {},
   "source": [
    "### Setup"
   ]
  },
  {
   "cell_type": "markdown",
   "metadata": {},
   "source": [
    "This notebook is based on a number of fragments of code, with an implicit context.\n",
    "We've made a library to set up the context so the examples work."
   ]
  },
  {
   "cell_type": "code",
   "execution_count": 1,
   "metadata": {},
   "outputs": [
    {
     "name": "stdout",
     "output_type": "stream",
     "text": [
      "Overwriting context.py\n"
     ]
    }
   ],
   "source": [
    "%%writefile context.py\n",
    "from unittest.mock import Mock, MagicMock\n",
    "\n",
    "\n",
    "class CompMock(Mock):\n",
    "    def __sub__(self, b):\n",
    "        return CompMock()\n",
    "\n",
    "    def __lt__(self, b):\n",
    "        return True\n",
    "\n",
    "    def __abs__(self):\n",
    "        return CompMock()\n",
    "\n",
    "\n",
    "array = []\n",
    "agt = []\n",
    "ws = []\n",
    "agents = []\n",
    "counter = 0\n",
    "x = MagicMock()\n",
    "y = None\n",
    "agent = MagicMock()\n",
    "value = 0\n",
    "bird_types = [\"Starling\", \"Hawk\"]\n",
    "import numpy as np\n",
    "\n",
    "average = np.mean\n",
    "hawk = CompMock()\n",
    "starling = CompMock()\n",
    "sEntry = \"2.0\"\n",
    "entry = \"2.0\"\n",
    "iOffset = 1\n",
    "offset = 1\n",
    "anothervariable = 1\n",
    "flag1 = True\n",
    "variable = 1\n",
    "flag2 = False\n",
    "\n",
    "\n",
    "def do_something():\n",
    "    pass\n",
    "\n",
    "\n",
    "chromosome = None\n",
    "start_codon = None\n",
    "subsequence = MagicMock()\n",
    "transcribe = MagicMock()\n",
    "ribe = MagicMock()\n",
    "find = MagicMock()\n",
    "can_see = MagicMock()\n",
    "my_name = \"\"\n",
    "your_name = \"\"\n",
    "flag1 = False\n",
    "flag2 = False\n",
    "start = 0.0\n",
    "end = 1.0\n",
    "step = 0.1\n",
    "birds = [MagicMock()] * 2\n",
    "resolution = 100\n",
    "pi = 3.141\n",
    "result = [0] * resolution\n",
    "import numpy as np\n",
    "import math\n",
    "\n",
    "data = [math.sin(y) for y in np.arange(0, pi, pi / resolution)]\n",
    "import yaml\n",
    "import os"
   ]
  }
 ],
 "metadata": {
  "jekyll": {
   "display_name": "Construction"
  },
  "kernelspec": {
   "display_name": "Python 3 (ipykernel)",
   "language": "python",
   "name": "python3"
  },
  "language_info": {
   "codemirror_mode": {
    "name": "ipython",
    "version": 3
   },
   "file_extension": ".py",
   "mimetype": "text/x-python",
   "name": "python",
   "nbconvert_exporter": "python",
   "pygments_lexer": "ipython3",
   "version": "3.8.13"
  }
 },
 "nbformat": 4,
 "nbformat_minor": 1
}