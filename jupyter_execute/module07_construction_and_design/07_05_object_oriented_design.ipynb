{
 "cells": [
  {
   "cell_type": "markdown",
   "metadata": {},
   "source": [
    "# 7.5 Object-Oriented Design"
   ]
  },
  {
   "cell_type": "markdown",
   "metadata": {},
   "source": [
    "*Estimated time for this notebook: 15 minutes*"
   ]
  },
  {
   "cell_type": "markdown",
   "metadata": {},
   "source": [
    "In this session, we will finally discuss the thing most people think of when they refer to \"Software Engineering\": the deliberate *design* of software.\n",
    "We will discuss processes and methodologies for planned development of large-scale software projects: *Software Architecture*.\n",
    "\n",
    "The software engineering community has, in large part, focused on an object-oriented approach to the design and development of large scale software systems.\n",
    "The basic concepts of object orientation are necessary to follow much of the software engineering conversation.\n",
    "\n",
    "\n",
    "## Design processes\n",
    "\n",
    "\n",
    "In addition to object-oriented architecture, software engineers have focused on the development of processes for robust, reliable software development. \n",
    "These codified ways of working hope to enable organisations to repeatably and reliably complete complex software projects in a way that minimises both development \n",
    "and maintainance costs, and meets user requirements.\n",
    "\n",
    "\n",
    "## Design and research\n",
    "\n",
    "\n",
    "Software engineering theory has largely been developed in the context of commercial software companies.\n",
    "\n",
    "The extent to which the practices and processes developed for commercial software are applicable in a research context is itself an active area of research.\n",
    "\n",
    "\n"
   ]
  },
  {
   "cell_type": "markdown",
   "metadata": {},
   "source": [
    "## Recap of Object-Orientation"
   ]
  },
  {
   "cell_type": "markdown",
   "metadata": {},
   "source": [
    "### Classes: User defined types\n",
    "\n",
    "```python\n",
    "class Person:\n",
    "    def __init__(self, name, age):\n",
    "        self.name = name\n",
    "        self.age = age\n",
    "\n",
    "    def grow_up(self):\n",
    "        self.age += 1\n",
    "\n",
    "\n",
    "terry = Person(\"Terry\", 76)\n",
    "```"
   ]
  },
  {
   "cell_type": "markdown",
   "metadata": {},
   "source": [
    "⚠️ Note that in Python, you can add properties to an object once it's been defined. **Just because you can doesn't mean you should!**\n",
    "\n",
    "```python\n",
    "terry.home = \"Colwyn Bay\"  # don't add new properties like this!\n",
    "```"
   ]
  },
  {
   "cell_type": "markdown",
   "metadata": {},
   "source": [
    "### Declaring a class "
   ]
  },
  {
   "cell_type": "markdown",
   "metadata": {},
   "source": [
    "**Class:** A user-defined type\n",
    "\n",
    "```python\n",
    "class MyClass:\n",
    "    pass\n",
    "```"
   ]
  },
  {
   "cell_type": "markdown",
   "metadata": {},
   "source": [
    "### Object instances"
   ]
  },
  {
   "cell_type": "markdown",
   "metadata": {},
   "source": [
    "**Instance:** A particular object *instantiated* from a class.\n",
    "\n",
    "```python\n",
    "my_object = MyClass()\n",
    "```"
   ]
  },
  {
   "cell_type": "markdown",
   "metadata": {},
   "source": [
    "### Method"
   ]
  },
  {
   "cell_type": "markdown",
   "metadata": {},
   "source": [
    "**Method:** A function which is \"built in\" to a class\n",
    "\n",
    "```python\n",
    "class MyClass:\n",
    "    def someMethod(self, argument):\n",
    "        pass\n",
    "\n",
    "\n",
    "my_object = MyClass()\n",
    "my_object.someMethod(value)\n",
    "```"
   ]
  },
  {
   "cell_type": "markdown",
   "metadata": {},
   "source": [
    "### Constructor"
   ]
  },
  {
   "cell_type": "markdown",
   "metadata": {},
   "source": [
    "**Constructor:** A special method called when instantiating a new object\n",
    "\n",
    "```python\n",
    "class MyClass:\n",
    "    def __init__(self, argument):\n",
    "        pass\n",
    "\n",
    "\n",
    "my_object = MyClass(value)\n",
    "```"
   ]
  },
  {
   "cell_type": "markdown",
   "metadata": {},
   "source": [
    "### Member Variable"
   ]
  },
  {
   "cell_type": "markdown",
   "metadata": {},
   "source": [
    "**Member variable:** a value stored inside an instance of a class. Define (and initialise) them in the class constructor."
   ]
  },
  {
   "cell_type": "code",
   "execution_count": 1,
   "metadata": {},
   "outputs": [
    {
     "name": "stdout",
     "output_type": "stream",
     "text": [
      "Value\n"
     ]
    }
   ],
   "source": [
    "class MyClass:\n",
    "    def __init__(self):\n",
    "        self.member = \"Value\"\n",
    "\n",
    "\n",
    "my_object = MyClass()\n",
    "print(my_object.member)"
   ]
  },
  {
   "cell_type": "markdown",
   "metadata": {},
   "source": [
    "Each object has its own set of member variables."
   ]
  },
  {
   "cell_type": "code",
   "execution_count": 2,
   "metadata": {},
   "outputs": [
    {
     "name": "stdout",
     "output_type": "stream",
     "text": [
      "Changed\n",
      "Value\n"
     ]
    }
   ],
   "source": [
    "my_object.member = \"Changed\"\n",
    "print(my_object.member)\n",
    "\n",
    "my_second_object = MyClass()\n",
    "print(my_second_object.member)"
   ]
  },
  {
   "cell_type": "markdown",
   "metadata": {},
   "source": [
    "## Object refactorings"
   ]
  },
  {
   "cell_type": "markdown",
   "metadata": {},
   "source": [
    "### Replace add-hoc structure with user defined classes"
   ]
  },
  {
   "cell_type": "markdown",
   "metadata": {},
   "source": [
    "💩**Smell**: A data structure made of nested arrays and dictionaries becomes unwieldy.\n",
    "\n",
    "**before:**\n",
    "\n",
    "```python\n",
    "from random import random\n",
    "\n",
    "birds = [\n",
    "    {\"position\": random(), \"velocity\": random(), \"type\": kind} for kind in bird_types\n",
    "]\n",
    "\n",
    "average_position = average([bird[\"position\"] for bird in birds])\n",
    "```\n",
    "\n",
    "**after:**\n",
    "\n",
    "```python\n",
    "from random import random\n",
    "\n",
    "class Bird:\n",
    "    def __init__(self, kind):\n",
    "\n",
    "        self.type = kind\n",
    "        self.position = random()\n",
    "        self.velocity = random()\n",
    "\n",
    "\n",
    "birds = [Bird(kind) for kind in bird_types]\n",
    "average_position = average([bird.position for bird in birds])\n",
    "```"
   ]
  },
  {
   "cell_type": "markdown",
   "metadata": {},
   "source": [
    "### Replace function with a method"
   ]
  },
  {
   "cell_type": "markdown",
   "metadata": {},
   "source": [
    "💩**Smell**: A function is always called with the same kind of thing\n",
    "\n",
    "**before:**\n",
    "\n",
    "```python\n",
    "def can_see(source, target):\n",
    "    return (source.facing - target.facing) < source.viewport\n",
    "\n",
    "\n",
    "if can_see(hawk, starling):\n",
    "    hawk.hunt()\n",
    "```\n",
    "\n",
    "**after:**\n",
    "\n",
    "```python\n",
    "class Bird:\n",
    "    def can_see(self, target):\n",
    "        return (self.facing - target.facing) < self.viewport\n",
    "\n",
    "\n",
    "if hawk.can_see(starling):\n",
    "    hawk.hunt()\n",
    "```"
   ]
  },
  {
   "cell_type": "markdown",
   "metadata": {},
   "source": [
    "### Replace method arguments with member variables"
   ]
  },
  {
   "cell_type": "markdown",
   "metadata": {},
   "source": [
    "💩**Smell**: A variable is nearly always used in arguments to \n",
    "a class.\n",
    "\n",
    "\n",
    "**before:**\n",
    "\n",
    "```python\n",
    "class Person:\n",
    "    def __init__(self, genes):\n",
    "        self.genes = genes\n",
    "\n",
    "    def reproduce_probability(self, age):\n",
    "        pass\n",
    "\n",
    "    def death_probability(self, age):\n",
    "        pass\n",
    "\n",
    "    def emigrate_probability(self, age):\n",
    "        pass\n",
    "```\n",
    "\n",
    "**after:**\n",
    "\n",
    "```python\n",
    "class Person:\n",
    "    def __init__(self, genes, age):\n",
    "        self.age = age\n",
    "        self.genes = genes\n",
    "\n",
    "    def reproduce_probability(self):\n",
    "        pass\n",
    "\n",
    "    def death_probability(self):\n",
    "        pass\n",
    "\n",
    "    def emigrate_probability(self):\n",
    "        pass\n",
    "```"
   ]
  },
  {
   "cell_type": "markdown",
   "metadata": {},
   "source": [
    "### Replace global variable with class and member variable"
   ]
  },
  {
   "cell_type": "markdown",
   "metadata": {},
   "source": [
    "💩**Smell**: A global variable is referenced by a few functions\n",
    "\n",
    "**before:**\n",
    "\n",
    "```python\n",
    "name = \"Terry Jones\"\n",
    "birthday = [1, 2, 1942]\n",
    "today = [22, 11]\n",
    "\n",
    "if today == birthday[0:2]:\n",
    "    print(f\"Happy Birthday, {name}\")\n",
    "else:\n",
    "    print(\"No birthday for you today.\")\n",
    "```\n",
    "\n",
    "**after:**\n",
    "\n",
    "```python\n",
    "class Person:\n",
    "    def __init__(self, birthday, name):\n",
    "        self.birth_day = birthday[0]\n",
    "        self.birth_month = birthday[1]\n",
    "        self.birth_year = birthday[2]\n",
    "        self.name = name\n",
    "\n",
    "    def check_birthday(self, today_day, today_month):\n",
    "        if not self.birth_day == today_day:\n",
    "            return False\n",
    "        if not self.birth_month == today_month:\n",
    "            return False\n",
    "        return True\n",
    "\n",
    "    def greet_appropriately(self, today):\n",
    "        if self.check_birthday(*today):\n",
    "            print(f\"Happy Birthday, {self.name}\")\n",
    "        else:\n",
    "            print(\"No birthday for you.\")\n",
    "\n",
    "\n",
    "john = Person([5, 5, 1943], \"Michael Palin\")\n",
    "john.greet_appropriately(today)\n",
    "```"
   ]
  },
  {
   "cell_type": "markdown",
   "metadata": {},
   "source": [
    "### Object Oriented Refactoring Summary"
   ]
  },
  {
   "cell_type": "markdown",
   "metadata": {},
   "source": [
    "\n",
    "* Replace ad-hoc structure with a class\n",
    "* Replace function with a method\n",
    "* Replace argument to method with member variable\n",
    "* Replace global variable with member variable"
   ]
  }
 ],
 "metadata": {
  "jekyll": {
   "display_name": "Object Refactorings"
  },
  "kernelspec": {
   "display_name": "Python 3 (ipykernel)",
   "language": "python",
   "name": "python3"
  },
  "language_info": {
   "codemirror_mode": {
    "name": "ipython",
    "version": 3
   },
   "file_extension": ".py",
   "mimetype": "text/x-python",
   "name": "python",
   "nbconvert_exporter": "python",
   "pygments_lexer": "ipython3",
   "version": "3.8.18"
  }
 },
 "nbformat": 4,
 "nbformat_minor": 1
}