{
 "cells": [
  {
   "cell_type": "markdown",
   "metadata": {},
   "source": [
    "# Coding Conventions"
   ]
  },
  {
   "cell_type": "markdown",
   "metadata": {},
   "source": [
    "Let's import first the context for this chapter."
   ]
  },
  {
   "cell_type": "code",
   "execution_count": 1,
   "metadata": {},
   "outputs": [],
   "source": [
    "from context import *"
   ]
  },
  {
   "cell_type": "markdown",
   "metadata": {},
   "source": [
    "## One code, many layouts:"
   ]
  },
  {
   "cell_type": "markdown",
   "metadata": {},
   "source": [
    "\n",
    "Consider the following fragment of python:\n",
    "\n",
    "\n"
   ]
  },
  {
   "cell_type": "code",
   "execution_count": 2,
   "metadata": {},
   "outputs": [],
   "source": [
    "import species\n",
    "\n",
    "\n",
    "def AddToReaction(name, reaction):\n",
    "    reaction.append(species.Species(name))"
   ]
  },
  {
   "cell_type": "markdown",
   "metadata": {},
   "source": [
    "\n",
    "\n",
    "\n",
    "this could also have been written:\n",
    "\n",
    "\n"
   ]
  },
  {
   "cell_type": "code",
   "execution_count": 3,
   "metadata": {},
   "outputs": [],
   "source": [
    "from species import Species\n",
    "\n",
    "\n",
    "def add_to_reaction(a_name, a_reaction):\n",
    "    l_species = Species(a_name)\n",
    "    a_reaction.append(l_species)"
   ]
  },
  {
   "cell_type": "markdown",
   "metadata": {},
   "source": [
    "## So many choices"
   ]
  },
  {
   "cell_type": "markdown",
   "metadata": {},
   "source": [
    "\n",
    "* Layout\n",
    "* Naming\n",
    "* Syntax choices\n"
   ]
  },
  {
   "cell_type": "markdown",
   "metadata": {},
   "source": [
    "## Layout"
   ]
  },
  {
   "cell_type": "code",
   "execution_count": 4,
   "metadata": {},
   "outputs": [],
   "source": [
    "reaction = {\n",
    "    \"reactants\": [\"H\", \"H\", \"O\"],\n",
    "    \"products\": [\"H2O\"]\n",
    "}"
   ]
  },
  {
   "cell_type": "markdown",
   "metadata": {},
   "source": [
    "\n",
    "\n",
    "\n"
   ]
  },
  {
   "cell_type": "code",
   "execution_count": 5,
   "metadata": {},
   "outputs": [],
   "source": [
    "reaction2 = {\n",
    "    \"reactants\":\n",
    "    [\n",
    "        \"H\",\n",
    "        \"H\",\n",
    "        \"O\"\n",
    "    ],\n",
    "    \"products\":\n",
    "    [\n",
    "        \"H2O\"\n",
    "    ]\n",
    "}"
   ]
  },
  {
   "cell_type": "markdown",
   "metadata": {},
   "source": [
    "## Layout choices"
   ]
  },
  {
   "cell_type": "markdown",
   "metadata": {},
   "source": [
    "\n",
    "* Brace style\n",
    "* Line length\n",
    "* Indentation\n",
    "* Whitespace/Tabs\n",
    "\n",
    "Inconsistency will produce a mess in your code! Some choices will make your code harder to read, whereas others may affect the code. For example, if you copy/paste code with tabs in a place that's using spaces, they may appear OK in your screen but it will fail when running it."
   ]
  },
  {
   "cell_type": "markdown",
   "metadata": {},
   "source": [
    "## Naming Conventions"
   ]
  },
  {
   "cell_type": "markdown",
   "metadata": {},
   "source": [
    "[Camel case](https://en.wikipedia.org/wiki/Camel_case) is used in the following example, where class name is in UpperCamel, functions in lowerCamel and underscore_separation for variables names:"
   ]
  },
  {
   "cell_type": "code",
   "execution_count": 6,
   "metadata": {},
   "outputs": [],
   "source": [
    "class ClassName:\n",
    "    def methodName(variable_name):\n",
    "        instance_variable = variable_name"
   ]
  },
  {
   "cell_type": "markdown",
   "metadata": {},
   "source": [
    "This example uses `underscore_separation` for all the names:"
   ]
  },
  {
   "cell_type": "code",
   "execution_count": 7,
   "metadata": {},
   "outputs": [],
   "source": [
    "class class_name:\n",
    "    def method_name(a_variable):\n",
    "        m_instance_variable = a_variable"
   ]
  },
  {
   "cell_type": "markdown",
   "metadata": {},
   "source": [
    "The usual Python convention (see [PEP8](https://www.python.org/dev/peps/pep-0008)) is UpperCamel for class names, and underscore_separation for function and variable names:"
   ]
  },
  {
   "cell_type": "code",
   "execution_count": 8,
   "metadata": {},
   "outputs": [],
   "source": [
    "class ClassName:\n",
    "    def method_name(variable_name):\n",
    "        instance_variable = variable_name"
   ]
  },
  {
   "cell_type": "markdown",
   "metadata": {},
   "source": [
    "However, particular projects may have their own conventions (and you will even find Python standard libraries that don't follow these conventions). "
   ]
  },
  {
   "cell_type": "markdown",
   "metadata": {},
   "source": [
    "## Hungarian Notation"
   ]
  },
  {
   "cell_type": "markdown",
   "metadata": {},
   "source": [
    "\n",
    "Prefix denotes *type*:\n",
    "\n",
    "\n"
   ]
  },
  {
   "cell_type": "code",
   "execution_count": 9,
   "metadata": {},
   "outputs": [],
   "source": [
    "fNumber = float(sEntry) + iOffset"
   ]
  },
  {
   "cell_type": "markdown",
   "metadata": {},
   "source": [
    "So in the example above we know that we are creating a `f`loat number as a composition of a `s`tring entry and an `i`nteger offset.\n",
    "\n",
    "People may find this useful in languages like Python where the type is intrinsic in the variable."
   ]
  },
  {
   "cell_type": "code",
   "execution_count": 10,
   "metadata": {},
   "outputs": [],
   "source": [
    "number = float(entry) + offset"
   ]
  },
  {
   "cell_type": "markdown",
   "metadata": {},
   "source": [
    "\n",
    "## Newlines"
   ]
  },
  {
   "cell_type": "markdown",
   "metadata": {},
   "source": [
    "\n",
    "* Newlines make code easier to read\n",
    "* Newlines make less code fit on a screen\n",
    "\n",
    "Use newlines to describe your code's *rhythm*.\n"
   ]
  },
  {
   "cell_type": "markdown",
   "metadata": {},
   "source": [
    "## Syntax Choices"
   ]
  },
  {
   "cell_type": "markdown",
   "metadata": {},
   "source": [
    "The following two snippets do the same, but the second is separated into more steps, making it more readable."
   ]
  },
  {
   "cell_type": "code",
   "execution_count": 11,
   "metadata": {},
   "outputs": [],
   "source": [
    "anothervariable += 1\n",
    "if (variable == anothervariable) and flag1 or flag2:\n",
    "    do_something()"
   ]
  },
  {
   "cell_type": "code",
   "execution_count": 12,
   "metadata": {},
   "outputs": [],
   "source": [
    "anothervariable = anothervariable + 1\n",
    "variable_equality = variable == anothervariable\n",
    "if (variable_equality and flag1) or flag2:\n",
    "    do_something()"
   ]
  },
  {
   "cell_type": "markdown",
   "metadata": {},
   "source": [
    "We create extra variables as an intermediate step. Don't worry about the performance now, the compiler will do the right thing.\n",
    "\n",
    "What about operator precedence? Being explicit helps to remind yourself what you are doing."
   ]
  },
  {
   "cell_type": "markdown",
   "metadata": {},
   "source": [
    "\n",
    "* Explicit operator precedence\n",
    "* Compound expressions\n",
    "* Package import choices\n"
   ]
  },
  {
   "cell_type": "markdown",
   "metadata": {},
   "source": [
    "## Coding Conventions"
   ]
  },
  {
   "cell_type": "markdown",
   "metadata": {},
   "source": [
    "\n",
    "You should try to have an agreed policy for your team for these matters.\n",
    "\n",
    "If your language sponsor has a standard policy, use that. For example:\n",
    "\n",
    "- **Python**: [PEP8](https://www.python.org/dev/peps/pep-0008/)\n",
    "- **R**: [Google's guide for R](https://google.github.io/styleguide/Rguide.xml), [tidyverse style guide](https://style.tidyverse.org/)\n",
    "- **C++**: [Google's style guide](https://google.github.io/styleguide/cppguide.html), [Mozilla's](https://developer.mozilla.org/en-US/docs/Mozilla/Developer_guide/Coding_Style)\n",
    "- **Julia**: [Official style guide](https://docs.julialang.org/en/v1/manual/style-guide/index.html)\n"
   ]
  },
  {
   "cell_type": "markdown",
   "metadata": {},
   "source": [
    "## Lint"
   ]
  },
  {
   "cell_type": "markdown",
   "metadata": {},
   "source": [
    "\n",
    "There are automated tools which enforce coding conventions and check for common mistakes.\n",
    "\n",
    "These are called *linters*:\n",
    "\n",
    "E.g. `pip install` [pycodestyle](https://pypi.org/project/pycodestyle/)\n",
    "\n",
    "\n"
   ]
  },
  {
   "cell_type": "code",
   "execution_count": 13,
   "metadata": {},
   "outputs": [],
   "source": [
    "%%bash\n",
    "pycodestyle species.py"
   ]
  },
  {
   "cell_type": "markdown",
   "metadata": {},
   "source": [
    "\n",
    "\n",
    "\n",
    "It is a good idea to run a linter before every commit, or include it in your CI tests.\n",
    "\n"
   ]
  },
  {
   "cell_type": "markdown",
   "metadata": {},
   "source": [
    "There are other tools that help with linting that are worth mentioning.\n",
    "With `pylint` you can also get other useful information about the quality of your code:\n",
    "\n",
    "`pip install` [pylint](https://www.pylint.org/)\n"
   ]
  },
  {
   "cell_type": "code",
   "execution_count": 14,
   "metadata": {},
   "outputs": [
    {
     "name": "stdout",
     "output_type": "stream",
     "text": [
      "************* Module species\n"
     ]
    },
    {
     "name": "stdout",
     "output_type": "stream",
     "text": [
      "species.py:1:0: C0114: Missing module docstring (missing-module-docstring)\n"
     ]
    },
    {
     "name": "stdout",
     "output_type": "stream",
     "text": [
      "species.py:1:0: C0115: Missing class docstring (missing-class-docstring)\n"
     ]
    },
    {
     "name": "stdout",
     "output_type": "stream",
     "text": [
      "species.py:1:0: R0903: Too few public methods (0/2) (too-few-public-methods)\n"
     ]
    },
    {
     "name": "stdout",
     "output_type": "stream",
     "text": [
      "\n"
     ]
    },
    {
     "name": "stdout",
     "output_type": "stream",
     "text": [
      "------------------------------------------------------------------\n"
     ]
    },
    {
     "name": "stdout",
     "output_type": "stream",
     "text": [
      "Your code has been rated at 0.00/10 (previous run: 0.00/10, +0.00)\n"
     ]
    },
    {
     "name": "stdout",
     "output_type": "stream",
     "text": [
      "\n"
     ]
    },
    {
     "name": "stdout",
     "output_type": "stream",
     "text": [
      "Note the linting failures\n"
     ]
    }
   ],
   "source": [
    "%%bash\n",
    "pylint species.py || echo \"Note the linting failures\""
   ]
  },
  {
   "cell_type": "markdown",
   "metadata": {},
   "source": [
    "and with [black](https://black.readthedocs.io/) you can fix all the errors at once.\n",
    "```bash\n",
    "black species.py\n",
    "```\n",
    "These linters can be configured to choose which points to flag and which to ignore.\n",
    "\n",
    "Do not blindly believe all these automated tools! Style guides are **guides** not **rules**."
   ]
  },
  {
   "cell_type": "markdown",
   "metadata": {},
   "source": [
    "Finally, there are tools like [editorconfig](https://editorconfig.org/) to help sharing the conventions used within a project, where each contributor uses different IDEs and tools. There are also bots like [pep8speaks](https://pep8speaks.com/) that comments on contributors' pull requests suggesting what to change to follow the conventions for the project.\n"
   ]
  }
 ],
 "metadata": {
  "jekyll": {
   "display_name": "Coding Conventions"
  },
  "kernelspec": {
   "display_name": "Python 3 (ipykernel)",
   "language": "python",
   "name": "python3"
  },
  "language_info": {
   "codemirror_mode": {
    "name": "ipython",
    "version": 3
   },
   "file_extension": ".py",
   "mimetype": "text/x-python",
   "name": "python",
   "nbconvert_exporter": "python",
   "pygments_lexer": "ipython3",
   "version": "3.8.13"
  }
 },
 "nbformat": 4,
 "nbformat_minor": 1
}