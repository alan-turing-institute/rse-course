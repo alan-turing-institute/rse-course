{
 "cells": [
  {
   "cell_type": "markdown",
   "id": "0be56307",
   "metadata": {},
   "source": [
    "# Lint"
   ]
  },
  {
   "cell_type": "markdown",
   "id": "1efd9ac9",
   "metadata": {},
   "source": [
    "\n",
    "There are automated tools which enforce coding conventions and check for common mistakes. These are called *linters*.\n"
   ]
  },
  {
   "cell_type": "markdown",
   "id": "e7196699",
   "metadata": {},
   "source": [
    "Do not blindly believe all these automated tools! Style guides are **guides** not **rules**."
   ]
  },
  {
   "cell_type": "markdown",
   "id": "5efc3d72",
   "metadata": {},
   "source": [
    "## Linters Starter Pack\n",
    "\n",
    "A good starting point for any Python project is to use `flake8`, `black`, and `isort`. All three should improve the style and consistency of your code whilst requiring minimal setup, and generally they are not opinionated about the way your code is designed, only the way it is formatted and syntax or convention errors."
   ]
  },
  {
   "cell_type": "markdown",
   "id": "31d08b99",
   "metadata": {},
   "source": [
    "### [flake8](https://flake8.pycqa.org/en/latest/index.html)\n",
    "\n",
    "Combines two main tools:\n",
    "- [PyFlakes](https://github.com/PyCQA/pyflakes) - checks Python code for syntax errors\n",
    "- [pycodestyle](https://pycodestyle.pycqa.org/en/latest/) - checks whether Python code is compliant with PEP8 conventions\n",
    "\n",
    "`flake8` only checks code and flags any syntax/style errors, it does not attempt to fix them.\n",
    "\n",
    "For example, in the `flake8_example.py` file (in the same directory as this notebook) you'll find this code:"
   ]
  },
  {
   "cell_type": "markdown",
   "id": "aea6b871",
   "metadata": {},
   "source": [
    "```python\n",
    "from constants import e\n",
    "\n",
    "def circumference(r):\n",
    "    return 2 * pi * r\n",
    "```"
   ]
  },
  {
   "cell_type": "markdown",
   "id": "e0eceab5",
   "metadata": {},
   "source": [
    "Running `flake8` on it gives the following warnings:"
   ]
  },
  {
   "cell_type": "code",
   "execution_count": 1,
   "id": "3573a0a9",
   "metadata": {},
   "outputs": [
    {
     "name": "stdout",
     "output_type": "stream",
     "text": [
      "flake8_example.py:1:1: F401 'constants.e' imported but unused\r\n",
      "flake8_example.py:3:1: E302 expected 2 blank lines, found 1\r\n",
      "flake8_example.py:4:16: F821 undefined name 'pi'\r\n"
     ]
    }
   ],
   "source": [
    "! flake8 flake8_example.py"
   ]
  },
  {
   "cell_type": "markdown",
   "id": "2371d958",
   "metadata": {},
   "source": [
    "The first warning tells us we have imported a variable called `e` but not used it, and the last that we're trying to use a variable called `pi` but haven't defined it anywhere. The 2nd warning indicates that in the [PEP8](https://peps.python.org/pep-0008/#blank-lines) conventions there should be two blank lines before a function definition, but we only have 1.\n",
    "\n",
    "```{admonition} Running on multiple files\n",
    "All the examples here run a linter on a single file, but they can be run on all the files in a project at once as well (e.g. by just running `flake8` without a filename).\n",
    "```"
   ]
  },
  {
   "cell_type": "markdown",
   "id": "45246303",
   "metadata": {},
   "source": [
    "### [black](https://black.readthedocs.io/)\n",
    "\n",
    "A highly opinionated code formatter, which enforces control of minutiae details of your code.\n",
    "\n",
    "For example, in the `black_example.py` file (in the same directory as this notebook) you'll find this code:\n",
    "\n",
    "```python\n",
    "import numpy as np\n",
    "\n",
    "def my_complex_function(important_argument_1,important_argument_2,optional_argument_3 = 3,optional_argument_4 = 4):\n",
    "    return np.random.random()*important_argument_1*important_argument_2*optional_argument_3*optional_argument_4\n",
    "\n",
    "def hello(name,greet='Hello',end=\"!\"):\n",
    "    print(greet,    name,    end)\n",
    "```\n",
    "\n",
    "After running black on the file:"
   ]
  },
  {
   "cell_type": "code",
   "execution_count": 2,
   "id": "488aa584",
   "metadata": {},
   "outputs": [
    {
     "name": "stdout",
     "output_type": "stream",
     "text": [
      "\u001b[1mAll done! ✨ 🍰 ✨\u001b[0m\r\n",
      "\u001b[34m1 file \u001b[0mleft unchanged.\r\n"
     ]
    }
   ],
   "source": [
    "! black black_example.py"
   ]
  },
  {
   "cell_type": "markdown",
   "id": "ca49a3b0",
   "metadata": {},
   "source": [
    "Its contents become:\n",
    "\n",
    "```python\n",
    "import numpy as np\n",
    "\n",
    "\n",
    "def my_complex_function(\n",
    "    important_argument_1,\n",
    "    important_argument_2,\n",
    "    optional_argument_3=3,\n",
    "    optional_argument_4=4,\n",
    "):\n",
    "    return (\n",
    "        np.random.random()\n",
    "        * important_argument_1\n",
    "        * important_argument_2\n",
    "        * optional_argument_3\n",
    "        * optional_argument_4\n",
    "    )\n",
    "\n",
    "\n",
    "def hello(name, greet=\"Hello\", end=\"!\"):\n",
    "    print(greet, name, end)\n",
    "```\n",
    "\n",
    "Changes made by `black`:\n",
    "- Ensured there are two blank lines before and after function definitions\n",
    "- Wrapped long lines intelligently\n",
    "- Removed excess whitespace (e.g. between the arguments in the print statement on the last line)\n",
    "- Used double quotes `\"` for all strings (rather than a mix of `'` and `\"`)\n",
    "\n",
    "Note that `black` will automatically fix most of the whitespace-related warnings picked up by `flake8` (but it would not fix the import or undefined name errors in the `flake8` example above)."
   ]
  },
  {
   "cell_type": "markdown",
   "id": "ddb71327",
   "metadata": {},
   "source": [
    "```{admonition} Line length\n",
    "`black` is not compliant with PEP8 in one way - by default it uses a maximum line length of 88 characters (PEP8 suggests 79 characters). [This is discussed in the black documentation](https://black.readthedocs.io/en/stable/the_black_code_style/current_style.html#line-length).\n",
    "```"
   ]
  },
  {
   "cell_type": "markdown",
   "id": "1f848e3e",
   "metadata": {},
   "source": [
    "### [isort](https://pycqa.github.io/isort/)\n",
    "\n",
    "\"Sorts\" imports alphabetically in groups in the following order:\n",
    "\n",
    "1. standard library imports (_e.g._ `import os`).\n",
    "1. third-party imports (_e.g._ `import pandas`).\n",
    "1. local application/library specific imports (_e.g._ `from .my_python_file import MyClass`).\n",
    "\n",
    "with a blank line between each group.\n",
    "\n",
    "For example in the file `isort_example.py` (in the same directory as this notebook) we have the following imports:\n",
    "\n",
    "```python\n",
    "import pandas as pd\n",
    "import os\n",
    "from matplotlib import pyplot as plt\n",
    "import black_example\n",
    "import numpy as np\n",
    "import json\n",
    "```\n",
    "\n",
    "If we run isort:"
   ]
  },
  {
   "cell_type": "code",
   "execution_count": 3,
   "id": "b3ab0c34",
   "metadata": {},
   "outputs": [
    {
     "name": "stdout",
     "output_type": "stream",
     "text": [
      "\u001b[0m"
     ]
    }
   ],
   "source": [
    "! isort isort_example.py"
   ]
  },
  {
   "cell_type": "markdown",
   "id": "64ad8b20",
   "metadata": {},
   "source": [
    "It becomes:\n",
    "\n",
    "```python\n",
    "import json\n",
    "import os\n",
    "\n",
    "import numpy as np\n",
    "import pandas as pd\n",
    "from matplotlib import pyplot as plt\n",
    "\n",
    "import black_example\n",
    "```"
   ]
  },
  {
   "cell_type": "markdown",
   "id": "aa1a8e76",
   "metadata": {},
   "source": [
    "Note that `from` imports are placed at the bottom of each group."
   ]
  },
  {
   "cell_type": "markdown",
   "id": "cdea7cc3",
   "metadata": {},
   "source": [
    "## Other Linters"
   ]
  },
  {
   "cell_type": "markdown",
   "id": "439705de",
   "metadata": {},
   "source": [
    "### [mypy](https://mypy.readthedocs.io/en/stable/)\n",
    "\n",
    "If you use type annotations in your code, `mypy` can check it for errors that may result from variables being assigned the wrong type. For example, in the file `mypy_example.py` we have this code:\n",
    "\n",
    "```python\n",
    "def hello(name: str, greet: str = \"Hello\", rep: int = 1) -> str:\n",
    "    message: str = \"\"\n",
    "    for _ in range(rep):\n",
    "        message += f\"{greet} {name}\\n\"\n",
    "    return message\n",
    "\n",
    "\n",
    "print(hello(\"Bob\", 5))\n",
    "```\n",
    "\n",
    "If we run `mypy` on it:"
   ]
  },
  {
   "cell_type": "code",
   "execution_count": 4,
   "id": "60643d81",
   "metadata": {},
   "outputs": [
    {
     "name": "stdout",
     "output_type": "stream",
     "text": [
      "mypy_example.py:8: \u001b[1m\u001b[31merror:\u001b[m Argument 2 to \u001b[m\u001b[1m\"hello\"\u001b[m has incompatible type \u001b[m\u001b[1m\"int\"\u001b[m; expected \u001b[m\u001b[1m\"str\"\u001b[m\u001b[m\r\n",
      "\u001b[1m\u001b[31mFound 1 error in 1 file (checked 1 source file)\u001b[m\r\n"
     ]
    }
   ],
   "source": [
    "! mypy mypy_example.py"
   ]
  },
  {
   "cell_type": "markdown",
   "id": "01d4e096",
   "metadata": {},
   "source": [
    "The error tells us we have passed an `int` as the 2nd argument to `hello`, but in the function definition the second argument (`greet`) is defined to be a `str`. We probably meant to write `hello(\"Bob\", rep=5)`."
   ]
  },
  {
   "cell_type": "markdown",
   "id": "3f2cca6e",
   "metadata": {},
   "source": [
    "### [pylint](https://www.pylint.org/)\n",
    "\n",
    "`pylint` analyses your code for errors, coding standards, and makes suggestions around where code could be refactored. It checks for a much wider range of code quality issues than `flake8` but is also much more likely to pick up _false positives_, i.e. `pylint` is more likely to give you warnings about things you don't want to change.\n",
    "\n",
    "Let's run it on the file we used for a `flake8` example earlier:\n",
    "\n",
    "```python\n",
    "from constants import e\n",
    "\n",
    "def circumference(r):\n",
    "    return 2 * pi * r\n",
    "```"
   ]
  },
  {
   "cell_type": "code",
   "execution_count": 5,
   "id": "da0a7e69",
   "metadata": {},
   "outputs": [
    {
     "name": "stdout",
     "output_type": "stream",
     "text": [
      "************* Module flake8_example\r\n",
      "flake8_example.py:1:0: C0114: Missing module docstring (missing-module-docstring)\r\n",
      "flake8_example.py:1:0: E0401: Unable to import 'constants' (import-error)\r\n",
      "flake8_example.py:3:0: C0116: Missing function or method docstring (missing-function-docstring)\r\n",
      "flake8_example.py:3:18: C0103: Argument name \"r\" doesn't conform to snake_case naming style (invalid-name)\r\n",
      "flake8_example.py:4:15: E0602: Undefined variable 'pi' (undefined-variable)\r\n",
      "flake8_example.py:1:0: W0611: Unused e imported from constants (unused-import)\r\n",
      "\r\n",
      "------------------------------------------------------------------\r\n",
      "Your code has been rated at 0.00/10 (previous run: 0.00/10, +0.00)\r\n",
      "\r\n",
      "\u001b[0m"
     ]
    }
   ],
   "source": [
    "! pylint flake8_example.py"
   ]
  },
  {
   "cell_type": "markdown",
   "id": "5bd36b62",
   "metadata": {},
   "source": [
    "Compared to `flake8`, in this case `pylint` also warns us that:\n",
    "- The `circumference` function doesn't have a docstring\n",
    "- The `constants` library we try to import is not available on our system\n",
    "- The variable name `r` doesn't follow conventions (single letter variables are discouraged by convention, we could use `radius` instead)"
   ]
  },
  {
   "cell_type": "markdown",
   "id": "af56ba94",
   "metadata": {},
   "source": [
    "### [nbqa](https://nbqa.readthedocs.io/en/latest/index.html)\n",
    "\n",
    "`nbqa` allows you to run many Python quality tools (including all the ones we've introduced here) on jupyter notebooks. For example:"
   ]
  },
  {
   "cell_type": "code",
   "execution_count": 6,
   "id": "68501e5f",
   "metadata": {},
   "outputs": [
    {
     "name": "stdout",
     "output_type": "stream",
     "text": [
      "07_02_coding_conventions.ipynb:cell_3:3:9: F841 local variable 'instance_variable' is assigned to but never used\r\n",
      "07_02_coding_conventions.ipynb:cell_4:3:9: F841 local variable 'm_instance_variable' is assigned to but never used\r\n",
      "07_02_coding_conventions.ipynb:cell_5:1:1: F811 redefinition of unused 'ClassName' from line 24\r\n",
      "07_02_coding_conventions.ipynb:cell_5:3:9: F841 local variable 'instance_variable' is assigned to but never used\r\n"
     ]
    }
   ],
   "source": [
    "! nbqa flake8 07_02_coding_conventions.ipynb"
   ]
  },
  {
   "cell_type": "markdown",
   "id": "88b896bc",
   "metadata": {},
   "source": [
    "## Setup"
   ]
  },
  {
   "cell_type": "markdown",
   "id": "aef9ef94",
   "metadata": {},
   "source": [
    "### Compatibility between linters\n",
    "\n",
    "If you're using multiple linters in your project you may need to configure them to be compatible with each other. For example, `flake8` warns about lines longer than 79 characters (the PEP8 convention) but `black` will allow lines up to 88 characters by default.\n",
    "\n",
    "[This repository](https://github.com/alan-turing-institute/Python-quality-tools) has an example setup for using `black`, `isort`, and `flake8` together. The `.flake8` and `pyproject.toml` configuration files set `flake8` and `isort` to run in modes compatible with `black`."
   ]
  },
  {
   "cell_type": "markdown",
   "id": "476025dc",
   "metadata": {},
   "source": [
    "### Ignoring lines of code or linting rules\n",
    "\n",
    "There will be times where a linter warns you about something in your code but there's a valid reason it's structured that way and you don't want to change it. Most linters can be configured to ignore specific warnings, either by the type of warning, by file, or by individual code line. For example, adding a `# noqa` comment to a line will make `flake8` ignore it.\n",
    "\n",
    "Each linter does this differently so check their documentation (e.g. [flake8](https://flake8.pycqa.org/en/3.1.1/user/ignoring-errors.html), [isort](https://pycqa.github.io/isort/docs/configuration/options.html), [mypy](https://mypy.readthedocs.io/en/stable/config_file.html), [pylint](https://pylint.pycqa.org/en/latest/user_guide/messages/message_control.html))."
   ]
  },
  {
   "cell_type": "markdown",
   "id": "c6d5525f",
   "metadata": {},
   "source": [
    "### Running Linters\n",
    "\n",
    "It's a good idea to run linters regularly, or even better to have them setup to run automatically so you don't have to remember. There are various tools to help with that:\n"
   ]
  },
  {
   "cell_type": "markdown",
   "id": "3f2dcd6d",
   "metadata": {},
   "source": [
    "#### IDE Integration\n",
    "\n",
    "Many editors/IDEs have integrations with common linters or have their own built-in. This can include highlighting problems inline, or automatically running linters when files are saved, for example. Here is the [VS Code documentation for linting in Python](https://code.visualstudio.com/docs/python/linting).\n",
    "\n",
    "There are also tools like [editorconfig](https://editorconfig.org/) to help sharing the conventions used within a project, where each contributor uses different IDEs and tools."
   ]
  },
  {
   "cell_type": "markdown",
   "id": "b7a4f039",
   "metadata": {},
   "source": [
    "#### [pre-commit](https://pre-commit.com/) \n",
    "\n",
    "pre-commit is a manager for creating git \"hooks\" - scripts that run before making a commit. If a hook errors the commit won't be made, and you'll be prompted to fix the problems first. There are `pre-commit` plugins for all the linters discussed here, and it's a good way to ensure all code committed to your repo has had a level of quality control applied to it."
   ]
  },
  {
   "cell_type": "markdown",
   "id": "1ca2f056",
   "metadata": {},
   "source": [
    "#### CI\n",
    "\n",
    "As well as automating unit tests on a CI system like GitHub Actions it's a good idea to configure them to run linters on your code too.\n",
    "\n",
    "[Here is an example](https://github.com/alan-turing-institute/AIrsenal/blob/main/.github/workflows/main.yml) from a repo using `isort`, `flake8` and `black` in a GitHub Action. Note that in a CI setup tools that usually change your code, like `black` and `isort`, will be configured to only check whether there are changes that need to be made."
   ]
  }
 ],
 "metadata": {
  "kernelspec": {
   "display_name": "Python 3 (ipykernel)",
   "language": "python",
   "name": "python3"
  },
  "language_info": {
   "codemirror_mode": {
    "name": "ipython",
    "version": 3
   },
   "file_extension": ".py",
   "mimetype": "text/x-python",
   "name": "python",
   "nbconvert_exporter": "python",
   "pygments_lexer": "ipython3",
   "version": "3.8.14"
  }
 },
 "nbformat": 4,
 "nbformat_minor": 5
}