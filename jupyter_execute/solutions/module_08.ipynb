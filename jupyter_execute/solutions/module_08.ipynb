{
 "cells": [
  {
   "cell_type": "markdown",
   "id": "1217cfc7",
   "metadata": {},
   "source": [
    "# Module 08"
   ]
  },
  {
   "cell_type": "markdown",
   "id": "bdec541a",
   "metadata": {},
   "source": [
    "### Solution to Exercise 1: Iterators and generators"
   ]
  },
  {
   "cell_type": "code",
   "execution_count": 1,
   "id": "2bcb16e3",
   "metadata": {},
   "outputs": [],
   "source": [
    "# Using __iter__ and __next__\n",
    "class range2:\n",
    "    def __init__(self, max_counter):\n",
    "        self.max_counter = max_counter\n",
    "        self.counter = 0\n",
    "\n",
    "    def __iter__(self):\n",
    "        return self\n",
    "\n",
    "    def __next__(self):\n",
    "        if self.counter < self.max_counter:\n",
    "            counter = self.counter\n",
    "            self.counter += 1\n",
    "            return counter\n",
    "        else:\n",
    "            raise StopIteration"
   ]
  },
  {
   "cell_type": "code",
   "execution_count": 2,
   "id": "36161ff8",
   "metadata": {},
   "outputs": [
    {
     "name": "stdout",
     "output_type": "stream",
     "text": [
      "<__main__.range2 object at 0x7f0230f607c0>\n",
      "(0, 1, 2, 3, 4, 5, 6, 7, 8, 9)\n",
      "0\n",
      "1\n",
      "2\n",
      "3\n",
      "4\n",
      "5\n",
      "6\n",
      "7\n",
      "8\n",
      "9\n"
     ]
    }
   ],
   "source": [
    "# Testing it\n",
    "print(range2(10))\n",
    "print(tuple(range2(10)))\n",
    "for i in range2(10):\n",
    "    print(i)"
   ]
  },
  {
   "cell_type": "code",
   "execution_count": 3,
   "id": "9698a97e",
   "metadata": {},
   "outputs": [],
   "source": [
    "# Using yield\n",
    "def range3(max_counter):\n",
    "    counter = 0\n",
    "    while counter < max_counter:\n",
    "        yield counter\n",
    "        counter += 1"
   ]
  },
  {
   "cell_type": "code",
   "execution_count": 4,
   "id": "86f1a60b",
   "metadata": {},
   "outputs": [
    {
     "name": "stdout",
     "output_type": "stream",
     "text": [
      "<generator object range3 at 0x7f0233034d60>\n",
      "(0, 1, 2, 3, 4, 5, 6, 7, 8, 9)\n",
      "0\n",
      "1\n",
      "2\n",
      "3\n",
      "4\n",
      "5\n",
      "6\n",
      "7\n",
      "8\n",
      "9\n"
     ]
    }
   ],
   "source": [
    "# Testing it\n",
    "print(range3(10))\n",
    "print(tuple(range3(10)))\n",
    "for i in range3(10):\n",
    "    print(i)"
   ]
  },
  {
   "cell_type": "markdown",
   "id": "ab7176f1",
   "metadata": {},
   "source": [
    "### Solution to Exercise 2: Operator Overloading"
   ]
  },
  {
   "cell_type": "code",
   "execution_count": 5,
   "id": "503e4149",
   "metadata": {},
   "outputs": [],
   "source": [
    "class DataLoader:\n",
    "    def __init__(self):\n",
    "        pass\n",
    "\n",
    "    def process(self):\n",
    "        print(\"I am loading some data\")\n",
    "\n",
    "\n",
    "class DataCleaner:\n",
    "    def __init__(self):\n",
    "        pass\n",
    "\n",
    "    def process(self):\n",
    "        print(\"I am cleaning some data\")"
   ]
  },
  {
   "cell_type": "code",
   "execution_count": 6,
   "id": "27cfe308",
   "metadata": {},
   "outputs": [],
   "source": [
    "class Pipeline:\n",
    "    def __init__(self):\n",
    "        self.modules = []\n",
    "\n",
    "    # Add __iadd__ function to overload '+='\n",
    "    def __iadd__(self, module):\n",
    "        self.modules.append(module)\n",
    "        return self\n",
    "\n",
    "    def process(self):\n",
    "        print(\"I'm a pipeline, don't do anything much by myself\")\n",
    "        for module in self.modules:\n",
    "            module.process()"
   ]
  },
  {
   "cell_type": "code",
   "execution_count": 7,
   "id": "ec0e4b6b",
   "metadata": {},
   "outputs": [
    {
     "name": "stdout",
     "output_type": "stream",
     "text": [
      "I'm a pipeline, don't do anything much by myself\n",
      "I am loading some data\n",
      "I am cleaning some data\n"
     ]
    }
   ],
   "source": [
    "p = Pipeline()\n",
    "p += DataLoader()\n",
    "p += DataCleaner()\n",
    "p.process()"
   ]
  },
  {
   "cell_type": "code",
   "execution_count": null,
   "id": "7e9a2369",
   "metadata": {},
   "outputs": [],
   "source": []
  }
 ],
 "metadata": {
  "kernelspec": {
   "display_name": "Python 3 (ipykernel)",
   "language": "python",
   "name": "python3"
  },
  "language_info": {
   "codemirror_mode": {
    "name": "ipython",
    "version": 3
   },
   "file_extension": ".py",
   "mimetype": "text/x-python",
   "name": "python",
   "nbconvert_exporter": "python",
   "pygments_lexer": "ipython3",
   "version": "3.8.16"
  }
 },
 "nbformat": 4,
 "nbformat_minor": 5
}