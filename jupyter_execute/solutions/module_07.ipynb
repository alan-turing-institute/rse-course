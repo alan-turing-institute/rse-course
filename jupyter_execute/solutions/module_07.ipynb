{
 "cells": [
  {
   "cell_type": "markdown",
   "id": "1217cfc7",
   "metadata": {},
   "source": [
    "# Module 07: Bad Boids"
   ]
  },
  {
   "cell_type": "markdown",
   "id": "3ba7e2aa",
   "metadata": {},
   "source": [
    "There's not a single \"right\" answer to how the code should be refacatored, but on the `better_boids` branch of the `bad-boids` repo we have an improved version of the code with changes based on all the ideas above. You can find it on GitHub here:\n",
    "\n",
    "https://github.com/alan-turing-institute/bad-boids/tree/better_boids \n",
    "\n",
    "You may also find it interesting to browse through the [history of commits](https://github.com/alan-turing-institute/bad-boids/commits/better_boids).\n",
    "\n",
    "Alternatively, you can checkout the branch in your local clone:\n",
    "\n",
    "```\n",
    "git checkout better_boids\n",
    "```\n"
   ]
  }
 ],
 "metadata": {
  "kernelspec": {
   "display_name": "Python 3 (ipykernel)",
   "language": "python",
   "name": "python3"
  },
  "language_info": {
   "codemirror_mode": {
    "name": "ipython",
    "version": 3
   },
   "file_extension": ".py",
   "mimetype": "text/x-python",
   "name": "python",
   "nbconvert_exporter": "python",
   "pygments_lexer": "ipython3",
   "version": "3.8.15"
  }
 },
 "nbformat": 4,
 "nbformat_minor": 5
}