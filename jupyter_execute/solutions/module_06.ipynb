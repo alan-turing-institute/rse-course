{
 "cells": [
  {
   "cell_type": "markdown",
   "id": "1217cfc7",
   "metadata": {},
   "source": [
    "# Module 06: Troll Treasure\n",
    "\n",
    "A sample solution for packaging the Troll Treasure code is available in this GitHub repo:\n",
    "\n",
    "https://github.com/alan-turing-institute/TrollTreasure"
   ]
  }
 ],
 "metadata": {
  "kernelspec": {
   "display_name": "Python 3 (ipykernel)",
   "language": "python",
   "name": "python3"
  },
  "language_info": {
   "codemirror_mode": {
    "name": "ipython",
    "version": 3
   },
   "file_extension": ".py",
   "mimetype": "text/x-python",
   "name": "python",
   "nbconvert_exporter": "python",
   "pygments_lexer": "ipython3",
   "version": "3.8.18"
  }
 },
 "nbformat": 4,
 "nbformat_minor": 5
}