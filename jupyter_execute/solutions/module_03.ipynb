{
 "cells": [
  {
   "cell_type": "markdown",
   "id": "1217cfc7",
   "metadata": {},
   "source": [
    "# Module 03"
   ]
  },
  {
   "cell_type": "markdown",
   "id": "de4e6cf5",
   "metadata": {},
   "source": [
    "### Exercise 3a  Saving and loading data\n",
    "*Relevant sections: 3.1.2, 3.1.3*\n",
    "\n",
    "Use YAML or JSON to save your maze data structure to disk and load it again.\n",
    "\n",
    "The maze would have looked something like this:"
   ]
  },
  {
   "cell_type": "code",
   "execution_count": 1,
   "id": "319c2efb",
   "metadata": {},
   "outputs": [],
   "source": [
    "house = {\n",
    "    \"living\": {\n",
    "        \"exits\": {\"north\": \"kitchen\", \"outside\": \"garden\", \"upstairs\": \"bedroom\"},\n",
    "        \"people\": [\"James\"],\n",
    "        \"capacity\": 2,\n",
    "    },\n",
    "    \"kitchen\": {\"exits\": {\"south\": \"living\"}, \"people\": [], \"capacity\": 1},\n",
    "    \"garden\": {\"exits\": {\"inside\": \"living\"}, \"people\": [\"Sue\"], \"capacity\": 3},\n",
    "    \"bedroom\": {\n",
    "        \"exits\": {\"downstairs\": \"living\", \"jump\": \"garden\"},\n",
    "        \"people\": [],\n",
    "        \"capacity\": 1,\n",
    "    },\n",
    "}"
   ]
  },
  {
   "cell_type": "markdown",
   "id": "22290510",
   "metadata": {},
   "source": [
    "### Exercise 3a Answer"
   ]
  },
  {
   "cell_type": "markdown",
   "id": "1dc01d4c",
   "metadata": {},
   "source": [
    "**Save as JSON or YAML**"
   ]
  },
  {
   "cell_type": "code",
   "execution_count": 2,
   "id": "7368dada",
   "metadata": {},
   "outputs": [],
   "source": [
    "import json\n",
    "import yaml"
   ]
  },
  {
   "cell_type": "code",
   "execution_count": 3,
   "id": "1c85f61c",
   "metadata": {},
   "outputs": [],
   "source": [
    "# Write with json.dump\n",
    "with open(\"myfile.json\", \"w\") as f:\n",
    "    json.dump(house, f)"
   ]
  },
  {
   "cell_type": "code",
   "execution_count": 4,
   "id": "a02918a3",
   "metadata": {},
   "outputs": [
    {
     "name": "stdout",
     "output_type": "stream",
     "text": [
      "{\"living\": {\"exits\": {\"north\": \"kitchen\", \"outside\": \"garden\", \"upstairs\": \"bedroom\"}, \"people\": [\"James\"], \"capacity\": 2}, \"kitchen\": {\"exits\": {\"south\": \"living\"}, \"people\": [], \"capacity\": 1}, \"garden\": {\"exits\": {\"inside\": \"living\"}, \"people\": [\"Sue\"], \"capacity\": 3}, \"bedroom\": {\"exits\": {\"downstairs\": \"living\", \"jump\": \"garden\"}, \"people\": [], \"capacity\": 1}}"
     ]
    }
   ],
   "source": [
    "# Look at the file on disk\n",
    "!cat myfile.json"
   ]
  },
  {
   "cell_type": "code",
   "execution_count": 5,
   "id": "e6d8cdce",
   "metadata": {},
   "outputs": [],
   "source": [
    "# Or with file.write, using json.dumps to convert to a string\n",
    "with open(\"myotherfile.json\", \"w\") as json_maze_out:\n",
    "    json_maze_out.write(json.dumps(house))"
   ]
  },
  {
   "cell_type": "code",
   "execution_count": 6,
   "id": "3e0e01bc",
   "metadata": {},
   "outputs": [
    {
     "name": "stdout",
     "output_type": "stream",
     "text": [
      "{\"living\": {\"exits\": {\"north\": \"kitchen\", \"outside\": \"garden\", \"upstairs\": \"bedroom\"}, \"people\": [\"James\"], \"capacity\": 2}, \"kitchen\": {\"exits\": {\"south\": \"living\"}, \"people\": [], \"capacity\": 1}, \"garden\": {\"exits\": {\"inside\": \"living\"}, \"people\": [\"Sue\"], \"capacity\": 3}, \"bedroom\": {\"exits\": {\"downstairs\": \"living\", \"jump\": \"garden\"}, \"people\": [], \"capacity\": 1}}"
     ]
    }
   ],
   "source": [
    "# Look at the file on disk\n",
    "!cat myotherfile.json"
   ]
  },
  {
   "cell_type": "code",
   "execution_count": 7,
   "id": "8050470c",
   "metadata": {},
   "outputs": [],
   "source": [
    "# Write with yaml.safe_dump\n",
    "with open(\"myfile.yml\", \"w\") as f:\n",
    "    yaml.safe_dump(house, f, default_flow_style=False)"
   ]
  },
  {
   "cell_type": "code",
   "execution_count": 8,
   "id": "7c6cd80e",
   "metadata": {},
   "outputs": [
    {
     "name": "stdout",
     "output_type": "stream",
     "text": [
      "bedroom:\r\n",
      "  capacity: 1\r\n",
      "  exits:\r\n",
      "    downstairs: living\r\n",
      "    jump: garden\r\n",
      "  people: []\r\n",
      "garden:\r\n",
      "  capacity: 3\r\n",
      "  exits:\r\n",
      "    inside: living\r\n",
      "  people:\r\n",
      "  - Sue\r\n",
      "kitchen:\r\n",
      "  capacity: 1\r\n",
      "  exits:\r\n",
      "    south: living\r\n",
      "  people: []\r\n",
      "living:\r\n",
      "  capacity: 2\r\n",
      "  exits:\r\n",
      "    north: kitchen\r\n",
      "    outside: garden\r\n",
      "    upstairs: bedroom\r\n",
      "  people:\r\n",
      "  - James\r\n"
     ]
    }
   ],
   "source": [
    "# Look at the file on disk\n",
    "!cat myfile.yml"
   ]
  },
  {
   "cell_type": "code",
   "execution_count": 9,
   "id": "b1ae51fe",
   "metadata": {},
   "outputs": [],
   "source": [
    "# Or with file.write, using yaml.dump to convert to a string\n",
    "with open(\"myotherfile.yaml\", \"w\") as yaml_maze_out:\n",
    "    yaml_maze_out.write(yaml.dump(house, default_flow_style=True))"
   ]
  },
  {
   "cell_type": "code",
   "execution_count": 10,
   "id": "7bebe25a",
   "metadata": {},
   "outputs": [
    {
     "name": "stdout",
     "output_type": "stream",
     "text": [
      "{bedroom: {capacity: 1, exits: {downstairs: living, jump: garden}, people: []}, garden: {\r\n",
      "    capacity: 3, exits: {inside: living}, people: [Sue]}, kitchen: {capacity: 1, exits: {\r\n",
      "      south: living}, people: []}, living: {capacity: 2, exits: {north: kitchen, outside: garden,\r\n",
      "      upstairs: bedroom}, people: [James]}}\r\n"
     ]
    }
   ],
   "source": [
    "# Look at the file on disk\n",
    "!cat myotherfile.yaml"
   ]
  },
  {
   "cell_type": "markdown",
   "id": "baafb59c",
   "metadata": {},
   "source": [
    "**Loading with JSON or YAML**"
   ]
  },
  {
   "cell_type": "code",
   "execution_count": 11,
   "id": "aa092e68",
   "metadata": {},
   "outputs": [
    {
     "name": "stdout",
     "output_type": "stream",
     "text": [
      "{'exits': {'north': 'kitchen', 'outside': 'garden', 'upstairs': 'bedroom'}, 'people': ['James'], 'capacity': 2}\n"
     ]
    }
   ],
   "source": [
    "# Read into a string then load with json.loads\n",
    "with open(\"myfile.json\", \"r\") as f:\n",
    "    mydataasstring = f.read()\n",
    "my_json_data = json.loads(mydataasstring)\n",
    "print(my_json_data[\"living\"])"
   ]
  },
  {
   "cell_type": "code",
   "execution_count": 12,
   "id": "37196210",
   "metadata": {},
   "outputs": [
    {
     "name": "stdout",
     "output_type": "stream",
     "text": [
      "{'exits': {'north': 'kitchen', 'outside': 'garden', 'upstairs': 'bedroom'}, 'people': ['James'], 'capacity': 2}\n"
     ]
    }
   ],
   "source": [
    "# Read directly with json.load\n",
    "with open(\"myotherfile.json\") as f_json_maze:\n",
    "    maze_again = json.load(f_json_maze)\n",
    "print(maze_again[\"living\"])"
   ]
  },
  {
   "cell_type": "code",
   "execution_count": 13,
   "id": "c8ebb347",
   "metadata": {},
   "outputs": [
    {
     "name": "stdout",
     "output_type": "stream",
     "text": [
      "{'exits': {'north': 'kitchen', 'outside': 'garden', 'upstairs': 'bedroom'}, 'people': ['James'], 'capacity': 2}\n"
     ]
    }
   ],
   "source": [
    "# Read into a string then load with yaml.safe_load\n",
    "with open(\"myfile.yaml\", \"r\") as f:\n",
    "    mydataasstring = f.read()\n",
    "my_yaml_data = yaml.safe_load(mydataasstring)\n",
    "print(my_yaml_data[\"living\"])"
   ]
  },
  {
   "cell_type": "code",
   "execution_count": 14,
   "id": "f2b267e0",
   "metadata": {},
   "outputs": [
    {
     "name": "stdout",
     "output_type": "stream",
     "text": [
      "{'capacity': 2, 'exits': {'north': 'kitchen', 'outside': 'garden', 'upstairs': 'bedroom'}, 'people': ['James']}\n"
     ]
    }
   ],
   "source": [
    "# Read directly with yaml.safe_load\n",
    "with open(\"myotherfile.yaml\") as f_yaml_maze:\n",
    "    maze_again = yaml.safe_load(f_yaml_maze)\n",
    "print(maze_again[\"living\"])"
   ]
  },
  {
   "cell_type": "markdown",
   "id": "ddf83812",
   "metadata": {},
   "source": [
    "### Exercise 3b Plotting with matplotlib"
   ]
  },
  {
   "cell_type": "markdown",
   "id": "92bae8ef",
   "metadata": {},
   "source": [
    "Generate two plots, next to each other (on the same row).\n",
    "\n",
    "The first plot should show sin(x) and cos(x) for the range of x between -1 pi and +1 pi. \n",
    "\n",
    "The second plot should show sin(x), cos(x) and the sum of sin(x) and cos(x) over the same -pi to +pi range. Set suitable limits on the axes and pick colours, markers, or line-styles that will make it easy to differentiate between the curves. Add legends to both axes."
   ]
  },
  {
   "cell_type": "markdown",
   "id": "97ee229b",
   "metadata": {},
   "source": [
    "### Exercise 3b Answer"
   ]
  },
  {
   "cell_type": "code",
   "execution_count": 15,
   "id": "24e72b62",
   "metadata": {},
   "outputs": [
    {
     "data": {
      "text/plain": [
       "(-1.5, 1.5)"
      ]
     },
     "execution_count": 15,
     "metadata": {},
     "output_type": "execute_result"
    },
    {
     "data": {
      "image/png": "[encoded data removed]",
      "text/plain": [
       "<Figure size 1500x500 with 2 Axes>"
      ]
     },
     "metadata": {
      "filenames": {
       "image/png": "/home/runner/work/rse-course/rse-course/_build/jupyter_execute/solutions/module_03_22_1.png"
      }
     },
     "output_type": "display_data"
    }
   ],
   "source": [
    "import matplotlib.pyplot as plt\n",
    "import numpy as np\n",
    "\n",
    "# Use numpy to get the range of x values (math should work too)\n",
    "x = np.arange(-np.pi, np.pi, 0.1)\n",
    "\n",
    "# Define figure dimensions\n",
    "fig = plt.figure(figsize=(15,5))\n",
    "\n",
    "\n",
    "ax1 = fig.add_subplot(1,2,1)\n",
    "ax1.plot(x, np.sin(x),label=\"sin(x)\",color='black', linestyle='dashed')\n",
    "ax1.plot(x, np.cos(x),label=\"cos(x)\", color='#56B4E9')\n",
    "ax1.legend()\n",
    "ax1.set_ylim(-1.5, 1.5)\n",
    "\n",
    "ax2 = fig.add_subplot(1,2,2)\n",
    "ax2.plot(x, np.sin(x),label=\"sin(x)\",color='black', linestyle='dashed')\n",
    "ax2.plot(x, np.cos(x),label=\"cos(x)\", color='#56B4E9')\n",
    "ax2.plot(x, np.cos(x)+np.sin(x), label='cos(x) + sin(x)', color='#E69F00', marker=\".\")\n",
    "ax2.legend()\n",
    "ax2.set_ylim(-1.5, 1.5)\n"
   ]
  },
  {
   "cell_type": "markdown",
   "id": "f06fba4a",
   "metadata": {},
   "source": [
    "### Exercise 3c The biggest earthquake in the UK this century"
   ]
  },
  {
   "cell_type": "markdown",
   "id": "a7d3d031",
   "metadata": {},
   "source": [
    "### The Problem\n",
    "`GeoJSON` is a json-based file format for sharing geographic data. One example dataset is the USGS earthquake data:"
   ]
  },
  {
   "cell_type": "code",
   "execution_count": 16,
   "id": "4fd1aaa8",
   "metadata": {},
   "outputs": [],
   "source": [
    "import requests\n",
    "\n",
    "quakes = requests.get(\n",
    "    \"http://earthquake.usgs.gov/fdsnws/event/1/query.geojson\",\n",
    "    params={\n",
    "        \"starttime\": \"2000-01-01\",\n",
    "        \"maxlatitude\": \"58.723\",\n",
    "        \"minlatitude\": \"50.008\",\n",
    "        \"maxlongitude\": \"1.67\",\n",
    "        \"minlongitude\": \"-9.756\",\n",
    "        \"minmagnitude\": \"1\",\n",
    "        \"endtime\": \"2021-01-19\",\n",
    "        \"orderby\": \"time-asc\",\n",
    "    },\n",
    ")"
   ]
  },
  {
   "cell_type": "code",
   "execution_count": 17,
   "id": "ed7d817a",
   "metadata": {},
   "outputs": [
    {
     "data": {
      "text/plain": [
       "'{\"type\":\"FeatureCollection\",\"metadata\":{\"generated\":1668169053000,\"url\":\"https://earthquake.usgs.gov'"
      ]
     },
     "execution_count": 17,
     "metadata": {},
     "output_type": "execute_result"
    }
   ],
   "source": [
    "quakes.text[0:100]"
   ]
  },
  {
   "cell_type": "markdown",
   "id": "a963d303",
   "metadata": {},
   "source": [
    "### Exercise 3c Answer\n",
    "*Relevant sections: 3.1, 2.5.2, 2.5.1*\n",
    "\n",
    "### Load the data\n",
    "* Get the text of the web result\n",
    "* Parse the data as JSON"
   ]
  },
  {
   "cell_type": "code",
   "execution_count": 18,
   "id": "81f627d8",
   "metadata": {},
   "outputs": [],
   "source": [
    "import requests\n",
    "quakes = requests.get(\n",
    "    \"http://earthquake.usgs.gov/fdsnws/event/1/query.geojson\",\n",
    "    params={\n",
    "        \"starttime\": \"2000-01-01\",\n",
    "        \"maxlatitude\": \"58.723\",\n",
    "        \"minlatitude\": \"50.008\",\n",
    "        \"maxlongitude\": \"1.67\",\n",
    "        \"minlongitude\": \"-9.756\",\n",
    "        \"minmagnitude\": \"1\",\n",
    "        \"endtime\": \"2022-11-02\", # Change the date to yesterday\n",
    "        \"orderby\": \"time-asc\",\n",
    "    },\n",
    ")"
   ]
  },
  {
   "cell_type": "code",
   "execution_count": 19,
   "id": "5b17807c",
   "metadata": {},
   "outputs": [],
   "source": [
    "import json\n",
    "# Can get the data indirectly via the text and then load json text....\n",
    "my_quake_data = json.loads(quakes.text) # Section 3.1 - structured data\n",
    "\n",
    "# Requests also has a built in json parser (note this gives exactly the same result as 'my_quake_data')\n",
    "requests_json = quakes.json()"
   ]
  },
  {
   "cell_type": "markdown",
   "id": "8d67e673",
   "metadata": {},
   "source": [
    "### Investigate the data\n",
    "* Understand how the data is structured into dictionaries and lists\n",
    "   * Where is the magnitude?\n",
    "   * Where is the place description or coordinates?"
   ]
  },
  {
   "cell_type": "markdown",
   "id": "214dd1bb",
   "metadata": {},
   "source": [
    "There is no foolproof way of doing this. A good first step is to see the type of our data!"
   ]
  },
  {
   "cell_type": "code",
   "execution_count": 20,
   "id": "07d7172a",
   "metadata": {},
   "outputs": [
    {
     "data": {
      "text/plain": [
       "dict"
      ]
     },
     "execution_count": 20,
     "metadata": {},
     "output_type": "execute_result"
    }
   ],
   "source": [
    "type(requests_json)"
   ]
  },
  {
   "cell_type": "markdown",
   "id": "742ca99b",
   "metadata": {},
   "source": [
    "Now we can navigate through this dictionary to see how the information is stored in the nested dictionaries and lists. The `keys` method can indicate what kind of information each dictionary holds, and the `len` function tells us how many entries are contained in a list. How you explore is up to you!"
   ]
  },
  {
   "cell_type": "code",
   "execution_count": 21,
   "id": "9a08c279",
   "metadata": {},
   "outputs": [
    {
     "data": {
      "text/plain": [
       "dict_keys(['type', 'metadata', 'features', 'bbox'])"
      ]
     },
     "execution_count": 21,
     "metadata": {},
     "output_type": "execute_result"
    }
   ],
   "source": [
    "requests_json.keys()"
   ]
  },
  {
   "cell_type": "code",
   "execution_count": 22,
   "id": "4404c234",
   "metadata": {},
   "outputs": [
    {
     "data": {
      "text/plain": [
       "list"
      ]
     },
     "execution_count": 22,
     "metadata": {},
     "output_type": "execute_result"
    }
   ],
   "source": [
    "type(requests_json[\"features\"])"
   ]
  },
  {
   "cell_type": "code",
   "execution_count": 23,
   "id": "59b16ebf",
   "metadata": {},
   "outputs": [
    {
     "data": {
      "text/plain": [
       "131"
      ]
     },
     "execution_count": 23,
     "metadata": {},
     "output_type": "execute_result"
    }
   ],
   "source": [
    "len(requests_json[\"features\"])"
   ]
  },
  {
   "cell_type": "code",
   "execution_count": 24,
   "id": "50371d83",
   "metadata": {},
   "outputs": [
    {
     "data": {
      "text/plain": [
       "{'type': 'Feature',\n",
       " 'properties': {'mag': 2.6,\n",
       "  'place': '12 km NNW of Penrith, United Kingdom',\n",
       "  'time': 956553055700,\n",
       "  'updated': 1415322596133,\n",
       "  'tz': None,\n",
       "  'url': 'https://earthquake.usgs.gov/earthquakes/eventpage/usp0009rst',\n",
       "  'detail': 'https://earthquake.usgs.gov/fdsnws/event/1/query?eventid=usp0009rst&format=geojson',\n",
       "  'felt': None,\n",
       "  'cdi': None,\n",
       "  'mmi': None,\n",
       "  'alert': None,\n",
       "  'status': 'reviewed',\n",
       "  'tsunami': 0,\n",
       "  'sig': 104,\n",
       "  'net': 'us',\n",
       "  'code': 'p0009rst',\n",
       "  'ids': ',usp0009rst,',\n",
       "  'sources': ',us,',\n",
       "  'types': ',impact-text,origin,phase-data,',\n",
       "  'nst': None,\n",
       "  'dmin': None,\n",
       "  'rms': None,\n",
       "  'gap': None,\n",
       "  'magType': 'ml',\n",
       "  'type': 'earthquake',\n",
       "  'title': 'M 2.6 - 12 km NNW of Penrith, United Kingdom'},\n",
       " 'geometry': {'type': 'Point', 'coordinates': [-2.81, 54.77, 14]},\n",
       " 'id': 'usp0009rst'}"
      ]
     },
     "execution_count": 24,
     "metadata": {},
     "output_type": "execute_result"
    }
   ],
   "source": [
    "requests_json[\"features\"][0]"
   ]
  },
  {
   "cell_type": "code",
   "execution_count": 25,
   "id": "9aedfe25",
   "metadata": {},
   "outputs": [
    {
     "data": {
      "text/plain": [
       "dict_keys(['type', 'properties', 'geometry', 'id'])"
      ]
     },
     "execution_count": 25,
     "metadata": {},
     "output_type": "execute_result"
    }
   ],
   "source": [
    "requests_json[\"features\"][0].keys()"
   ]
  },
  {
   "cell_type": "markdown",
   "id": "283e0636",
   "metadata": {},
   "source": [
    "It looks like the coordinates are in the `geometry` section and the magnitude is in the `properties` section."
   ]
  },
  {
   "cell_type": "code",
   "execution_count": 26,
   "id": "6bfa1446",
   "metadata": {},
   "outputs": [
    {
     "data": {
      "text/plain": [
       "{'type': 'Point', 'coordinates': [-2.81, 54.77, 14]}"
      ]
     },
     "execution_count": 26,
     "metadata": {},
     "output_type": "execute_result"
    }
   ],
   "source": [
    "requests_json[\"features\"][0][\"geometry\"]"
   ]
  },
  {
   "cell_type": "code",
   "execution_count": 27,
   "id": "7901b85d",
   "metadata": {},
   "outputs": [
    {
     "data": {
      "text/plain": [
       "dict_keys(['mag', 'place', 'time', 'updated', 'tz', 'url', 'detail', 'felt', 'cdi', 'mmi', 'alert', 'status', 'tsunami', 'sig', 'net', 'code', 'ids', 'sources', 'types', 'nst', 'dmin', 'rms', 'gap', 'magType', 'type', 'title'])"
      ]
     },
     "execution_count": 27,
     "metadata": {},
     "output_type": "execute_result"
    }
   ],
   "source": [
    "requests_json[\"features\"][0][\"properties\"].keys()"
   ]
  },
  {
   "cell_type": "code",
   "execution_count": 28,
   "id": "d6e2631d",
   "metadata": {},
   "outputs": [
    {
     "data": {
      "text/plain": [
       "2.6"
      ]
     },
     "execution_count": 28,
     "metadata": {},
     "output_type": "execute_result"
    }
   ],
   "source": [
    "requests_json[\"features\"][0][\"properties\"][\"mag\"]"
   ]
  },
  {
   "cell_type": "markdown",
   "id": "1c97ff16",
   "metadata": {},
   "source": [
    "### Search through the data\n",
    "* Program a search through all the quakes to find the biggest quake\n",
    "* Find the place of the biggest quake"
   ]
  },
  {
   "cell_type": "code",
   "execution_count": 29,
   "id": "119bffcc",
   "metadata": {},
   "outputs": [],
   "source": [
    "quakes = requests_json[\"features\"]"
   ]
  },
  {
   "cell_type": "code",
   "execution_count": 30,
   "id": "a6872c06",
   "metadata": {},
   "outputs": [
    {
     "data": {
      "text/plain": [
       "4.8"
      ]
     },
     "execution_count": 30,
     "metadata": {},
     "output_type": "execute_result"
    }
   ],
   "source": [
    "largest_so_far = quakes[0]\n",
    "for quake in quakes:\n",
    "    if quake[\"properties\"][\"mag\"] > largest_so_far[\"properties\"][\"mag\"]:\n",
    "        largest_so_far = quake\n",
    "largest_so_far[\"properties\"][\"mag\"]"
   ]
  },
  {
   "cell_type": "code",
   "execution_count": 31,
   "id": "5cc11360",
   "metadata": {},
   "outputs": [
    {
     "name": "stdout",
     "output_type": "stream",
     "text": [
      "Latitude: 52.52 Longitude: -2.15\n"
     ]
    }
   ],
   "source": [
    "lon = largest_so_far[\"geometry\"][\"coordinates\"][0]\n",
    "lat = largest_so_far[\"geometry\"][\"coordinates\"][1]\n",
    "\n",
    "print(f\"Latitude: {lat} Longitude: {lon}\")"
   ]
  },
  {
   "cell_type": "markdown",
   "id": "1c942ed2",
   "metadata": {},
   "source": [
    "### Visualise your answer\n",
    "* Form a URL for an online map service at that latitude and longitude: look back at the introductory example\n",
    "* Display that image"
   ]
  },
  {
   "cell_type": "code",
   "execution_count": 32,
   "id": "91f54b3e",
   "metadata": {},
   "outputs": [],
   "source": [
    "import IPython\n",
    "import requests"
   ]
  },
  {
   "cell_type": "code",
   "execution_count": 33,
   "id": "e37c7150",
   "metadata": {},
   "outputs": [
    {
     "data": {
      "image/png": "[encoded data removed]",
      "text/plain": [
       "<IPython.core.display.Image object>"
      ]
     },
     "execution_count": 33,
     "metadata": {
      "filenames": {
       "image/png": "/home/runner/work/rse-course/rse-course/_build/jupyter_execute/solutions/module_03_49_0.png"
      }
     },
     "output_type": "execute_result"
    }
   ],
   "source": [
    "# This is a solution to one of the questions in module 2\n",
    "# The only difference here is that the map type is set to map rather than satellite view and the zoom is 10 not 12\n",
    "def op_response(lat, lon):\n",
    "    response = requests.get(\n",
    "    \"https://static-maps.yandex.ru:443/1.x\",\n",
    "        params={\n",
    "            \"size\": \"400,400\",  # size of map\n",
    "            \"ll\": str(lon) + \",\" + str(lat),  # longitude & latitude of centre\n",
    "            \"z\": 10,  # zoom level\n",
    "            \"l\": \"map\",  # map layer (map image)\n",
    "            \"lang\": \"en_US\",  # language\n",
    "            },\n",
    "        )\n",
    "    return response.content\n",
    "\n",
    "    \n",
    "op = op_response(lat, lon)\n",
    "\n",
    "IPython.core.display.Image(op)"
   ]
  },
  {
   "cell_type": "markdown",
   "id": "7cf3549b",
   "metadata": {},
   "source": [
    "## [Optional] Equivalent solution using pandas"
   ]
  },
  {
   "cell_type": "markdown",
   "id": "d854a57d",
   "metadata": {},
   "source": [
    "In this instance Pandas probably isn't the first thing that you would use as we have nested dictionaries and JSON works very well in such cases.\n",
    "If we really want to use Pandas we'll need to flatten the nested values before constructing a DataFrame."
   ]
  },
  {
   "cell_type": "code",
   "execution_count": 34,
   "id": "645b6461",
   "metadata": {},
   "outputs": [
    {
     "data": {
      "text/plain": [
       "{'type': 'Feature',\n",
       " 'properties': {'mag': 2.6,\n",
       "  'place': '12 km NNW of Penrith, United Kingdom',\n",
       "  'time': 956553055700,\n",
       "  'updated': 1415322596133,\n",
       "  'tz': None,\n",
       "  'url': 'https://earthquake.usgs.gov/earthquakes/eventpage/usp0009rst',\n",
       "  'detail': 'https://earthquake.usgs.gov/fdsnws/event/1/query?eventid=usp0009rst&format=geojson',\n",
       "  'felt': None,\n",
       "  'cdi': None,\n",
       "  'mmi': None,\n",
       "  'alert': None,\n",
       "  'status': 'reviewed',\n",
       "  'tsunami': 0,\n",
       "  'sig': 104,\n",
       "  'net': 'us',\n",
       "  'code': 'p0009rst',\n",
       "  'ids': ',usp0009rst,',\n",
       "  'sources': ',us,',\n",
       "  'types': ',impact-text,origin,phase-data,',\n",
       "  'nst': None,\n",
       "  'dmin': None,\n",
       "  'rms': None,\n",
       "  'gap': None,\n",
       "  'magType': 'ml',\n",
       "  'type': 'earthquake',\n",
       "  'title': 'M 2.6 - 12 km NNW of Penrith, United Kingdom'},\n",
       " 'geometry': {'type': 'Point', 'coordinates': [-2.81, 54.77, 14]},\n",
       " 'id': 'usp0009rst'}"
      ]
     },
     "execution_count": 34,
     "metadata": {},
     "output_type": "execute_result"
    }
   ],
   "source": [
    "features = requests_json[\"features\"]\n",
    "features[0]"
   ]
  },
  {
   "cell_type": "code",
   "execution_count": 35,
   "id": "8ab083fa",
   "metadata": {},
   "outputs": [
    {
     "data": {
      "text/plain": [
       "{'type': 'earthquake',\n",
       " 'coordinates': [-2.81, 54.77, 14],\n",
       " 'mag': 2.6,\n",
       " 'place': '12 km NNW of Penrith, United Kingdom',\n",
       " 'time': 956553055700,\n",
       " 'updated': 1415322596133,\n",
       " 'tz': None,\n",
       " 'url': 'https://earthquake.usgs.gov/earthquakes/eventpage/usp0009rst',\n",
       " 'detail': 'https://earthquake.usgs.gov/fdsnws/event/1/query?eventid=usp0009rst&format=geojson',\n",
       " 'felt': None,\n",
       " 'cdi': None,\n",
       " 'mmi': None,\n",
       " 'alert': None,\n",
       " 'status': 'reviewed',\n",
       " 'tsunami': 0,\n",
       " 'sig': 104,\n",
       " 'net': 'us',\n",
       " 'code': 'p0009rst',\n",
       " 'ids': ',usp0009rst,',\n",
       " 'sources': ',us,',\n",
       " 'types': ',impact-text,origin,phase-data,',\n",
       " 'nst': None,\n",
       " 'dmin': None,\n",
       " 'rms': None,\n",
       " 'gap': None,\n",
       " 'magType': 'ml',\n",
       " 'title': 'M 2.6 - 12 km NNW of Penrith, United Kingdom'}"
      ]
     },
     "execution_count": 35,
     "metadata": {},
     "output_type": "execute_result"
    }
   ],
   "source": [
    "# We can use ** to convert a dictionary into pairs of (key, value)\n",
    "# We can then run `{(k1, v1), (k2, v2)}` to convert a list of keys and values back into a dictionary\n",
    "combined_features = [{**f[\"geometry\"], **f[\"properties\"]} for f in features]\n",
    "combined_features[0]"
   ]
  },
  {
   "cell_type": "code",
   "execution_count": 36,
   "id": "a6eb7972",
   "metadata": {},
   "outputs": [
    {
     "data": {
      "text/html": [
       "<div>\n",
       "<style scoped>\n",
       "    .dataframe tbody tr th:only-of-type {\n",
       "        vertical-align: middle;\n",
       "    }\n",
       "\n",
       "    .dataframe tbody tr th {\n",
       "        vertical-align: top;\n",
       "    }\n",
       "\n",
       "    .dataframe thead th {\n",
       "        text-align: right;\n",
       "    }\n",
       "</style>\n",
       "<table border=\"1\" class=\"dataframe\">\n",
       "  <thead>\n",
       "    <tr style=\"text-align: right;\">\n",
       "      <th></th>\n",
       "      <th>type</th>\n",
       "      <th>coordinates</th>\n",
       "      <th>mag</th>\n",
       "      <th>place</th>\n",
       "      <th>time</th>\n",
       "      <th>updated</th>\n",
       "      <th>tz</th>\n",
       "      <th>url</th>\n",
       "      <th>detail</th>\n",
       "      <th>felt</th>\n",
       "      <th>...</th>\n",
       "      <th>code</th>\n",
       "      <th>ids</th>\n",
       "      <th>sources</th>\n",
       "      <th>types</th>\n",
       "      <th>nst</th>\n",
       "      <th>dmin</th>\n",
       "      <th>rms</th>\n",
       "      <th>gap</th>\n",
       "      <th>magType</th>\n",
       "      <th>title</th>\n",
       "    </tr>\n",
       "  </thead>\n",
       "  <tbody>\n",
       "    <tr>\n",
       "      <th>0</th>\n",
       "      <td>earthquake</td>\n",
       "      <td>[-2.81, 54.77, 14]</td>\n",
       "      <td>2.6</td>\n",
       "      <td>12 km NNW of Penrith, United Kingdom</td>\n",
       "      <td>956553055700</td>\n",
       "      <td>1415322596133</td>\n",
       "      <td>None</td>\n",
       "      <td>https://earthquake.usgs.gov/earthquakes/eventp...</td>\n",
       "      <td>https://earthquake.usgs.gov/fdsnws/event/1/que...</td>\n",
       "      <td>NaN</td>\n",
       "      <td>...</td>\n",
       "      <td>p0009rst</td>\n",
       "      <td>,usp0009rst,</td>\n",
       "      <td>,us,</td>\n",
       "      <td>,impact-text,origin,phase-data,</td>\n",
       "      <td>NaN</td>\n",
       "      <td>NaN</td>\n",
       "      <td>NaN</td>\n",
       "      <td>NaN</td>\n",
       "      <td>ml</td>\n",
       "      <td>M 2.6 - 12 km NNW of Penrith, United Kingdom</td>\n",
       "    </tr>\n",
       "    <tr>\n",
       "      <th>1</th>\n",
       "      <td>earthquake</td>\n",
       "      <td>[-1.61, 52.28, 13.1]</td>\n",
       "      <td>4.0</td>\n",
       "      <td>1 km WSW of Warwick, United Kingdom</td>\n",
       "      <td>969683025790</td>\n",
       "      <td>1415322666913</td>\n",
       "      <td>None</td>\n",
       "      <td>https://earthquake.usgs.gov/earthquakes/eventp...</td>\n",
       "      <td>https://earthquake.usgs.gov/fdsnws/event/1/que...</td>\n",
       "      <td>NaN</td>\n",
       "      <td>...</td>\n",
       "      <td>p000a0pm</td>\n",
       "      <td>,usp000a0pm,</td>\n",
       "      <td>,us,</td>\n",
       "      <td>,impact-text,origin,phase-data,</td>\n",
       "      <td>55.0</td>\n",
       "      <td>NaN</td>\n",
       "      <td>NaN</td>\n",
       "      <td>NaN</td>\n",
       "      <td>ml</td>\n",
       "      <td>M 4.0 - 1 km WSW of Warwick, United Kingdom</td>\n",
       "    </tr>\n",
       "    <tr>\n",
       "      <th>2</th>\n",
       "      <td>earthquake</td>\n",
       "      <td>[1.564, 53.236, 10]</td>\n",
       "      <td>4.0</td>\n",
       "      <td>38 km NNE of Cromer, United Kingdom</td>\n",
       "      <td>977442788510</td>\n",
       "      <td>1415322705662</td>\n",
       "      <td>None</td>\n",
       "      <td>https://earthquake.usgs.gov/earthquakes/eventp...</td>\n",
       "      <td>https://earthquake.usgs.gov/fdsnws/event/1/que...</td>\n",
       "      <td>NaN</td>\n",
       "      <td>...</td>\n",
       "      <td>p000a6hd</td>\n",
       "      <td>,usp000a6hd,</td>\n",
       "      <td>,us,</td>\n",
       "      <td>,origin,phase-data,</td>\n",
       "      <td>27.0</td>\n",
       "      <td>NaN</td>\n",
       "      <td>1.12</td>\n",
       "      <td>NaN</td>\n",
       "      <td>ml</td>\n",
       "      <td>M 4.0 - 38 km NNE of Cromer, United Kingdom</td>\n",
       "    </tr>\n",
       "    <tr>\n",
       "      <th>3</th>\n",
       "      <td>earthquake</td>\n",
       "      <td>[0.872, 58.097, 10]</td>\n",
       "      <td>3.3</td>\n",
       "      <td>171 km ENE of Peterhead, United Kingdom</td>\n",
       "      <td>984608438660</td>\n",
       "      <td>1415322741153</td>\n",
       "      <td>None</td>\n",
       "      <td>https://earthquake.usgs.gov/earthquakes/eventp...</td>\n",
       "      <td>https://earthquake.usgs.gov/fdsnws/event/1/que...</td>\n",
       "      <td>NaN</td>\n",
       "      <td>...</td>\n",
       "      <td>p000abdr</td>\n",
       "      <td>,usp000abdr,</td>\n",
       "      <td>,us,</td>\n",
       "      <td>,origin,phase-data,</td>\n",
       "      <td>36.0</td>\n",
       "      <td>NaN</td>\n",
       "      <td>1.44</td>\n",
       "      <td>NaN</td>\n",
       "      <td>mb</td>\n",
       "      <td>M 3.3 - 171 km ENE of Peterhead, United Kingdom</td>\n",
       "    </tr>\n",
       "    <tr>\n",
       "      <th>4</th>\n",
       "      <td>earthquake</td>\n",
       "      <td>[-1.845, 51.432, 10]</td>\n",
       "      <td>2.9</td>\n",
       "      <td>8 km W of Marlborough, United Kingdom</td>\n",
       "      <td>984879824720</td>\n",
       "      <td>1415322742102</td>\n",
       "      <td>None</td>\n",
       "      <td>https://earthquake.usgs.gov/earthquakes/eventp...</td>\n",
       "      <td>https://earthquake.usgs.gov/fdsnws/event/1/que...</td>\n",
       "      <td>NaN</td>\n",
       "      <td>...</td>\n",
       "      <td>p000abnc</td>\n",
       "      <td>,usp000abnc,</td>\n",
       "      <td>,us,</td>\n",
       "      <td>,origin,phase-data,</td>\n",
       "      <td>19.0</td>\n",
       "      <td>NaN</td>\n",
       "      <td>0.57</td>\n",
       "      <td>NaN</td>\n",
       "      <td>ml</td>\n",
       "      <td>M 2.9 - 8 km W of Marlborough, United Kingdom</td>\n",
       "    </tr>\n",
       "  </tbody>\n",
       "</table>\n",
       "<p>5 rows × 27 columns</p>\n",
       "</div>"
      ],
      "text/plain": [
       "         type           coordinates  mag  \\\n",
       "0  earthquake    [-2.81, 54.77, 14]  2.6   \n",
       "1  earthquake  [-1.61, 52.28, 13.1]  4.0   \n",
       "2  earthquake   [1.564, 53.236, 10]  4.0   \n",
       "3  earthquake   [0.872, 58.097, 10]  3.3   \n",
       "4  earthquake  [-1.845, 51.432, 10]  2.9   \n",
       "\n",
       "                                     place          time        updated    tz  \\\n",
       "0     12 km NNW of Penrith, United Kingdom  956553055700  1415322596133  None   \n",
       "1      1 km WSW of Warwick, United Kingdom  969683025790  1415322666913  None   \n",
       "2      38 km NNE of Cromer, United Kingdom  977442788510  1415322705662  None   \n",
       "3  171 km ENE of Peterhead, United Kingdom  984608438660  1415322741153  None   \n",
       "4    8 km W of Marlborough, United Kingdom  984879824720  1415322742102  None   \n",
       "\n",
       "                                                 url  \\\n",
       "0  https://earthquake.usgs.gov/earthquakes/eventp...   \n",
       "1  https://earthquake.usgs.gov/earthquakes/eventp...   \n",
       "2  https://earthquake.usgs.gov/earthquakes/eventp...   \n",
       "3  https://earthquake.usgs.gov/earthquakes/eventp...   \n",
       "4  https://earthquake.usgs.gov/earthquakes/eventp...   \n",
       "\n",
       "                                              detail  felt  ...      code  \\\n",
       "0  https://earthquake.usgs.gov/fdsnws/event/1/que...   NaN  ...  p0009rst   \n",
       "1  https://earthquake.usgs.gov/fdsnws/event/1/que...   NaN  ...  p000a0pm   \n",
       "2  https://earthquake.usgs.gov/fdsnws/event/1/que...   NaN  ...  p000a6hd   \n",
       "3  https://earthquake.usgs.gov/fdsnws/event/1/que...   NaN  ...  p000abdr   \n",
       "4  https://earthquake.usgs.gov/fdsnws/event/1/que...   NaN  ...  p000abnc   \n",
       "\n",
       "            ids sources                            types   nst  dmin   rms  \\\n",
       "0  ,usp0009rst,    ,us,  ,impact-text,origin,phase-data,   NaN   NaN   NaN   \n",
       "1  ,usp000a0pm,    ,us,  ,impact-text,origin,phase-data,  55.0   NaN   NaN   \n",
       "2  ,usp000a6hd,    ,us,              ,origin,phase-data,  27.0   NaN  1.12   \n",
       "3  ,usp000abdr,    ,us,              ,origin,phase-data,  36.0   NaN  1.44   \n",
       "4  ,usp000abnc,    ,us,              ,origin,phase-data,  19.0   NaN  0.57   \n",
       "\n",
       "  gap magType                                            title  \n",
       "0 NaN      ml     M 2.6 - 12 km NNW of Penrith, United Kingdom  \n",
       "1 NaN      ml      M 4.0 - 1 km WSW of Warwick, United Kingdom  \n",
       "2 NaN      ml      M 4.0 - 38 km NNE of Cromer, United Kingdom  \n",
       "3 NaN      mb  M 3.3 - 171 km ENE of Peterhead, United Kingdom  \n",
       "4 NaN      ml    M 2.9 - 8 km W of Marlborough, United Kingdom  \n",
       "\n",
       "[5 rows x 27 columns]"
      ]
     },
     "execution_count": 36,
     "metadata": {},
     "output_type": "execute_result"
    }
   ],
   "source": [
    "import pandas as pd\n",
    "\n",
    "df = pd.DataFrame.from_records(combined_features)\n",
    "df.head()"
   ]
  },
  {
   "cell_type": "code",
   "execution_count": 37,
   "id": "e34c2737",
   "metadata": {},
   "outputs": [
    {
     "data": {
      "text/html": [
       "<div>\n",
       "<style scoped>\n",
       "    .dataframe tbody tr th:only-of-type {\n",
       "        vertical-align: middle;\n",
       "    }\n",
       "\n",
       "    .dataframe tbody tr th {\n",
       "        vertical-align: top;\n",
       "    }\n",
       "\n",
       "    .dataframe thead th {\n",
       "        text-align: right;\n",
       "    }\n",
       "</style>\n",
       "<table border=\"1\" class=\"dataframe\">\n",
       "  <thead>\n",
       "    <tr style=\"text-align: right;\">\n",
       "      <th></th>\n",
       "      <th>type</th>\n",
       "      <th>coordinates</th>\n",
       "      <th>mag</th>\n",
       "      <th>place</th>\n",
       "      <th>time</th>\n",
       "      <th>updated</th>\n",
       "      <th>tz</th>\n",
       "      <th>url</th>\n",
       "      <th>detail</th>\n",
       "      <th>felt</th>\n",
       "      <th>...</th>\n",
       "      <th>code</th>\n",
       "      <th>ids</th>\n",
       "      <th>sources</th>\n",
       "      <th>types</th>\n",
       "      <th>nst</th>\n",
       "      <th>dmin</th>\n",
       "      <th>rms</th>\n",
       "      <th>gap</th>\n",
       "      <th>magType</th>\n",
       "      <th>title</th>\n",
       "    </tr>\n",
       "  </thead>\n",
       "  <tbody>\n",
       "    <tr>\n",
       "      <th>19</th>\n",
       "      <td>earthquake</td>\n",
       "      <td>[-2.15, 52.52, 9.4]</td>\n",
       "      <td>4.8</td>\n",
       "      <td>2 km ESE of Wombourn, United Kingdom</td>\n",
       "      <td>1032738794600</td>\n",
       "      <td>1600455819229</td>\n",
       "      <td>None</td>\n",
       "      <td>https://earthquake.usgs.gov/earthquakes/eventp...</td>\n",
       "      <td>https://earthquake.usgs.gov/fdsnws/event/1/que...</td>\n",
       "      <td>NaN</td>\n",
       "      <td>...</td>\n",
       "      <td>p000bcxg</td>\n",
       "      <td>,usp000bcxg,atlas20020922235314,</td>\n",
       "      <td>,us,atlas,</td>\n",
       "      <td>,impact-text,origin,phase-data,shakemap,trump-...</td>\n",
       "      <td>268.0</td>\n",
       "      <td>NaN</td>\n",
       "      <td>NaN</td>\n",
       "      <td>NaN</td>\n",
       "      <td>mb</td>\n",
       "      <td>M 4.8 - 2 km ESE of Wombourn, United Kingdom</td>\n",
       "    </tr>\n",
       "    <tr>\n",
       "      <th>81</th>\n",
       "      <td>earthquake</td>\n",
       "      <td>[-0.332, 53.403, 18.4]</td>\n",
       "      <td>4.8</td>\n",
       "      <td>1 km NNE of Market Rasen, United Kingdom</td>\n",
       "      <td>1204073807800</td>\n",
       "      <td>1657747150218</td>\n",
       "      <td>None</td>\n",
       "      <td>https://earthquake.usgs.gov/earthquakes/eventp...</td>\n",
       "      <td>https://earthquake.usgs.gov/fdsnws/event/1/que...</td>\n",
       "      <td>13654.0</td>\n",
       "      <td>...</td>\n",
       "      <td>p000g02w</td>\n",
       "      <td>,us2008nyae,usp000g02w,atlas20080227005647,</td>\n",
       "      <td>,us,us,atlas,</td>\n",
       "      <td>,associate,dyfi,impact-text,origin,phase-data,...</td>\n",
       "      <td>361.0</td>\n",
       "      <td>NaN</td>\n",
       "      <td>NaN</td>\n",
       "      <td>19.2</td>\n",
       "      <td>mb</td>\n",
       "      <td>M 4.8 - 1 km NNE of Market Rasen, United Kingdom</td>\n",
       "    </tr>\n",
       "    <tr>\n",
       "      <th>72</th>\n",
       "      <td>earthquake</td>\n",
       "      <td>[1.009, 51.085, 10]</td>\n",
       "      <td>4.6</td>\n",
       "      <td>1 km WNW of Lympne, United Kingdom</td>\n",
       "      <td>1177744691360</td>\n",
       "      <td>1657780288041</td>\n",
       "      <td>None</td>\n",
       "      <td>https://earthquake.usgs.gov/earthquakes/eventp...</td>\n",
       "      <td>https://earthquake.usgs.gov/fdsnws/event/1/que...</td>\n",
       "      <td>201.0</td>\n",
       "      <td>...</td>\n",
       "      <td>p000fase</td>\n",
       "      <td>,us2007bsal,usp000fase,atlas20070428071811,</td>\n",
       "      <td>,us,us,atlas,</td>\n",
       "      <td>,associate,dyfi,impact-text,origin,phase-data,...</td>\n",
       "      <td>295.0</td>\n",
       "      <td>NaN</td>\n",
       "      <td>1.12</td>\n",
       "      <td>31.8</td>\n",
       "      <td>mb</td>\n",
       "      <td>M 4.6 - 1 km WNW of Lympne, United Kingdom</td>\n",
       "    </tr>\n",
       "    <tr>\n",
       "      <th>23</th>\n",
       "      <td>earthquake</td>\n",
       "      <td>[-2.219, 53.478, 5]</td>\n",
       "      <td>4.3</td>\n",
       "      <td>1 km ESE of Manchester, United Kingdom</td>\n",
       "      <td>1035200554900</td>\n",
       "      <td>1415323007416</td>\n",
       "      <td>None</td>\n",
       "      <td>https://earthquake.usgs.gov/earthquakes/eventp...</td>\n",
       "      <td>https://earthquake.usgs.gov/fdsnws/event/1/que...</td>\n",
       "      <td>NaN</td>\n",
       "      <td>...</td>\n",
       "      <td>p000beyx</td>\n",
       "      <td>,usp000beyx,</td>\n",
       "      <td>,us,</td>\n",
       "      <td>,impact-text,origin,phase-data,</td>\n",
       "      <td>46.0</td>\n",
       "      <td>NaN</td>\n",
       "      <td>NaN</td>\n",
       "      <td>NaN</td>\n",
       "      <td>ml</td>\n",
       "      <td>M 4.3 - 1 km ESE of Manchester, United Kingdom</td>\n",
       "    </tr>\n",
       "    <tr>\n",
       "      <th>113</th>\n",
       "      <td>earthquake</td>\n",
       "      <td>[-3.8559, 51.7231, 11.55]</td>\n",
       "      <td>4.3</td>\n",
       "      <td>5 km NE of Clydach, United Kingdom</td>\n",
       "      <td>1518877865070</td>\n",
       "      <td>1664101506468</td>\n",
       "      <td>None</td>\n",
       "      <td>https://earthquake.usgs.gov/earthquakes/eventp...</td>\n",
       "      <td>https://earthquake.usgs.gov/fdsnws/event/1/que...</td>\n",
       "      <td>3409.0</td>\n",
       "      <td>...</td>\n",
       "      <td>2000d3uw</td>\n",
       "      <td>,us2000d3uw,</td>\n",
       "      <td>,us,</td>\n",
       "      <td>,dyfi,impact-text,origin,phase-data,shakemap,</td>\n",
       "      <td>NaN</td>\n",
       "      <td>2.167</td>\n",
       "      <td>1.14</td>\n",
       "      <td>92.0</td>\n",
       "      <td>mb</td>\n",
       "      <td>M 4.3 - 5 km NE of Clydach, United Kingdom</td>\n",
       "    </tr>\n",
       "  </tbody>\n",
       "</table>\n",
       "<p>5 rows × 27 columns</p>\n",
       "</div>"
      ],
      "text/plain": [
       "           type                coordinates  mag  \\\n",
       "19   earthquake        [-2.15, 52.52, 9.4]  4.8   \n",
       "81   earthquake     [-0.332, 53.403, 18.4]  4.8   \n",
       "72   earthquake        [1.009, 51.085, 10]  4.6   \n",
       "23   earthquake        [-2.219, 53.478, 5]  4.3   \n",
       "113  earthquake  [-3.8559, 51.7231, 11.55]  4.3   \n",
       "\n",
       "                                        place           time        updated  \\\n",
       "19       2 km ESE of Wombourn, United Kingdom  1032738794600  1600455819229   \n",
       "81   1 km NNE of Market Rasen, United Kingdom  1204073807800  1657747150218   \n",
       "72         1 km WNW of Lympne, United Kingdom  1177744691360  1657780288041   \n",
       "23     1 km ESE of Manchester, United Kingdom  1035200554900  1415323007416   \n",
       "113        5 km NE of Clydach, United Kingdom  1518877865070  1664101506468   \n",
       "\n",
       "       tz                                                url  \\\n",
       "19   None  https://earthquake.usgs.gov/earthquakes/eventp...   \n",
       "81   None  https://earthquake.usgs.gov/earthquakes/eventp...   \n",
       "72   None  https://earthquake.usgs.gov/earthquakes/eventp...   \n",
       "23   None  https://earthquake.usgs.gov/earthquakes/eventp...   \n",
       "113  None  https://earthquake.usgs.gov/earthquakes/eventp...   \n",
       "\n",
       "                                                detail     felt  ...  \\\n",
       "19   https://earthquake.usgs.gov/fdsnws/event/1/que...      NaN  ...   \n",
       "81   https://earthquake.usgs.gov/fdsnws/event/1/que...  13654.0  ...   \n",
       "72   https://earthquake.usgs.gov/fdsnws/event/1/que...    201.0  ...   \n",
       "23   https://earthquake.usgs.gov/fdsnws/event/1/que...      NaN  ...   \n",
       "113  https://earthquake.usgs.gov/fdsnws/event/1/que...   3409.0  ...   \n",
       "\n",
       "         code                                          ids        sources  \\\n",
       "19   p000bcxg             ,usp000bcxg,atlas20020922235314,     ,us,atlas,   \n",
       "81   p000g02w  ,us2008nyae,usp000g02w,atlas20080227005647,  ,us,us,atlas,   \n",
       "72   p000fase  ,us2007bsal,usp000fase,atlas20070428071811,  ,us,us,atlas,   \n",
       "23   p000beyx                                 ,usp000beyx,           ,us,   \n",
       "113  2000d3uw                                 ,us2000d3uw,           ,us,   \n",
       "\n",
       "                                                 types    nst   dmin   rms  \\\n",
       "19   ,impact-text,origin,phase-data,shakemap,trump-...  268.0    NaN   NaN   \n",
       "81   ,associate,dyfi,impact-text,origin,phase-data,...  361.0    NaN   NaN   \n",
       "72   ,associate,dyfi,impact-text,origin,phase-data,...  295.0    NaN  1.12   \n",
       "23                     ,impact-text,origin,phase-data,   46.0    NaN   NaN   \n",
       "113      ,dyfi,impact-text,origin,phase-data,shakemap,    NaN  2.167  1.14   \n",
       "\n",
       "      gap magType                                             title  \n",
       "19    NaN      mb      M 4.8 - 2 km ESE of Wombourn, United Kingdom  \n",
       "81   19.2      mb  M 4.8 - 1 km NNE of Market Rasen, United Kingdom  \n",
       "72   31.8      mb        M 4.6 - 1 km WNW of Lympne, United Kingdom  \n",
       "23    NaN      ml    M 4.3 - 1 km ESE of Manchester, United Kingdom  \n",
       "113  92.0      mb        M 4.3 - 5 km NE of Clydach, United Kingdom  \n",
       "\n",
       "[5 rows x 27 columns]"
      ]
     },
     "execution_count": 37,
     "metadata": {},
     "output_type": "execute_result"
    }
   ],
   "source": [
    "df.sort_values(\"mag\", ascending=False, inplace=True)\n",
    "df.head()"
   ]
  },
  {
   "cell_type": "markdown",
   "id": "f534889b",
   "metadata": {},
   "source": [
    "You can see that we haven't really gained much over the JSON solution.\n",
    "We still needed to look at the data to see its structure and we had to manually flatten the structure."
   ]
  }
 ],
 "metadata": {
  "kernelspec": {
   "display_name": "Python 3 (ipykernel)",
   "language": "python",
   "name": "python3"
  },
  "language_info": {
   "codemirror_mode": {
    "name": "ipython",
    "version": 3
   },
   "file_extension": ".py",
   "mimetype": "text/x-python",
   "name": "python",
   "nbconvert_exporter": "python",
   "pygments_lexer": "ipython3",
   "version": "3.8.14"
  }
 },
 "nbformat": 4,
 "nbformat_minor": 5
}