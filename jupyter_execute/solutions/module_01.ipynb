{
 "cells": [
  {
   "cell_type": "markdown",
   "id": "a750e133",
   "metadata": {},
   "source": [
    "# Module 01"
   ]
  }
 ],
 "metadata": {
  "kernelspec": {
   "display_name": "Python 3.9.13 ('base')",
   "language": "python",
   "name": "python3"
  },
  "language_info": {
   "codemirror_mode": {
    "name": "ipython",
    "version": 3
   },
   "file_extension": ".py",
   "mimetype": "text/x-python",
   "name": "python",
   "nbconvert_exporter": "python",
   "pygments_lexer": "ipython3",
   "version": "3.8.13"
  },
  "vscode": {
   "interpreter": {
    "hash": "c4ef59b65f73b0333252d91e9970f5c4a4addb00c21ed0c9d2d1d89f6b8f8d0e"
   }
  }
 },
 "nbformat": 4,
 "nbformat_minor": 5
}