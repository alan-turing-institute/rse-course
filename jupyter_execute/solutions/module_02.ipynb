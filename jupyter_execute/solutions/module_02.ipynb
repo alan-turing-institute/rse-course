{
 "cells": [
  {
   "cell_type": "markdown",
   "id": "74f3c2e2",
   "metadata": {},
   "source": [
    "# Module 02"
   ]
  },
  {
   "cell_type": "markdown",
   "id": "bad4b2c4",
   "metadata": {},
   "source": [
    "**Exercise 2a/b**"
   ]
  },
  {
   "cell_type": "code",
   "execution_count": 1,
   "id": "bd10bdc1",
   "metadata": {},
   "outputs": [],
   "source": [
    "house = {\n",
    "    \"living\": {\n",
    "        \"exits\": {\"north\": \"kitchen\", \"outside\": \"garden\", \"upstairs\": \"bedroom\"},\n",
    "        \"people\": [\"James\"],\n",
    "        \"capacity\": 2,\n",
    "    },\n",
    "    \"kitchen\": {\"exits\": {\"south\": \"living\"}, \"people\": [], \"capacity\": 1},\n",
    "    \"garden\": {\"exits\": {\"inside\": \"living\"}, \"people\": [\"Sue\"], \"capacity\": 3},\n",
    "    \"bedroom\": {\n",
    "        \"exits\": {\"downstairs\": \"living\", \"jump\": \"garden\"},\n",
    "        \"people\": [],\n",
    "        \"capacity\": 1,\n",
    "    },\n",
    "}"
   ]
  },
  {
   "cell_type": "markdown",
   "id": "a8bd1d6c",
   "metadata": {},
   "source": [
    "**Answer 2a**\n",
    "\n",
    "We can get a simpler dictionary with just capacities like this:"
   ]
  },
  {
   "cell_type": "code",
   "execution_count": 2,
   "id": "a5bc0b48",
   "metadata": {},
   "outputs": [
    {
     "data": {
      "text/plain": [
       "{'living': 2, 'kitchen': 1, 'garden': 3, 'bedroom': 1}"
      ]
     },
     "execution_count": 2,
     "metadata": {},
     "output_type": "execute_result"
    }
   ],
   "source": [
    "{name: room['capacity'] for name, room in house.items()}"
   ]
  },
  {
   "cell_type": "markdown",
   "id": "963669fc",
   "metadata": {},
   "source": [
    "**Answer 2b**\n",
    "\n",
    "To get the current number of occupants, we can use a similar dictionary comprehension. Remember that we can *filter* (only keep certain rooms) by adding an `if` clause:"
   ]
  },
  {
   "cell_type": "code",
   "execution_count": 3,
   "id": "1dde15ef",
   "metadata": {},
   "outputs": [
    {
     "data": {
      "text/plain": [
       "{'living': 1, 'garden': 1}"
      ]
     },
     "execution_count": 3,
     "metadata": {},
     "output_type": "execute_result"
    }
   ],
   "source": [
    "{name: len(room[\"people\"]) for name, room in house.items() if len(room[\"people\"]) > 0}"
   ]
  },
  {
   "cell_type": "markdown",
   "id": "c4f2a50b",
   "metadata": {},
   "source": [
    "**Answer 2c**"
   ]
  },
  {
   "cell_type": "markdown",
   "id": "00731c71",
   "metadata": {},
   "source": [
    "Things to notice here: \n",
    "\n",
    "1.99999 doesn't round, even if you did ```int(1.9999999)``` you would get 1.\n",
    "\n",
    "```round(1.9999999)``` or  ```int(1.9999999999999999)``` would give you 2\n",
    "\n",
    "Strings aren't integers\n",
    "\n",
    "Even though 20 and 5 are integers and they divide to give 4, the result is a float, not an int. \n",
    "Floor division (```20 // 5```) will return an integer.\n",
    "\n",
    "'10.' is a float not an integer\n",
    "\n",
    "Can do this in one line using comprehension or could make an empty list and append to it."
   ]
  },
  {
   "cell_type": "code",
   "execution_count": 4,
   "id": "cc091bbb",
   "metadata": {},
   "outputs": [
    {
     "data": {
      "text/plain": [
       "[6, 12]"
      ]
     },
     "execution_count": 4,
     "metadata": {},
     "output_type": "execute_result"
    }
   ],
   "source": [
    "def example_funct(*args):\n",
    "    op = [a for a in args if type(a)== int and a%2 == 0]\n",
    "    return op\n",
    "\n",
    "example_funct(1, 1.99999999999, \"three\", 20/5, 5, 6, \"sju\", \"8\", 9, 10., 11, 12)"
   ]
  },
  {
   "cell_type": "markdown",
   "id": "66d9182e",
   "metadata": {},
   "source": [
    "**Answer 2d**\n",
    "\n",
    "After `import`ing the libraries you can use ```dir(X)``` to list the attributes of each module\n",
    "\n",
    "There will be some depreciation warnings from `scipy` instructing users to use `numpy` or `numpy.lib` (which can also be investigated via ```dir(numpy.lib)```\n",
    "\n",
    "`pi`: Use `numpy.pi`, `scipy.pi`, `math.pi`. `statistics` has `tau` but not `pi`.\n",
    "\n",
    "`log`: Use `numpy.log10`, `scipy.log10`, `math.log10`. `statistics` has `log` but not `log10`: `log(n)/log(10)` can be used instead.\n",
    "\n",
    "For log(+ive) we use +12.01 as an example while for log(-ive) we use -11.99 as an example.\n",
    "\n",
    "| Module     | pi         | log(+ive)  | log(-ive)                | mean |\n",
    "|:-----------|:----------:|:----------:|:------------------------:|:----:|\n",
    "| numpy      | 3.14159... | 1.07954... | nan                      | 5.0  |\n",
    "| scipy      | 3.14159... | 1.07954... | (1.07881...+1.36437...j) | 5.0  |\n",
    "| math       | 3.14159... | 1.07954... | math domain error        | n/a  |\n",
    "| statistics | n/a        | 1.07954... | math domain error        | 5    |\n",
    "\n",
    "All libraries return the same value of pi.\n",
    "All libraries return the same value of log(+ive).\n",
    "scipy returns a complex number for the negative log example while all others produce an error.\n",
    "\n",
    "`statistics` returns the mean as an integer whereas `numpy` and `scipy` return a float.\n"
   ]
  },
  {
   "cell_type": "markdown",
   "id": "da8cb5d2",
   "metadata": {},
   "source": [
    "**Answer 2e**\n",
    "\n",
    "Broad range of options, this is simply one of the possibilities given in the original notebook with the inclusion of some typehinting and descriptions of methods/classes"
   ]
  },
  {
   "cell_type": "markdown",
   "id": "58b4cf74",
   "metadata": {},
   "source": [
    "Note. For more information on type annotations, look into [Module 7.2](https://alan-turing-institute.github.io/rse-course/html/module07_construction_and_design/07_02_coding_conventions.html#type-annotations)"
   ]
  },
  {
   "cell_type": "code",
   "execution_count": 5,
   "id": "2ac34015",
   "metadata": {},
   "outputs": [],
   "source": [
    "import typing\n",
    "class Maze:\n",
    "    \"\"\"\n",
    "    Here we can put a description of the class\n",
    "    \"\"\"\n",
    "    def __init__(self, name: str): \n",
    "        # We can also use typehints to signal what type a variable should be\n",
    "        # In this case the name of the maze would be a string.\n",
    "        self.name = name\n",
    "        self.rooms = {}\n",
    "\n",
    "    def add_room(self, room):\n",
    "        room.maze = self  # The Room needs to know which Maze it is a part of\n",
    "        self.rooms[room.name] = room # This means that we expect our Rooms class to have a 'name' property\n",
    "\n",
    "    def occupants(self):\n",
    "        \"\"\"\n",
    "        Return a list containing the occupants of the maze\n",
    "        \"\"\"\n",
    "        return [occupant for room in self.rooms.values() for occupant in room.occupants.values()]\n",
    "        \n",
    "    \n",
    "    def wander(self):\n",
    "        \"\"\"Move all the people in a random direction\"\"\"\n",
    "        for occupant in self.occupants():\n",
    "            occupant.wander()\n",
    "    \n",
    "    def describe(self):\n",
    "        for room in self.rooms.values():\n",
    "            room.describe()\n",
    "    \n",
    "    def step(self):\n",
    "        self.describe()\n",
    "        print(\"\")\n",
    "        self.wander()\n",
    "        print(\"\")\n",
    "\n",
    "    def simulate(self, steps):\n",
    "        for _ in range(steps):\n",
    "            self.step()\n",
    "            \n",
    "\n",
    "            \n",
    "class Room:\n",
    "    def __init__(self, name: str, exits: dict, capacity: int, maze=None):\n",
    "        self.maze = maze\n",
    "        self.name = name\n",
    "        self.occupants = {}  # Note the default argument, occupants start empty\n",
    "        self.exits = exits  # Should be a dictionary from directions to room names\n",
    "        self.capacity = capacity\n",
    "\n",
    "    def has_space(self) -> bool:\n",
    "        \"\"\"\n",
    "        Check if the room has space and return a boolean (True/False)\n",
    "        \"\"\"\n",
    "        return len(self.occupants) < self.capacity\n",
    "\n",
    "    def available_exits(self) -> typing.List[str]:\n",
    "        return [\n",
    "            exit\n",
    "            for exit, target in self.exits.items()\n",
    "            if self.maze.rooms[target].has_space()\n",
    "        ]\n",
    "\n",
    "    def random_valid_exit(self):\n",
    "        import random\n",
    "\n",
    "        if not self.available_exits():\n",
    "            return None\n",
    "        return random.choice(self.available_exits())\n",
    "\n",
    "    def destination(self, exit):\n",
    "        return self.maze.rooms[self.exits[exit]]\n",
    "\n",
    "    def add_occupant(self, occupant):\n",
    "        occupant.room = self  # The person needs to know which room it is in\n",
    "        self.occupants[occupant.name] = occupant\n",
    "\n",
    "    def delete_occupant(self, occupant):\n",
    "        del self.occupants[occupant.name]\n",
    "\n",
    "    def describe(self):\n",
    "        if self.occupants:\n",
    "            print(f\"{self.name}: \" + \" \".join(self.occupants.keys()))\n",
    "\n",
    "            \n",
    "class Person:\n",
    "    def __init__(self, name: str, room=None):\n",
    "        self.name = name\n",
    "\n",
    "    def use(self, exit):\n",
    "        self.room.delete_occupant(self)\n",
    "        destination = self.room.destination(exit)\n",
    "        destination.add_occupant(self)\n",
    "        print(\n",
    "            \"{some} goes {action} to the {where}\".format(\n",
    "                some=self.name, action=exit, where=destination.name\n",
    "            )\n",
    "        )\n",
    "\n",
    "    def wander(self):\n",
    "        exit = self.room.random_valid_exit()\n",
    "        if exit:\n",
    "            self.use(exit)"
   ]
  },
  {
   "cell_type": "code",
   "execution_count": 6,
   "id": "06e417a1",
   "metadata": {},
   "outputs": [],
   "source": [
    "james = Person(\"James\")\n",
    "sue = Person(\"Sue\")\n",
    "bob = Person(\"Bob\")\n",
    "clare = Person(\"Clare\")\n",
    "\n",
    "living = Room(\"livingroom\", {\"outside\": \"garden\", \"upstairs\": \"bedroom\", \"north\": \"kitchen\"}, 2)\n",
    "kitchen = Room(\"kitchen\", {\"south\": \"livingroom\"}, 1)\n",
    "garden = Room(\"garden\", {\"inside\": \"livingroom\"}, 3)\n",
    "bedroom = Room(\"bedroom\", {\"jump\": \"garden\", \"downstairs\": \"livingroom\"}, 1)\n",
    "\n",
    "house = Maze(\"My House\")\n",
    "\n",
    "for room in [living, kitchen, garden, bedroom]:\n",
    "    house.add_room(room)\n",
    "    \n",
    "living.add_occupant(james)\n",
    "garden.add_occupant(sue)\n",
    "garden.add_occupant(clare)\n",
    "bedroom.add_occupant(bob)\n"
   ]
  },
  {
   "cell_type": "code",
   "execution_count": 7,
   "id": "99efdf1e",
   "metadata": {},
   "outputs": [
    {
     "name": "stdout",
     "output_type": "stream",
     "text": [
      "livingroom: James\n",
      "garden: Sue Clare\n",
      "bedroom: Bob\n",
      "\n",
      "James goes outside to the garden\n",
      "Sue goes inside to the livingroom\n",
      "Clare goes inside to the livingroom\n",
      "Bob goes jump to the garden\n",
      "\n",
      "livingroom: Sue Clare\n",
      "garden: James Bob\n",
      "\n",
      "Sue goes outside to the garden\n",
      "Clare goes north to the kitchen\n",
      "James goes inside to the livingroom\n",
      "Bob goes inside to the livingroom\n",
      "\n",
      "livingroom: James Bob\n",
      "kitchen: Clare\n",
      "garden: Sue\n",
      "\n",
      "James goes upstairs to the bedroom\n",
      "Bob goes outside to the garden\n",
      "Clare goes south to the livingroom\n",
      "Sue goes inside to the livingroom\n",
      "\n"
     ]
    }
   ],
   "source": [
    "house.simulate(3)"
   ]
  },
  {
   "cell_type": "markdown",
   "id": "567bd434",
   "metadata": {},
   "source": [
    "**Answer 2f**\n",
    "\n",
    "Something along the lines of this for the original question:"
   ]
  },
  {
   "cell_type": "code",
   "execution_count": 8,
   "id": "8a5d4dc6",
   "metadata": {},
   "outputs": [],
   "source": [
    "import requests\n",
    "from IPython.display import Image"
   ]
  },
  {
   "cell_type": "code",
   "execution_count": 9,
   "id": "e6fe24b9",
   "metadata": {},
   "outputs": [
    {
     "data": {
      "image/jpeg": "[encoded data removed]",
      "text/plain": [
       "<IPython.core.display.Image object>"
      ]
     },
     "execution_count": 9,
     "metadata": {
      "filenames": {
       "image/jpeg": "/home/runner/work/rse-course/rse-course/_build/jupyter_execute/solutions/module_02_18_0.jpg"
      }
     },
     "output_type": "execute_result"
    }
   ],
   "source": [
    "coordinates_as_lat_lon = [(36.2110,-115.2669),\n",
    "                          (53.0066, 7.1920),\n",
    "                          (41.3908, 2.1631),\n",
    "                          (40.7822, -73.9653),\n",
    "                          (25.8380, 50.6050)]\n",
    "\n",
    "def op_response(lat, lon):\n",
    "    response = requests.get(\n",
    "    \"https://static-maps.yandex.ru:443/1.x\",\n",
    "        params={\n",
    "            \"size\": \"400,400\",  # size of map\n",
    "            \"ll\": str(lon) + \",\" + str(lat),  # longitude & latitude of centre\n",
    "            \"z\": 12,  # zoom level\n",
    "            \"l\": \"sat\",  # map layer (satellite image)\n",
    "            \"lang\": \"en_US\",  # language\n",
    "            },\n",
    "        )\n",
    "    return response.content\n",
    "\n",
    "    \n",
    "op = op_response(*coordinates_as_lat_lon[4])\n",
    "\n",
    "Image(op)"
   ]
  },
  {
   "cell_type": "markdown",
   "id": "78c9e563",
   "metadata": {},
   "source": [
    "**Answer 2e**"
   ]
  },
  {
   "cell_type": "code",
   "execution_count": 10,
   "id": "bfac524b",
   "metadata": {},
   "outputs": [
    {
     "data": {
      "image/png": "[encoded data removed]",
      "text/plain": [
       "<IPython.core.display.Image object>"
      ]
     },
     "execution_count": 10,
     "metadata": {
      "filenames": {
       "image/png": "/home/runner/work/rse-course/rse-course/_build/jupyter_execute/solutions/module_02_20_0.png"
      }
     },
     "output_type": "execute_result"
    }
   ],
   "source": [
    "def extended_op_response(lat, lon, zoom=15, opfname=\"tmp.png\"):\n",
    "\n",
    "    response = requests.get(\n",
    "    \"https://static-maps.yandex.ru:443/1.x\",\n",
    "        params={\n",
    "            \"size\": \"400,400\",  # size of map\n",
    "            \"ll\": str(lon) + \",\" + str(lat),  # longitude & latitude of centre\n",
    "            \"z\": zoom,  # zoom level\n",
    "            \"l\": \"sat\",  # map layer (satellite image)\n",
    "            \"lang\": \"en_US\",  # language\n",
    "            },\n",
    "        )\n",
    "        \n",
    "    with open(opfname, \"wb\") as png:\n",
    "        png.write(response.content)\n",
    "\n",
    "\n",
    "extended_op_response(*coordinates_as_lat_lon[1], zoom=16, opfname=\"map_picture_1.png\")\n",
    "\n",
    "Image(\"map_picture_1.png\")"
   ]
  }
 ],
 "metadata": {
  "kernelspec": {
   "display_name": "Python 3",
   "language": "python",
   "name": "python3"
  },
  "language_info": {
   "codemirror_mode": {
    "name": "ipython",
    "version": 3
   },
   "file_extension": ".py",
   "mimetype": "text/x-python",
   "name": "python",
   "nbconvert_exporter": "python",
   "pygments_lexer": "ipython3",
   "version": "3.8.16"
  }
 },
 "nbformat": 4,
 "nbformat_minor": 5
}