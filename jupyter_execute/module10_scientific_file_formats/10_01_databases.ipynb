{
 "cells": [
  {
   "cell_type": "markdown",
   "metadata": {},
   "source": [
    "# 10.1 Using databases"
   ]
  },
  {
   "cell_type": "markdown",
   "metadata": {},
   "source": [
    "*Estimated time for this notebook: 20 minutes*"
   ]
  },
  {
   "cell_type": "markdown",
   "metadata": {},
   "source": [
    "The **principles** of database normalisation and the relational model will be helpful when thinking about any kind of data representation.\n",
    "This is true for dataframes in Pandas, tensors in tensorflow, or anything else.\n",
    "\n",
    "However, proper databases use more sophisticated representations than just csv files including:\n",
    "- **indices** to enable hash-table like efficient lookups\n",
    "- support for managing multiple users at the same time."
   ]
  },
  {
   "cell_type": "markdown",
   "metadata": {},
   "source": [
    "## Making a database - SQLite"
   ]
  },
  {
   "cell_type": "markdown",
   "metadata": {},
   "source": [
    "Let's look at how we would use a simple database in Python to represent atoms and molecules.\n",
    "If you've never seen SQL before, you might want to attend an introductory course, such as one of the 'Software Carpentry' sessions.\n",
    "Here we're going to assume some existing knowledge but we will use a Python-style way to interact with databases instead of relying on raw SQL."
   ]
  },
  {
   "cell_type": "code",
   "execution_count": 1,
   "metadata": {},
   "outputs": [
    {
     "name": "stdout",
     "output_type": "stream",
     "text": [
      "Removing database to start again from scratch\n"
     ]
    }
   ],
   "source": [
    "import os\n",
    "\n",
    "try:\n",
    "    os.remove(\"molecules.db\")\n",
    "    print(\"Removing database to start again from scratch\")\n",
    "except FileNotFoundError:\n",
    "    print(\"No DB since this notebook was last run\")"
   ]
  },
  {
   "cell_type": "code",
   "execution_count": 2,
   "metadata": {},
   "outputs": [],
   "source": [
    "import sqlalchemy\n",
    "\n",
    "engine = sqlalchemy.create_engine(\"sqlite:///molecules.db\", echo=True)"
   ]
  },
  {
   "cell_type": "markdown",
   "metadata": {},
   "source": [
    "SQLite is a simple very-lightweight database tool - without support for concurrent users - but it's great for little hacks like this. For full-on database work you'll probably want to use a more fully-featured database like https://www.postgresql.org."
   ]
  },
  {
   "cell_type": "markdown",
   "metadata": {},
   "source": [
    "The metadata for the database describing the tables present, and their columns, is defined in Python using SQLAlchemy, the leading python database tool, thus:"
   ]
  },
  {
   "cell_type": "code",
   "execution_count": 3,
   "metadata": {},
   "outputs": [],
   "source": [
    "from sqlalchemy import Column, Float, Integer, MetaData, String, Table\n",
    "\n",
    "metadata = MetaData()\n",
    "molecules = Table(\n",
    "    \"molecules\",\n",
    "    metadata,\n",
    "    Column(\"name\", String, primary_key=True),\n",
    "    Column(\"mass\", Float),\n",
    ")\n",
    "\n",
    "atoms = Table(\n",
    "    \"atoms\",\n",
    "    metadata,\n",
    "    Column(\"symbol\", String, primary_key=True),\n",
    "    Column(\"number\", Integer),\n",
    ")"
   ]
  },
  {
   "cell_type": "code",
   "execution_count": 4,
   "metadata": {},
   "outputs": [],
   "source": [
    "from sqlalchemy import ForeignKey, Integer\n",
    "\n",
    "atoms_in_molecules = Table(\n",
    "    \"atoms_molecules\",\n",
    "    metadata,\n",
    "    Column(\"atom\", ForeignKey(\"atoms.symbol\")),\n",
    "    Column(\"molecule\", ForeignKey(\"molecules.name\")),\n",
    "    Column(\"number\", Integer),\n",
    ")"
   ]
  },
  {
   "cell_type": "code",
   "execution_count": 5,
   "metadata": {},
   "outputs": [
    {
     "name": "stdout",
     "output_type": "stream",
     "text": [
      "2023-01-11 14:23:38,474 INFO sqlalchemy.engine.Engine BEGIN (implicit)\n"
     ]
    },
    {
     "name": "stdout",
     "output_type": "stream",
     "text": [
      "2023-01-11 14:23:38,474 INFO sqlalchemy.engine.Engine PRAGMA main.table_info(\"molecules\")\n"
     ]
    },
    {
     "name": "stdout",
     "output_type": "stream",
     "text": [
      "2023-01-11 14:23:38,477 INFO sqlalchemy.engine.Engine [raw sql] ()\n"
     ]
    },
    {
     "name": "stdout",
     "output_type": "stream",
     "text": [
      "2023-01-11 14:23:38,478 INFO sqlalchemy.engine.Engine PRAGMA temp.table_info(\"molecules\")\n"
     ]
    },
    {
     "name": "stdout",
     "output_type": "stream",
     "text": [
      "2023-01-11 14:23:38,479 INFO sqlalchemy.engine.Engine [raw sql] ()\n"
     ]
    },
    {
     "name": "stdout",
     "output_type": "stream",
     "text": [
      "2023-01-11 14:23:38,480 INFO sqlalchemy.engine.Engine PRAGMA main.table_info(\"atoms\")\n"
     ]
    },
    {
     "name": "stdout",
     "output_type": "stream",
     "text": [
      "2023-01-11 14:23:38,480 INFO sqlalchemy.engine.Engine [raw sql] ()\n"
     ]
    },
    {
     "name": "stdout",
     "output_type": "stream",
     "text": [
      "2023-01-11 14:23:38,481 INFO sqlalchemy.engine.Engine PRAGMA temp.table_info(\"atoms\")\n"
     ]
    },
    {
     "name": "stdout",
     "output_type": "stream",
     "text": [
      "2023-01-11 14:23:38,481 INFO sqlalchemy.engine.Engine [raw sql] ()\n"
     ]
    },
    {
     "name": "stdout",
     "output_type": "stream",
     "text": [
      "2023-01-11 14:23:38,482 INFO sqlalchemy.engine.Engine PRAGMA main.table_info(\"atoms_molecules\")\n"
     ]
    },
    {
     "name": "stdout",
     "output_type": "stream",
     "text": [
      "2023-01-11 14:23:38,482 INFO sqlalchemy.engine.Engine [raw sql] ()\n"
     ]
    },
    {
     "name": "stdout",
     "output_type": "stream",
     "text": [
      "2023-01-11 14:23:38,483 INFO sqlalchemy.engine.Engine PRAGMA temp.table_info(\"atoms_molecules\")\n"
     ]
    },
    {
     "name": "stdout",
     "output_type": "stream",
     "text": [
      "2023-01-11 14:23:38,483 INFO sqlalchemy.engine.Engine [raw sql] ()\n"
     ]
    },
    {
     "name": "stdout",
     "output_type": "stream",
     "text": [
      "2023-01-11 14:23:38,484 INFO sqlalchemy.engine.Engine \n",
      "CREATE TABLE molecules (\n",
      "\tname VARCHAR NOT NULL, \n",
      "\tmass FLOAT, \n",
      "\tPRIMARY KEY (name)\n",
      ")\n",
      "\n",
      "\n"
     ]
    },
    {
     "name": "stdout",
     "output_type": "stream",
     "text": [
      "2023-01-11 14:23:38,485 INFO sqlalchemy.engine.Engine [no key 0.00057s] ()\n"
     ]
    },
    {
     "name": "stdout",
     "output_type": "stream",
     "text": [
      "2023-01-11 14:23:38,487 INFO sqlalchemy.engine.Engine \n",
      "CREATE TABLE atoms (\n",
      "\tsymbol VARCHAR NOT NULL, \n",
      "\tnumber INTEGER, \n",
      "\tPRIMARY KEY (symbol)\n",
      ")\n",
      "\n",
      "\n"
     ]
    },
    {
     "name": "stdout",
     "output_type": "stream",
     "text": [
      "2023-01-11 14:23:38,487 INFO sqlalchemy.engine.Engine [no key 0.00054s] ()\n"
     ]
    },
    {
     "name": "stdout",
     "output_type": "stream",
     "text": [
      "2023-01-11 14:23:38,490 INFO sqlalchemy.engine.Engine \n",
      "CREATE TABLE atoms_molecules (\n",
      "\tatom VARCHAR, \n",
      "\tmolecule VARCHAR, \n",
      "\tnumber INTEGER, \n",
      "\tFOREIGN KEY(atom) REFERENCES atoms (symbol), \n",
      "\tFOREIGN KEY(molecule) REFERENCES molecules (name)\n",
      ")\n",
      "\n",
      "\n"
     ]
    },
    {
     "name": "stdout",
     "output_type": "stream",
     "text": [
      "2023-01-11 14:23:38,490 INFO sqlalchemy.engine.Engine [no key 0.00050s] ()\n"
     ]
    },
    {
     "name": "stdout",
     "output_type": "stream",
     "text": [
      "2023-01-11 14:23:38,494 INFO sqlalchemy.engine.Engine COMMIT\n"
     ]
    },
    {
     "name": "stdout",
     "output_type": "stream",
     "text": [
      "MetaData()\n"
     ]
    }
   ],
   "source": [
    "metadata.create_all(engine)\n",
    "print(metadata)"
   ]
  },
  {
   "cell_type": "markdown",
   "metadata": {},
   "source": [
    "Note the SQL syntax for creating tables is generated by the python tool, and sent to the database server."
   ]
  },
  {
   "cell_type": "markdown",
   "metadata": {},
   "source": [
    "```\n",
    "CREATE TABLE molecules (\n",
    "\tname VARCHAR NOT NULL, \n",
    "\tmass FLOAT, \n",
    "\tPRIMARY KEY (name)\n",
    ")\n",
    "```"
   ]
  },
  {
   "cell_type": "markdown",
   "metadata": {},
   "source": [
    "We'll turn off our automatic printing of all the raw sql to avoid this notebook being unreadable."
   ]
  },
  {
   "cell_type": "code",
   "execution_count": 6,
   "metadata": {},
   "outputs": [],
   "source": [
    "engine.echo = False"
   ]
  },
  {
   "cell_type": "markdown",
   "metadata": {},
   "source": [
    "We can also write data to our database using this python tooling:"
   ]
  },
  {
   "cell_type": "code",
   "execution_count": 7,
   "metadata": {},
   "outputs": [],
   "source": [
    "ins = molecules.insert().values(name=\"water\", mass=\"18.01\")"
   ]
  },
  {
   "cell_type": "code",
   "execution_count": 8,
   "metadata": {},
   "outputs": [
    {
     "name": "stderr",
     "output_type": "stream",
     "text": [
      "/tmp/ipykernel_17208/3952573975.py:2: RemovedIn20Warning: Deprecated API features detected! These feature(s) are not compatible with SQLAlchemy 2.0. To prevent incompatible upgrades prior to updating applications, ensure requirements files are pinned to \"sqlalchemy<2.0\". Set environment variable SQLALCHEMY_WARN_20=1 to show all deprecation warnings.  Set environment variable SQLALCHEMY_SILENCE_UBER_WARNING=1 to silence this message. (Background on SQLAlchemy 2.0 at: https://sqlalche.me/e/b8d9)\n",
      "  conn.execute(ins)\n"
     ]
    },
    {
     "data": {
      "text/plain": [
       "<sqlalchemy.engine.cursor.LegacyCursorResult at 0x7f1c908739a0>"
      ]
     },
     "execution_count": 8,
     "metadata": {},
     "output_type": "execute_result"
    }
   ],
   "source": [
    "conn = engine.connect()\n",
    "conn.execute(ins)"
   ]
  },
  {
   "cell_type": "markdown",
   "metadata": {},
   "source": [
    "And query it:"
   ]
  },
  {
   "cell_type": "code",
   "execution_count": 9,
   "metadata": {},
   "outputs": [
    {
     "name": "stdout",
     "output_type": "stream",
     "text": [
      "18.01\n"
     ]
    }
   ],
   "source": [
    "from sqlalchemy.sql import select\n",
    "\n",
    "s = select([molecules])\n",
    "result = conn.execute(s)\n",
    "print(result.fetchone()[\"mass\"])"
   ]
  },
  {
   "cell_type": "markdown",
   "metadata": {},
   "source": [
    "If we have enough understanding of SQL syntax, we can use appropriate **join** statements to find, for example, the mass of all molecules which contain oxygen:"
   ]
  },
  {
   "cell_type": "code",
   "execution_count": 10,
   "metadata": {},
   "outputs": [
    {
     "data": {
      "text/plain": [
       "<sqlalchemy.engine.cursor.LegacyCursorResult at 0x7f1c966e4d60>"
      ]
     },
     "execution_count": 10,
     "metadata": {},
     "output_type": "execute_result"
    }
   ],
   "source": [
    "conn.execute(molecules.insert().values(name=\"oxygen\", mass=\"32.00\"))\n",
    "conn.execute(atoms.insert().values(symbol=\"O\", number=8))\n",
    "conn.execute(atoms.insert().values(symbol=\"H\", number=1))\n",
    "conn.execute(atoms_in_molecules.insert().values(molecule=\"water\", atom=\"O\", number=1))\n",
    "conn.execute(atoms_in_molecules.insert().values(molecule=\"oxygen\", atom=\"O\", number=1))\n",
    "conn.execute(atoms_in_molecules.insert().values(molecule=\"water\", atom=\"H\", number=2))"
   ]
  },
  {
   "cell_type": "code",
   "execution_count": 11,
   "metadata": {},
   "outputs": [
    {
     "name": "stdout",
     "output_type": "stream",
     "text": [
      "[(18.01,)]\n"
     ]
    }
   ],
   "source": [
    "result = conn.execute(\n",
    "    \"\"\"\n",
    "    SELECT mass\n",
    "    FROM   molecules\n",
    "          JOIN atoms_molecules\n",
    "            ON molecules.NAME = atoms_molecules.molecule\n",
    "          JOIN atoms\n",
    "            ON atoms.symbol = atoms_molecules.atom\n",
    "    WHERE  atoms.symbol = 'H'\n",
    "    \"\"\"\n",
    ")\n",
    "print(result.fetchall())"
   ]
  },
  {
   "cell_type": "markdown",
   "metadata": {},
   "source": [
    "But we can do much better..."
   ]
  },
  {
   "cell_type": "markdown",
   "metadata": {},
   "source": [
    "## Data and Objects - the Object-Relational-Mapping"
   ]
  },
  {
   "cell_type": "markdown",
   "metadata": {},
   "source": [
    "We notice that when we find a correct relational model for our data, many of the rows are suggestive of exactly the data\n",
    "we would expect to supply to an object constructor - data about an object. References to keys of other tables in rows suggest composition\n",
    "relations while many-to-many join tables often represent aggregation relationships, and data about the relationship."
   ]
  },
  {
   "cell_type": "markdown",
   "metadata": {},
   "source": [
    "As a result of this, powerful tools exist to **automatically** create object structures from database schema, including saving and loading."
   ]
  },
  {
   "cell_type": "code",
   "execution_count": 12,
   "metadata": {},
   "outputs": [
    {
     "name": "stdout",
     "output_type": "stream",
     "text": [
      "Removing database to start again from scratch\n"
     ]
    }
   ],
   "source": [
    "import os\n",
    "\n",
    "try:\n",
    "    os.remove(\"molecules.db\")\n",
    "    print(\"Removing database to start again from scratch\")\n",
    "except FileNotFoundError:\n",
    "    print(\"No DB since this notebook was last run\")"
   ]
  },
  {
   "cell_type": "code",
   "execution_count": 13,
   "metadata": {},
   "outputs": [],
   "source": [
    "import sqlalchemy\n",
    "\n",
    "engine = sqlalchemy.create_engine(\"sqlite:///molecules.db\")"
   ]
  },
  {
   "cell_type": "code",
   "execution_count": 14,
   "metadata": {},
   "outputs": [],
   "source": [
    "from sqlalchemy import Column, Integer, String\n",
    "from sqlalchemy.ext.declarative import declarative_base\n",
    "from sqlalchemy.orm import relationship\n",
    "\n",
    "Base = declarative_base()\n",
    "\n",
    "\n",
    "class Element(Base):\n",
    "    __tablename__ = \"atoms\"\n",
    "    symbol = Column(String, primary_key=True)\n",
    "    number = Column(Integer)\n",
    "    molecules = relationship(\"AtomsPerMolecule\", backref=\"atom\")"
   ]
  },
  {
   "cell_type": "code",
   "execution_count": 15,
   "metadata": {},
   "outputs": [],
   "source": [
    "class Molecule(Base):\n",
    "    __tablename__ = \"molecules\"\n",
    "    name = Column(String, primary_key=True)\n",
    "    mass = Column(Float)\n",
    "    atoms = relationship(\"AtomsPerMolecule\", backref=\"molecule\")"
   ]
  },
  {
   "cell_type": "code",
   "execution_count": 16,
   "metadata": {},
   "outputs": [],
   "source": [
    "class AtomsPerMolecule(Base):\n",
    "    __tablename__ = \"atoms_per_molecule\"\n",
    "    id = Column(Integer, primary_key=True)\n",
    "    atom_id = Column(None, ForeignKey(\"atoms.symbol\"))\n",
    "    molecule_id = Column(None, ForeignKey(\"molecules.name\"))\n",
    "    number = Column(Integer)"
   ]
  },
  {
   "cell_type": "markdown",
   "metadata": {},
   "source": [
    "If we now create our tables, the system will automatically create a DB:"
   ]
  },
  {
   "cell_type": "code",
   "execution_count": 17,
   "metadata": {},
   "outputs": [],
   "source": [
    "Base.metadata.create_all(engine)"
   ]
  },
  {
   "cell_type": "code",
   "execution_count": 18,
   "metadata": {},
   "outputs": [],
   "source": [
    "engine.echo = False"
   ]
  },
  {
   "cell_type": "markdown",
   "metadata": {},
   "source": [
    "And we can create objects with a simple interface that looks just like ordinary classes:"
   ]
  },
  {
   "cell_type": "code",
   "execution_count": 19,
   "metadata": {},
   "outputs": [],
   "source": [
    "oxygen = Element(symbol=\"O\", number=8)\n",
    "hydrogen = Element(symbol=\"H\", number=1)\n",
    "elements = [oxygen, hydrogen]"
   ]
  },
  {
   "cell_type": "code",
   "execution_count": 20,
   "metadata": {},
   "outputs": [],
   "source": [
    "water = Molecule(name=\"water\", mass=18.01)\n",
    "oxygen_m = Molecule(name=\"oxygen\", mass=16.00)\n",
    "hydrogen_m = Molecule(name=\"hydrogen\", mass=2.02)\n",
    "molecules = [water, oxygen_m, hydrogen_m]"
   ]
  },
  {
   "cell_type": "code",
   "execution_count": 21,
   "metadata": {},
   "outputs": [],
   "source": [
    "# Note that we are using the `backref` name to construct the `atom_id` and `molecule_id`.\n",
    "# These lookup instances of Element and Molecule that are already in our database\n",
    "amounts = [\n",
    "    AtomsPerMolecule(atom=oxygen, molecule=water, number=1),\n",
    "    AtomsPerMolecule(atom=hydrogen, molecule=water, number=2),\n",
    "    AtomsPerMolecule(atom=oxygen, molecule=oxygen_m, number=2),\n",
    "    AtomsPerMolecule(atom=hydrogen, molecule=hydrogen_m, number=2),\n",
    "]"
   ]
  },
  {
   "cell_type": "code",
   "execution_count": 22,
   "metadata": {},
   "outputs": [],
   "source": [
    "from sqlalchemy.orm import sessionmaker\n",
    "\n",
    "Session = sessionmaker(bind=engine)\n",
    "session = Session()"
   ]
  },
  {
   "cell_type": "code",
   "execution_count": 23,
   "metadata": {},
   "outputs": [],
   "source": [
    "session.bulk_save_objects(elements + molecules + amounts)"
   ]
  },
  {
   "cell_type": "code",
   "execution_count": 24,
   "metadata": {},
   "outputs": [
    {
     "data": {
      "text/plain": [
       "'water'"
      ]
     },
     "execution_count": 24,
     "metadata": {},
     "output_type": "execute_result"
    }
   ],
   "source": [
    "oxygen.molecules[0].molecule.name"
   ]
  },
  {
   "cell_type": "code",
   "execution_count": 25,
   "metadata": {},
   "outputs": [
    {
     "data": {
      "text/plain": [
       "'water'"
      ]
     },
     "execution_count": 25,
     "metadata": {},
     "output_type": "execute_result"
    }
   ],
   "source": [
    "session.query(Molecule).all()[0].name"
   ]
  },
  {
   "cell_type": "code",
   "execution_count": 26,
   "metadata": {},
   "outputs": [],
   "source": [
    "session.commit()"
   ]
  },
  {
   "cell_type": "markdown",
   "metadata": {},
   "source": [
    "This is a very powerful technique - we get our class-type interface in python, with database persistence and searchability for free!"
   ]
  },
  {
   "cell_type": "markdown",
   "metadata": {},
   "source": [
    "## Moving on from databases"
   ]
  },
  {
   "cell_type": "markdown",
   "metadata": {},
   "source": [
    "Databases are often a good choice for storing data, but can only be interacted with programmatically. Often, we want to make a file format to represent our dataset which can be easily replicated or shared. The next part of this module focuses on the design of such file-formats, both binary and **human-readable**."
   ]
  },
  {
   "cell_type": "markdown",
   "metadata": {},
   "source": [
    "One choice, now we know about it, is to serialise all the database tables as CSV:"
   ]
  },
  {
   "cell_type": "code",
   "execution_count": 27,
   "metadata": {},
   "outputs": [],
   "source": [
    "import pandas"
   ]
  },
  {
   "cell_type": "code",
   "execution_count": 28,
   "metadata": {},
   "outputs": [
    {
     "data": {
      "text/plain": [
       "'SELECT molecules.name, molecules.mass \\nFROM molecules'"
      ]
     },
     "execution_count": 28,
     "metadata": {},
     "output_type": "execute_result"
    }
   ],
   "source": [
    "str(session.query(Molecule).statement)"
   ]
  },
  {
   "cell_type": "code",
   "execution_count": 29,
   "metadata": {},
   "outputs": [],
   "source": [
    "dataframe = pandas.read_sql(session.query(Molecule).statement, session.bind)"
   ]
  },
  {
   "cell_type": "code",
   "execution_count": 30,
   "metadata": {},
   "outputs": [
    {
     "data": {
      "text/html": [
       "<div>\n",
       "<style scoped>\n",
       "    .dataframe tbody tr th:only-of-type {\n",
       "        vertical-align: middle;\n",
       "    }\n",
       "\n",
       "    .dataframe tbody tr th {\n",
       "        vertical-align: top;\n",
       "    }\n",
       "\n",
       "    .dataframe thead th {\n",
       "        text-align: right;\n",
       "    }\n",
       "</style>\n",
       "<table border=\"1\" class=\"dataframe\">\n",
       "  <thead>\n",
       "    <tr style=\"text-align: right;\">\n",
       "      <th></th>\n",
       "      <th>name</th>\n",
       "      <th>mass</th>\n",
       "    </tr>\n",
       "  </thead>\n",
       "  <tbody>\n",
       "    <tr>\n",
       "      <th>0</th>\n",
       "      <td>water</td>\n",
       "      <td>18.01</td>\n",
       "    </tr>\n",
       "    <tr>\n",
       "      <th>1</th>\n",
       "      <td>oxygen</td>\n",
       "      <td>16.00</td>\n",
       "    </tr>\n",
       "    <tr>\n",
       "      <th>2</th>\n",
       "      <td>hydrogen</td>\n",
       "      <td>2.02</td>\n",
       "    </tr>\n",
       "  </tbody>\n",
       "</table>\n",
       "</div>"
      ],
      "text/plain": [
       "       name   mass\n",
       "0     water  18.01\n",
       "1    oxygen  16.00\n",
       "2  hydrogen   2.02"
      ]
     },
     "execution_count": 30,
     "metadata": {},
     "output_type": "execute_result"
    }
   ],
   "source": [
    "dataframe"
   ]
  },
  {
   "cell_type": "code",
   "execution_count": 31,
   "metadata": {},
   "outputs": [
    {
     "name": "stdout",
     "output_type": "stream",
     "text": [
      ",name,mass\n",
      "0,water,18.01\n",
      "1,oxygen,16.0\n",
      "2,hydrogen,2.02\n",
      "\n"
     ]
    }
   ],
   "source": [
    "print(dataframe.to_csv())"
   ]
  },
  {
   "cell_type": "markdown",
   "metadata": {},
   "source": [
    "Deserialising is also easy:"
   ]
  },
  {
   "cell_type": "code",
   "execution_count": 32,
   "metadata": {},
   "outputs": [
    {
     "name": "stdout",
     "output_type": "stream",
     "text": [
      "Overwriting atoms.csv\n"
     ]
    }
   ],
   "source": [
    "%%writefile atoms.csv\n",
    "\n",
    "symbol,number\n",
    "C,6\n",
    "N,7"
   ]
  },
  {
   "cell_type": "code",
   "execution_count": 33,
   "metadata": {},
   "outputs": [
    {
     "data": {
      "text/html": [
       "<div>\n",
       "<style scoped>\n",
       "    .dataframe tbody tr th:only-of-type {\n",
       "        vertical-align: middle;\n",
       "    }\n",
       "\n",
       "    .dataframe tbody tr th {\n",
       "        vertical-align: top;\n",
       "    }\n",
       "\n",
       "    .dataframe thead th {\n",
       "        text-align: right;\n",
       "    }\n",
       "</style>\n",
       "<table border=\"1\" class=\"dataframe\">\n",
       "  <thead>\n",
       "    <tr style=\"text-align: right;\">\n",
       "      <th></th>\n",
       "      <th>symbol</th>\n",
       "      <th>number</th>\n",
       "    </tr>\n",
       "  </thead>\n",
       "  <tbody>\n",
       "    <tr>\n",
       "      <th>0</th>\n",
       "      <td>C</td>\n",
       "      <td>6</td>\n",
       "    </tr>\n",
       "    <tr>\n",
       "      <th>1</th>\n",
       "      <td>N</td>\n",
       "      <td>7</td>\n",
       "    </tr>\n",
       "  </tbody>\n",
       "</table>\n",
       "</div>"
      ],
      "text/plain": [
       "  symbol  number\n",
       "0      C       6\n",
       "1      N       7"
      ]
     },
     "execution_count": 33,
     "metadata": {},
     "output_type": "execute_result"
    }
   ],
   "source": [
    "with open(\"atoms.csv\", \"r\") as f_csv:\n",
    "    atoms = pandas.read_csv(f_csv)\n",
    "atoms"
   ]
  },
  {
   "cell_type": "code",
   "execution_count": 34,
   "metadata": {},
   "outputs": [
    {
     "data": {
      "text/plain": [
       "2"
      ]
     },
     "execution_count": 34,
     "metadata": {},
     "output_type": "execute_result"
    }
   ],
   "source": [
    "atoms.to_sql(\"atoms\", session.bind, if_exists=\"append\", index=False)"
   ]
  },
  {
   "cell_type": "code",
   "execution_count": 35,
   "metadata": {},
   "outputs": [
    {
     "data": {
      "text/plain": [
       "7"
      ]
     },
     "execution_count": 35,
     "metadata": {},
     "output_type": "execute_result"
    }
   ],
   "source": [
    "session.query(Element).all()[3].number"
   ]
  },
  {
   "cell_type": "markdown",
   "metadata": {},
   "source": [
    "We know from earlier that another common choice is to represent such complicated data structures is YAML. \n",
    "\n",
    "The implications of what we've just learned for serialising to and from such structured data is the topic of the next lecture."
   ]
  }
 ],
 "metadata": {
  "jekyll": {
   "display_name": "Databases"
  },
  "kernelspec": {
   "display_name": "Python 3 (ipykernel)",
   "language": "python",
   "name": "python3"
  },
  "language_info": {
   "codemirror_mode": {
    "name": "ipython",
    "version": 3
   },
   "file_extension": ".py",
   "mimetype": "text/x-python",
   "name": "python",
   "nbconvert_exporter": "python",
   "pygments_lexer": "ipython3",
   "version": "3.8.15"
  }
 },
 "nbformat": 4,
 "nbformat_minor": 1
}