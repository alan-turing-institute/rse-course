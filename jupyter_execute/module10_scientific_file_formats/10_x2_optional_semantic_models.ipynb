{
 "cells": [
  {
   "cell_type": "markdown",
   "metadata": {},
   "source": [
    "# 10.x.2 (OPTIONAL):  Semantic file formats"
   ]
  },
  {
   "cell_type": "markdown",
   "metadata": {},
   "source": [
    "*Estimated time for this notebook: 25 minutes*"
   ]
  },
  {
   "cell_type": "markdown",
   "metadata": {},
   "source": [
    "## The dream of a semantic web"
   ]
  },
  {
   "cell_type": "markdown",
   "metadata": {},
   "source": [
    "So how can we fulfill the dream of a file-format which is **self-documenting**:\n",
    "universally unambiguous and interpretable?"
   ]
  },
  {
   "cell_type": "markdown",
   "metadata": {},
   "source": [
    "(Of course, it might not be true, but we don't have capacity to discuss how to model reliability\n",
    "and contested testimony.)"
   ]
  },
  {
   "cell_type": "markdown",
   "metadata": {},
   "source": [
    "By using URIs to define a controlled vocabulary, we can be unambiguous.\n",
    "\n",
    "But the number of different concepts to be labelled is huge: so we need a **distributed** solution:\n",
    "a global structure of people defining ontologies, (with methods for resolving duplications and inconsistencies.)"
   ]
  },
  {
   "cell_type": "markdown",
   "metadata": {},
   "source": [
    "Humanity has a technology that can do this: the world wide web. We've seen how many different\n",
    "actors are defining ontologies."
   ]
  },
  {
   "cell_type": "markdown",
   "metadata": {},
   "source": [
    "We also need a shared semantic structure for our file formats. XML allows everyone to define their\n",
    "own schema. Our universal file format requires a restriction to a basic language, which allows us\n",
    "to say the things we need:"
   ]
  },
  {
   "cell_type": "markdown",
   "metadata": {},
   "source": [
    "## The Triple"
   ]
  },
  {
   "cell_type": "markdown",
   "metadata": {},
   "source": [
    "We can then use these defined terms to specify facts, using a URI for the subject, verb, and object of our sentence."
   ]
  },
  {
   "cell_type": "code",
   "execution_count": 1,
   "metadata": {},
   "outputs": [
    {
     "name": "stdout",
     "output_type": "stream",
     "text": [
      "Writing reaction.ttl\n"
     ]
    }
   ],
   "source": [
    "%%writefile reaction.ttl \n",
    "\n",
    "<http://dbpedia.org/ontology/water>\n",
    "    <http://purl.obolibrary.org/obo/PATO_0001681>\n",
    "        \"18.01528\"^^<http://purl.obolibrary.org/obo/UO_0000088>\n",
    "            ."
   ]
  },
  {
   "cell_type": "markdown",
   "metadata": {},
   "source": [
    "* [Water](http://dbpedia.org/ontology/water)\n",
    "* [Molar mass](http://purl.obolibrary.org/obo/PATO_0001681)\n",
    "* [Grams per mole](http://purl.obolibrary.org/obo/UO_0000088)"
   ]
  },
  {
   "cell_type": "markdown",
   "metadata": {},
   "source": [
    "This is an unambiguous statement, consisting of a subject, a verb, and an object, each of which is either a URI or a literal value. Here, the object is a *literal* with a type."
   ]
  },
  {
   "cell_type": "markdown",
   "metadata": {},
   "source": [
    "## RDF file formats"
   ]
  },
  {
   "cell_type": "markdown",
   "metadata": {},
   "source": [
    "We have used the RDF (Resource Description Framework) **semantic** format, in its \"Turtle\" syntactic form:\n",
    "\n",
    "```\n",
    "subject verb object .\n",
    "subject2 verb2 object2 .\n",
    "```"
   ]
  },
  {
   "cell_type": "markdown",
   "metadata": {},
   "source": [
    "We can parse it:"
   ]
  },
  {
   "cell_type": "code",
   "execution_count": 2,
   "metadata": {},
   "outputs": [
    {
     "name": "stdout",
     "output_type": "stream",
     "text": [
      "1\n",
      "(rdflib.term.URIRef('http://dbpedia.org/ontology/water'), rdflib.term.URIRef('http://purl.obolibrary.org/obo/PATO_0001681'), rdflib.term.Literal('18.01528', datatype=rdflib.term.URIRef('http://purl.obolibrary.org/obo/UO_0000088')))\n"
     ]
    }
   ],
   "source": [
    "from rdflib import Graph\n",
    "\n",
    "graph = Graph()\n",
    "graph.parse(\"reaction.ttl\", format=\"ttl\")\n",
    "\n",
    "print(len(graph))\n",
    "\n",
    "for statement in graph:\n",
    "    print(statement)"
   ]
  },
  {
   "cell_type": "markdown",
   "metadata": {},
   "source": [
    "The equivalent in **RDF-XML** is:"
   ]
  },
  {
   "cell_type": "code",
   "execution_count": 3,
   "metadata": {},
   "outputs": [
    {
     "name": "stdout",
     "output_type": "stream",
     "text": [
      "<?xml version=\"1.0\" encoding=\"utf-8\"?>\n",
      "<rdf:RDF\n",
      "   xmlns:ns1=\"http://purl.obolibrary.org/obo/\"\n",
      "   xmlns:rdf=\"http://www.w3.org/1999/02/22-rdf-syntax-ns#\"\n",
      ">\n",
      "  <rdf:Description rdf:about=\"http://dbpedia.org/ontology/water\">\n",
      "    <ns1:PATO_0001681 rdf:datatype=\"http://purl.obolibrary.org/obo/UO_0000088\">18.01528</ns1:PATO_0001681>\n",
      "  </rdf:Description>\n",
      "</rdf:RDF>\n",
      "\n"
     ]
    }
   ],
   "source": [
    "print(graph.serialize(format=\"xml\"))"
   ]
  },
  {
   "cell_type": "markdown",
   "metadata": {},
   "source": [
    "We can also use namespace prefixes in Turtle:"
   ]
  },
  {
   "cell_type": "code",
   "execution_count": 4,
   "metadata": {},
   "outputs": [
    {
     "name": "stdout",
     "output_type": "stream",
     "text": [
      "@prefix ns1: <http://purl.obolibrary.org/obo/> .\n",
      "\n",
      "<http://dbpedia.org/ontology/water> ns1:PATO_0001681 \"18.01528\"^^ns1:UO_0000088 .\n",
      "\n",
      "\n"
     ]
    }
   ],
   "source": [
    "print(graph.serialize(format=\"ttl\"))"
   ]
  },
  {
   "cell_type": "markdown",
   "metadata": {},
   "source": [
    "## Normal forms and Triples"
   ]
  },
  {
   "cell_type": "markdown",
   "metadata": {},
   "source": [
    "How do we encode the sentence \"water has two hydrogen atoms\" in RDF?"
   ]
  },
  {
   "cell_type": "markdown",
   "metadata": {},
   "source": [
    "See [Defining N-ary Relations on the Semantic Web](https://www.w3.org/TR/swbp-n-aryRelations/) for the definitive story."
   ]
  },
  {
   "cell_type": "markdown",
   "metadata": {},
   "source": [
    "I'm not going to search carefully here for existing ontologies for the relationships we need:\n",
    "later we will understand how to define these as being the same as or subclasses of concepts\n",
    "in other ontologies. That's part of the value of a distributed approach: we can define\n",
    "what we need, and because the Semantic Web tools make rigorous the concepts of `rdfs:sameAs` and `rdfs:subclassOf` this will be OK."
   ]
  },
  {
   "cell_type": "markdown",
   "metadata": {},
   "source": [
    "However, there's a problem. We can do:"
   ]
  },
  {
   "cell_type": "code",
   "execution_count": 5,
   "metadata": {},
   "outputs": [
    {
     "name": "stdout",
     "output_type": "stream",
     "text": [
      "Overwriting reaction.ttl\n"
     ]
    }
   ],
   "source": [
    "%%writefile reaction.ttl \n",
    "\n",
    "@prefix disr: <http://www.turing.ac.uk/rsd-engineering/ontologies/reactions/> .\n",
    "@prefix dbo: <http://dbpedia.org/ontology/> .\n",
    "@prefix obo: <http://purl.obolibrary.org/obo/> .\n",
    "\n",
    "dbo:water obo:PATO_0001681 \"18.01528\"^^obo:UO_0000088 ;\n",
    "          disr:containsElement obo:CHEBI_33260 ."
   ]
  },
  {
   "cell_type": "markdown",
   "metadata": {},
   "source": [
    "* [ElementalHydrogen](http://www.ebi.ac.uk/chebi/searchId.do?chebiId=CHEBI:33260)"
   ]
  },
  {
   "cell_type": "markdown",
   "metadata": {},
   "source": [
    "We've introduced the semicolon in Turtle to say two statements about the same entity. The equivalent RDF-XML is:"
   ]
  },
  {
   "cell_type": "code",
   "execution_count": 6,
   "metadata": {},
   "outputs": [
    {
     "name": "stdout",
     "output_type": "stream",
     "text": [
      "2\n",
      "<?xml version=\"1.0\" encoding=\"utf-8\"?>\n",
      "<rdf:RDF\n",
      "   xmlns:disr=\"http://www.turing.ac.uk/rsd-engineering/ontologies/reactions/\"\n",
      "   xmlns:obo=\"http://purl.obolibrary.org/obo/\"\n",
      "   xmlns:rdf=\"http://www.w3.org/1999/02/22-rdf-syntax-ns#\"\n",
      ">\n",
      "  <rdf:Description rdf:about=\"http://dbpedia.org/ontology/water\">\n",
      "    <obo:PATO_0001681 rdf:datatype=\"http://purl.obolibrary.org/obo/UO_0000088\">18.01528</obo:PATO_0001681>\n",
      "    <disr:containsElement rdf:resource=\"http://purl.obolibrary.org/obo/CHEBI_33260\"/>\n",
      "  </rdf:Description>\n",
      "</rdf:RDF>\n",
      "\n"
     ]
    }
   ],
   "source": [
    "graph = Graph()\n",
    "graph.parse(\"reaction.ttl\", format=\"ttl\")\n",
    "print(len(graph))\n",
    "print(graph.serialize(format=\"xml\"))"
   ]
  },
  {
   "cell_type": "markdown",
   "metadata": {},
   "source": [
    "However, we can't express `hasTwo` in this way without making an infinite number of properties!\n",
    "\n",
    "RDF doesn't have a concept of adverbs. Why not?"
   ]
  },
  {
   "cell_type": "markdown",
   "metadata": {},
   "source": [
    "It turns out there's a fundamental relationship between the RDF triple and a RELATION in\n",
    "the relational database model.\n",
    "\n",
    "* The **subject** corresponds to the relational primary key.\n",
    "* The **verb** (RDF \"property\") corresponds to the relational column name.\n",
    "* The **object** corresponds to the value in the corresponding column."
   ]
  },
  {
   "cell_type": "markdown",
   "metadata": {},
   "source": [
    "We already found out that to model the relationship of atoms to molecules we needed a join table, and the\n",
    "number of atoms was metadata on the join.\n",
    "\n",
    "So, we need an entity type (RDF **class**) which describes an `ElementInMolecule`."
   ]
  },
  {
   "cell_type": "markdown",
   "metadata": {},
   "source": [
    "Fortunately, we don't have to create a universal URI for every single relationship, thanks to RDF's concept of an anonymous entity: something which is uniquely defined by its relationships.\n",
    "\n",
    "Imagine if we had to make a URN for oxygen-in-water, hydrogen-in-water etc!"
   ]
  },
  {
   "cell_type": "code",
   "execution_count": 7,
   "metadata": {},
   "outputs": [
    {
     "name": "stdout",
     "output_type": "stream",
     "text": [
      "Overwriting reaction.ttl\n"
     ]
    }
   ],
   "source": [
    "%%writefile reaction.ttl \n",
    "\n",
    "@prefix disr: <http://www.turing.ac.uk/rsd-engineering/ontologies/reactions/> .\n",
    "@prefix dbo: <http://dbpedia.org/ontology/> .\n",
    "@prefix obo: <http://purl.obolibrary.org/obo/> .\n",
    "@prefix xs: <http://www.w3.org/2001/XMLSchema> .\n",
    "\n",
    "dbo:water obo:PATO_0001681 \"18.01528\"^^obo:UO_0000088 ;\n",
    "          disr:containsElement obo:CHEBI_33260 ;\n",
    "          disr:hasElementQuantity [ \n",
    "              disr:countedElement obo:CHEBI_33260 ; \n",
    "              disr:countOfElement \"2\"^^xs:integer\n",
    "          ] ."
   ]
  },
  {
   "cell_type": "markdown",
   "metadata": {},
   "source": [
    "Here we have used `[ ]` to indicate an anonymous entity, with no subject. We then define\n",
    "two predicates on that subject, using properties corresponding to our column names in the join table."
   ]
  },
  {
   "cell_type": "markdown",
   "metadata": {},
   "source": [
    "Another turtle syntax for an anonymous \"blank node\" is this:"
   ]
  },
  {
   "cell_type": "code",
   "execution_count": 8,
   "metadata": {},
   "outputs": [
    {
     "name": "stdout",
     "output_type": "stream",
     "text": [
      "Overwriting reaction.ttl\n"
     ]
    }
   ],
   "source": [
    "%%writefile reaction.ttl \n",
    "\n",
    "@prefix disr: <http://www.turing.ac.uk/rsd-engineering/ontologies/reactions/> .\n",
    "@prefix dbo: <http://dbpedia.org/ontology/> .\n",
    "@prefix obo: <http://purl.obolibrary.org/obo/> .\n",
    "@prefix xs: <http://www.w3.org/2001/XMLSchema> .\n",
    "\n",
    "dbo:water obo:PATO_0001681 \"18.01528\"^^obo:UO_0000088 ;\n",
    "          disr:containsElement obo:CHEBI_33260 ;\n",
    "          disr:hasElementQuantity _:a .\n",
    "                \n",
    "_:a disr:countedElement obo:CHEBI_33260 ; \n",
    "    disr:countOfElement \"2\"^^xs:integer ."
   ]
  },
  {
   "cell_type": "markdown",
   "metadata": {},
   "source": [
    "## Serialising to RDF "
   ]
  },
  {
   "cell_type": "markdown",
   "metadata": {},
   "source": [
    "Here's code to write our model to Turtle:"
   ]
  },
  {
   "cell_type": "code",
   "execution_count": 9,
   "metadata": {},
   "outputs": [
    {
     "name": "stdout",
     "output_type": "stream",
     "text": [
      "Writing chemistry_turtle_template.mko\n"
     ]
    }
   ],
   "source": [
    "%%writefile chemistry_turtle_template.mko\n",
    "\n",
    "@prefix disr: <http://www.turing.ac.uk/rsd-engineering/ontologies/reactions/> .\n",
    "@prefix obo: <http://purl.obolibrary.org/obo/> .\n",
    "@prefix xs: <http://www.w3.org/2001/XMLSchema> .\n",
    "        \n",
    "[ \n",
    "%for reaction in reactions:\n",
    "    disr:hasReaction [\n",
    "        %for molecule in reaction.reactants.molecules:\n",
    "            disr:hasReactant [\n",
    "                %for element in molecule.elements:\n",
    "                    disr:hasElementQuantity [\n",
    "                        disr:countedElement [\n",
    "                            a obo:CHEBI_33259;\n",
    "                            disr:symbol \"${element.symbol}\"^^xs:string\n",
    "                        ] ;\n",
    "                        disr:countOfElement \"${molecule.elements[element]}\"^^xs:integer\n",
    "                    ];\n",
    "                %endfor\n",
    "                a obo:CHEBI_23367\n",
    "            ] ;\n",
    "        %endfor\n",
    "        %for molecule in reaction.products.molecules:\n",
    "            disr:hasProduct [\n",
    "                %for element in molecule.elements:\n",
    "                    disr:hasElementQuantity [\n",
    "                        disr:countedElement [\n",
    "                            a obo:CHEBI_33259;\n",
    "                            disr:symbol \"${element.symbol}\"^^xs:string\n",
    "                        ] ;\n",
    "                        disr:countOfElement \"${molecule.elements[element]}\"^^xs:integer\n",
    "                    ] ;\n",
    "                %endfor\n",
    "                a obo:CHEBI_23367\n",
    "            ] ;\n",
    "        %endfor\n",
    "        a disr:reaction\n",
    "    ] ;\n",
    "%endfor\n",
    "a disr:system\n",
    "]."
   ]
  },
  {
   "cell_type": "markdown",
   "metadata": {},
   "source": [
    "\"a\" in Turtle is an always available abbreviation for https://www.w3.org/1999/02/22-rdf-syntax-ns#type\n",
    "    "
   ]
  },
  {
   "cell_type": "markdown",
   "metadata": {},
   "source": [
    "We've also used:\n",
    "\n",
    "* [Molecular entity](http://www.ebi.ac.uk/chebi/searchId.do?chebiId=CHEBI%3A23367)\n",
    "* [Elemental molecular entity](http://www.ebi.ac.uk/chebi/searchId.do?chebiId=CHEBI%3A33259)"
   ]
  },
  {
   "cell_type": "markdown",
   "metadata": {},
   "source": [
    "I've skipped serialising the stoichiometries: to do that correctly I also need to create a\n",
    "relationship class for molecule-in-reaction."
   ]
  },
  {
   "cell_type": "markdown",
   "metadata": {},
   "source": [
    "And we've not attempted to relate our elements to their formal definitions, since our model\n",
    "isn't recording this at the moment. We could add this statement later."
   ]
  },
  {
   "cell_type": "code",
   "execution_count": 10,
   "metadata": {},
   "outputs": [
    {
     "data": {
      "text/latex": [
       "$\\displaystyle C_6H_{12}O_6 + 6O_2 \\rightarrow 6CO_2 + 6H_2O\\\\ \n",
       "2H_2 + O_2 \\rightarrow 2H_2O$"
      ],
      "text/plain": [
       "<IPython.core.display.Math object>"
      ]
     },
     "metadata": {},
     "output_type": "display_data"
    }
   ],
   "source": [
    "from IPython.display import Math, display\n",
    "from parsereactions import parser\n",
    "\n",
    "with open(\"system.tex\", \"r\") as texfile:\n",
    "    system = parser.parse(texfile.read())\n",
    "display(Math(str(system)))"
   ]
  },
  {
   "cell_type": "code",
   "execution_count": 11,
   "metadata": {},
   "outputs": [],
   "source": [
    "from mako.template import Template\n",
    "\n",
    "mytemplate = Template(filename=\"chemistry_turtle_template.mko\")\n",
    "with open(\"system.ttl\", \"w\") as ttlfile:\n",
    "    ttlfile.write((mytemplate.render(**vars(system))))"
   ]
  },
  {
   "cell_type": "code",
   "execution_count": 12,
   "metadata": {},
   "outputs": [
    {
     "name": "stdout",
     "output_type": "stream",
     "text": [
      "\r\n",
      "@prefix disr: <http://www.turing.ac.uk/rsd-engineering/ontologies/reactions/> .\r\n",
      "@prefix obo: <http://purl.obolibrary.org/obo/> .\r\n",
      "@prefix xs: <http://www.w3.org/2001/XMLSchema> .\r\n",
      "        \r\n",
      "[ \r\n",
      "    disr:hasReaction [\r\n",
      "            disr:hasReactant [\r\n",
      "                    disr:hasElementQuantity [\r\n",
      "                        disr:countedElement [\r\n",
      "                            a obo:CHEBI_33259;\r\n",
      "                            disr:symbol \"C\"^^xs:string\r\n",
      "                        ] ;\r\n",
      "                        disr:countOfElement \"6\"^^xs:integer\r\n",
      "                    ];\r\n",
      "                    disr:hasElementQuantity [\r\n",
      "                        disr:countedElement [\r\n",
      "                            a obo:CHEBI_33259;\r\n",
      "                            disr:symbol \"H\"^^xs:string\r\n",
      "                        ] ;\r\n",
      "                        disr:countOfElement \"12\"^^xs:integer\r\n",
      "                    ];\r\n",
      "                    disr:hasElementQuantity [\r\n",
      "                        disr:countedElement [\r\n",
      "                            a obo:CHEBI_33259;\r\n",
      "                            disr:symbol \"O\"^^xs:string\r\n",
      "                        ] ;\r\n",
      "                        disr:countOfElement \"6\"^^xs:integer\r\n",
      "                    ];\r\n",
      "                a obo:CHEBI_23367\r\n",
      "            ] ;\r\n",
      "            disr:hasReactant [\r\n",
      "                    disr:hasElementQuantity [\r\n",
      "                        disr:countedElement [\r\n",
      "                            a obo:CHEBI_33259;\r\n",
      "                            disr:symbol \"O\"^^xs:string\r\n",
      "                        ] ;\r\n",
      "                        disr:countOfElement \"2\"^^xs:integer\r\n",
      "                    ];\r\n",
      "                a obo:CHEBI_23367\r\n",
      "            ] ;\r\n",
      "            disr:hasProduct [\r\n",
      "                    disr:hasElementQuantity [\r\n",
      "                        disr:countedElement [\r\n",
      "                            a obo:CHEBI_33259;\r\n",
      "                            disr:symbol \"C\"^^xs:string\r\n",
      "                        ] ;\r\n",
      "                        disr:countOfElement \"1\"^^xs:integer\r\n",
      "                    ] ;\r\n",
      "                    disr:hasElementQuantity [\r\n",
      "                        disr:countedElement [\r\n",
      "                            a obo:CHEBI_33259;\r\n",
      "                            disr:symbol \"O\"^^xs:string\r\n",
      "                        ] ;\r\n",
      "                        disr:countOfElement \"2\"^^xs:integer\r\n",
      "                    ] ;\r\n",
      "                a obo:CHEBI_23367\r\n",
      "            ] ;\r\n",
      "            disr:hasProduct [\r\n",
      "                    disr:hasElementQuantity [\r\n",
      "                        disr:countedElement [\r\n",
      "                            a obo:CHEBI_33259;\r\n",
      "                            disr:symbol \"H\"^^xs:string\r\n",
      "                        ] ;\r\n",
      "                        disr:countOfElement \"2\"^^xs:integer\r\n",
      "                    ] ;\r\n",
      "                    disr:hasElementQuantity [\r\n",
      "                        disr:countedElement [\r\n",
      "                            a obo:CHEBI_33259;\r\n",
      "                            disr:symbol \"O\"^^xs:string\r\n",
      "                        ] ;\r\n",
      "                        disr:countOfElement \"1\"^^xs:integer\r\n",
      "                    ] ;\r\n",
      "                a obo:CHEBI_23367\r\n",
      "            ] ;\r\n",
      "        a disr:reaction\r\n",
      "    ] ;\r\n",
      "    disr:hasReaction [\r\n",
      "            disr:hasReactant [\r\n",
      "                    disr:hasElementQuantity [\r\n",
      "                        disr:countedElement [\r\n",
      "                            a obo:CHEBI_33259;\r\n",
      "                            disr:symbol \"H\"^^xs:string\r\n",
      "                        ] ;\r\n",
      "                        disr:countOfElement \"2\"^^xs:integer\r\n",
      "                    ];\r\n",
      "                a obo:CHEBI_23367\r\n",
      "            ] ;\r\n",
      "            disr:hasReactant [\r\n",
      "                    disr:hasElementQuantity [\r\n",
      "                        disr:countedElement [\r\n",
      "                            a obo:CHEBI_33259;\r\n",
      "                            disr:symbol \"O\"^^xs:string\r\n",
      "                        ] ;\r\n",
      "                        disr:countOfElement \"2\"^^xs:integer\r\n",
      "                    ];\r\n",
      "                a obo:CHEBI_23367\r\n",
      "            ] ;\r\n",
      "            disr:hasProduct [\r\n",
      "                    disr:hasElementQuantity [\r\n",
      "                        disr:countedElement [\r\n",
      "                            a obo:CHEBI_33259;\r\n",
      "                            disr:symbol \"H\"^^xs:string\r\n",
      "                        ] ;\r\n",
      "                        disr:countOfElement \"2\"^^xs:integer\r\n",
      "                    ] ;\r\n",
      "                    disr:hasElementQuantity [\r\n",
      "                        disr:countedElement [\r\n",
      "                            a obo:CHEBI_33259;\r\n",
      "                            disr:symbol \"O\"^^xs:string\r\n",
      "                        ] ;\r\n",
      "                        disr:countOfElement \"1\"^^xs:integer\r\n",
      "                    ] ;\r\n",
      "                a obo:CHEBI_23367\r\n",
      "            ] ;\r\n",
      "        a disr:reaction\r\n",
      "    ] ;\r\n",
      "a disr:system\r\n",
      "].\r\n"
     ]
    }
   ],
   "source": [
    "!cat system.ttl"
   ]
  },
  {
   "cell_type": "code",
   "execution_count": 13,
   "metadata": {},
   "outputs": [
    {
     "name": "stdout",
     "output_type": "stream",
     "text": [
      "<?xml version=\"1.0\" encoding=\"utf-8\"?>\n",
      "<rdf:RDF\n",
      "   xmlns:disr=\"http://www.turing.ac.uk/rsd-engineering/ontologies/reactions/\"\n",
      "   xmlns:rdf=\"http://www.w3.org/1999/02/22-rdf-syntax-ns#\"\n",
      ">\n",
      "  <rdf:Description rdf:nodeID=\"nf160f75ae9b146d3a68bd908fd44cc04b14\">\n",
      "    <disr:countedElement rdf:nodeID=\"nf160f75ae9b146d3a68bd908fd44cc04b15\"/>\n",
      "    <disr:countOfElement rdf:datatype=\"http://www.w3.org/2001/XMLSchemainteger\">1</disr:countOfElement>\n",
      "  </rdf:Description>\n",
      "  <rdf:Description rdf:nodeID=\"nf160f75ae9b146d3a68bd908fd44cc04b25\">\n",
      "    <disr:countedElement rdf:nodeID=\"nf160f75ae9b146d3a68bd908fd44cc04b26\"/>\n",
      "    <disr:countOfElement rdf:datatype=\"http://www.w3.org/2001/XMLSchemainteger\">2</disr:countOfElement>\n",
      "  </rdf:Description>\n",
      "  <rdf:Description rdf:nodeID=\"nf160f75ae9b146d3a68bd908fd44cc04b22\">\n",
      "    <rdf:type rdf:resource=\"http://purl.obolibrary.org/obo/CHEBI_33259\"/>\n",
      "    <disr:symbol rdf:datatype=\"http://www.w3.org/2001/XMLSchemastring\">O</disr:symbol>\n",
      "  </rdf:Description>\n",
      "  <rdf:Description rdf:nodeID=\"nf160f75ae9b146d3a68bd908fd44cc04b1\">\n",
      "    <disr:hasReaction rdf:nodeID=\"nf160f75ae9b146d3a68bd908fd44cc04b2\"/>\n",
      "    <disr:hasReaction rdf:nodeID=\"nf160f75ae9b146d3a68bd908fd44cc04b23\"/>\n",
      "    <rdf:type rdf:resource=\"http://www.turing.ac.uk/rsd-engineering/ontologies/reactions/system\"/>\n",
      "  </rdf:Description>\n",
      "  <rdf:Description rdf:nodeID=\"nf160f75ae9b146d3a68bd908fd44cc04b13\">\n",
      "    <disr:hasElementQuantity rdf:nodeID=\"nf160f75ae9b146d3a68bd908fd44cc04b14\"/>\n",
      "    <disr:hasElementQuantity rdf:nodeID=\"nf160f75ae9b146d3a68bd908fd44cc04b16\"/>\n",
      "    <rdf:type rdf:resource=\"http://purl.obolibrary.org/obo/CHEBI_23367\"/>\n",
      "  </rdf:Description>\n",
      "  <rdf:Description rdf:nodeID=\"nf160f75ae9b146d3a68bd908fd44cc04b19\">\n",
      "    <disr:countedElement rdf:nodeID=\"nf160f75ae9b146d3a68bd908fd44cc04b20\"/>\n",
      "    <disr:countOfElement rdf:datatype=\"http://www.w3.org/2001/XMLSchemainteger\">2</disr:countOfElement>\n",
      "  </rdf:Description>\n",
      "  <rdf:Description rdf:nodeID=\"nf160f75ae9b146d3a68bd908fd44cc04b4\">\n",
      "    <disr:countedElement rdf:nodeID=\"nf160f75ae9b146d3a68bd908fd44cc04b5\"/>\n",
      "    <disr:countOfElement rdf:datatype=\"http://www.w3.org/2001/XMLSchemainteger\">6</disr:countOfElement>\n",
      "  </rdf:Description>\n",
      "  <rdf:Description rdf:nodeID=\"nf160f75ae9b146d3a68bd908fd44cc04b8\">\n",
      "    <disr:countedElement rdf:nodeID=\"nf160f75ae9b146d3a68bd908fd44cc04b9\"/>\n",
      "    <disr:countOfElement rdf:datatype=\"http://www.w3.org/2001/XMLSchemainteger\">6</disr:countOfElement>\n",
      "  </rdf:Description>\n",
      "  <rdf:Description rdf:nodeID=\"nf160f75ae9b146d3a68bd908fd44cc04b2\">\n",
      "    <disr:hasReactant rdf:nodeID=\"nf160f75ae9b146d3a68bd908fd44cc04b3\"/>\n",
      "    <disr:hasReactant rdf:nodeID=\"nf160f75ae9b146d3a68bd908fd44cc04b10\"/>\n",
      "    <disr:hasProduct rdf:nodeID=\"nf160f75ae9b146d3a68bd908fd44cc04b13\"/>\n",
      "    <disr:hasProduct rdf:nodeID=\"nf160f75ae9b146d3a68bd908fd44cc04b18\"/>\n",
      "    <rdf:type rdf:resource=\"http://www.turing.ac.uk/rsd-engineering/ontologies/reactions/reaction\"/>\n",
      "  </rdf:Description>\n",
      "  <rdf:Description rdf:nodeID=\"nf160f75ae9b146d3a68bd908fd44cc04b29\">\n",
      "    <rdf:type rdf:resource=\"http://purl.obolibrary.org/obo/CHEBI_33259\"/>\n",
      "    <disr:symbol rdf:datatype=\"http://www.w3.org/2001/XMLSchemastring\">O</disr:symbol>\n",
      "  </rdf:Description>\n",
      "  <rdf:Description rdf:nodeID=\"nf160f75ae9b146d3a68bd908fd44cc04b17\">\n",
      "    <rdf:type rdf:resource=\"http://purl.obolibrary.org/obo/CHEBI_33259\"/>\n",
      "    <disr:symbol rdf:datatype=\"http://www.w3.org/2001/XMLSchemastring\">O</disr:symbol>\n",
      "  </rdf:Description>\n",
      "  <rdf:Description rdf:nodeID=\"nf160f75ae9b146d3a68bd908fd44cc04b28\">\n",
      "    <disr:countedElement rdf:nodeID=\"nf160f75ae9b146d3a68bd908fd44cc04b29\"/>\n",
      "    <disr:countOfElement rdf:datatype=\"http://www.w3.org/2001/XMLSchemainteger\">2</disr:countOfElement>\n",
      "  </rdf:Description>\n",
      "  <rdf:Description rdf:nodeID=\"nf160f75ae9b146d3a68bd908fd44cc04b7\">\n",
      "    <rdf:type rdf:resource=\"http://purl.obolibrary.org/obo/CHEBI_33259\"/>\n",
      "    <disr:symbol rdf:datatype=\"http://www.w3.org/2001/XMLSchemastring\">H</disr:symbol>\n",
      "  </rdf:Description>\n",
      "  <rdf:Description rdf:nodeID=\"nf160f75ae9b146d3a68bd908fd44cc04b30\">\n",
      "    <disr:hasElementQuantity rdf:nodeID=\"nf160f75ae9b146d3a68bd908fd44cc04b31\"/>\n",
      "    <disr:hasElementQuantity rdf:nodeID=\"nf160f75ae9b146d3a68bd908fd44cc04b33\"/>\n",
      "    <rdf:type rdf:resource=\"http://purl.obolibrary.org/obo/CHEBI_23367\"/>\n",
      "  </rdf:Description>\n",
      "  <rdf:Description rdf:nodeID=\"nf160f75ae9b146d3a68bd908fd44cc04b5\">\n",
      "    <rdf:type rdf:resource=\"http://purl.obolibrary.org/obo/CHEBI_33259\"/>\n",
      "    <disr:symbol rdf:datatype=\"http://www.w3.org/2001/XMLSchemastring\">C</disr:symbol>\n",
      "  </rdf:Description>\n",
      "  <rdf:Description rdf:nodeID=\"nf160f75ae9b146d3a68bd908fd44cc04b31\">\n",
      "    <disr:countedElement rdf:nodeID=\"nf160f75ae9b146d3a68bd908fd44cc04b32\"/>\n",
      "    <disr:countOfElement rdf:datatype=\"http://www.w3.org/2001/XMLSchemainteger\">2</disr:countOfElement>\n",
      "  </rdf:Description>\n",
      "  <rdf:Description rdf:nodeID=\"nf160f75ae9b146d3a68bd908fd44cc04b27\">\n",
      "    <disr:hasElementQuantity rdf:nodeID=\"nf160f75ae9b146d3a68bd908fd44cc04b28\"/>\n",
      "    <rdf:type rdf:resource=\"http://purl.obolibrary.org/obo/CHEBI_23367\"/>\n",
      "  </rdf:Description>\n",
      "  <rdf:Description rdf:nodeID=\"nf160f75ae9b146d3a68bd908fd44cc04b26\">\n",
      "    <rdf:type rdf:resource=\"http://purl.obolibrary.org/obo/CHEBI_33259\"/>\n",
      "    <disr:symbol rdf:datatype=\"http://www.w3.org/2001/XMLSchemastring\">H</disr:symbol>\n",
      "  </rdf:Description>\n",
      "  <rdf:Description rdf:nodeID=\"nf160f75ae9b146d3a68bd908fd44cc04b18\">\n",
      "    <disr:hasElementQuantity rdf:nodeID=\"nf160f75ae9b146d3a68bd908fd44cc04b19\"/>\n",
      "    <disr:hasElementQuantity rdf:nodeID=\"nf160f75ae9b146d3a68bd908fd44cc04b21\"/>\n",
      "    <rdf:type rdf:resource=\"http://purl.obolibrary.org/obo/CHEBI_23367\"/>\n",
      "  </rdf:Description>\n",
      "  <rdf:Description rdf:nodeID=\"nf160f75ae9b146d3a68bd908fd44cc04b9\">\n",
      "    <rdf:type rdf:resource=\"http://purl.obolibrary.org/obo/CHEBI_33259\"/>\n",
      "    <disr:symbol rdf:datatype=\"http://www.w3.org/2001/XMLSchemastring\">O</disr:symbol>\n",
      "  </rdf:Description>\n",
      "  <rdf:Description rdf:nodeID=\"nf160f75ae9b146d3a68bd908fd44cc04b16\">\n",
      "    <disr:countedElement rdf:nodeID=\"nf160f75ae9b146d3a68bd908fd44cc04b17\"/>\n",
      "    <disr:countOfElement rdf:datatype=\"http://www.w3.org/2001/XMLSchemainteger\">2</disr:countOfElement>\n",
      "  </rdf:Description>\n",
      "  <rdf:Description rdf:nodeID=\"nf160f75ae9b146d3a68bd908fd44cc04b33\">\n",
      "    <disr:countedElement rdf:nodeID=\"nf160f75ae9b146d3a68bd908fd44cc04b34\"/>\n",
      "    <disr:countOfElement rdf:datatype=\"http://www.w3.org/2001/XMLSchemainteger\">1</disr:countOfElement>\n",
      "  </rdf:Description>\n",
      "  <rdf:Description rdf:nodeID=\"nf160f75ae9b146d3a68bd908fd44cc04b6\">\n",
      "    <disr:countedElement rdf:nodeID=\"nf160f75ae9b146d3a68bd908fd44cc04b7\"/>\n",
      "    <disr:countOfElement rdf:datatype=\"http://www.w3.org/2001/XMLSchemainteger\">12</disr:countOfElement>\n",
      "  </rdf:Description>\n",
      "  <rdf:Description rdf:nodeID=\"nf160f75ae9b146d3a68bd908fd44cc04b21\">\n",
      "    <disr:countedElement rdf:nodeID=\"nf160f75ae9b146d3a68bd908fd44cc04b22\"/>\n",
      "    <disr:countOfElement rdf:datatype=\"http://www.w3.org/2001/XMLSchemainteger\">1</disr:countOfElement>\n",
      "  </rdf:Description>\n",
      "  <rdf:Description rdf:nodeID=\"nf160f75ae9b146d3a68bd908fd44cc04b3\">\n",
      "    <disr:hasElementQuantity rdf:nodeID=\"nf160f75ae9b146d3a68bd908fd44cc04b4\"/>\n",
      "    <disr:hasElementQuantity rdf:nodeID=\"nf160f75ae9b146d3a68bd908fd44cc04b6\"/>\n",
      "    <disr:hasElementQuantity rdf:nodeID=\"nf160f75ae9b146d3a68bd908fd44cc04b8\"/>\n",
      "    <rdf:type rdf:resource=\"http://purl.obolibrary.org/obo/CHEBI_23367\"/>\n",
      "  </rdf:Description>\n",
      "  <rdf:Description rdf:nodeID=\"nf160f75ae9b146d3a68bd908fd44cc04b34\">\n",
      "    <rdf:type rdf:resource=\"http://purl.obolibrary.org/obo/CHEBI_33259\"/>\n",
      "    <disr:symbol rdf:datatype=\"http://www.w3.org/2001/XMLSchemastring\">O</disr:symbol>\n",
      "  </rdf:Description>\n",
      "  <rdf:Description rdf:nodeID=\"nf160f75ae9b146d3a68bd908fd44cc04b20\">\n",
      "    <rdf:type rdf:resource=\"http://purl.obolibrary.org/obo/CHEBI_33259\"/>\n",
      "    <disr:symbol rdf:datatype=\"http://www.w3.org/2001/XMLSchemastring\">H</disr:symbol>\n",
      "  </rdf:Description>\n",
      "  <rdf:Description rdf:nodeID=\"nf160f75ae9b146d3a68bd908fd44cc04b11\">\n",
      "    <disr:countedElement rdf:nodeID=\"nf160f75ae9b146d3a68bd908fd44cc04b12\"/>\n",
      "    <disr:countOfElement rdf:datatype=\"http://www.w3.org/2001/XMLSchemainteger\">2</disr:countOfElement>\n",
      "  </rdf:Description>\n",
      "  <rdf:Description rdf:nodeID=\"nf160f75ae9b146d3a68bd908fd44cc04b32\">\n",
      "    <rdf:type rdf:resource=\"http://purl.obolibrary.org/obo/CHEBI_33259\"/>\n",
      "    <disr:symbol rdf:datatype=\"http://www.w3.org/2001/XMLSchemastring\">H</disr:symbol>\n",
      "  </rdf:Description>\n",
      "  <rdf:Description rdf:nodeID=\"nf160f75ae9b146d3a68bd908fd44cc04b12\">\n",
      "    <rdf:type rdf:resource=\"http://purl.obolibrary.org/obo/CHEBI_33259\"/>\n",
      "    <disr:symbol rdf:datatype=\"http://www.w3.org/2001/XMLSchemastring\">O</disr:symbol>\n",
      "  </rdf:Description>\n",
      "  <rdf:Description rdf:nodeID=\"nf160f75ae9b146d3a68bd908fd44cc04b15\">\n",
      "    <rdf:type rdf:resource=\"http://purl.obolibrary.org/obo/CHEBI_33259\"/>\n",
      "    <disr:symbol rdf:datatype=\"http://www.w3.org/2001/XMLSchemastring\">C</disr:symbol>\n",
      "  </rdf:Description>\n",
      "  <rdf:Description rdf:nodeID=\"nf160f75ae9b146d3a68bd908fd44cc04b23\">\n",
      "    <disr:hasReactant rdf:nodeID=\"nf160f75ae9b146d3a68bd908fd44cc04b24\"/>\n",
      "    <disr:hasReactant rdf:nodeID=\"nf160f75ae9b146d3a68bd908fd44cc04b27\"/>\n",
      "    <disr:hasProduct rdf:nodeID=\"nf160f75ae9b146d3a68bd908fd44cc04b30\"/>\n",
      "    <rdf:type rdf:resource=\"http://www.turing.ac.uk/rsd-engineering/ontologies/reactions/reaction\"/>\n",
      "  </rdf:Description>\n",
      "  <rdf:Description rdf:nodeID=\"nf160f75ae9b146d3a68bd908fd44cc04b24\">\n",
      "    <disr:hasElementQuantity rdf:nodeID=\"nf160f75ae9b146d3a68bd908fd44cc04b25\"/>\n",
      "    <rdf:type rdf:resource=\"http://purl.obolibrary.org/obo/CHEBI_23367\"/>\n",
      "  </rdf:Description>\n",
      "  <rdf:Description rdf:nodeID=\"nf160f75ae9b146d3a68bd908fd44cc04b10\">\n",
      "    <disr:hasElementQuantity rdf:nodeID=\"nf160f75ae9b146d3a68bd908fd44cc04b11\"/>\n",
      "    <rdf:type rdf:resource=\"http://purl.obolibrary.org/obo/CHEBI_23367\"/>\n",
      "  </rdf:Description>\n",
      "</rdf:RDF>\n",
      "\n"
     ]
    }
   ],
   "source": [
    "graph = Graph()\n",
    "graph.parse(\"system.ttl\", format=\"ttl\")\n",
    "print(graph.serialize(format=\"xml\"))"
   ]
  },
  {
   "cell_type": "markdown",
   "metadata": {},
   "source": [
    "We can see why the group of triples is called a *graph*: each node is an entity and each arc a property relating entities."
   ]
  },
  {
   "cell_type": "markdown",
   "metadata": {},
   "source": [
    "Note that this format is very very verbose. It is **not** designed to be a nice human-readable format.\n",
    "\n",
    "Instead, the purpose is to maximise the capability of machines to reason with found data."
   ]
  },
  {
   "cell_type": "markdown",
   "metadata": {},
   "source": [
    "## Formalising our ontology: RDFS"
   ]
  },
  {
   "cell_type": "markdown",
   "metadata": {},
   "source": [
    "Our http://www.turing.ac.uk/rsd-engineering/ontologies/reactions/ namespace now contains the following properties:"
   ]
  },
  {
   "cell_type": "markdown",
   "metadata": {},
   "source": [
    "* disr:hasReaction\n",
    "* disr:hasReactant\n",
    "* disr:hasProduct\n",
    "* disr:containsElement\n",
    "* disr:countedElement\n",
    "* disr:hasElementQuantity     \n",
    "* disr:countOfElement\n",
    "* disr:symbol"
   ]
  },
  {
   "cell_type": "markdown",
   "metadata": {},
   "source": [
    "And two classes:"
   ]
  },
  {
   "cell_type": "markdown",
   "metadata": {},
   "source": [
    "* disr:system\n",
    "* disr:reaction"
   ]
  },
  {
   "cell_type": "markdown",
   "metadata": {},
   "source": [
    "We would now like to find a way to formally specify some of the relationships between these.\n",
    "   \n",
    "The **type** (`http://www.w3.org/1999/02/22-rdf-syntax-ns#type` or `a`) of the subject of hasReaction\n",
    "must be `disr:system`.\n",
    "\n"
   ]
  },
  {
   "cell_type": "markdown",
   "metadata": {},
   "source": [
    "[RDFS](https://www.w3.org/TR/rdf-schema/) will allow us to specify which URNs define classes and which properties,\n",
    "and the domain and range (valid subjects and objects) of our properties."
   ]
  },
  {
   "cell_type": "markdown",
   "metadata": {},
   "source": [
    "For example:"
   ]
  },
  {
   "cell_type": "code",
   "execution_count": 14,
   "metadata": {},
   "outputs": [
    {
     "name": "stdout",
     "output_type": "stream",
     "text": [
      "Writing turing_ontology.ttl\n"
     ]
    }
   ],
   "source": [
    "%%writefile turing_ontology.ttl\n",
    "\n",
    "@prefix disr: <http://www.turing.ac.uk/rsd-engineering/ontologies/reactions/> .\n",
    "@prefix obo: <http://purl.obolibrary.org/obo/> .\n",
    "@prefix xs: <http://www.w3.org/2001/XMLSchema> .\n",
    "@prefix rdfs: <http://www.w3.org/2000/01/rdf-schema#> .\n",
    "@prefix rdf: <http://www.w3.org/1999/02/22-rdf-syntax-ns#> .\n",
    "\n",
    "disr:system a rdfs:Class .\n",
    "disr:reaction a rdfs:Class .\n",
    "disr:hasReaction a rdf:Property .\n",
    "disr:hasReaction rdfs:domain disr:system .\n",
    "disr:hasReaction rdfs:range disr:reaction .          "
   ]
  },
  {
   "cell_type": "markdown",
   "metadata": {},
   "source": [
    "This will allow us to make our file format briefer: given this schema, if\n",
    "\n",
    "`_:a hasReaction _:b`\n",
    "\n",
    "then we can **infer** that\n",
    "\n",
    "`_:a a disr:system .\n",
    "_:b a disr:reaction .`\n",
    "\n",
    "without explicitly stating it.\n",
    "\n",
    "Obviously there's a lot more to do to define our other classes, including defining a class for our anonymous element-in-molecule nodes."
   ]
  },
  {
   "cell_type": "markdown",
   "metadata": {},
   "source": [
    "This can get very interesting:"
   ]
  },
  {
   "cell_type": "code",
   "execution_count": 15,
   "metadata": {},
   "outputs": [
    {
     "name": "stdout",
     "output_type": "stream",
     "text": [
      "Overwriting turing_ontology.ttl\n"
     ]
    }
   ],
   "source": [
    "%%writefile turing_ontology.ttl\n",
    "\n",
    "@prefix disr: <http://www.turing.ac.uk/rsd-engineering/ontologies/reactions/> .\n",
    "@prefix obo: <http://purl.obolibrary.org/obo/> .\n",
    "@prefix xs: <http://www.w3.org/2001/XMLSchema> .\n",
    "@prefix rdfs: <http://www.w3.org/2000/01/rdf-schema#> .\n",
    "@prefix rdf: <http://www.w3.org/1999/02/22-rdf-syntax-ns#> .\n",
    "\n",
    "disr:system a rdfs:Class .\n",
    "disr:reaction a rdfs:Class .\n",
    "disr:hasReaction a rdf:Property .\n",
    "disr:hasReaction rdfs:domain disr:system .\n",
    "disr:hasReaction rdfs:range disr:reaction .     \n",
    "\n",
    "disr:hasParticipant a rdf:Property .\n",
    "disr:hasReactant rdfs:subPropertyOf disr:hasParticipant .\n",
    "disr:hasProduct rdfs:subPropertyOf disr:hasParticipant"
   ]
  },
  {
   "cell_type": "markdown",
   "metadata": {},
   "source": [
    "[OWL](https://www.w3.org/TR/owl-ref/) extends RDFS even further. "
   ]
  },
  {
   "cell_type": "markdown",
   "metadata": {},
   "source": [
    "Inferring additional rules from existing rules and schema is very powerful: an interesting branch of AI. (Unfortunately the [python tool](https://github.com/RDFLib/OWL-RL) for doing this automatically is currently not updated to python 3 so I'm not going to demo it. Instead, we'll see in a moment how to apply inferences to our graph to introduce new properties.)"
   ]
  },
  {
   "cell_type": "markdown",
   "metadata": {},
   "source": [
    "## SPARQL"
   ]
  },
  {
   "cell_type": "markdown",
   "metadata": {},
   "source": [
    "So, once I've got a bunch of triples, how do I learn anything at all from them? The language\n",
    "is so verbose it seems useless!"
   ]
  },
  {
   "cell_type": "markdown",
   "metadata": {},
   "source": [
    "SPARQL is a very powerful language for asking questions of knowledge bases defined in RDF triples:"
   ]
  },
  {
   "cell_type": "code",
   "execution_count": 16,
   "metadata": {},
   "outputs": [
    {
     "ename": "TypeError",
     "evalue": "not all arguments converted during string formatting",
     "output_type": "error",
     "traceback": [
      "\u001b[0;31m---------------------------------------------------------------------------\u001b[0m",
      "\u001b[0;31mTypeError\u001b[0m                                 Traceback (most recent call last)",
      "Cell \u001b[0;32mIn[16], line 16\u001b[0m\n\u001b[1;32m      1\u001b[0m results \u001b[38;5;241m=\u001b[39m graph\u001b[38;5;241m.\u001b[39mquery(\n\u001b[1;32m      2\u001b[0m \u001b[38;5;250m    \u001b[39m\u001b[38;5;124;03m\"\"\"\u001b[39;00m\n\u001b[1;32m      3\u001b[0m \u001b[38;5;124;03m    SELECT DISTINCT ?asymbol ?bsymbol\u001b[39;00m\n\u001b[0;32m   (...)\u001b[0m\n\u001b[1;32m     12\u001b[0m \u001b[38;5;124;03m    \"\"\"\u001b[39;00m\n\u001b[1;32m     13\u001b[0m )\n\u001b[1;32m     15\u001b[0m \u001b[38;5;28;01mfor\u001b[39;00m row \u001b[38;5;129;01min\u001b[39;00m results:\n\u001b[0;32m---> 16\u001b[0m     \u001b[38;5;28mprint\u001b[39m(\u001b[38;5;124;43mf\u001b[39;49m\u001b[38;5;124;43m\"\u001b[39;49m\u001b[38;5;124;43mElements \u001b[39;49m\u001b[38;5;132;43;01m{\u001b[39;49;00m\u001b[43mrow\u001b[49m\u001b[43m[\u001b[49m\u001b[38;5;241;43m0\u001b[39;49m\u001b[43m]\u001b[49m\u001b[38;5;132;43;01m}\u001b[39;49;00m\u001b[38;5;124;43m and %s are found in the same molecule\u001b[39;49m\u001b[38;5;124;43m\"\u001b[39;49m\u001b[43m \u001b[49m\u001b[38;5;241;43m%\u001b[39;49m\u001b[43m \u001b[49m\u001b[43mrow\u001b[49m)\n",
      "\u001b[0;31mTypeError\u001b[0m: not all arguments converted during string formatting"
     ]
    }
   ],
   "source": [
    "results = graph.query(\n",
    "    \"\"\"\n",
    "    SELECT DISTINCT ?asymbol ?bsymbol\n",
    "    WHERE {\n",
    "        ?molecule disr:hasElementQuantity ?a .\n",
    "        ?a disr:countedElement ?elementa .\n",
    "        ?elementa disr:symbol ?asymbol .\n",
    "        ?molecule disr:hasElementQuantity ?b .\n",
    "        ?b disr:countedElement ?elementb .\n",
    "        ?elementb disr:symbol ?bsymbol\n",
    "    }\n",
    "    \"\"\"\n",
    ")\n",
    "\n",
    "for row in results:\n",
    "    print(f\"Elements {row[0]} and %s are found in the same molecule\" % row)"
   ]
  },
  {
   "cell_type": "markdown",
   "metadata": {},
   "source": [
    "We can see how this works: you make a number of statements in triple-form, but with some\n",
    "quantities as dummy-variables. SPARQL finds all possible subgraphs of the triple graph which\n",
    "are compatible with the statements in your query.\n",
    "\n"
   ]
  },
  {
   "cell_type": "markdown",
   "metadata": {},
   "source": [
    "We can also use SPARQL to specify **inference rules**:"
   ]
  },
  {
   "cell_type": "code",
   "execution_count": 17,
   "metadata": {},
   "outputs": [],
   "source": [
    "graph.update(\n",
    "    \"\"\"\n",
    "    INSERT { ?elementa disr:inMoleculeWith ?elementb }\n",
    "    WHERE {\n",
    "        ?molecule disr:hasElementQuantity ?a .\n",
    "        ?a disr:countedElement ?elementa .\n",
    "        ?elementa disr:symbol ?asymbol .\n",
    "        ?molecule disr:hasElementQuantity ?b .\n",
    "        ?b disr:countedElement ?elementb .\n",
    "        ?elementb disr:symbol ?bsymbol\n",
    "    }\n",
    "    \"\"\"\n",
    ")"
   ]
  },
  {
   "cell_type": "code",
   "execution_count": 18,
   "metadata": {},
   "outputs": [
    {
     "name": "stdout",
     "output_type": "stream",
     "text": [
      "Elements C and C are found in the same molecule\n",
      "Elements C and H are found in the same molecule\n",
      "Elements C and O are found in the same molecule\n",
      "Elements H and C are found in the same molecule\n",
      "Elements H and H are found in the same molecule\n",
      "Elements H and O are found in the same molecule\n",
      "Elements O and C are found in the same molecule\n",
      "Elements O and H are found in the same molecule\n",
      "Elements O and O are found in the same molecule\n"
     ]
    }
   ],
   "source": [
    "graph.query(\n",
    "    \"\"\"\n",
    "    SELECT DISTINCT ?asymbol ?bsymbol\n",
    "    WHERE {\n",
    "          ?elementa disr:inMoleculeWith ?elementb .\n",
    "          ?elementa disr:symbol ?asymbol .\n",
    "          ?elementb disr:symbol ?bsymbol\n",
    "    }\n",
    "    \"\"\"\n",
    ")\n",
    "\n",
    "for row in results:\n",
    "    print(f\"Elements {row[0]} and {row[1]} are found in the same molecule\")"
   ]
  },
  {
   "cell_type": "markdown",
   "metadata": {},
   "source": [
    "Exercise for reader: express \"If x is the subject of a hasReaction relationship, then x must be a system\"\n",
    "in SPARQL."
   ]
  },
  {
   "cell_type": "markdown",
   "metadata": {},
   "source": [
    "Exercise for reader: search for a SPARQL endpoint knowledge base in your domain.\n",
    "\n",
    "Connect to it using [Python RDFLib's SPARQL endpoint wrapper](https://github.com/RDFLib/sparqlwrapper) and ask it a question."
   ]
  }
 ],
 "metadata": {
  "jekyll": {
   "display_name": "Semantic models"
  },
  "kernelspec": {
   "display_name": "Python 3 (ipykernel)",
   "language": "python",
   "name": "python3"
  },
  "language_info": {
   "codemirror_mode": {
    "name": "ipython",
    "version": 3
   },
   "file_extension": ".py",
   "mimetype": "text/x-python",
   "name": "python",
   "nbconvert_exporter": "python",
   "pygments_lexer": "ipython3",
   "version": "3.8.16"
  }
 },
 "nbformat": 4,
 "nbformat_minor": 1
}