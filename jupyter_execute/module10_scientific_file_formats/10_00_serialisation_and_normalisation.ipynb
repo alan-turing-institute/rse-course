{
 "cells": [
  {
   "cell_type": "markdown",
   "metadata": {},
   "source": [
    "# 10.0 Serialising and normalising data"
   ]
  },
  {
   "cell_type": "markdown",
   "metadata": {},
   "source": [
    "*Estimated time for this notebook: 15 minutes*"
   ]
  },
  {
   "cell_type": "markdown",
   "metadata": {},
   "source": [
    "Consider a simple python computational model of chemical reaction networks.\n",
    "In particular let's consider the combustion of glucose to carbon dioxide and water."
   ]
  },
  {
   "cell_type": "code",
   "execution_count": 1,
   "metadata": {},
   "outputs": [],
   "source": [
    "class Element:\n",
    "    def __init__(self, symbol, number):\n",
    "        self.symbol = symbol\n",
    "        self.number = number\n",
    "\n",
    "    def __str__(self):\n",
    "        return str(self.symbol)\n",
    "\n",
    "\n",
    "class Molecule:\n",
    "    def __init__(self, mass):\n",
    "        self.elements = {}  # Map from element to number of that element in the molecule\n",
    "        self.mass = mass\n",
    "\n",
    "    def add_element(self, element, number):\n",
    "        self.elements[element] = number\n",
    "\n",
    "    @staticmethod\n",
    "    def as_subscript(number):\n",
    "        if number == 1:\n",
    "            return \"\"\n",
    "        if number < 10:\n",
    "            return \"_\" + str(number)\n",
    "        return \"_{\" + str(number) + \"}\"\n",
    "\n",
    "    def __str__(self):\n",
    "        return \"\".join(\n",
    "            [\n",
    "                str(element) + Molecule.as_subscript(number)\n",
    "                for element, number in self.elements.items()\n",
    "            ]\n",
    "        )\n",
    "\n",
    "\n",
    "class Reaction:\n",
    "    def __init__(self):\n",
    "        self.reactants = {}  # Map from reactants to stoichiometries\n",
    "        self.products = {}  # Map from products to stoichiometries\n",
    "\n",
    "    def add_reactant(self, reactant, stoichiometry):\n",
    "        self.reactants[reactant] = stoichiometry\n",
    "\n",
    "    def add_product(self, product, stoichiometry):\n",
    "        self.products[product] = stoichiometry\n",
    "\n",
    "    @staticmethod\n",
    "    def print_if_not_one(number):\n",
    "        if number == 1:\n",
    "            return \"\"\n",
    "        return str(number)\n",
    "\n",
    "    @staticmethod\n",
    "    def side_as_string(side):\n",
    "        return \" + \".join(\n",
    "            [\n",
    "                Reaction.print_if_not_one(side[molecule]) + str(molecule)\n",
    "                for molecule in side\n",
    "            ]\n",
    "        )\n",
    "\n",
    "    def __str__(self):\n",
    "        return (\n",
    "            Reaction.side_as_string(self.reactants)\n",
    "            + \" \\\\rightarrow \"\n",
    "            + Reaction.side_as_string(self.products)\n",
    "        )\n",
    "\n",
    "\n",
    "class System:\n",
    "    def __init__(self):\n",
    "        self.reactions = []\n",
    "\n",
    "    def add_reaction(self, reaction):\n",
    "        self.reactions.append(reaction)\n",
    "\n",
    "    def __str__(self):\n",
    "        return \"\\n\".join(self.reactions)"
   ]
  },
  {
   "cell_type": "code",
   "execution_count": 2,
   "metadata": {},
   "outputs": [
    {
     "name": "stdout",
     "output_type": "stream",
     "text": [
      "C_6H_{12}O_6 + 6O_2 \\rightarrow 6CO_2 + 6H_2O\n"
     ]
    }
   ],
   "source": [
    "c = Element(\"C\", 12)\n",
    "o = Element(\"O\", 8)\n",
    "h = Element(\"H\", 1)\n",
    "\n",
    "co2 = Molecule(44.01)\n",
    "co2.add_element(c, 1)\n",
    "co2.add_element(o, 2)\n",
    "\n",
    "h2o = Molecule(18.01)\n",
    "h2o.add_element(h, 2)\n",
    "h2o.add_element(o, 1)\n",
    "\n",
    "o2 = Molecule(32.00)\n",
    "o2.add_element(o, 2)\n",
    "\n",
    "glucose = Molecule(180.16)\n",
    "glucose.add_element(c, 6)\n",
    "glucose.add_element(h, 12)\n",
    "glucose.add_element(o, 6)\n",
    "\n",
    "combustion = Reaction()\n",
    "combustion.add_reactant(glucose, 1)\n",
    "combustion.add_reactant(o2, 6)\n",
    "combustion.add_product(co2, 6)\n",
    "combustion.add_product(h2o, 6)\n",
    "\n",
    "print(combustion)"
   ]
  },
  {
   "cell_type": "code",
   "execution_count": 3,
   "metadata": {},
   "outputs": [
    {
     "data": {
      "text/latex": [
       "$\\displaystyle C_6H_{12}O_6 + 6O_2 \\rightarrow 6CO_2 + 6H_2O$"
      ],
      "text/plain": [
       "<IPython.core.display.Math object>"
      ]
     },
     "metadata": {},
     "output_type": "display_data"
    }
   ],
   "source": [
    "from IPython.display import Math, display\n",
    "\n",
    "display(Math(str(combustion)))"
   ]
  },
  {
   "cell_type": "markdown",
   "metadata": {},
   "source": [
    "We could reasonably consider using the LaTeX representation of this as a fileformat for reactions. (Though we need to represent the molecular mass in some way we've not thought of.)\n",
    "\n",
    "We've already shown how to **serialise** the data to this representation.\n",
    "How hard would it be to **deserialise** it?\n",
    "\n",
    "Actually, pretty darn hard.\n",
    "\n",
    "In the wild, such datafiles will have all kinds of complications, and making a hand-coded string parser for such\n",
    "text will be highly problematic. In this lecture, we're going to look at the kind of problems that can arise, and\n",
    "some standard ways to solve them, which will lead us to the idea of **normalisation** in databases.\n",
    "\n",
    "**Note** It is possible to create a structure which does look like such a fluent mathematical representation, which is known as a **Domain Specific Language**. Some information on this is covered in the optional [Domain Specific Languages notebook](10_x0_optional_domain_specific_languages.ipynb)."
   ]
  },
  {
   "cell_type": "markdown",
   "metadata": {},
   "source": [
    "## Non-normal data representations: First normal form."
   ]
  },
  {
   "cell_type": "markdown",
   "metadata": {},
   "source": [
    "Consider the mistakes that someone might make when typing in a reaction in the above format: they could easily, if there are multiple reactions in a system, type glucose in correctly as `C_6H_{12}O_6` the first time, but the second type accidentally type `C_6H_{12}o_6.`\n",
    "\n",
    "The system wouldn't know these are the same molecule, so, for example, if building a mass action model of reaction kinetics, the differential equations would come out wrong. "
   ]
  },
  {
   "cell_type": "markdown",
   "metadata": {},
   "source": [
    "The natural-seeming solution to this is, in your data format, to name each molecule and atom, and consider a representation in terms of CSV files:"
   ]
  },
  {
   "cell_type": "code",
   "execution_count": 4,
   "metadata": {},
   "outputs": [
    {
     "name": "stdout",
     "output_type": "stream",
     "text": [
      "Overwriting molecules.csv\n"
     ]
    }
   ],
   "source": [
    "%%writefile molecules.csv\n",
    "# name, elements, numbers\n",
    "\n",
    "water, H O, 2 1\n",
    "oxygen, O, 2\n",
    "carbon_dioxide, C O, 1 2\n",
    "glucose, C H O, 6 12 6"
   ]
  },
  {
   "cell_type": "code",
   "execution_count": 5,
   "metadata": {},
   "outputs": [
    {
     "name": "stdout",
     "output_type": "stream",
     "text": [
      "Overwriting reactions.csv\n"
     ]
    }
   ],
   "source": [
    "%%writefile reactions.csv\n",
    "\n",
    "# name, reactants, products, reactant_stoichiometries, product_stoichiometries\n",
    "\n",
    "combustion_of_glucose, glucose oxygen, carbon_dioxide water, 1 6, 6 6"
   ]
  },
  {
   "cell_type": "markdown",
   "metadata": {},
   "source": [
    "Writing a parser for these files would be very similar to the earthquake problem that you've already encountered.\n",
    "\n",
    "However, the existence of multiple values in one column indicates that this file format is NOT **first normal form** (1NF).\n",
    "\n",
    "**Note:** _A table is in first normal form if: every column is unique; no rows are duplicated; each column/row intersection contains only one value._"
   ]
  },
  {
   "cell_type": "markdown",
   "metadata": {},
   "source": [
    "It is not uncommon to encounter file-formats that violate 1NF in the wild. The main problem with them is that you will eventually have to deal with the separation character that you picked (`;` in this case) turning up in someone's content and you'll need to work out how to escape it.\n",
    "\n",
    "The art of designing serialisations which work as row-and-column value tables for more complex data structures is the core of database design."
   ]
  },
  {
   "cell_type": "markdown",
   "metadata": {},
   "source": [
    "## Normalising the reaction model - a bad first attempt."
   ]
  },
  {
   "cell_type": "markdown",
   "metadata": {},
   "source": [
    "How could we go about normalising this model. One choice is to list each molecule-element **relation** as a separate table row:"
   ]
  },
  {
   "cell_type": "code",
   "execution_count": 6,
   "metadata": {},
   "outputs": [
    {
     "name": "stdout",
     "output_type": "stream",
     "text": [
      "Overwriting molecules.csv\n"
     ]
    }
   ],
   "source": [
    "%%writefile molecules.csv\n",
    "# name, element, number\n",
    "\n",
    "water, H, 2\n",
    "water, O, 1\n",
    "oxygen, O, 2\n",
    "carbon_dioxide, C, 1\n",
    "carbon_dioxide, O, 2"
   ]
  },
  {
   "cell_type": "markdown",
   "metadata": {},
   "source": [
    "This is fine as far as it goes, but, it falls down as soon as we want to associate another property with a molecule and atom.\n",
    "\n",
    "We could repeat the data each time:"
   ]
  },
  {
   "cell_type": "code",
   "execution_count": 7,
   "metadata": {},
   "outputs": [
    {
     "name": "stdout",
     "output_type": "stream",
     "text": [
      "Overwriting molecules.csv\n"
     ]
    }
   ],
   "source": [
    "%%writefile molecules.csv\n",
    "# name, element, number, molecular_mass, atomic_number\n",
    "\n",
    "water, H, 2, 18.01, 1\n",
    "water, O, 1, 18.01, 8\n",
    "oxygen, O, 2, 32.00, 8"
   ]
  },
  {
   "cell_type": "markdown",
   "metadata": {},
   "source": [
    "The existence of the same piece of information in multiple locations (eg. the `18.01` molecular mass of water) indicates that this file format is NOT **second normal form** (2NF).\n",
    "\n",
    "\n",
    "Furthermore, this would allow our data file to be potentially be self-inconsistent, violating the design principle that each piece of information should be stated only once. A data structure of this type is said to be NOT **second normal form**.\n",
    "\n",
    "**Note:** _A table is in second normal form if: it is in first normal form; none of its attributes depend on any other attribute except the primary key._"
   ]
  },
  {
   "cell_type": "markdown",
   "metadata": {},
   "source": [
    "## Normalising the model - relations and keys"
   ]
  },
  {
   "cell_type": "markdown",
   "metadata": {},
   "source": [
    "So, how do we do this correctly?"
   ]
  },
  {
   "cell_type": "markdown",
   "metadata": {},
   "source": [
    "We need to specify data about each molecule, reaction and atom once, and then specify the **relations** between them."
   ]
  },
  {
   "cell_type": "code",
   "execution_count": 8,
   "metadata": {},
   "outputs": [
    {
     "name": "stdout",
     "output_type": "stream",
     "text": [
      "Overwriting molecules.csv\n"
     ]
    }
   ],
   "source": [
    "%%writefile molecules.csv\n",
    "# name, molecular_mass\n",
    "\n",
    "water, 18.01\n",
    "oxygen, 32.00"
   ]
  },
  {
   "cell_type": "code",
   "execution_count": 9,
   "metadata": {},
   "outputs": [
    {
     "name": "stdout",
     "output_type": "stream",
     "text": [
      "Overwriting atoms.csv\n"
     ]
    }
   ],
   "source": [
    "%%writefile atoms.csv\n",
    "\n",
    "# symbol, atomic number\n",
    "H, 1\n",
    "O, 8\n",
    "C, 6"
   ]
  },
  {
   "cell_type": "code",
   "execution_count": 10,
   "metadata": {},
   "outputs": [
    {
     "name": "stdout",
     "output_type": "stream",
     "text": [
      "Overwriting atoms_in_molecules.csv\n"
     ]
    }
   ],
   "source": [
    "%%writefile atoms_in_molecules.csv\n",
    "\n",
    "# rel_number, molecule, symbol, number\n",
    "0, water, H, 2\n",
    "1, water, O, 1\n",
    "2, oxygen, O, 2"
   ]
  },
  {
   "cell_type": "markdown",
   "metadata": {},
   "source": [
    "This last table is called a **join table** - and is needed whenever we want to specify a \"many-to-many\" relationship.\n",
    "Here, each atom can be in more than one molecule, and each molecule has more than one atom."
   ]
  },
  {
   "cell_type": "markdown",
   "metadata": {},
   "source": [
    "Note each table needs to have a set of columns which taken together form a unique identifier for that row; called a \"key\".\n",
    "If more than one is possible, we choose one and call it a **primary key**.\n",
    "In practice, we normally choose a single column for this: hence the 'rel_number' column, though the tuple {molecule, symbol} here is another **candidate key**."
   ]
  }
 ],
 "metadata": {
  "jekyll": {
   "display_name": "Serialisation and normalisation"
  },
  "kernelspec": {
   "display_name": "Python 3 (ipykernel)",
   "language": "python",
   "name": "python3"
  },
  "language_info": {
   "codemirror_mode": {
    "name": "ipython",
    "version": 3
   },
   "file_extension": ".py",
   "mimetype": "text/x-python",
   "name": "python",
   "nbconvert_exporter": "python",
   "pygments_lexer": "ipython3",
   "version": "3.8.16"
  }
 },
 "nbformat": 4,
 "nbformat_minor": 1
}