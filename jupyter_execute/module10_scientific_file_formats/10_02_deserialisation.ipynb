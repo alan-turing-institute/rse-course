{
 "cells": [
  {
   "cell_type": "markdown",
   "metadata": {},
   "source": [
    "# 10.2 Deserialisation"
   ]
  },
  {
   "cell_type": "markdown",
   "metadata": {},
   "source": [
    "*Estimated time for this notebook: 15 minutes*"
   ]
  },
  {
   "cell_type": "markdown",
   "metadata": {},
   "source": [
    "YAML (a recursive acronym for \"YAML Ain't Markup Language\") is a human-readable data-serialization language.\n",
    "\n",
    "We're going to slightly modify our previous model and look at how to serialise it to YAML."
   ]
  },
  {
   "cell_type": "code",
   "execution_count": 1,
   "metadata": {},
   "outputs": [],
   "source": [
    "class Element:\n",
    "    def __init__(self, symbol):\n",
    "        self.symbol = symbol\n",
    "\n",
    "\n",
    "class Molecule:\n",
    "    def __init__(self):\n",
    "        self.elements = {}  # Map from element to number of that element in the molecule\n",
    "\n",
    "    def add_element(self, element, number):\n",
    "        self.elements[element] = number\n",
    "\n",
    "    def to_struct(self):\n",
    "        return {element.symbol: number for element, number in self.elements.items()}\n",
    "\n",
    "\n",
    "class Reaction:\n",
    "    def __init__(self):\n",
    "        self.reactants = {}  # Map from reactants to stoichiometries\n",
    "        self.products = {}  # Map from products to stoichiometries\n",
    "\n",
    "    def add_reactant(self, reactant, stoichiometry):\n",
    "        self.reactants[reactant] = stoichiometry\n",
    "\n",
    "    def add_product(self, product, stoichiometry):\n",
    "        self.products[product] = stoichiometry\n",
    "\n",
    "    def to_struct(self):\n",
    "        return {\n",
    "            \"reactants\": [x.to_struct() for x in self.reactants],\n",
    "            \"products\": [x.to_struct() for x in self.products],\n",
    "            \"stoichiometries\": list(self.reactants.values())\n",
    "            + list(self.products.values()),\n",
    "        }\n",
    "\n",
    "\n",
    "class System:\n",
    "    def __init__(self):\n",
    "        self.reactions = []\n",
    "\n",
    "    def add_reaction(self, reaction):\n",
    "        self.reactions.append(reaction)\n",
    "\n",
    "    def to_struct(self):\n",
    "        return [x.to_struct() for x in self.reactions]"
   ]
  },
  {
   "cell_type": "code",
   "execution_count": 2,
   "metadata": {},
   "outputs": [
    {
     "data": {
      "text/plain": [
       "[{'reactants': [{'C': 6, 'H': 12, 'O': 6}, {'O': 2}],\n",
       "  'products': [{'C': 1, 'O': 2}, {'H': 2, 'O': 1}],\n",
       "  'stoichiometries': [1, 6, 6, 6]},\n",
       " {'reactants': [{'H': 2}, {'O': 2}],\n",
       "  'products': [{'H': 2, 'O': 1}],\n",
       "  'stoichiometries': [2, 1, 2]}]"
      ]
     },
     "execution_count": 2,
     "metadata": {},
     "output_type": "execute_result"
    }
   ],
   "source": [
    "c = Element(\"C\")\n",
    "o = Element(\"O\")\n",
    "h = Element(\"H\")\n",
    "\n",
    "co2 = Molecule()\n",
    "co2.add_element(c, 1)\n",
    "co2.add_element(o, 2)\n",
    "\n",
    "h2o = Molecule()\n",
    "h2o.add_element(h, 2)\n",
    "h2o.add_element(o, 1)\n",
    "\n",
    "o2 = Molecule()\n",
    "o2.add_element(o, 2)\n",
    "\n",
    "h2 = Molecule()\n",
    "h2.add_element(h, 2)\n",
    "\n",
    "glucose = Molecule()\n",
    "glucose.add_element(c, 6)\n",
    "glucose.add_element(h, 12)\n",
    "glucose.add_element(o, 6)\n",
    "\n",
    "combustion_glucose = Reaction()\n",
    "combustion_glucose.add_reactant(glucose, 1)\n",
    "combustion_glucose.add_reactant(o2, 6)\n",
    "combustion_glucose.add_product(co2, 6)\n",
    "combustion_glucose.add_product(h2o, 6)\n",
    "\n",
    "combustion_hydrogen = Reaction()\n",
    "combustion_hydrogen.add_reactant(h2, 2)\n",
    "combustion_hydrogen.add_reactant(o2, 1)\n",
    "combustion_hydrogen.add_product(h2o, 2)\n",
    "\n",
    "s = System()\n",
    "s.add_reaction(combustion_glucose)\n",
    "s.add_reaction(combustion_hydrogen)\n",
    "\n",
    "s.to_struct()"
   ]
  },
  {
   "cell_type": "code",
   "execution_count": 3,
   "metadata": {},
   "outputs": [
    {
     "name": "stdout",
     "output_type": "stream",
     "text": [
      "- products:\n",
      "  - C: 1\n",
      "    O: 2\n",
      "  - H: 2\n",
      "    O: 1\n",
      "  reactants:\n",
      "  - C: 6\n",
      "    H: 12\n",
      "    O: 6\n",
      "  - O: 2\n",
      "  stoichiometries:\n",
      "  - 1\n",
      "  - 6\n",
      "  - 6\n",
      "  - 6\n",
      "- products:\n",
      "  - H: 2\n",
      "    O: 1\n",
      "  reactants:\n",
      "  - H: 2\n",
      "  - O: 2\n",
      "  stoichiometries:\n",
      "  - 2\n",
      "  - 1\n",
      "  - 2\n",
      "\n"
     ]
    }
   ],
   "source": [
    "import yaml\n",
    "\n",
    "print(yaml.dump(s.to_struct()))"
   ]
  },
  {
   "cell_type": "markdown",
   "metadata": {},
   "source": [
    "# Deserialising non-normal data structures"
   ]
  },
  {
   "cell_type": "markdown",
   "metadata": {},
   "source": [
    "We can see that this data structure, although seemingly \n",
    "sensible, is horribly **non-normal**.\n",
    "\n",
    "* The stoichiometries information requires us to align each one to the corresponding molecule in order.\n",
    "* Each element is described multiple times: we will have to ensure that each mention of `C` comes back to the same constructed element object."
   ]
  },
  {
   "cell_type": "code",
   "execution_count": 4,
   "metadata": {},
   "outputs": [],
   "source": [
    "class YamlDeSerialisingSystem:\n",
    "    def __init__(self):\n",
    "        self.elements = {}\n",
    "        self.molecules = {}\n",
    "\n",
    "    def add_element(self, candidate):\n",
    "        if candidate not in self.elements:\n",
    "            self.elements[candidate] = Element(candidate)\n",
    "        return self.elements[candidate]\n",
    "\n",
    "    def add_molecule(self, candidate):\n",
    "        if tuple(candidate.items()) not in self.molecules:\n",
    "            m = Molecule()\n",
    "            for symbol, number in candidate.items():\n",
    "                m.add_element(self.add_element(symbol), number)\n",
    "            self.molecules[tuple(candidate.items())] = m\n",
    "        return self.molecules[tuple(candidate.items())]\n",
    "\n",
    "    def parse_system(self, system_dict):\n",
    "        system = System()\n",
    "        for reaction in system_dict:\n",
    "            r = Reaction()\n",
    "            stoichiometries = reaction[\"stoichiometries\"]\n",
    "            for molecule in reaction[\"reactants\"]:\n",
    "                r.add_reactant(self.add_molecule(molecule), stoichiometries.pop(0))\n",
    "            for molecule in reaction[\"products\"]:\n",
    "                r.add_product(self.add_molecule(molecule), stoichiometries.pop(0))\n",
    "            system.add_reaction(r)\n",
    "        return system"
   ]
  },
  {
   "cell_type": "code",
   "execution_count": 5,
   "metadata": {},
   "outputs": [],
   "source": [
    "de_serialiser = YamlDeSerialisingSystem()\n",
    "round_trip = de_serialiser.parse_system(s.to_struct())"
   ]
  },
  {
   "cell_type": "code",
   "execution_count": 6,
   "metadata": {},
   "outputs": [
    {
     "data": {
      "text/plain": [
       "[{'reactants': [{'C': 6, 'H': 12, 'O': 6}, {'O': 2}],\n",
       "  'products': [{'C': 1, 'O': 2}, {'H': 2, 'O': 1}],\n",
       "  'stoichiometries': [1, 6, 6, 6]},\n",
       " {'reactants': [{'H': 2}, {'O': 2}],\n",
       "  'products': [{'H': 2, 'O': 1}],\n",
       "  'stoichiometries': [2, 1, 2]}]"
      ]
     },
     "execution_count": 6,
     "metadata": {},
     "output_type": "execute_result"
    }
   ],
   "source": [
    "round_trip.to_struct()"
   ]
  },
  {
   "cell_type": "code",
   "execution_count": 7,
   "metadata": {},
   "outputs": [
    {
     "data": {
      "text/plain": [
       "{'C': <__main__.Element at 0x7fe1fc6a9a90>,\n",
       " 'H': <__main__.Element at 0x7fe1fc6a9730>,\n",
       " 'O': <__main__.Element at 0x7fe1fc6a9ac0>}"
      ]
     },
     "execution_count": 7,
     "metadata": {},
     "output_type": "execute_result"
    }
   ],
   "source": [
    "de_serialiser.elements"
   ]
  },
  {
   "cell_type": "code",
   "execution_count": 8,
   "metadata": {},
   "outputs": [
    {
     "data": {
      "text/plain": [
       "{(('C', 6), ('H', 12), ('O', 6)): <__main__.Molecule at 0x7fe1fc6a9700>,\n",
       " (('O', 2),): <__main__.Molecule at 0x7fe1fc6a9a00>,\n",
       " (('C', 1), ('O', 2)): <__main__.Molecule at 0x7fe1fc6a9a60>,\n",
       " (('H', 2), ('O', 1)): <__main__.Molecule at 0x7fe1fc6fdd60>,\n",
       " (('H', 2),): <__main__.Molecule at 0x7fe1fc6fd490>}"
      ]
     },
     "execution_count": 8,
     "metadata": {},
     "output_type": "execute_result"
    }
   ],
   "source": [
    "de_serialiser.molecules"
   ]
  },
  {
   "cell_type": "code",
   "execution_count": 9,
   "metadata": {},
   "outputs": [
    {
     "data": {
      "text/plain": [
       "{'O': 2}"
      ]
     },
     "execution_count": 9,
     "metadata": {},
     "output_type": "execute_result"
    }
   ],
   "source": [
    "list(round_trip.reactions[0].reactants.keys())[1].to_struct()"
   ]
  },
  {
   "cell_type": "code",
   "execution_count": 10,
   "metadata": {},
   "outputs": [
    {
     "data": {
      "text/plain": [
       "{'O': 2}"
      ]
     },
     "execution_count": 10,
     "metadata": {},
     "output_type": "execute_result"
    }
   ],
   "source": [
    "list(round_trip.reactions[1].reactants.keys())[1].to_struct()"
   ]
  },
  {
   "cell_type": "markdown",
   "metadata": {},
   "source": [
    "In order to de-serialise this data, we had to construct a unique key to distinguish repeated mentions of the same identical item.\n",
    "\n",
    "Effectively, we ended up choosing primary keys for our datatypes:"
   ]
  },
  {
   "cell_type": "code",
   "execution_count": 11,
   "metadata": {},
   "outputs": [
    {
     "data": {
      "text/plain": [
       "[(('C', 6), ('H', 12), ('O', 6)),\n",
       " (('O', 2),),\n",
       " (('C', 1), ('O', 2)),\n",
       " (('H', 2), ('O', 1)),\n",
       " (('H', 2),)]"
      ]
     },
     "execution_count": 11,
     "metadata": {},
     "output_type": "execute_result"
    }
   ],
   "source": [
    "list(de_serialiser.molecules.keys())"
   ]
  },
  {
   "cell_type": "markdown",
   "metadata": {},
   "source": [
    "Remembering that a combination of columns uniquely defining an item is a valid  key - there is a key correspondence between a candidate key in the database sense and a \"hashable\" data structure that can be used to a key in a `dict`. \n",
    "\n",
    "Note that to make this example even reasonably doable, we had to exclude additional data from the objects (mass, rate etc)"
   ]
  },
  {
   "cell_type": "markdown",
   "metadata": {},
   "source": [
    "# Normalising a YAML structure"
   ]
  },
  {
   "cell_type": "markdown",
   "metadata": {},
   "source": [
    "To make this structure easier to de-serialise, we can make a normalised file-format, by defining primary keys (hashable types) for each entity on write:"
   ]
  },
  {
   "cell_type": "code",
   "execution_count": 12,
   "metadata": {},
   "outputs": [],
   "source": [
    "class YamlSavingSystem:\n",
    "    def __init__(self):\n",
    "        self.elements = set()\n",
    "        self.molecules = set()\n",
    "\n",
    "    def element_key(self, element):\n",
    "        return element.symbol\n",
    "\n",
    "    def molecule_key(self, molecule):\n",
    "        key = \"\"\n",
    "        for element, number in molecule.elements.items():\n",
    "            key += element.symbol\n",
    "            key += str(number)\n",
    "        return key\n",
    "\n",
    "    def save(self, system):\n",
    "        for reaction in system.reactions:\n",
    "            for molecule in reaction.reactants:\n",
    "                self.molecules.add(molecule)\n",
    "                for element in molecule.elements:\n",
    "                    self.elements.add(element)\n",
    "            for molecule in reaction.products:\n",
    "                self.molecules.add(molecule)\n",
    "                for element in molecule.elements:\n",
    "                    self.elements.add(element)\n",
    "\n",
    "        result = {\n",
    "            \"elements\": [self.element_key(element) for element in self.elements],\n",
    "            \"molecules\": {\n",
    "                self.molecule_key(molecule): {\n",
    "                    self.element_key(element): number\n",
    "                    for element, number in molecule.elements.items()\n",
    "                }\n",
    "                for molecule in self.molecules\n",
    "            },\n",
    "            \"reactions\": [\n",
    "                {\n",
    "                    \"reactants\": {\n",
    "                        self.molecule_key(reactant): stoich\n",
    "                        for reactant, stoich in reaction.reactants.items()\n",
    "                    },\n",
    "                    \"products\": {\n",
    "                        self.molecule_key(product): stoich\n",
    "                        for product, stoich in reaction.products.items()\n",
    "                    },\n",
    "                }\n",
    "                for reaction in system.reactions\n",
    "            ],\n",
    "        }\n",
    "        return result"
   ]
  },
  {
   "cell_type": "code",
   "execution_count": 13,
   "metadata": {},
   "outputs": [
    {
     "name": "stdout",
     "output_type": "stream",
     "text": [
      "elements:\n",
      "- O\n",
      "- C\n",
      "- H\n",
      "molecules:\n",
      "  C1O2:\n",
      "    C: 1\n",
      "    O: 2\n",
      "  C6H12O6:\n",
      "    C: 6\n",
      "    H: 12\n",
      "    O: 6\n",
      "  H2:\n",
      "    H: 2\n",
      "  H2O1:\n",
      "    H: 2\n",
      "    O: 1\n",
      "  O2:\n",
      "    O: 2\n",
      "reactions:\n",
      "- products:\n",
      "    C1O2: 6\n",
      "    H2O1: 6\n",
      "  reactants:\n",
      "    C6H12O6: 1\n",
      "    O2: 6\n",
      "- products:\n",
      "    H2O1: 2\n",
      "  reactants:\n",
      "    H2: 2\n",
      "    O2: 1\n",
      "\n"
     ]
    }
   ],
   "source": [
    "saver = YamlSavingSystem()\n",
    "print(yaml.dump(saver.save(s)))"
   ]
  },
  {
   "cell_type": "markdown",
   "metadata": {},
   "source": [
    "We can see that to make an easily parsed file format, without having to\n",
    "guess-recognise repeated entities based on their names\n",
    "(which is highly subject to data entry error), we effectively recover\n",
    "the same tables as found for the database model.\n",
    "\n",
    "An alternative is to use a simple integer for such a primary key:"
   ]
  },
  {
   "cell_type": "code",
   "execution_count": 14,
   "metadata": {},
   "outputs": [],
   "source": [
    "class YamlIntegerKeySavingSystem:\n",
    "    def __init__(self):\n",
    "        self.elements = {}\n",
    "        self.molecules = {}\n",
    "\n",
    "    def add_element(self, element):\n",
    "        if element not in self.elements:\n",
    "            self.elements[element] = len(self.elements)\n",
    "        return self.elements[element]\n",
    "\n",
    "    def add_molecule(self, molecule):\n",
    "        if molecule not in self.molecules:\n",
    "            self.molecules[molecule] = len(self.molecules)\n",
    "        return self.molecules[molecule]\n",
    "\n",
    "    def element_key(self, element):\n",
    "        return self.elements[element]\n",
    "\n",
    "    def molecule_key(self, molecule):\n",
    "        return self.molecules[molecule]\n",
    "\n",
    "    def save(self, system):\n",
    "        for reaction in system.reactions:\n",
    "            for molecule in reaction.reactants:\n",
    "                self.add_molecule(molecule)\n",
    "                for element in molecule.elements:\n",
    "                    self.add_element(element)\n",
    "            for molecule in reaction.products:\n",
    "                self.add_molecule(molecule)\n",
    "                for element in molecule.elements:\n",
    "                    self.add_element(element)\n",
    "\n",
    "        result = {\n",
    "            \"elements\": [element.symbol for element in self.elements],\n",
    "            \"molecules\": {\n",
    "                self.molecule_key(molecule): {\n",
    "                    self.element_key(element): number\n",
    "                    for element, number in molecule.elements.items()\n",
    "                }\n",
    "                for molecule in self.molecules\n",
    "            },\n",
    "            \"reactions\": [\n",
    "                {\n",
    "                    \"reactants\": {\n",
    "                        self.molecule_key(reactant): stoich\n",
    "                        for reactant, stoich in reaction.reactants.items()\n",
    "                    },\n",
    "                    \"products\": {\n",
    "                        self.molecule_key(product): stoich\n",
    "                        for product, stoich in reaction.products.items()\n",
    "                    },\n",
    "                }\n",
    "                for reaction in system.reactions\n",
    "            ],\n",
    "        }\n",
    "        return result"
   ]
  },
  {
   "cell_type": "code",
   "execution_count": 15,
   "metadata": {},
   "outputs": [
    {
     "name": "stdout",
     "output_type": "stream",
     "text": [
      "elements:\n",
      "- C\n",
      "- H\n",
      "- O\n",
      "molecules:\n",
      "  0:\n",
      "    0: 6\n",
      "    1: 12\n",
      "    2: 6\n",
      "  1:\n",
      "    2: 2\n",
      "  2:\n",
      "    0: 1\n",
      "    2: 2\n",
      "  3:\n",
      "    1: 2\n",
      "    2: 1\n",
      "  4:\n",
      "    1: 2\n",
      "reactions:\n",
      "- products:\n",
      "    2: 6\n",
      "    3: 6\n",
      "  reactants:\n",
      "    0: 1\n",
      "    1: 6\n",
      "- products:\n",
      "    3: 2\n",
      "  reactants:\n",
      "    1: 1\n",
      "    4: 2\n",
      "\n"
     ]
    }
   ],
   "source": [
    "saver = YamlIntegerKeySavingSystem()\n",
    "print(yaml.dump(saver.save(s)))"
   ]
  },
  {
   "cell_type": "markdown",
   "metadata": {},
   "source": [
    "## Reference counting"
   ]
  },
  {
   "cell_type": "markdown",
   "metadata": {},
   "source": [
    "Using a dictionary to determine the integer keys for objects is a bit clunky.\n",
    "\n",
    "A better approach is to use counted objects either via a static member or by using a factory pattern:"
   ]
  },
  {
   "cell_type": "code",
   "execution_count": 16,
   "metadata": {},
   "outputs": [],
   "source": [
    "class Element:\n",
    "    def __init__(self, symbol, id):\n",
    "        self.symbol = symbol\n",
    "        self.id = id\n",
    "\n",
    "\n",
    "class Molecule:\n",
    "    def __init__(self, id):\n",
    "        self.elements = {}  # Map from element to number of that element in the molecule\n",
    "        self.id = id\n",
    "\n",
    "    def add_element(self, element, number):\n",
    "        self.elements[element] = number\n",
    "\n",
    "    def to_struct(self):\n",
    "        return {element.symbol: number for element, number in self.elements.items()}\n",
    "\n",
    "\n",
    "class Reaction:\n",
    "    def __init__(self):\n",
    "        self.reactants = {}  # Map from reactants to stoichiometries\n",
    "        self.products = {}  # Map from products to stoichiometries\n",
    "\n",
    "    def add_reactant(self, reactant, stoichiometry):\n",
    "        self.reactants[reactant] = stoichiometry\n",
    "\n",
    "    def add_product(self, product, stoichiometry):\n",
    "        self.products[product] = stoichiometry\n",
    "\n",
    "    def to_struct(self):\n",
    "        return {\n",
    "            \"reactants\": [x.to_struct() for x in self.reactants],\n",
    "            \"products\": [x.to_struct() for x in self.products],\n",
    "            \"stoichiometries\": list(self.reactants.values())\n",
    "            + list(self.products.values()),\n",
    "        }\n",
    "\n",
    "\n",
    "class System:  # This will be our factory\n",
    "    def __init__(self):\n",
    "        self.reactions = []\n",
    "        self.elements = []\n",
    "        self.molecules = []\n",
    "\n",
    "    def add_element(self, symbol):\n",
    "        new_element = Element(symbol, len(self.elements))\n",
    "        self.elements.append(new_element)\n",
    "        return new_element\n",
    "\n",
    "    def add_molecule(self):\n",
    "        new_molecule = Molecule(len(self.molecules))\n",
    "        self.molecules.append(new_molecule)\n",
    "        return new_molecule\n",
    "\n",
    "    def add_reaction(self):\n",
    "        new_reaction = Reaction()\n",
    "        self.reactions.append(new_reaction)\n",
    "        return new_reaction\n",
    "\n",
    "    def save(self):\n",
    "\n",
    "        result = {\n",
    "            \"elements\": [element.symbol for element in self.elements],\n",
    "            \"molecules\": {\n",
    "                molecule.id: {\n",
    "                    element.id: number for element, number in molecule.elements.items()\n",
    "                }\n",
    "                for molecule in self.molecules\n",
    "            },\n",
    "            \"reactions\": [\n",
    "                {\n",
    "                    \"reactants\": {\n",
    "                        reactant.id: stoich\n",
    "                        for reactant, stoich in reaction.reactants.items()\n",
    "                    },\n",
    "                    \"products\": {\n",
    "                        product.id: stoich\n",
    "                        for product, stoich in reaction.products.items()\n",
    "                    },\n",
    "                }\n",
    "                for reaction in self.reactions\n",
    "            ],\n",
    "        }\n",
    "\n",
    "        return result"
   ]
  },
  {
   "cell_type": "code",
   "execution_count": 17,
   "metadata": {},
   "outputs": [],
   "source": [
    "s2 = System()\n",
    "\n",
    "c = s2.add_element(\"C\")\n",
    "o = s2.add_element(\"O\")\n",
    "h = s2.add_element(\"H\")\n",
    "\n",
    "co2 = s2.add_molecule()\n",
    "co2.add_element(c, 1)\n",
    "co2.add_element(o, 2)\n",
    "\n",
    "h2o = s2.add_molecule()\n",
    "h2o.add_element(h, 2)\n",
    "h2o.add_element(o, 1)\n",
    "\n",
    "o2 = s2.add_molecule()\n",
    "o2.add_element(o, 2)\n",
    "\n",
    "h2 = s2.add_molecule()\n",
    "h2.add_element(h, 2)\n",
    "\n",
    "glucose = s2.add_molecule()\n",
    "glucose.add_element(c, 6)\n",
    "glucose.add_element(h, 12)\n",
    "glucose.add_element(o, 6)\n",
    "\n",
    "combustion_glucose = s2.add_reaction()\n",
    "combustion_glucose.add_reactant(glucose, 1)\n",
    "combustion_glucose.add_reactant(o2, 6)\n",
    "combustion_glucose.add_product(co2, 6)\n",
    "combustion_glucose.add_product(h2o, 6)"
   ]
  },
  {
   "cell_type": "code",
   "execution_count": 18,
   "metadata": {},
   "outputs": [],
   "source": [
    "combustion_hydrogen = s2.add_reaction()\n",
    "combustion_hydrogen.add_reactant(h2, 2)\n",
    "combustion_hydrogen.add_reactant(o2, 1)\n",
    "combustion_hydrogen.add_product(h2o, 2)"
   ]
  },
  {
   "cell_type": "code",
   "execution_count": 19,
   "metadata": {},
   "outputs": [
    {
     "data": {
      "text/plain": [
       "{'elements': ['C', 'O', 'H'],\n",
       " 'molecules': {0: {0: 1, 1: 2},\n",
       "  1: {2: 2, 1: 1},\n",
       "  2: {1: 2},\n",
       "  3: {2: 2},\n",
       "  4: {0: 6, 2: 12, 1: 6}},\n",
       " 'reactions': [{'reactants': {4: 1, 2: 6}, 'products': {0: 6, 1: 6}},\n",
       "  {'reactants': {3: 2, 2: 1}, 'products': {1: 2}}]}"
      ]
     },
     "execution_count": 19,
     "metadata": {},
     "output_type": "execute_result"
    }
   ],
   "source": [
    "s2.save()"
   ]
  },
  {
   "cell_type": "code",
   "execution_count": 20,
   "metadata": {
    "scrolled": true
   },
   "outputs": [
    {
     "name": "stdout",
     "output_type": "stream",
     "text": [
      "elements:\n",
      "- C\n",
      "- O\n",
      "- H\n",
      "molecules:\n",
      "  0:\n",
      "    0: 1\n",
      "    1: 2\n",
      "  1:\n",
      "    1: 1\n",
      "    2: 2\n",
      "  2:\n",
      "    1: 2\n",
      "  3:\n",
      "    2: 2\n",
      "  4:\n",
      "    0: 6\n",
      "    1: 6\n",
      "    2: 12\n",
      "reactions:\n",
      "- products:\n",
      "    0: 6\n",
      "    1: 6\n",
      "  reactants:\n",
      "    2: 6\n",
      "    4: 1\n",
      "- products:\n",
      "    1: 2\n",
      "  reactants:\n",
      "    2: 1\n",
      "    3: 2\n",
      "\n"
     ]
    }
   ],
   "source": [
    "import yaml\n",
    "\n",
    "print(yaml.dump(s2.save()))"
   ]
  }
 ],
 "metadata": {
  "jekyll": {
   "display_name": "Deserialisation"
  },
  "kernelspec": {
   "display_name": "Python 3 (ipykernel)",
   "language": "python",
   "name": "python3"
  },
  "language_info": {
   "codemirror_mode": {
    "name": "ipython",
    "version": 3
   },
   "file_extension": ".py",
   "mimetype": "text/x-python",
   "name": "python",
   "nbconvert_exporter": "python",
   "pygments_lexer": "ipython3",
   "version": "3.8.14"
  }
 },
 "nbformat": 4,
 "nbformat_minor": 1
}