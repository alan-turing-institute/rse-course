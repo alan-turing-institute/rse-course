{
 "cells": [
  {
   "cell_type": "markdown",
   "metadata": {},
   "source": [
    "# 10.3 Binary formats"
   ]
  },
  {
   "cell_type": "markdown",
   "metadata": {},
   "source": [
    "*Estimated time for this notebook: 15 minutes*"
   ]
  },
  {
   "cell_type": "markdown",
   "metadata": {},
   "source": [
    "## Binary file formats"
   ]
  },
  {
   "cell_type": "markdown",
   "metadata": {},
   "source": [
    "Now we're getting toward a numerically-based data structure, using integers for object keys, we should think about binary serialisation.\n",
    "\n",
    "Binary file formats are much smaller than human-readable text based formats, so important when handling really big datasets.\n",
    "\n",
    "One can compress a textual file format, of course, and with good compression algorithms this will be similar in size to the binary file.\n",
    "However, this has performance implications.\n",
    "\n",
    "A hand-designed binary format is fast and small, at the loss of human readability."
   ]
  },
  {
   "cell_type": "markdown",
   "metadata": {},
   "source": [
    "Let's remind ourselves of the model we have been using previously."
   ]
  },
  {
   "cell_type": "code",
   "execution_count": 1,
   "metadata": {},
   "outputs": [],
   "source": [
    "class Element:\n",
    "    def __init__(self, symbol, id):\n",
    "        self.symbol = symbol\n",
    "        self.id = id\n",
    "\n",
    "\n",
    "class Molecule:\n",
    "    def __init__(self, id):\n",
    "        self.elements = {}\n",
    "        self.id = id\n",
    "\n",
    "    def add_element(self, element, number):\n",
    "        self.elements[element] = number\n",
    "\n",
    "    def to_struct(self):\n",
    "        return {element.symbol: number for element, number in self.elements.items()}\n",
    "\n",
    "\n",
    "class Reaction:\n",
    "    def __init__(self):\n",
    "        self.reactants = {}\n",
    "        self.products = {}\n",
    "\n",
    "    def add_reactant(self, reactant, stoichiometry):\n",
    "        self.reactants[reactant] = stoichiometry\n",
    "\n",
    "    def add_product(self, product, stoichiometry):\n",
    "        self.products[product] = stoichiometry\n",
    "\n",
    "    def to_struct(self):\n",
    "        return {\n",
    "            \"reactants\": [x.to_struct() for x in self.reactants],\n",
    "            \"products\": [x.to_struct() for x in self.products],\n",
    "            \"stoichiometries\": list(self.reactants.values())\n",
    "            + list(self.products.values()),\n",
    "        }\n",
    "\n",
    "\n",
    "class System:\n",
    "    def __init__(self):\n",
    "        self.reactions = []\n",
    "        self.elements = []\n",
    "        self.molecules = []\n",
    "\n",
    "    def add_element(self, symbol):\n",
    "        new_element = Element(symbol, len(self.elements))\n",
    "        self.elements.append(new_element)\n",
    "        return new_element\n",
    "\n",
    "    def add_molecule(self):\n",
    "        new_molecule = Molecule(len(self.molecules))\n",
    "        self.molecules.append(new_molecule)\n",
    "        return new_molecule\n",
    "\n",
    "    def add_reaction(self):\n",
    "        new_reaction = Reaction()\n",
    "        self.reactions.append(new_reaction)\n",
    "        return new_reaction\n",
    "\n",
    "    def save(self):\n",
    "\n",
    "        result = {\n",
    "            \"elements\": [element.symbol for element in self.elements],\n",
    "            \"molecules\": {\n",
    "                molecule.id: {\n",
    "                    element.id: number for element, number in molecule.elements.items()\n",
    "                }\n",
    "                for molecule in self.molecules\n",
    "            },\n",
    "            \"reactions\": [\n",
    "                {\n",
    "                    \"reactants\": {\n",
    "                        reactant.id: stoich\n",
    "                        for reactant, stoich in reaction.reactants.items()\n",
    "                    },\n",
    "                    \"products\": {\n",
    "                        product.id: stoich\n",
    "                        for product, stoich in reaction.products.items()\n",
    "                    },\n",
    "                }\n",
    "                for reaction in self.reactions\n",
    "            ],\n",
    "        }\n",
    "\n",
    "        return result"
   ]
  },
  {
   "cell_type": "code",
   "execution_count": 2,
   "metadata": {},
   "outputs": [],
   "source": [
    "s = System()\n",
    "\n",
    "c = s.add_element(\"C\")\n",
    "o = s.add_element(\"O\")\n",
    "h = s.add_element(\"H\")\n",
    "\n",
    "co2 = s.add_molecule()\n",
    "co2.add_element(c, 1)\n",
    "co2.add_element(o, 2)\n",
    "\n",
    "h2o = s.add_molecule()\n",
    "h2o.add_element(h, 2)\n",
    "h2o.add_element(o, 1)\n",
    "\n",
    "o2 = s.add_molecule()\n",
    "o2.add_element(o, 2)\n",
    "\n",
    "h2 = s.add_molecule()\n",
    "h2.add_element(h, 2)\n",
    "\n",
    "glucose = s.add_molecule()\n",
    "glucose.add_element(c, 6)\n",
    "glucose.add_element(h, 12)\n",
    "glucose.add_element(o, 6)\n",
    "\n",
    "combustion_glucose = s.add_reaction()\n",
    "combustion_glucose.add_reactant(glucose, 1)\n",
    "combustion_glucose.add_reactant(o2, 6)\n",
    "combustion_glucose.add_product(co2, 6)\n",
    "combustion_glucose.add_product(h2o, 6)"
   ]
  },
  {
   "cell_type": "code",
   "execution_count": 3,
   "metadata": {},
   "outputs": [],
   "source": [
    "combustion_hydrogen = s.add_reaction()\n",
    "combustion_hydrogen.add_reactant(h2, 2)\n",
    "combustion_hydrogen.add_reactant(o2, 1)\n",
    "combustion_hydrogen.add_product(h2o, 2)"
   ]
  },
  {
   "cell_type": "markdown",
   "metadata": {},
   "source": [
    "The problem with binary file formats, is that, lacking complex data structures, one needs to supply the *length* of an item before that item:"
   ]
  },
  {
   "cell_type": "code",
   "execution_count": 4,
   "metadata": {},
   "outputs": [],
   "source": [
    "class FakeBinarySavingSystem:\n",
    "    # Pretend binary-style writing to a list to make it easier to read at first.\n",
    "    def save(self, system, buffer):\n",
    "        buffer.append(len(system.elements))\n",
    "        for element in system.elements:\n",
    "            buffer.append(element.symbol)\n",
    "\n",
    "        buffer.append(len(system.molecules))\n",
    "        for molecule in system.molecules:\n",
    "            buffer.append(len(molecule.elements))\n",
    "            for element, number in molecule.elements.items():\n",
    "                buffer.append(element.id)\n",
    "                buffer.append(number)\n",
    "\n",
    "        buffer.append(len(system.reactions))\n",
    "        for reaction in system.reactions:\n",
    "            buffer.append(len(reaction.reactants))\n",
    "            for reactant, stoich in reaction.reactants.items():\n",
    "                buffer.append(reactant.id)\n",
    "                buffer.append(stoich)\n",
    "            buffer.append(len(reaction.products))\n",
    "            for product, stoich in reaction.products.items():\n",
    "                buffer.append(product.id)\n",
    "                buffer.append(stoich)"
   ]
  },
  {
   "cell_type": "code",
   "execution_count": 5,
   "metadata": {},
   "outputs": [],
   "source": [
    "characterarray = []\n",
    "FakeBinarySavingSystem().save(s, characterarray)"
   ]
  },
  {
   "cell_type": "code",
   "execution_count": 6,
   "metadata": {},
   "outputs": [
    {
     "data": {
      "text/plain": [
       "[3,\n",
       " 'C',\n",
       " 'O',\n",
       " 'H',\n",
       " 5,\n",
       " 2,\n",
       " 0,\n",
       " 1,\n",
       " 1,\n",
       " 2,\n",
       " 2,\n",
       " 2,\n",
       " 2,\n",
       " 1,\n",
       " 1,\n",
       " 1,\n",
       " 1,\n",
       " 2,\n",
       " 1,\n",
       " 2,\n",
       " 2,\n",
       " 3,\n",
       " 0,\n",
       " 6,\n",
       " 2,\n",
       " 12,\n",
       " 1,\n",
       " 6,\n",
       " 2,\n",
       " 2,\n",
       " 4,\n",
       " 1,\n",
       " 2,\n",
       " 6,\n",
       " 2,\n",
       " 0,\n",
       " 6,\n",
       " 1,\n",
       " 6,\n",
       " 2,\n",
       " 3,\n",
       " 2,\n",
       " 2,\n",
       " 1,\n",
       " 1,\n",
       " 1,\n",
       " 2]"
      ]
     },
     "execution_count": 6,
     "metadata": {},
     "output_type": "execute_result"
    }
   ],
   "source": [
    "characterarray"
   ]
  },
  {
   "cell_type": "markdown",
   "metadata": {},
   "source": [
    "Deserialisation is left **as an exercise for the reader** :)."
   ]
  },
  {
   "cell_type": "markdown",
   "metadata": {},
   "source": [
    "## Endian-robust binary file formats"
   ]
  },
  {
   "cell_type": "markdown",
   "metadata": {},
   "source": [
    "Having prepared our data as a sequence of data which can be recorded in a single byte,\n",
    "we might think a binary file format on disk is as simple as saving\n",
    "each number in one byte:"
   ]
  },
  {
   "cell_type": "code",
   "execution_count": 7,
   "metadata": {},
   "outputs": [
    {
     "data": {
      "text/plain": [
       "[3,\n",
       " 67,\n",
       " 79,\n",
       " 72,\n",
       " 5,\n",
       " 2,\n",
       " 0,\n",
       " 1,\n",
       " 1,\n",
       " 2,\n",
       " 2,\n",
       " 2,\n",
       " 2,\n",
       " 1,\n",
       " 1,\n",
       " 1,\n",
       " 1,\n",
       " 2,\n",
       " 1,\n",
       " 2,\n",
       " 2,\n",
       " 3,\n",
       " 0,\n",
       " 6,\n",
       " 2,\n",
       " 12,\n",
       " 1,\n",
       " 6,\n",
       " 2,\n",
       " 2,\n",
       " 4,\n",
       " 1,\n",
       " 2,\n",
       " 6,\n",
       " 2,\n",
       " 0,\n",
       " 6,\n",
       " 1,\n",
       " 6,\n",
       " 2,\n",
       " 3,\n",
       " 2,\n",
       " 2,\n",
       " 1,\n",
       " 1,\n",
       " 1,\n",
       " 2]"
      ]
     },
     "execution_count": 7,
     "metadata": {},
     "output_type": "execute_result"
    }
   ],
   "source": [
    "# First, turn symbol characters to equivalent integers (ascii)\n",
    "intarray = [x.encode(\"ascii\")[0] if isinstance(x, str) else x for x in characterarray]\n",
    "intarray"
   ]
  },
  {
   "cell_type": "code",
   "execution_count": 8,
   "metadata": {},
   "outputs": [
    {
     "data": {
      "text/plain": [
       "bytearray(b'\\x03COH\\x05\\x02\\x00\\x01\\x01\\x02\\x02\\x02\\x02\\x01\\x01\\x01\\x01\\x02\\x01\\x02\\x02\\x03\\x00\\x06\\x02\\x0c\\x01\\x06\\x02\\x02\\x04\\x01\\x02\\x06\\x02\\x00\\x06\\x01\\x06\\x02\\x03\\x02\\x02\\x01\\x01\\x01\\x02')"
      ]
     },
     "execution_count": 8,
     "metadata": {},
     "output_type": "execute_result"
    }
   ],
   "source": [
    "bytearray(intarray)"
   ]
  },
  {
   "cell_type": "code",
   "execution_count": 9,
   "metadata": {},
   "outputs": [],
   "source": [
    "with open(\"system.mol\", \"wb\") as binfile:\n",
    "    binfile.write(bytearray(intarray))"
   ]
  },
  {
   "cell_type": "markdown",
   "metadata": {},
   "source": [
    "However, this misses out on an unfortunate problem if we end up with large enough numbers to need more than one byte per integer, or we want to represent floats: different computer designs will put the most-significant bytes of a multi-byte integer or float either at the beginning ('big endian' systems) or at the end ('little endian' systems)."
   ]
  },
  {
   "cell_type": "markdown",
   "metadata": {},
   "source": [
    "To get around this, we need to use a portable standard for making binary files.\n",
    "\n",
    "One possible choice is **XDR** (standing for eXternal Data Representation). XDR is a standard data serialization format that accounts for endian differences between systems."
   ]
  },
  {
   "cell_type": "code",
   "execution_count": 10,
   "metadata": {},
   "outputs": [],
   "source": [
    "import xdrlib\n",
    "\n",
    "\n",
    "class XDRSavingSystem(System):\n",
    "    def __init__(self, system):\n",
    "        super().__init__()\n",
    "        # Shallow Copy constructor\n",
    "        self.elements = system.elements\n",
    "        self.reactions = system.reactions\n",
    "        self.molecules = system.molecules\n",
    "        self.buffer = xdrlib.Packer()\n",
    "\n",
    "    def _pack_pair(self, item):\n",
    "        self.buffer.pack_int(item[0].id)\n",
    "        self.buffer.pack_int(item[1])\n",
    "\n",
    "    def _pack_molecule(self, mol):\n",
    "        self.buffer.pack_array(mol.elements.items(), self._pack_pair)\n",
    "\n",
    "    def _pack_reaction(self, reaction):\n",
    "        self.buffer.pack_array(reaction.reactants.items(), self._pack_pair)\n",
    "        self.buffer.pack_array(reaction.products.items(), self._pack_pair)\n",
    "\n",
    "    def save(self):\n",
    "        el_symbols = list(map(lambda x: x.symbol.encode(\"utf-8\"), self.elements))\n",
    "        # Note that pack_array AUTOMATICALLY packs the length of the array first!\n",
    "        self.buffer.pack_array(el_symbols, self.buffer.pack_string)\n",
    "        self.buffer.pack_array(self.molecules, self._pack_molecule)\n",
    "        self.buffer.pack_array(self.reactions, self._pack_reaction)\n",
    "        return self.buffer"
   ]
  },
  {
   "cell_type": "code",
   "execution_count": 11,
   "metadata": {},
   "outputs": [],
   "source": [
    "xdrsys = XDRSavingSystem(s)"
   ]
  },
  {
   "cell_type": "code",
   "execution_count": 12,
   "metadata": {},
   "outputs": [
    {
     "data": {
      "text/plain": [
       "b'\\x00\\x00\\x00\\x03\\x00\\x00\\x00\\x01C\\x00\\x00\\x00\\x00\\x00\\x00\\x01O\\x00\\x00\\x00\\x00\\x00\\x00\\x01H\\x00\\x00\\x00\\x00\\x00\\x00\\x05\\x00\\x00\\x00\\x02\\x00\\x00\\x00\\x00\\x00\\x00\\x00\\x01\\x00\\x00\\x00\\x01\\x00\\x00\\x00\\x02\\x00\\x00\\x00\\x02\\x00\\x00\\x00\\x02\\x00\\x00\\x00\\x02\\x00\\x00\\x00\\x01\\x00\\x00\\x00\\x01\\x00\\x00\\x00\\x01\\x00\\x00\\x00\\x01\\x00\\x00\\x00\\x02\\x00\\x00\\x00\\x01\\x00\\x00\\x00\\x02\\x00\\x00\\x00\\x02\\x00\\x00\\x00\\x03\\x00\\x00\\x00\\x00\\x00\\x00\\x00\\x06\\x00\\x00\\x00\\x02\\x00\\x00\\x00\\x0c\\x00\\x00\\x00\\x01\\x00\\x00\\x00\\x06\\x00\\x00\\x00\\x02\\x00\\x00\\x00\\x02\\x00\\x00\\x00\\x04\\x00\\x00\\x00\\x01\\x00\\x00\\x00\\x02\\x00\\x00\\x00\\x06\\x00\\x00\\x00\\x02\\x00\\x00\\x00\\x00\\x00\\x00\\x00\\x06\\x00\\x00\\x00\\x01\\x00\\x00\\x00\\x06\\x00\\x00\\x00\\x02\\x00\\x00\\x00\\x03\\x00\\x00\\x00\\x02\\x00\\x00\\x00\\x02\\x00\\x00\\x00\\x01\\x00\\x00\\x00\\x01\\x00\\x00\\x00\\x01\\x00\\x00\\x00\\x02'"
      ]
     },
     "execution_count": 12,
     "metadata": {},
     "output_type": "execute_result"
    }
   ],
   "source": [
    "xdrbuffer = xdrsys.save()\n",
    "xdrbuffer.get_buffer()"
   ]
  },
  {
   "cell_type": "markdown",
   "metadata": {},
   "source": [
    "## A higher level approach to binary file formats: HDF5"
   ]
  },
  {
   "cell_type": "markdown",
   "metadata": {},
   "source": [
    "This was quite painful. We've shown you it because it is very likely\n",
    "you will encounter this kind of unpleasant binary file format in your work."
   ]
  },
  {
   "cell_type": "markdown",
   "metadata": {},
   "source": [
    "However, one recommended approach to building binary file formats is to use HDF5 (Hierarchical Data Format), a much higher level binary file format."
   ]
  },
  {
   "cell_type": "markdown",
   "metadata": {},
   "source": [
    "HDF5's approach requires you to represent your system in terms of high-dimensional matrices, like NumPy arrays.\n",
    "It then saves these, and handles all the tedious number-of-field management for you."
   ]
  },
  {
   "cell_type": "code",
   "execution_count": 13,
   "metadata": {},
   "outputs": [],
   "source": [
    "import h5py\n",
    "import numpy as np\n",
    "\n",
    "\n",
    "class HDF5SavingSystem(System):\n",
    "    def __init__(self, system):\n",
    "        super().__init__()\n",
    "        # Shallow Copy constructor\n",
    "        self.elements = system.elements\n",
    "        self.reactions = system.reactions\n",
    "        self.molecules = system.molecules\n",
    "\n",
    "    def element_symbols(self):\n",
    "        return list(map(lambda x: x.symbol.encode(\"ascii\"), self.elements))\n",
    "\n",
    "    def molecule_matrix(self):\n",
    "        molecule_matrix = np.zeros((len(self.elements), len(self.molecules)), dtype=int)\n",
    "\n",
    "        for molecule in self.molecules:\n",
    "            for element, n in molecule.elements.items():\n",
    "                molecule_matrix[element.id, molecule.id] = n\n",
    "\n",
    "        return molecule_matrix\n",
    "\n",
    "    def reaction_matrix(self):\n",
    "        reaction_matrix = np.zeros(\n",
    "            (len(self.molecules), len(self.reactions)), dtype=int\n",
    "        )\n",
    "\n",
    "        for i, reaction in enumerate(self.reactions):\n",
    "            for reactant, n in reaction.reactants.items():\n",
    "                reaction_matrix[reactant.id, i] = -1 * n\n",
    "\n",
    "            for product, n in reaction.products.items():\n",
    "                reaction_matrix[product.id, i] = n\n",
    "\n",
    "        return reaction_matrix\n",
    "\n",
    "    def write(self, filename):\n",
    "        hdf = h5py.File(filename, \"w\")\n",
    "        string_type = h5py.special_dtype(vlen=bytes)\n",
    "        hdf.create_dataset(\n",
    "            \"symbols\", (len(self.elements), 1), string_type, self.element_symbols()\n",
    "        )\n",
    "        hdf.create_dataset(\"molecules\", data=self.molecule_matrix())\n",
    "        hdf.create_dataset(\"reactions\", data=self.reaction_matrix())\n",
    "        hdf.close()"
   ]
  },
  {
   "cell_type": "code",
   "execution_count": 14,
   "metadata": {},
   "outputs": [],
   "source": [
    "saver = HDF5SavingSystem(s)"
   ]
  },
  {
   "cell_type": "code",
   "execution_count": 15,
   "metadata": {},
   "outputs": [
    {
     "data": {
      "text/plain": [
       "[b'C', b'O', b'H']"
      ]
     },
     "execution_count": 15,
     "metadata": {},
     "output_type": "execute_result"
    }
   ],
   "source": [
    "saver.element_symbols()"
   ]
  },
  {
   "cell_type": "code",
   "execution_count": 16,
   "metadata": {},
   "outputs": [
    {
     "data": {
      "text/plain": [
       "array([[ 1,  0,  0,  0,  6],\n",
       "       [ 2,  1,  2,  0,  6],\n",
       "       [ 0,  2,  0,  2, 12]])"
      ]
     },
     "execution_count": 16,
     "metadata": {},
     "output_type": "execute_result"
    }
   ],
   "source": [
    "saver.molecule_matrix()"
   ]
  },
  {
   "cell_type": "code",
   "execution_count": 17,
   "metadata": {},
   "outputs": [
    {
     "data": {
      "text/plain": [
       "array([[ 6,  0],\n",
       "       [ 6,  2],\n",
       "       [-6, -1],\n",
       "       [ 0, -2],\n",
       "       [-1,  0]])"
      ]
     },
     "execution_count": 17,
     "metadata": {},
     "output_type": "execute_result"
    }
   ],
   "source": [
    "saver.reaction_matrix()"
   ]
  },
  {
   "cell_type": "code",
   "execution_count": 18,
   "metadata": {},
   "outputs": [],
   "source": [
    "saver.write(\"foo.hdf5\")"
   ]
  },
  {
   "cell_type": "markdown",
   "metadata": {},
   "source": [
    "Note that this binary representation is *not* human readable at all."
   ]
  },
  {
   "cell_type": "code",
   "execution_count": 19,
   "metadata": {},
   "outputs": [
    {
     "data": {
      "text/plain": [
       "b'\\x89HDF\\r\\n\\x1a\\n\\x00\\x00\\x00\\x00\\x00\\x08\\x08\\x00\\x04\\x00\\x10\\x00\\x00\\x00\\x00\\x00\\x00\\x00\\x00\\x00\\x00\\x00\\x00\\x00\\xff\\xff\\xff\\xff\\xff\\xff\\xff\\xff\\xf8\\x18\\x00\\x00\\x00\\x00\\x00\\x00\\xff\\xff\\xff\\xff\\xff\\xff\\xff\\xff\\x00\\x00\\x00\\x00\\x00\\x00\\x00\\x00`\\x00\\x00\\x00\\x00\\x00\\x00\\x00\\x01\\x00\\x00\\x00\\x00\\x00\\x00\\x00\\x88\\x00\\x00\\x00\\x00\\x00\\x00\\x00\\xa8\\x02\\x00\\x00\\x00\\x00\\x00\\x00\\x01\\x00\\x01\\x00'"
      ]
     },
     "execution_count": 19,
     "metadata": {},
     "output_type": "execute_result"
    }
   ],
   "source": [
    "with open(\"foo.hdf5\", \"rb\") as f_in:\n",
    "    bytes = f_in.read()\n",
    "bytes[0:100]"
   ]
  },
  {
   "cell_type": "code",
   "execution_count": 20,
   "metadata": {},
   "outputs": [],
   "source": [
    "hdf_load = h5py.File(\"foo.hdf5\")"
   ]
  },
  {
   "cell_type": "code",
   "execution_count": 21,
   "metadata": {},
   "outputs": [
    {
     "data": {
      "text/plain": [
       "array([[ 6,  0],\n",
       "       [ 6,  2],\n",
       "       [-6, -1],\n",
       "       [ 0, -2],\n",
       "       [-1,  0]])"
      ]
     },
     "execution_count": 21,
     "metadata": {},
     "output_type": "execute_result"
    }
   ],
   "source": [
    "np.array(hdf_load[\"reactions\"])"
   ]
  },
  {
   "cell_type": "markdown",
   "metadata": {},
   "source": [
    "Using a `sparse matrix` storage would be even better here, but we don't have time for that!"
   ]
  }
 ],
 "metadata": {
  "jekyll": {
   "display_name": "Deserialisation"
  },
  "kernelspec": {
   "display_name": "Python 3 (ipykernel)",
   "language": "python",
   "name": "python3"
  },
  "language_info": {
   "codemirror_mode": {
    "name": "ipython",
    "version": 3
   },
   "file_extension": ".py",
   "mimetype": "text/x-python",
   "name": "python",
   "nbconvert_exporter": "python",
   "pygments_lexer": "ipython3",
   "version": "3.8.17"
  }
 },
 "nbformat": 4,
 "nbformat_minor": 1
}