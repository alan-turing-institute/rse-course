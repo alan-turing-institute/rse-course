{
 "cells": [
  {
   "cell_type": "markdown",
   "metadata": {},
   "source": [
    "# Deserialisation"
   ]
  },
  {
   "cell_type": "markdown",
   "metadata": {},
   "source": [
    "YAML (a recursive acronym for \"YAML Ain't Markup Language\") is a human-readable data-serialization language.\n",
    "\n",
    "We're going to slightly modify our previous model and look at how to serialise it to YAML."
   ]
  },
  {
   "cell_type": "code",
   "execution_count": 1,
   "metadata": {},
   "outputs": [],
   "source": [
    "class Element:\n",
    "    def __init__(self, symbol):\n",
    "        self.symbol = symbol\n",
    "\n",
    "\n",
    "class Molecule:\n",
    "    def __init__(self):\n",
    "        self.elements = {}  # Map from element to number of that element in the molecule\n",
    "\n",
    "    def add_element(self, element, number):\n",
    "        self.elements[element] = number\n",
    "\n",
    "    def to_struct(self):\n",
    "        return {x.symbol: self.elements[x] for x in self.elements}\n",
    "\n",
    "\n",
    "class Reaction:\n",
    "    def __init__(self):\n",
    "        self.reactants = {}  # Map from reactants to stoichiometries\n",
    "        self.products = {}  # Map from products to stoichiometries\n",
    "\n",
    "    def add_reactant(self, reactant, stoichiometry):\n",
    "        self.reactants[reactant] = stoichiometry\n",
    "\n",
    "    def add_product(self, product, stoichiometry):\n",
    "        self.products[product] = stoichiometry\n",
    "\n",
    "    def to_struct(self):\n",
    "        return {\n",
    "            \"reactants\": [x.to_struct() for x in self.reactants],\n",
    "            \"products\": [x.to_struct() for x in self.products],\n",
    "            \"stoichiometries\": list(self.reactants.values())\n",
    "            + list(self.products.values()),\n",
    "        }\n",
    "\n",
    "\n",
    "class System:\n",
    "    def __init__(self):\n",
    "        self.reactions = []\n",
    "\n",
    "    def add_reaction(self, reaction):\n",
    "        self.reactions.append(reaction)\n",
    "\n",
    "    def to_struct(self):\n",
    "        return [x.to_struct() for x in self.reactions]"
   ]
  },
  {
   "cell_type": "code",
   "execution_count": 2,
   "metadata": {},
   "outputs": [
    {
     "data": {
      "text/plain": [
       "[{'reactants': [{'C': 6, 'H': 12, 'O': 6}, {'O': 2}],\n",
       "  'products': [{'C': 1, 'O': 2}, {'H': 2, 'O': 1}],\n",
       "  'stoichiometries': [1, 6, 6, 6]},\n",
       " {'reactants': [{'H': 2}, {'O': 2}],\n",
       "  'products': [{'H': 2, 'O': 1}],\n",
       "  'stoichiometries': [2, 1, 2]}]"
      ]
     },
     "execution_count": 2,
     "metadata": {},
     "output_type": "execute_result"
    }
   ],
   "source": [
    "c = Element(\"C\")\n",
    "o = Element(\"O\")\n",
    "h = Element(\"H\")\n",
    "\n",
    "co2 = Molecule()\n",
    "co2.add_element(c, 1)\n",
    "co2.add_element(o, 2)\n",
    "\n",
    "h2o = Molecule()\n",
    "h2o.add_element(h, 2)\n",
    "h2o.add_element(o, 1)\n",
    "\n",
    "o2 = Molecule()\n",
    "o2.add_element(o, 2)\n",
    "\n",
    "h2 = Molecule()\n",
    "h2.add_element(h, 2)\n",
    "\n",
    "glucose = Molecule()\n",
    "glucose.add_element(c, 6)\n",
    "glucose.add_element(h, 12)\n",
    "glucose.add_element(o, 6)\n",
    "\n",
    "combustion_glucose = Reaction()\n",
    "combustion_glucose.add_reactant(glucose, 1)\n",
    "combustion_glucose.add_reactant(o2, 6)\n",
    "combustion_glucose.add_product(co2, 6)\n",
    "combustion_glucose.add_product(h2o, 6)\n",
    "\n",
    "combustion_hydrogen = Reaction()\n",
    "combustion_hydrogen.add_reactant(h2, 2)\n",
    "combustion_hydrogen.add_reactant(o2, 1)\n",
    "combustion_hydrogen.add_product(h2o, 2)\n",
    "\n",
    "s = System()\n",
    "s.add_reaction(combustion_glucose)\n",
    "s.add_reaction(combustion_hydrogen)\n",
    "\n",
    "s.to_struct()"
   ]
  },
  {
   "cell_type": "code",
   "execution_count": 3,
   "metadata": {},
   "outputs": [
    {
     "name": "stdout",
     "output_type": "stream",
     "text": [
      "- products:\n",
      "  - C: 1\n",
      "    O: 2\n",
      "  - H: 2\n",
      "    O: 1\n",
      "  reactants:\n",
      "  - C: 6\n",
      "    H: 12\n",
      "    O: 6\n",
      "  - O: 2\n",
      "  stoichiometries:\n",
      "  - 1\n",
      "  - 6\n",
      "  - 6\n",
      "  - 6\n",
      "- products:\n",
      "  - H: 2\n",
      "    O: 1\n",
      "  reactants:\n",
      "  - H: 2\n",
      "  - O: 2\n",
      "  stoichiometries:\n",
      "  - 2\n",
      "  - 1\n",
      "  - 2\n",
      "\n"
     ]
    }
   ],
   "source": [
    "import yaml\n",
    "\n",
    "print(yaml.dump(s.to_struct()))"
   ]
  },
  {
   "cell_type": "markdown",
   "metadata": {},
   "source": [
    "# Deserialising non-normal data structures"
   ]
  },
  {
   "cell_type": "markdown",
   "metadata": {},
   "source": [
    "We can see that this data structure, although seemingly \n",
    "sensible, is horribly **non-normal**.\n",
    "\n",
    "* The stoichiometries information requires us to align each one to the corresponding molecule in order.\n",
    "* Each element is described multiple times: we will have to ensure that each mention of `C` comes back to the same constructed element object."
   ]
  },
  {
   "cell_type": "code",
   "execution_count": 4,
   "metadata": {},
   "outputs": [],
   "source": [
    "class YamlDeSerialisingSystem:\n",
    "    def __init__(self):\n",
    "        self.elements = {}\n",
    "        self.molecules = {}\n",
    "\n",
    "    def add_element(self, candidate):\n",
    "        if candidate not in self.elements:\n",
    "            self.elements[candidate] = Element(candidate)\n",
    "        return self.elements[candidate]\n",
    "\n",
    "    def add_molecule(self, candidate):\n",
    "        if tuple(candidate.items()) not in self.molecules:\n",
    "            m = Molecule()\n",
    "            for symbol, number in candidate.items():\n",
    "                m.add_element(self.add_element(symbol), number)\n",
    "            self.molecules[tuple(candidate.items())] = m\n",
    "        return self.molecules[tuple(candidate.items())]\n",
    "\n",
    "    def parse_system(self, system):\n",
    "        s = System()\n",
    "        for reaction in system:\n",
    "            r = Reaction()\n",
    "            stoichiometries = reaction[\"stoichiometries\"]\n",
    "            for molecule in reaction[\"reactants\"]:\n",
    "                r.add_reactant(self.add_molecule(molecule), stoichiometries.pop(0))\n",
    "            for molecule in reaction[\"products\"]:\n",
    "                r.add_product(self.add_molecule(molecule), stoichiometries.pop(0))\n",
    "            s.add_reaction(r)\n",
    "        return s"
   ]
  },
  {
   "cell_type": "code",
   "execution_count": 5,
   "metadata": {},
   "outputs": [],
   "source": [
    "de_serialiser = YamlDeSerialisingSystem()\n",
    "round_trip = de_serialiser.parse_system(s.to_struct())"
   ]
  },
  {
   "cell_type": "code",
   "execution_count": 6,
   "metadata": {},
   "outputs": [
    {
     "data": {
      "text/plain": [
       "[{'reactants': [{'C': 6, 'H': 12, 'O': 6}, {'O': 2}],\n",
       "  'products': [{'C': 1, 'O': 2}, {'H': 2, 'O': 1}],\n",
       "  'stoichiometries': [1, 6, 6, 6]},\n",
       " {'reactants': [{'H': 2}, {'O': 2}],\n",
       "  'products': [{'H': 2, 'O': 1}],\n",
       "  'stoichiometries': [2, 1, 2]}]"
      ]
     },
     "execution_count": 6,
     "metadata": {},
     "output_type": "execute_result"
    }
   ],
   "source": [
    "round_trip.to_struct()"
   ]
  },
  {
   "cell_type": "code",
   "execution_count": 7,
   "metadata": {},
   "outputs": [
    {
     "data": {
      "text/plain": [
       "{'C': <__main__.Element at 0x7fb5542949d0>,\n",
       " 'H': <__main__.Element at 0x7fb5542949a0>,\n",
       " 'O': <__main__.Element at 0x7fb5542944c0>}"
      ]
     },
     "execution_count": 7,
     "metadata": {},
     "output_type": "execute_result"
    }
   ],
   "source": [
    "de_serialiser.elements"
   ]
  },
  {
   "cell_type": "code",
   "execution_count": 8,
   "metadata": {},
   "outputs": [
    {
     "data": {
      "text/plain": [
       "{(('C', 6), ('H', 12), ('O', 6)): <__main__.Molecule at 0x7fb5542945b0>,\n",
       " (('O', 2),): <__main__.Molecule at 0x7fb555300520>,\n",
       " (('C', 1), ('O', 2)): <__main__.Molecule at 0x7fb5541eb0a0>,\n",
       " (('H', 2), ('O', 1)): <__main__.Molecule at 0x7fb5541eb160>,\n",
       " (('H', 2),): <__main__.Molecule at 0x7fb5541eb190>}"
      ]
     },
     "execution_count": 8,
     "metadata": {},
     "output_type": "execute_result"
    }
   ],
   "source": [
    "de_serialiser.molecules"
   ]
  },
  {
   "cell_type": "code",
   "execution_count": 9,
   "metadata": {},
   "outputs": [
    {
     "data": {
      "text/plain": [
       "{'O': 2}"
      ]
     },
     "execution_count": 9,
     "metadata": {},
     "output_type": "execute_result"
    }
   ],
   "source": [
    "list(round_trip.reactions[0].reactants.keys())[1].to_struct()"
   ]
  },
  {
   "cell_type": "code",
   "execution_count": 10,
   "metadata": {},
   "outputs": [
    {
     "data": {
      "text/plain": [
       "{'O': 2}"
      ]
     },
     "execution_count": 10,
     "metadata": {},
     "output_type": "execute_result"
    }
   ],
   "source": [
    "list(round_trip.reactions[1].reactants.keys())[1].to_struct()"
   ]
  },
  {
   "cell_type": "markdown",
   "metadata": {},
   "source": [
    "In order to de-serialise this data, we had to construct a unique key to distinguish repeated mentions of the same identical item.\n",
    "\n",
    "Effectively, we ended up choosing primary keys for our datatypes:"
   ]
  },
  {
   "cell_type": "code",
   "execution_count": 11,
   "metadata": {},
   "outputs": [
    {
     "data": {
      "text/plain": [
       "[(('C', 6), ('H', 12), ('O', 6)),\n",
       " (('O', 2),),\n",
       " (('C', 1), ('O', 2)),\n",
       " (('H', 2), ('O', 1)),\n",
       " (('H', 2),)]"
      ]
     },
     "execution_count": 11,
     "metadata": {},
     "output_type": "execute_result"
    }
   ],
   "source": [
    "list(de_serialiser.molecules.keys())"
   ]
  },
  {
   "cell_type": "markdown",
   "metadata": {},
   "source": [
    "Remembering that a combination of columns uniquely defining an item is a valid  key - there is a key correspondence between a candidate key in the database sense and a \"hashable\" data structure that can be used to a key in a `dict`. \n",
    "\n",
    "Note that to make this example even reasonably doable, we had to exclude additional data from the objects (mass, rate etc)"
   ]
  },
  {
   "cell_type": "markdown",
   "metadata": {},
   "source": [
    "# Normalising a YAML structure"
   ]
  },
  {
   "cell_type": "markdown",
   "metadata": {},
   "source": [
    "To make this structure easier to de-serialise, we can make a normalised file-format, by defining primary keys (hashable types) for each entity on write:"
   ]
  },
  {
   "cell_type": "code",
   "execution_count": 12,
   "metadata": {},
   "outputs": [],
   "source": [
    "class YamlSavingSystem:\n",
    "    def __init__(self):\n",
    "        self.elements = set()\n",
    "        self.molecules = set()\n",
    "\n",
    "    def element_key(self, element):\n",
    "        return element.symbol\n",
    "\n",
    "    def molecule_key(self, molecule):\n",
    "        key = \"\"\n",
    "        for element, number in molecule.elements.items():\n",
    "            key += element.symbol\n",
    "            key += str(number)\n",
    "        return key\n",
    "\n",
    "    def save(self, system):\n",
    "        for reaction in system.reactions:\n",
    "            for molecule in reaction.reactants:\n",
    "                self.molecules.add(molecule)\n",
    "                for element in molecule.elements:\n",
    "                    self.elements.add(element)\n",
    "            for molecule in reaction.products:\n",
    "                self.molecules.add(molecule)\n",
    "                for element in molecule.elements:\n",
    "                    self.elements.add(element)\n",
    "\n",
    "        result = {\n",
    "            \"elements\": [self.element_key(element) for element in self.elements],\n",
    "            \"molecules\": {\n",
    "                self.molecule_key(molecule): {\n",
    "                    self.element_key(element): number\n",
    "                    for element, number in molecule.elements.items()\n",
    "                }\n",
    "                for molecule in self.molecules\n",
    "            },\n",
    "            \"reactions\": [\n",
    "                {\n",
    "                    \"reactants\": {\n",
    "                        self.molecule_key(reactant): stoich\n",
    "                        for reactant, stoich in reaction.reactants.items()\n",
    "                    },\n",
    "                    \"products\": {\n",
    "                        self.molecule_key(product): stoich\n",
    "                        for product, stoich in reaction.products.items()\n",
    "                    },\n",
    "                }\n",
    "                for reaction in system.reactions\n",
    "            ],\n",
    "        }\n",
    "        return result"
   ]
  },
  {
   "cell_type": "code",
   "execution_count": 13,
   "metadata": {},
   "outputs": [
    {
     "name": "stdout",
     "output_type": "stream",
     "text": [
      "elements:\n",
      "- H\n",
      "- O\n",
      "- C\n",
      "molecules:\n",
      "  C1O2:\n",
      "    C: 1\n",
      "    O: 2\n",
      "  C6H12O6:\n",
      "    C: 6\n",
      "    H: 12\n",
      "    O: 6\n",
      "  H2:\n",
      "    H: 2\n",
      "  H2O1:\n",
      "    H: 2\n",
      "    O: 1\n",
      "  O2:\n",
      "    O: 2\n",
      "reactions:\n",
      "- products:\n",
      "    C1O2: 6\n",
      "    H2O1: 6\n",
      "  reactants:\n",
      "    C6H12O6: 1\n",
      "    O2: 6\n",
      "- products:\n",
      "    H2O1: 2\n",
      "  reactants:\n",
      "    H2: 2\n",
      "    O2: 1\n",
      "\n"
     ]
    }
   ],
   "source": [
    "saver = YamlSavingSystem()\n",
    "print(yaml.dump(saver.save(s)))"
   ]
  },
  {
   "cell_type": "markdown",
   "metadata": {},
   "source": [
    "We can see that to make an easily parsed file format, without having to\n",
    "guess-recognise repeated entities based on their names\n",
    "(which is highly subject to data entry error), we effectively recover\n",
    "the same tables as found for the database model.\n",
    "\n",
    "An alternative is to use a simple integer for such a primary key:"
   ]
  },
  {
   "cell_type": "code",
   "execution_count": 14,
   "metadata": {},
   "outputs": [],
   "source": [
    "class YamlIntegerKeySavingSystem:\n",
    "    def __init__(self):\n",
    "        self.elements = {}\n",
    "        self.molecules = {}\n",
    "\n",
    "    def add_element(self, element):\n",
    "        if element not in self.elements:\n",
    "            self.elements[element] = len(self.elements)\n",
    "        return self.elements[element]\n",
    "\n",
    "    def add_molecule(self, molecule):\n",
    "        if molecule not in self.molecules:\n",
    "            self.molecules[molecule] = len(self.molecules)\n",
    "        return self.molecules[molecule]\n",
    "\n",
    "    def element_key(self, element):\n",
    "        return self.elements[element]\n",
    "\n",
    "    def molecule_key(self, molecule):\n",
    "        return self.molecules[molecule]\n",
    "\n",
    "    def save(self, system):\n",
    "        for reaction in system.reactions:\n",
    "            for molecule in reaction.reactants:\n",
    "                self.add_molecule(molecule)\n",
    "                for element in molecule.elements:\n",
    "                    self.add_element(element)\n",
    "            for molecule in reaction.products:\n",
    "                self.add_molecule(molecule)\n",
    "                for element in molecule.elements:\n",
    "                    self.add_element(element)\n",
    "\n",
    "        result = {\n",
    "            \"elements\": [element.symbol for element in self.elements],\n",
    "            \"molecules\": {\n",
    "                self.molecule_key(molecule): {\n",
    "                    self.element_key(element): number\n",
    "                    for element, number in molecule.elements.items()\n",
    "                }\n",
    "                for molecule in self.molecules\n",
    "            },\n",
    "            \"reactions\": [\n",
    "                {\n",
    "                    \"reactants\": {\n",
    "                        self.molecule_key(reactant): stoich\n",
    "                        for reactant, stoich in reaction.reactants.items()\n",
    "                    },\n",
    "                    \"products\": {\n",
    "                        self.molecule_key(product): stoich\n",
    "                        for product, stoich in reaction.products.items()\n",
    "                    },\n",
    "                }\n",
    "                for reaction in system.reactions\n",
    "            ],\n",
    "        }\n",
    "        return result"
   ]
  },
  {
   "cell_type": "code",
   "execution_count": 15,
   "metadata": {},
   "outputs": [
    {
     "name": "stdout",
     "output_type": "stream",
     "text": [
      "elements:\n",
      "- C\n",
      "- H\n",
      "- O\n",
      "molecules:\n",
      "  0:\n",
      "    0: 6\n",
      "    1: 12\n",
      "    2: 6\n",
      "  1:\n",
      "    2: 2\n",
      "  2:\n",
      "    0: 1\n",
      "    2: 2\n",
      "  3:\n",
      "    1: 2\n",
      "    2: 1\n",
      "  4:\n",
      "    1: 2\n",
      "reactions:\n",
      "- products:\n",
      "    2: 6\n",
      "    3: 6\n",
      "  reactants:\n",
      "    0: 1\n",
      "    1: 6\n",
      "- products:\n",
      "    3: 2\n",
      "  reactants:\n",
      "    1: 1\n",
      "    4: 2\n",
      "\n"
     ]
    }
   ],
   "source": [
    "saver = YamlIntegerKeySavingSystem()\n",
    "print(yaml.dump(saver.save(s)))"
   ]
  },
  {
   "cell_type": "markdown",
   "metadata": {},
   "source": [
    "## Reference counting"
   ]
  },
  {
   "cell_type": "markdown",
   "metadata": {},
   "source": [
    "The above approach of using a dictionary to determine the integer keys\n",
    "for objects is a bit clunky.\n",
    "\n",
    "Another good approach is to use counted objects either via a static member or by using a factory pattern:"
   ]
  },
  {
   "cell_type": "code",
   "execution_count": 16,
   "metadata": {},
   "outputs": [],
   "source": [
    "class Element:\n",
    "    def __init__(self, symbol, id):\n",
    "        self.symbol = symbol\n",
    "        self.id = id\n",
    "\n",
    "\n",
    "class Molecule:\n",
    "    def __init__(self, id):\n",
    "        self.elements = {}  # Map from element to number of that element in the molecule\n",
    "        self.id = id\n",
    "\n",
    "    def add_element(self, element, number):\n",
    "        self.elements[element] = number\n",
    "\n",
    "    def to_struct(self):\n",
    "        return {x.symbol: self.elements[x] for x in self.elements}\n",
    "\n",
    "\n",
    "class Reaction:\n",
    "    def __init__(self):\n",
    "        self.reactants = {}  # Map from reactants to stoichiometries\n",
    "        self.products = {}  # Map from products to stoichiometries\n",
    "\n",
    "    def add_reactant(self, reactant, stoichiometry):\n",
    "        self.reactants[reactant] = stoichiometry\n",
    "\n",
    "    def add_product(self, product, stoichiometry):\n",
    "        self.products[product] = stoichiometry\n",
    "\n",
    "    def to_struct(self):\n",
    "        return {\n",
    "            \"reactants\": [x.to_struct() for x in self.reactants],\n",
    "            \"products\": [x.to_struct() for x in self.products],\n",
    "            \"stoichiometries\": list(self.reactants.values())\n",
    "            + list(self.products.values()),\n",
    "        }\n",
    "\n",
    "\n",
    "class System:  # This will be our factory\n",
    "    def __init__(self):\n",
    "        self.reactions = []\n",
    "        self.elements = []\n",
    "        self.molecules = []\n",
    "\n",
    "    def add_element(self, symbol):\n",
    "        new_element = Element(symbol, len(self.elements))\n",
    "        self.elements.append(new_element)\n",
    "        return new_element\n",
    "\n",
    "    def add_molecule(self):\n",
    "        new_molecule = Molecule(len(self.molecules))\n",
    "        self.molecules.append(new_molecule)\n",
    "        return new_molecule\n",
    "\n",
    "    def add_reaction(self):\n",
    "        new_reaction = Reaction()\n",
    "        self.reactions.append(new_reaction)\n",
    "        return new_reaction\n",
    "\n",
    "    def save(self):\n",
    "\n",
    "        result = {\n",
    "            \"elements\": [element.symbol for element in self.elements],\n",
    "            \"molecules\": {\n",
    "                molecule.id: {\n",
    "                    element.id: number for element, number in molecule.elements.items()\n",
    "                }\n",
    "                for molecule in self.molecules\n",
    "            },\n",
    "            \"reactions\": [\n",
    "                {\n",
    "                    \"reactants\": {\n",
    "                        reactant.id: stoich\n",
    "                        for reactant, stoich in reaction.reactants.items()\n",
    "                    },\n",
    "                    \"products\": {\n",
    "                        product.id: stoich\n",
    "                        for product, stoich in reaction.products.items()\n",
    "                    },\n",
    "                }\n",
    "                for reaction in self.reactions\n",
    "            ],\n",
    "        }\n",
    "\n",
    "        return result"
   ]
  },
  {
   "cell_type": "code",
   "execution_count": 17,
   "metadata": {},
   "outputs": [],
   "source": [
    "s2 = System()\n",
    "\n",
    "c = s2.add_element(\"C\")\n",
    "o = s2.add_element(\"O\")\n",
    "h = s2.add_element(\"H\")\n",
    "\n",
    "co2 = s2.add_molecule()\n",
    "co2.add_element(c, 1)\n",
    "co2.add_element(o, 2)\n",
    "\n",
    "h2o = s2.add_molecule()\n",
    "h2o.add_element(h, 2)\n",
    "h2o.add_element(o, 1)\n",
    "\n",
    "o2 = s2.add_molecule()\n",
    "o2.add_element(o, 2)\n",
    "\n",
    "h2 = s2.add_molecule()\n",
    "h2.add_element(h, 2)\n",
    "\n",
    "glucose = s2.add_molecule()\n",
    "glucose.add_element(c, 6)\n",
    "glucose.add_element(h, 12)\n",
    "glucose.add_element(o, 6)\n",
    "\n",
    "combustion_glucose = s2.add_reaction()\n",
    "combustion_glucose.add_reactant(glucose, 1)\n",
    "combustion_glucose.add_reactant(o2, 6)\n",
    "combustion_glucose.add_product(co2, 6)\n",
    "combustion_glucose.add_product(h2o, 6)"
   ]
  },
  {
   "cell_type": "code",
   "execution_count": 18,
   "metadata": {},
   "outputs": [],
   "source": [
    "combustion_hydrogen = s2.add_reaction()\n",
    "combustion_hydrogen.add_reactant(h2, 2)\n",
    "combustion_hydrogen.add_reactant(o2, 1)\n",
    "combustion_hydrogen.add_product(h2o, 2)"
   ]
  },
  {
   "cell_type": "code",
   "execution_count": 19,
   "metadata": {},
   "outputs": [
    {
     "data": {
      "text/plain": [
       "{'elements': ['C', 'O', 'H'],\n",
       " 'molecules': {0: {0: 1, 1: 2},\n",
       "  1: {2: 2, 1: 1},\n",
       "  2: {1: 2},\n",
       "  3: {2: 2},\n",
       "  4: {0: 6, 2: 12, 1: 6}},\n",
       " 'reactions': [{'reactants': {4: 1, 2: 6}, 'products': {0: 6, 1: 6}},\n",
       "  {'reactants': {3: 2, 2: 1}, 'products': {1: 2}}]}"
      ]
     },
     "execution_count": 19,
     "metadata": {},
     "output_type": "execute_result"
    }
   ],
   "source": [
    "s2.save()"
   ]
  },
  {
   "cell_type": "code",
   "execution_count": 20,
   "metadata": {
    "scrolled": true
   },
   "outputs": [
    {
     "name": "stdout",
     "output_type": "stream",
     "text": [
      "elements:\n",
      "- C\n",
      "- O\n",
      "- H\n",
      "molecules:\n",
      "  0:\n",
      "    0: 1\n",
      "    1: 2\n",
      "  1:\n",
      "    1: 1\n",
      "    2: 2\n",
      "  2:\n",
      "    1: 2\n",
      "  3:\n",
      "    2: 2\n",
      "  4:\n",
      "    0: 6\n",
      "    1: 6\n",
      "    2: 12\n",
      "reactions:\n",
      "- products:\n",
      "    0: 6\n",
      "    1: 6\n",
      "  reactants:\n",
      "    2: 6\n",
      "    4: 1\n",
      "- products:\n",
      "    1: 2\n",
      "  reactants:\n",
      "    2: 1\n",
      "    3: 2\n",
      "\n"
     ]
    }
   ],
   "source": [
    "print(yaml.dump(s2.save()))"
   ]
  },
  {
   "cell_type": "markdown",
   "metadata": {},
   "source": [
    "## Binary file formats"
   ]
  },
  {
   "cell_type": "markdown",
   "metadata": {},
   "source": [
    "Now we're getting toward a numerically-based data structure, using integers for object keys, we should think about binary serialisation.\n",
    "\n",
    "Binary file formats are much smaller than human-readable text based formats, so important when handling really big datasets.\n",
    "\n",
    "One can compress a textual file format, of course, and with good compression algorithms this will be similar in size to the binary file. (C.f. discussions of Shannon information density!) However, this has performance implications.\n",
    "\n",
    "A hand-designed binary format is fast and small, at the loss of human readability."
   ]
  },
  {
   "cell_type": "markdown",
   "metadata": {},
   "source": [
    "The problem with binary file formats, is that, lacking complex data structures, one needs to supply the *length* of an item before that item:"
   ]
  },
  {
   "cell_type": "code",
   "execution_count": 21,
   "metadata": {},
   "outputs": [],
   "source": [
    "class FakeBinarySavingSystem:\n",
    "    # Pretend binary-style writing to a list to make it easier to read at first.\n",
    "    def save(self, system, buffer):\n",
    "        buffer.append(len(system.elements))\n",
    "        for element in system.elements:\n",
    "            buffer.append(element.symbol)\n",
    "\n",
    "        buffer.append(len(system.molecules))\n",
    "        for molecule in system.molecules:\n",
    "            buffer.append(len(molecule.elements))\n",
    "            for element, number in molecule.elements.items():\n",
    "                buffer.append(element.id)\n",
    "                buffer.append(number)\n",
    "\n",
    "        buffer.append(len(system.reactions))\n",
    "        for reaction in system.reactions:\n",
    "            buffer.append(len(reaction.reactants))\n",
    "            for reactant, stoich in reaction.reactants.items():\n",
    "                buffer.append(reactant.id)\n",
    "                buffer.append(stoich)\n",
    "            buffer.append(len(reaction.products))\n",
    "            for product, stoich in reaction.products.items():\n",
    "                buffer.append(product.id)\n",
    "                buffer.append(stoich)"
   ]
  },
  {
   "cell_type": "code",
   "execution_count": 22,
   "metadata": {},
   "outputs": [],
   "source": [
    "import io\n",
    "\n",
    "arraybuffer = []\n",
    "FakeBinarySavingSystem().save(s2, arraybuffer)"
   ]
  },
  {
   "cell_type": "code",
   "execution_count": 23,
   "metadata": {},
   "outputs": [
    {
     "data": {
      "text/plain": [
       "[3,\n",
       " 'C',\n",
       " 'O',\n",
       " 'H',\n",
       " 5,\n",
       " 2,\n",
       " 0,\n",
       " 1,\n",
       " 1,\n",
       " 2,\n",
       " 2,\n",
       " 2,\n",
       " 2,\n",
       " 1,\n",
       " 1,\n",
       " 1,\n",
       " 1,\n",
       " 2,\n",
       " 1,\n",
       " 2,\n",
       " 2,\n",
       " 3,\n",
       " 0,\n",
       " 6,\n",
       " 2,\n",
       " 12,\n",
       " 1,\n",
       " 6,\n",
       " 2,\n",
       " 2,\n",
       " 4,\n",
       " 1,\n",
       " 2,\n",
       " 6,\n",
       " 2,\n",
       " 0,\n",
       " 6,\n",
       " 1,\n",
       " 6,\n",
       " 2,\n",
       " 3,\n",
       " 2,\n",
       " 2,\n",
       " 1,\n",
       " 1,\n",
       " 1,\n",
       " 2]"
      ]
     },
     "execution_count": 23,
     "metadata": {},
     "output_type": "execute_result"
    }
   ],
   "source": [
    "arraybuffer"
   ]
  },
  {
   "cell_type": "markdown",
   "metadata": {},
   "source": [
    "Deserialisation is left **as an exercise for the reader** :)."
   ]
  },
  {
   "cell_type": "markdown",
   "metadata": {},
   "source": [
    "## Endian-robust binary file formats"
   ]
  },
  {
   "cell_type": "markdown",
   "metadata": {},
   "source": [
    "Having prepared our data as a sequence of data which can be recorded in a single byte,\n",
    "we might think a binary file format on disk is as simple as saving\n",
    "each number in one byte:"
   ]
  },
  {
   "cell_type": "code",
   "execution_count": 24,
   "metadata": {},
   "outputs": [
    {
     "data": {
      "text/plain": [
       "[3,\n",
       " 67,\n",
       " 79,\n",
       " 72,\n",
       " 5,\n",
       " 2,\n",
       " 0,\n",
       " 1,\n",
       " 1,\n",
       " 2,\n",
       " 2,\n",
       " 2,\n",
       " 2,\n",
       " 1,\n",
       " 1,\n",
       " 1,\n",
       " 1,\n",
       " 2,\n",
       " 1,\n",
       " 2,\n",
       " 2,\n",
       " 3,\n",
       " 0,\n",
       " 6,\n",
       " 2,\n",
       " 12,\n",
       " 1,\n",
       " 6,\n",
       " 2,\n",
       " 2,\n",
       " 4,\n",
       " 1,\n",
       " 2,\n",
       " 6,\n",
       " 2,\n",
       " 0,\n",
       " 6,\n",
       " 1,\n",
       " 6,\n",
       " 2,\n",
       " 3,\n",
       " 2,\n",
       " 2,\n",
       " 1,\n",
       " 1,\n",
       " 1,\n",
       " 2]"
      ]
     },
     "execution_count": 24,
     "metadata": {},
     "output_type": "execute_result"
    }
   ],
   "source": [
    "# First, turn symbol characters to equivalent integers (ascii)\n",
    "intarray = [x.encode(\"ascii\")[0] if type(x) == str else x for x in arraybuffer]\n",
    "intarray"
   ]
  },
  {
   "cell_type": "code",
   "execution_count": 25,
   "metadata": {},
   "outputs": [
    {
     "data": {
      "text/plain": [
       "bytearray(b'\\x03COH\\x05\\x02\\x00\\x01\\x01\\x02\\x02\\x02\\x02\\x01\\x01\\x01\\x01\\x02\\x01\\x02\\x02\\x03\\x00\\x06\\x02\\x0c\\x01\\x06\\x02\\x02\\x04\\x01\\x02\\x06\\x02\\x00\\x06\\x01\\x06\\x02\\x03\\x02\\x02\\x01\\x01\\x01\\x02')"
      ]
     },
     "execution_count": 25,
     "metadata": {},
     "output_type": "execute_result"
    }
   ],
   "source": [
    "bytearray(intarray)"
   ]
  },
  {
   "cell_type": "code",
   "execution_count": 26,
   "metadata": {},
   "outputs": [],
   "source": [
    "with open(\"system.mol\", \"bw\") as binfile:\n",
    "    binfile.write(bytearray(intarray))"
   ]
  },
  {
   "cell_type": "markdown",
   "metadata": {},
   "source": [
    "However, this misses out on an unfortunate problem if we end up with large enough numbers to need more than one byte per integer, or we want to represent floats: different computer designs but the most-significant bytes of a multi-byte integer or float at the beginning or\n",
    "end ('big endian' or 'little endian' data)."
   ]
  },
  {
   "cell_type": "markdown",
   "metadata": {},
   "source": [
    "To get around this, we need to use a portable standard for making binary files.\n",
    "\n",
    "One possible choice is **XDR** (standing for eXternal Data Representation). XDR is a standard data serialization format that accounts for endian differences between systems."
   ]
  },
  {
   "cell_type": "code",
   "execution_count": 27,
   "metadata": {},
   "outputs": [],
   "source": [
    "import xdrlib\n",
    "\n",
    "\n",
    "class XDRSavingSystem(System):\n",
    "    def __init__(self, system):\n",
    "        # Shallow Copy constructor\n",
    "        self.elements = system.elements\n",
    "        self.reactions = system.reactions\n",
    "        self.molecules = system.molecules\n",
    "        self.buffer = xdrlib.Packer()\n",
    "\n",
    "    def _pack_pair(self, item):\n",
    "        self.buffer.pack_int(item[0].id)\n",
    "        self.buffer.pack_int(item[1])\n",
    "\n",
    "    def _pack_molecule(self, mol):\n",
    "        self.buffer.pack_array(mol.elements.items(), self._pack_pair)\n",
    "\n",
    "    def _pack_reaction(self, reaction):\n",
    "        self.buffer.pack_array(reaction.reactants.items(), self._pack_pair)\n",
    "        self.buffer.pack_array(reaction.products.items(), self._pack_pair)\n",
    "\n",
    "    def save(self):\n",
    "        el_symbols = list(map(lambda x: x.symbol.encode(\"utf-8\"), self.elements))\n",
    "        # Note that pack_array AUTOMATICALLY packs the length of the array first!\n",
    "        self.buffer.pack_array(el_symbols, self.buffer.pack_string)\n",
    "        self.buffer.pack_array(self.molecules, self._pack_molecule)\n",
    "        self.buffer.pack_array(self.reactions, self._pack_reaction)\n",
    "        return self.buffer"
   ]
  },
  {
   "cell_type": "code",
   "execution_count": 28,
   "metadata": {},
   "outputs": [],
   "source": [
    "xdrsys = XDRSavingSystem(s2)"
   ]
  },
  {
   "cell_type": "code",
   "execution_count": 29,
   "metadata": {},
   "outputs": [
    {
     "data": {
      "text/plain": [
       "b'\\x00\\x00\\x00\\x03\\x00\\x00\\x00\\x01C\\x00\\x00\\x00\\x00\\x00\\x00\\x01O\\x00\\x00\\x00\\x00\\x00\\x00\\x01H\\x00\\x00\\x00\\x00\\x00\\x00\\x05\\x00\\x00\\x00\\x02\\x00\\x00\\x00\\x00\\x00\\x00\\x00\\x01\\x00\\x00\\x00\\x01\\x00\\x00\\x00\\x02\\x00\\x00\\x00\\x02\\x00\\x00\\x00\\x02\\x00\\x00\\x00\\x02\\x00\\x00\\x00\\x01\\x00\\x00\\x00\\x01\\x00\\x00\\x00\\x01\\x00\\x00\\x00\\x01\\x00\\x00\\x00\\x02\\x00\\x00\\x00\\x01\\x00\\x00\\x00\\x02\\x00\\x00\\x00\\x02\\x00\\x00\\x00\\x03\\x00\\x00\\x00\\x00\\x00\\x00\\x00\\x06\\x00\\x00\\x00\\x02\\x00\\x00\\x00\\x0c\\x00\\x00\\x00\\x01\\x00\\x00\\x00\\x06\\x00\\x00\\x00\\x02\\x00\\x00\\x00\\x02\\x00\\x00\\x00\\x04\\x00\\x00\\x00\\x01\\x00\\x00\\x00\\x02\\x00\\x00\\x00\\x06\\x00\\x00\\x00\\x02\\x00\\x00\\x00\\x00\\x00\\x00\\x00\\x06\\x00\\x00\\x00\\x01\\x00\\x00\\x00\\x06\\x00\\x00\\x00\\x02\\x00\\x00\\x00\\x03\\x00\\x00\\x00\\x02\\x00\\x00\\x00\\x02\\x00\\x00\\x00\\x01\\x00\\x00\\x00\\x01\\x00\\x00\\x00\\x01\\x00\\x00\\x00\\x02'"
      ]
     },
     "execution_count": 29,
     "metadata": {},
     "output_type": "execute_result"
    }
   ],
   "source": [
    "xdrbuffer = xdrsys.save()\n",
    "xdrbuffer.get_buffer()"
   ]
  },
  {
   "cell_type": "markdown",
   "metadata": {},
   "source": [
    "## A higher level approach to binary file formats: HDF5"
   ]
  },
  {
   "cell_type": "markdown",
   "metadata": {},
   "source": [
    "This was quite painful. We've shown you it because it is very likely\n",
    "you will encounter this kind of unpleasant binary file format in your work."
   ]
  },
  {
   "cell_type": "markdown",
   "metadata": {},
   "source": [
    "However, the recommended approach to building binary file formats is to use HDF5 (Hierarchical Data Format), a much higher level binary file format."
   ]
  },
  {
   "cell_type": "markdown",
   "metadata": {},
   "source": [
    "HDF5's approach requires you to represent your system in terms of high-dimensional matrices, like NumPy arrays.\n",
    "It then saves these, and handles all the tedious number-of-field management for you."
   ]
  },
  {
   "cell_type": "code",
   "execution_count": 30,
   "metadata": {},
   "outputs": [],
   "source": [
    "import h5py\n",
    "import numpy as np\n",
    "\n",
    "\n",
    "class HDF5SavingSystem(System):\n",
    "    def __init__(self, system):\n",
    "        # Shallow Copy constructor\n",
    "        self.elements = system.elements\n",
    "        self.reactions = system.reactions\n",
    "        self.molecules = system.molecules\n",
    "\n",
    "    def element_symbols(self):\n",
    "        return list(map(lambda x: x.symbol.encode(\"ascii\"), self.elements))\n",
    "\n",
    "    def molecule_matrix(self):\n",
    "        molecule_matrix = np.zeros((len(self.elements), len(self.molecules)), dtype=int)\n",
    "\n",
    "        for molecule in self.molecules:\n",
    "            for element, n in molecule.elements.items():\n",
    "                molecule_matrix[element.id, molecule.id] = n\n",
    "\n",
    "        return molecule_matrix\n",
    "\n",
    "    def reaction_matrix(self):\n",
    "        reaction_matrix = np.zeros(\n",
    "            (len(self.molecules), len(self.reactions)), dtype=int\n",
    "        )\n",
    "\n",
    "        for i, reaction in enumerate(self.reactions):\n",
    "            for reactant, n in reaction.reactants.items():\n",
    "                reaction_matrix[reactant.id, i] = -1 * n\n",
    "\n",
    "            for product, n in reaction.products.items():\n",
    "                reaction_matrix[product.id, i] = n\n",
    "\n",
    "        return reaction_matrix\n",
    "\n",
    "    def write(self, filename):\n",
    "        hdf = h5py.File(filename, \"w\")\n",
    "        string_type = h5py.special_dtype(vlen=bytes)\n",
    "        hdf.create_dataset(\n",
    "            \"symbols\", (len(self.elements), 1), string_type, self.element_symbols()\n",
    "        )\n",
    "        hdf.create_dataset(\"molecules\", data=self.molecule_matrix())\n",
    "        hdf.create_dataset(\"reactions\", data=self.reaction_matrix())\n",
    "        hdf.close()"
   ]
  },
  {
   "cell_type": "code",
   "execution_count": 31,
   "metadata": {},
   "outputs": [],
   "source": [
    "saver = HDF5SavingSystem(s2)"
   ]
  },
  {
   "cell_type": "code",
   "execution_count": 32,
   "metadata": {},
   "outputs": [
    {
     "data": {
      "text/plain": [
       "[b'C', b'O', b'H']"
      ]
     },
     "execution_count": 32,
     "metadata": {},
     "output_type": "execute_result"
    }
   ],
   "source": [
    "saver.element_symbols()"
   ]
  },
  {
   "cell_type": "code",
   "execution_count": 33,
   "metadata": {},
   "outputs": [
    {
     "data": {
      "text/plain": [
       "array([[ 1,  0,  0,  0,  6],\n",
       "       [ 2,  1,  2,  0,  6],\n",
       "       [ 0,  2,  0,  2, 12]])"
      ]
     },
     "execution_count": 33,
     "metadata": {},
     "output_type": "execute_result"
    }
   ],
   "source": [
    "saver.molecule_matrix()"
   ]
  },
  {
   "cell_type": "code",
   "execution_count": 34,
   "metadata": {},
   "outputs": [
    {
     "data": {
      "text/plain": [
       "array([[ 6,  0],\n",
       "       [ 6,  2],\n",
       "       [-6, -1],\n",
       "       [ 0, -2],\n",
       "       [-1,  0]])"
      ]
     },
     "execution_count": 34,
     "metadata": {},
     "output_type": "execute_result"
    }
   ],
   "source": [
    "saver.reaction_matrix()"
   ]
  },
  {
   "cell_type": "code",
   "execution_count": 35,
   "metadata": {},
   "outputs": [],
   "source": [
    "saver.write(\"foo.hdf5\")"
   ]
  },
  {
   "cell_type": "markdown",
   "metadata": {},
   "source": [
    "Note that this binary representation is *not* human readable at all."
   ]
  },
  {
   "cell_type": "code",
   "execution_count": 36,
   "metadata": {},
   "outputs": [
    {
     "name": "stderr",
     "output_type": "stream",
     "text": [
      "Task exception was never retrieved\n",
      "future: <Task finished name='Task-7' coro=<ScriptMagics.shebang.<locals>._handle_stream() done, defined at /opt/hostedtoolcache/Python/3.8.13/x64/lib/python3.8/site-packages/IPython/core/magics/script.py:211> exception=UnicodeDecodeError('utf-8', b'\\x89HDF\\r\\n', 0, 1, 'invalid start byte')>\n",
      "Traceback (most recent call last):\n",
      "  File \"/opt/hostedtoolcache/Python/3.8.13/x64/lib/python3.8/site-packages/IPython/core/magics/script.py\", line 213, in _handle_stream\n",
      "    line = (await stream.readline()).decode(\"utf8\")\n",
      "UnicodeDecodeError: 'utf-8' codec can't decode byte 0x89 in position 0: invalid start byte\n"
     ]
    }
   ],
   "source": [
    "%%bash\n",
    "# Read the first 100 characters from the file\n",
    "head -c 100 foo.hdf5"
   ]
  },
  {
   "cell_type": "code",
   "execution_count": 37,
   "metadata": {},
   "outputs": [],
   "source": [
    "import h5py\n",
    "\n",
    "hdf_load = h5py.File(\"foo.hdf5\")"
   ]
  },
  {
   "cell_type": "code",
   "execution_count": 38,
   "metadata": {},
   "outputs": [
    {
     "data": {
      "text/plain": [
       "array([[ 6,  0],\n",
       "       [ 6,  2],\n",
       "       [-6, -1],\n",
       "       [ 0, -2],\n",
       "       [-1,  0]])"
      ]
     },
     "execution_count": 38,
     "metadata": {},
     "output_type": "execute_result"
    }
   ],
   "source": [
    "np.array(hdf_load[\"reactions\"])"
   ]
  },
  {
   "cell_type": "markdown",
   "metadata": {},
   "source": [
    "Using a `sparse matrix` storage would be even better here, but we don't have time for that!"
   ]
  }
 ],
 "metadata": {
  "jekyll": {
   "display_name": "Deserialisation"
  },
  "kernelspec": {
   "display_name": "Python 3 (ipykernel)",
   "language": "python",
   "name": "python3"
  },
  "language_info": {
   "codemirror_mode": {
    "name": "ipython",
    "version": 3
   },
   "file_extension": ".py",
   "mimetype": "text/x-python",
   "name": "python",
   "nbconvert_exporter": "python",
   "pygments_lexer": "ipython3",
   "version": "3.8.13"
  }
 },
 "nbformat": 4,
 "nbformat_minor": 1
}