{
 "cells": [
  {
   "cell_type": "markdown",
   "metadata": {},
   "source": [
    "# Saying the same thing multiple ways"
   ]
  },
  {
   "cell_type": "markdown",
   "metadata": {},
   "source": [
    "What happens when someone comes across a file in our file format? How do they know what it means?"
   ]
  },
  {
   "cell_type": "markdown",
   "metadata": {},
   "source": [
    "If we can make the tag names in our model globally unique, then the meaning of the file can be made understandable\n",
    "not just to us, but to people and computers all over the world.\n",
    "\n",
    "Two file formats which give the same information, in different ways, are *syntactically* distinct,\n",
    "but so long as they are **semantically** compatible, I can convert from one to the other."
   ]
  },
  {
   "cell_type": "markdown",
   "metadata": {},
   "source": [
    "This is the goal of the technologies introduced this lecture."
   ]
  },
  {
   "cell_type": "markdown",
   "metadata": {},
   "source": [
    "## The URI"
   ]
  },
  {
   "cell_type": "markdown",
   "metadata": {},
   "source": [
    "The key concept that underpins these tools is the URI: uniform resource **indicator**.\n",
    "    \n",
    "These look like URLs:\n",
    "    \n",
    "`www.turing.ac.uk/rsd-engineering/schema/reaction/element`\n",
    "\n",
    "But, if I load that as a web address, there's nothing there!\n",
    "\n",
    "That's fine.\n",
    "\n",
    "A UR**N** indicates a **name** for an entity, and, by using organisational web addresses as a prefix,\n",
    "is likely to be unambiguously unique.\n",
    "\n",
    "A URI might be a URL or a URN, or both."
   ]
  },
  {
   "cell_type": "markdown",
   "metadata": {},
   "source": [
    "## XML Namespaces"
   ]
  },
  {
   "cell_type": "markdown",
   "metadata": {},
   "source": [
    "It's cumbersome to use a full URI every time we want to put a tag in our XML file.\n",
    "XML defines *namespaces* to resolve this:"
   ]
  },
  {
   "cell_type": "code",
   "execution_count": 1,
   "metadata": {},
   "outputs": [
    {
     "name": "stdout",
     "output_type": "stream",
     "text": [
      "Overwriting system.xml\n"
     ]
    }
   ],
   "source": [
    "%%writefile system.xml\n",
    "<?xml version=\"1.0\" encoding=\"UTF-8\"?>\n",
    "<system xmlns=\"http://www.turing.ac.uk/rsd-engineering/schema/reaction\">\n",
    "    <reaction>\n",
    "        <reactants>\n",
    "            <molecule stoichiometry=\"2\">\n",
    "                <atom symbol=\"H\" number=\"2\"/>\n",
    "            </molecule>\n",
    "            <molecule stoichiometry=\"1\">\n",
    "                <atom symbol=\"O\" number=\"2\"/>\n",
    "            </molecule>\n",
    "        </reactants>\n",
    "        <products>\n",
    "            <molecule stoichiometry=\"2\">\n",
    "                <atom symbol=\"H\" number=\"2\"/>\n",
    "                <atom symbol=\"O\" number=\"1\"/>\n",
    "            </molecule>\n",
    "        </products>\n",
    "    </reaction>\n",
    "</system>"
   ]
  },
  {
   "cell_type": "code",
   "execution_count": 2,
   "metadata": {},
   "outputs": [],
   "source": [
    "from lxml import etree\n",
    "\n",
    "with open(\"system.xml\") as xmlfile:\n",
    "    tree = etree.parse(xmlfile)"
   ]
  },
  {
   "cell_type": "code",
   "execution_count": 3,
   "metadata": {},
   "outputs": [
    {
     "name": "stdout",
     "output_type": "stream",
     "text": [
      "<system xmlns=\"http://www.turing.ac.uk/rsd-engineering/schema/reaction\">\n",
      "    <reaction>\n",
      "        <reactants>\n",
      "            <molecule stoichiometry=\"2\">\n",
      "                <atom symbol=\"H\" number=\"2\"/>\n",
      "            </molecule>\n",
      "            <molecule stoichiometry=\"1\">\n",
      "                <atom symbol=\"O\" number=\"2\"/>\n",
      "            </molecule>\n",
      "        </reactants>\n",
      "        <products>\n",
      "            <molecule stoichiometry=\"2\">\n",
      "                <atom symbol=\"H\" number=\"2\"/>\n",
      "                <atom symbol=\"O\" number=\"1\"/>\n",
      "            </molecule>\n",
      "        </products>\n",
      "    </reaction>\n",
      "</system>\n",
      "\n"
     ]
    }
   ],
   "source": [
    "print(etree.tostring(tree, pretty_print=True, encoding=str))"
   ]
  },
  {
   "cell_type": "markdown",
   "metadata": {},
   "source": [
    "Note that our previous XPath query no longer finds anything."
   ]
  },
  {
   "cell_type": "code",
   "execution_count": 4,
   "metadata": {},
   "outputs": [
    {
     "data": {
      "text/plain": [
       "[]"
      ]
     },
     "execution_count": 4,
     "metadata": {},
     "output_type": "execute_result"
    }
   ],
   "source": [
    "tree.xpath(\"//molecule/atom[@number='1']/@symbol\")"
   ]
  },
  {
   "cell_type": "code",
   "execution_count": 5,
   "metadata": {},
   "outputs": [],
   "source": [
    "namespaces = {\"r\": \"http://www.turing.ac.uk/rsd-engineering/schema/reaction\"}"
   ]
  },
  {
   "cell_type": "code",
   "execution_count": 6,
   "metadata": {},
   "outputs": [
    {
     "data": {
      "text/plain": [
       "['O']"
      ]
     },
     "execution_count": 6,
     "metadata": {},
     "output_type": "execute_result"
    }
   ],
   "source": [
    "tree.xpath(\"//r:molecule/r:atom[@number='1']/@symbol\", namespaces=namespaces)"
   ]
  },
  {
   "cell_type": "markdown",
   "metadata": {},
   "source": [
    "Note the prefix `r` used to bind the namespace in the query: any string will do - it's just a dummy variable."
   ]
  },
  {
   "cell_type": "markdown",
   "metadata": {},
   "source": [
    "The above file specified our namespace as a default namespace: this is like doing `from numpy import *` in python.\n",
    "    \n",
    "It's often better to bind the namespace to a prefix:    "
   ]
  },
  {
   "cell_type": "code",
   "execution_count": 7,
   "metadata": {},
   "outputs": [
    {
     "name": "stdout",
     "output_type": "stream",
     "text": [
      "Overwriting system.xml\n"
     ]
    }
   ],
   "source": [
    "%%writefile system.xml\n",
    "<?xml version=\"1.0\" encoding=\"UTF-8\"?>\n",
    "<r:system xmlns:r=\"http://www.turing.ac.uk/rsd-engineering/schema/reaction\">\n",
    "    <r:reaction>\n",
    "        <r:reactants>\n",
    "            <r:molecule stoichiometry=\"2\">\n",
    "                <r:atom symbol=\"H\" number=\"2\"/>\n",
    "            </r:molecule>\n",
    "            <r:molecule stoichiometry=\"1\">\n",
    "                <r:atom symbol=\"O\" number=\"2\"/>\n",
    "            </r:molecule>\n",
    "        </r:reactants>\n",
    "        <r:products>\n",
    "            <r:molecule stoichiometry=\"2\">\n",
    "                <r:atom symbol=\"H\" number=\"2\"/>\n",
    "                <r:atom symbol=\"O\" number=\"1\"/>\n",
    "            </r:molecule>\n",
    "        </r:products>\n",
    "    </r:reaction>\n",
    "</r:system>"
   ]
  },
  {
   "cell_type": "markdown",
   "metadata": {},
   "source": [
    "## Namespaces and Schema"
   ]
  },
  {
   "cell_type": "markdown",
   "metadata": {},
   "source": [
    "It's a good idea to serve the schema itself from the URI of the namespace treated as a URL, but it's *not a requirement*: it's a URN not necessarily a URL!\n"
   ]
  },
  {
   "cell_type": "code",
   "execution_count": 8,
   "metadata": {},
   "outputs": [
    {
     "name": "stdout",
     "output_type": "stream",
     "text": [
      "Overwriting reactions.xsd\n"
     ]
    }
   ],
   "source": [
    "%%writefile reactions.xsd\n",
    "\n",
    "<xs:schema xmlns:xs=\"http://www.w3.org/2001/XMLSchema\"\n",
    "    targetNamespace=\"http://www.turing.ac.uk/rsd-engineering/schema/reaction\"\n",
    "    xmlns:r=\"http://www.turing.ac.uk/rsd-engineering/schema/reaction\">\n",
    "\n",
    "<xs:element name=\"atom\">\n",
    "    <xs:complexType>\n",
    "        <xs:attribute name=\"symbol\" type=\"xs:string\"/>\n",
    "        <xs:attribute name=\"number\" type=\"xs:integer\"/>\n",
    "    </xs:complexType>\n",
    "</xs:element>\n",
    "    \n",
    "<xs:element name=\"molecule\">\n",
    "    <xs:complexType>\n",
    "        <xs:sequence>\n",
    "            <xs:element ref=\"r:atom\" maxOccurs=\"unbounded\"/>\n",
    "        </xs:sequence>\n",
    "        <xs:attribute name=\"stoichiometry\" type=\"xs:integer\"/>\n",
    "    </xs:complexType>\n",
    "</xs:element>\n",
    "    \n",
    "<xs:element name=\"reactants\">\n",
    "    <xs:complexType>\n",
    "        <xs:sequence>\n",
    "            <xs:element ref=\"r:molecule\" maxOccurs=\"unbounded\"/>\n",
    "        </xs:sequence>\n",
    "    </xs:complexType>\n",
    "</xs:element>\n",
    "    \n",
    "<xs:element name=\"products\">\n",
    "    <xs:complexType>\n",
    "        <xs:sequence>\n",
    "            <xs:element ref=\"r:molecule\" maxOccurs=\"unbounded\"/>\n",
    "        </xs:sequence>\n",
    "    </xs:complexType>\n",
    "</xs:element>    \n",
    "    \n",
    "<xs:element name=\"reaction\">\n",
    "    <xs:complexType>\n",
    "        <xs:sequence>\n",
    "            <xs:element ref=\"r:reactants\"/>\n",
    "            <xs:element ref=\"r:products\"/>\n",
    "        </xs:sequence>\n",
    "    </xs:complexType>\n",
    "</xs:element>\n",
    "\n",
    "<xs:element name=\"system\">\n",
    "    <xs:complexType>\n",
    "        <xs:sequence>\n",
    "            <xs:element ref=\"r:reaction\" maxOccurs=\"unbounded\"/>\n",
    "        </xs:sequence>\n",
    "    </xs:complexType>\n",
    "</xs:element>   \n",
    "    \n",
    "</xs:schema>"
   ]
  },
  {
   "cell_type": "markdown",
   "metadata": {},
   "source": [
    "Note we're now defining the target namespace for our schema."
   ]
  },
  {
   "cell_type": "code",
   "execution_count": 9,
   "metadata": {},
   "outputs": [],
   "source": [
    "with open(\"reactions.xsd\") as xsdfile:\n",
    "    schema_xsd = xsdfile.read()\n",
    "schema = etree.XMLSchema(etree.XML(schema_xsd))"
   ]
  },
  {
   "cell_type": "code",
   "execution_count": 10,
   "metadata": {},
   "outputs": [],
   "source": [
    "parser = etree.XMLParser(schema=schema)"
   ]
  },
  {
   "cell_type": "code",
   "execution_count": 11,
   "metadata": {},
   "outputs": [
    {
     "name": "stdout",
     "output_type": "stream",
     "text": [
      "<lxml.etree._ElementTree object at 0x7fdfae24f7c0>\n"
     ]
    }
   ],
   "source": [
    "with open(\"system.xml\") as xmlfile:\n",
    "    tree = etree.parse(xmlfile, parser)\n",
    "    print(tree)"
   ]
  },
  {
   "cell_type": "markdown",
   "metadata": {},
   "source": [
    "Note the power of binding namespaces when using XML files addressing more than one namespace.\n",
    "Here, we can clearly see which variables are part of the schema defining XML schema itself (bound to `xs`)\n",
    "and the schema for our file format (bound to `r`)"
   ]
  },
  {
   "cell_type": "markdown",
   "metadata": {},
   "source": [
    "## Using standard vocabularies"
   ]
  },
  {
   "cell_type": "markdown",
   "metadata": {},
   "source": [
    "The work we've done so far will enable someone who comes across our file format to track down something about its significance, by following the URI in the namespace. But it's still somewhat ambiguous. The word \"element\" means (at least) two things: an element tag in an XML document, and a chemical element. (It also means a heating element in a toaster, and lots of other things.)"
   ]
  },
  {
   "cell_type": "markdown",
   "metadata": {},
   "source": [
    "To make it easier to not make mistakes as to the meaning of **found data**, it is helpful to use\n",
    "standardised namespaces that already exist for the concepts our file format refers to.\n",
    "\n",
    "So that when somebody else picks up one of our data files, the meaning of the stuff it describes is obvious. In this example, it would be hard to get it wrong, of course, but in general, defining file formats so that they are meaningful as found data should be desirable."
   ]
  },
  {
   "cell_type": "markdown",
   "metadata": {},
   "source": [
    "For example, the concepts in our file format are already part of the \"DBPedia ontology\",\n",
    "among others. So, we could redesign our file format to exploit this, by referencing for example [https://dbpedia.org/ontology/ChemicalCompound](https://dbpedia.org/ontology/ChemicalCompound):"
   ]
  },
  {
   "cell_type": "code",
   "execution_count": 12,
   "metadata": {},
   "outputs": [
    {
     "name": "stdout",
     "output_type": "stream",
     "text": [
      "Overwriting chemistry_template3.mko\n"
     ]
    }
   ],
   "source": [
    "%%writefile chemistry_template3.mko\n",
    "<?xml version=\"1.0\" encoding=\"UTF-8\"?>\n",
    "<system xmlns=\"https://www.turing.ac.uk/rsd-engineering/schema/reaction\"\n",
    "        xmlns:dbo=\"https://dbpedia.org/ontology/\">\n",
    "%for reaction in reactions:\n",
    "    <reaction>\n",
    "        <reactants>\n",
    "        %for molecule in reaction.reactants.molecules:\n",
    "            <dbo:ChemicalCompound stoichiometry=\"${reaction.reactants.molecules[molecule]}\">\n",
    "                %for element in molecule.elements:\n",
    "                    <dbo:ChemicalElement symbol=\"${element.symbol}\"\n",
    "                                         number=\"${molecule.elements[element]}\"/>\n",
    "                %endfor\n",
    "            </dbo:ChemicalCompound>\n",
    "        %endfor\n",
    "        </reactants>\n",
    "        <products>\n",
    "        %for molecule in reaction.products.molecules:\n",
    "            <dbo:ChemicalCompound stoichiometry=\"${reaction.products.molecules[molecule]}\">\n",
    "            %for element in molecule.elements:\n",
    "                <dbo:ChemicalElement symbol=\"${element.symbol}\"\n",
    "                                     number=\"${molecule.elements[element]}\"/>\n",
    "            %endfor\n",
    "            </dbo:ChemicalCompound>\n",
    "        %endfor\n",
    "        </products>\n",
    "    </reaction>\n",
    "%endfor\n",
    "</system>"
   ]
  },
  {
   "cell_type": "markdown",
   "metadata": {},
   "source": [
    "However, this won't work properly, because it's not up to us to define the XML schema for somebody\n",
    "else's entity type: and an XML schema can only target one target namespace.\n",
    "\n",
    "Of course we should use somebody else's file format for chemical reaction networks: compare [SBML](http://sbml.org) for example. We already know not to reinvent the wheel - and this whole lecture series is just reinventing the wheel for pedagogical purposes. But what if we've already got a bunch of data in our own format. How can we lock down the meaning of our terms?\n",
    "\n",
    "So, we instead need to declare that our `r:element` *represents the same concept* as `dbo:ChemicalElement`. To do this formally we will need the concepts from the next lecture, specifically `rdf:sameAs`, but first, let's understand the idea of an ontology."
   ]
  },
  {
   "cell_type": "markdown",
   "metadata": {},
   "source": [
    "## Taxonomies and ontologies"
   ]
  },
  {
   "cell_type": "markdown",
   "metadata": {},
   "source": [
    "An Ontology (in computer science terms) is two things: a **controlled vocabulary** of entities (a set of URIs in a namespace), the definitions thereof, and the relationships between them."
   ]
  },
  {
   "cell_type": "markdown",
   "metadata": {},
   "source": [
    "People often casually use the word to mean any formalised taxonomy, but the relation of terms in the ontology to the concepts they represent, and the relationships between them, are also critical."
   ]
  },
  {
   "cell_type": "markdown",
   "metadata": {},
   "source": [
    "Have a look at another example: [https://dublincore.org/documents/dcmi-terms/](https://dublincore.org/documents/dcmi-terms/#terms-creator)"
   ]
  },
  {
   "cell_type": "markdown",
   "metadata": {},
   "source": [
    "Note each concept is a URI, but some of these are also stated to be subclasses or superclasses of the others."
   ]
  },
  {
   "cell_type": "markdown",
   "metadata": {},
   "source": [
    "Some are properties of other things, and the domain and range of these verbs are also stated."
   ]
  },
  {
   "cell_type": "markdown",
   "metadata": {},
   "source": [
    "Why is this useful for us in discussing file formats?"
   ]
  },
  {
   "cell_type": "markdown",
   "metadata": {},
   "source": [
    "One of the goals of the **semantic web** is to create a way to make file formats which are universally meaningful\n",
    "as found data: if I have a file format defined using any formalised ontology, then by tracing statements\n",
    "through *rdf:sameAs* relationships, I should be able to reconstruct the information I need.\n",
    "    \n",
    "That will be the goal of the next lecture.\n"
   ]
  }
 ],
 "metadata": {
  "jekyll": {
   "display_name": "Controlled vocabularies"
  },
  "kernelspec": {
   "display_name": "Python 3 (ipykernel)",
   "language": "python",
   "name": "python3"
  },
  "language_info": {
   "codemirror_mode": {
    "name": "ipython",
    "version": 3
   },
   "file_extension": ".py",
   "mimetype": "text/x-python",
   "name": "python",
   "nbconvert_exporter": "python",
   "pygments_lexer": "ipython3",
   "version": "3.8.13"
  }
 },
 "nbformat": 4,
 "nbformat_minor": 1
}