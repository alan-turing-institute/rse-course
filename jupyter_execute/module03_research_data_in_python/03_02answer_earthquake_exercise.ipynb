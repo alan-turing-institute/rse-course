{
 "cells": [
  {
   "cell_type": "markdown",
   "metadata": {},
   "source": [
    "# Solution: the biggest Earthquake in the UK this Century"
   ]
  },
  {
   "cell_type": "markdown",
   "metadata": {},
   "source": [
    "## Download the data"
   ]
  },
  {
   "cell_type": "code",
   "execution_count": 1,
   "metadata": {},
   "outputs": [],
   "source": [
    "import requests\n",
    "\n",
    "quakes = requests.get(\n",
    "    \"http://earthquake.usgs.gov/fdsnws/event/1/query.geojson\",\n",
    "    params={\n",
    "        \"starttime\": \"2000-01-01\",\n",
    "        \"maxlatitude\": \"58.723\",\n",
    "        \"minlatitude\": \"50.008\",\n",
    "        \"maxlongitude\": \"1.67\",\n",
    "        \"minlongitude\": \"-9.756\",\n",
    "        \"minmagnitude\": \"1\",\n",
    "        \"endtime\": \"2018-10-11\",\n",
    "        \"orderby\": \"time-asc\",\n",
    "    },\n",
    ")"
   ]
  },
  {
   "cell_type": "markdown",
   "metadata": {},
   "source": [
    "## Parse the data as JSON"
   ]
  },
  {
   "cell_type": "code",
   "execution_count": 2,
   "metadata": {},
   "outputs": [],
   "source": [
    "import json"
   ]
  },
  {
   "cell_type": "code",
   "execution_count": 3,
   "metadata": {},
   "outputs": [
    {
     "data": {
      "text/plain": [
       "'{\"type\":\"FeatureCollection\",\"metadata\":{\"generated\":1657557201000,\"url\":\"https://earthquake.usgs.gov/fdsnws/event/1/query.geojson?starttime=2000-01-01&maxlatitude=58.723&minlatitude=50.008&maxlongitud'"
      ]
     },
     "execution_count": 3,
     "metadata": {},
     "output_type": "execute_result"
    }
   ],
   "source": [
    "quakes.text[0:200]"
   ]
  },
  {
   "cell_type": "code",
   "execution_count": 4,
   "metadata": {},
   "outputs": [],
   "source": [
    "requests_json = json.loads(quakes.text)"
   ]
  },
  {
   "cell_type": "markdown",
   "metadata": {},
   "source": [
    "Note that the `requests` library has native JSON support, so you could do this instead:\n",
    "`requests_json = quakes.json()`"
   ]
  },
  {
   "cell_type": "markdown",
   "metadata": {},
   "source": [
    "## Investigate the data to discover how it is structured"
   ]
  },
  {
   "cell_type": "markdown",
   "metadata": {},
   "source": [
    "There is no foolproof way of doing this. A good first step is to see the type of our data!"
   ]
  },
  {
   "cell_type": "code",
   "execution_count": 5,
   "metadata": {},
   "outputs": [
    {
     "data": {
      "text/plain": [
       "dict"
      ]
     },
     "execution_count": 5,
     "metadata": {},
     "output_type": "execute_result"
    }
   ],
   "source": [
    "type(requests_json)"
   ]
  },
  {
   "cell_type": "markdown",
   "metadata": {},
   "source": [
    "Now we can navigate through this dictionary to see how the information is stored in the nested dictionaries and lists. The `keys` method can indicate what kind of information each dictionary holds, and the `len` function tells us how many entries are contained in a list. How you explore is up to you!"
   ]
  },
  {
   "cell_type": "code",
   "execution_count": 6,
   "metadata": {},
   "outputs": [
    {
     "data": {
      "text/plain": [
       "dict_keys(['type', 'metadata', 'features', 'bbox'])"
      ]
     },
     "execution_count": 6,
     "metadata": {},
     "output_type": "execute_result"
    }
   ],
   "source": [
    "requests_json.keys()"
   ]
  },
  {
   "cell_type": "code",
   "execution_count": 7,
   "metadata": {},
   "outputs": [
    {
     "data": {
      "text/plain": [
       "list"
      ]
     },
     "execution_count": 7,
     "metadata": {},
     "output_type": "execute_result"
    }
   ],
   "source": [
    "type(requests_json[\"features\"])"
   ]
  },
  {
   "cell_type": "code",
   "execution_count": 8,
   "metadata": {},
   "outputs": [
    {
     "data": {
      "text/plain": [
       "120"
      ]
     },
     "execution_count": 8,
     "metadata": {},
     "output_type": "execute_result"
    }
   ],
   "source": [
    "len(requests_json[\"features\"])"
   ]
  },
  {
   "cell_type": "code",
   "execution_count": 9,
   "metadata": {},
   "outputs": [
    {
     "data": {
      "text/plain": [
       "{'type': 'Feature',\n",
       " 'properties': {'mag': 2.6,\n",
       "  'place': '12 km NNW of Penrith, United Kingdom',\n",
       "  'time': 956553055700,\n",
       "  'updated': 1415322596133,\n",
       "  'tz': None,\n",
       "  'url': 'https://earthquake.usgs.gov/earthquakes/eventpage/usp0009rst',\n",
       "  'detail': 'https://earthquake.usgs.gov/fdsnws/event/1/query?eventid=usp0009rst&format=geojson',\n",
       "  'felt': None,\n",
       "  'cdi': None,\n",
       "  'mmi': None,\n",
       "  'alert': None,\n",
       "  'status': 'reviewed',\n",
       "  'tsunami': 0,\n",
       "  'sig': 104,\n",
       "  'net': 'us',\n",
       "  'code': 'p0009rst',\n",
       "  'ids': ',usp0009rst,',\n",
       "  'sources': ',us,',\n",
       "  'types': ',impact-text,origin,phase-data,',\n",
       "  'nst': None,\n",
       "  'dmin': None,\n",
       "  'rms': None,\n",
       "  'gap': None,\n",
       "  'magType': 'ml',\n",
       "  'type': 'earthquake',\n",
       "  'title': 'M 2.6 - 12 km NNW of Penrith, United Kingdom'},\n",
       " 'geometry': {'type': 'Point', 'coordinates': [-2.81, 54.77, 14]},\n",
       " 'id': 'usp0009rst'}"
      ]
     },
     "execution_count": 9,
     "metadata": {},
     "output_type": "execute_result"
    }
   ],
   "source": [
    "requests_json[\"features\"][0]"
   ]
  },
  {
   "cell_type": "code",
   "execution_count": 10,
   "metadata": {},
   "outputs": [
    {
     "data": {
      "text/plain": [
       "dict_keys(['type', 'properties', 'geometry', 'id'])"
      ]
     },
     "execution_count": 10,
     "metadata": {},
     "output_type": "execute_result"
    }
   ],
   "source": [
    "requests_json[\"features\"][0].keys()"
   ]
  },
  {
   "cell_type": "markdown",
   "metadata": {},
   "source": [
    "It looks like the coordinates are in the `geometry` section and the magnitude is in the `properties` section."
   ]
  },
  {
   "cell_type": "code",
   "execution_count": 11,
   "metadata": {},
   "outputs": [
    {
     "data": {
      "text/plain": [
       "{'type': 'Point', 'coordinates': [-2.81, 54.77, 14]}"
      ]
     },
     "execution_count": 11,
     "metadata": {},
     "output_type": "execute_result"
    }
   ],
   "source": [
    "requests_json[\"features\"][0][\"geometry\"]"
   ]
  },
  {
   "cell_type": "code",
   "execution_count": 12,
   "metadata": {},
   "outputs": [
    {
     "data": {
      "text/plain": [
       "dict_keys(['mag', 'place', 'time', 'updated', 'tz', 'url', 'detail', 'felt', 'cdi', 'mmi', 'alert', 'status', 'tsunami', 'sig', 'net', 'code', 'ids', 'sources', 'types', 'nst', 'dmin', 'rms', 'gap', 'magType', 'type', 'title'])"
      ]
     },
     "execution_count": 12,
     "metadata": {},
     "output_type": "execute_result"
    }
   ],
   "source": [
    "requests_json[\"features\"][0][\"properties\"].keys()"
   ]
  },
  {
   "cell_type": "code",
   "execution_count": 13,
   "metadata": {},
   "outputs": [
    {
     "data": {
      "text/plain": [
       "2.6"
      ]
     },
     "execution_count": 13,
     "metadata": {},
     "output_type": "execute_result"
    }
   ],
   "source": [
    "requests_json[\"features\"][0][\"properties\"][\"mag\"]"
   ]
  },
  {
   "cell_type": "markdown",
   "metadata": {},
   "source": [
    "## Find the largest quake"
   ]
  },
  {
   "cell_type": "code",
   "execution_count": 14,
   "metadata": {},
   "outputs": [],
   "source": [
    "quakes = requests_json[\"features\"]"
   ]
  },
  {
   "cell_type": "code",
   "execution_count": 15,
   "metadata": {},
   "outputs": [
    {
     "data": {
      "text/plain": [
       "4.8"
      ]
     },
     "execution_count": 15,
     "metadata": {},
     "output_type": "execute_result"
    }
   ],
   "source": [
    "largest_so_far = quakes[0]\n",
    "for quake in quakes:\n",
    "    if quake[\"properties\"][\"mag\"] > largest_so_far[\"properties\"][\"mag\"]:\n",
    "        largest_so_far = quake\n",
    "largest_so_far[\"properties\"][\"mag\"]"
   ]
  },
  {
   "cell_type": "code",
   "execution_count": 16,
   "metadata": {},
   "outputs": [
    {
     "name": "stdout",
     "output_type": "stream",
     "text": [
      "Latitude: 52.52 Longitude: -2.15\n"
     ]
    }
   ],
   "source": [
    "lat = largest_so_far[\"geometry\"][\"coordinates\"][1]\n",
    "long = largest_so_far[\"geometry\"][\"coordinates\"][0]\n",
    "print(\"Latitude: {} Longitude: {}\".format(lat, long))"
   ]
  },
  {
   "cell_type": "markdown",
   "metadata": {},
   "source": [
    "## Get a map at the point of the quake"
   ]
  },
  {
   "cell_type": "code",
   "execution_count": 17,
   "metadata": {},
   "outputs": [],
   "source": [
    "import requests\n",
    "\n",
    "\n",
    "def request_map_at(lat, long, satellite=True, zoom=10, size=(400, 400)):\n",
    "    base = \"https://static-maps.yandex.ru/1.x/?\"\n",
    "\n",
    "    params = dict(\n",
    "        z=zoom,\n",
    "        size=\"{},{}\".format(size[0], size[1]),\n",
    "        ll=\"{},{}\".format(long, lat),\n",
    "        l=\"sat\" if satellite else \"map\",\n",
    "        lang=\"en_US\",\n",
    "    )\n",
    "\n",
    "    return requests.get(base, params=params)"
   ]
  },
  {
   "cell_type": "code",
   "execution_count": 18,
   "metadata": {},
   "outputs": [],
   "source": [
    "map_png = request_map_at(lat, long, zoom=10, satellite=False)"
   ]
  },
  {
   "cell_type": "markdown",
   "metadata": {},
   "source": [
    "## Display the map"
   ]
  },
  {
   "cell_type": "code",
   "execution_count": 19,
   "metadata": {},
   "outputs": [
    {
     "data": {
      "image/png": "[encoded data removed]",
      "text/plain": [
       "<IPython.core.display.Image object>"
      ]
     },
     "execution_count": 19,
     "metadata": {
      "filenames": {
       "image/png": "/home/runner/work/rse-course/rse-course/_build/jupyter_execute/module03_research_data_in_python/03_02answer_earthquake_exercise_29_0.png"
      }
     },
     "output_type": "execute_result"
    }
   ],
   "source": [
    "from IPython.display import Image\n",
    "\n",
    "Image(map_png.content)"
   ]
  }
 ],
 "metadata": {
  "jekyll": {
   "display_name": "Quakes Solution"
  },
  "kernelspec": {
   "display_name": "Python 3 (ipykernel)",
   "language": "python",
   "name": "python3"
  },
  "language_info": {
   "codemirror_mode": {
    "name": "ipython",
    "version": 3
   },
   "file_extension": ".py",
   "mimetype": "text/x-python",
   "name": "python",
   "nbconvert_exporter": "python",
   "pygments_lexer": "ipython3",
   "version": "3.8.13"
  }
 },
 "nbformat": 4,
 "nbformat_minor": 1
}