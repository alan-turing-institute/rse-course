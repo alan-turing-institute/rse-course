{
 "cells": [
  {
   "cell_type": "markdown",
   "metadata": {},
   "source": [
    "# 3.1 Field and Record Data"
   ]
  },
  {
   "cell_type": "markdown",
   "metadata": {},
   "source": [
    "*Estimated time to complete this notebook: 20 minutes*"
   ]
  },
  {
   "cell_type": "markdown",
   "metadata": {},
   "source": [
    "## 3.1.1 Separated Value Files"
   ]
  },
  {
   "cell_type": "markdown",
   "metadata": {},
   "source": [
    "Let's go back to the sunspots example [from the previous module](../module02_intermediate_python/02_04_getting_data_from_the_internet.ipynb).\n",
    "We had downloaded some semicolon separated data and decided it was better to use a library than to write our own parser."
   ]
  },
  {
   "cell_type": "code",
   "execution_count": 1,
   "metadata": {},
   "outputs": [
    {
     "data": {
      "text/plain": [
       "'1749;01;1749.042;  96.7; -1.0;   -1;1'"
      ]
     },
     "execution_count": 1,
     "metadata": {},
     "output_type": "execute_result"
    }
   ],
   "source": [
    "import requests\n",
    "\n",
    "spots = requests.get(\"http://www.sidc.be/silso/INFO/snmtotcsv.php\", timeout=60)\n",
    "spots.text.split(\"\\n\")[0]"
   ]
  },
  {
   "cell_type": "markdown",
   "metadata": {},
   "source": [
    "We want to work programmatically with *Separated Value* files."
   ]
  },
  {
   "cell_type": "markdown",
   "metadata": {},
   "source": [
    "These are files which have:\n",
    "\n",
    "* Each *record* on a line\n",
    "* Each record has multiple *fields*\n",
    "* Fields are separated by some *separator*"
   ]
  },
  {
   "cell_type": "markdown",
   "metadata": {},
   "source": [
    "Typical separators are the `space`, `tab`, `comma`, and `semicolon` separated values files, e.g.:\n",
    "\n",
    "* Space separated value (e.g. `field1 \"field two\" field3` )\n",
    "* Comma separated value (e.g. `field1, another field, \"wow, another field\"`)"
   ]
  },
  {
   "cell_type": "markdown",
   "metadata": {},
   "source": [
    "Comma-separated-value is abbreviated CSV, and tab separated value TSV."
   ]
  },
  {
   "cell_type": "markdown",
   "metadata": {},
   "source": [
    "CSV is also used to refer to all the different sub-kinds of separated value files, i.e. some people use CSV to refer to tab, space and semicolon separated files."
   ]
  },
  {
   "cell_type": "markdown",
   "metadata": {},
   "source": [
    "CSV is not a particularly great data format, because it forces your data model to be a list of lists.\n",
    "Richer file formats describe \"serialisations\" for dictionaries and for deeper-than-two nested list structures as well."
   ]
  },
  {
   "cell_type": "markdown",
   "metadata": {},
   "source": [
    "Nevertheless, CSV files are very popular because you can always export *spreadsheets* as CSV files, (each cell is a field, each row is a record)"
   ]
  },
  {
   "cell_type": "markdown",
   "metadata": {},
   "source": [
    "## 3.1.2 CSV variants"
   ]
  },
  {
   "cell_type": "markdown",
   "metadata": {},
   "source": [
    "Some CSV formats define a comment character, so that rows beginning with, e.g., a #, are not treated as data, but give a human comment."
   ]
  },
  {
   "cell_type": "markdown",
   "metadata": {},
   "source": [
    "Some CSV formats define a three-deep list structure, where a double-newline separates records into blocks."
   ]
  },
  {
   "cell_type": "markdown",
   "metadata": {},
   "source": [
    "Some CSV formats assume that the first line defines the names of the fields, e.g.:\n",
    "\n",
    "```\n",
    "name, age\n",
    "James, 39\n",
    "Will, 2\n",
    "```"
   ]
  },
  {
   "cell_type": "markdown",
   "metadata": {},
   "source": [
    "## 3.1.3 Python CSV readers"
   ]
  },
  {
   "cell_type": "markdown",
   "metadata": {},
   "source": [
    "The Python standard library has a `csv` module.\n",
    "However, it's less powerful than the CSV capabilities in other libraries such as [`numpy`](https://numpy.org/).\n",
    "Here we will use [`pandas`](https://pandas.pydata.org/) which is built on top of `numpy`."
   ]
  },
  {
   "cell_type": "code",
   "execution_count": 2,
   "metadata": {},
   "outputs": [],
   "source": [
    "import pandas as pd"
   ]
  },
  {
   "cell_type": "code",
   "execution_count": 3,
   "metadata": {},
   "outputs": [
    {
     "data": {
      "text/html": [
       "<div>\n",
       "<style scoped>\n",
       "    .dataframe tbody tr th:only-of-type {\n",
       "        vertical-align: middle;\n",
       "    }\n",
       "\n",
       "    .dataframe tbody tr th {\n",
       "        vertical-align: top;\n",
       "    }\n",
       "\n",
       "    .dataframe thead th {\n",
       "        text-align: right;\n",
       "    }\n",
       "</style>\n",
       "<table border=\"1\" class=\"dataframe\">\n",
       "  <thead>\n",
       "    <tr style=\"text-align: right;\">\n",
       "      <th></th>\n",
       "      <th>0</th>\n",
       "      <th>1</th>\n",
       "      <th>2</th>\n",
       "      <th>3</th>\n",
       "      <th>4</th>\n",
       "      <th>5</th>\n",
       "      <th>6</th>\n",
       "    </tr>\n",
       "  </thead>\n",
       "  <tbody>\n",
       "    <tr>\n",
       "      <th>0</th>\n",
       "      <td>1749</td>\n",
       "      <td>1</td>\n",
       "      <td>1749.042</td>\n",
       "      <td>96.7</td>\n",
       "      <td>-1.0</td>\n",
       "      <td>-1</td>\n",
       "      <td>1</td>\n",
       "    </tr>\n",
       "    <tr>\n",
       "      <th>1</th>\n",
       "      <td>1749</td>\n",
       "      <td>2</td>\n",
       "      <td>1749.123</td>\n",
       "      <td>104.3</td>\n",
       "      <td>-1.0</td>\n",
       "      <td>-1</td>\n",
       "      <td>1</td>\n",
       "    </tr>\n",
       "    <tr>\n",
       "      <th>2</th>\n",
       "      <td>1749</td>\n",
       "      <td>3</td>\n",
       "      <td>1749.204</td>\n",
       "      <td>116.7</td>\n",
       "      <td>-1.0</td>\n",
       "      <td>-1</td>\n",
       "      <td>1</td>\n",
       "    </tr>\n",
       "    <tr>\n",
       "      <th>3</th>\n",
       "      <td>1749</td>\n",
       "      <td>4</td>\n",
       "      <td>1749.288</td>\n",
       "      <td>92.8</td>\n",
       "      <td>-1.0</td>\n",
       "      <td>-1</td>\n",
       "      <td>1</td>\n",
       "    </tr>\n",
       "    <tr>\n",
       "      <th>4</th>\n",
       "      <td>1749</td>\n",
       "      <td>5</td>\n",
       "      <td>1749.371</td>\n",
       "      <td>141.7</td>\n",
       "      <td>-1.0</td>\n",
       "      <td>-1</td>\n",
       "      <td>1</td>\n",
       "    </tr>\n",
       "  </tbody>\n",
       "</table>\n",
       "</div>"
      ],
      "text/plain": [
       "      0  1         2      3    4  5  6\n",
       "0  1749  1  1749.042   96.7 -1.0 -1  1\n",
       "1  1749  2  1749.123  104.3 -1.0 -1  1\n",
       "2  1749  3  1749.204  116.7 -1.0 -1  1\n",
       "3  1749  4  1749.288   92.8 -1.0 -1  1\n",
       "4  1749  5  1749.371  141.7 -1.0 -1  1"
      ]
     },
     "execution_count": 3,
     "metadata": {},
     "output_type": "execute_result"
    }
   ],
   "source": [
    "df = pd.read_csv(\"http://www.sidc.be/silso/INFO/snmtotcsv.php\", sep=\";\", header=None)\n",
    "df.head()"
   ]
  },
  {
   "cell_type": "markdown",
   "metadata": {},
   "source": [
    "Pandas `read_csv` is a powerful CSV reader tool.\n",
    "A path to the data is given, this can be something on a local machine, or in this case the path is a url.\n",
    "\n",
    "\n",
    "We used the `sep` optional argument to specify the delimeter.\n",
    "The optional argument `header` specifies if the data contains headers, and if so; the row numbers to use as column names.\n",
    "\n",
    "\n",
    "The data is loaded into a DataFrame.\n",
    "The `head` method shows us the first 5 entries in the dataframe.\n",
    "The `tail` method shows us the last 5 entries."
   ]
  },
  {
   "cell_type": "code",
   "execution_count": 4,
   "metadata": {},
   "outputs": [
    {
     "data": {
      "text/html": [
       "<div>\n",
       "<style scoped>\n",
       "    .dataframe tbody tr th:only-of-type {\n",
       "        vertical-align: middle;\n",
       "    }\n",
       "\n",
       "    .dataframe tbody tr th {\n",
       "        vertical-align: top;\n",
       "    }\n",
       "\n",
       "    .dataframe thead th {\n",
       "        text-align: right;\n",
       "    }\n",
       "</style>\n",
       "<table border=\"1\" class=\"dataframe\">\n",
       "  <thead>\n",
       "    <tr style=\"text-align: right;\">\n",
       "      <th></th>\n",
       "      <th>0</th>\n",
       "      <th>1</th>\n",
       "      <th>2</th>\n",
       "      <th>3</th>\n",
       "      <th>4</th>\n",
       "      <th>5</th>\n",
       "      <th>6</th>\n",
       "    </tr>\n",
       "  </thead>\n",
       "  <tbody>\n",
       "    <tr>\n",
       "      <th>3284</th>\n",
       "      <td>2022</td>\n",
       "      <td>9</td>\n",
       "      <td>2022.705</td>\n",
       "      <td>96.0</td>\n",
       "      <td>16.3</td>\n",
       "      <td>1264</td>\n",
       "      <td>1</td>\n",
       "    </tr>\n",
       "    <tr>\n",
       "      <th>3285</th>\n",
       "      <td>2022</td>\n",
       "      <td>10</td>\n",
       "      <td>2022.790</td>\n",
       "      <td>95.4</td>\n",
       "      <td>15.5</td>\n",
       "      <td>1028</td>\n",
       "      <td>0</td>\n",
       "    </tr>\n",
       "    <tr>\n",
       "      <th>3286</th>\n",
       "      <td>2022</td>\n",
       "      <td>11</td>\n",
       "      <td>2022.873</td>\n",
       "      <td>77.6</td>\n",
       "      <td>14.1</td>\n",
       "      <td>881</td>\n",
       "      <td>0</td>\n",
       "    </tr>\n",
       "    <tr>\n",
       "      <th>3287</th>\n",
       "      <td>2022</td>\n",
       "      <td>12</td>\n",
       "      <td>2022.958</td>\n",
       "      <td>113.1</td>\n",
       "      <td>16.9</td>\n",
       "      <td>726</td>\n",
       "      <td>0</td>\n",
       "    </tr>\n",
       "    <tr>\n",
       "      <th>3288</th>\n",
       "      <td>2023</td>\n",
       "      <td>1</td>\n",
       "      <td>2023.042</td>\n",
       "      <td>143.6</td>\n",
       "      <td>29.2</td>\n",
       "      <td>855</td>\n",
       "      <td>0</td>\n",
       "    </tr>\n",
       "  </tbody>\n",
       "</table>\n",
       "</div>"
      ],
      "text/plain": [
       "         0   1         2      3     4     5  6\n",
       "3284  2022   9  2022.705   96.0  16.3  1264  1\n",
       "3285  2022  10  2022.790   95.4  15.5  1028  0\n",
       "3286  2022  11  2022.873   77.6  14.1   881  0\n",
       "3287  2022  12  2022.958  113.1  16.9   726  0\n",
       "3288  2023   1  2023.042  143.6  29.2   855  0"
      ]
     },
     "execution_count": 4,
     "metadata": {},
     "output_type": "execute_result"
    }
   ],
   "source": [
    "df.tail()"
   ]
  },
  {
   "cell_type": "code",
   "execution_count": 5,
   "metadata": {},
   "outputs": [
    {
     "data": {
      "text/plain": [
       "96.7"
      ]
     },
     "execution_count": 5,
     "metadata": {},
     "output_type": "execute_result"
    }
   ],
   "source": [
    "df[3][0]"
   ]
  },
  {
   "cell_type": "markdown",
   "metadata": {},
   "source": [
    "We can now plot the \"Sunspot cycle\":"
   ]
  },
  {
   "cell_type": "code",
   "execution_count": 6,
   "metadata": {},
   "outputs": [
    {
     "data": {
      "text/plain": [
       "<AxesSubplot: xlabel='2'>"
      ]
     },
     "execution_count": 6,
     "metadata": {},
     "output_type": "execute_result"
    },
    {
     "data": {
      "image/png": "[encoded data removed]",
      "text/plain": [
       "<Figure size 640x480 with 1 Axes>"
      ]
     },
     "metadata": {
      "filenames": {
       "image/png": "/home/runner/work/rse-course/rse-course/_build/jupyter_execute/module03_research_data_in_python/03_01_fields_and_records_24_1.png"
      }
     },
     "output_type": "display_data"
    }
   ],
   "source": [
    "df.plot(x=2, y=3)"
   ]
  },
  {
   "cell_type": "markdown",
   "metadata": {},
   "source": [
    "The plot command accepted an series of 'X' values and an series of 'Y' values, identified by their column number in this case, as the dataframe does not have (useful) column headers yet."
   ]
  },
  {
   "cell_type": "markdown",
   "metadata": {},
   "source": [
    "## 3.1.4 Naming Columns"
   ]
  },
  {
   "cell_type": "markdown",
   "metadata": {},
   "source": [
    "As it happens, the columns definitions can be found on the source website (http://www.sidc.be/silso/infosnmtot)"
   ]
  },
  {
   "cell_type": "markdown",
   "metadata": {},
   "source": [
    "> CSV\n",
    "> \n",
    "> Filename: SN_m_tot_V2.0.csv\n",
    "> Format: Comma Separated values (adapted for import in spreadsheets)\n",
    "> The separator is the semicolon ';'.\n",
    "> \n",
    "> Contents:\n",
    "> - Column 1-2: Gregorian calendar date\n",
    ">   - Year\n",
    ">   - Month\n",
    "> - Column 3: Date in fraction of year.\n",
    "> - Column 4: Monthly mean total sunspot number.\n",
    "> - Column 5: Monthly mean standard deviation of the input sunspot numbers.\n",
    "> - Column 6: Number of observations used to compute the monthly mean total sunspot number.\n",
    "> - Column 7: Definitive/provisional marker. '1' indicates that the value is definitive. '0' indicates that the value is still provisional."
   ]
  },
  {
   "cell_type": "markdown",
   "metadata": {
    "collapsed": true
   },
   "source": [
    "We can actually specify this to the formatter:"
   ]
  },
  {
   "cell_type": "code",
   "execution_count": 7,
   "metadata": {},
   "outputs": [
    {
     "data": {
      "text/html": [
       "<div>\n",
       "<style scoped>\n",
       "    .dataframe tbody tr th:only-of-type {\n",
       "        vertical-align: middle;\n",
       "    }\n",
       "\n",
       "    .dataframe tbody tr th {\n",
       "        vertical-align: top;\n",
       "    }\n",
       "\n",
       "    .dataframe thead th {\n",
       "        text-align: right;\n",
       "    }\n",
       "</style>\n",
       "<table border=\"1\" class=\"dataframe\">\n",
       "  <thead>\n",
       "    <tr style=\"text-align: right;\">\n",
       "      <th></th>\n",
       "      <th>year</th>\n",
       "      <th>month</th>\n",
       "      <th>date</th>\n",
       "      <th>mean</th>\n",
       "      <th>deviation</th>\n",
       "      <th>observations</th>\n",
       "      <th>definitive</th>\n",
       "    </tr>\n",
       "  </thead>\n",
       "  <tbody>\n",
       "    <tr>\n",
       "      <th>0</th>\n",
       "      <td>1749</td>\n",
       "      <td>1</td>\n",
       "      <td>1749.042</td>\n",
       "      <td>96.7</td>\n",
       "      <td>-1.0</td>\n",
       "      <td>-1</td>\n",
       "      <td>1</td>\n",
       "    </tr>\n",
       "    <tr>\n",
       "      <th>1</th>\n",
       "      <td>1749</td>\n",
       "      <td>2</td>\n",
       "      <td>1749.123</td>\n",
       "      <td>104.3</td>\n",
       "      <td>-1.0</td>\n",
       "      <td>-1</td>\n",
       "      <td>1</td>\n",
       "    </tr>\n",
       "    <tr>\n",
       "      <th>2</th>\n",
       "      <td>1749</td>\n",
       "      <td>3</td>\n",
       "      <td>1749.204</td>\n",
       "      <td>116.7</td>\n",
       "      <td>-1.0</td>\n",
       "      <td>-1</td>\n",
       "      <td>1</td>\n",
       "    </tr>\n",
       "    <tr>\n",
       "      <th>3</th>\n",
       "      <td>1749</td>\n",
       "      <td>4</td>\n",
       "      <td>1749.288</td>\n",
       "      <td>92.8</td>\n",
       "      <td>-1.0</td>\n",
       "      <td>-1</td>\n",
       "      <td>1</td>\n",
       "    </tr>\n",
       "    <tr>\n",
       "      <th>4</th>\n",
       "      <td>1749</td>\n",
       "      <td>5</td>\n",
       "      <td>1749.371</td>\n",
       "      <td>141.7</td>\n",
       "      <td>-1.0</td>\n",
       "      <td>-1</td>\n",
       "      <td>1</td>\n",
       "    </tr>\n",
       "  </tbody>\n",
       "</table>\n",
       "</div>"
      ],
      "text/plain": [
       "   year  month      date   mean  deviation  observations  definitive\n",
       "0  1749      1  1749.042   96.7       -1.0            -1           1\n",
       "1  1749      2  1749.123  104.3       -1.0            -1           1\n",
       "2  1749      3  1749.204  116.7       -1.0            -1           1\n",
       "3  1749      4  1749.288   92.8       -1.0            -1           1\n",
       "4  1749      5  1749.371  141.7       -1.0            -1           1"
      ]
     },
     "execution_count": 7,
     "metadata": {},
     "output_type": "execute_result"
    }
   ],
   "source": [
    "df_w_names = pd.read_csv(\n",
    "    \"http://www.sidc.be/silso/INFO/snmtotcsv.php\",\n",
    "    sep=\";\",\n",
    "    header=None,\n",
    "    names=[\"year\", \"month\", \"date\", \"mean\", \"deviation\", \"observations\", \"definitive\"],\n",
    ")\n",
    "df_w_names.head()"
   ]
  },
  {
   "cell_type": "code",
   "execution_count": 8,
   "metadata": {},
   "outputs": [
    {
     "data": {
      "text/plain": [
       "<AxesSubplot: xlabel='date'>"
      ]
     },
     "execution_count": 8,
     "metadata": {},
     "output_type": "execute_result"
    },
    {
     "data": {
      "image/png": "[encoded data removed]",
      "text/plain": [
       "<Figure size 640x480 with 1 Axes>"
      ]
     },
     "metadata": {
      "filenames": {
       "image/png": "/home/runner/work/rse-course/rse-course/_build/jupyter_execute/module03_research_data_in_python/03_01_fields_and_records_31_1.png"
      }
     },
     "output_type": "display_data"
    }
   ],
   "source": [
    "df_w_names.plot(x=\"date\", y=\"mean\")"
   ]
  },
  {
   "cell_type": "markdown",
   "metadata": {},
   "source": [
    "Note: The plot method used for the `DataFrame` is just a wrapper around the `matplotlib` function `plt.plot()`:"
   ]
  },
  {
   "cell_type": "markdown",
   "metadata": {},
   "source": [
    "## 3.1.5 Typed Fields"
   ]
  },
  {
   "cell_type": "markdown",
   "metadata": {},
   "source": [
    "It's also often useful to check, and if necessary specify, the datatype of each field."
   ]
  },
  {
   "cell_type": "code",
   "execution_count": 9,
   "metadata": {},
   "outputs": [
    {
     "data": {
      "text/plain": [
       "year              int64\n",
       "month             int64\n",
       "date            float64\n",
       "mean            float64\n",
       "deviation       float64\n",
       "observations      int64\n",
       "definitive        int64\n",
       "dtype: object"
      ]
     },
     "execution_count": 9,
     "metadata": {},
     "output_type": "execute_result"
    }
   ],
   "source": [
    "df_w_names.dtypes  # Check the data types of all columns in the DataFrame"
   ]
  },
  {
   "cell_type": "markdown",
   "metadata": {},
   "source": [
    "In this case the data types seem sensible, however if we wanted to convert the year into a floating point number instead, we could via:"
   ]
  },
  {
   "cell_type": "code",
   "execution_count": 10,
   "metadata": {},
   "outputs": [
    {
     "data": {
      "text/plain": [
       "year            float64\n",
       "month             int64\n",
       "date            float64\n",
       "mean            float64\n",
       "deviation       float64\n",
       "observations      int64\n",
       "definitive        int64\n",
       "dtype: object"
      ]
     },
     "execution_count": 10,
     "metadata": {},
     "output_type": "execute_result"
    }
   ],
   "source": [
    "df_w_names[\"year\"] = df_w_names[\"year\"].astype(\"float64\")\n",
    "df_w_names.dtypes"
   ]
  },
  {
   "cell_type": "code",
   "execution_count": 11,
   "metadata": {},
   "outputs": [
    {
     "data": {
      "text/html": [
       "<div>\n",
       "<style scoped>\n",
       "    .dataframe tbody tr th:only-of-type {\n",
       "        vertical-align: middle;\n",
       "    }\n",
       "\n",
       "    .dataframe tbody tr th {\n",
       "        vertical-align: top;\n",
       "    }\n",
       "\n",
       "    .dataframe thead th {\n",
       "        text-align: right;\n",
       "    }\n",
       "</style>\n",
       "<table border=\"1\" class=\"dataframe\">\n",
       "  <thead>\n",
       "    <tr style=\"text-align: right;\">\n",
       "      <th></th>\n",
       "      <th>year</th>\n",
       "      <th>month</th>\n",
       "      <th>date</th>\n",
       "      <th>mean</th>\n",
       "      <th>deviation</th>\n",
       "      <th>observations</th>\n",
       "      <th>definitive</th>\n",
       "    </tr>\n",
       "  </thead>\n",
       "  <tbody>\n",
       "    <tr>\n",
       "      <th>0</th>\n",
       "      <td>1749.0</td>\n",
       "      <td>1</td>\n",
       "      <td>1749.042</td>\n",
       "      <td>96.7</td>\n",
       "      <td>-1.0</td>\n",
       "      <td>-1</td>\n",
       "      <td>1</td>\n",
       "    </tr>\n",
       "    <tr>\n",
       "      <th>1</th>\n",
       "      <td>1749.0</td>\n",
       "      <td>2</td>\n",
       "      <td>1749.123</td>\n",
       "      <td>104.3</td>\n",
       "      <td>-1.0</td>\n",
       "      <td>-1</td>\n",
       "      <td>1</td>\n",
       "    </tr>\n",
       "    <tr>\n",
       "      <th>2</th>\n",
       "      <td>1749.0</td>\n",
       "      <td>3</td>\n",
       "      <td>1749.204</td>\n",
       "      <td>116.7</td>\n",
       "      <td>-1.0</td>\n",
       "      <td>-1</td>\n",
       "      <td>1</td>\n",
       "    </tr>\n",
       "    <tr>\n",
       "      <th>3</th>\n",
       "      <td>1749.0</td>\n",
       "      <td>4</td>\n",
       "      <td>1749.288</td>\n",
       "      <td>92.8</td>\n",
       "      <td>-1.0</td>\n",
       "      <td>-1</td>\n",
       "      <td>1</td>\n",
       "    </tr>\n",
       "    <tr>\n",
       "      <th>4</th>\n",
       "      <td>1749.0</td>\n",
       "      <td>5</td>\n",
       "      <td>1749.371</td>\n",
       "      <td>141.7</td>\n",
       "      <td>-1.0</td>\n",
       "      <td>-1</td>\n",
       "      <td>1</td>\n",
       "    </tr>\n",
       "  </tbody>\n",
       "</table>\n",
       "</div>"
      ],
      "text/plain": [
       "     year  month      date   mean  deviation  observations  definitive\n",
       "0  1749.0      1  1749.042   96.7       -1.0            -1           1\n",
       "1  1749.0      2  1749.123  104.3       -1.0            -1           1\n",
       "2  1749.0      3  1749.204  116.7       -1.0            -1           1\n",
       "3  1749.0      4  1749.288   92.8       -1.0            -1           1\n",
       "4  1749.0      5  1749.371  141.7       -1.0            -1           1"
      ]
     },
     "execution_count": 11,
     "metadata": {},
     "output_type": "execute_result"
    }
   ],
   "source": [
    "df_w_names.head()"
   ]
  },
  {
   "cell_type": "markdown",
   "metadata": {},
   "source": [
    "## 3.1.6 Filtering data"
   ]
  },
  {
   "cell_type": "markdown",
   "metadata": {},
   "source": [
    "Sometimes it is necessary to filter data, for example to only see the sunspots for the year 2018 you would use:"
   ]
  },
  {
   "cell_type": "code",
   "execution_count": 12,
   "metadata": {},
   "outputs": [
    {
     "data": {
      "text/html": [
       "<div>\n",
       "<style scoped>\n",
       "    .dataframe tbody tr th:only-of-type {\n",
       "        vertical-align: middle;\n",
       "    }\n",
       "\n",
       "    .dataframe tbody tr th {\n",
       "        vertical-align: top;\n",
       "    }\n",
       "\n",
       "    .dataframe thead th {\n",
       "        text-align: right;\n",
       "    }\n",
       "</style>\n",
       "<table border=\"1\" class=\"dataframe\">\n",
       "  <thead>\n",
       "    <tr style=\"text-align: right;\">\n",
       "      <th></th>\n",
       "      <th>year</th>\n",
       "      <th>month</th>\n",
       "      <th>date</th>\n",
       "      <th>mean</th>\n",
       "      <th>deviation</th>\n",
       "      <th>observations</th>\n",
       "      <th>definitive</th>\n",
       "    </tr>\n",
       "  </thead>\n",
       "  <tbody>\n",
       "    <tr>\n",
       "      <th>3228</th>\n",
       "      <td>2018.0</td>\n",
       "      <td>1</td>\n",
       "      <td>2018.042</td>\n",
       "      <td>6.8</td>\n",
       "      <td>1.5</td>\n",
       "      <td>701</td>\n",
       "      <td>1</td>\n",
       "    </tr>\n",
       "    <tr>\n",
       "      <th>3229</th>\n",
       "      <td>2018.0</td>\n",
       "      <td>2</td>\n",
       "      <td>2018.122</td>\n",
       "      <td>10.7</td>\n",
       "      <td>1.1</td>\n",
       "      <td>917</td>\n",
       "      <td>1</td>\n",
       "    </tr>\n",
       "    <tr>\n",
       "      <th>3230</th>\n",
       "      <td>2018.0</td>\n",
       "      <td>3</td>\n",
       "      <td>2018.204</td>\n",
       "      <td>2.5</td>\n",
       "      <td>0.4</td>\n",
       "      <td>1081</td>\n",
       "      <td>1</td>\n",
       "    </tr>\n",
       "    <tr>\n",
       "      <th>3231</th>\n",
       "      <td>2018.0</td>\n",
       "      <td>4</td>\n",
       "      <td>2018.286</td>\n",
       "      <td>8.9</td>\n",
       "      <td>1.3</td>\n",
       "      <td>996</td>\n",
       "      <td>1</td>\n",
       "    </tr>\n",
       "    <tr>\n",
       "      <th>3232</th>\n",
       "      <td>2018.0</td>\n",
       "      <td>5</td>\n",
       "      <td>2018.371</td>\n",
       "      <td>13.1</td>\n",
       "      <td>1.6</td>\n",
       "      <td>1234</td>\n",
       "      <td>1</td>\n",
       "    </tr>\n",
       "    <tr>\n",
       "      <th>3233</th>\n",
       "      <td>2018.0</td>\n",
       "      <td>6</td>\n",
       "      <td>2018.453</td>\n",
       "      <td>15.6</td>\n",
       "      <td>1.6</td>\n",
       "      <td>1070</td>\n",
       "      <td>1</td>\n",
       "    </tr>\n",
       "    <tr>\n",
       "      <th>3234</th>\n",
       "      <td>2018.0</td>\n",
       "      <td>7</td>\n",
       "      <td>2018.538</td>\n",
       "      <td>1.6</td>\n",
       "      <td>0.6</td>\n",
       "      <td>1438</td>\n",
       "      <td>1</td>\n",
       "    </tr>\n",
       "    <tr>\n",
       "      <th>3235</th>\n",
       "      <td>2018.0</td>\n",
       "      <td>8</td>\n",
       "      <td>2018.623</td>\n",
       "      <td>8.7</td>\n",
       "      <td>1.0</td>\n",
       "      <td>1297</td>\n",
       "      <td>1</td>\n",
       "    </tr>\n",
       "    <tr>\n",
       "      <th>3236</th>\n",
       "      <td>2018.0</td>\n",
       "      <td>9</td>\n",
       "      <td>2018.705</td>\n",
       "      <td>3.3</td>\n",
       "      <td>0.6</td>\n",
       "      <td>1223</td>\n",
       "      <td>1</td>\n",
       "    </tr>\n",
       "    <tr>\n",
       "      <th>3237</th>\n",
       "      <td>2018.0</td>\n",
       "      <td>10</td>\n",
       "      <td>2018.790</td>\n",
       "      <td>4.9</td>\n",
       "      <td>1.2</td>\n",
       "      <td>1097</td>\n",
       "      <td>1</td>\n",
       "    </tr>\n",
       "    <tr>\n",
       "      <th>3238</th>\n",
       "      <td>2018.0</td>\n",
       "      <td>11</td>\n",
       "      <td>2018.873</td>\n",
       "      <td>4.9</td>\n",
       "      <td>0.6</td>\n",
       "      <td>771</td>\n",
       "      <td>1</td>\n",
       "    </tr>\n",
       "    <tr>\n",
       "      <th>3239</th>\n",
       "      <td>2018.0</td>\n",
       "      <td>12</td>\n",
       "      <td>2018.958</td>\n",
       "      <td>3.1</td>\n",
       "      <td>0.5</td>\n",
       "      <td>786</td>\n",
       "      <td>1</td>\n",
       "    </tr>\n",
       "  </tbody>\n",
       "</table>\n",
       "</div>"
      ],
      "text/plain": [
       "        year  month      date  mean  deviation  observations  definitive\n",
       "3228  2018.0      1  2018.042   6.8        1.5           701           1\n",
       "3229  2018.0      2  2018.122  10.7        1.1           917           1\n",
       "3230  2018.0      3  2018.204   2.5        0.4          1081           1\n",
       "3231  2018.0      4  2018.286   8.9        1.3           996           1\n",
       "3232  2018.0      5  2018.371  13.1        1.6          1234           1\n",
       "3233  2018.0      6  2018.453  15.6        1.6          1070           1\n",
       "3234  2018.0      7  2018.538   1.6        0.6          1438           1\n",
       "3235  2018.0      8  2018.623   8.7        1.0          1297           1\n",
       "3236  2018.0      9  2018.705   3.3        0.6          1223           1\n",
       "3237  2018.0     10  2018.790   4.9        1.2          1097           1\n",
       "3238  2018.0     11  2018.873   4.9        0.6           771           1\n",
       "3239  2018.0     12  2018.958   3.1        0.5           786           1"
      ]
     },
     "execution_count": 12,
     "metadata": {},
     "output_type": "execute_result"
    }
   ],
   "source": [
    "df_twenty_eighteen = df_w_names[(df_w_names[\"year\"] == 2018)]\n",
    "df_twenty_eighteen.head(20)"
   ]
  },
  {
   "cell_type": "markdown",
   "metadata": {},
   "source": [
    "Even though we used \n",
    "```bash\n",
    "df_twenty_eighteen.head(20)\n",
    "```\n",
    "to show us the first 20 results from the dataframe, only 12 are shown as there are only 12 months in a year\n",
    "\n",
    "If we wanted all data from 1997 to 1999 we could via:"
   ]
  },
  {
   "cell_type": "code",
   "execution_count": 13,
   "metadata": {},
   "outputs": [],
   "source": [
    "df_nineties = df_w_names[(df_w_names[\"year\"] >= 1997) & (df_w_names[\"year\"] < 2000)]"
   ]
  },
  {
   "cell_type": "code",
   "execution_count": 14,
   "metadata": {},
   "outputs": [
    {
     "data": {
      "text/html": [
       "<div>\n",
       "<style scoped>\n",
       "    .dataframe tbody tr th:only-of-type {\n",
       "        vertical-align: middle;\n",
       "    }\n",
       "\n",
       "    .dataframe tbody tr th {\n",
       "        vertical-align: top;\n",
       "    }\n",
       "\n",
       "    .dataframe thead th {\n",
       "        text-align: right;\n",
       "    }\n",
       "</style>\n",
       "<table border=\"1\" class=\"dataframe\">\n",
       "  <thead>\n",
       "    <tr style=\"text-align: right;\">\n",
       "      <th></th>\n",
       "      <th>year</th>\n",
       "      <th>month</th>\n",
       "      <th>date</th>\n",
       "      <th>mean</th>\n",
       "      <th>deviation</th>\n",
       "      <th>observations</th>\n",
       "      <th>definitive</th>\n",
       "    </tr>\n",
       "  </thead>\n",
       "  <tbody>\n",
       "    <tr>\n",
       "      <th>2976</th>\n",
       "      <td>1997.0</td>\n",
       "      <td>1</td>\n",
       "      <td>1997.042</td>\n",
       "      <td>7.4</td>\n",
       "      <td>3.2</td>\n",
       "      <td>497</td>\n",
       "      <td>1</td>\n",
       "    </tr>\n",
       "    <tr>\n",
       "      <th>2977</th>\n",
       "      <td>1997.0</td>\n",
       "      <td>2</td>\n",
       "      <td>1997.123</td>\n",
       "      <td>11.0</td>\n",
       "      <td>2.9</td>\n",
       "      <td>545</td>\n",
       "      <td>1</td>\n",
       "    </tr>\n",
       "    <tr>\n",
       "      <th>2978</th>\n",
       "      <td>1997.0</td>\n",
       "      <td>3</td>\n",
       "      <td>1997.204</td>\n",
       "      <td>12.1</td>\n",
       "      <td>2.4</td>\n",
       "      <td>627</td>\n",
       "      <td>1</td>\n",
       "    </tr>\n",
       "    <tr>\n",
       "      <th>2979</th>\n",
       "      <td>1997.0</td>\n",
       "      <td>4</td>\n",
       "      <td>1997.288</td>\n",
       "      <td>23.0</td>\n",
       "      <td>3.3</td>\n",
       "      <td>663</td>\n",
       "      <td>1</td>\n",
       "    </tr>\n",
       "    <tr>\n",
       "      <th>2980</th>\n",
       "      <td>1997.0</td>\n",
       "      <td>5</td>\n",
       "      <td>1997.371</td>\n",
       "      <td>25.4</td>\n",
       "      <td>2.8</td>\n",
       "      <td>716</td>\n",
       "      <td>1</td>\n",
       "    </tr>\n",
       "  </tbody>\n",
       "</table>\n",
       "</div>"
      ],
      "text/plain": [
       "        year  month      date  mean  deviation  observations  definitive\n",
       "2976  1997.0      1  1997.042   7.4        3.2           497           1\n",
       "2977  1997.0      2  1997.123  11.0        2.9           545           1\n",
       "2978  1997.0      3  1997.204  12.1        2.4           627           1\n",
       "2979  1997.0      4  1997.288  23.0        3.3           663           1\n",
       "2980  1997.0      5  1997.371  25.4        2.8           716           1"
      ]
     },
     "execution_count": 14,
     "metadata": {},
     "output_type": "execute_result"
    }
   ],
   "source": [
    "df_nineties.head()"
   ]
  },
  {
   "cell_type": "code",
   "execution_count": 15,
   "metadata": {},
   "outputs": [
    {
     "data": {
      "text/html": [
       "<div>\n",
       "<style scoped>\n",
       "    .dataframe tbody tr th:only-of-type {\n",
       "        vertical-align: middle;\n",
       "    }\n",
       "\n",
       "    .dataframe tbody tr th {\n",
       "        vertical-align: top;\n",
       "    }\n",
       "\n",
       "    .dataframe thead th {\n",
       "        text-align: right;\n",
       "    }\n",
       "</style>\n",
       "<table border=\"1\" class=\"dataframe\">\n",
       "  <thead>\n",
       "    <tr style=\"text-align: right;\">\n",
       "      <th></th>\n",
       "      <th>year</th>\n",
       "      <th>month</th>\n",
       "      <th>date</th>\n",
       "      <th>mean</th>\n",
       "      <th>deviation</th>\n",
       "      <th>observations</th>\n",
       "      <th>definitive</th>\n",
       "    </tr>\n",
       "  </thead>\n",
       "  <tbody>\n",
       "    <tr>\n",
       "      <th>3007</th>\n",
       "      <td>1999.0</td>\n",
       "      <td>8</td>\n",
       "      <td>1999.623</td>\n",
       "      <td>142.3</td>\n",
       "      <td>12.9</td>\n",
       "      <td>649</td>\n",
       "      <td>1</td>\n",
       "    </tr>\n",
       "    <tr>\n",
       "      <th>3008</th>\n",
       "      <td>1999.0</td>\n",
       "      <td>9</td>\n",
       "      <td>1999.707</td>\n",
       "      <td>106.3</td>\n",
       "      <td>6.5</td>\n",
       "      <td>624</td>\n",
       "      <td>1</td>\n",
       "    </tr>\n",
       "    <tr>\n",
       "      <th>3009</th>\n",
       "      <td>1999.0</td>\n",
       "      <td>10</td>\n",
       "      <td>1999.790</td>\n",
       "      <td>168.7</td>\n",
       "      <td>10.4</td>\n",
       "      <td>531</td>\n",
       "      <td>1</td>\n",
       "    </tr>\n",
       "    <tr>\n",
       "      <th>3010</th>\n",
       "      <td>1999.0</td>\n",
       "      <td>11</td>\n",
       "      <td>1999.874</td>\n",
       "      <td>188.3</td>\n",
       "      <td>12.3</td>\n",
       "      <td>406</td>\n",
       "      <td>1</td>\n",
       "    </tr>\n",
       "    <tr>\n",
       "      <th>3011</th>\n",
       "      <td>1999.0</td>\n",
       "      <td>12</td>\n",
       "      <td>1999.958</td>\n",
       "      <td>116.8</td>\n",
       "      <td>9.3</td>\n",
       "      <td>404</td>\n",
       "      <td>1</td>\n",
       "    </tr>\n",
       "  </tbody>\n",
       "</table>\n",
       "</div>"
      ],
      "text/plain": [
       "        year  month      date   mean  deviation  observations  definitive\n",
       "3007  1999.0      8  1999.623  142.3       12.9           649           1\n",
       "3008  1999.0      9  1999.707  106.3        6.5           624           1\n",
       "3009  1999.0     10  1999.790  168.7       10.4           531           1\n",
       "3010  1999.0     11  1999.874  188.3       12.3           406           1\n",
       "3011  1999.0     12  1999.958  116.8        9.3           404           1"
      ]
     },
     "execution_count": 15,
     "metadata": {},
     "output_type": "execute_result"
    }
   ],
   "source": [
    "df_nineties.tail()"
   ]
  }
 ],
 "metadata": {
  "jekyll": {
   "display_name": "CSV"
  },
  "kernelspec": {
   "display_name": "Python 3",
   "language": "python",
   "name": "python3"
  },
  "language_info": {
   "codemirror_mode": {
    "name": "ipython",
    "version": 3
   },
   "file_extension": ".py",
   "mimetype": "text/x-python",
   "name": "python",
   "nbconvert_exporter": "python",
   "pygments_lexer": "ipython3",
   "version": "3.8.16"
  }
 },
 "nbformat": 4,
 "nbformat_minor": 1
}