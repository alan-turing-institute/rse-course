{
 "cells": [
  {
   "cell_type": "markdown",
   "metadata": {},
   "source": [
    "# 3.1 Structured Data"
   ]
  },
  {
   "cell_type": "markdown",
   "metadata": {},
   "source": [
    "*Estimated time to complete this notebook: 15 minutes*"
   ]
  },
  {
   "cell_type": "markdown",
   "metadata": {},
   "source": [
    "## 3.1.1 Structured data"
   ]
  },
  {
   "cell_type": "markdown",
   "metadata": {},
   "source": [
    "CSV files can only model data where each record has several fields, and each field is a simple datatype,\n",
    "a string or number."
   ]
  },
  {
   "cell_type": "markdown",
   "metadata": {},
   "source": [
    "We often want to store data which is more complicated than this, with nested structures of lists and dictionaries.\n",
    "Structured data formats like JSON, YAML, and XML are designed for this."
   ]
  },
  {
   "cell_type": "markdown",
   "metadata": {},
   "source": [
    "## 3.1.2 JSON"
   ]
  },
  {
   "cell_type": "markdown",
   "metadata": {},
   "source": [
    "[JSON](https://en.wikipedia.org/wiki/JSON) is a very common open-standard data format that is used to store structured data in a human-readable way."
   ]
  },
  {
   "cell_type": "markdown",
   "metadata": {},
   "source": [
    "This allows us to represent data which is combinations of lists and dictionaries as a text file which\n",
    "looks a bit like a Javascript (or Python) data literal."
   ]
  },
  {
   "cell_type": "code",
   "execution_count": 1,
   "metadata": {},
   "outputs": [],
   "source": [
    "import json"
   ]
  },
  {
   "cell_type": "markdown",
   "metadata": {},
   "source": [
    "**Any nested group of dictionaries and lists can be saved:**"
   ]
  },
  {
   "cell_type": "markdown",
   "metadata": {},
   "source": [
    "Saving and loading data is really easy.\n",
    "\n",
    "To save a dictionary as a json file:"
   ]
  },
  {
   "cell_type": "code",
   "execution_count": 2,
   "metadata": {},
   "outputs": [],
   "source": [
    "example_dictionary = {\"somekey\": [\"a list\", \"with values\", \"for json\"]}\n",
    "\n",
    "with open(\"myfile.json\", \"w\") as f:\n",
    "    json.dump(example_dictionary, f)"
   ]
  },
  {
   "cell_type": "markdown",
   "metadata": {},
   "source": [
    "And read in the data back in from the file"
   ]
  },
  {
   "cell_type": "code",
   "execution_count": 3,
   "metadata": {},
   "outputs": [],
   "source": [
    "with open(\"myfile.json\", \"r\") as f:\n",
    "    my_json_data = json.load(f)"
   ]
  },
  {
   "cell_type": "code",
   "execution_count": 4,
   "metadata": {},
   "outputs": [
    {
     "data": {
      "text/plain": [
       "{'somekey': ['a list', 'with values', 'for json']}"
      ]
     },
     "execution_count": 4,
     "metadata": {},
     "output_type": "execute_result"
    }
   ],
   "source": [
    "my_json_data"
   ]
  },
  {
   "cell_type": "code",
   "execution_count": 5,
   "metadata": {},
   "outputs": [
    {
     "data": {
      "text/plain": [
       "['a list', 'with values', 'for json']"
      ]
     },
     "execution_count": 5,
     "metadata": {},
     "output_type": "execute_result"
    }
   ],
   "source": [
    "my_json_data[\"somekey\"]"
   ]
  },
  {
   "cell_type": "markdown",
   "metadata": {},
   "source": [
    "This is a very nice solution for loading and saving Python data structures.\n",
    "\n",
    "It's a very common way of transferring data on the internet, and of saving datasets to disk.\n",
    "\n",
    "There's good support in most languages, so it's a nice inter-language file interchange format."
   ]
  },
  {
   "cell_type": "markdown",
   "metadata": {},
   "source": [
    "## 3.1.3 YAML"
   ]
  },
  {
   "cell_type": "markdown",
   "metadata": {},
   "source": [
    "[YAML](https://en.wikipedia.org/wiki/YAML) is a very similar data format to JSON, with some nice additions:"
   ]
  },
  {
   "cell_type": "markdown",
   "metadata": {},
   "source": [
    "* You don't need to quote strings if they don't have funny characters in\n",
    "* You can have comment lines, beginning with a #\n",
    "* You can write dictionaries without the curly brackets: it just notices the colons.\n",
    "* You can write lists like this:"
   ]
  },
  {
   "cell_type": "code",
   "execution_count": 6,
   "metadata": {},
   "outputs": [
    {
     "name": "stdout",
     "output_type": "stream",
     "text": [
      "Overwriting myfile.yaml\n"
     ]
    }
   ],
   "source": [
    "%%writefile myfile.yaml\n",
    "somekey:\n",
    "    - a list # Look, this is a list\n",
    "    - with values\n",
    "    - for yaml"
   ]
  },
  {
   "cell_type": "code",
   "execution_count": 7,
   "metadata": {},
   "outputs": [],
   "source": [
    "import yaml  # This may need installed as pyyaml"
   ]
  },
  {
   "cell_type": "code",
   "execution_count": 8,
   "metadata": {},
   "outputs": [
    {
     "name": "stdout",
     "output_type": "stream",
     "text": [
      "{'somekey': ['a list', 'with values', 'for yaml']}\n"
     ]
    }
   ],
   "source": [
    "with open(\"myfile.yaml\") as myfile:\n",
    "    my_yaml_data = yaml.safe_load(myfile)\n",
    "print(my_yaml_data)"
   ]
  },
  {
   "cell_type": "markdown",
   "metadata": {},
   "source": [
    "**Supplementary Materials:** `yaml.safe_load` is preferred over `yaml.load` to avoid executing arbitrary code in untrusted files. See [here](https://github.com/yaml/pyyaml/wiki/PyYAML-yaml.load(input)-Deprecation) for details."
   ]
  },
  {
   "cell_type": "markdown",
   "metadata": {},
   "source": [
    "YAML is a popular format for ad-hoc data files, but the library doesn't ship with default Python (though it is part\n",
    "of Anaconda and Canopy), so some people still prefer JSON for its universality."
   ]
  },
  {
   "cell_type": "markdown",
   "metadata": {},
   "source": [
    "Because YAML gives the **option** of serialising a list either as newlines with dashes, *or* with square brackets,\n",
    "you can control this choice:"
   ]
  },
  {
   "cell_type": "code",
   "execution_count": 9,
   "metadata": {},
   "outputs": [
    {
     "name": "stdout",
     "output_type": "stream",
     "text": [
      "{somekey: [a list, with values, for yaml]}\n",
      "\n"
     ]
    }
   ],
   "source": [
    "print(yaml.safe_dump(my_yaml_data, default_flow_style=True))"
   ]
  },
  {
   "cell_type": "code",
   "execution_count": 10,
   "metadata": {},
   "outputs": [
    {
     "name": "stdout",
     "output_type": "stream",
     "text": [
      "somekey:\n",
      "- a list\n",
      "- with values\n",
      "- for yaml\n",
      "\n"
     ]
    }
   ],
   "source": [
    "print(yaml.safe_dump(my_yaml_data, default_flow_style=False))"
   ]
  },
  {
   "cell_type": "markdown",
   "metadata": {},
   "source": [
    "`default_flow_style=False` uses a \"block style\" (rather than an \"inline\" or \"flow style\") to delineate data structures. [See the YAML docs for more details](http://yaml.org/spec/1.2/spec.html)."
   ]
  },
  {
   "cell_type": "markdown",
   "metadata": {},
   "source": [
    "In addition to saving a yaml file via cell magics, they can also be written:"
   ]
  },
  {
   "cell_type": "code",
   "execution_count": 11,
   "metadata": {},
   "outputs": [],
   "source": [
    "with open(\"myotherfile.yml\", \"w\") as f:\n",
    "    yaml.safe_dump(my_yaml_data, f, default_flow_style=False)"
   ]
  },
  {
   "cell_type": "markdown",
   "metadata": {},
   "source": [
    "## 3.1.4 JSON to YAML"
   ]
  },
  {
   "cell_type": "markdown",
   "metadata": {},
   "source": [
    "And of course the json formatted data can be written as a yaml file, and vice versa. Here we are taking the data we read in for the json example and saving it as a yaml file. "
   ]
  },
  {
   "cell_type": "code",
   "execution_count": 12,
   "metadata": {},
   "outputs": [],
   "source": [
    "with open(\"json_to_yaml.yaml\", \"w\") as f:\n",
    "    yaml.safe_dump(my_json_data, f, default_flow_style=False)"
   ]
  },
  {
   "cell_type": "markdown",
   "metadata": {},
   "source": [
    "You can compare the original json file to the json-data-saved-as-yaml either when loaded...."
   ]
  },
  {
   "cell_type": "code",
   "execution_count": 13,
   "metadata": {},
   "outputs": [
    {
     "name": "stdout",
     "output_type": "stream",
     "text": [
      "{'somekey': ['a list', 'with values', 'for json']}\n"
     ]
    }
   ],
   "source": [
    "# The original json file\n",
    "with open(\"myfile.json\", \"r\") as f:\n",
    "    mydataasstring = f.read()\n",
    "print(json.loads(mydataasstring))"
   ]
  },
  {
   "cell_type": "code",
   "execution_count": 14,
   "metadata": {},
   "outputs": [
    {
     "name": "stdout",
     "output_type": "stream",
     "text": [
      "{'somekey': ['a list', 'with values', 'for json']}\n"
     ]
    }
   ],
   "source": [
    "# The data from the json file saved as a yaml then read in\n",
    "with open(\"json_to_yaml.yaml\") as f:\n",
    "    my_json_yaml_data = yaml.safe_load(f)\n",
    "print(my_json_yaml_data)"
   ]
  },
  {
   "cell_type": "markdown",
   "metadata": {},
   "source": [
    "To how they appear in their respective file formats"
   ]
  },
  {
   "cell_type": "code",
   "execution_count": 15,
   "metadata": {},
   "outputs": [
    {
     "name": "stdout",
     "output_type": "stream",
     "text": [
      "{\"somekey\": [\"a list\", \"with values\", \"for json\"]}"
     ]
    }
   ],
   "source": [
    "%%bash\n",
    "#%%cmd (windows)\n",
    "cat 'myfile.json' # The original json file"
   ]
  },
  {
   "cell_type": "code",
   "execution_count": 16,
   "metadata": {},
   "outputs": [
    {
     "name": "stdout",
     "output_type": "stream",
     "text": [
      "somekey:\n"
     ]
    },
    {
     "name": "stdout",
     "output_type": "stream",
     "text": [
      "- a list\n"
     ]
    },
    {
     "name": "stdout",
     "output_type": "stream",
     "text": [
      "- with values\n"
     ]
    },
    {
     "name": "stdout",
     "output_type": "stream",
     "text": [
      "- for json\n"
     ]
    }
   ],
   "source": [
    "%%bash\n",
    "#%%cmd (windows)\n",
    "cat 'json_to_yaml.yaml' # The data from the json file saved as a yaml"
   ]
  },
  {
   "cell_type": "markdown",
   "metadata": {},
   "source": [
    "## 3.1.5 XML"
   ]
  },
  {
   "cell_type": "markdown",
   "metadata": {},
   "source": [
    "**Supplementary material**: [XML](http://www.w3schools.com/xml/) is another popular choice when saving nested data structures. \n",
    "It's very careful, but verbose. If your field uses XML data, you'll need to learn a [python XML parser](https://docs.python.org/3/library/xml.etree.elementtree.html)\n",
    "(there are a few), and about how XML works."
   ]
  }
 ],
 "metadata": {
  "jekyll": {
   "display_name": "Structured Datafiles"
  },
  "kernelspec": {
   "display_name": "Python 3",
   "language": "python",
   "name": "python3"
  },
  "language_info": {
   "codemirror_mode": {
    "name": "ipython",
    "version": 3
   },
   "file_extension": ".py",
   "mimetype": "text/x-python",
   "name": "python",
   "nbconvert_exporter": "python",
   "pygments_lexer": "ipython3",
   "version": "3.8.14"
  }
 },
 "nbformat": 4,
 "nbformat_minor": 1
}