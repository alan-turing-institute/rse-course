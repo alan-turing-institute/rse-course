{
 "cells": [
  {
   "cell_type": "markdown",
   "metadata": {},
   "source": [
    "# Field and Record Data"
   ]
  },
  {
   "cell_type": "markdown",
   "metadata": {},
   "source": [
    "## Separated Value Files"
   ]
  },
  {
   "cell_type": "markdown",
   "metadata": {},
   "source": [
    "Let's carry on with our sunspots example:"
   ]
  },
  {
   "cell_type": "code",
   "execution_count": 1,
   "metadata": {},
   "outputs": [
    {
     "data": {
      "text/plain": [
       "'1749;01;1749.042;  96.7; -1.0;   -1;1'"
      ]
     },
     "execution_count": 1,
     "metadata": {},
     "output_type": "execute_result"
    }
   ],
   "source": [
    "import requests\n",
    "\n",
    "spots = requests.get(\"http://www.sidc.be/silso/INFO/snmtotcsv.php\")\n",
    "spots.text.split(\"\\n\")[0]"
   ]
  },
  {
   "cell_type": "markdown",
   "metadata": {},
   "source": [
    "We want to work programmatically with *Separated Value* files."
   ]
  },
  {
   "cell_type": "markdown",
   "metadata": {},
   "source": [
    "These are files which have:\n",
    "\n",
    "* Each *record* on a line\n",
    "* Each record has multiple *fields*\n",
    "* Fields are separated by some *separator*"
   ]
  },
  {
   "cell_type": "markdown",
   "metadata": {},
   "source": [
    "Typical separators are the `space`, `tab`, `comma`, and `semicolon` separated values files, e.g.:\n",
    "\n",
    "* Space separated value (e.g. `field1 \"field two\" field3` )\n",
    "* Comma separated value (e.g. `field1, another field, \"wow, another field\"`)"
   ]
  },
  {
   "cell_type": "markdown",
   "metadata": {},
   "source": [
    "Comma-separated-value is abbreviated CSV, and tab separated value TSV."
   ]
  },
  {
   "cell_type": "markdown",
   "metadata": {},
   "source": [
    "CSV is also used to refer to all the different sub-kinds of separated value files, i.e. some people use CSV to refer to tab, space and semicolon separated files."
   ]
  },
  {
   "cell_type": "markdown",
   "metadata": {},
   "source": [
    "CSV is not a particularly superb data format, because it forces your data model to be a list of lists. Richer file formats describe \"serialisations\" for dictionaries and for deeper-than-two nested list structures as well."
   ]
  },
  {
   "cell_type": "markdown",
   "metadata": {},
   "source": [
    "Nevertheless, because you can always export *spreadsheets* as CSV files, (each cell is a field, each row is a record)\n",
    "CSV files are very popular. "
   ]
  },
  {
   "cell_type": "markdown",
   "metadata": {},
   "source": [
    "## CSV variants"
   ]
  },
  {
   "cell_type": "markdown",
   "metadata": {},
   "source": [
    "Some CSV formats define a comment character, so that rows beginning with, e.g., a #, are not treated as data, but give\n",
    "a human comment."
   ]
  },
  {
   "cell_type": "markdown",
   "metadata": {},
   "source": [
    "Some CSV formats define a three-deep list structure, where a double-newline separates records into blocks."
   ]
  },
  {
   "cell_type": "markdown",
   "metadata": {},
   "source": [
    "Some CSV formats assume that the first line defines the names of the fields, e.g.:\n",
    "\n",
    "```\n",
    "name, age\n",
    "James, 39\n",
    "Will, 2\n",
    "```"
   ]
  },
  {
   "cell_type": "markdown",
   "metadata": {},
   "source": [
    "## Python CSV readers"
   ]
  },
  {
   "cell_type": "markdown",
   "metadata": {},
   "source": [
    "The Python standard library has a `csv` module. However, it's less powerful than the CSV capabilities in `numpy`,\n",
    "the main scientific python library for handling data. Numpy is destributed with Anaconda and Canopy, so we recommend you just use that."
   ]
  },
  {
   "cell_type": "markdown",
   "metadata": {},
   "source": [
    "Numpy has powerful capabilities for handling matrices, and other fun stuff, and we'll learn about these later in the course,\n",
    "but for now, we'll just use numpy's CSV reader, and assume it makes us lists and dictionaries, rather than its more exciting `array` type.\n",
    "\n",
    "Another popular library for working with tabular data is [pandas](https://pandas.pydata.org/), which is built on top of numpy."
   ]
  },
  {
   "cell_type": "code",
   "execution_count": 2,
   "metadata": {},
   "outputs": [],
   "source": [
    "import numpy as np\n",
    "import requests"
   ]
  },
  {
   "cell_type": "code",
   "execution_count": 3,
   "metadata": {},
   "outputs": [],
   "source": [
    "spots = requests.get(\"http://www.sidc.be/silso/INFO/snmtotcsv.php\", stream=True)"
   ]
  },
  {
   "cell_type": "markdown",
   "metadata": {},
   "source": [
    "`stream=True` delays loading all of the data until it is required."
   ]
  },
  {
   "cell_type": "code",
   "execution_count": 4,
   "metadata": {},
   "outputs": [],
   "source": [
    "sunspots = np.genfromtxt(spots.raw, delimiter=\";\")"
   ]
  },
  {
   "cell_type": "markdown",
   "metadata": {},
   "source": [
    "`genfromtxt` is a powerful CSV reader. I used the `delimiter` optional argument to specify the delimeter. I could also specify\n",
    "`names=True` if I had a first line naming fields, and `comments=#` if I had comment lines."
   ]
  },
  {
   "cell_type": "code",
   "execution_count": 5,
   "metadata": {},
   "outputs": [
    {
     "data": {
      "text/plain": [
       "96.7"
      ]
     },
     "execution_count": 5,
     "metadata": {},
     "output_type": "execute_result"
    }
   ],
   "source": [
    "sunspots[0][3]"
   ]
  },
  {
   "cell_type": "markdown",
   "metadata": {},
   "source": [
    "We can now plot the \"Sunspot cycle\":"
   ]
  },
  {
   "cell_type": "code",
   "execution_count": 6,
   "metadata": {},
   "outputs": [
    {
     "data": {
      "text/plain": [
       "[<matplotlib.lines.Line2D at 0x7fccf8612f70>]"
      ]
     },
     "execution_count": 6,
     "metadata": {},
     "output_type": "execute_result"
    },
    {
     "data": {
      "image/png": "[encoded data removed]",
      "text/plain": [
       "<Figure size 432x288 with 1 Axes>"
      ]
     },
     "metadata": {
      "filenames": {
       "image/png": "/home/runner/work/rse-course/rse-course/_build/jupyter_execute/module03_research_data_in_python/03_00_fields_and_records_25_1.png"
      },
      "needs_background": "light"
     },
     "output_type": "display_data"
    }
   ],
   "source": [
    "%matplotlib inline\n",
    "\n",
    "from matplotlib import pyplot as plt\n",
    "\n",
    "plt.plot(sunspots[:, 2], sunspots[:, 3])  # Numpy syntax to access all\n",
    "# rows, specified column."
   ]
  },
  {
   "cell_type": "markdown",
   "metadata": {},
   "source": [
    "The plot command accepted an array of 'X' values and an array of 'Y' values. We used a special NumPy \":\" syntax,\n",
    "which we'll learn more about later. Don't worry about the %matplotlib magic command for now - we'll also look at this later."
   ]
  },
  {
   "cell_type": "markdown",
   "metadata": {},
   "source": [
    "## Naming Columns"
   ]
  },
  {
   "cell_type": "markdown",
   "metadata": {},
   "source": [
    "I happen to know that the columns here are defined as follows:"
   ]
  },
  {
   "cell_type": "markdown",
   "metadata": {},
   "source": [
    "From http://www.sidc.be/silso/infosnmtot:\n",
    "\n",
    "> CSV\n",
    "\n",
    "> Filename: SN_m_tot_V2.0.csv\n",
    "> Format: Comma Separated values (adapted for import in spreadsheets)\n",
    "The separator is the semicolon ';'.\n",
    "\n",
    "> Contents:\n",
    "* Column 1-2: Gregorian calendar date\n",
    "- Year\n",
    "- Month\n",
    "* Column 3: Date in fraction of year.\n",
    "* Column 4: Monthly mean total sunspot number.\n",
    "* Column 5: Monthly mean standard deviation of the input sunspot numbers.\n",
    "* Column 6: Number of observations used to compute the monthly mean total sunspot number.\n",
    "* Column 7: Definitive/provisional marker. '1' indicates that the value is definitive. '0' indicates that the value is still provisional."
   ]
  },
  {
   "cell_type": "markdown",
   "metadata": {
    "collapsed": true
   },
   "source": [
    "I can actually specify this to the formatter:"
   ]
  },
  {
   "cell_type": "code",
   "execution_count": 7,
   "metadata": {},
   "outputs": [],
   "source": [
    "spots = requests.get(\"http://www.sidc.be/silso/INFO/snmtotcsv.php\", stream=True)\n",
    "\n",
    "sunspots = np.genfromtxt(\n",
    "    spots.raw,\n",
    "    delimiter=\";\",\n",
    "    names=[\"year\", \"month\", \"date\", \"mean\", \"deviation\", \"observations\", \"definitive\"],\n",
    ")"
   ]
  },
  {
   "cell_type": "code",
   "execution_count": 8,
   "metadata": {},
   "outputs": [
    {
     "data": {
      "text/plain": [
       "array([(1749., 1., 1749.042,  96.7, -1. , -1.000e+00, 1.),\n",
       "       (1749., 2., 1749.123, 104.3, -1. , -1.000e+00, 1.),\n",
       "       (1749., 3., 1749.204, 116.7, -1. , -1.000e+00, 1.), ...,\n",
       "       (2022., 4., 2022.286,  84.1, 15.2,  1.237e+03, 0.),\n",
       "       (2022., 5., 2022.371,  96.5, 16. ,  1.250e+03, 0.),\n",
       "       (2022., 6., 2022.453,  70.5, 12.9,  1.219e+03, 0.)],\n",
       "      dtype=[('year', '<f8'), ('month', '<f8'), ('date', '<f8'), ('mean', '<f8'), ('deviation', '<f8'), ('observations', '<f8'), ('definitive', '<f8')])"
      ]
     },
     "execution_count": 8,
     "metadata": {},
     "output_type": "execute_result"
    }
   ],
   "source": [
    "sunspots"
   ]
  },
  {
   "cell_type": "markdown",
   "metadata": {},
   "source": [
    "## Typed Fields"
   ]
  },
  {
   "cell_type": "markdown",
   "metadata": {},
   "source": [
    "It's also often good to specify the datatype of each field."
   ]
  },
  {
   "cell_type": "code",
   "execution_count": 9,
   "metadata": {},
   "outputs": [],
   "source": [
    "spots = requests.get(\"http://www.sidc.be/silso/INFO/snmtotcsv.php\", stream=True)\n",
    "\n",
    "sunspots = np.genfromtxt(\n",
    "    spots.raw,\n",
    "    delimiter=\";\",\n",
    "    names=[\"year\", \"month\", \"date\", \"mean\", \"deviation\", \"observations\", \"definitive\"],\n",
    "    dtype=[int, int, float, float, float, int, int],\n",
    ")"
   ]
  },
  {
   "cell_type": "code",
   "execution_count": 10,
   "metadata": {},
   "outputs": [
    {
     "data": {
      "text/plain": [
       "array([(1749, 1, 1749.042,  96.7, -1. ,   -1, 1),\n",
       "       (1749, 2, 1749.123, 104.3, -1. ,   -1, 1),\n",
       "       (1749, 3, 1749.204, 116.7, -1. ,   -1, 1), ...,\n",
       "       (2022, 4, 2022.286,  84.1, 15.2, 1237, 0),\n",
       "       (2022, 5, 2022.371,  96.5, 16. , 1250, 0),\n",
       "       (2022, 6, 2022.453,  70.5, 12.9, 1219, 0)],\n",
       "      dtype=[('year', '<i8'), ('month', '<i8'), ('date', '<f8'), ('mean', '<f8'), ('deviation', '<f8'), ('observations', '<i8'), ('definitive', '<i8')])"
      ]
     },
     "execution_count": 10,
     "metadata": {},
     "output_type": "execute_result"
    }
   ],
   "source": [
    "sunspots"
   ]
  },
  {
   "cell_type": "markdown",
   "metadata": {},
   "source": [
    "Now, NumPy understands the names of the columns, so our plot command is more readable:"
   ]
  },
  {
   "cell_type": "code",
   "execution_count": 11,
   "metadata": {},
   "outputs": [
    {
     "data": {
      "text/plain": [
       "array([1749, 1749, 1749, ..., 2022, 2022, 2022])"
      ]
     },
     "execution_count": 11,
     "metadata": {},
     "output_type": "execute_result"
    }
   ],
   "source": [
    "sunspots[\"year\"]"
   ]
  },
  {
   "cell_type": "code",
   "execution_count": 12,
   "metadata": {},
   "outputs": [
    {
     "data": {
      "text/plain": [
       "[<matplotlib.lines.Line2D at 0x7fccf848a7c0>]"
      ]
     },
     "execution_count": 12,
     "metadata": {},
     "output_type": "execute_result"
    },
    {
     "data": {
      "image/png": "[encoded data removed]",
      "text/plain": [
       "<Figure size 432x288 with 1 Axes>"
      ]
     },
     "metadata": {
      "filenames": {
       "image/png": "/home/runner/work/rse-course/rse-course/_build/jupyter_execute/module03_research_data_in_python/03_00_fields_and_records_39_1.png"
      },
      "needs_background": "light"
     },
     "output_type": "display_data"
    }
   ],
   "source": [
    "plt.plot(sunspots[\"year\"], sunspots[\"mean\"])"
   ]
  }
 ],
 "metadata": {
  "jekyll": {
   "display_name": "CSV"
  },
  "kernelspec": {
   "display_name": "Python 3 (ipykernel)",
   "language": "python",
   "name": "python3"
  },
  "language_info": {
   "codemirror_mode": {
    "name": "ipython",
    "version": 3
   },
   "file_extension": ".py",
   "mimetype": "text/x-python",
   "name": "python",
   "nbconvert_exporter": "python",
   "pygments_lexer": "ipython3",
   "version": "3.8.13"
  }
 },
 "nbformat": 4,
 "nbformat_minor": 1
}