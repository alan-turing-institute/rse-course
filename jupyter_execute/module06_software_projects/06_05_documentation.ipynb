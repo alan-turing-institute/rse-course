{
 "cells": [
  {
   "cell_type": "markdown",
   "metadata": {},
   "source": [
    "# 6.5 Documentation"
   ]
  },
  {
   "cell_type": "markdown",
   "metadata": {},
   "source": [
    "*Estimated time for this notebook: 10 minutes*"
   ]
  },
  {
   "cell_type": "markdown",
   "metadata": {},
   "source": [
    "## Documentation is hard"
   ]
  },
  {
   "cell_type": "markdown",
   "metadata": {},
   "source": [
    "\n",
    "* Good documentation is hard, and very expensive.\n",
    "* Bad documentation is detrimental.\n",
    "* Good documentation quickly becomes bad if not kept up-to-date with code changes.\n",
    "* Professional companies pay large teams of documentation writers.\n"
   ]
  },
  {
   "cell_type": "markdown",
   "metadata": {},
   "source": [
    "## Prefer readable code with tests and vignettes"
   ]
  },
  {
   "cell_type": "markdown",
   "metadata": {},
   "source": [
    "\n",
    "If you don't have the capacity to maintain great documentation,\n",
    "focus on:\n",
    "\n",
    "* Readable code\n",
    "* Automated tests\n",
    "* Small code samples demonstrating how to use the api\n"
   ]
  },
  {
   "cell_type": "markdown",
   "metadata": {},
   "source": [
    "## Comment-based Documentation tools"
   ]
  },
  {
   "cell_type": "markdown",
   "metadata": {},
   "source": [
    "\n",
    "Documentation tools can produce extensive documentation about your code by pulling out comments near the beginning of functions,\n",
    "together with the signature, into a web page.\n",
    "\n",
    "The most popular is [Doxygen](http://www.stack.nl/~dimitri/doxygen/)\n",
    "\n",
    "[Have a look at an example of some Doxygen output](\n",
    "http://www.bempp.org/cppref/2.0/group__abstract__boundary__operators.html)\n",
    "\n",
    "[Sphinx](http://sphinx-doc.org/) is nice for Python, and works with C++ as well.\n",
    "Here's some [Sphinx-generated output](http://www.bempp.org/pythonref/2.0/bempp_visualization2.html)\n",
    "and the [corresponding source code](https://github.com/bempp/bempp/blob/master/python/bempp/visualization2.py)\n",
    "[Breathe](http://michaeljones.github.io/breathe/ ) can be used to make Sphinx and Doxygen work together.\n",
    "\n",
    "[Roxygen](http://www.rstudio.com/ide/docs/packages/documentation) is good for R.\n"
   ]
  },
  {
   "cell_type": "markdown",
   "metadata": {},
   "source": [
    "# Example of using Sphinx"
   ]
  },
  {
   "cell_type": "markdown",
   "metadata": {},
   "source": [
    "## Write some docstrings"
   ]
  },
  {
   "cell_type": "markdown",
   "metadata": {},
   "source": [
    "We're going to document our \"greeter\" example using docstrings with Sphinx.\n",
    "\n",
    "There are various conventions for how to write docstrings, but the native sphinx one doesn't look nice when used with\n",
    "the built in `help` system.\n",
    "\n",
    "In writing Greeter, we used the docstring conventions from NumPy.\n",
    "So we use the [numpydoc](https://github.com/numpy/numpy/blob/master/doc/HOWTO_DOCUMENT.rst.txt) sphinx extension to \n",
    "support these."
   ]
  },
  {
   "cell_type": "markdown",
   "metadata": {},
   "source": [
    "```python\n",
    "\"\"\" \n",
    "Generate a greeting string for a person.\n",
    "\n",
    "Parameters\n",
    "----------\n",
    "personal: str\n",
    "    A given name, such as Will or Jean-Luc\n",
    "\n",
    "family: str\n",
    "    A family name, such as Riker or Picard\n",
    "title: str\n",
    "    An optional title, such as Captain or Reverend\n",
    "polite: bool\n",
    "    True for a formal greeting, False for informal.\n",
    "\n",
    "Returns\n",
    "-------\n",
    "string\n",
    "    An appropriate greeting\n",
    "\"\"\"\n",
    "```"
   ]
  },
  {
   "cell_type": "markdown",
   "metadata": {},
   "source": [
    "## Set up sphinx"
   ]
  },
  {
   "cell_type": "markdown",
   "metadata": {},
   "source": [
    "\n",
    "Invoke the [sphinx-quickstart](http://sphinx-doc.org/tutorial.html) command to build Sphinx's\n",
    "configuration file automatically based on questions\n",
    "at the command line:\n"
   ]
  },
  {
   "cell_type": "markdown",
   "metadata": {},
   "source": [
    "``` bash\n",
    "sphinx-quickstart docs\n",
    "```"
   ]
  },
  {
   "cell_type": "markdown",
   "metadata": {},
   "source": [
    "(`docs` is the name of the directory where the documentation will be stored)\n",
    "\n",
    "Which responds:"
   ]
  },
  {
   "cell_type": "markdown",
   "metadata": {},
   "source": [
    "```bash\n",
    "Welcome to the Sphinx 4.4.0 quickstart utility.\n",
    "\n",
    "Please enter values for the following settings (just press Enter to\n",
    "accept a default value, if one is given in brackets).\n",
    "\n",
    "Selected root path: docs\n",
    "\n",
    "You have two options for placing the build directory for Sphinx output.\n",
    "Either, you use a directory \"_build\" within the root path, or you separate\n",
    "\"source\" and \"build\" directories within the root path.\n",
    "> Separate source and build directories (y/n) [n]: n\n",
    "\n",
    "The project name will occur in several places in the built documentation.\n",
    "> Project name: greetings\n",
    "> Author name(s): The Alan Turing Institute\n",
    "> Project release []: 0.0.1\n",
    "\n",
    "If the documents are to be written in a language other than English,\n",
    "you can select a language here by its language code. Sphinx will then\n",
    "translate text that it generates into that language.\n",
    "\n",
    "For a list of supported codes, see\n",
    "https://www.sphinx-doc.org/en/master/usage/configuration.html#confval-language.\n",
    "> Project language [en]:\n",
    "\n",
    "Creating file module06_software_projects/Greetings/docs/conf.py.\n",
    "Creating file module06_software_projects/Greetings/docs/index.rst.\n",
    "Creating file module06_software_projects/Greetings/docs/Makefile.\n",
    "Creating file module06_software_projects/Greetings/docs/make.bat.\n",
    "\n",
    "Finished: An initial directory structure has been created.\n",
    "\n",
    "You should now populate your master file module06_software_projects/Greetings/docs/index.rst\n",
    "and create other documentation source files. Use the Makefile to build the docs, like so:\n",
    "   make builder\n",
    "where \"builder\" is one of the supported builders, e.g. html, latex or linkcheck.\n",
    "```"
   ]
  },
  {
   "cell_type": "markdown",
   "metadata": {},
   "source": [
    "and then look at and adapt the generated config, which in our case is a file called `conf.py` in the `docs/` directory of the project. This contains the project's Sphinx configuration, as Python variables. Let's populate the `extensions` field with some extensions we'd like to use (see the [extensions documentation](https://www.sphinx-doc.org/en/master/usage/extensions/index.html)):"
   ]
  },
  {
   "cell_type": "markdown",
   "metadata": {},
   "source": [
    "``` python\n",
    "#Add any Sphinx extension module names here, as strings. They can be\n",
    "#extensions coming with Sphinx (named 'sphinx.ext.*') or your custom\n",
    "# ones.\n",
    "extensions = [\n",
    "    \"sphinx.ext.autodoc\",  # Support automatic documentation\n",
    "    \"sphinx.ext.coverage\", # Automatically check if functions are documented\n",
    "    \"sphinx.ext.mathjax\",  # Allow support for algebra\n",
    "    \"sphinx.ext.viewcode\", # Include the source code in documentation\n",
    "    \"numpydoc\",            # Support NumPy style docstrings\n",
    "]\n",
    "```"
   ]
  },
  {
   "cell_type": "markdown",
   "metadata": {},
   "source": [
    "We've added some other configuration options to `conf.py` the file in the repo too (but normally you'll use `sphinx-quickstart`).\n"
   ]
  },
  {
   "cell_type": "markdown",
   "metadata": {},
   "source": [
    "## Define the root documentation page"
   ]
  },
  {
   "cell_type": "markdown",
   "metadata": {},
   "source": [
    "\n",
    "Sphinx uses [RestructuredText](http://docutils.sourceforge.net/rst.html) another wiki markup format similar to Markdown.\n",
    "\n",
    "`sphinx-quickstart` creates a template `index.rst` for us, which can be edited to contain any preamble text you want. Here it is:\n",
    "\n",
    "```rst\n",
    ".. greetings documentation master file, created by\n",
    "   sphinx-quickstart on Thu Aug  4 11:47:51 2022.\n",
    "   You can adapt this file completely to your liking, but it should at least\n",
    "   contain the root `toctree` directive.\n",
    "\n",
    "Welcome to greetings's documentation!\n",
    "=====================================\n",
    "\n",
    ".. toctree::\n",
    "   :maxdepth: 2\n",
    "   :caption: Contents:\n",
    "\n",
    "\n",
    "\n",
    "Indices and tables\n",
    "==================\n",
    "\n",
    "* :ref:`genindex`\n",
    "* :ref:`modindex`\n",
    "* :ref:`search`\n",
    "```\n"
   ]
  },
  {
   "cell_type": "markdown",
   "metadata": {},
   "source": [
    "And a lightly modified version:"
   ]
  },
  {
   "cell_type": "code",
   "execution_count": 1,
   "metadata": {},
   "outputs": [
    {
     "name": "stdout",
     "output_type": "stream",
     "text": [
      "Overwriting Greetings/docs/index.rst\n"
     ]
    }
   ],
   "source": [
    "%%writefile Greetings/docs/index.rst\n",
    "Welcome to Greetings's documentation!\n",
    "=====================================\n",
    "Simple \"Hello, James\" module developed to teach research software engineering.\n",
    "\n",
    ".. toctree::\n",
    "   :maxdepth: 2\n",
    "   :caption: Contents:\n",
    "\n",
    "\n",
    "Functions\n",
    "=========\n",
    "\n",
    ".. autofunction:: greetings.greeter.greet\n",
    "\n",
    "\n",
    "Indices and tables\n",
    "==================\n",
    "\n",
    "* :ref:`genindex`\n",
    "* :ref:`modindex`\n",
    "* :ref:`search`\n"
   ]
  },
  {
   "cell_type": "markdown",
   "metadata": {},
   "source": [
    "##  Run sphinx"
   ]
  },
  {
   "cell_type": "markdown",
   "metadata": {},
   "source": [
    "\n",
    "We can run Sphinx using:\n"
   ]
  },
  {
   "cell_type": "code",
   "execution_count": 2,
   "metadata": {},
   "outputs": [
    {
     "name": "stdout",
     "output_type": "stream",
     "text": [
      "\u001b[01mRunning Sphinx v4.5.0\u001b[39;49;00m\n"
     ]
    },
    {
     "name": "stderr",
     "output_type": "stream",
     "text": [
      "\u001b[91mWARNING: html_static_path entry '_static' does not exist\u001b[39;49;00m\n"
     ]
    },
    {
     "name": "stdout",
     "output_type": "stream",
     "text": [
      "\u001b[01mloading pickled environment... \u001b[39;49;00mdone\n"
     ]
    },
    {
     "name": "stdout",
     "output_type": "stream",
     "text": [
      "[autosummary] generating autosummary for: index.rst\n"
     ]
    },
    {
     "name": "stdout",
     "output_type": "stream",
     "text": [
      "\u001b[01mbuilding [mo]: \u001b[39;49;00mtargets for 0 po files that are out of date\n"
     ]
    },
    {
     "name": "stdout",
     "output_type": "stream",
     "text": [
      "\u001b[01mbuilding [html]: \u001b[39;49;00mtargets for 1 source files that are out of date\n"
     ]
    },
    {
     "name": "stdout",
     "output_type": "stream",
     "text": [
      "\u001b[01mupdating environment: \u001b[39;49;00m0 added, 1 changed, 0 removed\n"
     ]
    },
    {
     "name": "stdout",
     "output_type": "stream",
     "text": [
      "\u001b[01mreading sources... \u001b[39;49;00m[100%] \u001b[35mindex\u001b[39;49;00m                                                \r\n"
     ]
    },
    {
     "name": "stdout",
     "output_type": "stream",
     "text": [
      "\u001b[01mlooking for now-outdated files... \u001b[39;49;00mnone found\n"
     ]
    },
    {
     "name": "stdout",
     "output_type": "stream",
     "text": [
      "\u001b[01mpickling environment... \u001b[39;49;00mdone\n"
     ]
    },
    {
     "name": "stdout",
     "output_type": "stream",
     "text": [
      "\u001b[01mchecking consistency... \u001b[39;49;00mdone\n"
     ]
    },
    {
     "name": "stdout",
     "output_type": "stream",
     "text": [
      "\u001b[01mpreparing documents... \u001b[39;49;00mdone\n"
     ]
    },
    {
     "name": "stdout",
     "output_type": "stream",
     "text": [
      "\u001b[01mwriting output... \u001b[39;49;00m[100%] \u001b[32mindex\u001b[39;49;00m                                                 \r\n"
     ]
    },
    {
     "name": "stdout",
     "output_type": "stream",
     "text": [
      "\u001b[01mgenerating indices... \u001b[39;49;00mgenindex done\n"
     ]
    },
    {
     "name": "stdout",
     "output_type": "stream",
     "text": [
      "\u001b[01mhighlighting module code... \u001b[39;49;00m[100%] \u001b[94mgreetings.greeter\u001b[39;49;00m                           \r\n"
     ]
    },
    {
     "name": "stdout",
     "output_type": "stream",
     "text": [
      "\u001b[01mwriting additional pages... \u001b[39;49;00msearch done\n"
     ]
    },
    {
     "name": "stdout",
     "output_type": "stream",
     "text": [
      "\u001b[01mcopying static files... \u001b[39;49;00mdone\n"
     ]
    },
    {
     "name": "stdout",
     "output_type": "stream",
     "text": [
      "\u001b[01mcopying extra files... \u001b[39;49;00mdone\n"
     ]
    },
    {
     "name": "stdout",
     "output_type": "stream",
     "text": [
      "\u001b[01mdumping search index in English (code: en)... \u001b[39;49;00mdone\n"
     ]
    },
    {
     "name": "stdout",
     "output_type": "stream",
     "text": [
      "\u001b[01mdumping object inventory... \u001b[39;49;00mdone\n"
     ]
    },
    {
     "name": "stdout",
     "output_type": "stream",
     "text": [
      "\u001b[01mbuild succeeded, 1 warning.\u001b[39;49;00m\n"
     ]
    },
    {
     "name": "stdout",
     "output_type": "stream",
     "text": [
      "\n"
     ]
    },
    {
     "name": "stdout",
     "output_type": "stream",
     "text": [
      "The HTML pages are in docs/output.\n"
     ]
    }
   ],
   "source": [
    "%%bash\n",
    "cd Greetings/\n",
    "sphinx-build docs docs/output"
   ]
  },
  {
   "cell_type": "markdown",
   "metadata": {},
   "source": [
    "## Sphinx output"
   ]
  },
  {
   "cell_type": "markdown",
   "metadata": {},
   "source": [
    "Sphinx's output is html, if you open the `Greetings/docs/output/index.html` file you'll see a simple documentation page for our `greetings` package has been created. We just created a simple single function's documentation, but Sphinx will create multiple nested pages of documentation automatically for many functions."
   ]
  },
  {
   "cell_type": "markdown",
   "metadata": {},
   "source": [
    "## Hosting documentation\n",
    "\n",
    "If you'd like to make your documentation available online two of the most popular (free) hosting services are [GitHub pages](https://pages.github.com/), and [Read the docs](https://readthedocs.org/). Both can host documentation generated by Sphinx and have ways to automatically build and update your documentation when changes are made.\n",
    "\n",
    "We have the example Greetings docs page on GitHub pages here: https://alan-turing-institute.github.io/Greetings/, which is built using [this GitHub Actions workflow](https://github.com/alan-turing-institute/Greetings/blob/main/.github/workflows/docs.yml)."
   ]
  }
 ],
 "metadata": {
  "jekyll": {
   "display_name": "Documentation"
  },
  "kernelspec": {
   "display_name": "Python 3 (ipykernel)",
   "language": "python",
   "name": "python3"
  },
  "language_info": {
   "codemirror_mode": {
    "name": "ipython",
    "version": 3
   },
   "file_extension": ".py",
   "mimetype": "text/x-python",
   "name": "python",
   "nbconvert_exporter": "python",
   "pygments_lexer": "ipython3",
   "version": "3.8.18"
  }
 },
 "nbformat": 4,
 "nbformat_minor": 1
}