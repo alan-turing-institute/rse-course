{
 "cells": [
  {
   "cell_type": "markdown",
   "metadata": {},
   "source": [
    "# Documentation"
   ]
  },
  {
   "cell_type": "markdown",
   "metadata": {},
   "source": [
    "## Documentation is hard"
   ]
  },
  {
   "cell_type": "markdown",
   "metadata": {},
   "source": [
    "\n",
    "* Good documentation is hard, and very expensive.\n",
    "* Bad documentation is detrimental.\n",
    "* Good documentation quickly becomes bad if not kept up-to-date with code changes.\n",
    "* Professional companies pay large teams of documentation writers.\n"
   ]
  },
  {
   "cell_type": "markdown",
   "metadata": {},
   "source": [
    "## Prefer readable code with tests and vignettes"
   ]
  },
  {
   "cell_type": "markdown",
   "metadata": {},
   "source": [
    "\n",
    "If you don't have the capacity to maintain great documentation,\n",
    "focus on:\n",
    "\n",
    "* Readable code\n",
    "* Automated tests\n",
    "* Small code samples demonstrating how to use the api\n"
   ]
  },
  {
   "cell_type": "markdown",
   "metadata": {},
   "source": [
    "## Comment-based Documentation tools"
   ]
  },
  {
   "cell_type": "markdown",
   "metadata": {},
   "source": [
    "\n",
    "Documentation tools can produce extensive documentation about your code by pulling out comments near the beginning of functions,\n",
    "together with the signature, into a web page.\n",
    "\n",
    "The most popular is [Doxygen](http://www.stack.nl/~dimitri/doxygen/)\n",
    "\n",
    "[Have a look at an example of some Doxygen output](\n",
    "http://www.bempp.org/cppref/2.0/group__abstract__boundary__operators.html)\n",
    "\n",
    "[Sphinx](http://sphinx-doc.org/) is nice for Python, and works with C++ as well.\n",
    "Here's some [Sphinx-generated output](http://www.bempp.org/pythonref/2.0/bempp_visualization2.html)\n",
    "and the [corresponding source code](https://github.com/bempp/bempp/blob/master/python/bempp/visualization2.py)\n",
    "[Breathe](http://michaeljones.github.io/breathe/ ) can be used to make Sphinx and Doxygen work together.\n",
    "\n",
    "[Roxygen](http://www.rstudio.com/ide/docs/packages/documentation) is good for R.\n"
   ]
  },
  {
   "cell_type": "markdown",
   "metadata": {},
   "source": [
    "# Example of using Sphinx"
   ]
  },
  {
   "cell_type": "markdown",
   "metadata": {},
   "source": [
    "## Write some docstrings"
   ]
  },
  {
   "cell_type": "markdown",
   "metadata": {},
   "source": [
    "We're going to document our \"greeter\" example using docstrings with Sphinx.\n",
    "\n",
    "There are various conventions for how to write docstrings, but the native sphinx one doesn't look nice when used with\n",
    "the built in `help` system.\n",
    "\n",
    "In writing Greeter, we used the docstring conventions from NumPy.\n",
    "So we use the [numpydoc](https://github.com/numpy/numpy/blob/master/doc/HOWTO_DOCUMENT.rst.txt) sphinx extension to \n",
    "support these."
   ]
  },
  {
   "cell_type": "markdown",
   "metadata": {},
   "source": [
    "```python\n",
    "\"\"\" \n",
    "Generate a greeting string for a person.\n",
    "\n",
    "Parameters\n",
    "----------\n",
    "personal: str\n",
    "    A given name, such as Will or Jean-Luc\n",
    "\n",
    "family: str\n",
    "    A family name, such as Riker or Picard\n",
    "title: str\n",
    "    An optional title, such as Captain or Reverend\n",
    "polite: bool\n",
    "    True for a formal greeting, False for informal.\n",
    "\n",
    "Returns\n",
    "-------\n",
    "string\n",
    "    An appropriate greeting\n",
    "\"\"\"\n",
    "```"
   ]
  },
  {
   "cell_type": "markdown",
   "metadata": {},
   "source": [
    "## Set up sphinx"
   ]
  },
  {
   "cell_type": "markdown",
   "metadata": {},
   "source": [
    "\n",
    "Invoke the [sphinx-quickstart](http://sphinx-doc.org/tutorial.html) command to build Sphinx's\n",
    "configuration file automatically based on questions\n",
    "at the command line:\n"
   ]
  },
  {
   "cell_type": "markdown",
   "metadata": {},
   "source": [
    "``` bash\n",
    "sphinx-quickstart\n",
    "```"
   ]
  },
  {
   "cell_type": "markdown",
   "metadata": {},
   "source": [
    "Which responds:"
   ]
  },
  {
   "cell_type": "markdown",
   "metadata": {},
   "source": [
    "```\n",
    "Welcome to the Sphinx 3.4.3 quickstart utility.\n",
    "\n",
    "Please enter values for the following settings (just press Enter to\n",
    "accept a default value, if one is given in brackets).\n",
    "\n",
    "Selected root path: .\n",
    "\n",
    "You have two options for placing the build directory for Sphinx output.\n",
    "Either, you use a directory \"_build\" within the root path, or you separate\n",
    "\"source\" and \"build\" directories within the root path.\n",
    "> Separate source and build directories (y/n) [n]:\n",
    "```"
   ]
  },
  {
   "cell_type": "markdown",
   "metadata": {},
   "source": [
    "and then look at and adapt the generated config, which in our case is a file called `conf.py` in the `doc/source/` directory of the project. This contains the project's Sphinx configuration, as Python variables, for example:"
   ]
  },
  {
   "cell_type": "markdown",
   "metadata": {},
   "source": [
    "``` python\n",
    "#Add any Sphinx extension module names here, as strings. They can be\n",
    "#extensions coming with Sphinx (named 'sphinx.ext.*') or your custom\n",
    "# ones.\n",
    "extensions = [\n",
    "    \"sphinx.ext.autodoc\",  # Support automatic documentation\n",
    "    \"sphinx.ext.coverage\", # Automatically check if functions are documented\n",
    "    \"sphinx.ext.mathjax\",  # Allow support for algebra\n",
    "    \"sphinx.ext.viewcode\", # Include the source code in documentation\n",
    "    \"numpydoc\",            # Support NumPy style docstrings\n",
    "]\n",
    "```"
   ]
  },
  {
   "cell_type": "markdown",
   "metadata": {},
   "source": [
    "To proceed with the example, we'll copy a finished `conf.py` into our folder, though normally you'll always use `sphinx-quickstart`\n"
   ]
  },
  {
   "cell_type": "code",
   "execution_count": 1,
   "metadata": {},
   "outputs": [
    {
     "name": "stdout",
     "output_type": "stream",
     "text": [
      "Overwriting greetings/doc/source/conf.py\n"
     ]
    }
   ],
   "source": [
    "%%writefile greetings/doc/source/conf.py\n",
    "# -- Project information -----------------------------------------------------\n",
    "\n",
    "project = u\"Greetings\"\n",
    "copyright = u\"2021, James Hetherington\"\n",
    "author = \"James Hetherington\"\n",
    "\n",
    "# The full version, including alpha/beta/rc tags\n",
    "release = \"0.1\"\n",
    "\n",
    "\n",
    "# -- General configuration ---------------------------------------------------\n",
    "\n",
    "# Add any Sphinx extension module names here, as strings. They can be\n",
    "# extensions coming with Sphinx (named 'sphinx.ext.*') or your custom\n",
    "# ones.\n",
    "extensions = [\n",
    "    \"sphinx.ext.autodoc\",  # Support automatic documentation\n",
    "    \"sphinx.ext.coverage\",  # Automatically check if functions are documented\n",
    "    \"sphinx.ext.mathjax\",  # Allow support for algebra\n",
    "    \"sphinx.ext.viewcode\",  # Include the source code in documentation\n",
    "    \"numpydoc\",  # Support NumPy style docstrings\n",
    "]\n",
    "\n",
    "# Add any paths that contain templates here, relative to this directory.\n",
    "templates_path = [\"_templates\"]\n",
    "\n",
    "# List of patterns, relative to source directory, that match files and\n",
    "# directories to ignore when looking for source files.\n",
    "# This pattern also affects html_static_path and html_extra_path.\n",
    "exclude_patterns = [\"Thumbs.db\", \".DS_Store\"]\n",
    "\n",
    "# The suffix(es) of source filenames.\n",
    "# You can specify multiple suffix as a list of string:\n",
    "source_suffix = \".rst\"\n",
    "\n",
    "# The master toctree document.\n",
    "master_doc = \"index\"\n",
    "\n",
    "# The name of the Pygments (syntax highlighting) style to use.\n",
    "pygments_style = \"sphinx\"\n",
    "\n",
    "\n",
    "# -- Options for HTML output -------------------------------------------------\n",
    "\n",
    "# The theme to use for HTML and HTML Help pages.  See the documentation for\n",
    "# a list of builtin themes.\n",
    "html_theme = \"alabaster\"\n",
    "\n",
    "# Add any paths that contain custom static files (such as style sheets) here,\n",
    "# relative to this directory. They are copied after the builtin static files,\n",
    "# so a file named \"default.css\" will overwrite the builtin \"default.css\".\n",
    "html_static_path = [\"_static\"]\n",
    "\n",
    "\n",
    "# -- Options for LaTeX output ------------------------------------------------\n",
    "\n",
    "latex_elements = {}\n",
    "\n",
    "# Grouping the document tree into LaTeX files. List of tuples\n",
    "# (source start file, target name, title, author,\n",
    "#  documentclass [howto, manual, or own class]).\n",
    "latex_documents = [\n",
    "    (\n",
    "        \"index\",\n",
    "        \"Greetings.tex\",\n",
    "        u\"Greetings Documentation\",\n",
    "        u\"James Hetherington\",\n",
    "        \"manual\",\n",
    "    ),\n",
    "]\n",
    "\n",
    "\n",
    "# -- Options for manual page output ------------------------------------------\n",
    "\n",
    "# One entry per manual page. List of tuples\n",
    "# (source start file, name, description, authors, manual section).\n",
    "man_pages = [\n",
    "    (\"index\", \"greetings\", u\"Greetings Documentation\", [u\"James Hetherington\"], 1)\n",
    "]\n",
    "\n",
    "# -- Options for Texinfo output ----------------------------------------------\n",
    "\n",
    "# Grouping the document tree into Texinfo files. List of tuples\n",
    "# (source start file, target name, title, author,\n",
    "#  dir menu entry, description, category)\n",
    "texinfo_documents = [\n",
    "    (\n",
    "        \"index\",\n",
    "        \"Greetings\",\n",
    "        u\"Greetings Documentation\",\n",
    "        u\"James Hetherington\",\n",
    "        \"Greetings\",\n",
    "        \"One line description of project.\",\n",
    "        \"Miscellaneous\",\n",
    "    ),\n",
    "]"
   ]
  },
  {
   "cell_type": "markdown",
   "metadata": {},
   "source": [
    "## Define the root documentation page"
   ]
  },
  {
   "cell_type": "markdown",
   "metadata": {},
   "source": [
    "\n",
    "Sphinx uses [RestructuredText](http://docutils.sourceforge.net/rst.html) another wiki markup format similar to Markdown.\n",
    "\n",
    "You define an `index.rst` file to contain any preamble text you want. The rest is autogenerated by `sphinx-quickstart`\n",
    "\n",
    "\n",
    "\n",
    "\n",
    "\n"
   ]
  },
  {
   "cell_type": "code",
   "execution_count": 2,
   "metadata": {},
   "outputs": [
    {
     "name": "stdout",
     "output_type": "stream",
     "text": [
      "Overwriting greetings/doc/source/index.rst\n"
     ]
    }
   ],
   "source": [
    "%%writefile greetings/doc/source/index.rst\n",
    "Welcome to Greetings's documentation!\n",
    "=====================================\n",
    "Simple \"Hello, James\" module developed to teach research software engineering.\n",
    "\n",
    ".. toctree::\n",
    "   :maxdepth: 2\n",
    "   :caption: Contents:\n",
    "\n",
    "\n",
    "Functions\n",
    "=========\n",
    "\n",
    ".. autofunction:: greetings.greeter.greet\n",
    "\n",
    "\n",
    "Indices and tables\n",
    "==================\n",
    "\n",
    "* :ref:`genindex`\n",
    "* :ref:`modindex`\n",
    "* :ref:`search`\n"
   ]
  },
  {
   "cell_type": "markdown",
   "metadata": {},
   "source": [
    "##  Run sphinx"
   ]
  },
  {
   "cell_type": "markdown",
   "metadata": {},
   "source": [
    "\n",
    "We can run Sphinx using:\n"
   ]
  },
  {
   "cell_type": "code",
   "execution_count": 3,
   "metadata": {},
   "outputs": [
    {
     "name": "stdout",
     "output_type": "stream",
     "text": [
      "Running Sphinx v4.5.0\n"
     ]
    },
    {
     "name": "stderr",
     "output_type": "stream",
     "text": [
      "WARNING: html_static_path entry '_static' does not exist\n"
     ]
    },
    {
     "name": "stdout",
     "output_type": "stream",
     "text": [
      "loading pickled environment... done\n"
     ]
    },
    {
     "name": "stdout",
     "output_type": "stream",
     "text": [
      "[autosummary] generating autosummary for: index.rst\n"
     ]
    },
    {
     "name": "stdout",
     "output_type": "stream",
     "text": [
      "building [mo]: targets for 0 po files that are out of date\n"
     ]
    },
    {
     "name": "stdout",
     "output_type": "stream",
     "text": [
      "building [html]: targets for 1 source files that are out of date\n"
     ]
    },
    {
     "name": "stdout",
     "output_type": "stream",
     "text": [
      "updating environment: 0 added, 1 changed, 0 removed\n"
     ]
    },
    {
     "name": "stdout",
     "output_type": "stream",
     "text": [
      "reading sources... [100%] index\n"
     ]
    },
    {
     "name": "stdout",
     "output_type": "stream",
     "text": [
      "\n"
     ]
    },
    {
     "name": "stderr",
     "output_type": "stream",
     "text": [
      "WARNING: autodoc: failed to import function 'greeter.greet' from module 'greetings'; the following exception was raised:\n"
     ]
    },
    {
     "name": "stderr",
     "output_type": "stream",
     "text": [
      "No module named 'greetings'\n"
     ]
    },
    {
     "name": "stdout",
     "output_type": "stream",
     "text": [
      "looking for now-outdated files... none found\n"
     ]
    },
    {
     "name": "stdout",
     "output_type": "stream",
     "text": [
      "pickling environment... done\n"
     ]
    },
    {
     "name": "stdout",
     "output_type": "stream",
     "text": [
      "checking consistency... done\n"
     ]
    },
    {
     "name": "stdout",
     "output_type": "stream",
     "text": [
      "preparing documents... done\n"
     ]
    },
    {
     "name": "stdout",
     "output_type": "stream",
     "text": [
      "writing output... [100%] index\n"
     ]
    },
    {
     "name": "stdout",
     "output_type": "stream",
     "text": [
      "\n"
     ]
    },
    {
     "name": "stdout",
     "output_type": "stream",
     "text": [
      "generating indices... genindex done\n"
     ]
    },
    {
     "name": "stdout",
     "output_type": "stream",
     "text": [
      "writing additional pages... search done\n"
     ]
    },
    {
     "name": "stdout",
     "output_type": "stream",
     "text": [
      "copying static files... done\n"
     ]
    },
    {
     "name": "stdout",
     "output_type": "stream",
     "text": [
      "copying extra files... done\n"
     ]
    },
    {
     "name": "stdout",
     "output_type": "stream",
     "text": [
      "dumping search index in English (code: en)... done\n"
     ]
    },
    {
     "name": "stdout",
     "output_type": "stream",
     "text": [
      "dumping object inventory... done\n"
     ]
    },
    {
     "name": "stdout",
     "output_type": "stream",
     "text": [
      "build succeeded, 2 warnings.\n"
     ]
    },
    {
     "name": "stdout",
     "output_type": "stream",
     "text": [
      "\n"
     ]
    },
    {
     "name": "stdout",
     "output_type": "stream",
     "text": [
      "The HTML pages are in doc/output.\n"
     ]
    }
   ],
   "source": [
    "%%bash\n",
    "cd greetings/\n",
    "sphinx-build doc/source doc/output"
   ]
  },
  {
   "cell_type": "markdown",
   "metadata": {},
   "source": [
    "## Sphinx output"
   ]
  },
  {
   "cell_type": "markdown",
   "metadata": {},
   "source": [
    "Sphinx's output is [html](https://alan-turing-institute.github.io/rse-course/module06_software_projects/greetings/doc/index.html). We just created a simple single function's documentation, but Sphinx will create multiple nested pages of documentation automatically for many functions."
   ]
  }
 ],
 "metadata": {
  "jekyll": {
   "display_name": "Documentation"
  },
  "kernelspec": {
   "display_name": "Python 3 (ipykernel)",
   "language": "python",
   "name": "python3"
  },
  "language_info": {
   "codemirror_mode": {
    "name": "ipython",
    "version": 3
   },
   "file_extension": ".py",
   "mimetype": "text/x-python",
   "name": "python",
   "nbconvert_exporter": "python",
   "pygments_lexer": "ipython3",
   "version": "3.8.13"
  }
 },
 "nbformat": 4,
 "nbformat_minor": 1
}