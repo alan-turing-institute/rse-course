{
 "cells": [
  {
   "cell_type": "markdown",
   "id": "00f02f92",
   "metadata": {},
   "source": [
    "# 6.2 Managing Dependencies\n"
   ]
  },
  {
   "cell_type": "markdown",
   "id": "e3634818",
   "metadata": {},
   "source": [
    "*Estimated time for this notebook: 15 minutes*"
   ]
  },
  {
   "cell_type": "markdown",
   "id": "442d76ad",
   "metadata": {},
   "source": [
    "## Specifying Dependencies\n",
    "\n",
    "### `pip` and requirements.txt\n",
    "\n",
    "Probably the most well known and ubiquitous way of specifying and installing dependencies in Python is with a `requirements.txt` file. This is a text file with a list of the names of packages your code relies on, for example:\n",
    "\n",
    "```text\n",
    "geopy\n",
    "imageio\n",
    "matplotlib\n",
    "numpy\n",
    "requests\n",
    "```\n",
    "\n",
    "To install dependencies from a `requirements.txt` file do the following:\n",
    "\n",
    "```bash\n",
    "pip install -r requirements.txt\n",
    "```\n",
    "\n",
    "`requirements.txt` files are not the only way of specifying dependencies, we'll refer to some others and the differences between them here and later in this module.\n",
    "\n",
    "\n",
    "### Pinning versions\n",
    "\n",
    "Different versions of libraries may have different features, behaviour, and interfaces. To ensure our code is reproducible and other users (and ourselves in the future) get the same results from running the code, it's a good idea to specify the version of each dependency that should be installed.\n",
    "\n",
    "To pin dependencies to specific versions include them in `requirements.txt` like this:\n",
    "\n",
    "```text\n",
    "geopy==2.2.0\n",
    "imageio==2.19.3\n",
    "matplotlib==3.5.2\n",
    "numpy==1.23.0\n",
    "requests==2.28.1\n",
    "```\n",
    "\n",
    "To automatically generate a `requirements.txt` file like this, containing the versions of all the libraries installed in your current Python environment, you can run:\n",
    "\n",
    "```bash\n",
    "pip freeze\n",
    "```\n",
    "\n",
    "However, note that `pip freeze` won't output only your direct dependencies, but also\n",
    "- the dependencies of your dependencies\n",
    "- the dependencies of the dependencies of your dependencies\n",
    "- ...\n",
    "\n",
    "It may be better to only specify your direct dependencies and let the maintainers of those libraries deal with their own dependencies (but that can also come with future problems and incompatibilities in some cases). \n",
    "\n",
    "### Version ranges\n",
    "\n",
    "You don't have to specify an exact version, you can also use comparisons like `<=`, `!=`, and `>=` to give ranges of package versions that are compatible with your code (see [here](https://peps.python.org/pep-0440/#version-specifiers)).\n",
    "\n",
    "An interesting one is `~=`, or \"approximately equal to\". For example, if we specified the numpy dependency as:\n",
    "\n",
    "```text\n",
    "numpy~=1.23.0\n",
    "```\n",
    "\n",
    "it allows `pip` to install any (newer) `1.23.x` version of numpy (e.g. `1.23.1` or `1.23.5`), but not versions `1.24.0` or later (which may introduce changes that are incompatible with `1.23.0`).\n",
    "\n",
    "\n",
    "### (How) should you pin dependency versions?\n",
    "\n",
    "There are potential caveats and pitfalls with all approaches. At the extremes you have:\n",
    "\n",
    "- **Not specifying a version**:\n",
    "  - Dependencies are likely to introduce breaking changes in the future that will cause your code to fail or give different results.\n",
    "\n",
    "- **Pinning an exact version**:\n",
    "  - Specific versions may not be available on all platforms. You (or new users of your code) won't get bug and security fixes in new versions.\n",
    "\n",
    "For research code, to ensure you get exactly the same results from repeating an analysis on another system (or a fresh installation on the same system) pinning versions is often the best approach.\n",
    "\n",
    "\n",
    "### Updating dependencies\n",
    "\n",
    "Running\n",
    "\n",
    "```bash\n",
    "pip list --outdated\n",
    "```\n",
    "\n",
    "will show a list of installed packages that have newer versions available. You can upgrade to the latest version by running:\n",
    "\n",
    "```bash\n",
    "pip install --upgrade PACKAGE_NAME\n",
    "```\n",
    "\n",
    "(and then update `requirements.txt` to reflect the new version you're using, if needed).\n",
    "\n",
    "This is quite a manual approach and other tools have more streamlined ways of handling the upgrading process. See [Poetry](https://python-poetry.org/), for example.\n",
    "\n",
    "There are also automated tools like [dependabot](https://github.blog/2020-06-01-keep-all-your-packages-up-to-date-with-dependabot/) that can look at the dependencies in your GitHub repo and suggest changes to avoid security vulnerabilities.\n"
   ]
  },
  {
   "cell_type": "markdown",
   "id": "9f612ce1",
   "metadata": {},
   "source": [
    "## Virtual Environments\n",
    "\n",
    "Specifying dependency versions may not always be enough to give you a working (and future-proof) set up for yourself and other users of your code. For example, you may have:\n",
    "\n",
    "- Different projects on your system requiring different versions of a library, or libraries that are incompatible with each other.\n",
    "- Libraries that are only available on some platforms (e.g. Linux only) or have different behaviour on other platforms.\n",
    "- Projects requiring different versions of Python itself\n",
    "\n",
    "For these reasons we'd recommend using a separate \"virtual environment\" for each project on your system.\n",
    "\n",
    "In a virtual environment all the packages you install are isolated from other environments, so you could have one environment using `Python 3.10` and `numpy 1.23.1`, and another using `Python 3.8` and `numpy 1.20.3`, for example.\n",
    "\n",
    "\n",
    "### venv \n",
    "\n",
    "`venv` is included in the Python standard library and can be used to create virtual environments (see the docs [here](https://packaging.python.org/en/latest/guides/installing-using-pip-and-virtual-environments/#creating-a-virtual-environment)).\n",
    "\n",
    "To create a virtual environment:"
   ]
  },
  {
   "cell_type": "code",
   "execution_count": 1,
   "id": "145b4ea4",
   "metadata": {},
   "outputs": [],
   "source": [
    "%%bash\n",
    "\n",
    "python -m venv myenv"
   ]
  },
  {
   "cell_type": "markdown",
   "id": "ab676b87",
   "metadata": {},
   "source": [
    "where `myenv` is the name of the directory that will be created to store the environment's configuration. The initial contents of the `myenv` directory are:"
   ]
  },
  {
   "cell_type": "code",
   "execution_count": 2,
   "id": "3c42f853",
   "metadata": {},
   "outputs": [
    {
     "name": "stdout",
     "output_type": "stream",
     "text": [
      "bin/\n"
     ]
    },
    {
     "name": "stdout",
     "output_type": "stream",
     "text": [
      "include/\n"
     ]
    },
    {
     "name": "stdout",
     "output_type": "stream",
     "text": [
      "lib/\n"
     ]
    },
    {
     "name": "stdout",
     "output_type": "stream",
     "text": [
      "lib64@\n"
     ]
    },
    {
     "name": "stdout",
     "output_type": "stream",
     "text": [
      "pyvenv.cfg\n"
     ]
    }
   ],
   "source": [
    "%%bash\n",
    "\n",
    "ls -F myenv/"
   ]
  },
  {
   "cell_type": "markdown",
   "id": "4dd82db9",
   "metadata": {},
   "source": [
    "The `which` bash command returns the path to an executable on your system. Currently, `which python` will return the path to the environment you're using to run the course notebooks: "
   ]
  },
  {
   "cell_type": "code",
   "execution_count": 3,
   "id": "bba1c3b0",
   "metadata": {},
   "outputs": [
    {
     "name": "stdout",
     "output_type": "stream",
     "text": [
      "/opt/hostedtoolcache/Python/3.8.17/x64/bin/python\n"
     ]
    }
   ],
   "source": [
    "%%bash\n",
    "\n",
    "which python"
   ]
  },
  {
   "cell_type": "markdown",
   "id": "1a65dfb0",
   "metadata": {},
   "source": [
    "To use our new virtual environment instead, we need to \"activate\" it, as follows:"
   ]
  },
  {
   "cell_type": "code",
   "execution_count": 4,
   "id": "c7da12b7",
   "metadata": {},
   "outputs": [
    {
     "name": "stdout",
     "output_type": "stream",
     "text": [
      "/home/runner/work/rse-course/rse-course/module06_software_projects/myenv/bin/python\n"
     ]
    }
   ],
   "source": [
    "%%bash\n",
    "source myenv/bin/activate\n",
    "\n",
    "which python"
   ]
  },
  {
   "cell_type": "markdown",
   "id": "b365202a",
   "metadata": {},
   "source": [
    "the path to the `python` executable now points to a location in the `myenv` directory (our separate Python virtual environment).\n",
    "\n",
    "We can then install and run libraries without it impacting other Python environments on our system, e.g.:"
   ]
  },
  {
   "cell_type": "code",
   "execution_count": 5,
   "id": "bef92ece",
   "metadata": {},
   "outputs": [
    {
     "name": "stdout",
     "output_type": "stream",
     "text": [
      "Requirement already satisfied: pyjokes in ./myenv/lib/python3.8/site-packages (0.6.0)\n"
     ]
    },
    {
     "name": "stderr",
     "output_type": "stream",
     "text": [
      "\n"
     ]
    },
    {
     "name": "stderr",
     "output_type": "stream",
     "text": [
      "\u001b[1m[\u001b[0m\u001b[34;49mnotice\u001b[0m\u001b[1;39;49m]\u001b[0m\u001b[39;49m A new release of pip is available: \u001b[0m\u001b[31;49m23.0.1\u001b[0m\u001b[39;49m -> \u001b[0m\u001b[32;49m23.2.1\u001b[0m\n"
     ]
    },
    {
     "name": "stderr",
     "output_type": "stream",
     "text": [
      "\u001b[1m[\u001b[0m\u001b[34;49mnotice\u001b[0m\u001b[1;39;49m]\u001b[0m\u001b[39;49m To update, run: \u001b[0m\u001b[32;49mpip install --upgrade pip\u001b[0m\n"
     ]
    },
    {
     "name": "stdout",
     "output_type": "stream",
     "text": [
      "What do you mean 911 is only for emergencies? I've got a merge conflict.\n"
     ]
    }
   ],
   "source": [
    "%%bash\n",
    "source myenv/bin/activate\n",
    "\n",
    "pip install pyjokes\n",
    "pyjoke"
   ]
  },
  {
   "cell_type": "markdown",
   "id": "300259e7",
   "metadata": {},
   "source": [
    "Note:\n",
    "- You only need to `activate` the environment once usually. We need to do it in each cell here because using `%%bash` is like creating a new terminal.\n",
    "- If you try `which pip` before and after activating the environment you'll see that the virtual environment uses a different `pip` executable as well"
   ]
  },
  {
   "cell_type": "markdown",
   "id": "f7ff8b55",
   "metadata": {},
   "source": [
    "To leave the virtual environment and return to using your system Python (or the previously activated environment), you need to \"deactivate\" it:"
   ]
  },
  {
   "cell_type": "code",
   "execution_count": 6,
   "id": "1e8c57b2",
   "metadata": {},
   "outputs": [
    {
     "name": "stdout",
     "output_type": "stream",
     "text": [
      "======================\n"
     ]
    },
    {
     "name": "stdout",
     "output_type": "stream",
     "text": [
      "In myenv, python path:\n"
     ]
    },
    {
     "name": "stdout",
     "output_type": "stream",
     "text": [
      "/home/runner/work/rse-course/rse-course/module06_software_projects/myenv/bin/python\n"
     ]
    },
    {
     "name": "stdout",
     "output_type": "stream",
     "text": [
      "ASCII stupid question, get a stupid ANSI.\n"
     ]
    },
    {
     "name": "stdout",
     "output_type": "stream",
     "text": [
      "======================\n"
     ]
    },
    {
     "name": "stdout",
     "output_type": "stream",
     "text": [
      "\n"
     ]
    },
    {
     "name": "stdout",
     "output_type": "stream",
     "text": [
      "======================\n"
     ]
    },
    {
     "name": "stdout",
     "output_type": "stream",
     "text": [
      "Outside myenv, python path:\n"
     ]
    },
    {
     "name": "stdout",
     "output_type": "stream",
     "text": [
      "/opt/hostedtoolcache/Python/3.8.17/x64/bin/python\n"
     ]
    },
    {
     "name": "stderr",
     "output_type": "stream",
     "text": [
      "bash: line 15: pyjoke: command not found\n"
     ]
    },
    {
     "name": "stdout",
     "output_type": "stream",
     "text": [
      "======================\n"
     ]
    }
   ],
   "source": [
    "%%bash\n",
    "source myenv/bin/activate\n",
    "\n",
    "echo \"======================\"\n",
    "echo \"In myenv, python path:\"\n",
    "which python\n",
    "pyjoke\n",
    "echo \"======================\"\n",
    "\n",
    "deactivate\n",
    "\n",
    "echo \"\"\n",
    "echo \"======================\"\n",
    "echo \"Outside myenv, python path:\"\n",
    "which python\n",
    "pyjoke\n",
    "echo \"======================\""
   ]
  },
  {
   "cell_type": "markdown",
   "id": "4b5a1224",
   "metadata": {},
   "source": [
    "### conda\n",
    "\n",
    "[conda](https://docs.conda.io/en/latest/) is a virtual environment, dependency, and package manager for multiple languages. There are multiple distributions including [Anaconda](https://anaconda.org/), which comes with many common data science libraries pre-installed, and [Miniconda](https://docs.conda.io/en/latest/miniconda.html), which is `conda` without pre-installed dependencies.\n",
    "\n",
    "Advantages of conda include:\n",
    "\n",
    "- It has binaries built for multiple platforms, e.g. `conda` packages are usually available on Windows, Mac, and Linux (whereas it's quite common to find packages on PyPI that don't have a Windows build, for example).\n",
    "- You can use it to install non-Python dependencies.\n",
    "- It's an \"all-in-one\" tool: You can use it to manage your entire Python workflow.\n",
    "\n",
    "Some disadvantages:\n",
    "- Other users of your code may not have or want to use conda (but everyone using Python will have pip available, for example)\n",
    "- There's a bit more bloat than other tools, and the dependency resolver can be quite slow.\n",
    "\n",
    "`conda` environments a specified in the YAML format, typically in a file called `environment.yml`, and look like this:\n",
    "\n",
    "```yaml\n",
    "name: myenv\n",
    "\n",
    "dependencies:\n",
    "  - python=3.9\n",
    "  - geopy=2.2.0\n",
    "  - imageio=2.19.3\n",
    "  - matplotlib=3.5.2\n",
    "  - numpy=1.23.0\n",
    "  - requests=2.28.1\n",
    "```\n",
    "\n",
    "Note that a version of Python itself is specified in the dependencies - you can install any version of Python in a conda environment.\n",
    "\n",
    "To create the environment:\n",
    "\n",
    "```bash\n",
    "conda env create -f environment.yml\n",
    "```\n",
    "\n",
    "And to use it:\n",
    "\n",
    "```bash\n",
    "conda activate myenv\n",
    "\n",
    "# work in the environment\n",
    "\n",
    "conda deactivate\n",
    "```\n"
   ]
  },
  {
   "cell_type": "markdown",
   "id": "82313068",
   "metadata": {},
   "source": [
    "## Which to choose?\n",
    "\n",
    "There's a large ecosystem of different Python (and general) dependency, environment, and packaging tools, many more than we've seen here. A few other notable ones are:\n",
    "\n",
    "- [Docker](https://www.docker.com) - creates isolated \"containers\" which are whole virtual systems, allowing you to configure everything including the operating system to use. This is a \"maximally reproducible\" solution that ensures future users of your code get a complete and identical environment from the ground up.\n",
    "- [pyenv](https://github.com/pyenv/pyenv) - install and manage different versions of Python \n",
    "- [Poetry](https://python-poetry.org/) - create virtual environments and Python packages, and improved dependency management\n",
    "- [setuptools](https://setuptools.pypa.io/en/latest/userguide/quickstart.html) - for creating Python packages (we'll be looking at this later)\n",
    "\n",
    "Which are best for your project depends on what you're trying to achieve and personal preference. It's also likely that you'll be using multiple tools as they all have different priorities and features.\n",
    "\n",
    "This table gives a rough summary of what the tools mentioned in this course can be used for, loosely ordered from most flexibility (but perhaps most involved setup) at the top, to simpler, single-usecase tools at the botom: \n",
    "\n",
    "|       | Virtual environments | Install non-Python dependencies | Install Python versions | Manage Python dependencies | Create Python packages |\n",
    "| ----------- | ----------- | ----------- | ----------- | ----------- | ----------- |\n",
    "| Docker      |  ✅  |  ✅   |  ✅  |  ❌  |  ❌  |\n",
    "| conda       |  ✅  |  ✅   |  ✅  |  ✅  |  ✅  |  \n",
    "| Poetry      |  ✅  |  ❌  |  ❌  |  ✅  |  ✅  | \n",
    "| pyenv      |  ✅  |  ❌  |  ✅  |   ❌  |  ❌  |\n",
    "| setuptools      |  ❌  |  ❌  |  ❌  |  ✅  |  ✅  |\n",
    "| venv      |  ✅  |  ❌  |  ❌  |  ❌  |  ❌  |\n",
    "| pip      |  ❌  |  ❌  |  ❌  |  ✅  |  ❌  |\n",
    "\n"
   ]
  },
  {
   "cell_type": "code",
   "execution_count": null,
   "id": "7a4e3fa1",
   "metadata": {},
   "outputs": [],
   "source": []
  }
 ],
 "metadata": {
  "kernelspec": {
   "display_name": "Python 3 (ipykernel)",
   "language": "python",
   "name": "python3"
  },
  "language_info": {
   "codemirror_mode": {
    "name": "ipython",
    "version": 3
   },
   "file_extension": ".py",
   "mimetype": "text/x-python",
   "name": "python",
   "nbconvert_exporter": "python",
   "pygments_lexer": "ipython3",
   "version": "3.8.17"
  }
 },
 "nbformat": 4,
 "nbformat_minor": 5
}