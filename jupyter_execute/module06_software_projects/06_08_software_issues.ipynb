{
 "cells": [
  {
   "cell_type": "markdown",
   "metadata": {},
   "source": [
    "# Managing software issues"
   ]
  },
  {
   "cell_type": "markdown",
   "metadata": {},
   "source": [
    "## Issues\n",
    "\n",
    "Code has *bugs*. It also has *features*, things it should do.\n",
    "\n",
    "A good project has an organised way of managing these. Generally you should use an issue tracker."
   ]
  },
  {
   "cell_type": "markdown",
   "metadata": {},
   "source": [
    "## Some Issue Trackers\n",
    "\n",
    "There are lots of good issue trackers.\n",
    "\n",
    "The most commonly used open source ones are [Trac](http://trac.edgewall.org/) and [Redmine](http://www.redmine.org/).\n",
    "\n",
    "Cloud based issue trackers include [Lighthouse](http://lighthouseapp.com/) and [GitHub](https://github.com/blog/831-issues-2-0-the-next-generation).\n",
    "\n",
    "Commercial solutions include [Jira](https://www.atlassian.com/software/jira).\n",
    "\n",
    "In this course, we'll be using the GitHub issue tracker."
   ]
  },
  {
   "cell_type": "markdown",
   "metadata": {},
   "source": [
    "## Anatomy of an issue\n",
    "\n",
    "* Reporter\n",
    "* Description\n",
    "* Owner\n",
    "* Type [Bug, Feature]\n",
    "* Component\n",
    "* Status\n",
    "* Severity"
   ]
  },
  {
   "cell_type": "markdown",
   "metadata": {},
   "source": [
    "## Reporting a Bug\n",
    "\n",
    "The description should make the bug reproducible:\n",
    "\n",
    "* Version\n",
    "* Steps\n",
    "\n",
    "If possible, submit a minimal reproducing code fragment."
   ]
  },
  {
   "cell_type": "markdown",
   "metadata": {},
   "source": [
    "## Owning an issue\n",
    "\n",
    "* Whoever the issue is assigned to works next.\n",
    "* If an issue needs someone else's work, assign it to them."
   ]
  },
  {
   "cell_type": "markdown",
   "metadata": {},
   "source": [
    "## Status \n",
    "\n",
    "* Submitted\n",
    "* Accepted\n",
    "* Underway\n",
    "* Blocked"
   ]
  },
  {
   "cell_type": "markdown",
   "metadata": {},
   "source": [
    "## Resolutions\n",
    "\n",
    "* Resolved\n",
    "* Will Not Fix\n",
    "* Not reproducible\n",
    "* Not a bug (working as intended)"
   ]
  },
  {
   "cell_type": "markdown",
   "metadata": {},
   "source": [
    "## Bug triage\n",
    "\n",
    "Some organisations use a severity matrix based on:\n",
    "\n",
    "* Severity [Wrong answer, crash, unusable, workaround, cosmetic...]\n",
    "* Frequency [All users, most users, some users...]"
   ]
  },
  {
   "cell_type": "markdown",
   "metadata": {},
   "source": [
    "## The backlog\n",
    "\n",
    "The list of all the bugs that need to be fixed or\n",
    "features that have been requested is called the \"backlog\"."
   ]
  },
  {
   "cell_type": "markdown",
   "metadata": {},
   "source": [
    "## Development cycles\n",
    "\n",
    "Development goes in *cycles*.\n",
    "\n",
    "Cycles range in length from a week to three months.\n",
    "\n",
    "In a given cycle:\n",
    "\n",
    "* Decide which features should be implemented\n",
    "* Decide which bugs should be fixed\n",
    "* Move these issues from the Backlog into the current cycle. (Aka Sprint)"
   ]
  },
  {
   "cell_type": "markdown",
   "metadata": {},
   "source": [
    "## GitHub issues\n",
    "\n",
    "GitHub doesn't have separate fields for status, component, severity etc.\n",
    "Instead, it just has labels, which you can create and delete.\n",
    "\n",
    "See for example [Jupyter](https://github.com/jupyter/notebook/issues?labels=bug&page=1&state=open)"
   ]
  }
 ],
 "metadata": {
  "jekyll": {
   "display_name": "Issue Tracking"
  },
  "kernelspec": {
   "display_name": "Python 3 (ipykernel)",
   "language": "python",
   "name": "python3"
  },
  "language_info": {
   "codemirror_mode": {
    "name": "ipython",
    "version": 3
   },
   "file_extension": ".py",
   "mimetype": "text/x-python",
   "name": "python",
   "nbconvert_exporter": "python",
   "pygments_lexer": "ipython3",
   "version": "3.8.13"
  }
 },
 "nbformat": 4,
 "nbformat_minor": 1
}