{
 "cells": [
  {
   "cell_type": "markdown",
   "metadata": {},
   "source": [
    "# Python not in the Notebook"
   ]
  },
  {
   "cell_type": "markdown",
   "metadata": {},
   "source": [
    "We will often want to save our Python classes, for use in multiple Notebooks.\n",
    "We can do this by writing text files with a .py extension, and then `importing` them."
   ]
  },
  {
   "cell_type": "markdown",
   "metadata": {},
   "source": [
    "## Writing Python in Text Files"
   ]
  },
  {
   "cell_type": "markdown",
   "metadata": {},
   "source": [
    "You can use a text editor like [Atom](https://atom.io) for Mac or [Notepad++](https://notepad-plus-plus.org) for windows to do this. If you create your own Python files ending in .py, then you can import them with `import` just like external libraries."
   ]
  },
  {
   "cell_type": "markdown",
   "metadata": {},
   "source": [
    "You can also maintain your library code in a Notebook, and use %%writefile to create your library."
   ]
  },
  {
   "cell_type": "markdown",
   "metadata": {},
   "source": [
    "Libraries are usually structured with multiple files, one for each class."
   ]
  },
  {
   "cell_type": "markdown",
   "metadata": {
    "collapsed": true
   },
   "source": [
    "We group our modules into packages, by putting them together into a folder. You can do this with explorer, or using a shell, or even with Python:"
   ]
  },
  {
   "cell_type": "code",
   "execution_count": 1,
   "metadata": {},
   "outputs": [],
   "source": [
    "import os\n",
    "\n",
    "if \"mazetool\" not in os.listdir(os.getcwd()):\n",
    "    os.mkdir(\"mazetool\")"
   ]
  },
  {
   "cell_type": "code",
   "execution_count": 2,
   "metadata": {},
   "outputs": [
    {
     "name": "stdout",
     "output_type": "stream",
     "text": [
      "Overwriting mazetool/maze.py\n"
     ]
    }
   ],
   "source": [
    "%%writefile mazetool/maze.py\n",
    "from .room import Room\n",
    "from .person import Person\n",
    "\n",
    "\n",
    "class Maze:\n",
    "    def __init__(self, name):\n",
    "        self.name = name\n",
    "        self.rooms = []\n",
    "        self.occupants = []\n",
    "\n",
    "    def add_room(self, name, capacity):\n",
    "        result = Room(name, capacity)\n",
    "        self.rooms.append(result)\n",
    "        return result\n",
    "\n",
    "    def add_exit(self, name, source, target, reverse=None):\n",
    "        source.add_exit(name, target)\n",
    "        if reverse:\n",
    "            target.add_exit(reverse, source)\n",
    "\n",
    "    def add_occupant(self, name, room):\n",
    "        self.occupants.append(Person(name, room))\n",
    "        room.occupancy += 1\n",
    "\n",
    "    def wander(self):\n",
    "        \"Move all the people in a random direction\"\n",
    "        for occupant in self.occupants:\n",
    "            occupant.wander()\n",
    "\n",
    "    def describe(self):\n",
    "        for occupant in self.occupants:\n",
    "            occupant.describe()\n",
    "\n",
    "    def step(self):\n",
    "        self.describe()\n",
    "        print()\n",
    "        self.wander()\n",
    "        print()\n",
    "\n",
    "    def simulate(self, steps):\n",
    "        for _ in range(steps):\n",
    "            self.step()"
   ]
  },
  {
   "cell_type": "code",
   "execution_count": 3,
   "metadata": {},
   "outputs": [
    {
     "name": "stdout",
     "output_type": "stream",
     "text": [
      "Overwriting mazetool/room.py\n"
     ]
    }
   ],
   "source": [
    "%%writefile mazetool/room.py\n",
    "from .exit import Exit\n",
    "\n",
    "\n",
    "class Room:\n",
    "    def __init__(self, name, capacity):\n",
    "        self.name = name\n",
    "        self.capacity = capacity\n",
    "        self.occupancy = 0\n",
    "        self.exits = []\n",
    "\n",
    "    def has_space(self):\n",
    "        return self.occupancy < self.capacity\n",
    "\n",
    "    def available_exits(self):\n",
    "        return [exit for exit in self.exits if exit.valid()]\n",
    "\n",
    "    def random_valid_exit(self):\n",
    "        import random\n",
    "\n",
    "        if not self.available_exits():\n",
    "            return None\n",
    "        return random.choice(self.available_exits())\n",
    "\n",
    "    def add_exit(self, name, target):\n",
    "        self.exits.append(Exit(name, target))"
   ]
  },
  {
   "cell_type": "code",
   "execution_count": 4,
   "metadata": {},
   "outputs": [
    {
     "name": "stdout",
     "output_type": "stream",
     "text": [
      "Overwriting mazetool/person.py\n"
     ]
    }
   ],
   "source": [
    "%%writefile mazetool/person.py\n",
    "\n",
    "\n",
    "class Person:\n",
    "    def __init__(self, name, room=None):\n",
    "        self.name = name\n",
    "        self.room = room\n",
    "\n",
    "    def use(self, exit):\n",
    "        self.room.occupancy -= 1\n",
    "        destination = exit.target\n",
    "        destination.occupancy += 1\n",
    "        self.room = destination\n",
    "        print(self.name, \"goes\", exit.name, \"to the\", destination.name)\n",
    "\n",
    "    def wander(self):\n",
    "        exit = self.room.random_valid_exit()\n",
    "        if exit:\n",
    "            self.use(exit)\n",
    "\n",
    "    def describe(self):\n",
    "        print(self.name, \"is in the\", self.room.name)"
   ]
  },
  {
   "cell_type": "code",
   "execution_count": 5,
   "metadata": {},
   "outputs": [
    {
     "name": "stdout",
     "output_type": "stream",
     "text": [
      "Overwriting mazetool/exit.py\n"
     ]
    }
   ],
   "source": [
    "%%writefile mazetool/exit.py\n",
    "\n",
    "\n",
    "class Exit:\n",
    "    def __init__(self, name, target):\n",
    "        self.name = name\n",
    "        self.target = target\n",
    "\n",
    "    def valid(self):\n",
    "        return self.target.has_space()"
   ]
  },
  {
   "cell_type": "markdown",
   "metadata": {},
   "source": [
    "**(Required for older versions of Python)**: In order to tell Python that our \"mazetool\" folder is a Python package, we have to make a special file called `__init__.py`. If you import things in there, they are imported as part of the package:"
   ]
  },
  {
   "cell_type": "code",
   "execution_count": 6,
   "metadata": {},
   "outputs": [
    {
     "name": "stdout",
     "output_type": "stream",
     "text": [
      "Overwriting mazetool/__init__.py\n"
     ]
    }
   ],
   "source": [
    "%%writefile mazetool/__init__.py\n",
    "from .maze import Maze  # Python 3 relative import"
   ]
  },
  {
   "cell_type": "markdown",
   "metadata": {},
   "source": [
    "## Loading Our Package"
   ]
  },
  {
   "cell_type": "markdown",
   "metadata": {},
   "source": [
    "We just wrote the files, there is no \"Maze\" class in this notebook yet:"
   ]
  },
  {
   "cell_type": "code",
   "execution_count": 7,
   "metadata": {
    "tags": [
     "raises-exception"
    ]
   },
   "outputs": [
    {
     "ename": "NameError",
     "evalue": "name 'Maze' is not defined",
     "output_type": "error",
     "traceback": [
      "\u001b[0;31m---------------------------------------------------------------------------\u001b[0m",
      "\u001b[0;31mNameError\u001b[0m                                 Traceback (most recent call last)",
      "Input \u001b[0;32mIn [7]\u001b[0m, in \u001b[0;36m<cell line: 1>\u001b[0;34m()\u001b[0m\n\u001b[0;32m----> 1\u001b[0m myhouse \u001b[38;5;241m=\u001b[39m \u001b[43mMaze\u001b[49m(\u001b[38;5;124m\"\u001b[39m\u001b[38;5;124mMy New House\u001b[39m\u001b[38;5;124m\"\u001b[39m)\n",
      "\u001b[0;31mNameError\u001b[0m: name 'Maze' is not defined"
     ]
    }
   ],
   "source": [
    "myhouse = Maze(\"My New House\")"
   ]
  },
  {
   "cell_type": "markdown",
   "metadata": {},
   "source": [
    "But now, we can import Maze, (and the other files will get imported via the chained Import statements, starting from the `__init__.py` file."
   ]
  },
  {
   "cell_type": "code",
   "execution_count": 8,
   "metadata": {},
   "outputs": [],
   "source": [
    "import mazetool"
   ]
  },
  {
   "cell_type": "code",
   "execution_count": 9,
   "metadata": {},
   "outputs": [
    {
     "data": {
      "text/plain": [
       "mazetool.exit.Exit"
      ]
     },
     "execution_count": 9,
     "metadata": {},
     "output_type": "execute_result"
    }
   ],
   "source": [
    "mazetool.exit.Exit"
   ]
  },
  {
   "cell_type": "code",
   "execution_count": 10,
   "metadata": {},
   "outputs": [],
   "source": [
    "from mazetool import Maze"
   ]
  },
  {
   "cell_type": "code",
   "execution_count": 11,
   "metadata": {},
   "outputs": [],
   "source": [
    "house = Maze(\"My New House\")\n",
    "living = house.add_room(\"livingroom\", 2)"
   ]
  },
  {
   "cell_type": "markdown",
   "metadata": {},
   "source": [
    "Note the files we have created are on the disk in the folder we made:"
   ]
  },
  {
   "cell_type": "code",
   "execution_count": 12,
   "metadata": {},
   "outputs": [],
   "source": [
    "import os"
   ]
  },
  {
   "cell_type": "code",
   "execution_count": 13,
   "metadata": {},
   "outputs": [
    {
     "data": {
      "text/plain": [
       "['maze.py', 'room.py', 'person.py', 'exit.py', '__init__.py', '__pycache__']"
      ]
     },
     "execution_count": 13,
     "metadata": {},
     "output_type": "execute_result"
    }
   ],
   "source": [
    "os.listdir(os.path.join(os.getcwd(), \"mazetool\"))"
   ]
  },
  {
   "cell_type": "markdown",
   "metadata": {},
   "source": [
    "`.pyc` files are \"Compiled\" temporary python files that the system generates to speed things up. They'll be regenerated\n",
    "on the fly when your `.py` files change."
   ]
  },
  {
   "cell_type": "markdown",
   "metadata": {},
   "source": [
    "## The Python Path"
   ]
  },
  {
   "cell_type": "markdown",
   "metadata": {},
   "source": [
    "We want to `import` these from notebooks elsewhere on our computer:\n",
    "it would be a bad idea to keep all our Python work in one folder."
   ]
  },
  {
   "cell_type": "markdown",
   "metadata": {},
   "source": [
    "**Supplementary material** The best way to do this is to learn how to make our code\n",
    "into a proper module that we can install. We'll see more on that in a few lectures' time."
   ]
  },
  {
   "cell_type": "markdown",
   "metadata": {},
   "source": [
    "Alternatively, we can add a folder to the \"Python Path\", where python searches for modules:"
   ]
  },
  {
   "cell_type": "code",
   "execution_count": 14,
   "metadata": {},
   "outputs": [
    {
     "name": "stdout",
     "output_type": "stream",
     "text": [
      "/opt/hostedtoolcache/Python/3.8.13/x64/lib/python3.8/lib-dynload\n",
      "\n",
      "/opt/hostedtoolcache/Python/3.8.13/x64/lib/python3.8/site-packages\n"
     ]
    }
   ],
   "source": [
    "import sys\n",
    "\n",
    "print(sys.path[-3])\n",
    "print(sys.path[-2])\n",
    "print(sys.path[-1])"
   ]
  },
  {
   "cell_type": "code",
   "execution_count": 15,
   "metadata": {},
   "outputs": [],
   "source": [
    "sys.path.append(\"/home/turingdev/devel/libraries/python\")"
   ]
  },
  {
   "cell_type": "code",
   "execution_count": 16,
   "metadata": {},
   "outputs": [
    {
     "name": "stdout",
     "output_type": "stream",
     "text": [
      "/home/turingdev/devel/libraries/python\n"
     ]
    }
   ],
   "source": [
    "print(sys.path[-1])"
   ]
  },
  {
   "cell_type": "markdown",
   "metadata": {},
   "source": [
    "I've thus added a folder to the list of places searched. If you want to do this permanently, you should set the PYTHONPATH Environment Variable,\n",
    "which you can learn about in a shell course, or can read about online for your operating system."
   ]
  }
 ],
 "metadata": {
  "hide_input": false,
  "jekyll": {
   "display_name": "Writing Libraries"
  },
  "kernelspec": {
   "display_name": "Python 3 (ipykernel)",
   "language": "python",
   "name": "python3"
  },
  "language_info": {
   "codemirror_mode": {
    "name": "ipython",
    "version": 3
   },
   "file_extension": ".py",
   "mimetype": "text/x-python",
   "name": "python",
   "nbconvert_exporter": "python",
   "pygments_lexer": "ipython3",
   "version": "3.8.13"
  }
 },
 "nbformat": 4,
 "nbformat_minor": 1
}