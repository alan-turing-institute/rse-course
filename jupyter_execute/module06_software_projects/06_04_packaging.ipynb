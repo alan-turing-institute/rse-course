{
 "cells": [
  {
   "cell_type": "markdown",
   "metadata": {},
   "source": [
    "# 6.4 Packaging"
   ]
  },
  {
   "cell_type": "markdown",
   "metadata": {},
   "source": [
    "*Estimated time for this notebook: 25 minutes*"
   ]
  },
  {
   "cell_type": "markdown",
   "metadata": {},
   "source": [
    "\n",
    "Once we've made a working program, we'd like to be able to use it across our system and to share it with others. To do this we need to create our own Python package.\n",
    "\n",
    "As an example, we'll create a package from the `greeter.py` and `command.py` files from the previous notebook. But we'll delete the files created last time first, to start from a clean slate:"
   ]
  },
  {
   "cell_type": "code",
   "execution_count": 1,
   "metadata": {},
   "outputs": [],
   "source": [
    "# Tidy up files created by previous notebook\n",
    "import os\n",
    "\n",
    "files = [\"greeter.py\", \"command.py\"]\n",
    "for f in files:\n",
    "    if os.path.exists(f):\n",
    "        os.remove(f)"
   ]
  },
  {
   "cell_type": "markdown",
   "metadata": {},
   "source": [
    "## Laying out a project"
   ]
  },
  {
   "cell_type": "markdown",
   "metadata": {},
   "source": [
    "\n",
    "When planning to package a project for distribution, defining a suitable\n",
    "project layout is essential. We have a typical example of a package layout in the `Greetings` directory, which looks like this:\n",
    "\n",
    "\n"
   ]
  },
  {
   "cell_type": "markdown",
   "metadata": {},
   "source": [
    "```\n",
    "Greetings                 <--- Parent directory for your project (your git repo)\n",
    "├── greetings             <--- Directory containing the code for your package\n",
    "│  ├── __init__.py        <--- Tells Python to treat the directory as a package\n",
    "│  ├── command.py\n",
    "│  └── greeter.py\n",
    "├── LICENSE.md            <--- License to describe how others can use your package\n",
    "├── pyproject.toml        <--- Configuration and metadata for your package\n",
    "├── README.md             <--- Homepage to briefly describe how to install and use your package\n",
    "└── tests                 <--- Tests for your package's functionality\n",
    "   └── test_greeter.py\n",
    "```"
   ]
  },
  {
   "cell_type": "markdown",
   "metadata": {},
   "source": [
    "## The package directory"
   ]
  },
  {
   "cell_type": "markdown",
   "metadata": {},
   "source": [
    "All your library source code should be in a single directory tree under the parent project directory. Libraries are usually structured with multiple files, perhaps one for each class.\n",
    "\n",
    "The source code directory (and sub-directories) should contain an `__init__.py` file, which makes Python treat it as a module. **The `__init__.py` file can be empty**.\n",
    "\n",
    "With the file layout above, `import greetings`, `import greetings.command`, and `import greetings.greeter` will all be possible after installing the package.\n",
    "\n",
    "If we added a sub-directory, to provide functionality for multiple languages for example, with this structure:\n",
    "\n",
    "```\n",
    "├── greetings\n",
    "│  ├── __init__.py\n",
    "│  ├── command.py\n",
    "│  ├── greeter.py\n",
    "│  └── languages\n",
    "│     ├── __init__.py\n",
    "│     ├── english.py\n",
    "│     └── italian.py\n",
    "```\n",
    "\n",
    "then `import greetings.languages`, `import greetings.languages.english`, and `import greetings.languages.italian` would become available. This is a way to group together related functionality/features in your package.\n",
    "\n",
    "**⚠️ Advanced topic:** The contents of the `__init__.py` file(s) is executed when you import a package. A common use case for non-empty `__init__.py` files is to \"shortcut\" imports for convenience. For example, to import the main `greet` function we'd currently need to do:\n",
    "\n",
    "```python\n",
    "from greetings.greeter import greet\n",
    "```\n",
    "\n",
    "If we added that import code as a line in `greetings/__init__.py`, it will then be possible to do:\n",
    "\n",
    "```python\n",
    "from greetings import greet\n",
    "```"
   ]
  },
  {
   "cell_type": "markdown",
   "metadata": {},
   "source": [
    "## Build systems and config files\n",
    "\n",
    "To install your package you need to define a \"build system\", the tool that will do the work of creating the package, and to provide a configuration file to specify how your package should be built.\n",
    "\n",
    "The three most common package config files are:\n",
    "\n",
    "- `pyproject.toml` **(preferred)**\n",
    "- `setup.cfg`  (may be deprecated in the future)\n",
    "- `setup.py`  (may be needed for packages with complex build requirements)\n",
    "\n",
    "You'll find a lot of projects that use `setup.py` (which used to be the standard), but for new projects it's recommended to use `pyproject.toml`. [TOML](https://toml.io/en/) is a modern file format for configuration files.\n",
    "\n",
    "\n",
    "There are multiple \"build systems\" that can interpret `pyproject.toml` files and build your package. The original and most ubiquitous is [setuptools](https://setuptools.pypa.io/en/latest/index.html), which we'll use here.\n",
    "\n",
    "Other options include [Poetry](https://python-poetry.org/), [Flit](https://flit.pypa.io/en/latest/) and [Hatch](https://hatch.pypa.io/latest/). We'd recommend looking at Poetry as an option for managing dependencies, virtual environments, and packaging together. The structure of `pyproject.toml` will differ depending on the tool you're using.\n"
   ]
  },
  {
   "cell_type": "markdown",
   "metadata": {},
   "source": [
    "## Using setuptools and pyproject.toml"
   ]
  },
  {
   "cell_type": "markdown",
   "metadata": {},
   "source": [
    "### Specifying the build system\n",
    "\n",
    "The `[build-system]` section gives the details the tool that should be used to create the package from our code, in this case `setuptools`:\n",
    "\n",
    "```toml\n",
    "[build-system]\n",
    "requires = [\"setuptools\"]  # the build tool to use\n",
    "build-backend = \"setuptools.build_meta\"  # the function to use to build the package\n",
    "```\n"
   ]
  },
  {
   "cell_type": "markdown",
   "metadata": {},
   "source": [
    "### Specifying project metadata\n",
    "\n",
    "The `[project]` section contains metadata about your package, at minimum this should include your package's name (usually the name of your package directory) and a version number:\n",
    "\n",
    "```toml\n",
    "[project]\n",
    "name = \"greetings\"\n",
    "version = \"0.0.1\"\n",
    "```"
   ]
  },
  {
   "cell_type": "markdown",
   "metadata": {
    "collapsed": true
   },
   "source": [
    "### Specifying dependencies\n",
    "\n",
    "Rather than in a `requirements.txt` file, your package's dependencies should be specified in `pyproject.toml`. These are passed as a list in the `[project]` section (in this case we only have one dependency, `colorama`):\n",
    "\n",
    "```toml\n",
    "[project]\n",
    "dependencies = [\"colorama ~= 0.4.4\"]\n",
    "```"
   ]
  },
  {
   "cell_type": "markdown",
   "metadata": {},
   "source": [
    "#### Python version\n",
    "\n",
    "If our package requires a certain Python version to work, that can also be specified:\n",
    "\n",
    "```toml\n",
    "[project]\n",
    "requires-python = \">=3.6\"\n",
    "```\n",
    "\n",
    "#### Optional dependencies\n",
    "\n",
    "Sometimes a package may have extra optional features, with extra dependencies, that not all users need. A common example is development dependencies (e.g. for running tests, building documentation, checking code quality, and similar) that a normal user won't need. Optional dependencies can be specified in the `[project.optional-dependencies]` section:\n",
    "\n",
    "```toml\n",
    "[project.optional-dependencies]\n",
    "dev = [\"pytest ~= 7.1.2\"]\n",
    "```\n",
    "\n",
    "`dev` is the name of an optional group of dependencies that can be passed to `pip` when installing the package (see below). We could have multiple groups here with different (arbitrary) names and sets of dependencies."
   ]
  },
  {
   "cell_type": "markdown",
   "metadata": {},
   "source": [
    "### Make a command-line interface"
   ]
  },
  {
   "cell_type": "markdown",
   "metadata": {},
   "source": [
    "In the previous notebook we created a script `command.py` that could be run with `python command.py ...` with configurable arguments using `argparse`. We can include scripts like these in the package installation to create a more intuitive CLI (command-line interface) for our library:\n",
    "\n",
    "```toml\n",
    "[project.scripts]\n",
    "greet = \"greetings.command:process\"\n",
    "```\n",
    "\n",
    "The syntax above means that after installing the package the command `greet` will become available on our system, and running `greet` will call the `process` function in the `greetings/command.py` file. See below for this in action."
   ]
  },
  {
   "cell_type": "markdown",
   "metadata": {},
   "source": [
    "### Complete pyproject.toml\n",
    "\n",
    "All together this is our complete `pyproject.toml` file:\n",
    "\n",
    "```toml\n",
    "[build-system]\n",
    "requires = [\"setuptools\"]\n",
    "build-backend = \"setuptools.build_meta\"\n",
    "\n",
    "[project]\n",
    "name = \"greetings\"\n",
    "version = \"0.0.1\"\n",
    "requires-python = \">=3.6\"\n",
    "dependencies = [\"colorama ~= 0.4.4\"]\n",
    "\n",
    "[project.optional-dependencies]\n",
    "dev = [\"pytest ~= 7.1.2\"]\n",
    "\n",
    "[project.scripts]\n",
    "greet = \"greetings.command:process\"\n",
    "```\n",
    "\n",
    "This is a minimal example but there are many other metadata fields you can include and configuration options. See the [setuptools](https://setuptools.pypa.io/en/latest/userguide/pyproject_config.html) and [Python packaging](https://packaging.python.org/en/latest/specifications/declaring-project-metadata/) docs for details."
   ]
  },
  {
   "cell_type": "markdown",
   "metadata": {},
   "source": [
    "## Installing the package"
   ]
  },
  {
   "cell_type": "markdown",
   "metadata": {},
   "source": [
    "\n",
    "\n",
    "\n",
    "We can now install this code with\n"
   ]
  },
  {
   "cell_type": "code",
   "execution_count": 2,
   "metadata": {
    "scrolled": true
   },
   "outputs": [
    {
     "name": "stdout",
     "output_type": "stream",
     "text": [
      "Processing /home/runner/work/rse-course/rse-course/module06_software_projects/Greetings\n"
     ]
    },
    {
     "name": "stdout",
     "output_type": "stream",
     "text": [
      "  Installing build dependencies: started\n"
     ]
    },
    {
     "name": "stdout",
     "output_type": "stream",
     "text": [
      "  Installing build dependencies: finished with status 'done'\n"
     ]
    },
    {
     "name": "stdout",
     "output_type": "stream",
     "text": [
      "  Getting requirements to build wheel: started\n"
     ]
    },
    {
     "name": "stdout",
     "output_type": "stream",
     "text": [
      "  Getting requirements to build wheel: finished with status 'done'\n"
     ]
    },
    {
     "name": "stdout",
     "output_type": "stream",
     "text": [
      "  Installing backend dependencies: started\n"
     ]
    },
    {
     "name": "stdout",
     "output_type": "stream",
     "text": [
      "  Installing backend dependencies: finished with status 'done'\n"
     ]
    },
    {
     "name": "stdout",
     "output_type": "stream",
     "text": [
      "  Preparing metadata (pyproject.toml): started\n"
     ]
    },
    {
     "name": "stdout",
     "output_type": "stream",
     "text": [
      "  Preparing metadata (pyproject.toml): finished with status 'done'\n"
     ]
    },
    {
     "name": "stdout",
     "output_type": "stream",
     "text": [
      "Requirement already satisfied: colorama~=0.4.4 in /opt/hostedtoolcache/Python/3.8.14/x64/lib/python3.8/site-packages (from greetings==0.0.1) (0.4.5)\n"
     ]
    },
    {
     "name": "stdout",
     "output_type": "stream",
     "text": [
      "Building wheels for collected packages: greetings\n"
     ]
    },
    {
     "name": "stdout",
     "output_type": "stream",
     "text": [
      "  Building wheel for greetings (pyproject.toml): started\n"
     ]
    },
    {
     "name": "stdout",
     "output_type": "stream",
     "text": [
      "  Building wheel for greetings (pyproject.toml): finished with status 'done'\n"
     ]
    },
    {
     "name": "stdout",
     "output_type": "stream",
     "text": [
      "  Created wheel for greetings: filename=greetings-0.0.1-py3-none-any.whl size=2786 sha256=0f8fbeebc45b358f55a87565bbd724c92e112218682947119760767d4b8e6765\n"
     ]
    },
    {
     "name": "stdout",
     "output_type": "stream",
     "text": [
      "  Stored in directory: /tmp/pip-ephem-wheel-cache-j1khbmr8/wheels/a6/5c/81/c1c48894d5b25832088cf648e757dcc6d8eff3dc2116123a4a\n"
     ]
    },
    {
     "name": "stdout",
     "output_type": "stream",
     "text": [
      "Successfully built greetings\n"
     ]
    },
    {
     "name": "stdout",
     "output_type": "stream",
     "text": [
      "Installing collected packages: greetings\n"
     ]
    },
    {
     "name": "stdout",
     "output_type": "stream",
     "text": [
      "  Attempting uninstall: greetings\n"
     ]
    },
    {
     "name": "stdout",
     "output_type": "stream",
     "text": [
      "    Found existing installation: greetings 0.0.1\n"
     ]
    },
    {
     "name": "stdout",
     "output_type": "stream",
     "text": [
      "    Uninstalling greetings-0.0.1:\n"
     ]
    },
    {
     "name": "stdout",
     "output_type": "stream",
     "text": [
      "      Successfully uninstalled greetings-0.0.1\n"
     ]
    },
    {
     "name": "stdout",
     "output_type": "stream",
     "text": [
      "Successfully installed greetings-0.0.1\n"
     ]
    }
   ],
   "source": [
    "%%bash\n",
    "cd Greetings\n",
    "pip install ."
   ]
  },
  {
   "cell_type": "markdown",
   "metadata": {},
   "source": [
    "### Installing optional dependencies\n",
    "\n",
    "To install dependencies specified in `[project.optional-dependencies]`, include the name of the optional group in square brackets, like this:"
   ]
  },
  {
   "cell_type": "markdown",
   "metadata": {
    "scrolled": true
   },
   "source": [
    "```python\n",
    "cd Greetings\n",
    "pip install \".[dev]\"\n",
    "```"
   ]
  },
  {
   "cell_type": "markdown",
   "metadata": {},
   "source": [
    "### Editable mode"
   ]
  },
  {
   "cell_type": "markdown",
   "metadata": {},
   "source": [
    "If you modify your source files, you would now find it appeared as if the program doesn't change.\n",
    "\n",
    "That's because pip install **copies** the file elsewhere during installation (the location is system-dependent).\n",
    "\n",
    "If you want to install a package, but keep working on it, you can install it in \"editable mode\"."
   ]
  },
  {
   "cell_type": "markdown",
   "metadata": {},
   "source": [
    "⚠️ As of August 2022, `setuptools` does not support editable installs with `pyproject.toml` (only) packages, so you will need a small `setup.py` file to make this work (see below). But this shouldn't be necessary [in the near future](https://discuss.python.org/t/help-testing-pep-660-support-in-setuptools/16904/34?u=astrojuanlu)."
   ]
  },
  {
   "cell_type": "code",
   "execution_count": 3,
   "metadata": {},
   "outputs": [
    {
     "name": "stdout",
     "output_type": "stream",
     "text": [
      "Overwriting Greetings/setup.py\n"
     ]
    }
   ],
   "source": [
    "%%writefile Greetings/setup.py\n",
    "from setuptools import setup\n",
    "\n",
    "setup()"
   ]
  },
  {
   "cell_type": "markdown",
   "metadata": {
    "scrolled": true
   },
   "source": [
    "Then to install in editable mode:\n",
    "\n",
    "```python\n",
    "cd Greetings\n",
    "pip install -e \".[dev]\"\n",
    "```"
   ]
  },
  {
   "cell_type": "markdown",
   "metadata": {},
   "source": [
    "### Installing from GitHub\n",
    "\n",
    "If we have our code in a (public) git repo anyone can now install our package directly from the git URL:"
   ]
  },
  {
   "cell_type": "markdown",
   "metadata": {},
   "source": [
    "```bash\n",
    "pip install git+git://github.com/alan-turing-institute/Greetings\n",
    "```"
   ]
  },
  {
   "cell_type": "markdown",
   "metadata": {},
   "source": [
    "### Uploading to PyPI\n",
    "\n",
    "We could now submit \"greeter\" to PyPI so everyone could `pip install greetings` directly. For details see the [Python packaging tutorial](https://packaging.python.org/en/latest/tutorials/packaging-projects/#generating-distribution-archives).\n",
    "\n",
    "Note there is very little approval/review process - you can put pretty much anything on PyPI. Keep that in mind and be wary about installing unknown packages!"
   ]
  },
  {
   "cell_type": "markdown",
   "metadata": {},
   "source": [
    "## Using the Package"
   ]
  },
  {
   "cell_type": "markdown",
   "metadata": {},
   "source": [
    "\n",
    "The package is now available to use everywhere on the system.\n",
    "\n",
    "⚠️ You may need to restart your Jupyter notebook kernel for the newly installed package to be recognised.\n"
   ]
  },
  {
   "cell_type": "code",
   "execution_count": 4,
   "metadata": {},
   "outputs": [
    {
     "name": "stdout",
     "output_type": "stream",
     "text": [
      "\u001b[40m\u001b[33mHey, \u001b[47m\u001b[1m\u001b[31mJames Hetherington\n"
     ]
    }
   ],
   "source": [
    "from greetings.greeter import greet\n",
    "\n",
    "print(greet(\"James\", \"Hetherington\"))"
   ]
  },
  {
   "cell_type": "markdown",
   "metadata": {},
   "source": [
    "\n",
    "And the scripts are now available as command line commands:\n",
    "\n",
    "\n"
   ]
  },
  {
   "cell_type": "code",
   "execution_count": 5,
   "metadata": {},
   "outputs": [
    {
     "name": "stdout",
     "output_type": "stream",
     "text": [
      "usage: greet [-h] [--title TITLE] [--polite] personal family\n"
     ]
    },
    {
     "name": "stdout",
     "output_type": "stream",
     "text": [
      "\n"
     ]
    },
    {
     "name": "stdout",
     "output_type": "stream",
     "text": [
      "Generate appropriate greetings\n"
     ]
    },
    {
     "name": "stdout",
     "output_type": "stream",
     "text": [
      "\n"
     ]
    },
    {
     "name": "stdout",
     "output_type": "stream",
     "text": [
      "positional arguments:\n"
     ]
    },
    {
     "name": "stdout",
     "output_type": "stream",
     "text": [
      "  personal\n"
     ]
    },
    {
     "name": "stdout",
     "output_type": "stream",
     "text": [
      "  family\n"
     ]
    },
    {
     "name": "stdout",
     "output_type": "stream",
     "text": [
      "\n"
     ]
    },
    {
     "name": "stdout",
     "output_type": "stream",
     "text": [
      "optional arguments:\n"
     ]
    },
    {
     "name": "stdout",
     "output_type": "stream",
     "text": [
      "  -h, --help            show this help message and exit\n"
     ]
    },
    {
     "name": "stdout",
     "output_type": "stream",
     "text": [
      "  --title TITLE, -t TITLE\n"
     ]
    },
    {
     "name": "stdout",
     "output_type": "stream",
     "text": [
      "  --polite, -p\n"
     ]
    }
   ],
   "source": [
    "%%bash\n",
    "greet --help"
   ]
  },
  {
   "cell_type": "code",
   "execution_count": 6,
   "metadata": {},
   "outputs": [
    {
     "name": "stdout",
     "output_type": "stream",
     "text": [
      "\u001b[40m\u001b[33mHey, \u001b[47m\u001b[1m\u001b[31mJames Hetherington\n"
     ]
    },
    {
     "name": "stdout",
     "output_type": "stream",
     "text": [
      "\u001b[40m\u001b[33mHow do you do, \u001b[47m\u001b[1m\u001b[31mJames Hetherington\n"
     ]
    },
    {
     "name": "stdout",
     "output_type": "stream",
     "text": [
      "\u001b[40m\u001b[33mHey, \u001b[44m\u001b[37mDr \u001b[47m\u001b[1m\u001b[31mJames Hetherington\n"
     ]
    }
   ],
   "source": [
    "%%bash\n",
    "greet James Hetherington\n",
    "greet --polite James Hetherington\n",
    "greet James Hetherington --title Dr"
   ]
  },
  {
   "cell_type": "markdown",
   "metadata": {},
   "source": [
    "Of course, there's more to do when taking code from a quick script and turning it into a proper module. We'll continue to look at this in the rest of the course, but here are some initial ideas:"
   ]
  },
  {
   "cell_type": "markdown",
   "metadata": {},
   "source": [
    "## Write some unit tests"
   ]
  },
  {
   "cell_type": "markdown",
   "metadata": {},
   "source": [
    "Contents of `Greetings/tests/test_greeter.py`:"
   ]
  },
  {
   "cell_type": "markdown",
   "metadata": {},
   "source": [
    "```python\n",
    "from greetings.greeter import greet\n",
    "\n",
    "\n",
    "def test_greeter():\n",
    "    inputs = [\n",
    "        {\"personal\": \"James\", \"family\": \"Hetherington\"},\n",
    "        {\"personal\": \"James\", \"family\": \"Hetherington\", \"polite\": True},\n",
    "        {\"personal\": \"James\", \"family\": \"Hetherington\", \"title\": \"Dr\"},\n",
    "    ]\n",
    "    outputs = [  # codes like \\x1b[32m are colours\n",
    "        \"\\x1b[40m\\x1b[33mHey, \\x1b[47m\\x1b[1m\\x1b[31mJames Hetherington\",\n",
    "        \"\\x1b[40m\\x1b[33mHow do you do, \\x1b[47m\\x1b[1m\\x1b[31mJames Hetherington\",\n",
    "        \"\\x1b[40m\\x1b[33mHey, \\x1b[44m\\x1b[37mDr \\x1b[47m\\x1b[1m\\x1b[31mJames Hetherington\",\n",
    "    ]\n",
    "    for inp, out in zip(inputs, outputs):\n",
    "        assert greet(**inp) == out\n",
    "```"
   ]
  },
  {
   "cell_type": "code",
   "execution_count": 7,
   "metadata": {},
   "outputs": [
    {
     "name": "stdout",
     "output_type": "stream",
     "text": [
      "============================= test session starts ==============================\n"
     ]
    },
    {
     "name": "stdout",
     "output_type": "stream",
     "text": [
      "platform linux -- Python 3.8.14, pytest-7.1.3, pluggy-1.0.0\n"
     ]
    },
    {
     "name": "stdout",
     "output_type": "stream",
     "text": [
      "rootdir: /home/runner/work/rse-course/rse-course/module06_software_projects/Greetings\n"
     ]
    },
    {
     "name": "stdout",
     "output_type": "stream",
     "text": [
      "plugins: anyio-3.6.1, pylama-8.4.1, cov-4.0.0\n"
     ]
    },
    {
     "name": "stdout",
     "output_type": "stream",
     "text": [
      "collected 1 item\n"
     ]
    },
    {
     "name": "stdout",
     "output_type": "stream",
     "text": [
      "\n"
     ]
    },
    {
     "name": "stdout",
     "output_type": "stream",
     "text": [
      "tests/test_greeter.py .                                                  [100%]\n"
     ]
    },
    {
     "name": "stdout",
     "output_type": "stream",
     "text": [
      "\n"
     ]
    },
    {
     "name": "stdout",
     "output_type": "stream",
     "text": [
      "============================== 1 passed in 0.02s ===============================\n"
     ]
    }
   ],
   "source": [
    "%%bash\n",
    "cd Greetings\n",
    "pytest"
   ]
  },
  {
   "cell_type": "markdown",
   "metadata": {},
   "source": [
    "## Write a README file"
   ]
  },
  {
   "cell_type": "markdown",
   "metadata": {},
   "source": [
    "e.g.:"
   ]
  },
  {
   "cell_type": "code",
   "execution_count": 8,
   "metadata": {},
   "outputs": [
    {
     "name": "stdout",
     "output_type": "stream",
     "text": [
      "Overwriting Greetings/README.md\n"
     ]
    }
   ],
   "source": [
    "%%writefile Greetings/README.md\n",
    "\n",
    "Greetings!\n",
    "==========\n",
    "\n",
    "This is a very simple example package used as part of the Turing\n",
    "[Research Software Engineering with Python](https://alan-turing-institute.github.io/rse-course) course.\n",
    "\n",
    "Usage:\n",
    "    \n",
    "Invoke the tool with greet <FirstName> <Secondname>"
   ]
  },
  {
   "cell_type": "markdown",
   "metadata": {},
   "source": [
    "## Write a license file"
   ]
  },
  {
   "cell_type": "markdown",
   "metadata": {},
   "source": [
    "e.g.:"
   ]
  },
  {
   "cell_type": "code",
   "execution_count": 9,
   "metadata": {},
   "outputs": [
    {
     "name": "stdout",
     "output_type": "stream",
     "text": [
      "Overwriting Greetings/LICENSE.md\n"
     ]
    }
   ],
   "source": [
    "%%writefile Greetings/LICENSE.md\n",
    "\n",
    "(C) The Alan Turing Institute 2021\n",
    "\n",
    "This \"greetings\" example package is granted into the public domain."
   ]
  },
  {
   "cell_type": "markdown",
   "metadata": {},
   "source": [
    "## Write a citation file"
   ]
  },
  {
   "cell_type": "markdown",
   "metadata": {},
   "source": [
    "e.g.:"
   ]
  },
  {
   "cell_type": "code",
   "execution_count": 10,
   "metadata": {},
   "outputs": [
    {
     "name": "stdout",
     "output_type": "stream",
     "text": [
      "Overwriting Greetings/CITATION.md\n"
     ]
    }
   ],
   "source": [
    "%%writefile Greetings/CITATION.md\n",
    "\n",
    "If you wish to refer to this course, please cite the URL\n",
    "https://alan-turing-institute.github.io/rse-course\n",
    "\n",
    "Portions of the material are taken from Software Carpentry\n",
    "http://swcarpentry.org"
   ]
  },
  {
   "cell_type": "markdown",
   "metadata": {},
   "source": [
    "You may well want to formalise this using the [codemeta.json](https://codemeta.github.io/) standard - this doesn't have wide adoption yet, but we recommend it."
   ]
  },
  {
   "cell_type": "markdown",
   "metadata": {},
   "source": [
    "## Documentation"
   ]
  },
  {
   "cell_type": "markdown",
   "metadata": {},
   "source": [
    "This documentation string explains how to use the function; don't worry about this for now, we'll consider\n",
    "this next time."
   ]
  },
  {
   "cell_type": "markdown",
   "metadata": {},
   "source": [
    "```python\n",
    "def greet(personal, family, title=\"\", polite=False):\n",
    "    \"\"\"Generate a greeting string for a person.\n",
    "\n",
    "    Parameters\n",
    "    ----------\n",
    "    personal: str\n",
    "        A given name, such as Will or Jean-Luc\n",
    "    family: str\n",
    "        A family name, such as Riker or Picard\n",
    "    title: str\n",
    "        An optional title, such as Captain or Reverend\n",
    "    polite: bool\n",
    "        True for a formal greeting, False for informal.\n",
    "\n",
    "    Returns\n",
    "    -------\n",
    "    string\n",
    "        An appropriate greeting\n",
    "    \"\"\"\n",
    "\n",
    "    greeting = \"How do you do, \" if polite else \"Hey, \"\n",
    "    greeting = Fore.GREEN + greeting\n",
    "    if title:\n",
    "        greeting += Fore.BLUE + title + \" \"\n",
    "\n",
    "    greeting += Fore.RED + personal + \" \" + family + \".\"\n",
    "    return greeting\n",
    "```"
   ]
  },
  {
   "cell_type": "code",
   "execution_count": 11,
   "metadata": {},
   "outputs": [
    {
     "name": "stdout",
     "output_type": "stream",
     "text": [
      "Help on function greet in module greetings.greeter:\n",
      "\n",
      "greet(personal, family, title='', polite=False)\n",
      "    Generate a greeting string for a person.\n",
      "    \n",
      "    Parameters\n",
      "    ----------\n",
      "    personal: str\n",
      "        A given name, such as Will or Jean-Luc\n",
      "    family: str\n",
      "        A family name, such as Riker or Picard\n",
      "    title: str\n",
      "        An optional title, such as Captain or Reverend\n",
      "    polite: bool\n",
      "        True for a formal greeting, False for informal.\n",
      "    \n",
      "    Returns\n",
      "    -------\n",
      "    string\n",
      "        An appropriate greeting\n",
      "\n"
     ]
    }
   ],
   "source": [
    "import greetings\n",
    "\n",
    "help(greetings.greeter.greet)"
   ]
  }
 ],
 "metadata": {
  "hide_input": false,
  "jekyll": {
   "display_name": "Packaging"
  },
  "kernelspec": {
   "display_name": "Python 3 (ipykernel)",
   "language": "python",
   "name": "python3"
  },
  "language_info": {
   "codemirror_mode": {
    "name": "ipython",
    "version": 3
   },
   "file_extension": ".py",
   "mimetype": "text/x-python",
   "name": "python",
   "nbconvert_exporter": "python",
   "pygments_lexer": "ipython3",
   "version": "3.8.14"
  }
 },
 "nbformat": 4,
 "nbformat_minor": 1
}