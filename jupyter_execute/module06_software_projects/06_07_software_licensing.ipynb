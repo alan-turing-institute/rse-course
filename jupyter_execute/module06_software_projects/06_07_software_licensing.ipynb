{
 "cells": [
  {
   "cell_type": "markdown",
   "metadata": {},
   "source": [
    "# 6.7 Software Licensing"
   ]
  },
  {
   "cell_type": "markdown",
   "metadata": {},
   "source": [
    "*Estimated time for this notebook: 10 minutes*"
   ]
  },
  {
   "cell_type": "markdown",
   "metadata": {},
   "source": [
    "## Disclaimer\n",
    "\n",
    "Here we attempt to give some basic advice on choosing a license for your software. But:\n",
    "\n",
    "* we are NOT lawyers\n",
    "* opinions differ (and flamewars are boring)\n",
    "* this training does NOT constitute legal advice. \n",
    "\n",
    "For an in-depth discussion of software licenses, read the [O'Reilly book](https://www.oreilly.com/library/view/understanding-open-source/0596005814/bk01-toc.html).\n",
    "\n",
    "Your organisation may have policies about applying licenses to code you create while you work there. This training doesn't address this issue, and does not represent an official policy -- seek advice from your supervisor or manager if concerned."
   ]
  },
  {
   "cell_type": "markdown",
   "metadata": {},
   "source": [
    "## Choose a license\n",
    "\n",
    "It is important to choose a license and to create a *license file* to tell people what it is. \n",
    "\n",
    "The license lets people know whether they can reuse your code and\n",
    "under what terms. [This course has one](https://github.com/alan-turing-institute/rse-course/blob/main/LICENSE.md), for example.\n",
    "\n",
    "Your license file should typically be called LICENSE.txt or similar. GitHub will offer to create a license file automatically when you create a new repository.\n",
    "\n",
    "See [GitHub's advice on how to choose a license](http://choosealicense.com/)"
   ]
  },
  {
   "cell_type": "markdown",
   "metadata": {},
   "source": [
    "## Open source doesn't stop you making money\n",
    "\n",
    "A common misconception about open source software is the thought that\n",
    "open source means you can't make any money. This is *wrong*. \n",
    "\n",
    "Plenty of people open source their software and profit from:\n",
    "\n",
    "* The software under a different license e.g. [Saxon](http://saxon.sourceforge.net/)\n",
    "* Consulting. For example: [Continuum](http://continuum.io/consulting) who help maintain NumPy\n",
    "* Manuals. For example: [VTK](http://www.vtk.org/)\n",
    "* Add-ons. For example: [Puppet](http://puppetlabs.com/puppet/enterprise-vs-open-source)\n",
    "* Server software, which open source client software interacts with. For example: [GitHub API clients](https://github.com/octokit/octokit.rb)"
   ]
  },
  {
   "cell_type": "markdown",
   "metadata": {},
   "source": [
    "## Plagiarism vs promotion\n",
    "\n",
    "Many researchers worry about people stealing their work if they open source their code. But often the biggest problem is not theft, but the fact no one is aware of your work.\n",
    "\n",
    "Open source is a way to increase the probability that someone else on the planet will care enough about your work to cite you.\n",
    "\n",
    "So when thinking about whether to open source your code, think about whether you're more worried about\n",
    "anonymity or theft."
   ]
  },
  {
   "cell_type": "markdown",
   "metadata": {},
   "source": [
    "## Your code *is* good enough\n",
    "\n",
    "New coders worry that they'll be laughed at if they put their code online. Don't worry. Everyone, including people who've been coding for decades, \n",
    "writes shoddy code that is full of bugs.\n",
    "\n",
    "The only thing that will make your code better, is *other people reading it*. \n",
    "\n",
    "For small scripts that no one but you will ever use,\n",
    "my recommendation is to use an open repository anyway. \n",
    "Find a buddy, and get them to comment on it."
   ]
  },
  {
   "cell_type": "markdown",
   "metadata": {},
   "source": [
    "## Worry about license compatibility and proliferation\n",
    "\n",
    "Not all open source code can be used in all projects. Some licenses are legally incompatible.\n",
    "\n",
    "This is a huge and annoying problem. \n",
    "As an author, you might not care, but you can't anticipate the exciting uses people might find by\n",
    "mixing your code with someone else's. \n",
    "\n",
    "Use a standard license from the small list that are well-used.\n",
    "Then people will understand. *Don't make up your own*.\n",
    "\n",
    "When you're about to use a license, see if there's a more common one which is recommended, e.g.:\n",
    "using the [opensource.org proliferation report](http://opensource.org/proliferation-report)"
   ]
  },
  {
   "cell_type": "markdown",
   "metadata": {},
   "source": [
    "## Academic license proliferation\n",
    "\n",
    "Academics often write their own license terms for their software.\n",
    "\n",
    "For example:\n",
    "\n",
    ">XXXX NON-COMMERCIAL EDUCATIONAL LICENSE\n",
    ">Copyright (c) 2013 Prof. Foo.\n",
    ">All rights reserved.\n",
    ">\n",
    ">You may use and modify this software for any non-commercial purpose within your educational \n",
    ">institution. Teaching, academic research, and personal experimentation are examples of purpose \n",
    ">which can be non-commercial.\n",
    ">\n",
    ">You may redistribute the software and modifications to the software for non-commercial \n",
    ">purposes, but only to eligible users of the software (for example, to another university\n",
    ">student or faculty to support joint academic research).\n",
    "\n",
    "Please don't do this. Your desire to slightly tweak the terms is harmful to the\n",
    "future software ecosystem. Also, *Unless you are a lawyer, you cannot do this safely!*"
   ]
  },
  {
   "cell_type": "markdown",
   "metadata": {},
   "source": [
    "## Licenses for code, content, and data.\n",
    "\n",
    "Licenses designed for code should not be used to license data or prose.\n",
    "\n",
    "Don't use Creative Commons for software, or GPL for a book."
   ]
  },
  {
   "cell_type": "markdown",
   "metadata": {},
   "source": [
    "## Licensing issues\n",
    "\n",
    "* Permissive vs share-alike\n",
    "* Non-commercial and academic Use Only\n",
    "* Patents\n",
    "* Use as a web service"
   ]
  },
  {
   "cell_type": "markdown",
   "metadata": {},
   "source": [
    "## Permissive vs share-alike\n",
    "\n",
    "Some licenses require all derived software to be licensed under terms that are similarly free.\n",
    "Such licenses are called \"Share Alike\" or \"Copyleft\".\n",
    "\n",
    "* Licenses in this class include the GPL.\n",
    "\n",
    "Those that don't are called \"Permissive\"\n",
    "\n",
    "* These include Apache, BSD, and MIT licenses.\n",
    "\n",
    "If you want your code to be maximally reusable, use a permissive license\n",
    "If you want to force other people using your code to make derivatives open source, use a copyleft license.\n",
    "\n",
    "If you want to use code that has a permissive license, it's safe to use it and keep your code secret.\n",
    "If you want to use code that has a copyleft license, you'll have to release your code under such a license."
   ]
  },
  {
   "cell_type": "markdown",
   "metadata": {},
   "source": [
    "## Academic use only\n",
    "\n",
    "Some researchers want to make their code free for 'academic use only'.\n",
    "None of the standard licenses state this, and this is a reason why academic bespoke licenses proliferate.\n",
    "\n",
    "However, there is no need for this, in our opinion.\n",
    "\n",
    "*Use of a standard Copyleft license precludes derived software from being sold without also publishing the source*\n",
    "\n",
    "So use of a Copyleft license precludes commercial use.\n",
    "\n",
    "This is a very common way of making a business from open source code: offer the code under GPL for free\n",
    "but offer the code under more permissive terms, allowing for commercial use, for a fee."
   ]
  },
  {
   "cell_type": "markdown",
   "metadata": {},
   "source": [
    "## Patents\n",
    "\n",
    "Intellectual property law distinguishes copyright from patents. \n",
    "This is a complex field, which I am far from qualified to teach!\n",
    "\n",
    "People who think carefully about intellectual property law distinguish software licenses\n",
    "based on how they address patents. Very roughly, if a you want to ensure that contributors to your project\n",
    "can't then go off and patent their contribution, some licenses, such as the Apache license, protect you from this."
   ]
  },
  {
   "cell_type": "markdown",
   "metadata": {},
   "source": [
    "## Use as a web service\n",
    "\n",
    "If I take copyleft code, and use it to host a web service, I have not sold the software.\n",
    "\n",
    "Therefore, under some licenses, I do not have to release any derivative software.\n",
    "This \"loophole\" in the GPL is closed by the AGPL (\"Affero GPL\")"
   ]
  },
  {
   "cell_type": "markdown",
   "metadata": {},
   "source": [
    "## Library linking\n",
    "\n",
    "If I use your code just as a library, without modifying it or including it directly in my own code, \n",
    "does the copyleft term of the GPL apply?\n",
    "\n",
    "*Yes*\n",
    "\n",
    "If you don't want it to, use the LGPL. (\"Lesser GPL\"). This has an exception for linking libraries."
   ]
  },
  {
   "cell_type": "markdown",
   "metadata": {},
   "source": [
    "## Referencing the license in every file\n",
    "\n",
    "Some licenses require that you include license information in every file.\n",
    "Others do not. \n",
    "\n",
    "Typically, every file should contain something like:"
   ]
  },
  {
   "cell_type": "code",
   "execution_count": 1,
   "metadata": {
    "collapsed": true
   },
   "outputs": [],
   "source": [
    "# (C) The Alan Turing Institute 2010-2020\n",
    "# This software is licensed under the terms of the <foo license>\n",
    "# See <somewhere> for the license details."
   ]
  },
  {
   "cell_type": "markdown",
   "metadata": {},
   "source": [
    "Check your license at\n",
    "[opensource.org](http://opensource.org/) for details of how to apply it to your software. For example, for the [GPL](http://opensource.org/licenses/GPL-3.0#howto)"
   ]
  },
  {
   "cell_type": "markdown",
   "metadata": {},
   "source": [
    "## Citing software\n",
    "\n",
    "Almost all software licenses require people to credit you for what they used (\"attribution\").\n",
    "\n",
    "In an academic context, it is useful to offer a statement as to how best to do this,\n",
    "citing *which paper to cite in all papers which use the software*.\n",
    "\n",
    "This is best done with a [CITATION](http://www.software.ac.uk/blog/2013-09-02-encouraging-citation-software-introducing-citation-files) file in your repository."
   ]
  },
  {
   "cell_type": "markdown",
   "metadata": {},
   "source": [
    "> To cite ggplot2 in publications, please use:\n",
    ">\n",
    ">  H. Wickham. ggplot2: elegant graphics for data analysis. Springer New York,\n",
    " 2009.\n",
    ">\n",
    "> A BibTeX entry for LaTeX users is\n",
    ">\n",
    "> @Book{,\n",
    "   author = {Hadley Wickham},\n",
    "   title = {ggplot2: elegant graphics for data analysis},\n",
    "   publisher = {Springer New York},\n",
    "   year = {2009},\n",
    "   isbn = {978-0-387-98140-6},\n",
    "   url = {http://had.co.nz/ggplot2/book},\n",
    " }"
   ]
  },
  {
   "cell_type": "markdown",
   "metadata": {},
   "source": [
    "## Publishing software\n",
    "\n",
    "If you'd like to make your software more easily citable, there are a few options for creating software papers and DOIs. These include:\n",
    "\n",
    "- Software journals such as [The Jounal of Open Source Software (JOSS)](https://joss.theoj.org/), which publishes software with a short paper/codebase description attached, \n",
    "- File hosting services like [Zenodo](https://zenodo.org/), which will generate a DOI you can use to link to a specific version of your code."
   ]
  },
  {
   "cell_type": "markdown",
   "metadata": {},
   "source": [
    "## Open source does not equal free maintenance\n",
    "\n",
    "One common misunderstanding of open source software is that you'll automatically get loads of contributors from around the internets.\n",
    "This is wrong. Most open source projects get no commits from anyone else.\n",
    "\n",
    "Open source does *not* guarantee your software will live on with people adding to it after you stop working on it.\n",
    "\n",
    "Learn more about these issues from the website of the [Software Sustainability Institute](http://software.ac.uk/resources/about)"
   ]
  },
  {
   "cell_type": "markdown",
   "metadata": {},
   "source": [
    "## Example\n",
    "\n",
    "This course is distributed under the [Creative Commons By Attribution license](https://creativecommons.org/licenses/by/3.0/), which means you can modify and reuse the materials, so long as you credit the original authors: [The Alan Turing Institute's Research Engineering Group](https://www.turing.ac.uk/research/research-engineering) and [UCL Research IT Services](http://www.ucl.ac.uk/research-it-services/homepage)."
   ]
  }
 ],
 "metadata": {
  "jekyll": {
   "display_name": "Licensing"
  },
  "kernelspec": {
   "display_name": "Python 3 (ipykernel)",
   "language": "python",
   "name": "python3"
  },
  "language_info": {
   "codemirror_mode": {
    "name": "ipython",
    "version": 3
   },
   "file_extension": ".py",
   "mimetype": "text/x-python",
   "name": "python",
   "nbconvert_exporter": "python",
   "pygments_lexer": "ipython3",
   "version": "3.8.17"
  }
 },
 "nbformat": 4,
 "nbformat_minor": 1
}