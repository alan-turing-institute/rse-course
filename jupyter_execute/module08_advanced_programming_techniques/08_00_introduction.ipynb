{
 "cells": [
  {
   "cell_type": "markdown",
   "metadata": {},
   "source": [
    "# Advanced Python Programming"
   ]
  },
  {
   "cell_type": "markdown",
   "metadata": {},
   "source": [
    "... or, how to avoid repeating yourself."
   ]
  },
  {
   "cell_type": "markdown",
   "metadata": {},
   "source": [
    "## Avoid Boiler-Plate"
   ]
  },
  {
   "cell_type": "markdown",
   "metadata": {},
   "source": [
    "Code can often be annoyingly full of \"boiler-plate\" code: characters you don't really want to have to type.\n",
    "\n",
    "Not only is this tedious, it's also time-consuming and dangerous: unnecessary code is an unnecessary potential place for mistakes.\n",
    "\n",
    "There are two important phrases in software design that we've spoken of before in this context:\n",
    "\n",
    "> Once And Only Once\n",
    ">\n",
    "> Don't Repeat Yourself (DRY)\n",
    "\n",
    "All concepts, ideas, or instructions should be in the program in just one place.\n",
    "Every line in the program should say something useful and important.\n",
    "\n",
    "We refer to code that respects this principle as DRY code.\n",
    "\n",
    "In this chapter, we'll look at some techniques that can enable us to refactor away repetitive code.\n",
    "\n",
    "Since in many of these places, the techniques will involve working with\n",
    "functions as if they were variables, we'll learn some **functional**\n",
    "programming. We'll also learn more about the innards of how Python implements\n",
    "classes.\n",
    "\n",
    "We'll also think about how to write programs that *generate* the more verbose, repetitive program we could otherwise write.\n",
    "We call this **metaprogramming**.\n"
   ]
  }
 ],
 "metadata": {
  "jekyll": {
   "display_name": "Don't Repeat Yourself"
  },
  "kernelspec": {
   "display_name": "Python 3 (ipykernel)",
   "language": "python",
   "name": "python3"
  },
  "language_info": {
   "codemirror_mode": {
    "name": "ipython",
    "version": 3
   },
   "file_extension": ".py",
   "mimetype": "text/x-python",
   "name": "python",
   "nbconvert_exporter": "python",
   "pygments_lexer": "ipython3",
   "version": "3.8.14"
  }
 },
 "nbformat": 4,
 "nbformat_minor": 2
}