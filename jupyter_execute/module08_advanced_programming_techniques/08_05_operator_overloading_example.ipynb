{
 "cells": [
  {
   "cell_type": "markdown",
   "metadata": {},
   "source": [
    "# Operator overloading"
   ]
  },
  {
   "cell_type": "markdown",
   "metadata": {},
   "source": [
    "⚠️**Warning: Advanced Topic!** ⚠️"
   ]
  },
  {
   "cell_type": "markdown",
   "metadata": {},
   "source": [
    "## Setup for this notebook"
   ]
  },
  {
   "cell_type": "markdown",
   "metadata": {},
   "source": [
    "We need to use a metaprogramming trick to make this teaching notebook work.\n",
    "I want to be able to put explanatory text in between parts of a class definition,\n",
    "so I'll define a decorator to help me build up a class definition gradually."
   ]
  },
  {
   "cell_type": "code",
   "execution_count": 1,
   "metadata": {},
   "outputs": [],
   "source": [
    "def extend(class_to_extend):\n",
    "    \"\"\"\n",
    "    Metaprogramming to allow gradual implementation of class during notebook.\n",
    "    Thanks to http://www.ianbicking.org/blog/2007/08/opening-python-classes.html\n",
    "    \"\"\"\n",
    "\n",
    "    def decorator(extending_class):\n",
    "        for name, value in extending_class.__dict__.items():\n",
    "            if name in [\"__dict__\", \"__module__\", \"__weakref__\", \"__doc__\"]:\n",
    "                continue\n",
    "            setattr(class_to_extend, name, value)\n",
    "        return class_to_extend\n",
    "\n",
    "    return decorator"
   ]
  },
  {
   "cell_type": "markdown",
   "metadata": {},
   "source": [
    "## Operator overloading"
   ]
  },
  {
   "cell_type": "markdown",
   "metadata": {},
   "source": [
    "\n",
    "\n",
    "\n",
    "\n",
    "Imagine we wanted to make a library to describe some kind of symbolic algebra system:\n",
    "\n",
    "\n"
   ]
  },
  {
   "cell_type": "code",
   "execution_count": 2,
   "metadata": {},
   "outputs": [],
   "source": [
    "class Term:\n",
    "    def __init__(self, symbols=[], powers=[], coefficient=1):\n",
    "        self.coefficient = coefficient\n",
    "        self.data = {symbol: exponent for symbol, exponent in zip(symbols, powers)}"
   ]
  },
  {
   "cell_type": "code",
   "execution_count": 3,
   "metadata": {},
   "outputs": [],
   "source": [
    "class Expression:\n",
    "    def __init__(self, terms):\n",
    "        self.terms = terms"
   ]
  },
  {
   "cell_type": "markdown",
   "metadata": {},
   "source": [
    "\n",
    "\n",
    "\n",
    "So that $5x^2y+7x+2$ might be constructed as:\n",
    "\n",
    "\n"
   ]
  },
  {
   "cell_type": "code",
   "execution_count": 4,
   "metadata": {},
   "outputs": [],
   "source": [
    "first = Term([\"x\", \"y\"], [2, 1], 5)\n",
    "\n",
    "second = Term([\"x\"], [1], 7)\n",
    "\n",
    "third = Term([], [], 2)\n",
    "\n",
    "result = Expression([first, second, third])"
   ]
  },
  {
   "cell_type": "markdown",
   "metadata": {},
   "source": [
    "\n",
    "\n",
    "\n",
    "This is pretty cumbersome.\n",
    "\n",
    "What we'd really like is to have `2x+y` give an appropriate expression.\n",
    "\n",
    "First, we'll define things so that we can construct our terms and expressions in different ways.\n",
    "\n",
    "\n"
   ]
  },
  {
   "cell_type": "code",
   "execution_count": 5,
   "metadata": {},
   "outputs": [],
   "source": [
    "class Term:\n",
    "    def __init__(self, *args):\n",
    "        lead = args[0]\n",
    "        if type(lead) == type(self):\n",
    "            # Copy constructor\n",
    "            self.data = dict(lead.data)\n",
    "            self.coefficient = lead.coefficient\n",
    "        elif type(lead) == int:\n",
    "            self.from_constant(lead)\n",
    "        elif type(lead) == str:\n",
    "            self.from_symbol(*args)\n",
    "        elif type(lead) == dict:\n",
    "            self.from_dictionary(*args)\n",
    "        else:\n",
    "            self.from_lists(*args)\n",
    "\n",
    "    def from_constant(self, constant):\n",
    "        self.coefficient = constant\n",
    "        self.data = {}\n",
    "\n",
    "    def from_symbol(self, symbol, coefficient=1, power=1):\n",
    "        self.coefficient = coefficient\n",
    "        self.data = {symbol: power}\n",
    "\n",
    "    def from_dictionary(self, data, coefficient=1):\n",
    "        self.data = data\n",
    "        self.coefficient = coefficient\n",
    "\n",
    "    def from_lists(self, symbols=[], powers=[], coefficient=1):\n",
    "        self.coefficient = coefficient\n",
    "        self.data = {symbol: exponent for symbol, exponent in zip(symbols, powers)}"
   ]
  },
  {
   "cell_type": "code",
   "execution_count": 6,
   "metadata": {},
   "outputs": [],
   "source": [
    "class Expression:\n",
    "    def __init__(self, terms=[]):\n",
    "        self.terms = list(terms)"
   ]
  },
  {
   "cell_type": "markdown",
   "metadata": {},
   "source": [
    "\n",
    "\n",
    "\n",
    "We could define add() and multiply() operations on expressions and terms:\n",
    "\n",
    "\n"
   ]
  },
  {
   "cell_type": "code",
   "execution_count": 7,
   "metadata": {},
   "outputs": [],
   "source": [
    "@extend(Term)\n",
    "class Term:\n",
    "    def add(self, *others):\n",
    "        return Expression((self,) + others)"
   ]
  },
  {
   "cell_type": "code",
   "execution_count": 8,
   "metadata": {},
   "outputs": [],
   "source": [
    "@extend(Term)\n",
    "class Term:\n",
    "    def multiply(self, *others):\n",
    "        result_data = dict(self.data)\n",
    "        result_coeff = self.coefficient\n",
    "        # Convert arguments to Terms first if they are\n",
    "        # constants or integers\n",
    "        others = map(Term, others)\n",
    "\n",
    "        for another in others:\n",
    "            for symbol, exponent in another.data.items():\n",
    "                if symbol in result_data:\n",
    "                    result_data[symbol] += another.data[symbol]\n",
    "                else:\n",
    "                    result_data[symbol] = another.data[symbol]\n",
    "            result_coeff *= another.coefficient\n",
    "\n",
    "        return Term(result_data, result_coeff)"
   ]
  },
  {
   "cell_type": "code",
   "execution_count": 9,
   "metadata": {},
   "outputs": [],
   "source": [
    "@extend(Expression)\n",
    "class Expression:\n",
    "    def add(self, *others):\n",
    "        result = Expression(self.terms)\n",
    "\n",
    "        for another in others:\n",
    "            if type(another) == Term:\n",
    "                result.terms.append(another)\n",
    "            else:\n",
    "                result.terms += another.terms\n",
    "\n",
    "        return result"
   ]
  },
  {
   "cell_type": "markdown",
   "metadata": {},
   "source": [
    "\n",
    "\n",
    "\n",
    "We can now construct the above expression as:\n",
    "\n",
    "\n"
   ]
  },
  {
   "cell_type": "code",
   "execution_count": 10,
   "metadata": {},
   "outputs": [],
   "source": [
    "x = Term(\"x\")\n",
    "y = Term(\"y\")\n",
    "\n",
    "first = Term(5).multiply(Term(\"x\"), Term(\"x\"), Term(\"y\"))\n",
    "second = Term(7).multiply(Term(\"x\"))\n",
    "third = Term(2)\n",
    "expr = first.add(second, third)"
   ]
  },
  {
   "cell_type": "markdown",
   "metadata": {},
   "source": [
    "\n",
    "\n",
    "\n",
    "This is better, but we still can't write the expression in a 'natural' way.\n",
    "\n",
    "However, we can define what `*` and `+` do when applied to Terms!:\n",
    "\n",
    "\n"
   ]
  },
  {
   "cell_type": "code",
   "execution_count": 11,
   "metadata": {},
   "outputs": [],
   "source": [
    "@extend(Term)\n",
    "class Term:\n",
    "    def __add__(self, other):\n",
    "        return self.add(other)\n",
    "\n",
    "    def __mul__(self, other):\n",
    "        return self.multiply(other)"
   ]
  },
  {
   "cell_type": "code",
   "execution_count": 12,
   "metadata": {},
   "outputs": [],
   "source": [
    "@extend(Expression)\n",
    "class Expression:\n",
    "    def multiply(self, another):\n",
    "        # Distributive law left as exercise\n",
    "        pass\n",
    "\n",
    "    def __add__(self, other):\n",
    "        return self.add(other)"
   ]
  },
  {
   "cell_type": "code",
   "execution_count": 13,
   "metadata": {},
   "outputs": [
    {
     "data": {
      "text/plain": [
       "'y'"
      ]
     },
     "execution_count": 13,
     "metadata": {},
     "output_type": "execute_result"
    }
   ],
   "source": [
    "x_plus_y = Term(\"x\") + \"y\"\n",
    "x_plus_y.terms[1]"
   ]
  },
  {
   "cell_type": "code",
   "execution_count": 14,
   "metadata": {},
   "outputs": [
    {
     "name": "stdout",
     "output_type": "stream",
     "text": [
      "{'x': 1, 'y': 2} 5\n"
     ]
    }
   ],
   "source": [
    "five_x_ysq = Term(\"x\") * 5 * \"y\" * \"y\"\n",
    "\n",
    "print(five_x_ysq.data, five_x_ysq.coefficient)"
   ]
  },
  {
   "cell_type": "markdown",
   "metadata": {},
   "source": [
    "\n",
    "\n",
    "\n",
    "This is called operator overloading. We can define what add and multiply mean when applied to our class.\n",
    "\n",
    "Note that this only works so far if we multiply on the right-hand-side!\n",
    "However, we can define a multiplication that works backwards, which is used as a fallback if the left multiply raises an error:\n",
    "\n",
    "\n"
   ]
  },
  {
   "cell_type": "code",
   "execution_count": 15,
   "metadata": {},
   "outputs": [],
   "source": [
    "@extend(Expression)\n",
    "class Expression:\n",
    "    def __radd__(self, other):\n",
    "        return self.__add__(other)"
   ]
  },
  {
   "cell_type": "markdown",
   "metadata": {},
   "source": [
    "\n",
    "\n",
    "\n"
   ]
  },
  {
   "cell_type": "code",
   "execution_count": 16,
   "metadata": {},
   "outputs": [],
   "source": [
    "@extend(Term)\n",
    "class Term:\n",
    "    def __rmul__(self, other):\n",
    "        return self.__mul__(other)\n",
    "\n",
    "    def __radd__(self, other):\n",
    "        return self.__add__(other)"
   ]
  },
  {
   "cell_type": "markdown",
   "metadata": {},
   "source": [
    "\n",
    "\n",
    "\n",
    "\n",
    "\n"
   ]
  },
  {
   "cell_type": "code",
   "execution_count": 17,
   "metadata": {},
   "outputs": [
    {
     "data": {
      "text/plain": [
       "<__main__.Term at 0x7f61e0c6e7c0>"
      ]
     },
     "execution_count": 17,
     "metadata": {},
     "output_type": "execute_result"
    }
   ],
   "source": [
    "5 * Term(\"x\")"
   ]
  },
  {
   "cell_type": "markdown",
   "metadata": {},
   "source": [
    "\n",
    "\n",
    "\n",
    "It's not easy at the moment to see if these things are working!\n",
    "\n",
    "\n"
   ]
  },
  {
   "cell_type": "code",
   "execution_count": 18,
   "metadata": {},
   "outputs": [
    {
     "data": {
      "text/plain": [
       "({'x': 1}, 5)"
      ]
     },
     "execution_count": 18,
     "metadata": {},
     "output_type": "execute_result"
    }
   ],
   "source": [
    "fivex = 5 * Term(\"x\")\n",
    "fivex.data, fivex.coefficient"
   ]
  },
  {
   "cell_type": "markdown",
   "metadata": {},
   "source": [
    "\n",
    "\n",
    "\n",
    "We can add another operator method `__str__`, which defines what happens if we try to print our class:\n",
    "\n",
    "\n"
   ]
  },
  {
   "cell_type": "code",
   "execution_count": 19,
   "metadata": {},
   "outputs": [],
   "source": [
    "@extend(Term)\n",
    "class Term:\n",
    "    def __str__(self):\n",
    "        def symbol_string(symbol, power):\n",
    "            if power == 1:\n",
    "                return symbol\n",
    "            else:\n",
    "                return f\"{symbol}^{power}\"\n",
    "\n",
    "        symbol_strings = [\n",
    "            symbol_string(symbol, power) for symbol, power in self.data.items()\n",
    "        ]\n",
    "\n",
    "        prod = \"*\".join(symbol_strings)\n",
    "\n",
    "        if not prod:\n",
    "            return str(self.coefficient)\n",
    "        if self.coefficient == 1:\n",
    "            return prod\n",
    "        else:\n",
    "            return f\"{self.coefficient}*{prod}\""
   ]
  },
  {
   "cell_type": "code",
   "execution_count": 20,
   "metadata": {},
   "outputs": [],
   "source": [
    "@extend(Expression)\n",
    "class Expression:\n",
    "    def __str__(self):\n",
    "        return \"+\".join(map(str, self.terms))"
   ]
  },
  {
   "cell_type": "markdown",
   "metadata": {},
   "source": [
    "\n",
    "\n",
    "\n"
   ]
  },
  {
   "cell_type": "code",
   "execution_count": 21,
   "metadata": {},
   "outputs": [],
   "source": [
    "first = Term(5) * \"x\" * \"x\" * \"y\"\n",
    "second = Term(7) * \"x\"\n",
    "third = Term(2)\n",
    "expr = first + second + third"
   ]
  },
  {
   "cell_type": "code",
   "execution_count": 22,
   "metadata": {},
   "outputs": [
    {
     "name": "stdout",
     "output_type": "stream",
     "text": [
      "5*x^2*y+7*x+2\n"
     ]
    }
   ],
   "source": [
    "print(expr)"
   ]
  }
 ],
 "metadata": {
  "jekyll": {
   "display_name": "Operator Overloading (example)"
  },
  "kernelspec": {
   "display_name": "Python 3 (ipykernel)",
   "language": "python",
   "name": "python3"
  },
  "language_info": {
   "codemirror_mode": {
    "name": "ipython",
    "version": 3
   },
   "file_extension": ".py",
   "mimetype": "text/x-python",
   "name": "python",
   "nbconvert_exporter": "python",
   "pygments_lexer": "ipython3",
   "version": "3.8.13"
  }
 },
 "nbformat": 4,
 "nbformat_minor": 1
}