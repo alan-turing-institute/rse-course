{
 "cells": [
  {
   "cell_type": "markdown",
   "metadata": {},
   "source": [
    "# 8.2 Iterators and Generators"
   ]
  },
  {
   "cell_type": "markdown",
   "metadata": {},
   "source": [
    "*Estimated time for this notebook: 25 minutes*"
   ]
  },
  {
   "cell_type": "markdown",
   "metadata": {},
   "source": [
    "In Python, anything which can be iterated over is called an iterable:"
   ]
  },
  {
   "cell_type": "code",
   "execution_count": 1,
   "metadata": {},
   "outputs": [
    {
     "name": "stdout",
     "output_type": "stream",
     "text": [
      "APPLE\n",
      "BANANA\n",
      "ORANGE\n"
     ]
    }
   ],
   "source": [
    "bowl = {\"apple\": 5, \"banana\": 3, \"orange\": 7}\n",
    "\n",
    "for fruit in bowl:\n",
    "    print(fruit.upper())"
   ]
  },
  {
   "cell_type": "markdown",
   "metadata": {},
   "source": [
    "Surprisingly often, we want to iterate over something that takes a moderately\n",
    "large amount of memory to store - for example, our map images in the\n",
    "green-graph example.\n",
    "\n",
    "Our green-graph example involved making an array of all the maps between London\n",
    "and Birmingham. This kept them all in memory *at the same time*: first we\n",
    "downloaded all the maps, then we counted the green pixels in each of them. \n",
    "\n",
    "This would NOT work if we used more points: eventually, we would run out of memory.\n",
    "We need to use a **generator** instead. This chapter will look at iterators and generators in more detail:\n",
    "how they work, when to use them, how to create our own."
   ]
  },
  {
   "cell_type": "markdown",
   "metadata": {},
   "source": [
    "## Iterators"
   ]
  },
  {
   "cell_type": "markdown",
   "metadata": {},
   "source": [
    "Consider the basic python `range` function:"
   ]
  },
  {
   "cell_type": "code",
   "execution_count": 2,
   "metadata": {},
   "outputs": [
    {
     "data": {
      "text/plain": [
       "range(0, 10)"
      ]
     },
     "execution_count": 2,
     "metadata": {},
     "output_type": "execute_result"
    }
   ],
   "source": [
    "range(10)"
   ]
  },
  {
   "cell_type": "code",
   "execution_count": 3,
   "metadata": {},
   "outputs": [
    {
     "data": {
      "text/plain": [
       "499999500000"
      ]
     },
     "execution_count": 3,
     "metadata": {},
     "output_type": "execute_result"
    }
   ],
   "source": [
    "total = 0\n",
    "for x in range(int(1e6)):\n",
    "    total += x\n",
    "\n",
    "total"
   ]
  },
  {
   "cell_type": "markdown",
   "metadata": {},
   "source": [
    "In order to avoid allocating a million integers, `range` actually uses an **iterator**.\n",
    "\n",
    "We don't actually need a million integers *at once*, just each\n",
    "integer *in turn* up to a million.\n",
    "\n",
    "Because we can get an iterator from it, we say that a range is an **iterable**."
   ]
  },
  {
   "cell_type": "markdown",
   "metadata": {},
   "source": [
    "So we can `for`-loop over it:"
   ]
  },
  {
   "cell_type": "code",
   "execution_count": 4,
   "metadata": {},
   "outputs": [
    {
     "name": "stdout",
     "output_type": "stream",
     "text": [
      "0\n",
      "1\n",
      "2\n"
     ]
    }
   ],
   "source": [
    "for i in range(3):\n",
    "    print(i)"
   ]
  },
  {
   "cell_type": "markdown",
   "metadata": {},
   "source": [
    "There are two important Python built-in functions for working with iterables.\n",
    "First is `iter`, which lets us create an iterator from any iterable object."
   ]
  },
  {
   "cell_type": "code",
   "execution_count": 5,
   "metadata": {},
   "outputs": [],
   "source": [
    "a = iter(range(3))"
   ]
  },
  {
   "cell_type": "markdown",
   "metadata": {},
   "source": [
    "Once we have an iterator object, we can pass it to the `next` function. This\n",
    "moves the iterator forward, and gives us its next element:"
   ]
  },
  {
   "cell_type": "code",
   "execution_count": 6,
   "metadata": {},
   "outputs": [
    {
     "data": {
      "text/plain": [
       "0"
      ]
     },
     "execution_count": 6,
     "metadata": {},
     "output_type": "execute_result"
    }
   ],
   "source": [
    "next(a)"
   ]
  },
  {
   "cell_type": "code",
   "execution_count": 7,
   "metadata": {},
   "outputs": [
    {
     "data": {
      "text/plain": [
       "1"
      ]
     },
     "execution_count": 7,
     "metadata": {},
     "output_type": "execute_result"
    }
   ],
   "source": [
    "next(a)"
   ]
  },
  {
   "cell_type": "code",
   "execution_count": 8,
   "metadata": {},
   "outputs": [
    {
     "data": {
      "text/plain": [
       "2"
      ]
     },
     "execution_count": 8,
     "metadata": {},
     "output_type": "execute_result"
    }
   ],
   "source": [
    "next(a)"
   ]
  },
  {
   "cell_type": "markdown",
   "metadata": {},
   "source": [
    "When we are out of elements, a `StopIteration` exception is raised:"
   ]
  },
  {
   "cell_type": "code",
   "execution_count": 9,
   "metadata": {
    "tags": [
     "raises-exception"
    ]
   },
   "outputs": [
    {
     "ename": "StopIteration",
     "evalue": "",
     "output_type": "error",
     "traceback": [
      "\u001b[0;31m---------------------------------------------------------------------------\u001b[0m",
      "\u001b[0;31mStopIteration\u001b[0m                             Traceback (most recent call last)",
      "Cell \u001b[0;32mIn [9], line 1\u001b[0m\n\u001b[0;32m----> 1\u001b[0m \u001b[38;5;28;43mnext\u001b[39;49m\u001b[43m(\u001b[49m\u001b[43ma\u001b[49m\u001b[43m)\u001b[49m\n",
      "\u001b[0;31mStopIteration\u001b[0m: "
     ]
    }
   ],
   "source": [
    "next(a)"
   ]
  },
  {
   "cell_type": "markdown",
   "metadata": {},
   "source": [
    "This tells Python that the iteration is over. For example, if we are in a `for i in range(3)` loop, this lets us know when we should exit the loop."
   ]
  },
  {
   "cell_type": "markdown",
   "metadata": {},
   "source": [
    "We can turn an iterable or iterator into a list with the `list` constructor function:"
   ]
  },
  {
   "cell_type": "code",
   "execution_count": 10,
   "metadata": {},
   "outputs": [
    {
     "data": {
      "text/plain": [
       "[0, 1, 2, 3, 4]"
      ]
     },
     "execution_count": 10,
     "metadata": {},
     "output_type": "execute_result"
    }
   ],
   "source": [
    "list(range(5))"
   ]
  },
  {
   "cell_type": "markdown",
   "metadata": {},
   "source": [
    "## Defining Our Own Iterable"
   ]
  },
  {
   "cell_type": "markdown",
   "metadata": {},
   "source": [
    "When we write `next(a)`, under the hood Python tries to call the `__next__()` method of `a`. Similarly, `iter(a)` calls `a.__iter__()`.\n",
    "\n",
    "We can make our own iterators by defining *classes* that can be used with the `next()` and `iter()` functions: this is the **iterator protocol**.\n",
    "\n",
    "For each of the *concepts* in Python, like sequence, container, iterable, the language defines a *protocol*, a set of methods a class must implement, in order to be treated as a member of that concept.\n",
    "\n",
    "To define an iterator, the methods that must be supported are `__next__()` and `__iter__()`.\n",
    "\n",
    "`__next__()` must update the iterator.\n",
    "\n",
    "We'll see why we need to define `__iter__` in a moment."
   ]
  },
  {
   "cell_type": "markdown",
   "metadata": {},
   "source": [
    "Here is an example of defining a custom iterator class:"
   ]
  },
  {
   "cell_type": "code",
   "execution_count": 11,
   "metadata": {},
   "outputs": [],
   "source": [
    "class fib_iterator:\n",
    "    \"\"\"An iterator over part of the Fibonacci sequence.\"\"\"\n",
    "\n",
    "    def __init__(self, limit, seed1=1, seed2=1):\n",
    "        self.limit = limit\n",
    "        self.previous = seed1\n",
    "        self.current = seed2\n",
    "\n",
    "    def __iter__(self):\n",
    "        return self\n",
    "\n",
    "    def __next__(self):\n",
    "        (self.previous, self.current) = (self.current, self.previous + self.current)\n",
    "        self.limit -= 1\n",
    "        if self.limit < 0:\n",
    "            raise StopIteration()\n",
    "        return self.current"
   ]
  },
  {
   "cell_type": "code",
   "execution_count": 12,
   "metadata": {},
   "outputs": [],
   "source": [
    "x = fib_iterator(5)"
   ]
  },
  {
   "cell_type": "code",
   "execution_count": 13,
   "metadata": {},
   "outputs": [
    {
     "data": {
      "text/plain": [
       "2"
      ]
     },
     "execution_count": 13,
     "metadata": {},
     "output_type": "execute_result"
    }
   ],
   "source": [
    "next(x)"
   ]
  },
  {
   "cell_type": "code",
   "execution_count": 14,
   "metadata": {},
   "outputs": [
    {
     "data": {
      "text/plain": [
       "3"
      ]
     },
     "execution_count": 14,
     "metadata": {},
     "output_type": "execute_result"
    }
   ],
   "source": [
    "next(x)"
   ]
  },
  {
   "cell_type": "code",
   "execution_count": 15,
   "metadata": {},
   "outputs": [
    {
     "data": {
      "text/plain": [
       "5"
      ]
     },
     "execution_count": 15,
     "metadata": {},
     "output_type": "execute_result"
    }
   ],
   "source": [
    "next(x)"
   ]
  },
  {
   "cell_type": "code",
   "execution_count": 16,
   "metadata": {},
   "outputs": [
    {
     "data": {
      "text/plain": [
       "8"
      ]
     },
     "execution_count": 16,
     "metadata": {},
     "output_type": "execute_result"
    }
   ],
   "source": [
    "next(x)"
   ]
  },
  {
   "cell_type": "code",
   "execution_count": 17,
   "metadata": {},
   "outputs": [
    {
     "name": "stdout",
     "output_type": "stream",
     "text": [
      "2\n",
      "3\n",
      "5\n",
      "8\n",
      "13\n"
     ]
    }
   ],
   "source": [
    "for x in fib_iterator(5):\n",
    "    print(x)"
   ]
  },
  {
   "cell_type": "code",
   "execution_count": 18,
   "metadata": {},
   "outputs": [
    {
     "data": {
      "text/plain": [
       "297924218508143360336882819981631900915673130543819759032778173440536722190488904520034508163846345539055096533885943242814978469042830417586260359446115245634668393210192357419233828310479227982326069668668250"
      ]
     },
     "execution_count": 18,
     "metadata": {},
     "output_type": "execute_result"
    }
   ],
   "source": [
    "sum(fib_iterator(1000))"
   ]
  },
  {
   "cell_type": "markdown",
   "metadata": {},
   "source": [
    "## A shortcut to iterables: the `__iter__` method"
   ]
  },
  {
   "cell_type": "markdown",
   "metadata": {},
   "source": [
    "In fact,  we don't always have to define both `__iter__` and `__next__`!\n",
    "\n",
    "If, to be iterated over, a class just wants to behave as if it were some other iterable, you can just implement `__iter__` and return `iter(some_other_iterable)`, without implementing `next`.  For example, an image class might want to implement some metadata, but behave just as if it were just a 1-d pixel array when being iterated:"
   ]
  },
  {
   "cell_type": "code",
   "execution_count": 19,
   "metadata": {},
   "outputs": [],
   "source": [
    "from matplotlib import pyplot as plt\n",
    "from numpy import array\n",
    "\n",
    "\n",
    "class MyImage:\n",
    "    def __init__(self, pixels):\n",
    "        self.pixels = array(pixels, dtype=\"uint8\")\n",
    "        self.channels = self.pixels.shape[2]\n",
    "\n",
    "    def __iter__(self):\n",
    "        # return an iterator over just the pixel values\n",
    "        return iter(self.pixels.reshape(-1, self.channels))\n",
    "\n",
    "    def show(self):\n",
    "        plt.imshow(self.pixels, interpolation=\"None\")\n",
    "\n",
    "\n",
    "x = [[[255, 255, 0], [0, 255, 0]], [[0, 0, 255], [255, 255, 255]]]\n",
    "image = MyImage(x)"
   ]
  },
  {
   "cell_type": "code",
   "execution_count": 20,
   "metadata": {},
   "outputs": [
    {
     "data": {
      "image/png": "[encoded data removed]",
      "text/plain": [
       "<Figure size 640x480 with 1 Axes>"
      ]
     },
     "metadata": {
      "filenames": {
       "image/png": "/home/runner/work/rse-course/rse-course/_build/jupyter_execute/module08_advanced_programming_techniques/08_02_iterators_and_generators_37_0.png"
      }
     },
     "output_type": "display_data"
    }
   ],
   "source": [
    "%matplotlib inline\n",
    "image.show()"
   ]
  },
  {
   "cell_type": "code",
   "execution_count": 21,
   "metadata": {},
   "outputs": [
    {
     "data": {
      "text/plain": [
       "3"
      ]
     },
     "execution_count": 21,
     "metadata": {},
     "output_type": "execute_result"
    }
   ],
   "source": [
    "image.channels"
   ]
  },
  {
   "cell_type": "code",
   "execution_count": 22,
   "metadata": {},
   "outputs": [
    {
     "name": "stdout",
     "output_type": "stream",
     "text": [
      "yellow\n",
      "lime\n",
      "blue\n",
      "white\n"
     ]
    }
   ],
   "source": [
    "from webcolors import rgb_to_name\n",
    "\n",
    "for pixel in image:\n",
    "    print(rgb_to_name(pixel))"
   ]
  },
  {
   "cell_type": "markdown",
   "metadata": {},
   "source": [
    "See how we used `image` in a `for` loop, even though it doesn't satisfy the iterator protocol (we didn't define both `__iter__` and `__next__` for it)?\n",
    "\n",
    "The key here is that we can use any *iterable* object (like `image`) in a `for` expression,\n",
    "not just iterators! Internally, Python will create an iterator from the iterable (by calling its `__iter__` method), but this means we don't need to define a `__next__` method explicitly."
   ]
  },
  {
   "cell_type": "markdown",
   "metadata": {},
   "source": [
    "The *iterator* protocol is to implement both `__iter__` and\n",
    "`__next__`, while the *iterable* protocol is to implement `__iter__` and return\n",
    "an iterator."
   ]
  },
  {
   "cell_type": "markdown",
   "metadata": {},
   "source": [
    "## Generators"
   ]
  },
  {
   "cell_type": "markdown",
   "metadata": {},
   "source": [
    "There's a fair amount of \"boiler-plate\" in the above class-based definition of\n",
    "an iterable.\n",
    "\n",
    "Python provides another way to specify something\n",
    "which meets the iterator protocol: **generators**."
   ]
  },
  {
   "cell_type": "code",
   "execution_count": 23,
   "metadata": {},
   "outputs": [],
   "source": [
    "def my_generator():\n",
    "    yield 5\n",
    "    yield 10\n",
    "\n",
    "\n",
    "x = my_generator()"
   ]
  },
  {
   "cell_type": "code",
   "execution_count": 24,
   "metadata": {},
   "outputs": [
    {
     "data": {
      "text/plain": [
       "5"
      ]
     },
     "execution_count": 24,
     "metadata": {},
     "output_type": "execute_result"
    }
   ],
   "source": [
    "next(x)"
   ]
  },
  {
   "cell_type": "code",
   "execution_count": 25,
   "metadata": {},
   "outputs": [
    {
     "data": {
      "text/plain": [
       "10"
      ]
     },
     "execution_count": 25,
     "metadata": {},
     "output_type": "execute_result"
    }
   ],
   "source": [
    "next(x)"
   ]
  },
  {
   "cell_type": "code",
   "execution_count": 26,
   "metadata": {
    "tags": [
     "raises-exception"
    ]
   },
   "outputs": [
    {
     "ename": "StopIteration",
     "evalue": "",
     "output_type": "error",
     "traceback": [
      "\u001b[0;31m---------------------------------------------------------------------------\u001b[0m",
      "\u001b[0;31mStopIteration\u001b[0m                             Traceback (most recent call last)",
      "Cell \u001b[0;32mIn [26], line 1\u001b[0m\n\u001b[0;32m----> 1\u001b[0m \u001b[38;5;28;43mnext\u001b[39;49m\u001b[43m(\u001b[49m\u001b[43mx\u001b[49m\u001b[43m)\u001b[49m\n",
      "\u001b[0;31mStopIteration\u001b[0m: "
     ]
    }
   ],
   "source": [
    "next(x)"
   ]
  },
  {
   "cell_type": "code",
   "execution_count": 27,
   "metadata": {},
   "outputs": [
    {
     "name": "stdout",
     "output_type": "stream",
     "text": [
      "5\n",
      "10\n"
     ]
    }
   ],
   "source": [
    "for a in my_generator():\n",
    "    print(a)"
   ]
  },
  {
   "cell_type": "code",
   "execution_count": 28,
   "metadata": {},
   "outputs": [
    {
     "data": {
      "text/plain": [
       "15"
      ]
     },
     "execution_count": 28,
     "metadata": {},
     "output_type": "execute_result"
    }
   ],
   "source": [
    "sum(my_generator())"
   ]
  },
  {
   "cell_type": "markdown",
   "metadata": {},
   "source": [
    "A function which has `yield` statements instead of a `return` statement returns\n",
    "**temporarily**: it automagically becomes something which implements `__next__`."
   ]
  },
  {
   "cell_type": "markdown",
   "metadata": {},
   "source": [
    "Each call of `next()` returns control to the function where it\n",
    "left off."
   ]
  },
  {
   "cell_type": "markdown",
   "metadata": {},
   "source": [
    " Control passes back-and-forth between the generator and the caller.\n",
    "Our Fibonacci example therefore becomes a function rather than a class."
   ]
  },
  {
   "cell_type": "code",
   "execution_count": 29,
   "metadata": {},
   "outputs": [],
   "source": [
    "def yield_fibs(limit, seed1=1, seed2=1):\n",
    "    current = seed1\n",
    "    previous = seed2\n",
    "\n",
    "    while limit > 0:\n",
    "        limit -= 1\n",
    "        current, previous = current + previous, current\n",
    "        yield current"
   ]
  },
  {
   "cell_type": "markdown",
   "metadata": {},
   "source": [
    "We can now use the output of the function like a normal iterable:"
   ]
  },
  {
   "cell_type": "code",
   "execution_count": 30,
   "metadata": {},
   "outputs": [
    {
     "data": {
      "text/plain": [
       "31"
      ]
     },
     "execution_count": 30,
     "metadata": {},
     "output_type": "execute_result"
    }
   ],
   "source": [
    "sum(yield_fibs(5))"
   ]
  },
  {
   "cell_type": "code",
   "execution_count": 31,
   "metadata": {},
   "outputs": [
    {
     "name": "stdout",
     "output_type": "stream",
     "text": [
      "2\n",
      "8\n",
      "34\n",
      "144\n"
     ]
    }
   ],
   "source": [
    "for a in yield_fibs(10):\n",
    "    if a % 2 == 0:\n",
    "        print(a)"
   ]
  },
  {
   "cell_type": "markdown",
   "metadata": {},
   "source": [
    "Sometimes we may need to gather all values from a generator into a list, such as before passing them to a function that expects a list:"
   ]
  },
  {
   "cell_type": "code",
   "execution_count": 32,
   "metadata": {},
   "outputs": [
    {
     "data": {
      "text/plain": [
       "[2, 3, 5, 8, 13, 21, 34, 55, 89, 144]"
      ]
     },
     "execution_count": 32,
     "metadata": {},
     "output_type": "execute_result"
    }
   ],
   "source": [
    "list(yield_fibs(10))"
   ]
  },
  {
   "cell_type": "code",
   "execution_count": 33,
   "metadata": {},
   "outputs": [
    {
     "data": {
      "text/plain": [
       "[<matplotlib.lines.Line2D at 0x7f733812f220>]"
      ]
     },
     "execution_count": 33,
     "metadata": {},
     "output_type": "execute_result"
    },
    {
     "data": {
      "image/png": "[encoded data removed]",
      "text/plain": [
       "<Figure size 640x480 with 1 Axes>"
      ]
     },
     "metadata": {
      "filenames": {
       "image/png": "/home/runner/work/rse-course/rse-course/_build/jupyter_execute/module08_advanced_programming_techniques/08_02_iterators_and_generators_59_1.png"
      }
     },
     "output_type": "display_data"
    }
   ],
   "source": [
    "plt.plot(list(yield_fibs(20)))"
   ]
  },
  {
   "cell_type": "markdown",
   "metadata": {},
   "source": [
    "# Related Concepts\n",
    "\n",
    "Iterables and generators can be used to achieve complex behaviour, especially when combined with functional programming. In fact, Python itself contains some very useful language features that make use of these practices: context managers and decorators. We have already seen these in this class, but here we discuss them in more detail."
   ]
  },
  {
   "cell_type": "markdown",
   "metadata": {},
   "source": [
    "## Context managers"
   ]
  },
  {
   "cell_type": "markdown",
   "metadata": {},
   "source": [
    "[We have seen before](../module02_intermediate_python/02_04_working_with_files.html#Closing-files) [[notebook](../module02_intermediate_python/02_04_working_with_files.ipynb#Closing-files)] that, instead of separately `open`ing and `close`ing a file, we can have\n",
    "the file be automatically closed using a context manager:"
   ]
  },
  {
   "cell_type": "code",
   "execution_count": 34,
   "metadata": {},
   "outputs": [
    {
     "name": "stdout",
     "output_type": "stream",
     "text": [
      "Overwriting example.yaml\n"
     ]
    }
   ],
   "source": [
    "%%writefile example.yaml\n",
    "modelname: brilliant"
   ]
  },
  {
   "cell_type": "code",
   "execution_count": 35,
   "metadata": {},
   "outputs": [
    {
     "name": "stdout",
     "output_type": "stream",
     "text": [
      "{'modelname': 'brilliant'}\n"
     ]
    }
   ],
   "source": [
    "import yaml\n",
    "\n",
    "with open(\"example.yaml\") as foo:\n",
    "    print(yaml.safe_load(foo))"
   ]
  },
  {
   "cell_type": "markdown",
   "metadata": {},
   "source": [
    "In addition to more convenient syntax, this takes care of any clean-up that has to be done after the file is closed, even if any errors occur while we are working on the file."
   ]
  },
  {
   "cell_type": "markdown",
   "metadata": {},
   "source": [
    "\n",
    "\n",
    "\n",
    "How could we define our own one of these, if we too have clean-up code we\n",
    "always want to run after a calling function has done its work, or set-up code\n",
    "we want to do first?\n",
    "\n",
    "We can define a class that meets an appropriate protocol:\n",
    "\n",
    "\n"
   ]
  },
  {
   "cell_type": "code",
   "execution_count": 36,
   "metadata": {},
   "outputs": [
    {
     "name": "stdout",
     "output_type": "stream",
     "text": [
      "Get ready,  Monty\n",
      "Doing it!\n",
      "OK, done\n"
     ]
    }
   ],
   "source": [
    "class verbose_context:\n",
    "    def __init__(self, name):\n",
    "        self.name = name\n",
    "\n",
    "    def __enter__(self):\n",
    "        print(\"Get ready, \", self.name)\n",
    "\n",
    "    def __exit__(self, exc_type, exc_value, traceback):\n",
    "        print(\"OK, done\")\n",
    "\n",
    "\n",
    "with verbose_context(\"Monty\"):\n",
    "    print(\"Doing it!\")"
   ]
  },
  {
   "cell_type": "markdown",
   "metadata": {},
   "source": [
    "\n",
    "\n",
    "However, this is pretty verbose! Again, a generator with `yield` makes for an easier syntax:\n",
    "\n",
    "\n"
   ]
  },
  {
   "cell_type": "code",
   "execution_count": 37,
   "metadata": {},
   "outputs": [
    {
     "name": "stdout",
     "output_type": "stream",
     "text": [
      "Get ready for action,  Monty\n",
      "Doing it, MONTY\n",
      "You did it\n"
     ]
    }
   ],
   "source": [
    "from contextlib import contextmanager\n",
    "\n",
    "\n",
    "@contextmanager\n",
    "def verbose_context(name):\n",
    "    print(\"Get ready for action, \", name)\n",
    "    yield name.upper()\n",
    "    print(\"You did it\")\n",
    "\n",
    "\n",
    "with verbose_context(\"Monty\") as shouty:\n",
    "    print(f\"Doing it, {shouty}\")"
   ]
  },
  {
   "cell_type": "markdown",
   "metadata": {},
   "source": [
    "\n",
    "\n",
    "Again, we use `yield` to temporarily return from a function.\n"
   ]
  },
  {
   "cell_type": "markdown",
   "metadata": {},
   "source": [
    "## Decorators"
   ]
  },
  {
   "cell_type": "markdown",
   "metadata": {},
   "source": [
    "\n",
    "When doing functional programming, we may often want to define mutator\n",
    "functions which take in one function and return a new function, such as our\n",
    "derivative example earlier.\n",
    "\n",
    "\n"
   ]
  },
  {
   "cell_type": "code",
   "execution_count": 38,
   "metadata": {},
   "outputs": [
    {
     "name": "stdout",
     "output_type": "stream",
     "text": [
      "Hello, Cleese\n",
      "Hello, Hello, Cleese\n"
     ]
    }
   ],
   "source": [
    "def repeat(func):\n",
    "    def _repeated(x):\n",
    "        return func(func(x))\n",
    "\n",
    "    return _repeated\n",
    "\n",
    "\n",
    "def hello(name):\n",
    "    return f\"Hello, {name}\"\n",
    "\n",
    "\n",
    "print(hello(\"Cleese\"))\n",
    "print(repeat(hello)(\"Cleese\"))"
   ]
  },
  {
   "cell_type": "markdown",
   "metadata": {},
   "source": [
    "Any function which accepts a function as its first argument and returns a function can be used as a **decorator** like this:"
   ]
  },
  {
   "cell_type": "code",
   "execution_count": 39,
   "metadata": {},
   "outputs": [
    {
     "data": {
      "text/plain": [
       "'Hello, Hello, Cleese'"
      ]
     },
     "execution_count": 39,
     "metadata": {},
     "output_type": "execute_result"
    }
   ],
   "source": [
    "@repeat\n",
    "def hello(name):\n",
    "    return f\"Hello, {name}\"\n",
    "\n",
    "\n",
    "hello(\"Cleese\")"
   ]
  },
  {
   "cell_type": "markdown",
   "metadata": {},
   "source": [
    "We could also modify this to create a decorator that takes an argument specifying how many times the function should be repeated: "
   ]
  },
  {
   "cell_type": "code",
   "execution_count": 40,
   "metadata": {},
   "outputs": [],
   "source": [
    "def repeater(count):\n",
    "    def wrap_function_in_repeat(func):\n",
    "        def _repeated(x):\n",
    "            counter = count\n",
    "            while counter > 0:\n",
    "                counter -= 1\n",
    "                x = func(x)\n",
    "            return x\n",
    "\n",
    "        return _repeated\n",
    "\n",
    "    return wrap_function_in_repeat"
   ]
  },
  {
   "cell_type": "code",
   "execution_count": 41,
   "metadata": {},
   "outputs": [
    {
     "data": {
      "text/plain": [
       "1.000000000000004"
      ]
     },
     "execution_count": 41,
     "metadata": {},
     "output_type": "execute_result"
    }
   ],
   "source": [
    "from math import sqrt\n",
    "\n",
    "fiftytimes = repeater(50)\n",
    "fiftyroots = fiftytimes(sqrt)\n",
    "\n",
    "fiftyroots(100)"
   ]
  },
  {
   "cell_type": "code",
   "execution_count": 42,
   "metadata": {},
   "outputs": [
    {
     "data": {
      "text/plain": [
       "'Hello, Hello, Hello, Cleese'"
      ]
     },
     "execution_count": 42,
     "metadata": {},
     "output_type": "execute_result"
    }
   ],
   "source": [
    "@repeater(3)\n",
    "def hello(name):\n",
    "    return f\"Hello, {name}\"\n",
    "\n",
    "\n",
    "hello(\"Cleese\")"
   ]
  },
  {
   "cell_type": "markdown",
   "metadata": {},
   "source": [
    "It turns out that, quite often, we want to apply one of these to a function as we're defining a class.\n",
    "For example, we may want to specify that after certain methods are called, data should always be stored.\n",
    "\n",
    "Much of Python's standard functionality is implemented as decorators: we've\n",
    "seen `@contextmanager`, `@classmethod` and `@attribute`. The `@contextmanager`\n",
    "metafunction, for example, takes in an iterator, and yields a class conforming\n",
    "to the context manager protocol.\n",
    "\n"
   ]
  },
  {
   "cell_type": "markdown",
   "metadata": {},
   "source": [
    "# Supplementary material\n",
    "\n",
    "The remainder of this page contains an example of the flexibility of the features discussed above. Specifically, it shows how generators and context managers can be combined to create a testing framework like the one previously seen in the course."
   ]
  },
  {
   "cell_type": "markdown",
   "metadata": {},
   "source": [
    "## Test generators\n",
    "\n",
    "Earlier in the course we saw a test which loaded its test cases from a YAML file and asserted each input with each output.\n",
    "This was nice and concise, but had one flaw: we had just one test, covering all the fixtures, so we got just one `.` in the test output when we ran the tests, and if any test failed, the rest were not run.\n",
    "We can do a nicer job with a test **generator**:"
   ]
  },
  {
   "cell_type": "code",
   "execution_count": 43,
   "metadata": {},
   "outputs": [],
   "source": [
    "import os\n",
    "\n",
    "\n",
    "def assert_exemplar(**fixture):\n",
    "    answer = fixture.pop(\"answer\")\n",
    "    assert_equal(greet(**fixture), answer)\n",
    "\n",
    "\n",
    "def test_greeter():\n",
    "    with open(\n",
    "        os.path.join(os.path.dirname(__file__), \"fixtures\", \"samples.yaml\")\n",
    "    ) as fixtures_file:\n",
    "        fixtures = yaml.safe_load(fixtures_file)\n",
    "\n",
    "        for fixture in fixtures:\n",
    "            yield assert_exemplar(**fixture)"
   ]
  },
  {
   "cell_type": "markdown",
   "metadata": {},
   "source": [
    "Each time a function beginning with `test_` does a `yield` it results in another test."
   ]
  },
  {
   "cell_type": "markdown",
   "metadata": {},
   "source": [
    "## Negative test contexts managers"
   ]
  },
  {
   "cell_type": "markdown",
   "metadata": {},
   "source": [
    "We have seen this:"
   ]
  },
  {
   "cell_type": "code",
   "execution_count": 44,
   "metadata": {},
   "outputs": [],
   "source": [
    "from pytest import raises\n",
    "\n",
    "with raises(AttributeError):\n",
    "    x = 2\n",
    "    x.foo()"
   ]
  },
  {
   "cell_type": "markdown",
   "metadata": {},
   "source": [
    "We can now see how `pytest` might have implemented this:"
   ]
  },
  {
   "cell_type": "code",
   "execution_count": 45,
   "metadata": {},
   "outputs": [],
   "source": [
    "@contextmanager\n",
    "def reimplement_raises(exception):\n",
    "    try:\n",
    "        yield\n",
    "    except exception:\n",
    "        pass\n",
    "    else:\n",
    "        raise Exception(\"Expected,\", exception, \" to be raised, nothing was.\")"
   ]
  },
  {
   "cell_type": "code",
   "execution_count": 46,
   "metadata": {},
   "outputs": [],
   "source": [
    "with reimplement_raises(AttributeError):\n",
    "    x = 2\n",
    "    x.foo()"
   ]
  },
  {
   "cell_type": "markdown",
   "metadata": {},
   "source": [
    "## Skip test decorators"
   ]
  },
  {
   "cell_type": "markdown",
   "metadata": {},
   "source": [
    "Some frameworks also implement decorators for skipping tests or dealing with tests that are known to raise exceptions (due to known bugs or limitations). For example:"
   ]
  },
  {
   "cell_type": "code",
   "execution_count": 47,
   "metadata": {},
   "outputs": [
    {
     "name": "stdout",
     "output_type": "stream",
     "text": [
      "Overwriting test_skipped.py\n"
     ]
    }
   ],
   "source": [
    "%%writefile test_skipped.py\n",
    "import pytest\n",
    "import sys\n",
    "\n",
    "\n",
    "@pytest.mark.skipif(sys.version_info < (4, 0), reason=\"requires python 4\")\n",
    "def test_python_4():\n",
    "    raise RuntimeError(\"something went wrong\")"
   ]
  },
  {
   "cell_type": "code",
   "execution_count": 48,
   "metadata": {},
   "outputs": [
    {
     "name": "stdout",
     "output_type": "stream",
     "text": [
      "\u001b[1m============================= test session starts ==============================\u001b[0m\r\n",
      "platform linux -- Python 3.8.14, pytest-7.2.0, pluggy-1.0.0\r\n",
      "rootdir: /home/runner/work/rse-course/rse-course/module08_advanced_programming_techniques\r\n",
      "plugins: anyio-3.6.2, pylama-8.4.1, cov-4.0.0\r\n",
      "\u001b[1mcollecting ... \u001b[0m\u001b[1m\r",
      "collected 1 item                                                               \u001b[0m\r\n",
      "\r\n",
      "test_skipped.py \u001b[33ms\u001b[0m\u001b[33m                                                        [100%]\u001b[0m\r\n",
      "\r\n",
      "\u001b[33m============================== \u001b[33m\u001b[1m1 skipped\u001b[0m\u001b[33m in 0.01s\u001b[0m\u001b[33m ==============================\u001b[0m\r\n",
      "\u001b[0m"
     ]
    }
   ],
   "source": [
    "! pytest test_skipped.py"
   ]
  },
  {
   "cell_type": "code",
   "execution_count": 49,
   "metadata": {},
   "outputs": [
    {
     "name": "stdout",
     "output_type": "stream",
     "text": [
      "Overwriting test_not_skipped.py\n"
     ]
    }
   ],
   "source": [
    "%%writefile test_not_skipped.py\n",
    "import pytest\n",
    "import sys\n",
    "\n",
    "\n",
    "@pytest.mark.skipif(sys.version_info < (3, 0), reason=\"requires python 3\")\n",
    "def test_python_3():\n",
    "    raise RuntimeError(\"something went wrong\")"
   ]
  },
  {
   "cell_type": "code",
   "execution_count": 50,
   "metadata": {
    "tags": [
     "raises-exception"
    ]
   },
   "outputs": [
    {
     "name": "stdout",
     "output_type": "stream",
     "text": [
      "\u001b[1m============================= test session starts ==============================\u001b[0m\r\n",
      "platform linux -- Python 3.8.14, pytest-7.2.0, pluggy-1.0.0\r\n",
      "rootdir: /home/runner/work/rse-course/rse-course/module08_advanced_programming_techniques\r\n",
      "plugins: anyio-3.6.2, pylama-8.4.1, cov-4.0.0\r\n",
      "\u001b[1mcollecting ... \u001b[0m\u001b[1m\r",
      "collected 1 item                                                               \u001b[0m\r\n",
      "\r\n",
      "test_not_skipped.py "
     ]
    },
    {
     "name": "stdout",
     "output_type": "stream",
     "text": [
      "\u001b[31mF\u001b[0m\u001b[31m                                                    [100%]\u001b[0m\r\n",
      "\r\n",
      "=================================== FAILURES ===================================\r\n",
      "\u001b[31m\u001b[1m________________________________ test_python_3 _________________________________\u001b[0m\r\n",
      "\r\n"
     ]
    },
    {
     "name": "stdout",
     "output_type": "stream",
     "text": [
      "    \u001b[37m@pytest\u001b[39;49;00m.mark.skipif(sys.version_info < (\u001b[94m3\u001b[39;49;00m, \u001b[94m0\u001b[39;49;00m), reason=\u001b[33m\"\u001b[39;49;00m\u001b[33mrequires python 3\u001b[39;49;00m\u001b[33m\"\u001b[39;49;00m)\r\n",
      "    \u001b[94mdef\u001b[39;49;00m \u001b[92mtest_python_3\u001b[39;49;00m():\r\n",
      ">       \u001b[94mraise\u001b[39;49;00m \u001b[96mRuntimeError\u001b[39;49;00m(\u001b[33m\"\u001b[39;49;00m\u001b[33msomething went wrong\u001b[39;49;00m\u001b[33m\"\u001b[39;49;00m)\r\n",
      "\u001b[1m\u001b[31mE       RuntimeError: something went wrong\u001b[0m\r\n",
      "\r\n",
      "\u001b[1m\u001b[31mtest_not_skipped.py\u001b[0m:7: RuntimeError\r\n",
      "\u001b[36m\u001b[1m=========================== short test summary info ============================\u001b[0m\r\n",
      "\u001b[31mFAILED\u001b[0m test_not_skipped.py::\u001b[1mtest_python_3\u001b[0m - RuntimeError: something went wrong\r\n",
      "\u001b[31m============================== \u001b[31m\u001b[1m1 failed\u001b[0m\u001b[31m in 0.14s\u001b[0m\u001b[31m ===============================\u001b[0m\r\n",
      "\u001b[0m"
     ]
    }
   ],
   "source": [
    "! pytest test_not_skipped.py"
   ]
  },
  {
   "cell_type": "markdown",
   "metadata": {},
   "source": [
    "We could reimplement this ourselves now too:"
   ]
  },
  {
   "cell_type": "code",
   "execution_count": 51,
   "metadata": {},
   "outputs": [],
   "source": [
    "def homemade_skip_decorator(skip):\n",
    "    def wrap_function(func):\n",
    "        if skip:\n",
    "            # if the test should be skipped, return a function\n",
    "            # that just prints a message\n",
    "            def do_nothing(*args):\n",
    "                print(\"test was skipped\")\n",
    "\n",
    "            return do_nothing\n",
    "        # otherwise use the original function as normal\n",
    "        return func\n",
    "\n",
    "    return wrap_function"
   ]
  },
  {
   "cell_type": "code",
   "execution_count": 52,
   "metadata": {},
   "outputs": [
    {
     "name": "stdout",
     "output_type": "stream",
     "text": [
      "test was skipped\n"
     ]
    }
   ],
   "source": [
    "@homemade_skip_decorator(3.9 < 4.0)\n",
    "def test_skipped():\n",
    "    raise RuntimeError(\"This test is skipped\")\n",
    "\n",
    "\n",
    "test_skipped()"
   ]
  },
  {
   "cell_type": "code",
   "execution_count": 53,
   "metadata": {},
   "outputs": [
    {
     "ename": "RuntimeError",
     "evalue": "This test is run",
     "output_type": "error",
     "traceback": [
      "\u001b[0;31m---------------------------------------------------------------------------\u001b[0m",
      "\u001b[0;31mRuntimeError\u001b[0m                              Traceback (most recent call last)",
      "Cell \u001b[0;32mIn [53], line 6\u001b[0m\n\u001b[1;32m      1\u001b[0m \u001b[38;5;129m@homemade_skip_decorator\u001b[39m(\u001b[38;5;241m3.9\u001b[39m \u001b[38;5;241m<\u001b[39m \u001b[38;5;241m3.0\u001b[39m)\n\u001b[1;32m      2\u001b[0m \u001b[38;5;28;01mdef\u001b[39;00m \u001b[38;5;21mtest_runs\u001b[39m():\n\u001b[1;32m      3\u001b[0m     \u001b[38;5;28;01mraise\u001b[39;00m \u001b[38;5;167;01mRuntimeError\u001b[39;00m(\u001b[38;5;124m\"\u001b[39m\u001b[38;5;124mThis test is run\u001b[39m\u001b[38;5;124m\"\u001b[39m)\n\u001b[0;32m----> 6\u001b[0m \u001b[43mtest_runs\u001b[49m\u001b[43m(\u001b[49m\u001b[43m)\u001b[49m\n",
      "Cell \u001b[0;32mIn [53], line 3\u001b[0m, in \u001b[0;36mtest_runs\u001b[0;34m()\u001b[0m\n\u001b[1;32m      1\u001b[0m \u001b[38;5;129m@homemade_skip_decorator\u001b[39m(\u001b[38;5;241m3.9\u001b[39m \u001b[38;5;241m<\u001b[39m \u001b[38;5;241m3.0\u001b[39m)\n\u001b[1;32m      2\u001b[0m \u001b[38;5;28;01mdef\u001b[39;00m \u001b[38;5;21mtest_runs\u001b[39m():\n\u001b[0;32m----> 3\u001b[0m     \u001b[38;5;28;01mraise\u001b[39;00m \u001b[38;5;167;01mRuntimeError\u001b[39;00m(\u001b[38;5;124m\"\u001b[39m\u001b[38;5;124mThis test is run\u001b[39m\u001b[38;5;124m\"\u001b[39m)\n",
      "\u001b[0;31mRuntimeError\u001b[0m: This test is run"
     ]
    }
   ],
   "source": [
    "@homemade_skip_decorator(3.9 < 3.0)\n",
    "def test_runs():\n",
    "    raise RuntimeError(\"This test is run\")\n",
    "\n",
    "\n",
    "test_runs()"
   ]
  }
 ],
 "metadata": {
  "jekyll": {
   "display_name": "Iterators, Generators, Decorators, and Contexts"
  },
  "kernelspec": {
   "display_name": "Python 3 (ipykernel)",
   "language": "python",
   "name": "python3"
  },
  "language_info": {
   "codemirror_mode": {
    "name": "ipython",
    "version": 3
   },
   "file_extension": ".py",
   "mimetype": "text/x-python",
   "name": "python",
   "nbconvert_exporter": "python",
   "pygments_lexer": "ipython3",
   "version": "3.8.14"
  }
 },
 "nbformat": 4,
 "nbformat_minor": 1
}