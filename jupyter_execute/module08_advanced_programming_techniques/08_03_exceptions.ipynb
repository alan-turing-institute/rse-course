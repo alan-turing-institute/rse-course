{
 "cells": [
  {
   "cell_type": "markdown",
   "metadata": {},
   "source": [
    "# 8.3 Exceptions"
   ]
  },
  {
   "cell_type": "markdown",
   "metadata": {},
   "source": [
    "*Estimated time for this notebook: 15 minutes*"
   ]
  },
  {
   "cell_type": "markdown",
   "metadata": {},
   "source": [
    "\n",
    "When we learned about testing, we saw that Python complains when things go wrong by raising an \"Exception\" naming a type of error:\n",
    "\n",
    "\n"
   ]
  },
  {
   "cell_type": "code",
   "execution_count": 1,
   "metadata": {
    "tags": [
     "raises-exception"
    ]
   },
   "outputs": [
    {
     "ename": "ZeroDivisionError",
     "evalue": "division by zero",
     "output_type": "error",
     "traceback": [
      "\u001b[0;31m---------------------------------------------------------------------------\u001b[0m",
      "\u001b[0;31mZeroDivisionError\u001b[0m                         Traceback (most recent call last)",
      "Cell \u001b[0;32mIn[1], line 1\u001b[0m\n\u001b[0;32m----> 1\u001b[0m \u001b[38;5;241;43m1\u001b[39;49m\u001b[43m \u001b[49m\u001b[38;5;241;43m/\u001b[39;49m\u001b[43m \u001b[49m\u001b[38;5;241;43m0\u001b[39;49m\n",
      "\u001b[0;31mZeroDivisionError\u001b[0m: division by zero"
     ]
    }
   ],
   "source": [
    "1 / 0"
   ]
  },
  {
   "cell_type": "markdown",
   "metadata": {},
   "source": [
    "Exceptions are objects, forming a [class hierarchy](https://docs.python.org/3/library/exceptions.html#exception-hierarchy). We just raised an instance\n",
    "of the `ZeroDivisionError` class, making the program crash. If we want more\n",
    "information about where this class fits in the hierarchy, we can use [Python's\n",
    "`inspect` module](https://docs.python.org/3/library/inspect.html) to get a chain of classes, from `ZeroDivisionError` up to `object`:"
   ]
  },
  {
   "cell_type": "code",
   "execution_count": 2,
   "metadata": {},
   "outputs": [
    {
     "data": {
      "text/plain": [
       "(ZeroDivisionError, ArithmeticError, Exception, BaseException, object)"
      ]
     },
     "execution_count": 2,
     "metadata": {},
     "output_type": "execute_result"
    }
   ],
   "source": [
    "import inspect\n",
    "\n",
    "inspect.getmro(ZeroDivisionError)"
   ]
  },
  {
   "cell_type": "markdown",
   "metadata": {},
   "source": [
    "\n",
    "\n",
    "So we can see that a zero division error is a particular kind of Arithmetic Error.\n",
    "\n",
    "\n"
   ]
  },
  {
   "cell_type": "code",
   "execution_count": 3,
   "metadata": {
    "tags": [
     "raises-exception"
    ]
   },
   "outputs": [
    {
     "ename": "TypeError",
     "evalue": "'int' object is not iterable",
     "output_type": "error",
     "traceback": [
      "\u001b[0;31m---------------------------------------------------------------------------\u001b[0m",
      "\u001b[0;31mTypeError\u001b[0m                                 Traceback (most recent call last)",
      "Cell \u001b[0;32mIn[3], line 3\u001b[0m\n\u001b[1;32m      1\u001b[0m x \u001b[38;5;241m=\u001b[39m \u001b[38;5;241m1\u001b[39m\n\u001b[0;32m----> 3\u001b[0m \u001b[38;5;28;01mfor\u001b[39;00m y \u001b[38;5;129;01min\u001b[39;00m x:\n\u001b[1;32m      4\u001b[0m     \u001b[38;5;28mprint\u001b[39m(y)\n",
      "\u001b[0;31mTypeError\u001b[0m: 'int' object is not iterable"
     ]
    }
   ],
   "source": [
    "x = 1\n",
    "\n",
    "for y in x:\n",
    "    print(y)"
   ]
  },
  {
   "cell_type": "code",
   "execution_count": 4,
   "metadata": {},
   "outputs": [
    {
     "data": {
      "text/plain": [
       "(TypeError, Exception, BaseException, object)"
      ]
     },
     "execution_count": 4,
     "metadata": {},
     "output_type": "execute_result"
    }
   ],
   "source": [
    "inspect.getmro(TypeError)"
   ]
  },
  {
   "cell_type": "markdown",
   "metadata": {},
   "source": [
    "## Create your own Exception"
   ]
  },
  {
   "cell_type": "markdown",
   "metadata": {},
   "source": [
    "When we were looking at testing, we saw that it is important for code to crash with a meaningful exception type when something is wrong.\n",
    "We raise an Exception with `raise`. Often, we can look for an appropriate exception from the standard set to raise. \n",
    "\n",
    "However, we may want to define our own exceptions. Doing this is as simple as inheriting from Exception (or one of its subclasses):"
   ]
  },
  {
   "cell_type": "code",
   "execution_count": 5,
   "metadata": {
    "tags": [
     "raises-exception"
    ]
   },
   "outputs": [
    {
     "ename": "MyCustomErrorType",
     "evalue": "Problem",
     "output_type": "error",
     "traceback": [
      "\u001b[0;31m---------------------------------------------------------------------------\u001b[0m",
      "\u001b[0;31mMyCustomErrorType\u001b[0m                         Traceback (most recent call last)",
      "Cell \u001b[0;32mIn[5], line 5\u001b[0m\n\u001b[1;32m      1\u001b[0m \u001b[38;5;28;01mclass\u001b[39;00m \u001b[38;5;21;01mMyCustomErrorType\u001b[39;00m(\u001b[38;5;167;01mArithmeticError\u001b[39;00m):\n\u001b[1;32m      2\u001b[0m     \u001b[38;5;28;01mpass\u001b[39;00m\n\u001b[0;32m----> 5\u001b[0m \u001b[38;5;28;01mraise\u001b[39;00m MyCustomErrorType(\u001b[38;5;124m\"\u001b[39m\u001b[38;5;124mProblem\u001b[39m\u001b[38;5;124m\"\u001b[39m)\n",
      "\u001b[0;31mMyCustomErrorType\u001b[0m: Problem"
     ]
    }
   ],
   "source": [
    "class MyCustomErrorType(ArithmeticError):\n",
    "    pass\n",
    "\n",
    "\n",
    "raise MyCustomErrorType(\"Problem\")"
   ]
  },
  {
   "cell_type": "markdown",
   "metadata": {},
   "source": [
    "\n",
    "\n",
    "You can add custom data to your exception:\n",
    "\n",
    "\n"
   ]
  },
  {
   "cell_type": "code",
   "execution_count": 6,
   "metadata": {
    "tags": [
     "raises-exception"
    ]
   },
   "outputs": [
    {
     "ename": "MyCustomErrorType",
     "evalue": "Error, category 404",
     "output_type": "error",
     "traceback": [
      "\u001b[0;31m---------------------------------------------------------------------------\u001b[0m",
      "\u001b[0;31mMyCustomErrorType\u001b[0m                         Traceback (most recent call last)",
      "Cell \u001b[0;32mIn[6], line 9\u001b[0m\n\u001b[1;32m      5\u001b[0m     \u001b[38;5;28;01mdef\u001b[39;00m \u001b[38;5;21m__str__\u001b[39m(\u001b[38;5;28mself\u001b[39m):\n\u001b[1;32m      6\u001b[0m         \u001b[38;5;28;01mreturn\u001b[39;00m \u001b[38;5;124mf\u001b[39m\u001b[38;5;124m\"\u001b[39m\u001b[38;5;124mError, category \u001b[39m\u001b[38;5;132;01m{\u001b[39;00m\u001b[38;5;28mself\u001b[39m\u001b[38;5;241m.\u001b[39mcategory\u001b[38;5;132;01m}\u001b[39;00m\u001b[38;5;124m\"\u001b[39m\n\u001b[0;32m----> 9\u001b[0m \u001b[38;5;28;01mraise\u001b[39;00m MyCustomErrorType(\u001b[38;5;241m404\u001b[39m)\n",
      "\u001b[0;31mMyCustomErrorType\u001b[0m: Error, category 404"
     ]
    }
   ],
   "source": [
    "class MyCustomErrorType(Exception):\n",
    "    def __init__(self, category=None):\n",
    "        self.category = category\n",
    "\n",
    "    def __str__(self):\n",
    "        return f\"Error, category {self.category}\"\n",
    "\n",
    "\n",
    "raise MyCustomErrorType(404)"
   ]
  },
  {
   "cell_type": "markdown",
   "metadata": {},
   "source": [
    "\n",
    "\n",
    "The real power of exceptions comes, however, not in letting them crash the program, but in letting your program handle them. We say that an exception has been \"thrown\" and then \"caught\".\n",
    "\n",
    "\n"
   ]
  },
  {
   "cell_type": "code",
   "execution_count": 7,
   "metadata": {},
   "outputs": [
    {
     "name": "stdout",
     "output_type": "stream",
     "text": [
      "No password file found, using anonymous user.\n",
      "anonymous\n"
     ]
    }
   ],
   "source": [
    "import yaml\n",
    "\n",
    "try:\n",
    "    config = yaml.safe_load(open(\"datasource.yaml\"))\n",
    "    user = config[\"userid\"]\n",
    "    password = config[\"password\"]\n",
    "\n",
    "except FileNotFoundError:\n",
    "    print(\"No password file found, using anonymous user.\")\n",
    "    user = \"anonymous\"\n",
    "    password = None\n",
    "\n",
    "\n",
    "print(user)"
   ]
  },
  {
   "cell_type": "markdown",
   "metadata": {},
   "source": [
    "\n",
    "\n",
    "Note that we specify only the error we expect to happen and want to handle. Sometimes you see code that catches everything:\n",
    "\n",
    "\n"
   ]
  },
  {
   "cell_type": "code",
   "execution_count": 8,
   "metadata": {},
   "outputs": [
    {
     "name": "stdout",
     "output_type": "stream",
     "text": [
      "anonymous\n"
     ]
    }
   ],
   "source": [
    "try:\n",
    "    config = yaml.safe_lod(open(\"datasource.yaml\"))\n",
    "    user = config[\"userid\"]\n",
    "    password = config[\"password\"]\n",
    "except:\n",
    "    user = \"anonymous\"\n",
    "    password = None\n",
    "\n",
    "print(user)"
   ]
  },
  {
   "cell_type": "markdown",
   "metadata": {},
   "source": [
    "This can be dangerous and can make it hard to find errors! There was a mistyped function name there ('`safe_lod`'), but we did not notice the error, as the generic except caught it. \n",
    "Therefore, we should be specific and catch only the type of error we want."
   ]
  },
  {
   "cell_type": "markdown",
   "metadata": {},
   "source": [
    "## Managing multiple exceptions"
   ]
  },
  {
   "cell_type": "markdown",
   "metadata": {},
   "source": [
    "Let's create two credential files to read"
   ]
  },
  {
   "cell_type": "code",
   "execution_count": 9,
   "metadata": {},
   "outputs": [],
   "source": [
    "with open(\"datasource2.yaml\", \"w\") as outfile:\n",
    "    outfile.write(\"userid: eidle\\n\")\n",
    "    outfile.write(\"password: secret\\n\")\n",
    "\n",
    "with open(\"datasource3.yaml\", \"w\") as outfile:\n",
    "    outfile.write(\"user: eidle\\n\")\n",
    "    outfile.write(\"password: secret\\n\")"
   ]
  },
  {
   "cell_type": "markdown",
   "metadata": {},
   "source": [
    "And create a function that reads credentials files and returns the username and password to use."
   ]
  },
  {
   "cell_type": "code",
   "execution_count": 10,
   "metadata": {},
   "outputs": [],
   "source": [
    "def read_credentials(source):\n",
    "    try:\n",
    "        datasource = open(source)\n",
    "        config = yaml.safe_load(datasource)\n",
    "        user = config[\"userid\"]\n",
    "        password = config[\"password\"]\n",
    "        datasource.close()\n",
    "    except FileNotFoundError:\n",
    "        print(\"Password file missing\")\n",
    "        user = \"anonymous\"\n",
    "        password = None\n",
    "    except KeyError:\n",
    "        print(\"Expected keys not found in file\")\n",
    "        user = \"anonymous\"\n",
    "        password = None\n",
    "    return user, password"
   ]
  },
  {
   "cell_type": "code",
   "execution_count": 11,
   "metadata": {},
   "outputs": [
    {
     "name": "stdout",
     "output_type": "stream",
     "text": [
      "('eidle', 'secret')\n"
     ]
    }
   ],
   "source": [
    "print(read_credentials(\"datasource2.yaml\"))"
   ]
  },
  {
   "cell_type": "code",
   "execution_count": 12,
   "metadata": {},
   "outputs": [
    {
     "name": "stdout",
     "output_type": "stream",
     "text": [
      "Password file missing\n",
      "('anonymous', None)\n"
     ]
    }
   ],
   "source": [
    "print(read_credentials(\"datasource.yaml\"))"
   ]
  },
  {
   "cell_type": "code",
   "execution_count": 13,
   "metadata": {},
   "outputs": [
    {
     "name": "stdout",
     "output_type": "stream",
     "text": [
      "Expected keys not found in file\n",
      "('anonymous', None)\n"
     ]
    }
   ],
   "source": [
    "print(read_credentials(\"datasource3.yaml\"))"
   ]
  },
  {
   "cell_type": "markdown",
   "metadata": {},
   "source": [
    "This last code has a flaw: the file was successfully opened, the missing key was noticed, but not explicitly closed. It's normally OK, as Python will close the file as soon as it notices there are no longer any references to datasource in memory, after the function exits. But this is not good practice, you should keep a file handle for as short a time as possible."
   ]
  },
  {
   "cell_type": "code",
   "execution_count": 14,
   "metadata": {},
   "outputs": [],
   "source": [
    "def read_credentials(source):\n",
    "    try:\n",
    "        datasource = open(source)\n",
    "        config = yaml.safe_load(datasource)\n",
    "\n",
    "        try:\n",
    "            print(\"File loaded, trying to extract credentials\")\n",
    "            user = config[\"userid\"]\n",
    "            password = config[\"password\"]\n",
    "        except KeyError:\n",
    "            print(\"Expected keys not found in file\")\n",
    "            user = \"anonymous\"\n",
    "            password = None\n",
    "        finally:\n",
    "            # Runs irrespective of whether keys found\n",
    "            print(\"Closing file\")\n",
    "            datasource.close()\n",
    "\n",
    "    except FileNotFoundError:\n",
    "        print(\"Password file missing\")\n",
    "        user = \"anonymous\"\n",
    "        password = None\n",
    "\n",
    "    return user, password"
   ]
  },
  {
   "cell_type": "markdown",
   "metadata": {},
   "source": [
    "The `finally` clause is executed whether or not an exception occurs.\n",
    "\n",
    "The last optional clause of a `try` statement, an `else` clause is called only if an exception is NOT raised. It can be a better place than the `try` clause to put code other than that which you expect to raise the error, and which you do not want to be executed if the error is raised. It is executed in the same circumstances as code put in the end of the `try` block, the only difference is that errors raised during the `else` clause are not caught."
   ]
  },
  {
   "cell_type": "code",
   "execution_count": 15,
   "metadata": {},
   "outputs": [],
   "source": [
    "def read_credentials(source):\n",
    "    try:\n",
    "        datasource = open(source)\n",
    "\n",
    "    except FileNotFoundError:\n",
    "        print(\"Password file missing\")\n",
    "        user = \"anonymous\"\n",
    "        password = None\n",
    "\n",
    "    else:\n",
    "        # Runs only if opening the file was successful\n",
    "        config = yaml.safe_load(datasource)\n",
    "        try:\n",
    "            print(\"File loaded, trying to extract credentials\")\n",
    "            user = config[\"userid\"]\n",
    "            password = config[\"password\"]\n",
    "        except KeyError:\n",
    "            print(\"Expected keys not found in file\")\n",
    "            user = \"anonymous\"\n",
    "            password = None\n",
    "        finally:\n",
    "            # Runs irrespective of whether keys found\n",
    "            print(\"Closing file\")\n",
    "            datasource.close()\n",
    "\n",
    "    return user, password"
   ]
  },
  {
   "cell_type": "markdown",
   "metadata": {},
   "source": [
    "Don't worry if `else` seems useless to you; most languages' implementations of try/except don't support such a clause. An alternative way of avoiding leaving the file open in the original implementation (and without using `else` or `finally`) is to use a context manager:"
   ]
  },
  {
   "cell_type": "code",
   "execution_count": 16,
   "metadata": {},
   "outputs": [],
   "source": [
    "def read_credentials(source):\n",
    "    try:\n",
    "        with open(source) as datasource:  # closes the file when done\n",
    "            config = yaml.safe_load(datasource)\n",
    "        user = config[\"userid\"]\n",
    "        password = config[\"password\"]\n",
    "    except FileNotFoundError:\n",
    "        print(\"Password file missing\")\n",
    "        user = \"anonymous\"\n",
    "        password = None\n",
    "    except KeyError:\n",
    "        print(\"Expected keys not found in file\")\n",
    "        user = \"anonymous\"\n",
    "        password = None\n",
    "    return user, password"
   ]
  },
  {
   "cell_type": "markdown",
   "metadata": {},
   "source": [
    "## Catching Exceptions Elsewhere\n",
    "\n",
    "Exceptions do not have to be caught close to the part of the program calling\n",
    "them. They can be caught anywhere \"above\" the calling point in\n",
    "the call stack: control can jump arbitrarily far in the program: up to the `except` clause of the \"highest\" containing try statement.\n",
    "\n",
    "\n"
   ]
  },
  {
   "cell_type": "code",
   "execution_count": 17,
   "metadata": {},
   "outputs": [],
   "source": [
    "def f4(x):\n",
    "    if x == 0:\n",
    "        return\n",
    "    if x == 1:\n",
    "        raise ArithmeticError()\n",
    "    if x == 2:\n",
    "        raise SyntaxError()\n",
    "    if x == 3:\n",
    "        raise TypeError()"
   ]
  },
  {
   "cell_type": "code",
   "execution_count": 18,
   "metadata": {},
   "outputs": [],
   "source": [
    "def f3(x):\n",
    "    try:\n",
    "        print(\"F3Before\")\n",
    "        f4(x)\n",
    "        print(\"F3After\")\n",
    "    except ArithmeticError:\n",
    "        print(\"F3Except (💣)\")"
   ]
  },
  {
   "cell_type": "code",
   "execution_count": 19,
   "metadata": {},
   "outputs": [],
   "source": [
    "def f2(x):\n",
    "    try:\n",
    "        print(\"F2Before\")\n",
    "        f3(x)\n",
    "        print(\"F2After\")\n",
    "    except SyntaxError:\n",
    "        print(\"F2Except (💣)\")"
   ]
  },
  {
   "cell_type": "code",
   "execution_count": 20,
   "metadata": {},
   "outputs": [],
   "source": [
    "def f1(x):\n",
    "    try:\n",
    "        print(\"F1Before\")\n",
    "        f2(x)\n",
    "        print(\"F1After\")\n",
    "    except TypeError:\n",
    "        print(\"F1Except (💣)\")"
   ]
  },
  {
   "cell_type": "code",
   "execution_count": 21,
   "metadata": {},
   "outputs": [
    {
     "name": "stdout",
     "output_type": "stream",
     "text": [
      "F1Before\n",
      "F2Before\n",
      "F3Before\n",
      "F3After\n",
      "F2After\n",
      "F1After\n"
     ]
    }
   ],
   "source": [
    "f1(0)"
   ]
  },
  {
   "cell_type": "code",
   "execution_count": 22,
   "metadata": {},
   "outputs": [
    {
     "name": "stdout",
     "output_type": "stream",
     "text": [
      "F1Before\n",
      "F2Before\n",
      "F3Before\n",
      "F3Except (💣)\n",
      "F2After\n",
      "F1After\n"
     ]
    }
   ],
   "source": [
    "f1(1)"
   ]
  },
  {
   "cell_type": "code",
   "execution_count": 23,
   "metadata": {},
   "outputs": [
    {
     "name": "stdout",
     "output_type": "stream",
     "text": [
      "F1Before\n",
      "F2Before\n",
      "F3Before\n",
      "F2Except (💣)\n",
      "F1After\n"
     ]
    }
   ],
   "source": [
    "f1(2)"
   ]
  },
  {
   "cell_type": "code",
   "execution_count": 24,
   "metadata": {},
   "outputs": [
    {
     "name": "stdout",
     "output_type": "stream",
     "text": [
      "F1Before\n",
      "F2Before\n",
      "F3Before\n",
      "F1Except (💣)\n"
     ]
    }
   ],
   "source": [
    "f1(3)"
   ]
  },
  {
   "cell_type": "markdown",
   "metadata": {},
   "source": [
    "## Design with Exceptions"
   ]
  },
  {
   "cell_type": "markdown",
   "metadata": {},
   "source": [
    "\n",
    "Now we know how exceptions work, we need to think about the design implications... How best to use them.\n",
    "\n",
    "Traditional software design theory will tell you that they should only be used\n",
    "to describe and recover from **exceptional** conditions: things going wrong.\n",
    "Normal program flow shouldn't use them.\n",
    "\n",
    "Python's designers take a different view: use of exceptions in normal flow is\n",
    "considered OK. For example, all iterators raise a `StopIteration` exception to\n",
    "indicate the iteration is complete.\n",
    "\n",
    "A commonly recommended Python design pattern is to use exceptions to determine\n",
    "whether an object implements a protocol (concept/interface), rather than testing\n",
    "on type.\n",
    "\n",
    "For example, we might want a function which can be supplied *either* a data\n",
    "series *or* a path to a location on disk where data can be found. We can\n",
    "examine the type of the supplied content:"
   ]
  },
  {
   "cell_type": "code",
   "execution_count": 25,
   "metadata": {},
   "outputs": [],
   "source": [
    "import yaml\n",
    "\n",
    "\n",
    "def analysis(source):\n",
    "    if type(source) == dict:\n",
    "        name = source[\"modelname\"]\n",
    "    else:\n",
    "        content = open(source)\n",
    "        source = yaml.safe_load(content)\n",
    "        name = source[\"modelname\"]\n",
    "    print(name)"
   ]
  },
  {
   "cell_type": "code",
   "execution_count": 26,
   "metadata": {},
   "outputs": [
    {
     "name": "stdout",
     "output_type": "stream",
     "text": [
      "Super\n"
     ]
    }
   ],
   "source": [
    "analysis({\"modelname\": \"Super\"})"
   ]
  },
  {
   "cell_type": "code",
   "execution_count": 27,
   "metadata": {},
   "outputs": [],
   "source": [
    "with open(\"example.yaml\", \"w\") as outfile:\n",
    "    outfile.write(\"modelname: brilliant\\n\")"
   ]
  },
  {
   "cell_type": "code",
   "execution_count": 28,
   "metadata": {},
   "outputs": [
    {
     "name": "stdout",
     "output_type": "stream",
     "text": [
      "brilliant\n"
     ]
    }
   ],
   "source": [
    "analysis(\"example.yaml\")"
   ]
  },
  {
   "cell_type": "markdown",
   "metadata": {},
   "source": [
    "\n",
    "\n",
    "\n",
    "However, we can also use the try-it-and-handle-exceptions approach to this. \n",
    "\n",
    "\n"
   ]
  },
  {
   "cell_type": "code",
   "execution_count": 29,
   "metadata": {},
   "outputs": [
    {
     "name": "stdout",
     "output_type": "stream",
     "text": [
      "brilliant\n"
     ]
    }
   ],
   "source": [
    "def analysis(source):\n",
    "    try:\n",
    "        name = source[\"modelname\"]\n",
    "    except TypeError:\n",
    "        content = open(source)\n",
    "        source = yaml.safe_load(content)\n",
    "        name = source[\"modelname\"]\n",
    "    print(name)\n",
    "\n",
    "\n",
    "analysis(\"example.yaml\")"
   ]
  },
  {
   "cell_type": "markdown",
   "metadata": {},
   "source": [
    "This approach is more extensible, and **behaves properly if we give it some\n",
    "other data-source which responds like a dictionary or string.**"
   ]
  },
  {
   "cell_type": "code",
   "execution_count": 30,
   "metadata": {},
   "outputs": [
    {
     "name": "stdout",
     "output_type": "stream",
     "text": [
      "Amazing\n"
     ]
    }
   ],
   "source": [
    "def analysis(source):\n",
    "    try:\n",
    "        name = source[\"modelname\"]\n",
    "    except TypeError:\n",
    "        # Source was not a dictionary-like object\n",
    "        # Maybe it is a file path\n",
    "        try:\n",
    "            content = open(source)\n",
    "            source = yaml.safe_load(content)\n",
    "            name = source[\"modelname\"]\n",
    "        except IOError:\n",
    "            # Maybe it was already raw YAML content\n",
    "            source = yaml.safe_load(source)\n",
    "            name = source[\"modelname\"]\n",
    "    print(name)\n",
    "\n",
    "\n",
    "analysis(\"modelname: Amazing\")"
   ]
  },
  {
   "cell_type": "markdown",
   "metadata": {},
   "source": [
    "## Re-Raising Exceptions\n",
    "\n",
    "Sometimes we want to catch an error, partially handle it, perhaps add some\n",
    "extra data to the exception, and then re-raise to be caught again further up\n",
    "the call stack. \n",
    "\n",
    "The keyword \"`raise`\" with no argument in an `except:` clause will cause the\n",
    "caught error to be re-thrown. Doing this is the only circumstance where it is\n",
    "safe to do `except:` without catching a specific type of error."
   ]
  },
  {
   "cell_type": "code",
   "execution_count": 31,
   "metadata": {},
   "outputs": [],
   "source": [
    "try:\n",
    "    # Something\n",
    "    pass\n",
    "except:\n",
    "    # Do this code here if anything goes wrong\n",
    "    raise"
   ]
  },
  {
   "cell_type": "markdown",
   "metadata": {},
   "source": [
    "If you want to be more explicit about where the error came from, you can use the `raise from` syntax, which will create a chain of exceptions:"
   ]
  },
  {
   "cell_type": "code",
   "execution_count": 32,
   "metadata": {
    "tags": [
     "raises-exception"
    ]
   },
   "outputs": [
    {
     "ename": "RuntimeError",
     "evalue": "Error in higher function!",
     "output_type": "error",
     "traceback": [
      "\u001b[0;31m---------------------------------------------------------------------------\u001b[0m",
      "\u001b[0;31mValueError\u001b[0m                                Traceback (most recent call last)",
      "Cell \u001b[0;32mIn[32], line 7\u001b[0m, in \u001b[0;36mhigher_function\u001b[0;34m()\u001b[0m\n\u001b[1;32m      6\u001b[0m \u001b[38;5;28;01mtry\u001b[39;00m:\n\u001b[0;32m----> 7\u001b[0m     \u001b[43mlower_function\u001b[49m\u001b[43m(\u001b[49m\u001b[43m)\u001b[49m\n\u001b[1;32m      8\u001b[0m \u001b[38;5;28;01mexcept\u001b[39;00m \u001b[38;5;167;01mValueError\u001b[39;00m \u001b[38;5;28;01mas\u001b[39;00m e:\n",
      "Cell \u001b[0;32mIn[32], line 2\u001b[0m, in \u001b[0;36mlower_function\u001b[0;34m()\u001b[0m\n\u001b[1;32m      1\u001b[0m \u001b[38;5;28;01mdef\u001b[39;00m \u001b[38;5;21mlower_function\u001b[39m():\n\u001b[0;32m----> 2\u001b[0m     \u001b[38;5;28;01mraise\u001b[39;00m \u001b[38;5;167;01mValueError\u001b[39;00m(\u001b[38;5;124m\"\u001b[39m\u001b[38;5;124mError in lower function!\u001b[39m\u001b[38;5;124m\"\u001b[39m)\n",
      "\u001b[0;31mValueError\u001b[0m: Error in lower function!",
      "\nThe above exception was the direct cause of the following exception:\n",
      "\u001b[0;31mRuntimeError\u001b[0m                              Traceback (most recent call last)",
      "Cell \u001b[0;32mIn[32], line 12\u001b[0m\n\u001b[1;32m      8\u001b[0m     \u001b[38;5;28;01mexcept\u001b[39;00m \u001b[38;5;167;01mValueError\u001b[39;00m \u001b[38;5;28;01mas\u001b[39;00m e:\n\u001b[1;32m      9\u001b[0m         \u001b[38;5;28;01mraise\u001b[39;00m \u001b[38;5;167;01mRuntimeError\u001b[39;00m(\u001b[38;5;124m\"\u001b[39m\u001b[38;5;124mError in higher function!\u001b[39m\u001b[38;5;124m\"\u001b[39m) \u001b[38;5;28;01mfrom\u001b[39;00m \u001b[38;5;21;01me\u001b[39;00m\n\u001b[0;32m---> 12\u001b[0m \u001b[43mhigher_function\u001b[49m\u001b[43m(\u001b[49m\u001b[43m)\u001b[49m\n",
      "Cell \u001b[0;32mIn[32], line 9\u001b[0m, in \u001b[0;36mhigher_function\u001b[0;34m()\u001b[0m\n\u001b[1;32m      7\u001b[0m     lower_function()\n\u001b[1;32m      8\u001b[0m \u001b[38;5;28;01mexcept\u001b[39;00m \u001b[38;5;167;01mValueError\u001b[39;00m \u001b[38;5;28;01mas\u001b[39;00m e:\n\u001b[0;32m----> 9\u001b[0m     \u001b[38;5;28;01mraise\u001b[39;00m \u001b[38;5;167;01mRuntimeError\u001b[39;00m(\u001b[38;5;124m\"\u001b[39m\u001b[38;5;124mError in higher function!\u001b[39m\u001b[38;5;124m\"\u001b[39m) \u001b[38;5;28;01mfrom\u001b[39;00m \u001b[38;5;21;01me\u001b[39;00m\n",
      "\u001b[0;31mRuntimeError\u001b[0m: Error in higher function!"
     ]
    }
   ],
   "source": [
    "def lower_function():\n",
    "    raise ValueError(\"Error in lower function!\")\n",
    "\n",
    "\n",
    "def higher_function():\n",
    "    try:\n",
    "        lower_function()\n",
    "    except ValueError as e:\n",
    "        raise RuntimeError(\"Error in higher function!\") from e\n",
    "\n",
    "\n",
    "higher_function()"
   ]
  },
  {
   "cell_type": "markdown",
   "metadata": {},
   "source": [
    "\n",
    "\n",
    "It can be useful to catch and re-throw an error as you go up the chain, doing any clean-up needed for each layer of a program.\n",
    "\n",
    "The error will finally be caught and not re-thrown only at a higher program\n",
    "layer that knows how to recover. This is known as the \"throw low catch high\"\n",
    "principle.\n",
    "\n",
    "\n"
   ]
  }
 ],
 "metadata": {
  "jekyll": {
   "display_name": "Exceptions"
  },
  "kernelspec": {
   "display_name": "Python 3 (ipykernel)",
   "language": "python",
   "name": "python3"
  },
  "language_info": {
   "codemirror_mode": {
    "name": "ipython",
    "version": 3
   },
   "file_extension": ".py",
   "mimetype": "text/x-python",
   "name": "python",
   "nbconvert_exporter": "python",
   "pygments_lexer": "ipython3",
   "version": "3.8.17"
  }
 },
 "nbformat": 4,
 "nbformat_minor": 1
}