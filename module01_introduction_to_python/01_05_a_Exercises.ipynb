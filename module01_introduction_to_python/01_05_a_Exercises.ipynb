{
 "cells": [
  {
   "cell_type": "markdown",
   "id": "98d139f3",
   "metadata": {},
   "source": [
    "## Exercises\n",
    "\n",
    "Try the following"
   ]
  },
  {
   "cell_type": "markdown",
   "id": "d2abb302",
   "metadata": {},
   "source": [
    "Which of the operators `+`, `-`, `*`, and `/` do something useful with the lists `[1, 10, 100]` and `[5, 4, 7]`?"
   ]
  },
  {
   "cell_type": "markdown",
   "id": "8421666b",
   "metadata": {},
   "source": [
    "What happens if you apply the operators `+`, `-`, `*`, `/` to a list and a number?"
   ]
  },
  {
   "cell_type": "markdown",
   "id": "d9215469",
   "metadata": {},
   "source": [
    "What about a string and a string?"
   ]
  },
  {
   "cell_type": "code",
   "execution_count": null,
   "id": "54969146",
   "metadata": {},
   "outputs": [],
   "source": []
  }
 ],
 "metadata": {
  "kernelspec": {
   "display_name": "Python 3",
   "language": "python",
   "name": "python3"
  },
  "language_info": {
   "codemirror_mode": {
    "name": "ipython",
    "version": 3
   },
   "file_extension": ".py",
   "mimetype": "text/x-python",
   "name": "python",
   "nbconvert_exporter": "python",
   "pygments_lexer": "ipython3",
   "version": "3.9.9"
  }
 },
 "nbformat": 4,
 "nbformat_minor": 5
}
