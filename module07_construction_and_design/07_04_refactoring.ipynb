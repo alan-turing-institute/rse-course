{
 "cells": [
  {
   "cell_type": "markdown",
   "metadata": {},
   "source": [
    "# Refactoring"
   ]
  },
  {
   "cell_type": "markdown",
   "metadata": {},
   "source": [
    "Let's put ourselves in an scenario - that you've probably been in before. Imagine you are changing a large piece of legacy code that's not well structured, introducing many changes at once, trying to keep in your head all the bits and pieces that need to be modified to make it all work again. And suddenly, your officemate comes and ask you to go for coffee... and you've lost all track of what you had in your head and need to start again.\n",
    "\n",
    "Instead of doing so, we could use a more robust approach to go from nasty ugly code to clean code in a safer way."
   ]
  },
  {
   "cell_type": "markdown",
   "metadata": {},
   "source": [
    "## Refactoring"
   ]
  },
  {
   "cell_type": "markdown",
   "metadata": {},
   "source": [
    "\n",
    "To refactor is to:\n",
    "\n",
    "* Make a change to the design of some software\n",
    "* Which improves the structure or readability\n",
    "* But which leaves the actual behaviour of the program completely unchanged.\n",
    "\n"
   ]
  },
  {
   "cell_type": "markdown",
   "metadata": {},
   "source": [
    "## A word from the Master"
   ]
  },
  {
   "cell_type": "markdown",
   "metadata": {},
   "source": [
    "\n",
    "> Refactoring is a controlled technique for improving the design of an existing code base. \n",
    "Its essence is applying a series of small behavior-preserving transformations, each of which \"too small to be worth doing\". \n",
    "However the cumulative effect of each of these transformations is quite significant. \n",
    "By doing them in small steps you reduce the risk of introducing errors. \n",
    "You also avoid having the system broken while you are carrying out the restructuring - \n",
    "which allows you to gradually refactor a system over an extended period of time.\n",
    "\n",
    "-- Martin Fowler [Refactoring](https://martinfowler.com/books/refactoring.html).\n"
   ]
  },
  {
   "cell_type": "markdown",
   "metadata": {},
   "source": [
    "## List of known refactorings"
   ]
  },
  {
   "cell_type": "markdown",
   "metadata": {},
   "source": [
    "\n",
    "The next few sections will present some known refactorings.\n",
    "\n",
    "We'll show before and after code, present any new coding techniques needed to do the refactoring, and describe [*code smells*](https://en.wikipedia.org/wiki/Code_smell): how you know you need to refactor.\n"
   ]
  },
  {
   "cell_type": "markdown",
   "metadata": {},
   "source": [
    "### Replace magic numbers with constants"
   ]
  },
  {
   "cell_type": "markdown",
   "metadata": {},
   "source": [
    "💩**Smell**: Raw numbers appear in your code\n",
    "\n",
    "**before:**\n",
    "\n",
    "```python\n",
    "data = [math.sin(x) for x in np.arange(0, 3.141, 3.141 / 100)]\n",
    "result = [0] * 100\n",
    "for i in range(100):\n",
    "    for j in range(i + 1, 100):\n",
    "        result[j] += data[i] * data[i - j] / 100\n",
    "```\n",
    "\n",
    "**after:**\n",
    "\n",
    "```python\n",
    "resolution = 100\n",
    "pi = 3.141\n",
    "data = [math.sin(x) for x in np.arange(0, pi, pi / resolution)]\n",
    "result = [0] * resolution\n",
    "for i in range(resolution):\n",
    "    for j in range(i + 1, resolution):\n",
    "        result[j] += data[i] * data[i - j] / resolution\n",
    "```"
   ]
  },
  {
   "cell_type": "markdown",
   "metadata": {},
   "source": [
    "### Replace repeated code with a function"
   ]
  },
  {
   "cell_type": "markdown",
   "metadata": {},
   "source": [
    "💩**Smell**: Fragments of repeated code appear.\n",
    "\n",
    "Fragment of model where some birds are chasing each other: if the angle of view of one can see the prey, then start hunting, and if the other see the predator, then start running away.\n",
    "\n",
    "**before:**\n",
    "\n",
    "```python\n",
    "if abs(hawk.facing - starling.facing) < hawk.viewport:\n",
    "    hawk.hunting()\n",
    "\n",
    "if abs(starling.facing - hawk.facing) < starling.viewport:\n",
    "    starling.flee()\n",
    "```\n",
    "\n",
    "**after:**\n",
    "\n",
    "```python\n",
    "def can_see(source, target):\n",
    "    return (source.facing - target.facing) < source.viewport\n",
    "\n",
    "\n",
    "if can_see(hawk, starling):\n",
    "    hawk.hunting()\n",
    "\n",
    "if can_see(starling, hawk):\n",
    "    starling.flee()\n",
    "```"
   ]
  },
  {
   "cell_type": "markdown",
   "metadata": {},
   "source": [
    "### Change of variable name"
   ]
  },
  {
   "cell_type": "markdown",
   "metadata": {},
   "source": [
    "💩**Smell**: Code needs a comment to explain what it is for.\n",
    "\n",
    "**before:**\n",
    "\n",
    "```python\n",
    "z = find(x, y)\n",
    "if z:\n",
    "    ribe(x)\n",
    "```\n",
    "\n",
    "**after:**\n",
    "\n",
    "```python\n",
    "gene = subsequence(chromosome, start_codon)\n",
    "if gene:\n",
    "    transcribe(gene)\n",
    "```"
   ]
  },
  {
   "cell_type": "markdown",
   "metadata": {},
   "source": [
    "### Separate a complex expression into a local variable"
   ]
  },
  {
   "cell_type": "markdown",
   "metadata": {},
   "source": [
    "💩**Smell**: An expression becomes long.\n",
    "\n",
    "**before:**\n",
    "\n",
    "```python\n",
    "if color == \"red\" and fast or big and economy > 40 or price < 5000:\n",
    "    print(\"Vrroom!\")\n",
    "```\n",
    "\n",
    "**after:**\n",
    "\n",
    "```python\n",
    "exciting = color == \"red\" and fast\n",
    "practical = big and economy > 40\n",
    "in_budget = price < 5000\n",
    "\n",
    "if exciting or practical or in_budget:\n",
    "    print(\"Vrroom!\")\n",
    "```"
   ]
  },
  {
   "cell_type": "markdown",
   "metadata": {},
   "source": [
    "### Replace loop with iterator"
   ]
  },
  {
   "cell_type": "markdown",
   "metadata": {},
   "source": [
    "💩**Smell**: Loop variable is an integer from 1 to something.\n",
    "\n",
    "**before:**\n",
    "\n",
    "```python\n",
    "total = 0\n",
    "for i in range(resolution):\n",
    "    total += data[i]\n",
    "```\n",
    "\n",
    "**after:**\n",
    "\n",
    "```python\n",
    "total = 0\n",
    "for value in data:\n",
    "    total += value\n",
    "```"
   ]
  },
  {
   "cell_type": "markdown",
   "metadata": {},
   "source": [
    "### Replace hand-written code with library code"
   ]
  },
  {
   "cell_type": "markdown",
   "metadata": {},
   "source": [
    "💩**Smell**: It feels like surely someone else must have done this at some point.\n",
    "\n",
    "**before:**\n",
    "\n",
    "```python\n",
    "xcoords = [start + i * step for i in range(int((end - start) / step))]\n",
    "```\n",
    "\n",
    "**after:**\n",
    "\n",
    "```python\n",
    "import numpy as np\n",
    "\n",
    "xcoords = np.arange(start, end, step)\n",
    "```\n",
    "\n",
    "See [Numpy](http://docs.scipy.org/doc/numpy/reference/generated/numpy.arange.html),\n",
    "    [Pandas](http://pandas.pydata.org/).\n"
   ]
  },
  {
   "cell_type": "markdown",
   "metadata": {},
   "source": [
    "### Replace set of arrays with array of structures"
   ]
  },
  {
   "cell_type": "markdown",
   "metadata": {},
   "source": [
    "💩**Smell**: A function needs to work corresponding indices of several arrays:\n",
    "\n",
    "**before:**\n",
    "\n",
    "```python\n",
    "def can_see(i, source_angles, target_angles, source_viewports):\n",
    "    return abs(source_angles[i] - target_angles[i]) < source_viewports[i]\n",
    "```\n",
    "\n",
    "**after:**\n",
    "\n",
    "```python\n",
    "def can_see(source, target):\n",
    "    return (source[\"facing\"] - target[\"facing\"]) < source[\"viewport\"]\n",
    "```\n",
    "\n",
    "Warning: this refactoring greatly improves readability but can make code slower,\n",
    "depending on memory layout. Be careful."
   ]
  },
  {
   "cell_type": "markdown",
   "metadata": {},
   "source": [
    "### Replace constants with a configuration file"
   ]
  },
  {
   "cell_type": "markdown",
   "metadata": {},
   "source": [
    "💩**Smell**: You need to change your code file to explore different research scenarios.\n",
    "\n",
    "**before:**"
   ]
  },
  {
   "cell_type": "code",
   "execution_count": 1,
   "metadata": {},
   "outputs": [],
   "source": [
    "flight_speed = 2.0  # mph\n",
    "bounds = [0, 0, 100, 100]\n",
    "turning_circle = 3.0  # m\n",
    "bird_counts = {\"hawk\": 5, \"starling\": 500}"
   ]
  },
  {
   "cell_type": "markdown",
   "metadata": {},
   "source": [
    "**after:**"
   ]
  },
  {
   "cell_type": "code",
   "execution_count": 2,
   "metadata": {},
   "outputs": [
    {
     "name": "stdout",
     "output_type": "stream",
     "text": [
      "Overwriting config.yaml\n"
     ]
    }
   ],
   "source": [
    "%%writefile config.yaml\n",
    "bounds: [0, 0, 100, 100]\n",
    "counts:\n",
    "    hawk: 5\n",
    "    starling: 500\n",
    "speed: 2.0\n",
    "turning_circle: 3.0"
   ]
  },
  {
   "cell_type": "code",
   "execution_count": 3,
   "metadata": {},
   "outputs": [
    {
     "name": "stdout",
     "output_type": "stream",
     "text": [
      "{'bounds': [0, 0, 100, 100], 'counts': {'hawk': 5, 'starling': 500}, 'speed': 2.0, 'turning_circle': 3.0}\n"
     ]
    }
   ],
   "source": [
    "import yaml\n",
    "\n",
    "config = yaml.safe_load(open(\"config.yaml\"))\n",
    "print(config)"
   ]
  },
  {
   "cell_type": "markdown",
   "metadata": {},
   "source": [
    "\n",
    "See [YAML](http://www.yaml.org/) and [PyYaml](http://pyyaml.org/),\n",
    "and [Python's os module](https://docs.python.org/3/library/os.html).\n"
   ]
  },
  {
   "cell_type": "markdown",
   "metadata": {},
   "source": [
    "### Replace global variables with function arguments"
   ]
  },
  {
   "cell_type": "markdown",
   "metadata": {},
   "source": [
    "💩**Smell**: A global variable is assigned and then used inside a called function:\n",
    "\n",
    "**before:**\n",
    "\n",
    "```python\n",
    "viewport = pi / 4\n",
    "\n",
    "if hawk.can_see(starling):\n",
    "    hawk.hunt(starling)\n",
    "\n",
    "\n",
    "class Hawk:\n",
    "    def can_see(self, target):\n",
    "        return (self.facing - target.facing) < viewport\n",
    "```\n",
    "\n",
    "**after:**\n",
    "\n",
    "```python\n",
    "viewport = pi / 4\n",
    "if hawk.can_see(starling, viewport):\n",
    "    hawk.hunt(starling)\n",
    "\n",
    "\n",
    "class Hawk:\n",
    "    def can_see(self, target, viewport):\n",
    "        return (self.facing - target.facing) < viewport\n",
    "```"
   ]
  },
  {
   "cell_type": "markdown",
   "metadata": {},
   "source": [
    "### Merge neighbouring loops"
   ]
  },
  {
   "cell_type": "markdown",
   "metadata": {},
   "source": [
    "💩**Smell**: Two neighbouring loops have the same for statement\n",
    "\n",
    "**before:**\n",
    "\n",
    "```python\n",
    "for bird in birds:\n",
    "    bird.build_nest()\n",
    "\n",
    "for bird in birds:\n",
    "    bird.lay_eggs()\n",
    "```\n",
    "\n",
    "**after:**\n",
    "\n",
    "```python\n",
    "for bird in birds:\n",
    "    bird.build_nest()\n",
    "    bird.lay_eggs()\n",
    "```\n",
    "\n",
    "Though there may be a case where all the nests need to be built before the birds can start laying eggs."
   ]
  },
  {
   "cell_type": "markdown",
   "metadata": {},
   "source": [
    "### Break a large function into smaller units"
   ]
  },
  {
   "cell_type": "markdown",
   "metadata": {},
   "source": [
    "\n",
    "* 💩**Smell**: A function or subroutine no longer fits on a page in your editor.\n",
    "* 💩**Smell**: A line of code is indented more than three levels.\n",
    "* 💩**Smell**: A piece of code interacts with the surrounding code through just a few variables.\n",
    "\n",
    "**before:**\n",
    "\n",
    "```python\n",
    "def do_calculation():\n",
    "    for predator in predators:\n",
    "        for prey in preys:\n",
    "            if predator.can_see(prey):\n",
    "                predator.hunt(prey)\n",
    "            if predator.can_reach(prey):\n",
    "                predator.eat(prey)\n",
    "```\n",
    "\n",
    "**after:**\n",
    "\n",
    "```python\n",
    "def do_calculation():\n",
    "    for predator in predators:\n",
    "        for prey in preys:\n",
    "            predate(predator, prey)\n",
    "\n",
    "\n",
    "def predate(predator, prey):\n",
    "    if predator.can_see(prey):\n",
    "        predator.hunt(prey)\n",
    "    if predator.can_reach(prey):\n",
    "        predator.eat(prey)\n",
    "```"
   ]
  },
  {
   "cell_type": "markdown",
   "metadata": {},
   "source": [
    "### Separate code concepts into files or modules"
   ]
  },
  {
   "cell_type": "markdown",
   "metadata": {},
   "source": [
    "- 💩**Smell**: You find it hard to locate a piece of code.\n",
    "- 💩**Smell**: You get a lot of version control conflicts.\n",
    "\n",
    "**before:**"
   ]
  },
  {
   "cell_type": "code",
   "execution_count": 4,
   "metadata": {},
   "outputs": [],
   "source": [
    "class One:\n",
    "    pass\n",
    "\n",
    "\n",
    "class Two:\n",
    "    def __init__():\n",
    "        self.child = One()"
   ]
  },
  {
   "cell_type": "markdown",
   "metadata": {},
   "source": [
    "**after:**"
   ]
  },
  {
   "cell_type": "code",
   "execution_count": 5,
   "metadata": {},
   "outputs": [
    {
     "name": "stdout",
     "output_type": "stream",
     "text": [
      "Overwriting anotherfile.py\n"
     ]
    }
   ],
   "source": [
    "%%writefile anotherfile.py\n",
    "class One:\n",
    "    pass"
   ]
  },
  {
   "cell_type": "code",
   "execution_count": 6,
   "metadata": {},
   "outputs": [],
   "source": [
    "from anotherfile import One\n",
    "\n",
    "\n",
    "class Two:\n",
    "    def __init__():\n",
    "        self.child = One()"
   ]
  },
  {
   "cell_type": "markdown",
   "metadata": {},
   "source": [
    "### Refactoring is a safe way to improve code"
   ]
  },
  {
   "cell_type": "markdown",
   "metadata": {},
   "source": [
    "\n",
    "You may think you can see how to rewrite a whole codebase to be better.\n",
    "\n",
    "However, you may well get lost halfway through the exercise.\n",
    "\n",
    "By making the changes as small, reversible, incremental steps,\n",
    "you can reach your target design more reliably.\n"
   ]
  },
  {
   "cell_type": "markdown",
   "metadata": {},
   "source": [
    "### Tests and Refactoring"
   ]
  },
  {
   "cell_type": "markdown",
   "metadata": {},
   "source": [
    "\n",
    "Badly structured code cannot be unit tested. There are no \"units\".\n",
    "\n",
    "Before refactoring, ensure you have a robust regression test.\n",
    "\n",
    "This will allow you to *Refactor with confidence*.\n",
    "\n",
    "As you refactor, if you create any new units (functions, modules, classes),\n",
    "add new tests for them.\n"
   ]
  },
  {
   "cell_type": "markdown",
   "metadata": {},
   "source": [
    "### Refactoring Summary"
   ]
  },
  {
   "cell_type": "markdown",
   "metadata": {},
   "source": [
    "\n",
    "* Replace magic numbers with constants\n",
    "* Replace repeated code with a function\n",
    "* Change of variable/function/class name\n",
    "* Replace loop with iterator\n",
    "* Replace hand-written code with library code\n",
    "* Replace set of arrays with array of structures\n",
    "* Replace constants with a configuration file\n",
    "* Replace global variables with function arguments\n",
    "* Break a large function into smaller units\n",
    "* Separate code concepts into files or modules\n",
    "\n",
    "And many more...\n",
    "\n",
    "Read [The Refactoring Book](https://martinfowler.com/books/refactoring.html).\n",
    "\n",
    "\n"
   ]
  }
 ],
 "metadata": {
  "jekyll": {
   "display_name": "Refactoring"
  },
  "kernelspec": {
   "display_name": "Python 3 (ipykernel)",
   "language": "python",
   "name": "python3"
  },
  "language_info": {
   "codemirror_mode": {
    "name": "ipython",
    "version": 3
   },
   "file_extension": ".py",
   "mimetype": "text/x-python",
   "name": "python",
   "nbconvert_exporter": "python",
   "pygments_lexer": "ipython3",
   "version": "3.9.9"
  }
 },
 "nbformat": 4,
 "nbformat_minor": 1
}
