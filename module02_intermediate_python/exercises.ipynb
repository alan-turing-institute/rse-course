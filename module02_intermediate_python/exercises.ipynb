{
 "cells": [
  {
   "cell_type": "markdown",
   "id": "40503a26",
   "metadata": {},
   "source": [
    "# Classroom Exercises"
   ]
  },
  {
   "cell_type": "markdown",
   "id": "1eb1418d",
   "metadata": {},
   "source": [
    "## Exercise 2.0 Comprehensions Occupancy Dictionary"
   ]
  },
  {
   "cell_type": "markdown",
   "id": "fe743c87",
   "metadata": {},
   "source": [
    "In module 1 (1.07) you designed a data structure to represent a maze using dictionaries and lists.\n",
    "\n",
    "The output would have looked similar to this:"
   ]
  },
  {
   "cell_type": "code",
   "execution_count": 4,
   "id": "9719ee1f",
   "metadata": {},
   "outputs": [],
   "source": [
    "house = {\n",
    "    \"living\": {\n",
    "        \"exits\": {\"north\": \"kitchen\", \"outside\": \"garden\", \"upstairs\": \"bedroom\"},\n",
    "        \"people\": [\"James\"],\n",
    "        \"capacity\": 2,\n",
    "    },\n",
    "    \"kitchen\": {\"exits\": {\"south\": \"living\"}, \"people\": [], \"capacity\": 1},\n",
    "    \"garden\": {\"exits\": {\"inside\": \"living\"}, \"people\": [\"Sue\"], \"capacity\": 3},\n",
    "    \"bedroom\": {\n",
    "        \"exits\": {\"downstairs\": \"living\", \"jump\": \"garden\"},\n",
    "        \"people\": [],\n",
    "        \"capacity\": 1,\n",
    "    },\n",
    "}"
   ]
  },
  {
   "cell_type": "markdown",
   "id": "69e57700",
   "metadata": {},
   "source": [
    "## Exercise 2.0 a\n",
    "Take your maze data structure. First write an expression to print out a new dictionary, which holds, for each room, that room's capacity. The output should look like:"
   ]
  },
  {
   "cell_type": "code",
   "execution_count": 2,
   "id": "b13c52ce",
   "metadata": {},
   "outputs": [
    {
     "data": {
      "text/plain": [
       "{'bedroom': 1, 'garden': 3, 'kitchen': 1, 'living': 2}"
      ]
     },
     "execution_count": 2,
     "metadata": {},
     "output_type": "execute_result"
    }
   ],
   "source": [
    "{\"bedroom\": 1, \"garden\": 3, \"kitchen\": 1, \"living\": 2}"
   ]
  },
  {
   "cell_type": "markdown",
   "id": "28eb1357",
   "metadata": {},
   "source": [
    "## Exercise 2.0 b\n",
    "Now, write a program to print out a new dictionary, which gives,\n",
    "for each room's name, the number of people in it. Don't add in a zero value in the dictionary for empty rooms."
   ]
  },
  {
   "cell_type": "markdown",
   "id": "408d5fd2",
   "metadata": {},
   "source": [
    "The output should look similar to:"
   ]
  },
  {
   "cell_type": "code",
   "execution_count": 5,
   "id": "b4c2c806",
   "metadata": {},
   "outputs": [
    {
     "data": {
      "text/plain": [
       "{'garden': 1, 'living': 1}"
      ]
     },
     "execution_count": 5,
     "metadata": {},
     "output_type": "execute_result"
    }
   ],
   "source": [
    "{\"garden\": 1, \"living\": 1}"
   ]
  },
  {
   "cell_type": "markdown",
   "id": "b3e98aca",
   "metadata": {},
   "source": [
    "## Exercise 2.1 Functions"
   ]
  },
  {
   "cell_type": "markdown",
   "id": "81a89020",
   "metadata": {},
   "source": [
    "TODO - Examples with scoping involving mutables, and side effects with appending to lists"
   ]
  },
  {
   "cell_type": "markdown",
   "id": "db44d045",
   "metadata": {},
   "source": [
    "TODO - Read in a room dictionary as kwargs and a few other options as either args or named variables in the correct order and print a sensible output"
   ]
  },
  {
   "cell_type": "markdown",
   "id": "12aba2b9",
   "metadata": {},
   "source": [
    "Write a function that will take the following input and return a list containing only even integers\n",
    "\n",
    "\n",
    "    (1, 1.99999999999, \"three\", 20/5, 5, 6, \"sju\", \"atte\", 9, 10., 11, 12)"
   ]
  },
  {
   "cell_type": "code",
   "execution_count": 79,
   "id": "8427313c",
   "metadata": {},
   "outputs": [
    {
     "data": {
      "text/plain": [
       "[2, 6, 12]"
      ]
     },
     "execution_count": 79,
     "metadata": {},
     "output_type": "execute_result"
    }
   ],
   "source": [
    "def example_funct(*args):\n",
    "    op = [a for a in args if type(a)== int and a%2 == 0]\n",
    "    return op\n",
    "    \n",
    "example_funct(1, 1.99999999999, \"three\", 20/5, 5, 6, \"sju\", \"atte\", 9, 10., 11, 12)"
   ]
  },
  {
   "cell_type": "code",
   "execution_count": 77,
   "id": "46af16dd",
   "metadata": {},
   "outputs": [
    {
     "data": {
      "text/plain": [
       "5.0"
      ]
     },
     "execution_count": 77,
     "metadata": {},
     "output_type": "execute_result"
    }
   ],
   "source": [
    "aa = (1, 2, 3, 5.0, \"q\")\n",
    "q = [a for a in aa if type(a)==int]\n",
    "q\n",
    "# [x - y for x in range(4) for y in range(4) if x >= y]\n",
    "25/5"
   ]
  },
  {
   "cell_type": "markdown",
   "id": "6724ed77",
   "metadata": {},
   "source": [
    "## Exercise 2.2 Using Libraries"
   ]
  },
  {
   "cell_type": "markdown",
   "id": "333e37f3",
   "metadata": {},
   "source": [
    "TODO - see if the following functions are built in or if they need an imported library\n",
    "\n",
    "pi, log base 10 of a positive number and a negative number, average\n",
    "\n",
    "See how each of these modules behaves\n",
    "\n",
    "numpy\n",
    "\n",
    "scipy\n",
    "\n",
    "math\n",
    "\n",
    "statistics\n",
    "\n",
    "\n",
    "when they are tasked to do the following things...\n",
    "\n",
    "\n",
    "(Use dir to look at their attributes and see if you can get the following from them...)\n",
    "\n",
    "\n",
    "\n"
   ]
  },
  {
   "cell_type": "markdown",
   "id": "70e7168d",
   "metadata": {},
   "source": [
    "## Exercise 2.3 Defining Classes\n",
    "\n",
    "In section 2.3 two examples of the maze model were given. Compare the two solutions. \n",
    "\n",
    "Discuss with a partner which you like better, and why. \n",
    "\n",
    "Then, starting from scratch, design your own. \n",
    "\n",
    "What choices did you make that are different from mine?"
   ]
  }
 ],
 "metadata": {
  "kernelspec": {
   "display_name": "Python 3 (ipykernel)",
   "language": "python",
   "name": "python3"
  },
  "language_info": {
   "codemirror_mode": {
    "name": "ipython",
    "version": 3
   },
   "file_extension": ".py",
   "mimetype": "text/x-python",
   "name": "python",
   "nbconvert_exporter": "python",
   "pygments_lexer": "ipython3",
   "version": "3.8.8"
  }
 },
 "nbformat": 4,
 "nbformat_minor": 5
}
