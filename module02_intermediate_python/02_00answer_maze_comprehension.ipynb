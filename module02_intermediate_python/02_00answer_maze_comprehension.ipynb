{
 "cells": [
  {
   "cell_type": "markdown",
   "metadata": {},
   "source": [
    "# Solution"
   ]
  },
  {
   "cell_type": "markdown",
   "metadata": {},
   "source": [
    "With this maze structure:"
   ]
  },
  {
   "cell_type": "code",
   "execution_count": 1,
   "metadata": {},
   "outputs": [],
   "source": [
    "house = {\n",
    "    \"living\": {\n",
    "        \"exits\": {\"north\": \"kitchen\", \"outside\": \"garden\", \"upstairs\": \"bedroom\"},\n",
    "        \"people\": [\"James\"],\n",
    "        \"capacity\": 2,\n",
    "    },\n",
    "    \"kitchen\": {\"exits\": {\"south\": \"living\"}, \"people\": [], \"capacity\": 1},\n",
    "    \"garden\": {\"exits\": {\"inside\": \"living\"}, \"people\": [\"Sue\"], \"capacity\": 3},\n",
    "    \"bedroom\": {\n",
    "        \"exits\": {\"downstairs\": \"living\", \"jump\": \"garden\"},\n",
    "        \"people\": [],\n",
    "        \"capacity\": 1,\n",
    "    },\n",
    "}"
   ]
  },
  {
   "cell_type": "markdown",
   "metadata": {},
   "source": [
    "We can get a simpler dictionary with just capacities like this:"
   ]
  },
  {
   "cell_type": "code",
   "execution_count": 2,
   "metadata": {
    "scrolled": true
   },
   "outputs": [
    {
     "data": {
      "text/plain": [
       "{'living': 2, 'kitchen': 1, 'garden': 3, 'bedroom': 1}"
      ]
     },
     "execution_count": 2,
     "metadata": {},
     "output_type": "execute_result"
    }
   ],
   "source": [
    "{name: room[\"capacity\"] for name, room in house.items()}"
   ]
  },
  {
   "cell_type": "markdown",
   "metadata": {},
   "source": [
    "To get the current number of occupants, we can use a similar dictionary comprehension. Remember that we can *filter* (only keep certain rooms) by adding an `if` clause:"
   ]
  },
  {
   "cell_type": "code",
   "execution_count": 3,
   "metadata": {},
   "outputs": [
    {
     "data": {
      "text/plain": [
       "{'living': 1, 'garden': 1}"
      ]
     },
     "execution_count": 3,
     "metadata": {},
     "output_type": "execute_result"
    }
   ],
   "source": [
    "{name: len(room[\"people\"]) for name, room in house.items() if len(room[\"people\"]) > 0}"
   ]
  }
 ],
 "metadata": {
  "jekyll": {
   "display_name": "Maze comprehension solution"
  },
  "kernelspec": {
   "display_name": "Python 3 (ipykernel)",
   "language": "python",
   "name": "python3"
  },
  "language_info": {
   "codemirror_mode": {
    "name": "ipython",
    "version": 3
   },
   "file_extension": ".py",
   "mimetype": "text/x-python",
   "name": "python",
   "nbconvert_exporter": "python",
   "pygments_lexer": "ipython3",
   "version": "3.8.13"
  }
 },
 "nbformat": 4,
 "nbformat_minor": 4
}
