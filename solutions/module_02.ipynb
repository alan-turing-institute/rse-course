{
 "cells": [
  {
   "cell_type": "markdown",
   "id": "74f3c2e2",
   "metadata": {},
   "source": [
    "# Module 02"
   ]
  },
  {
   "cell_type": "markdown",
   "id": "bad4b2c4",
   "metadata": {},
   "source": [
    "**Exercise 2a/b**"
   ]
  },
  {
   "cell_type": "code",
   "execution_count": 3,
   "id": "bd10bdc1",
   "metadata": {},
   "outputs": [],
   "source": [
    "house = {\n",
    "    \"living\": {\n",
    "        \"exits\": {\"north\": \"kitchen\", \"outside\": \"garden\", \"upstairs\": \"bedroom\"},\n",
    "        \"people\": [\"James\"],\n",
    "        \"capacity\": 2,\n",
    "    },\n",
    "    \"kitchen\": {\"exits\": {\"south\": \"living\"}, \"people\": [], \"capacity\": 1},\n",
    "    \"garden\": {\"exits\": {\"inside\": \"living\"}, \"people\": [\"Sue\"], \"capacity\": 3},\n",
    "    \"bedroom\": {\n",
    "        \"exits\": {\"downstairs\": \"living\", \"jump\": \"garden\"},\n",
    "        \"people\": [],\n",
    "        \"capacity\": 1,\n",
    "    },\n",
    "}"
   ]
  },
  {
   "cell_type": "markdown",
   "id": "a8bd1d6c",
   "metadata": {},
   "source": [
    "**Answer 2a**\n",
    "\n",
    "We can get a simpler dictionary with just capacities like this:"
   ]
  },
  {
   "cell_type": "code",
   "execution_count": 105,
   "id": "a5bc0b48",
   "metadata": {},
   "outputs": [
    {
     "data": {
      "text/plain": [
       "{'living': 2, 'kitchen': 1, 'garden': 3, 'bedroom': 1}"
      ]
     },
     "execution_count": 105,
     "metadata": {},
     "output_type": "execute_result"
    }
   ],
   "source": [
    "{name: room['capacity'] for name, room in house.items()}"
   ]
  },
  {
   "cell_type": "markdown",
   "id": "963669fc",
   "metadata": {},
   "source": [
    "**Answer 2b**\n",
    "\n",
    "To get the current number of occupants, we can use a similar dictionary comprehension. Remember that we can *filter* (only keep certain rooms) by adding an `if` clause:"
   ]
  },
  {
   "cell_type": "code",
   "execution_count": 106,
   "id": "1dde15ef",
   "metadata": {},
   "outputs": [
    {
     "data": {
      "text/plain": [
       "{'living': 1, 'garden': 1}"
      ]
     },
     "execution_count": 106,
     "metadata": {},
     "output_type": "execute_result"
    }
   ],
   "source": [
    "{name: len(room[\"people\"]) for name, room in house.items() if len(room[\"people\"]) > 0}"
   ]
  },
  {
   "cell_type": "markdown",
   "id": "c4f2a50b",
   "metadata": {},
   "source": [
    "**Answer 2c**"
   ]
  },
  {
   "cell_type": "markdown",
   "id": "00731c71",
   "metadata": {},
   "source": [
    "Things to 'notice' here: \n",
    "\n",
    "1.99999 doesn't round, even if you did ```int(1.9999999)``` you would get 1.\n",
    "\n",
    "Strings aren't integers\n",
    "\n",
    "Even though 20 and 5 are integers and they divide to give 4, the result is a float, not an int\n",
    "\n",
    "'10.' is a float not an integer\n",
    "\n",
    "Can do this in one line using comprehension or could make an empty list and append to it."
   ]
  },
  {
   "cell_type": "code",
   "execution_count": 7,
   "id": "cc091bbb",
   "metadata": {},
   "outputs": [
    {
     "data": {
      "text/plain": [
       "[6, 12]"
      ]
     },
     "execution_count": 7,
     "metadata": {},
     "output_type": "execute_result"
    }
   ],
   "source": [
    "def example_funct(*args):\n",
    "    op = [a for a in args if type(a)== int and a%2 == 0]\n",
    "    return op\n",
    "\n",
    "example_funct(1, 1.99999999999, \"three\", 20/5, 5, 6, \"sju\", \"atte\", 9, 10., 11, 12)"
   ]
  },
  {
   "cell_type": "markdown",
   "id": "66d9182e",
   "metadata": {},
   "source": [
    "**Answer 2d**\n",
    "\n",
    "Will have to import libraries.\n",
    "\n",
    "Can use ```dir(X)``` to list the attributes of the modules\n",
    "\n",
    "There will be some depreciation warnings from scipy instructing users to go use numpy or numpy.lib (which can also be investigated via ```dir(np.lib)``` \n",
    "\n",
    "Statistics will return the mean as an integer whereas numpy and scipy will return a float.\n",
    "\n",
    "All return the same value of pi.\n",
    "\n",
    "scipy returns a complex number for the negative log example with an imaginary part of pi.\n",
    "\n",
    "log(+ive) using +12.01 as an example\n",
    "\n",
    "log(-ive) using -11.99 as an example\n",
    "\n",
    "| Module | pi| log(+ive) | log(-ive)| mean|\n",
    "| :-------|:-------------:|:-----:|:-----:|:-----:|\n",
    "|numpy|3.14159...|2.48573...|nan|5.0|\n",
    "|scipy|3.14159...|2.48573...|(2.48407... + 3.14159...j)|5.0|\n",
    "|math|3.14159...|2.48573...|math domain error|§|\n",
    "|statistics|§|2.48573...|math domain error|5|\n",
    "\n",
    "§ module doesn't have method"
   ]
  },
  {
   "cell_type": "markdown",
   "id": "567bd434",
   "metadata": {},
   "source": [
    "**Answer 2f**\n",
    "\n",
    "Something along the lines of this for the original question:"
   ]
  },
  {
   "cell_type": "code",
   "execution_count": 42,
   "id": "8a5d4dc6",
   "metadata": {},
   "outputs": [],
   "source": [
    "import requests\n",
    "import IPython"
   ]
  },
  {
   "cell_type": "code",
   "execution_count": 110,
   "id": "e6fe24b9",
   "metadata": {},
   "outputs": [
    {
     "data": {
      "image/jpeg": "[encoded data removed]",
      "text/plain": [
       "<IPython.core.display.Image object>"
      ]
     },
     "execution_count": 110,
     "metadata": {},
     "output_type": "execute_result"
    }
   ],
   "source": [
    "coordinates_as_lat_lon = [(36.2110,-115.2669),\n",
    "                          (53.0066, 7.1920),\n",
    "                          (41.3908, 2.1631),\n",
    "                          (40.7822, -73.9653),\n",
    "                          (25.8380, 50.6050)]\n",
    "\n",
    "def op_response(lat, lon):\n",
    "    response = requests.get(\n",
    "    \"https://static-maps.yandex.ru:443/1.x\",\n",
    "        params={\n",
    "            \"size\": \"400,400\",  # size of map\n",
    "            \"ll\": str(lon) + \",\" + str(lat),  # longitude & latitude of centre\n",
    "            \"z\": 12,  # zoom level\n",
    "            \"l\": \"sat\",  # map layer (satellite image)\n",
    "            \"lang\": \"en_US\",  # language\n",
    "            },\n",
    "        )\n",
    "    return response.content\n",
    "\n",
    "    \n",
    "op = op_response(*coordinates_as_lat_lon[4])\n",
    "\n",
    "IPython.core.display.Image(op)"
   ]
  },
  {
   "cell_type": "markdown",
   "id": "78c9e563",
   "metadata": {},
   "source": [
    "**Answer 2e**"
   ]
  },
  {
   "cell_type": "code",
   "execution_count": 103,
   "id": "bfac524b",
   "metadata": {},
   "outputs": [],
   "source": [
    "def extended_op_response(lat, lon, zoom=15, opfname=\"tmp.png\"):#, opfname: None):\n",
    "\n",
    "    response = requests.get(\n",
    "    \"https://static-maps.yandex.ru:443/1.x\",\n",
    "        params={\n",
    "            \"size\": \"400,400\",  # size of map\n",
    "            \"ll\": str(lon) + \",\" + str(lat),  # longitude & latitude of centre\n",
    "            \"z\": zoom,  # zoom level\n",
    "            \"l\": \"sat\",  # map layer (satellite image)\n",
    "            \"lang\": \"en_US\",  # language\n",
    "            },\n",
    "        )\n",
    "        \n",
    "    with open(opfname, \"wb\") as png:\n",
    "        png.write(response.content)\n",
    "\n",
    "\n",
    "extended_op_response(*coordinates_as_lat_lon[1], zoom=16, opfname=\"map_picture_1.png\")\n"
   ]
  }
 ],
 "metadata": {
  "kernelspec": {
   "display_name": "Python 3 (ipykernel)",
   "language": "python",
   "name": "python3"
  },
  "language_info": {
   "codemirror_mode": {
    "name": "ipython",
    "version": 3
   },
   "file_extension": ".py",
   "mimetype": "text/x-python",
   "name": "python",
   "nbconvert_exporter": "python",
   "pygments_lexer": "ipython3",
   "version": "3.8.8"
  }
 },
 "nbformat": 4,
 "nbformat_minor": 5
}
